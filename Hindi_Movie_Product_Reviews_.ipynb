{
  "nbformat": 4,
  "nbformat_minor": 0,
  "metadata": {
    "colab": {
      "provenance": [],
      "toc_visible": true
    },
    "kernelspec": {
      "name": "python3",
      "display_name": "Python 3"
    },
    "accelerator": "GPU",
    "widgets": {
      "application/vnd.jupyter.widget-state+json": {
        "6626b16198d24235bc8de57b868e5341": {
          "model_module": "@jupyter-widgets/controls",
          "model_name": "HBoxModel",
          "state": {
            "_view_name": "HBoxView",
            "_dom_classes": [],
            "_model_name": "HBoxModel",
            "_view_module": "@jupyter-widgets/controls",
            "_model_module_version": "1.5.0",
            "_view_count": null,
            "_view_module_version": "1.5.0",
            "box_style": "",
            "layout": "IPY_MODEL_400bdd57488540b49dddec1b0fd49bcd",
            "_model_module": "@jupyter-widgets/controls",
            "children": [
              "IPY_MODEL_fac5704c058b4f459358b65303f0ff59",
              "IPY_MODEL_9cf64bd3476340818d3ba7b7a7f1f77f",
              "IPY_MODEL_f35db86b0f214bf9af33966c07179dff"
            ]
          },
          "model_module_version": "1.5.0"
        },
        "400bdd57488540b49dddec1b0fd49bcd": {
          "model_module": "@jupyter-widgets/base",
          "model_name": "LayoutModel",
          "state": {
            "_view_name": "LayoutView",
            "grid_template_rows": null,
            "right": null,
            "justify_content": null,
            "_view_module": "@jupyter-widgets/base",
            "overflow": null,
            "_model_module_version": "1.2.0",
            "_view_count": null,
            "flex_flow": null,
            "width": null,
            "min_width": null,
            "border": null,
            "align_items": null,
            "bottom": null,
            "_model_module": "@jupyter-widgets/base",
            "top": null,
            "grid_column": null,
            "overflow_y": null,
            "overflow_x": null,
            "grid_auto_flow": null,
            "grid_area": null,
            "grid_template_columns": null,
            "flex": null,
            "_model_name": "LayoutModel",
            "justify_items": null,
            "grid_row": null,
            "max_height": null,
            "align_content": null,
            "visibility": null,
            "align_self": null,
            "height": null,
            "min_height": null,
            "padding": null,
            "grid_auto_rows": null,
            "grid_gap": null,
            "max_width": null,
            "order": null,
            "_view_module_version": "1.2.0",
            "grid_template_areas": null,
            "object_position": null,
            "object_fit": null,
            "grid_auto_columns": null,
            "margin": null,
            "display": null,
            "left": null
          },
          "model_module_version": "1.2.0"
        },
        "fac5704c058b4f459358b65303f0ff59": {
          "model_module": "@jupyter-widgets/controls",
          "model_name": "HTMLModel",
          "state": {
            "_view_name": "HTMLView",
            "style": "IPY_MODEL_8d6840f05ea14e36a7c157107e53c7c4",
            "_dom_classes": [],
            "description": "",
            "_model_name": "HTMLModel",
            "placeholder": "​",
            "_view_module": "@jupyter-widgets/controls",
            "_model_module_version": "1.5.0",
            "value": "100%",
            "_view_count": null,
            "_view_module_version": "1.5.0",
            "description_tooltip": null,
            "_model_module": "@jupyter-widgets/controls",
            "layout": "IPY_MODEL_5b4d04141dc94830b9f13e3393ea1a64"
          },
          "model_module_version": "1.5.0"
        },
        "9cf64bd3476340818d3ba7b7a7f1f77f": {
          "model_module": "@jupyter-widgets/controls",
          "model_name": "FloatProgressModel",
          "state": {
            "_view_name": "ProgressView",
            "style": "IPY_MODEL_1fb7c7e79b9e4402875b35d2ab2915e3",
            "_dom_classes": [],
            "description": "",
            "_model_name": "FloatProgressModel",
            "bar_style": "success",
            "max": 5728,
            "_view_module": "@jupyter-widgets/controls",
            "_model_module_version": "1.5.0",
            "value": 5728,
            "_view_count": null,
            "_view_module_version": "1.5.0",
            "orientation": "horizontal",
            "min": 0,
            "description_tooltip": null,
            "_model_module": "@jupyter-widgets/controls",
            "layout": "IPY_MODEL_48c189f0cb7245c69331e115168ea619"
          },
          "model_module_version": "1.5.0"
        },
        "f35db86b0f214bf9af33966c07179dff": {
          "model_module": "@jupyter-widgets/controls",
          "model_name": "HTMLModel",
          "state": {
            "_view_name": "HTMLView",
            "style": "IPY_MODEL_21b5795f54114ad9b57aa0a87a30e9da",
            "_dom_classes": [],
            "description": "",
            "_model_name": "HTMLModel",
            "placeholder": "​",
            "_view_module": "@jupyter-widgets/controls",
            "_model_module_version": "1.5.0",
            "value": " 5728/5728 [00:19&lt;00:00, 288.15it/s]",
            "_view_count": null,
            "_view_module_version": "1.5.0",
            "description_tooltip": null,
            "_model_module": "@jupyter-widgets/controls",
            "layout": "IPY_MODEL_d47362caeaf74e25bc29f8f914dd5b13"
          },
          "model_module_version": "1.5.0"
        },
        "8d6840f05ea14e36a7c157107e53c7c4": {
          "model_module": "@jupyter-widgets/controls",
          "model_name": "DescriptionStyleModel",
          "state": {
            "_view_name": "StyleView",
            "_model_name": "DescriptionStyleModel",
            "description_width": "",
            "_view_module": "@jupyter-widgets/base",
            "_model_module_version": "1.5.0",
            "_view_count": null,
            "_view_module_version": "1.2.0",
            "_model_module": "@jupyter-widgets/controls"
          },
          "model_module_version": "1.5.0"
        },
        "5b4d04141dc94830b9f13e3393ea1a64": {
          "model_module": "@jupyter-widgets/base",
          "model_name": "LayoutModel",
          "state": {
            "_view_name": "LayoutView",
            "grid_template_rows": null,
            "right": null,
            "justify_content": null,
            "_view_module": "@jupyter-widgets/base",
            "overflow": null,
            "_model_module_version": "1.2.0",
            "_view_count": null,
            "flex_flow": null,
            "width": null,
            "min_width": null,
            "border": null,
            "align_items": null,
            "bottom": null,
            "_model_module": "@jupyter-widgets/base",
            "top": null,
            "grid_column": null,
            "overflow_y": null,
            "overflow_x": null,
            "grid_auto_flow": null,
            "grid_area": null,
            "grid_template_columns": null,
            "flex": null,
            "_model_name": "LayoutModel",
            "justify_items": null,
            "grid_row": null,
            "max_height": null,
            "align_content": null,
            "visibility": null,
            "align_self": null,
            "height": null,
            "min_height": null,
            "padding": null,
            "grid_auto_rows": null,
            "grid_gap": null,
            "max_width": null,
            "order": null,
            "_view_module_version": "1.2.0",
            "grid_template_areas": null,
            "object_position": null,
            "object_fit": null,
            "grid_auto_columns": null,
            "margin": null,
            "display": null,
            "left": null
          },
          "model_module_version": "1.2.0"
        },
        "1fb7c7e79b9e4402875b35d2ab2915e3": {
          "model_module": "@jupyter-widgets/controls",
          "model_name": "ProgressStyleModel",
          "state": {
            "_view_name": "StyleView",
            "_model_name": "ProgressStyleModel",
            "description_width": "",
            "_view_module": "@jupyter-widgets/base",
            "_model_module_version": "1.5.0",
            "_view_count": null,
            "_view_module_version": "1.2.0",
            "bar_color": null,
            "_model_module": "@jupyter-widgets/controls"
          },
          "model_module_version": "1.5.0"
        },
        "48c189f0cb7245c69331e115168ea619": {
          "model_module": "@jupyter-widgets/base",
          "model_name": "LayoutModel",
          "state": {
            "_view_name": "LayoutView",
            "grid_template_rows": null,
            "right": null,
            "justify_content": null,
            "_view_module": "@jupyter-widgets/base",
            "overflow": null,
            "_model_module_version": "1.2.0",
            "_view_count": null,
            "flex_flow": null,
            "width": null,
            "min_width": null,
            "border": null,
            "align_items": null,
            "bottom": null,
            "_model_module": "@jupyter-widgets/base",
            "top": null,
            "grid_column": null,
            "overflow_y": null,
            "overflow_x": null,
            "grid_auto_flow": null,
            "grid_area": null,
            "grid_template_columns": null,
            "flex": null,
            "_model_name": "LayoutModel",
            "justify_items": null,
            "grid_row": null,
            "max_height": null,
            "align_content": null,
            "visibility": null,
            "align_self": null,
            "height": null,
            "min_height": null,
            "padding": null,
            "grid_auto_rows": null,
            "grid_gap": null,
            "max_width": null,
            "order": null,
            "_view_module_version": "1.2.0",
            "grid_template_areas": null,
            "object_position": null,
            "object_fit": null,
            "grid_auto_columns": null,
            "margin": null,
            "display": null,
            "left": null
          },
          "model_module_version": "1.2.0"
        },
        "21b5795f54114ad9b57aa0a87a30e9da": {
          "model_module": "@jupyter-widgets/controls",
          "model_name": "DescriptionStyleModel",
          "state": {
            "_view_name": "StyleView",
            "_model_name": "DescriptionStyleModel",
            "description_width": "",
            "_view_module": "@jupyter-widgets/base",
            "_model_module_version": "1.5.0",
            "_view_count": null,
            "_view_module_version": "1.2.0",
            "_model_module": "@jupyter-widgets/controls"
          },
          "model_module_version": "1.5.0"
        },
        "d47362caeaf74e25bc29f8f914dd5b13": {
          "model_module": "@jupyter-widgets/base",
          "model_name": "LayoutModel",
          "state": {
            "_view_name": "LayoutView",
            "grid_template_rows": null,
            "right": null,
            "justify_content": null,
            "_view_module": "@jupyter-widgets/base",
            "overflow": null,
            "_model_module_version": "1.2.0",
            "_view_count": null,
            "flex_flow": null,
            "width": null,
            "min_width": null,
            "border": null,
            "align_items": null,
            "bottom": null,
            "_model_module": "@jupyter-widgets/base",
            "top": null,
            "grid_column": null,
            "overflow_y": null,
            "overflow_x": null,
            "grid_auto_flow": null,
            "grid_area": null,
            "grid_template_columns": null,
            "flex": null,
            "_model_name": "LayoutModel",
            "justify_items": null,
            "grid_row": null,
            "max_height": null,
            "align_content": null,
            "visibility": null,
            "align_self": null,
            "height": null,
            "min_height": null,
            "padding": null,
            "grid_auto_rows": null,
            "grid_gap": null,
            "max_width": null,
            "order": null,
            "_view_module_version": "1.2.0",
            "grid_template_areas": null,
            "object_position": null,
            "object_fit": null,
            "grid_auto_columns": null,
            "margin": null,
            "display": null,
            "left": null
          },
          "model_module_version": "1.2.0"
        },
        "84b8e14e7cf447f3aaa795b9c8bc7e94": {
          "model_module": "@jupyter-widgets/controls",
          "model_name": "HBoxModel",
          "state": {
            "_view_name": "HBoxView",
            "_dom_classes": [],
            "_model_name": "HBoxModel",
            "_view_module": "@jupyter-widgets/controls",
            "_model_module_version": "1.5.0",
            "_view_count": null,
            "_view_module_version": "1.5.0",
            "box_style": "",
            "layout": "IPY_MODEL_d63897a0fa6b465c97ba1901d7e94a4d",
            "_model_module": "@jupyter-widgets/controls",
            "children": [
              "IPY_MODEL_67cb6ce49e464e1eb013bdcf7f6ace35",
              "IPY_MODEL_12bcd9f68864404b9e170a85c6f28483",
              "IPY_MODEL_01d3b954854c4cc08a44f41fa3ea5e67"
            ]
          },
          "model_module_version": "1.5.0"
        },
        "d63897a0fa6b465c97ba1901d7e94a4d": {
          "model_module": "@jupyter-widgets/base",
          "model_name": "LayoutModel",
          "state": {
            "_view_name": "LayoutView",
            "grid_template_rows": null,
            "right": null,
            "justify_content": null,
            "_view_module": "@jupyter-widgets/base",
            "overflow": null,
            "_model_module_version": "1.2.0",
            "_view_count": null,
            "flex_flow": null,
            "width": null,
            "min_width": null,
            "border": null,
            "align_items": null,
            "bottom": null,
            "_model_module": "@jupyter-widgets/base",
            "top": null,
            "grid_column": null,
            "overflow_y": null,
            "overflow_x": null,
            "grid_auto_flow": null,
            "grid_area": null,
            "grid_template_columns": null,
            "flex": null,
            "_model_name": "LayoutModel",
            "justify_items": null,
            "grid_row": null,
            "max_height": null,
            "align_content": null,
            "visibility": null,
            "align_self": null,
            "height": null,
            "min_height": null,
            "padding": null,
            "grid_auto_rows": null,
            "grid_gap": null,
            "max_width": null,
            "order": null,
            "_view_module_version": "1.2.0",
            "grid_template_areas": null,
            "object_position": null,
            "object_fit": null,
            "grid_auto_columns": null,
            "margin": null,
            "display": null,
            "left": null
          },
          "model_module_version": "1.2.0"
        },
        "67cb6ce49e464e1eb013bdcf7f6ace35": {
          "model_module": "@jupyter-widgets/controls",
          "model_name": "HTMLModel",
          "state": {
            "_view_name": "HTMLView",
            "style": "IPY_MODEL_42705dc12e084dd0bde0b292bca1d1f6",
            "_dom_classes": [],
            "description": "",
            "_model_name": "HTMLModel",
            "placeholder": "​",
            "_view_module": "@jupyter-widgets/controls",
            "_model_module_version": "1.5.0",
            "value": "Epoch 1 of 1: 100%",
            "_view_count": null,
            "_view_module_version": "1.5.0",
            "description_tooltip": null,
            "_model_module": "@jupyter-widgets/controls",
            "layout": "IPY_MODEL_c90f54feece340eb923cc654093895c8"
          },
          "model_module_version": "1.5.0"
        },
        "12bcd9f68864404b9e170a85c6f28483": {
          "model_module": "@jupyter-widgets/controls",
          "model_name": "FloatProgressModel",
          "state": {
            "_view_name": "ProgressView",
            "style": "IPY_MODEL_0c18c213d90b4a149d3b2e9004ae9093",
            "_dom_classes": [],
            "description": "",
            "_model_name": "FloatProgressModel",
            "bar_style": "success",
            "max": 1,
            "_view_module": "@jupyter-widgets/controls",
            "_model_module_version": "1.5.0",
            "value": 1,
            "_view_count": null,
            "_view_module_version": "1.5.0",
            "orientation": "horizontal",
            "min": 0,
            "description_tooltip": null,
            "_model_module": "@jupyter-widgets/controls",
            "layout": "IPY_MODEL_108a37588d1a4869aebb01e1fbed8bdc"
          },
          "model_module_version": "1.5.0"
        },
        "01d3b954854c4cc08a44f41fa3ea5e67": {
          "model_module": "@jupyter-widgets/controls",
          "model_name": "HTMLModel",
          "state": {
            "_view_name": "HTMLView",
            "style": "IPY_MODEL_e2ed5d18ad6e44cbaf2a661f0900207e",
            "_dom_classes": [],
            "description": "",
            "_model_name": "HTMLModel",
            "placeholder": "​",
            "_view_module": "@jupyter-widgets/controls",
            "_model_module_version": "1.5.0",
            "value": " 1/1 [01:09&lt;00:00, 69.61s/it]",
            "_view_count": null,
            "_view_module_version": "1.5.0",
            "description_tooltip": null,
            "_model_module": "@jupyter-widgets/controls",
            "layout": "IPY_MODEL_f3f1e23b633847e28f84374f42931188"
          },
          "model_module_version": "1.5.0"
        },
        "42705dc12e084dd0bde0b292bca1d1f6": {
          "model_module": "@jupyter-widgets/controls",
          "model_name": "DescriptionStyleModel",
          "state": {
            "_view_name": "StyleView",
            "_model_name": "DescriptionStyleModel",
            "description_width": "",
            "_view_module": "@jupyter-widgets/base",
            "_model_module_version": "1.5.0",
            "_view_count": null,
            "_view_module_version": "1.2.0",
            "_model_module": "@jupyter-widgets/controls"
          },
          "model_module_version": "1.5.0"
        },
        "c90f54feece340eb923cc654093895c8": {
          "model_module": "@jupyter-widgets/base",
          "model_name": "LayoutModel",
          "state": {
            "_view_name": "LayoutView",
            "grid_template_rows": null,
            "right": null,
            "justify_content": null,
            "_view_module": "@jupyter-widgets/base",
            "overflow": null,
            "_model_module_version": "1.2.0",
            "_view_count": null,
            "flex_flow": null,
            "width": null,
            "min_width": null,
            "border": null,
            "align_items": null,
            "bottom": null,
            "_model_module": "@jupyter-widgets/base",
            "top": null,
            "grid_column": null,
            "overflow_y": null,
            "overflow_x": null,
            "grid_auto_flow": null,
            "grid_area": null,
            "grid_template_columns": null,
            "flex": null,
            "_model_name": "LayoutModel",
            "justify_items": null,
            "grid_row": null,
            "max_height": null,
            "align_content": null,
            "visibility": null,
            "align_self": null,
            "height": null,
            "min_height": null,
            "padding": null,
            "grid_auto_rows": null,
            "grid_gap": null,
            "max_width": null,
            "order": null,
            "_view_module_version": "1.2.0",
            "grid_template_areas": null,
            "object_position": null,
            "object_fit": null,
            "grid_auto_columns": null,
            "margin": null,
            "display": null,
            "left": null
          },
          "model_module_version": "1.2.0"
        },
        "0c18c213d90b4a149d3b2e9004ae9093": {
          "model_module": "@jupyter-widgets/controls",
          "model_name": "ProgressStyleModel",
          "state": {
            "_view_name": "StyleView",
            "_model_name": "ProgressStyleModel",
            "description_width": "",
            "_view_module": "@jupyter-widgets/base",
            "_model_module_version": "1.5.0",
            "_view_count": null,
            "_view_module_version": "1.2.0",
            "bar_color": null,
            "_model_module": "@jupyter-widgets/controls"
          },
          "model_module_version": "1.5.0"
        },
        "108a37588d1a4869aebb01e1fbed8bdc": {
          "model_module": "@jupyter-widgets/base",
          "model_name": "LayoutModel",
          "state": {
            "_view_name": "LayoutView",
            "grid_template_rows": null,
            "right": null,
            "justify_content": null,
            "_view_module": "@jupyter-widgets/base",
            "overflow": null,
            "_model_module_version": "1.2.0",
            "_view_count": null,
            "flex_flow": null,
            "width": null,
            "min_width": null,
            "border": null,
            "align_items": null,
            "bottom": null,
            "_model_module": "@jupyter-widgets/base",
            "top": null,
            "grid_column": null,
            "overflow_y": null,
            "overflow_x": null,
            "grid_auto_flow": null,
            "grid_area": null,
            "grid_template_columns": null,
            "flex": null,
            "_model_name": "LayoutModel",
            "justify_items": null,
            "grid_row": null,
            "max_height": null,
            "align_content": null,
            "visibility": null,
            "align_self": null,
            "height": null,
            "min_height": null,
            "padding": null,
            "grid_auto_rows": null,
            "grid_gap": null,
            "max_width": null,
            "order": null,
            "_view_module_version": "1.2.0",
            "grid_template_areas": null,
            "object_position": null,
            "object_fit": null,
            "grid_auto_columns": null,
            "margin": null,
            "display": null,
            "left": null
          },
          "model_module_version": "1.2.0"
        },
        "e2ed5d18ad6e44cbaf2a661f0900207e": {
          "model_module": "@jupyter-widgets/controls",
          "model_name": "DescriptionStyleModel",
          "state": {
            "_view_name": "StyleView",
            "_model_name": "DescriptionStyleModel",
            "description_width": "",
            "_view_module": "@jupyter-widgets/base",
            "_model_module_version": "1.5.0",
            "_view_count": null,
            "_view_module_version": "1.2.0",
            "_model_module": "@jupyter-widgets/controls"
          },
          "model_module_version": "1.5.0"
        },
        "f3f1e23b633847e28f84374f42931188": {
          "model_module": "@jupyter-widgets/base",
          "model_name": "LayoutModel",
          "state": {
            "_view_name": "LayoutView",
            "grid_template_rows": null,
            "right": null,
            "justify_content": null,
            "_view_module": "@jupyter-widgets/base",
            "overflow": null,
            "_model_module_version": "1.2.0",
            "_view_count": null,
            "flex_flow": null,
            "width": null,
            "min_width": null,
            "border": null,
            "align_items": null,
            "bottom": null,
            "_model_module": "@jupyter-widgets/base",
            "top": null,
            "grid_column": null,
            "overflow_y": null,
            "overflow_x": null,
            "grid_auto_flow": null,
            "grid_area": null,
            "grid_template_columns": null,
            "flex": null,
            "_model_name": "LayoutModel",
            "justify_items": null,
            "grid_row": null,
            "max_height": null,
            "align_content": null,
            "visibility": null,
            "align_self": null,
            "height": null,
            "min_height": null,
            "padding": null,
            "grid_auto_rows": null,
            "grid_gap": null,
            "max_width": null,
            "order": null,
            "_view_module_version": "1.2.0",
            "grid_template_areas": null,
            "object_position": null,
            "object_fit": null,
            "grid_auto_columns": null,
            "margin": null,
            "display": null,
            "left": null
          },
          "model_module_version": "1.2.0"
        },
        "d28d50cf3fe6424a931ea966b217779b": {
          "model_module": "@jupyter-widgets/controls",
          "model_name": "HBoxModel",
          "state": {
            "_view_name": "HBoxView",
            "_dom_classes": [],
            "_model_name": "HBoxModel",
            "_view_module": "@jupyter-widgets/controls",
            "_model_module_version": "1.5.0",
            "_view_count": null,
            "_view_module_version": "1.5.0",
            "box_style": "",
            "layout": "IPY_MODEL_0c68ce0dac994182a93a5cbb3235caf6",
            "_model_module": "@jupyter-widgets/controls",
            "children": [
              "IPY_MODEL_e066b246d398483bbf8747c121403f25",
              "IPY_MODEL_4c3c5174c10744728cbd739eb4094ef7",
              "IPY_MODEL_d164db88163345df82d54a999d37f3ec"
            ]
          },
          "model_module_version": "1.5.0"
        },
        "0c68ce0dac994182a93a5cbb3235caf6": {
          "model_module": "@jupyter-widgets/base",
          "model_name": "LayoutModel",
          "state": {
            "_view_name": "LayoutView",
            "grid_template_rows": null,
            "right": null,
            "justify_content": null,
            "_view_module": "@jupyter-widgets/base",
            "overflow": null,
            "_model_module_version": "1.2.0",
            "_view_count": null,
            "flex_flow": null,
            "width": null,
            "min_width": null,
            "border": null,
            "align_items": null,
            "bottom": null,
            "_model_module": "@jupyter-widgets/base",
            "top": null,
            "grid_column": null,
            "overflow_y": null,
            "overflow_x": null,
            "grid_auto_flow": null,
            "grid_area": null,
            "grid_template_columns": null,
            "flex": null,
            "_model_name": "LayoutModel",
            "justify_items": null,
            "grid_row": null,
            "max_height": null,
            "align_content": null,
            "visibility": null,
            "align_self": null,
            "height": null,
            "min_height": null,
            "padding": null,
            "grid_auto_rows": null,
            "grid_gap": null,
            "max_width": null,
            "order": null,
            "_view_module_version": "1.2.0",
            "grid_template_areas": null,
            "object_position": null,
            "object_fit": null,
            "grid_auto_columns": null,
            "margin": null,
            "display": null,
            "left": null
          },
          "model_module_version": "1.2.0"
        },
        "e066b246d398483bbf8747c121403f25": {
          "model_module": "@jupyter-widgets/controls",
          "model_name": "HTMLModel",
          "state": {
            "_view_name": "HTMLView",
            "style": "IPY_MODEL_4dd3b98351af4707be22b6665bb67aaa",
            "_dom_classes": [],
            "description": "",
            "_model_name": "HTMLModel",
            "placeholder": "​",
            "_view_module": "@jupyter-widgets/controls",
            "_model_module_version": "1.5.0",
            "value": "Epochs 0/1. Running Loss:    0.5078: 100%",
            "_view_count": null,
            "_view_module_version": "1.5.0",
            "description_tooltip": null,
            "_model_module": "@jupyter-widgets/controls",
            "layout": "IPY_MODEL_dba3833e8d9b4e39aa1fb4a4493f8e99"
          },
          "model_module_version": "1.5.0"
        },
        "4c3c5174c10744728cbd739eb4094ef7": {
          "model_module": "@jupyter-widgets/controls",
          "model_name": "FloatProgressModel",
          "state": {
            "_view_name": "ProgressView",
            "style": "IPY_MODEL_b52188daff7f4b1b86ae9aa040f5dda5",
            "_dom_classes": [],
            "description": "",
            "_model_name": "FloatProgressModel",
            "bar_style": "success",
            "max": 716,
            "_view_module": "@jupyter-widgets/controls",
            "_model_module_version": "1.5.0",
            "value": 716,
            "_view_count": null,
            "_view_module_version": "1.5.0",
            "orientation": "horizontal",
            "min": 0,
            "description_tooltip": null,
            "_model_module": "@jupyter-widgets/controls",
            "layout": "IPY_MODEL_3b666144a1294bd7857054cffe4cbc95"
          },
          "model_module_version": "1.5.0"
        },
        "d164db88163345df82d54a999d37f3ec": {
          "model_module": "@jupyter-widgets/controls",
          "model_name": "HTMLModel",
          "state": {
            "_view_name": "HTMLView",
            "style": "IPY_MODEL_7446d56c9f9d4d6aa8cfb7f2b293f8f5",
            "_dom_classes": [],
            "description": "",
            "_model_name": "HTMLModel",
            "placeholder": "​",
            "_view_module": "@jupyter-widgets/controls",
            "_model_module_version": "1.5.0",
            "value": " 716/716 [01:03&lt;00:00, 11.20it/s]",
            "_view_count": null,
            "_view_module_version": "1.5.0",
            "description_tooltip": null,
            "_model_module": "@jupyter-widgets/controls",
            "layout": "IPY_MODEL_ce684990abf84cdd833c45f6b8e0ca73"
          },
          "model_module_version": "1.5.0"
        },
        "4dd3b98351af4707be22b6665bb67aaa": {
          "model_module": "@jupyter-widgets/controls",
          "model_name": "DescriptionStyleModel",
          "state": {
            "_view_name": "StyleView",
            "_model_name": "DescriptionStyleModel",
            "description_width": "",
            "_view_module": "@jupyter-widgets/base",
            "_model_module_version": "1.5.0",
            "_view_count": null,
            "_view_module_version": "1.2.0",
            "_model_module": "@jupyter-widgets/controls"
          },
          "model_module_version": "1.5.0"
        },
        "dba3833e8d9b4e39aa1fb4a4493f8e99": {
          "model_module": "@jupyter-widgets/base",
          "model_name": "LayoutModel",
          "state": {
            "_view_name": "LayoutView",
            "grid_template_rows": null,
            "right": null,
            "justify_content": null,
            "_view_module": "@jupyter-widgets/base",
            "overflow": null,
            "_model_module_version": "1.2.0",
            "_view_count": null,
            "flex_flow": null,
            "width": null,
            "min_width": null,
            "border": null,
            "align_items": null,
            "bottom": null,
            "_model_module": "@jupyter-widgets/base",
            "top": null,
            "grid_column": null,
            "overflow_y": null,
            "overflow_x": null,
            "grid_auto_flow": null,
            "grid_area": null,
            "grid_template_columns": null,
            "flex": null,
            "_model_name": "LayoutModel",
            "justify_items": null,
            "grid_row": null,
            "max_height": null,
            "align_content": null,
            "visibility": null,
            "align_self": null,
            "height": null,
            "min_height": null,
            "padding": null,
            "grid_auto_rows": null,
            "grid_gap": null,
            "max_width": null,
            "order": null,
            "_view_module_version": "1.2.0",
            "grid_template_areas": null,
            "object_position": null,
            "object_fit": null,
            "grid_auto_columns": null,
            "margin": null,
            "display": null,
            "left": null
          },
          "model_module_version": "1.2.0"
        },
        "b52188daff7f4b1b86ae9aa040f5dda5": {
          "model_module": "@jupyter-widgets/controls",
          "model_name": "ProgressStyleModel",
          "state": {
            "_view_name": "StyleView",
            "_model_name": "ProgressStyleModel",
            "description_width": "",
            "_view_module": "@jupyter-widgets/base",
            "_model_module_version": "1.5.0",
            "_view_count": null,
            "_view_module_version": "1.2.0",
            "bar_color": null,
            "_model_module": "@jupyter-widgets/controls"
          },
          "model_module_version": "1.5.0"
        },
        "3b666144a1294bd7857054cffe4cbc95": {
          "model_module": "@jupyter-widgets/base",
          "model_name": "LayoutModel",
          "state": {
            "_view_name": "LayoutView",
            "grid_template_rows": null,
            "right": null,
            "justify_content": null,
            "_view_module": "@jupyter-widgets/base",
            "overflow": null,
            "_model_module_version": "1.2.0",
            "_view_count": null,
            "flex_flow": null,
            "width": null,
            "min_width": null,
            "border": null,
            "align_items": null,
            "bottom": null,
            "_model_module": "@jupyter-widgets/base",
            "top": null,
            "grid_column": null,
            "overflow_y": null,
            "overflow_x": null,
            "grid_auto_flow": null,
            "grid_area": null,
            "grid_template_columns": null,
            "flex": null,
            "_model_name": "LayoutModel",
            "justify_items": null,
            "grid_row": null,
            "max_height": null,
            "align_content": null,
            "visibility": null,
            "align_self": null,
            "height": null,
            "min_height": null,
            "padding": null,
            "grid_auto_rows": null,
            "grid_gap": null,
            "max_width": null,
            "order": null,
            "_view_module_version": "1.2.0",
            "grid_template_areas": null,
            "object_position": null,
            "object_fit": null,
            "grid_auto_columns": null,
            "margin": null,
            "display": null,
            "left": null
          },
          "model_module_version": "1.2.0"
        },
        "7446d56c9f9d4d6aa8cfb7f2b293f8f5": {
          "model_module": "@jupyter-widgets/controls",
          "model_name": "DescriptionStyleModel",
          "state": {
            "_view_name": "StyleView",
            "_model_name": "DescriptionStyleModel",
            "description_width": "",
            "_view_module": "@jupyter-widgets/base",
            "_model_module_version": "1.5.0",
            "_view_count": null,
            "_view_module_version": "1.2.0",
            "_model_module": "@jupyter-widgets/controls"
          },
          "model_module_version": "1.5.0"
        },
        "ce684990abf84cdd833c45f6b8e0ca73": {
          "model_module": "@jupyter-widgets/base",
          "model_name": "LayoutModel",
          "state": {
            "_view_name": "LayoutView",
            "grid_template_rows": null,
            "right": null,
            "justify_content": null,
            "_view_module": "@jupyter-widgets/base",
            "overflow": null,
            "_model_module_version": "1.2.0",
            "_view_count": null,
            "flex_flow": null,
            "width": null,
            "min_width": null,
            "border": null,
            "align_items": null,
            "bottom": null,
            "_model_module": "@jupyter-widgets/base",
            "top": null,
            "grid_column": null,
            "overflow_y": null,
            "overflow_x": null,
            "grid_auto_flow": null,
            "grid_area": null,
            "grid_template_columns": null,
            "flex": null,
            "_model_name": "LayoutModel",
            "justify_items": null,
            "grid_row": null,
            "max_height": null,
            "align_content": null,
            "visibility": null,
            "align_self": null,
            "height": null,
            "min_height": null,
            "padding": null,
            "grid_auto_rows": null,
            "grid_gap": null,
            "max_width": null,
            "order": null,
            "_view_module_version": "1.2.0",
            "grid_template_areas": null,
            "object_position": null,
            "object_fit": null,
            "grid_auto_columns": null,
            "margin": null,
            "display": null,
            "left": null
          },
          "model_module_version": "1.2.0"
        },
        "7b4d16900b464ffbb3607f32d295a8aa": {
          "model_module": "@jupyter-widgets/controls",
          "model_name": "HBoxModel",
          "state": {
            "_view_name": "HBoxView",
            "_dom_classes": [],
            "_model_name": "HBoxModel",
            "_view_module": "@jupyter-widgets/controls",
            "_model_module_version": "1.5.0",
            "_view_count": null,
            "_view_module_version": "1.5.0",
            "box_style": "",
            "layout": "IPY_MODEL_51387812bcb64ee2b8f9ea63364b89f2",
            "_model_module": "@jupyter-widgets/controls",
            "children": [
              "IPY_MODEL_150d8a6dc59c439c875301b1960dd283",
              "IPY_MODEL_29970fb7167747b4885b24d6c924bdc8",
              "IPY_MODEL_767dad1a2dba4bd6baf3a6b89f66f260"
            ]
          },
          "model_module_version": "1.5.0"
        },
        "51387812bcb64ee2b8f9ea63364b89f2": {
          "model_module": "@jupyter-widgets/base",
          "model_name": "LayoutModel",
          "state": {
            "_view_name": "LayoutView",
            "grid_template_rows": null,
            "right": null,
            "justify_content": null,
            "_view_module": "@jupyter-widgets/base",
            "overflow": null,
            "_model_module_version": "1.2.0",
            "_view_count": null,
            "flex_flow": null,
            "width": null,
            "min_width": null,
            "border": null,
            "align_items": null,
            "bottom": null,
            "_model_module": "@jupyter-widgets/base",
            "top": null,
            "grid_column": null,
            "overflow_y": null,
            "overflow_x": null,
            "grid_auto_flow": null,
            "grid_area": null,
            "grid_template_columns": null,
            "flex": null,
            "_model_name": "LayoutModel",
            "justify_items": null,
            "grid_row": null,
            "max_height": null,
            "align_content": null,
            "visibility": null,
            "align_self": null,
            "height": null,
            "min_height": null,
            "padding": null,
            "grid_auto_rows": null,
            "grid_gap": null,
            "max_width": null,
            "order": null,
            "_view_module_version": "1.2.0",
            "grid_template_areas": null,
            "object_position": null,
            "object_fit": null,
            "grid_auto_columns": null,
            "margin": null,
            "display": null,
            "left": null
          },
          "model_module_version": "1.2.0"
        },
        "150d8a6dc59c439c875301b1960dd283": {
          "model_module": "@jupyter-widgets/controls",
          "model_name": "HTMLModel",
          "state": {
            "_view_name": "HTMLView",
            "style": "IPY_MODEL_050c3685739f494b8f98a912af858134",
            "_dom_classes": [],
            "description": "",
            "_model_name": "HTMLModel",
            "placeholder": "​",
            "_view_module": "@jupyter-widgets/controls",
            "_model_module_version": "1.5.0",
            "value": "100%",
            "_view_count": null,
            "_view_module_version": "1.5.0",
            "description_tooltip": null,
            "_model_module": "@jupyter-widgets/controls",
            "layout": "IPY_MODEL_4d969a8232e4489e86ad1a428a1ff960"
          },
          "model_module_version": "1.5.0"
        },
        "29970fb7167747b4885b24d6c924bdc8": {
          "model_module": "@jupyter-widgets/controls",
          "model_name": "FloatProgressModel",
          "state": {
            "_view_name": "ProgressView",
            "style": "IPY_MODEL_97a74cb0673c4e40ba3b19d61661b7c3",
            "_dom_classes": [],
            "description": "",
            "_model_name": "FloatProgressModel",
            "bar_style": "success",
            "max": 811,
            "_view_module": "@jupyter-widgets/controls",
            "_model_module_version": "1.5.0",
            "value": 811,
            "_view_count": null,
            "_view_module_version": "1.5.0",
            "orientation": "horizontal",
            "min": 0,
            "description_tooltip": null,
            "_model_module": "@jupyter-widgets/controls",
            "layout": "IPY_MODEL_8191090d35884bc5bded9240c36e48b4"
          },
          "model_module_version": "1.5.0"
        },
        "767dad1a2dba4bd6baf3a6b89f66f260": {
          "model_module": "@jupyter-widgets/controls",
          "model_name": "HTMLModel",
          "state": {
            "_view_name": "HTMLView",
            "style": "IPY_MODEL_45c118acb54e4b2a8822c97df6b2f8ed",
            "_dom_classes": [],
            "description": "",
            "_model_name": "HTMLModel",
            "placeholder": "​",
            "_view_module": "@jupyter-widgets/controls",
            "_model_module_version": "1.5.0",
            "value": " 811/811 [00:02&lt;00:00, 283.66it/s]",
            "_view_count": null,
            "_view_module_version": "1.5.0",
            "description_tooltip": null,
            "_model_module": "@jupyter-widgets/controls",
            "layout": "IPY_MODEL_d2bb42b088ff45dfac42247754601da8"
          },
          "model_module_version": "1.5.0"
        },
        "050c3685739f494b8f98a912af858134": {
          "model_module": "@jupyter-widgets/controls",
          "model_name": "DescriptionStyleModel",
          "state": {
            "_view_name": "StyleView",
            "_model_name": "DescriptionStyleModel",
            "description_width": "",
            "_view_module": "@jupyter-widgets/base",
            "_model_module_version": "1.5.0",
            "_view_count": null,
            "_view_module_version": "1.2.0",
            "_model_module": "@jupyter-widgets/controls"
          },
          "model_module_version": "1.5.0"
        },
        "4d969a8232e4489e86ad1a428a1ff960": {
          "model_module": "@jupyter-widgets/base",
          "model_name": "LayoutModel",
          "state": {
            "_view_name": "LayoutView",
            "grid_template_rows": null,
            "right": null,
            "justify_content": null,
            "_view_module": "@jupyter-widgets/base",
            "overflow": null,
            "_model_module_version": "1.2.0",
            "_view_count": null,
            "flex_flow": null,
            "width": null,
            "min_width": null,
            "border": null,
            "align_items": null,
            "bottom": null,
            "_model_module": "@jupyter-widgets/base",
            "top": null,
            "grid_column": null,
            "overflow_y": null,
            "overflow_x": null,
            "grid_auto_flow": null,
            "grid_area": null,
            "grid_template_columns": null,
            "flex": null,
            "_model_name": "LayoutModel",
            "justify_items": null,
            "grid_row": null,
            "max_height": null,
            "align_content": null,
            "visibility": null,
            "align_self": null,
            "height": null,
            "min_height": null,
            "padding": null,
            "grid_auto_rows": null,
            "grid_gap": null,
            "max_width": null,
            "order": null,
            "_view_module_version": "1.2.0",
            "grid_template_areas": null,
            "object_position": null,
            "object_fit": null,
            "grid_auto_columns": null,
            "margin": null,
            "display": null,
            "left": null
          },
          "model_module_version": "1.2.0"
        },
        "97a74cb0673c4e40ba3b19d61661b7c3": {
          "model_module": "@jupyter-widgets/controls",
          "model_name": "ProgressStyleModel",
          "state": {
            "_view_name": "StyleView",
            "_model_name": "ProgressStyleModel",
            "description_width": "",
            "_view_module": "@jupyter-widgets/base",
            "_model_module_version": "1.5.0",
            "_view_count": null,
            "_view_module_version": "1.2.0",
            "bar_color": null,
            "_model_module": "@jupyter-widgets/controls"
          },
          "model_module_version": "1.5.0"
        },
        "8191090d35884bc5bded9240c36e48b4": {
          "model_module": "@jupyter-widgets/base",
          "model_name": "LayoutModel",
          "state": {
            "_view_name": "LayoutView",
            "grid_template_rows": null,
            "right": null,
            "justify_content": null,
            "_view_module": "@jupyter-widgets/base",
            "overflow": null,
            "_model_module_version": "1.2.0",
            "_view_count": null,
            "flex_flow": null,
            "width": null,
            "min_width": null,
            "border": null,
            "align_items": null,
            "bottom": null,
            "_model_module": "@jupyter-widgets/base",
            "top": null,
            "grid_column": null,
            "overflow_y": null,
            "overflow_x": null,
            "grid_auto_flow": null,
            "grid_area": null,
            "grid_template_columns": null,
            "flex": null,
            "_model_name": "LayoutModel",
            "justify_items": null,
            "grid_row": null,
            "max_height": null,
            "align_content": null,
            "visibility": null,
            "align_self": null,
            "height": null,
            "min_height": null,
            "padding": null,
            "grid_auto_rows": null,
            "grid_gap": null,
            "max_width": null,
            "order": null,
            "_view_module_version": "1.2.0",
            "grid_template_areas": null,
            "object_position": null,
            "object_fit": null,
            "grid_auto_columns": null,
            "margin": null,
            "display": null,
            "left": null
          },
          "model_module_version": "1.2.0"
        },
        "45c118acb54e4b2a8822c97df6b2f8ed": {
          "model_module": "@jupyter-widgets/controls",
          "model_name": "DescriptionStyleModel",
          "state": {
            "_view_name": "StyleView",
            "_model_name": "DescriptionStyleModel",
            "description_width": "",
            "_view_module": "@jupyter-widgets/base",
            "_model_module_version": "1.5.0",
            "_view_count": null,
            "_view_module_version": "1.2.0",
            "_model_module": "@jupyter-widgets/controls"
          },
          "model_module_version": "1.5.0"
        },
        "d2bb42b088ff45dfac42247754601da8": {
          "model_module": "@jupyter-widgets/base",
          "model_name": "LayoutModel",
          "state": {
            "_view_name": "LayoutView",
            "grid_template_rows": null,
            "right": null,
            "justify_content": null,
            "_view_module": "@jupyter-widgets/base",
            "overflow": null,
            "_model_module_version": "1.2.0",
            "_view_count": null,
            "flex_flow": null,
            "width": null,
            "min_width": null,
            "border": null,
            "align_items": null,
            "bottom": null,
            "_model_module": "@jupyter-widgets/base",
            "top": null,
            "grid_column": null,
            "overflow_y": null,
            "overflow_x": null,
            "grid_auto_flow": null,
            "grid_area": null,
            "grid_template_columns": null,
            "flex": null,
            "_model_name": "LayoutModel",
            "justify_items": null,
            "grid_row": null,
            "max_height": null,
            "align_content": null,
            "visibility": null,
            "align_self": null,
            "height": null,
            "min_height": null,
            "padding": null,
            "grid_auto_rows": null,
            "grid_gap": null,
            "max_width": null,
            "order": null,
            "_view_module_version": "1.2.0",
            "grid_template_areas": null,
            "object_position": null,
            "object_fit": null,
            "grid_auto_columns": null,
            "margin": null,
            "display": null,
            "left": null
          },
          "model_module_version": "1.2.0"
        },
        "ebf89885f06344c9a1ddf5fd91a24cb8": {
          "model_module": "@jupyter-widgets/controls",
          "model_name": "HBoxModel",
          "state": {
            "_view_name": "HBoxView",
            "_dom_classes": [],
            "_model_name": "HBoxModel",
            "_view_module": "@jupyter-widgets/controls",
            "_model_module_version": "1.5.0",
            "_view_count": null,
            "_view_module_version": "1.5.0",
            "box_style": "",
            "layout": "IPY_MODEL_6d2da655e2c4478c9a2314b53dd88112",
            "_model_module": "@jupyter-widgets/controls",
            "children": [
              "IPY_MODEL_dd948c6c9e684ed88a3742f368195f30",
              "IPY_MODEL_6072b50a373e418ab79ccc4091e80df3",
              "IPY_MODEL_4cda0190efb24470b73ed18184573d76"
            ]
          },
          "model_module_version": "1.5.0"
        },
        "6d2da655e2c4478c9a2314b53dd88112": {
          "model_module": "@jupyter-widgets/base",
          "model_name": "LayoutModel",
          "state": {
            "_view_name": "LayoutView",
            "grid_template_rows": null,
            "right": null,
            "justify_content": null,
            "_view_module": "@jupyter-widgets/base",
            "overflow": null,
            "_model_module_version": "1.2.0",
            "_view_count": null,
            "flex_flow": null,
            "width": null,
            "min_width": null,
            "border": null,
            "align_items": null,
            "bottom": null,
            "_model_module": "@jupyter-widgets/base",
            "top": null,
            "grid_column": null,
            "overflow_y": null,
            "overflow_x": null,
            "grid_auto_flow": null,
            "grid_area": null,
            "grid_template_columns": null,
            "flex": null,
            "_model_name": "LayoutModel",
            "justify_items": null,
            "grid_row": null,
            "max_height": null,
            "align_content": null,
            "visibility": null,
            "align_self": null,
            "height": null,
            "min_height": null,
            "padding": null,
            "grid_auto_rows": null,
            "grid_gap": null,
            "max_width": null,
            "order": null,
            "_view_module_version": "1.2.0",
            "grid_template_areas": null,
            "object_position": null,
            "object_fit": null,
            "grid_auto_columns": null,
            "margin": null,
            "display": null,
            "left": null
          },
          "model_module_version": "1.2.0"
        },
        "dd948c6c9e684ed88a3742f368195f30": {
          "model_module": "@jupyter-widgets/controls",
          "model_name": "HTMLModel",
          "state": {
            "_view_name": "HTMLView",
            "style": "IPY_MODEL_b59c587f35d44ff8b132f6a7285b374b",
            "_dom_classes": [],
            "description": "",
            "_model_name": "HTMLModel",
            "placeholder": "​",
            "_view_module": "@jupyter-widgets/controls",
            "_model_module_version": "1.5.0",
            "value": "100%",
            "_view_count": null,
            "_view_module_version": "1.5.0",
            "description_tooltip": null,
            "_model_module": "@jupyter-widgets/controls",
            "layout": "IPY_MODEL_a5901c122b2a4c9fb9807e1b767dfc85"
          },
          "model_module_version": "1.5.0"
        },
        "6072b50a373e418ab79ccc4091e80df3": {
          "model_module": "@jupyter-widgets/controls",
          "model_name": "FloatProgressModel",
          "state": {
            "_view_name": "ProgressView",
            "style": "IPY_MODEL_58072911b7234bccb57292f0bae423be",
            "_dom_classes": [],
            "description": "",
            "_model_name": "FloatProgressModel",
            "bar_style": "success",
            "max": 102,
            "_view_module": "@jupyter-widgets/controls",
            "_model_module_version": "1.5.0",
            "value": 102,
            "_view_count": null,
            "_view_module_version": "1.5.0",
            "orientation": "horizontal",
            "min": 0,
            "description_tooltip": null,
            "_model_module": "@jupyter-widgets/controls",
            "layout": "IPY_MODEL_9e415ee725504428979688cc2963c060"
          },
          "model_module_version": "1.5.0"
        },
        "4cda0190efb24470b73ed18184573d76": {
          "model_module": "@jupyter-widgets/controls",
          "model_name": "HTMLModel",
          "state": {
            "_view_name": "HTMLView",
            "style": "IPY_MODEL_ea89591c84e84d0886513d97747f5038",
            "_dom_classes": [],
            "description": "",
            "_model_name": "HTMLModel",
            "placeholder": "​",
            "_view_module": "@jupyter-widgets/controls",
            "_model_module_version": "1.5.0",
            "value": " 102/102 [00:01&lt;00:00, 51.31it/s]",
            "_view_count": null,
            "_view_module_version": "1.5.0",
            "description_tooltip": null,
            "_model_module": "@jupyter-widgets/controls",
            "layout": "IPY_MODEL_6c20daab840f4dc7afae656a4e095448"
          },
          "model_module_version": "1.5.0"
        },
        "b59c587f35d44ff8b132f6a7285b374b": {
          "model_module": "@jupyter-widgets/controls",
          "model_name": "DescriptionStyleModel",
          "state": {
            "_view_name": "StyleView",
            "_model_name": "DescriptionStyleModel",
            "description_width": "",
            "_view_module": "@jupyter-widgets/base",
            "_model_module_version": "1.5.0",
            "_view_count": null,
            "_view_module_version": "1.2.0",
            "_model_module": "@jupyter-widgets/controls"
          },
          "model_module_version": "1.5.0"
        },
        "a5901c122b2a4c9fb9807e1b767dfc85": {
          "model_module": "@jupyter-widgets/base",
          "model_name": "LayoutModel",
          "state": {
            "_view_name": "LayoutView",
            "grid_template_rows": null,
            "right": null,
            "justify_content": null,
            "_view_module": "@jupyter-widgets/base",
            "overflow": null,
            "_model_module_version": "1.2.0",
            "_view_count": null,
            "flex_flow": null,
            "width": null,
            "min_width": null,
            "border": null,
            "align_items": null,
            "bottom": null,
            "_model_module": "@jupyter-widgets/base",
            "top": null,
            "grid_column": null,
            "overflow_y": null,
            "overflow_x": null,
            "grid_auto_flow": null,
            "grid_area": null,
            "grid_template_columns": null,
            "flex": null,
            "_model_name": "LayoutModel",
            "justify_items": null,
            "grid_row": null,
            "max_height": null,
            "align_content": null,
            "visibility": null,
            "align_self": null,
            "height": null,
            "min_height": null,
            "padding": null,
            "grid_auto_rows": null,
            "grid_gap": null,
            "max_width": null,
            "order": null,
            "_view_module_version": "1.2.0",
            "grid_template_areas": null,
            "object_position": null,
            "object_fit": null,
            "grid_auto_columns": null,
            "margin": null,
            "display": null,
            "left": null
          },
          "model_module_version": "1.2.0"
        },
        "58072911b7234bccb57292f0bae423be": {
          "model_module": "@jupyter-widgets/controls",
          "model_name": "ProgressStyleModel",
          "state": {
            "_view_name": "StyleView",
            "_model_name": "ProgressStyleModel",
            "description_width": "",
            "_view_module": "@jupyter-widgets/base",
            "_model_module_version": "1.5.0",
            "_view_count": null,
            "_view_module_version": "1.2.0",
            "bar_color": null,
            "_model_module": "@jupyter-widgets/controls"
          },
          "model_module_version": "1.5.0"
        },
        "9e415ee725504428979688cc2963c060": {
          "model_module": "@jupyter-widgets/base",
          "model_name": "LayoutModel",
          "state": {
            "_view_name": "LayoutView",
            "grid_template_rows": null,
            "right": null,
            "justify_content": null,
            "_view_module": "@jupyter-widgets/base",
            "overflow": null,
            "_model_module_version": "1.2.0",
            "_view_count": null,
            "flex_flow": null,
            "width": null,
            "min_width": null,
            "border": null,
            "align_items": null,
            "bottom": null,
            "_model_module": "@jupyter-widgets/base",
            "top": null,
            "grid_column": null,
            "overflow_y": null,
            "overflow_x": null,
            "grid_auto_flow": null,
            "grid_area": null,
            "grid_template_columns": null,
            "flex": null,
            "_model_name": "LayoutModel",
            "justify_items": null,
            "grid_row": null,
            "max_height": null,
            "align_content": null,
            "visibility": null,
            "align_self": null,
            "height": null,
            "min_height": null,
            "padding": null,
            "grid_auto_rows": null,
            "grid_gap": null,
            "max_width": null,
            "order": null,
            "_view_module_version": "1.2.0",
            "grid_template_areas": null,
            "object_position": null,
            "object_fit": null,
            "grid_auto_columns": null,
            "margin": null,
            "display": null,
            "left": null
          },
          "model_module_version": "1.2.0"
        },
        "ea89591c84e84d0886513d97747f5038": {
          "model_module": "@jupyter-widgets/controls",
          "model_name": "DescriptionStyleModel",
          "state": {
            "_view_name": "StyleView",
            "_model_name": "DescriptionStyleModel",
            "description_width": "",
            "_view_module": "@jupyter-widgets/base",
            "_model_module_version": "1.5.0",
            "_view_count": null,
            "_view_module_version": "1.2.0",
            "_model_module": "@jupyter-widgets/controls"
          },
          "model_module_version": "1.5.0"
        },
        "6c20daab840f4dc7afae656a4e095448": {
          "model_module": "@jupyter-widgets/base",
          "model_name": "LayoutModel",
          "state": {
            "_view_name": "LayoutView",
            "grid_template_rows": null,
            "right": null,
            "justify_content": null,
            "_view_module": "@jupyter-widgets/base",
            "overflow": null,
            "_model_module_version": "1.2.0",
            "_view_count": null,
            "flex_flow": null,
            "width": null,
            "min_width": null,
            "border": null,
            "align_items": null,
            "bottom": null,
            "_model_module": "@jupyter-widgets/base",
            "top": null,
            "grid_column": null,
            "overflow_y": null,
            "overflow_x": null,
            "grid_auto_flow": null,
            "grid_area": null,
            "grid_template_columns": null,
            "flex": null,
            "_model_name": "LayoutModel",
            "justify_items": null,
            "grid_row": null,
            "max_height": null,
            "align_content": null,
            "visibility": null,
            "align_self": null,
            "height": null,
            "min_height": null,
            "padding": null,
            "grid_auto_rows": null,
            "grid_gap": null,
            "max_width": null,
            "order": null,
            "_view_module_version": "1.2.0",
            "grid_template_areas": null,
            "object_position": null,
            "object_fit": null,
            "grid_auto_columns": null,
            "margin": null,
            "display": null,
            "left": null
          },
          "model_module_version": "1.2.0"
        },
        "b55dbda1f09f43f3a0c6591bacaa4ca2": {
          "model_module": "@jupyter-widgets/controls",
          "model_name": "HBoxModel",
          "model_module_version": "1.5.0",
          "state": {
            "_dom_classes": [],
            "_model_module": "@jupyter-widgets/controls",
            "_model_module_version": "1.5.0",
            "_model_name": "HBoxModel",
            "_view_count": null,
            "_view_module": "@jupyter-widgets/controls",
            "_view_module_version": "1.5.0",
            "_view_name": "HBoxView",
            "box_style": "",
            "children": [
              "IPY_MODEL_03ce066f4ded4f40919715e87e3b6d98",
              "IPY_MODEL_ef7d05e6474642329872ebafd6f5d2c0",
              "IPY_MODEL_789b4ddbeebf4fd79bd77acae2e0f61f"
            ],
            "layout": "IPY_MODEL_49724f65a5464bbe918b49ad99ca4cce"
          }
        },
        "03ce066f4ded4f40919715e87e3b6d98": {
          "model_module": "@jupyter-widgets/controls",
          "model_name": "HTMLModel",
          "model_module_version": "1.5.0",
          "state": {
            "_dom_classes": [],
            "_model_module": "@jupyter-widgets/controls",
            "_model_module_version": "1.5.0",
            "_model_name": "HTMLModel",
            "_view_count": null,
            "_view_module": "@jupyter-widgets/controls",
            "_view_module_version": "1.5.0",
            "_view_name": "HTMLView",
            "description": "",
            "description_tooltip": null,
            "layout": "IPY_MODEL_9200d35268eb42d1a4b80e48da507522",
            "placeholder": "​",
            "style": "IPY_MODEL_aba315f3ecf74b07aca19b840a217ffd",
            "value": "Downloading (…)lve/main/config.json: 100%"
          }
        },
        "ef7d05e6474642329872ebafd6f5d2c0": {
          "model_module": "@jupyter-widgets/controls",
          "model_name": "FloatProgressModel",
          "model_module_version": "1.5.0",
          "state": {
            "_dom_classes": [],
            "_model_module": "@jupyter-widgets/controls",
            "_model_module_version": "1.5.0",
            "_model_name": "FloatProgressModel",
            "_view_count": null,
            "_view_module": "@jupyter-widgets/controls",
            "_view_module_version": "1.5.0",
            "_view_name": "ProgressView",
            "bar_style": "success",
            "description": "",
            "description_tooltip": null,
            "layout": "IPY_MODEL_2d42038d79ac4ad284c7d0f27ba456a3",
            "max": 671,
            "min": 0,
            "orientation": "horizontal",
            "style": "IPY_MODEL_e521e7d0333c4e2bbbd0f2cd98ba61d8",
            "value": 671
          }
        },
        "789b4ddbeebf4fd79bd77acae2e0f61f": {
          "model_module": "@jupyter-widgets/controls",
          "model_name": "HTMLModel",
          "model_module_version": "1.5.0",
          "state": {
            "_dom_classes": [],
            "_model_module": "@jupyter-widgets/controls",
            "_model_module_version": "1.5.0",
            "_model_name": "HTMLModel",
            "_view_count": null,
            "_view_module": "@jupyter-widgets/controls",
            "_view_module_version": "1.5.0",
            "_view_name": "HTMLView",
            "description": "",
            "description_tooltip": null,
            "layout": "IPY_MODEL_437bf049e3164445a1450e2e3ac26eb8",
            "placeholder": "​",
            "style": "IPY_MODEL_c6527a17dbd844d59df5f8ea1eb5b86a",
            "value": " 671/671 [00:00&lt;00:00, 16.7kB/s]"
          }
        },
        "49724f65a5464bbe918b49ad99ca4cce": {
          "model_module": "@jupyter-widgets/base",
          "model_name": "LayoutModel",
          "model_module_version": "1.2.0",
          "state": {
            "_model_module": "@jupyter-widgets/base",
            "_model_module_version": "1.2.0",
            "_model_name": "LayoutModel",
            "_view_count": null,
            "_view_module": "@jupyter-widgets/base",
            "_view_module_version": "1.2.0",
            "_view_name": "LayoutView",
            "align_content": null,
            "align_items": null,
            "align_self": null,
            "border": null,
            "bottom": null,
            "display": null,
            "flex": null,
            "flex_flow": null,
            "grid_area": null,
            "grid_auto_columns": null,
            "grid_auto_flow": null,
            "grid_auto_rows": null,
            "grid_column": null,
            "grid_gap": null,
            "grid_row": null,
            "grid_template_areas": null,
            "grid_template_columns": null,
            "grid_template_rows": null,
            "height": null,
            "justify_content": null,
            "justify_items": null,
            "left": null,
            "margin": null,
            "max_height": null,
            "max_width": null,
            "min_height": null,
            "min_width": null,
            "object_fit": null,
            "object_position": null,
            "order": null,
            "overflow": null,
            "overflow_x": null,
            "overflow_y": null,
            "padding": null,
            "right": null,
            "top": null,
            "visibility": null,
            "width": null
          }
        },
        "9200d35268eb42d1a4b80e48da507522": {
          "model_module": "@jupyter-widgets/base",
          "model_name": "LayoutModel",
          "model_module_version": "1.2.0",
          "state": {
            "_model_module": "@jupyter-widgets/base",
            "_model_module_version": "1.2.0",
            "_model_name": "LayoutModel",
            "_view_count": null,
            "_view_module": "@jupyter-widgets/base",
            "_view_module_version": "1.2.0",
            "_view_name": "LayoutView",
            "align_content": null,
            "align_items": null,
            "align_self": null,
            "border": null,
            "bottom": null,
            "display": null,
            "flex": null,
            "flex_flow": null,
            "grid_area": null,
            "grid_auto_columns": null,
            "grid_auto_flow": null,
            "grid_auto_rows": null,
            "grid_column": null,
            "grid_gap": null,
            "grid_row": null,
            "grid_template_areas": null,
            "grid_template_columns": null,
            "grid_template_rows": null,
            "height": null,
            "justify_content": null,
            "justify_items": null,
            "left": null,
            "margin": null,
            "max_height": null,
            "max_width": null,
            "min_height": null,
            "min_width": null,
            "object_fit": null,
            "object_position": null,
            "order": null,
            "overflow": null,
            "overflow_x": null,
            "overflow_y": null,
            "padding": null,
            "right": null,
            "top": null,
            "visibility": null,
            "width": null
          }
        },
        "aba315f3ecf74b07aca19b840a217ffd": {
          "model_module": "@jupyter-widgets/controls",
          "model_name": "DescriptionStyleModel",
          "model_module_version": "1.5.0",
          "state": {
            "_model_module": "@jupyter-widgets/controls",
            "_model_module_version": "1.5.0",
            "_model_name": "DescriptionStyleModel",
            "_view_count": null,
            "_view_module": "@jupyter-widgets/base",
            "_view_module_version": "1.2.0",
            "_view_name": "StyleView",
            "description_width": ""
          }
        },
        "2d42038d79ac4ad284c7d0f27ba456a3": {
          "model_module": "@jupyter-widgets/base",
          "model_name": "LayoutModel",
          "model_module_version": "1.2.0",
          "state": {
            "_model_module": "@jupyter-widgets/base",
            "_model_module_version": "1.2.0",
            "_model_name": "LayoutModel",
            "_view_count": null,
            "_view_module": "@jupyter-widgets/base",
            "_view_module_version": "1.2.0",
            "_view_name": "LayoutView",
            "align_content": null,
            "align_items": null,
            "align_self": null,
            "border": null,
            "bottom": null,
            "display": null,
            "flex": null,
            "flex_flow": null,
            "grid_area": null,
            "grid_auto_columns": null,
            "grid_auto_flow": null,
            "grid_auto_rows": null,
            "grid_column": null,
            "grid_gap": null,
            "grid_row": null,
            "grid_template_areas": null,
            "grid_template_columns": null,
            "grid_template_rows": null,
            "height": null,
            "justify_content": null,
            "justify_items": null,
            "left": null,
            "margin": null,
            "max_height": null,
            "max_width": null,
            "min_height": null,
            "min_width": null,
            "object_fit": null,
            "object_position": null,
            "order": null,
            "overflow": null,
            "overflow_x": null,
            "overflow_y": null,
            "padding": null,
            "right": null,
            "top": null,
            "visibility": null,
            "width": null
          }
        },
        "e521e7d0333c4e2bbbd0f2cd98ba61d8": {
          "model_module": "@jupyter-widgets/controls",
          "model_name": "ProgressStyleModel",
          "model_module_version": "1.5.0",
          "state": {
            "_model_module": "@jupyter-widgets/controls",
            "_model_module_version": "1.5.0",
            "_model_name": "ProgressStyleModel",
            "_view_count": null,
            "_view_module": "@jupyter-widgets/base",
            "_view_module_version": "1.2.0",
            "_view_name": "StyleView",
            "bar_color": null,
            "description_width": ""
          }
        },
        "437bf049e3164445a1450e2e3ac26eb8": {
          "model_module": "@jupyter-widgets/base",
          "model_name": "LayoutModel",
          "model_module_version": "1.2.0",
          "state": {
            "_model_module": "@jupyter-widgets/base",
            "_model_module_version": "1.2.0",
            "_model_name": "LayoutModel",
            "_view_count": null,
            "_view_module": "@jupyter-widgets/base",
            "_view_module_version": "1.2.0",
            "_view_name": "LayoutView",
            "align_content": null,
            "align_items": null,
            "align_self": null,
            "border": null,
            "bottom": null,
            "display": null,
            "flex": null,
            "flex_flow": null,
            "grid_area": null,
            "grid_auto_columns": null,
            "grid_auto_flow": null,
            "grid_auto_rows": null,
            "grid_column": null,
            "grid_gap": null,
            "grid_row": null,
            "grid_template_areas": null,
            "grid_template_columns": null,
            "grid_template_rows": null,
            "height": null,
            "justify_content": null,
            "justify_items": null,
            "left": null,
            "margin": null,
            "max_height": null,
            "max_width": null,
            "min_height": null,
            "min_width": null,
            "object_fit": null,
            "object_position": null,
            "order": null,
            "overflow": null,
            "overflow_x": null,
            "overflow_y": null,
            "padding": null,
            "right": null,
            "top": null,
            "visibility": null,
            "width": null
          }
        },
        "c6527a17dbd844d59df5f8ea1eb5b86a": {
          "model_module": "@jupyter-widgets/controls",
          "model_name": "DescriptionStyleModel",
          "model_module_version": "1.5.0",
          "state": {
            "_model_module": "@jupyter-widgets/controls",
            "_model_module_version": "1.5.0",
            "_model_name": "DescriptionStyleModel",
            "_view_count": null,
            "_view_module": "@jupyter-widgets/base",
            "_view_module_version": "1.2.0",
            "_view_name": "StyleView",
            "description_width": ""
          }
        },
        "feead70603934de2850546a8b77c6c97": {
          "model_module": "@jupyter-widgets/controls",
          "model_name": "HBoxModel",
          "model_module_version": "1.5.0",
          "state": {
            "_dom_classes": [],
            "_model_module": "@jupyter-widgets/controls",
            "_model_module_version": "1.5.0",
            "_model_name": "HBoxModel",
            "_view_count": null,
            "_view_module": "@jupyter-widgets/controls",
            "_view_module_version": "1.5.0",
            "_view_name": "HBoxView",
            "box_style": "",
            "children": [
              "IPY_MODEL_bb6d93b81d7a40f9ac6b99ace0a9735f",
              "IPY_MODEL_ca31e71cdab844fab59f5f3d030723a2",
              "IPY_MODEL_6057176f565c46bd85949280e3a41acc"
            ],
            "layout": "IPY_MODEL_ca8cc050472045f3b36bc51b1bfaf1ab"
          }
        },
        "bb6d93b81d7a40f9ac6b99ace0a9735f": {
          "model_module": "@jupyter-widgets/controls",
          "model_name": "HTMLModel",
          "model_module_version": "1.5.0",
          "state": {
            "_dom_classes": [],
            "_model_module": "@jupyter-widgets/controls",
            "_model_module_version": "1.5.0",
            "_model_name": "HTMLModel",
            "_view_count": null,
            "_view_module": "@jupyter-widgets/controls",
            "_view_module_version": "1.5.0",
            "_view_name": "HTMLView",
            "description": "",
            "description_tooltip": null,
            "layout": "IPY_MODEL_4ded40e9b7a14f38816d422b0071ba1e",
            "placeholder": "​",
            "style": "IPY_MODEL_a8038b87c5c4432e87042d722e088f2f",
            "value": "Downloading pytorch_model.bin: 100%"
          }
        },
        "ca31e71cdab844fab59f5f3d030723a2": {
          "model_module": "@jupyter-widgets/controls",
          "model_name": "FloatProgressModel",
          "model_module_version": "1.5.0",
          "state": {
            "_dom_classes": [],
            "_model_module": "@jupyter-widgets/controls",
            "_model_module_version": "1.5.0",
            "_model_name": "FloatProgressModel",
            "_view_count": null,
            "_view_module": "@jupyter-widgets/controls",
            "_view_module_version": "1.5.0",
            "_view_name": "ProgressView",
            "bar_style": "success",
            "description": "",
            "description_tooltip": null,
            "layout": "IPY_MODEL_24b9c11b10c242c58c7a9cf1975a450c",
            "max": 267990571,
            "min": 0,
            "orientation": "horizontal",
            "style": "IPY_MODEL_f75dfe9da86d415aaa76bffbf041a447",
            "value": 267990571
          }
        },
        "6057176f565c46bd85949280e3a41acc": {
          "model_module": "@jupyter-widgets/controls",
          "model_name": "HTMLModel",
          "model_module_version": "1.5.0",
          "state": {
            "_dom_classes": [],
            "_model_module": "@jupyter-widgets/controls",
            "_model_module_version": "1.5.0",
            "_model_name": "HTMLModel",
            "_view_count": null,
            "_view_module": "@jupyter-widgets/controls",
            "_view_module_version": "1.5.0",
            "_view_name": "HTMLView",
            "description": "",
            "description_tooltip": null,
            "layout": "IPY_MODEL_cde41eaf6c69427ebbf0e9697338be5b",
            "placeholder": "​",
            "style": "IPY_MODEL_5716399e79304166a9e98486af9d1a81",
            "value": " 268M/268M [00:05&lt;00:00, 57.6MB/s]"
          }
        },
        "ca8cc050472045f3b36bc51b1bfaf1ab": {
          "model_module": "@jupyter-widgets/base",
          "model_name": "LayoutModel",
          "model_module_version": "1.2.0",
          "state": {
            "_model_module": "@jupyter-widgets/base",
            "_model_module_version": "1.2.0",
            "_model_name": "LayoutModel",
            "_view_count": null,
            "_view_module": "@jupyter-widgets/base",
            "_view_module_version": "1.2.0",
            "_view_name": "LayoutView",
            "align_content": null,
            "align_items": null,
            "align_self": null,
            "border": null,
            "bottom": null,
            "display": null,
            "flex": null,
            "flex_flow": null,
            "grid_area": null,
            "grid_auto_columns": null,
            "grid_auto_flow": null,
            "grid_auto_rows": null,
            "grid_column": null,
            "grid_gap": null,
            "grid_row": null,
            "grid_template_areas": null,
            "grid_template_columns": null,
            "grid_template_rows": null,
            "height": null,
            "justify_content": null,
            "justify_items": null,
            "left": null,
            "margin": null,
            "max_height": null,
            "max_width": null,
            "min_height": null,
            "min_width": null,
            "object_fit": null,
            "object_position": null,
            "order": null,
            "overflow": null,
            "overflow_x": null,
            "overflow_y": null,
            "padding": null,
            "right": null,
            "top": null,
            "visibility": null,
            "width": null
          }
        },
        "4ded40e9b7a14f38816d422b0071ba1e": {
          "model_module": "@jupyter-widgets/base",
          "model_name": "LayoutModel",
          "model_module_version": "1.2.0",
          "state": {
            "_model_module": "@jupyter-widgets/base",
            "_model_module_version": "1.2.0",
            "_model_name": "LayoutModel",
            "_view_count": null,
            "_view_module": "@jupyter-widgets/base",
            "_view_module_version": "1.2.0",
            "_view_name": "LayoutView",
            "align_content": null,
            "align_items": null,
            "align_self": null,
            "border": null,
            "bottom": null,
            "display": null,
            "flex": null,
            "flex_flow": null,
            "grid_area": null,
            "grid_auto_columns": null,
            "grid_auto_flow": null,
            "grid_auto_rows": null,
            "grid_column": null,
            "grid_gap": null,
            "grid_row": null,
            "grid_template_areas": null,
            "grid_template_columns": null,
            "grid_template_rows": null,
            "height": null,
            "justify_content": null,
            "justify_items": null,
            "left": null,
            "margin": null,
            "max_height": null,
            "max_width": null,
            "min_height": null,
            "min_width": null,
            "object_fit": null,
            "object_position": null,
            "order": null,
            "overflow": null,
            "overflow_x": null,
            "overflow_y": null,
            "padding": null,
            "right": null,
            "top": null,
            "visibility": null,
            "width": null
          }
        },
        "a8038b87c5c4432e87042d722e088f2f": {
          "model_module": "@jupyter-widgets/controls",
          "model_name": "DescriptionStyleModel",
          "model_module_version": "1.5.0",
          "state": {
            "_model_module": "@jupyter-widgets/controls",
            "_model_module_version": "1.5.0",
            "_model_name": "DescriptionStyleModel",
            "_view_count": null,
            "_view_module": "@jupyter-widgets/base",
            "_view_module_version": "1.2.0",
            "_view_name": "StyleView",
            "description_width": ""
          }
        },
        "24b9c11b10c242c58c7a9cf1975a450c": {
          "model_module": "@jupyter-widgets/base",
          "model_name": "LayoutModel",
          "model_module_version": "1.2.0",
          "state": {
            "_model_module": "@jupyter-widgets/base",
            "_model_module_version": "1.2.0",
            "_model_name": "LayoutModel",
            "_view_count": null,
            "_view_module": "@jupyter-widgets/base",
            "_view_module_version": "1.2.0",
            "_view_name": "LayoutView",
            "align_content": null,
            "align_items": null,
            "align_self": null,
            "border": null,
            "bottom": null,
            "display": null,
            "flex": null,
            "flex_flow": null,
            "grid_area": null,
            "grid_auto_columns": null,
            "grid_auto_flow": null,
            "grid_auto_rows": null,
            "grid_column": null,
            "grid_gap": null,
            "grid_row": null,
            "grid_template_areas": null,
            "grid_template_columns": null,
            "grid_template_rows": null,
            "height": null,
            "justify_content": null,
            "justify_items": null,
            "left": null,
            "margin": null,
            "max_height": null,
            "max_width": null,
            "min_height": null,
            "min_width": null,
            "object_fit": null,
            "object_position": null,
            "order": null,
            "overflow": null,
            "overflow_x": null,
            "overflow_y": null,
            "padding": null,
            "right": null,
            "top": null,
            "visibility": null,
            "width": null
          }
        },
        "f75dfe9da86d415aaa76bffbf041a447": {
          "model_module": "@jupyter-widgets/controls",
          "model_name": "ProgressStyleModel",
          "model_module_version": "1.5.0",
          "state": {
            "_model_module": "@jupyter-widgets/controls",
            "_model_module_version": "1.5.0",
            "_model_name": "ProgressStyleModel",
            "_view_count": null,
            "_view_module": "@jupyter-widgets/base",
            "_view_module_version": "1.2.0",
            "_view_name": "StyleView",
            "bar_color": null,
            "description_width": ""
          }
        },
        "cde41eaf6c69427ebbf0e9697338be5b": {
          "model_module": "@jupyter-widgets/base",
          "model_name": "LayoutModel",
          "model_module_version": "1.2.0",
          "state": {
            "_model_module": "@jupyter-widgets/base",
            "_model_module_version": "1.2.0",
            "_model_name": "LayoutModel",
            "_view_count": null,
            "_view_module": "@jupyter-widgets/base",
            "_view_module_version": "1.2.0",
            "_view_name": "LayoutView",
            "align_content": null,
            "align_items": null,
            "align_self": null,
            "border": null,
            "bottom": null,
            "display": null,
            "flex": null,
            "flex_flow": null,
            "grid_area": null,
            "grid_auto_columns": null,
            "grid_auto_flow": null,
            "grid_auto_rows": null,
            "grid_column": null,
            "grid_gap": null,
            "grid_row": null,
            "grid_template_areas": null,
            "grid_template_columns": null,
            "grid_template_rows": null,
            "height": null,
            "justify_content": null,
            "justify_items": null,
            "left": null,
            "margin": null,
            "max_height": null,
            "max_width": null,
            "min_height": null,
            "min_width": null,
            "object_fit": null,
            "object_position": null,
            "order": null,
            "overflow": null,
            "overflow_x": null,
            "overflow_y": null,
            "padding": null,
            "right": null,
            "top": null,
            "visibility": null,
            "width": null
          }
        },
        "5716399e79304166a9e98486af9d1a81": {
          "model_module": "@jupyter-widgets/controls",
          "model_name": "DescriptionStyleModel",
          "model_module_version": "1.5.0",
          "state": {
            "_model_module": "@jupyter-widgets/controls",
            "_model_module_version": "1.5.0",
            "_model_name": "DescriptionStyleModel",
            "_view_count": null,
            "_view_module": "@jupyter-widgets/base",
            "_view_module_version": "1.2.0",
            "_view_name": "StyleView",
            "description_width": ""
          }
        },
        "e15ffc6d890f43ebaeb99877b59c5db6": {
          "model_module": "@jupyter-widgets/controls",
          "model_name": "HBoxModel",
          "model_module_version": "1.5.0",
          "state": {
            "_dom_classes": [],
            "_model_module": "@jupyter-widgets/controls",
            "_model_module_version": "1.5.0",
            "_model_name": "HBoxModel",
            "_view_count": null,
            "_view_module": "@jupyter-widgets/controls",
            "_view_module_version": "1.5.0",
            "_view_name": "HBoxView",
            "box_style": "",
            "children": [
              "IPY_MODEL_6aafa060dbe049528b70e462b06683e7",
              "IPY_MODEL_04269a2fca584559a6b99c0da0059aec",
              "IPY_MODEL_1aad097ebc8f483aa8291c8249ab9304"
            ],
            "layout": "IPY_MODEL_752023d6ccac44afbedc94fd62b4b865"
          }
        },
        "6aafa060dbe049528b70e462b06683e7": {
          "model_module": "@jupyter-widgets/controls",
          "model_name": "HTMLModel",
          "model_module_version": "1.5.0",
          "state": {
            "_dom_classes": [],
            "_model_module": "@jupyter-widgets/controls",
            "_model_module_version": "1.5.0",
            "_model_name": "HTMLModel",
            "_view_count": null,
            "_view_module": "@jupyter-widgets/controls",
            "_view_module_version": "1.5.0",
            "_view_name": "HTMLView",
            "description": "",
            "description_tooltip": null,
            "layout": "IPY_MODEL_d65b2173da114e33afbf367f4fd51224",
            "placeholder": "​",
            "style": "IPY_MODEL_ea699dd08ae846a989eabb001b916a34",
            "value": "Downloading (…)olve/main/vocab.json: 100%"
          }
        },
        "04269a2fca584559a6b99c0da0059aec": {
          "model_module": "@jupyter-widgets/controls",
          "model_name": "FloatProgressModel",
          "model_module_version": "1.5.0",
          "state": {
            "_dom_classes": [],
            "_model_module": "@jupyter-widgets/controls",
            "_model_module_version": "1.5.0",
            "_model_name": "FloatProgressModel",
            "_view_count": null,
            "_view_module": "@jupyter-widgets/controls",
            "_view_module_version": "1.5.0",
            "_view_name": "ProgressView",
            "bar_style": "success",
            "description": "",
            "description_tooltip": null,
            "layout": "IPY_MODEL_fc6d7b6272cc414fa2c03288b7485ba0",
            "max": 569469,
            "min": 0,
            "orientation": "horizontal",
            "style": "IPY_MODEL_5909da45219b4955af4e09bed8c1ceb5",
            "value": 569469
          }
        },
        "1aad097ebc8f483aa8291c8249ab9304": {
          "model_module": "@jupyter-widgets/controls",
          "model_name": "HTMLModel",
          "model_module_version": "1.5.0",
          "state": {
            "_dom_classes": [],
            "_model_module": "@jupyter-widgets/controls",
            "_model_module_version": "1.5.0",
            "_model_name": "HTMLModel",
            "_view_count": null,
            "_view_module": "@jupyter-widgets/controls",
            "_view_module_version": "1.5.0",
            "_view_name": "HTMLView",
            "description": "",
            "description_tooltip": null,
            "layout": "IPY_MODEL_e92120d801844964928ffc271022c65f",
            "placeholder": "​",
            "style": "IPY_MODEL_11db3fdb50dc4112ae4afa888c2d5016",
            "value": " 569k/569k [00:00&lt;00:00, 2.35MB/s]"
          }
        },
        "752023d6ccac44afbedc94fd62b4b865": {
          "model_module": "@jupyter-widgets/base",
          "model_name": "LayoutModel",
          "model_module_version": "1.2.0",
          "state": {
            "_model_module": "@jupyter-widgets/base",
            "_model_module_version": "1.2.0",
            "_model_name": "LayoutModel",
            "_view_count": null,
            "_view_module": "@jupyter-widgets/base",
            "_view_module_version": "1.2.0",
            "_view_name": "LayoutView",
            "align_content": null,
            "align_items": null,
            "align_self": null,
            "border": null,
            "bottom": null,
            "display": null,
            "flex": null,
            "flex_flow": null,
            "grid_area": null,
            "grid_auto_columns": null,
            "grid_auto_flow": null,
            "grid_auto_rows": null,
            "grid_column": null,
            "grid_gap": null,
            "grid_row": null,
            "grid_template_areas": null,
            "grid_template_columns": null,
            "grid_template_rows": null,
            "height": null,
            "justify_content": null,
            "justify_items": null,
            "left": null,
            "margin": null,
            "max_height": null,
            "max_width": null,
            "min_height": null,
            "min_width": null,
            "object_fit": null,
            "object_position": null,
            "order": null,
            "overflow": null,
            "overflow_x": null,
            "overflow_y": null,
            "padding": null,
            "right": null,
            "top": null,
            "visibility": null,
            "width": null
          }
        },
        "d65b2173da114e33afbf367f4fd51224": {
          "model_module": "@jupyter-widgets/base",
          "model_name": "LayoutModel",
          "model_module_version": "1.2.0",
          "state": {
            "_model_module": "@jupyter-widgets/base",
            "_model_module_version": "1.2.0",
            "_model_name": "LayoutModel",
            "_view_count": null,
            "_view_module": "@jupyter-widgets/base",
            "_view_module_version": "1.2.0",
            "_view_name": "LayoutView",
            "align_content": null,
            "align_items": null,
            "align_self": null,
            "border": null,
            "bottom": null,
            "display": null,
            "flex": null,
            "flex_flow": null,
            "grid_area": null,
            "grid_auto_columns": null,
            "grid_auto_flow": null,
            "grid_auto_rows": null,
            "grid_column": null,
            "grid_gap": null,
            "grid_row": null,
            "grid_template_areas": null,
            "grid_template_columns": null,
            "grid_template_rows": null,
            "height": null,
            "justify_content": null,
            "justify_items": null,
            "left": null,
            "margin": null,
            "max_height": null,
            "max_width": null,
            "min_height": null,
            "min_width": null,
            "object_fit": null,
            "object_position": null,
            "order": null,
            "overflow": null,
            "overflow_x": null,
            "overflow_y": null,
            "padding": null,
            "right": null,
            "top": null,
            "visibility": null,
            "width": null
          }
        },
        "ea699dd08ae846a989eabb001b916a34": {
          "model_module": "@jupyter-widgets/controls",
          "model_name": "DescriptionStyleModel",
          "model_module_version": "1.5.0",
          "state": {
            "_model_module": "@jupyter-widgets/controls",
            "_model_module_version": "1.5.0",
            "_model_name": "DescriptionStyleModel",
            "_view_count": null,
            "_view_module": "@jupyter-widgets/base",
            "_view_module_version": "1.2.0",
            "_view_name": "StyleView",
            "description_width": ""
          }
        },
        "fc6d7b6272cc414fa2c03288b7485ba0": {
          "model_module": "@jupyter-widgets/base",
          "model_name": "LayoutModel",
          "model_module_version": "1.2.0",
          "state": {
            "_model_module": "@jupyter-widgets/base",
            "_model_module_version": "1.2.0",
            "_model_name": "LayoutModel",
            "_view_count": null,
            "_view_module": "@jupyter-widgets/base",
            "_view_module_version": "1.2.0",
            "_view_name": "LayoutView",
            "align_content": null,
            "align_items": null,
            "align_self": null,
            "border": null,
            "bottom": null,
            "display": null,
            "flex": null,
            "flex_flow": null,
            "grid_area": null,
            "grid_auto_columns": null,
            "grid_auto_flow": null,
            "grid_auto_rows": null,
            "grid_column": null,
            "grid_gap": null,
            "grid_row": null,
            "grid_template_areas": null,
            "grid_template_columns": null,
            "grid_template_rows": null,
            "height": null,
            "justify_content": null,
            "justify_items": null,
            "left": null,
            "margin": null,
            "max_height": null,
            "max_width": null,
            "min_height": null,
            "min_width": null,
            "object_fit": null,
            "object_position": null,
            "order": null,
            "overflow": null,
            "overflow_x": null,
            "overflow_y": null,
            "padding": null,
            "right": null,
            "top": null,
            "visibility": null,
            "width": null
          }
        },
        "5909da45219b4955af4e09bed8c1ceb5": {
          "model_module": "@jupyter-widgets/controls",
          "model_name": "ProgressStyleModel",
          "model_module_version": "1.5.0",
          "state": {
            "_model_module": "@jupyter-widgets/controls",
            "_model_module_version": "1.5.0",
            "_model_name": "ProgressStyleModel",
            "_view_count": null,
            "_view_module": "@jupyter-widgets/base",
            "_view_module_version": "1.2.0",
            "_view_name": "StyleView",
            "bar_color": null,
            "description_width": ""
          }
        },
        "e92120d801844964928ffc271022c65f": {
          "model_module": "@jupyter-widgets/base",
          "model_name": "LayoutModel",
          "model_module_version": "1.2.0",
          "state": {
            "_model_module": "@jupyter-widgets/base",
            "_model_module_version": "1.2.0",
            "_model_name": "LayoutModel",
            "_view_count": null,
            "_view_module": "@jupyter-widgets/base",
            "_view_module_version": "1.2.0",
            "_view_name": "LayoutView",
            "align_content": null,
            "align_items": null,
            "align_self": null,
            "border": null,
            "bottom": null,
            "display": null,
            "flex": null,
            "flex_flow": null,
            "grid_area": null,
            "grid_auto_columns": null,
            "grid_auto_flow": null,
            "grid_auto_rows": null,
            "grid_column": null,
            "grid_gap": null,
            "grid_row": null,
            "grid_template_areas": null,
            "grid_template_columns": null,
            "grid_template_rows": null,
            "height": null,
            "justify_content": null,
            "justify_items": null,
            "left": null,
            "margin": null,
            "max_height": null,
            "max_width": null,
            "min_height": null,
            "min_width": null,
            "object_fit": null,
            "object_position": null,
            "order": null,
            "overflow": null,
            "overflow_x": null,
            "overflow_y": null,
            "padding": null,
            "right": null,
            "top": null,
            "visibility": null,
            "width": null
          }
        },
        "11db3fdb50dc4112ae4afa888c2d5016": {
          "model_module": "@jupyter-widgets/controls",
          "model_name": "DescriptionStyleModel",
          "model_module_version": "1.5.0",
          "state": {
            "_model_module": "@jupyter-widgets/controls",
            "_model_module_version": "1.5.0",
            "_model_name": "DescriptionStyleModel",
            "_view_count": null,
            "_view_module": "@jupyter-widgets/base",
            "_view_module_version": "1.2.0",
            "_view_name": "StyleView",
            "description_width": ""
          }
        },
        "551480858ac34176878cd1d9c277b152": {
          "model_module": "@jupyter-widgets/controls",
          "model_name": "HBoxModel",
          "model_module_version": "1.5.0",
          "state": {
            "_dom_classes": [],
            "_model_module": "@jupyter-widgets/controls",
            "_model_module_version": "1.5.0",
            "_model_name": "HBoxModel",
            "_view_count": null,
            "_view_module": "@jupyter-widgets/controls",
            "_view_module_version": "1.5.0",
            "_view_name": "HBoxView",
            "box_style": "",
            "children": [
              "IPY_MODEL_d89b6bcd07804dce888f7f1b510e4a26",
              "IPY_MODEL_76d272e8021f4c43b87cd3fd6bb006d6",
              "IPY_MODEL_81bf82997b59452c85bfa084d35cb671"
            ],
            "layout": "IPY_MODEL_2024cbe7327c48c59fd425319dda13a4"
          }
        },
        "d89b6bcd07804dce888f7f1b510e4a26": {
          "model_module": "@jupyter-widgets/controls",
          "model_name": "HTMLModel",
          "model_module_version": "1.5.0",
          "state": {
            "_dom_classes": [],
            "_model_module": "@jupyter-widgets/controls",
            "_model_module_version": "1.5.0",
            "_model_name": "HTMLModel",
            "_view_count": null,
            "_view_module": "@jupyter-widgets/controls",
            "_view_module_version": "1.5.0",
            "_view_name": "HTMLView",
            "description": "",
            "description_tooltip": null,
            "layout": "IPY_MODEL_087b6ccc428443cfafc8704f4cce0546",
            "placeholder": "​",
            "style": "IPY_MODEL_d85f147ba613489fa777474d4b2fd766",
            "value": "Downloading (…)olve/main/merges.txt: 100%"
          }
        },
        "76d272e8021f4c43b87cd3fd6bb006d6": {
          "model_module": "@jupyter-widgets/controls",
          "model_name": "FloatProgressModel",
          "model_module_version": "1.5.0",
          "state": {
            "_dom_classes": [],
            "_model_module": "@jupyter-widgets/controls",
            "_model_module_version": "1.5.0",
            "_model_name": "FloatProgressModel",
            "_view_count": null,
            "_view_module": "@jupyter-widgets/controls",
            "_view_module_version": "1.5.0",
            "_view_name": "ProgressView",
            "bar_style": "success",
            "description": "",
            "description_tooltip": null,
            "layout": "IPY_MODEL_2c7c6f41b9f840809199beaa2a747ff2",
            "max": 365870,
            "min": 0,
            "orientation": "horizontal",
            "style": "IPY_MODEL_6cc8690ba7cd4d1e954e1512575f6980",
            "value": 365870
          }
        },
        "81bf82997b59452c85bfa084d35cb671": {
          "model_module": "@jupyter-widgets/controls",
          "model_name": "HTMLModel",
          "model_module_version": "1.5.0",
          "state": {
            "_dom_classes": [],
            "_model_module": "@jupyter-widgets/controls",
            "_model_module_version": "1.5.0",
            "_model_name": "HTMLModel",
            "_view_count": null,
            "_view_module": "@jupyter-widgets/controls",
            "_view_module_version": "1.5.0",
            "_view_name": "HTMLView",
            "description": "",
            "description_tooltip": null,
            "layout": "IPY_MODEL_3bf07ca2c73b4bb5ad71d7f8d391e34c",
            "placeholder": "​",
            "style": "IPY_MODEL_695e1dfac53746f0872b00a1018353bc",
            "value": " 366k/366k [00:00&lt;00:00, 4.62MB/s]"
          }
        },
        "2024cbe7327c48c59fd425319dda13a4": {
          "model_module": "@jupyter-widgets/base",
          "model_name": "LayoutModel",
          "model_module_version": "1.2.0",
          "state": {
            "_model_module": "@jupyter-widgets/base",
            "_model_module_version": "1.2.0",
            "_model_name": "LayoutModel",
            "_view_count": null,
            "_view_module": "@jupyter-widgets/base",
            "_view_module_version": "1.2.0",
            "_view_name": "LayoutView",
            "align_content": null,
            "align_items": null,
            "align_self": null,
            "border": null,
            "bottom": null,
            "display": null,
            "flex": null,
            "flex_flow": null,
            "grid_area": null,
            "grid_auto_columns": null,
            "grid_auto_flow": null,
            "grid_auto_rows": null,
            "grid_column": null,
            "grid_gap": null,
            "grid_row": null,
            "grid_template_areas": null,
            "grid_template_columns": null,
            "grid_template_rows": null,
            "height": null,
            "justify_content": null,
            "justify_items": null,
            "left": null,
            "margin": null,
            "max_height": null,
            "max_width": null,
            "min_height": null,
            "min_width": null,
            "object_fit": null,
            "object_position": null,
            "order": null,
            "overflow": null,
            "overflow_x": null,
            "overflow_y": null,
            "padding": null,
            "right": null,
            "top": null,
            "visibility": null,
            "width": null
          }
        },
        "087b6ccc428443cfafc8704f4cce0546": {
          "model_module": "@jupyter-widgets/base",
          "model_name": "LayoutModel",
          "model_module_version": "1.2.0",
          "state": {
            "_model_module": "@jupyter-widgets/base",
            "_model_module_version": "1.2.0",
            "_model_name": "LayoutModel",
            "_view_count": null,
            "_view_module": "@jupyter-widgets/base",
            "_view_module_version": "1.2.0",
            "_view_name": "LayoutView",
            "align_content": null,
            "align_items": null,
            "align_self": null,
            "border": null,
            "bottom": null,
            "display": null,
            "flex": null,
            "flex_flow": null,
            "grid_area": null,
            "grid_auto_columns": null,
            "grid_auto_flow": null,
            "grid_auto_rows": null,
            "grid_column": null,
            "grid_gap": null,
            "grid_row": null,
            "grid_template_areas": null,
            "grid_template_columns": null,
            "grid_template_rows": null,
            "height": null,
            "justify_content": null,
            "justify_items": null,
            "left": null,
            "margin": null,
            "max_height": null,
            "max_width": null,
            "min_height": null,
            "min_width": null,
            "object_fit": null,
            "object_position": null,
            "order": null,
            "overflow": null,
            "overflow_x": null,
            "overflow_y": null,
            "padding": null,
            "right": null,
            "top": null,
            "visibility": null,
            "width": null
          }
        },
        "d85f147ba613489fa777474d4b2fd766": {
          "model_module": "@jupyter-widgets/controls",
          "model_name": "DescriptionStyleModel",
          "model_module_version": "1.5.0",
          "state": {
            "_model_module": "@jupyter-widgets/controls",
            "_model_module_version": "1.5.0",
            "_model_name": "DescriptionStyleModel",
            "_view_count": null,
            "_view_module": "@jupyter-widgets/base",
            "_view_module_version": "1.2.0",
            "_view_name": "StyleView",
            "description_width": ""
          }
        },
        "2c7c6f41b9f840809199beaa2a747ff2": {
          "model_module": "@jupyter-widgets/base",
          "model_name": "LayoutModel",
          "model_module_version": "1.2.0",
          "state": {
            "_model_module": "@jupyter-widgets/base",
            "_model_module_version": "1.2.0",
            "_model_name": "LayoutModel",
            "_view_count": null,
            "_view_module": "@jupyter-widgets/base",
            "_view_module_version": "1.2.0",
            "_view_name": "LayoutView",
            "align_content": null,
            "align_items": null,
            "align_self": null,
            "border": null,
            "bottom": null,
            "display": null,
            "flex": null,
            "flex_flow": null,
            "grid_area": null,
            "grid_auto_columns": null,
            "grid_auto_flow": null,
            "grid_auto_rows": null,
            "grid_column": null,
            "grid_gap": null,
            "grid_row": null,
            "grid_template_areas": null,
            "grid_template_columns": null,
            "grid_template_rows": null,
            "height": null,
            "justify_content": null,
            "justify_items": null,
            "left": null,
            "margin": null,
            "max_height": null,
            "max_width": null,
            "min_height": null,
            "min_width": null,
            "object_fit": null,
            "object_position": null,
            "order": null,
            "overflow": null,
            "overflow_x": null,
            "overflow_y": null,
            "padding": null,
            "right": null,
            "top": null,
            "visibility": null,
            "width": null
          }
        },
        "6cc8690ba7cd4d1e954e1512575f6980": {
          "model_module": "@jupyter-widgets/controls",
          "model_name": "ProgressStyleModel",
          "model_module_version": "1.5.0",
          "state": {
            "_model_module": "@jupyter-widgets/controls",
            "_model_module_version": "1.5.0",
            "_model_name": "ProgressStyleModel",
            "_view_count": null,
            "_view_module": "@jupyter-widgets/base",
            "_view_module_version": "1.2.0",
            "_view_name": "StyleView",
            "bar_color": null,
            "description_width": ""
          }
        },
        "3bf07ca2c73b4bb5ad71d7f8d391e34c": {
          "model_module": "@jupyter-widgets/base",
          "model_name": "LayoutModel",
          "model_module_version": "1.2.0",
          "state": {
            "_model_module": "@jupyter-widgets/base",
            "_model_module_version": "1.2.0",
            "_model_name": "LayoutModel",
            "_view_count": null,
            "_view_module": "@jupyter-widgets/base",
            "_view_module_version": "1.2.0",
            "_view_name": "LayoutView",
            "align_content": null,
            "align_items": null,
            "align_self": null,
            "border": null,
            "bottom": null,
            "display": null,
            "flex": null,
            "flex_flow": null,
            "grid_area": null,
            "grid_auto_columns": null,
            "grid_auto_flow": null,
            "grid_auto_rows": null,
            "grid_column": null,
            "grid_gap": null,
            "grid_row": null,
            "grid_template_areas": null,
            "grid_template_columns": null,
            "grid_template_rows": null,
            "height": null,
            "justify_content": null,
            "justify_items": null,
            "left": null,
            "margin": null,
            "max_height": null,
            "max_width": null,
            "min_height": null,
            "min_width": null,
            "object_fit": null,
            "object_position": null,
            "order": null,
            "overflow": null,
            "overflow_x": null,
            "overflow_y": null,
            "padding": null,
            "right": null,
            "top": null,
            "visibility": null,
            "width": null
          }
        },
        "695e1dfac53746f0872b00a1018353bc": {
          "model_module": "@jupyter-widgets/controls",
          "model_name": "DescriptionStyleModel",
          "model_module_version": "1.5.0",
          "state": {
            "_model_module": "@jupyter-widgets/controls",
            "_model_module_version": "1.5.0",
            "_model_name": "DescriptionStyleModel",
            "_view_count": null,
            "_view_module": "@jupyter-widgets/base",
            "_view_module_version": "1.2.0",
            "_view_name": "StyleView",
            "description_width": ""
          }
        },
        "2569d0b477aa4c0591497e3345695283": {
          "model_module": "@jupyter-widgets/controls",
          "model_name": "HBoxModel",
          "model_module_version": "1.5.0",
          "state": {
            "_dom_classes": [],
            "_model_module": "@jupyter-widgets/controls",
            "_model_module_version": "1.5.0",
            "_model_name": "HBoxModel",
            "_view_count": null,
            "_view_module": "@jupyter-widgets/controls",
            "_view_module_version": "1.5.0",
            "_view_name": "HBoxView",
            "box_style": "",
            "children": [
              "IPY_MODEL_273d14b10d6a43aeb01baacedd87a19a",
              "IPY_MODEL_7f6e0d1f2eec4ce4b3572da11c9ac2d6",
              "IPY_MODEL_e9bc068348d14575a492fa10cc41d2ad"
            ],
            "layout": "IPY_MODEL_134d6943af6a4cc986e005d90346e640"
          }
        },
        "273d14b10d6a43aeb01baacedd87a19a": {
          "model_module": "@jupyter-widgets/controls",
          "model_name": "HTMLModel",
          "model_module_version": "1.5.0",
          "state": {
            "_dom_classes": [],
            "_model_module": "@jupyter-widgets/controls",
            "_model_module_version": "1.5.0",
            "_model_name": "HTMLModel",
            "_view_count": null,
            "_view_module": "@jupyter-widgets/controls",
            "_view_module_version": "1.5.0",
            "_view_name": "HTMLView",
            "description": "",
            "description_tooltip": null,
            "layout": "IPY_MODEL_88502985999f479aaeea1b756035f69f",
            "placeholder": "​",
            "style": "IPY_MODEL_cd2636736f294991922d2894f0d38d4c",
            "value": "Downloading (…)lve/main/config.json: 100%"
          }
        },
        "7f6e0d1f2eec4ce4b3572da11c9ac2d6": {
          "model_module": "@jupyter-widgets/controls",
          "model_name": "FloatProgressModel",
          "model_module_version": "1.5.0",
          "state": {
            "_dom_classes": [],
            "_model_module": "@jupyter-widgets/controls",
            "_model_module_version": "1.5.0",
            "_model_name": "FloatProgressModel",
            "_view_count": null,
            "_view_module": "@jupyter-widgets/controls",
            "_view_module_version": "1.5.0",
            "_view_name": "ProgressView",
            "bar_style": "success",
            "description": "",
            "description_tooltip": null,
            "layout": "IPY_MODEL_484475039a984e41a0a886a1b7c0a8a6",
            "max": 736,
            "min": 0,
            "orientation": "horizontal",
            "style": "IPY_MODEL_cefc504d31ce47418066b4ee3d392793",
            "value": 736
          }
        },
        "e9bc068348d14575a492fa10cc41d2ad": {
          "model_module": "@jupyter-widgets/controls",
          "model_name": "HTMLModel",
          "model_module_version": "1.5.0",
          "state": {
            "_dom_classes": [],
            "_model_module": "@jupyter-widgets/controls",
            "_model_module_version": "1.5.0",
            "_model_name": "HTMLModel",
            "_view_count": null,
            "_view_module": "@jupyter-widgets/controls",
            "_view_module_version": "1.5.0",
            "_view_name": "HTMLView",
            "description": "",
            "description_tooltip": null,
            "layout": "IPY_MODEL_f59a741b19614603bdae1ef624deda8e",
            "placeholder": "​",
            "style": "IPY_MODEL_c8d3bd7b8ea8452bb2ff452d7c102293",
            "value": " 736/736 [00:00&lt;00:00, 21.0kB/s]"
          }
        },
        "134d6943af6a4cc986e005d90346e640": {
          "model_module": "@jupyter-widgets/base",
          "model_name": "LayoutModel",
          "model_module_version": "1.2.0",
          "state": {
            "_model_module": "@jupyter-widgets/base",
            "_model_module_version": "1.2.0",
            "_model_name": "LayoutModel",
            "_view_count": null,
            "_view_module": "@jupyter-widgets/base",
            "_view_module_version": "1.2.0",
            "_view_name": "LayoutView",
            "align_content": null,
            "align_items": null,
            "align_self": null,
            "border": null,
            "bottom": null,
            "display": null,
            "flex": null,
            "flex_flow": null,
            "grid_area": null,
            "grid_auto_columns": null,
            "grid_auto_flow": null,
            "grid_auto_rows": null,
            "grid_column": null,
            "grid_gap": null,
            "grid_row": null,
            "grid_template_areas": null,
            "grid_template_columns": null,
            "grid_template_rows": null,
            "height": null,
            "justify_content": null,
            "justify_items": null,
            "left": null,
            "margin": null,
            "max_height": null,
            "max_width": null,
            "min_height": null,
            "min_width": null,
            "object_fit": null,
            "object_position": null,
            "order": null,
            "overflow": null,
            "overflow_x": null,
            "overflow_y": null,
            "padding": null,
            "right": null,
            "top": null,
            "visibility": null,
            "width": null
          }
        },
        "88502985999f479aaeea1b756035f69f": {
          "model_module": "@jupyter-widgets/base",
          "model_name": "LayoutModel",
          "model_module_version": "1.2.0",
          "state": {
            "_model_module": "@jupyter-widgets/base",
            "_model_module_version": "1.2.0",
            "_model_name": "LayoutModel",
            "_view_count": null,
            "_view_module": "@jupyter-widgets/base",
            "_view_module_version": "1.2.0",
            "_view_name": "LayoutView",
            "align_content": null,
            "align_items": null,
            "align_self": null,
            "border": null,
            "bottom": null,
            "display": null,
            "flex": null,
            "flex_flow": null,
            "grid_area": null,
            "grid_auto_columns": null,
            "grid_auto_flow": null,
            "grid_auto_rows": null,
            "grid_column": null,
            "grid_gap": null,
            "grid_row": null,
            "grid_template_areas": null,
            "grid_template_columns": null,
            "grid_template_rows": null,
            "height": null,
            "justify_content": null,
            "justify_items": null,
            "left": null,
            "margin": null,
            "max_height": null,
            "max_width": null,
            "min_height": null,
            "min_width": null,
            "object_fit": null,
            "object_position": null,
            "order": null,
            "overflow": null,
            "overflow_x": null,
            "overflow_y": null,
            "padding": null,
            "right": null,
            "top": null,
            "visibility": null,
            "width": null
          }
        },
        "cd2636736f294991922d2894f0d38d4c": {
          "model_module": "@jupyter-widgets/controls",
          "model_name": "DescriptionStyleModel",
          "model_module_version": "1.5.0",
          "state": {
            "_model_module": "@jupyter-widgets/controls",
            "_model_module_version": "1.5.0",
            "_model_name": "DescriptionStyleModel",
            "_view_count": null,
            "_view_module": "@jupyter-widgets/base",
            "_view_module_version": "1.2.0",
            "_view_name": "StyleView",
            "description_width": ""
          }
        },
        "484475039a984e41a0a886a1b7c0a8a6": {
          "model_module": "@jupyter-widgets/base",
          "model_name": "LayoutModel",
          "model_module_version": "1.2.0",
          "state": {
            "_model_module": "@jupyter-widgets/base",
            "_model_module_version": "1.2.0",
            "_model_name": "LayoutModel",
            "_view_count": null,
            "_view_module": "@jupyter-widgets/base",
            "_view_module_version": "1.2.0",
            "_view_name": "LayoutView",
            "align_content": null,
            "align_items": null,
            "align_self": null,
            "border": null,
            "bottom": null,
            "display": null,
            "flex": null,
            "flex_flow": null,
            "grid_area": null,
            "grid_auto_columns": null,
            "grid_auto_flow": null,
            "grid_auto_rows": null,
            "grid_column": null,
            "grid_gap": null,
            "grid_row": null,
            "grid_template_areas": null,
            "grid_template_columns": null,
            "grid_template_rows": null,
            "height": null,
            "justify_content": null,
            "justify_items": null,
            "left": null,
            "margin": null,
            "max_height": null,
            "max_width": null,
            "min_height": null,
            "min_width": null,
            "object_fit": null,
            "object_position": null,
            "order": null,
            "overflow": null,
            "overflow_x": null,
            "overflow_y": null,
            "padding": null,
            "right": null,
            "top": null,
            "visibility": null,
            "width": null
          }
        },
        "cefc504d31ce47418066b4ee3d392793": {
          "model_module": "@jupyter-widgets/controls",
          "model_name": "ProgressStyleModel",
          "model_module_version": "1.5.0",
          "state": {
            "_model_module": "@jupyter-widgets/controls",
            "_model_module_version": "1.5.0",
            "_model_name": "ProgressStyleModel",
            "_view_count": null,
            "_view_module": "@jupyter-widgets/base",
            "_view_module_version": "1.2.0",
            "_view_name": "StyleView",
            "bar_color": null,
            "description_width": ""
          }
        },
        "f59a741b19614603bdae1ef624deda8e": {
          "model_module": "@jupyter-widgets/base",
          "model_name": "LayoutModel",
          "model_module_version": "1.2.0",
          "state": {
            "_model_module": "@jupyter-widgets/base",
            "_model_module_version": "1.2.0",
            "_model_name": "LayoutModel",
            "_view_count": null,
            "_view_module": "@jupyter-widgets/base",
            "_view_module_version": "1.2.0",
            "_view_name": "LayoutView",
            "align_content": null,
            "align_items": null,
            "align_self": null,
            "border": null,
            "bottom": null,
            "display": null,
            "flex": null,
            "flex_flow": null,
            "grid_area": null,
            "grid_auto_columns": null,
            "grid_auto_flow": null,
            "grid_auto_rows": null,
            "grid_column": null,
            "grid_gap": null,
            "grid_row": null,
            "grid_template_areas": null,
            "grid_template_columns": null,
            "grid_template_rows": null,
            "height": null,
            "justify_content": null,
            "justify_items": null,
            "left": null,
            "margin": null,
            "max_height": null,
            "max_width": null,
            "min_height": null,
            "min_width": null,
            "object_fit": null,
            "object_position": null,
            "order": null,
            "overflow": null,
            "overflow_x": null,
            "overflow_y": null,
            "padding": null,
            "right": null,
            "top": null,
            "visibility": null,
            "width": null
          }
        },
        "c8d3bd7b8ea8452bb2ff452d7c102293": {
          "model_module": "@jupyter-widgets/controls",
          "model_name": "DescriptionStyleModel",
          "model_module_version": "1.5.0",
          "state": {
            "_model_module": "@jupyter-widgets/controls",
            "_model_module_version": "1.5.0",
            "_model_name": "DescriptionStyleModel",
            "_view_count": null,
            "_view_module": "@jupyter-widgets/base",
            "_view_module_version": "1.2.0",
            "_view_name": "StyleView",
            "description_width": ""
          }
        },
        "783f5d60d90f4899838cad3b62558ebd": {
          "model_module": "@jupyter-widgets/controls",
          "model_name": "HBoxModel",
          "model_module_version": "1.5.0",
          "state": {
            "_dom_classes": [],
            "_model_module": "@jupyter-widgets/controls",
            "_model_module_version": "1.5.0",
            "_model_name": "HBoxModel",
            "_view_count": null,
            "_view_module": "@jupyter-widgets/controls",
            "_view_module_version": "1.5.0",
            "_view_name": "HBoxView",
            "box_style": "",
            "children": [
              "IPY_MODEL_896241c4267a4f458d8ebdbb730d3639",
              "IPY_MODEL_63bf60575f4149b5abc78f046650d692",
              "IPY_MODEL_5edd9c0f24bd414894356bf6f773d3f1"
            ],
            "layout": "IPY_MODEL_345db38090824814affa7987caa6d691"
          }
        },
        "896241c4267a4f458d8ebdbb730d3639": {
          "model_module": "@jupyter-widgets/controls",
          "model_name": "HTMLModel",
          "model_module_version": "1.5.0",
          "state": {
            "_dom_classes": [],
            "_model_module": "@jupyter-widgets/controls",
            "_model_module_version": "1.5.0",
            "_model_name": "HTMLModel",
            "_view_count": null,
            "_view_module": "@jupyter-widgets/controls",
            "_view_module_version": "1.5.0",
            "_view_name": "HTMLView",
            "description": "",
            "description_tooltip": null,
            "layout": "IPY_MODEL_4448eea1ca9e4a7cb70a6ca92f3305e6",
            "placeholder": "​",
            "style": "IPY_MODEL_fca2716456bc4ed3b68a4b1d7be51173",
            "value": "Downloading pytorch_model.bin: 100%"
          }
        },
        "63bf60575f4149b5abc78f046650d692": {
          "model_module": "@jupyter-widgets/controls",
          "model_name": "FloatProgressModel",
          "model_module_version": "1.5.0",
          "state": {
            "_dom_classes": [],
            "_model_module": "@jupyter-widgets/controls",
            "_model_module_version": "1.5.0",
            "_model_name": "FloatProgressModel",
            "_view_count": null,
            "_view_module": "@jupyter-widgets/controls",
            "_view_module_version": "1.5.0",
            "_view_name": "ProgressView",
            "bar_style": "success",
            "description": "",
            "description_tooltip": null,
            "layout": "IPY_MODEL_fe697fd06684403d8c12a9ebb60975fa",
            "max": 465989449,
            "min": 0,
            "orientation": "horizontal",
            "style": "IPY_MODEL_684853bb6bb2493d8b6314d298c9a3df",
            "value": 465989449
          }
        },
        "5edd9c0f24bd414894356bf6f773d3f1": {
          "model_module": "@jupyter-widgets/controls",
          "model_name": "HTMLModel",
          "model_module_version": "1.5.0",
          "state": {
            "_dom_classes": [],
            "_model_module": "@jupyter-widgets/controls",
            "_model_module_version": "1.5.0",
            "_model_name": "HTMLModel",
            "_view_count": null,
            "_view_module": "@jupyter-widgets/controls",
            "_view_module_version": "1.5.0",
            "_view_name": "HTMLView",
            "description": "",
            "description_tooltip": null,
            "layout": "IPY_MODEL_99641e20261f48f99ed7879c6ead2cf9",
            "placeholder": "​",
            "style": "IPY_MODEL_c37886da868b4266bfe091c13982fa69",
            "value": " 466M/466M [00:11&lt;00:00, 45.6MB/s]"
          }
        },
        "345db38090824814affa7987caa6d691": {
          "model_module": "@jupyter-widgets/base",
          "model_name": "LayoutModel",
          "model_module_version": "1.2.0",
          "state": {
            "_model_module": "@jupyter-widgets/base",
            "_model_module_version": "1.2.0",
            "_model_name": "LayoutModel",
            "_view_count": null,
            "_view_module": "@jupyter-widgets/base",
            "_view_module_version": "1.2.0",
            "_view_name": "LayoutView",
            "align_content": null,
            "align_items": null,
            "align_self": null,
            "border": null,
            "bottom": null,
            "display": null,
            "flex": null,
            "flex_flow": null,
            "grid_area": null,
            "grid_auto_columns": null,
            "grid_auto_flow": null,
            "grid_auto_rows": null,
            "grid_column": null,
            "grid_gap": null,
            "grid_row": null,
            "grid_template_areas": null,
            "grid_template_columns": null,
            "grid_template_rows": null,
            "height": null,
            "justify_content": null,
            "justify_items": null,
            "left": null,
            "margin": null,
            "max_height": null,
            "max_width": null,
            "min_height": null,
            "min_width": null,
            "object_fit": null,
            "object_position": null,
            "order": null,
            "overflow": null,
            "overflow_x": null,
            "overflow_y": null,
            "padding": null,
            "right": null,
            "top": null,
            "visibility": null,
            "width": null
          }
        },
        "4448eea1ca9e4a7cb70a6ca92f3305e6": {
          "model_module": "@jupyter-widgets/base",
          "model_name": "LayoutModel",
          "model_module_version": "1.2.0",
          "state": {
            "_model_module": "@jupyter-widgets/base",
            "_model_module_version": "1.2.0",
            "_model_name": "LayoutModel",
            "_view_count": null,
            "_view_module": "@jupyter-widgets/base",
            "_view_module_version": "1.2.0",
            "_view_name": "LayoutView",
            "align_content": null,
            "align_items": null,
            "align_self": null,
            "border": null,
            "bottom": null,
            "display": null,
            "flex": null,
            "flex_flow": null,
            "grid_area": null,
            "grid_auto_columns": null,
            "grid_auto_flow": null,
            "grid_auto_rows": null,
            "grid_column": null,
            "grid_gap": null,
            "grid_row": null,
            "grid_template_areas": null,
            "grid_template_columns": null,
            "grid_template_rows": null,
            "height": null,
            "justify_content": null,
            "justify_items": null,
            "left": null,
            "margin": null,
            "max_height": null,
            "max_width": null,
            "min_height": null,
            "min_width": null,
            "object_fit": null,
            "object_position": null,
            "order": null,
            "overflow": null,
            "overflow_x": null,
            "overflow_y": null,
            "padding": null,
            "right": null,
            "top": null,
            "visibility": null,
            "width": null
          }
        },
        "fca2716456bc4ed3b68a4b1d7be51173": {
          "model_module": "@jupyter-widgets/controls",
          "model_name": "DescriptionStyleModel",
          "model_module_version": "1.5.0",
          "state": {
            "_model_module": "@jupyter-widgets/controls",
            "_model_module_version": "1.5.0",
            "_model_name": "DescriptionStyleModel",
            "_view_count": null,
            "_view_module": "@jupyter-widgets/base",
            "_view_module_version": "1.2.0",
            "_view_name": "StyleView",
            "description_width": ""
          }
        },
        "fe697fd06684403d8c12a9ebb60975fa": {
          "model_module": "@jupyter-widgets/base",
          "model_name": "LayoutModel",
          "model_module_version": "1.2.0",
          "state": {
            "_model_module": "@jupyter-widgets/base",
            "_model_module_version": "1.2.0",
            "_model_name": "LayoutModel",
            "_view_count": null,
            "_view_module": "@jupyter-widgets/base",
            "_view_module_version": "1.2.0",
            "_view_name": "LayoutView",
            "align_content": null,
            "align_items": null,
            "align_self": null,
            "border": null,
            "bottom": null,
            "display": null,
            "flex": null,
            "flex_flow": null,
            "grid_area": null,
            "grid_auto_columns": null,
            "grid_auto_flow": null,
            "grid_auto_rows": null,
            "grid_column": null,
            "grid_gap": null,
            "grid_row": null,
            "grid_template_areas": null,
            "grid_template_columns": null,
            "grid_template_rows": null,
            "height": null,
            "justify_content": null,
            "justify_items": null,
            "left": null,
            "margin": null,
            "max_height": null,
            "max_width": null,
            "min_height": null,
            "min_width": null,
            "object_fit": null,
            "object_position": null,
            "order": null,
            "overflow": null,
            "overflow_x": null,
            "overflow_y": null,
            "padding": null,
            "right": null,
            "top": null,
            "visibility": null,
            "width": null
          }
        },
        "684853bb6bb2493d8b6314d298c9a3df": {
          "model_module": "@jupyter-widgets/controls",
          "model_name": "ProgressStyleModel",
          "model_module_version": "1.5.0",
          "state": {
            "_model_module": "@jupyter-widgets/controls",
            "_model_module_version": "1.5.0",
            "_model_name": "ProgressStyleModel",
            "_view_count": null,
            "_view_module": "@jupyter-widgets/base",
            "_view_module_version": "1.2.0",
            "_view_name": "StyleView",
            "bar_color": null,
            "description_width": ""
          }
        },
        "99641e20261f48f99ed7879c6ead2cf9": {
          "model_module": "@jupyter-widgets/base",
          "model_name": "LayoutModel",
          "model_module_version": "1.2.0",
          "state": {
            "_model_module": "@jupyter-widgets/base",
            "_model_module_version": "1.2.0",
            "_model_name": "LayoutModel",
            "_view_count": null,
            "_view_module": "@jupyter-widgets/base",
            "_view_module_version": "1.2.0",
            "_view_name": "LayoutView",
            "align_content": null,
            "align_items": null,
            "align_self": null,
            "border": null,
            "bottom": null,
            "display": null,
            "flex": null,
            "flex_flow": null,
            "grid_area": null,
            "grid_auto_columns": null,
            "grid_auto_flow": null,
            "grid_auto_rows": null,
            "grid_column": null,
            "grid_gap": null,
            "grid_row": null,
            "grid_template_areas": null,
            "grid_template_columns": null,
            "grid_template_rows": null,
            "height": null,
            "justify_content": null,
            "justify_items": null,
            "left": null,
            "margin": null,
            "max_height": null,
            "max_width": null,
            "min_height": null,
            "min_width": null,
            "object_fit": null,
            "object_position": null,
            "order": null,
            "overflow": null,
            "overflow_x": null,
            "overflow_y": null,
            "padding": null,
            "right": null,
            "top": null,
            "visibility": null,
            "width": null
          }
        },
        "c37886da868b4266bfe091c13982fa69": {
          "model_module": "@jupyter-widgets/controls",
          "model_name": "DescriptionStyleModel",
          "model_module_version": "1.5.0",
          "state": {
            "_model_module": "@jupyter-widgets/controls",
            "_model_module_version": "1.5.0",
            "_model_name": "DescriptionStyleModel",
            "_view_count": null,
            "_view_module": "@jupyter-widgets/base",
            "_view_module_version": "1.2.0",
            "_view_name": "StyleView",
            "description_width": ""
          }
        },
        "e4fef6f484984eccab0769e7aee57ac7": {
          "model_module": "@jupyter-widgets/controls",
          "model_name": "HBoxModel",
          "model_module_version": "1.5.0",
          "state": {
            "_dom_classes": [],
            "_model_module": "@jupyter-widgets/controls",
            "_model_module_version": "1.5.0",
            "_model_name": "HBoxModel",
            "_view_count": null,
            "_view_module": "@jupyter-widgets/controls",
            "_view_module_version": "1.5.0",
            "_view_name": "HBoxView",
            "box_style": "",
            "children": [
              "IPY_MODEL_61cffa88e7cf477db5a9d342e4a12bf0",
              "IPY_MODEL_ef6c8206137c446187597be79e49a191",
              "IPY_MODEL_d5cb4152dab4489aadc0849d34aec151"
            ],
            "layout": "IPY_MODEL_b1a2c717acb2418ca467df2d0f5d823d"
          }
        },
        "61cffa88e7cf477db5a9d342e4a12bf0": {
          "model_module": "@jupyter-widgets/controls",
          "model_name": "HTMLModel",
          "model_module_version": "1.5.0",
          "state": {
            "_dom_classes": [],
            "_model_module": "@jupyter-widgets/controls",
            "_model_module_version": "1.5.0",
            "_model_name": "HTMLModel",
            "_view_count": null,
            "_view_module": "@jupyter-widgets/controls",
            "_view_module_version": "1.5.0",
            "_view_name": "HTMLView",
            "description": "",
            "description_tooltip": null,
            "layout": "IPY_MODEL_f2cdaeaf0ebe474891921bebffee099f",
            "placeholder": "​",
            "style": "IPY_MODEL_1bec843c87074835a35bfb27754eb50c",
            "value": "Downloading (…)okenizer_config.json: 100%"
          }
        },
        "ef6c8206137c446187597be79e49a191": {
          "model_module": "@jupyter-widgets/controls",
          "model_name": "FloatProgressModel",
          "model_module_version": "1.5.0",
          "state": {
            "_dom_classes": [],
            "_model_module": "@jupyter-widgets/controls",
            "_model_module_version": "1.5.0",
            "_model_name": "FloatProgressModel",
            "_view_count": null,
            "_view_module": "@jupyter-widgets/controls",
            "_view_module_version": "1.5.0",
            "_view_name": "ProgressView",
            "bar_style": "success",
            "description": "",
            "description_tooltip": null,
            "layout": "IPY_MODEL_6b6b29423a724ad293886e8ebc4981eb",
            "max": 181,
            "min": 0,
            "orientation": "horizontal",
            "style": "IPY_MODEL_92b8869f536249b797210d99deab519b",
            "value": 181
          }
        },
        "d5cb4152dab4489aadc0849d34aec151": {
          "model_module": "@jupyter-widgets/controls",
          "model_name": "HTMLModel",
          "model_module_version": "1.5.0",
          "state": {
            "_dom_classes": [],
            "_model_module": "@jupyter-widgets/controls",
            "_model_module_version": "1.5.0",
            "_model_name": "HTMLModel",
            "_view_count": null,
            "_view_module": "@jupyter-widgets/controls",
            "_view_module_version": "1.5.0",
            "_view_name": "HTMLView",
            "description": "",
            "description_tooltip": null,
            "layout": "IPY_MODEL_1c863cd80da3438380d2813cd12bfe8b",
            "placeholder": "​",
            "style": "IPY_MODEL_5d1c30c3a5064eada4203b05c0ddb08b",
            "value": " 181/181 [00:00&lt;00:00, 7.55kB/s]"
          }
        },
        "b1a2c717acb2418ca467df2d0f5d823d": {
          "model_module": "@jupyter-widgets/base",
          "model_name": "LayoutModel",
          "model_module_version": "1.2.0",
          "state": {
            "_model_module": "@jupyter-widgets/base",
            "_model_module_version": "1.2.0",
            "_model_name": "LayoutModel",
            "_view_count": null,
            "_view_module": "@jupyter-widgets/base",
            "_view_module_version": "1.2.0",
            "_view_name": "LayoutView",
            "align_content": null,
            "align_items": null,
            "align_self": null,
            "border": null,
            "bottom": null,
            "display": null,
            "flex": null,
            "flex_flow": null,
            "grid_area": null,
            "grid_auto_columns": null,
            "grid_auto_flow": null,
            "grid_auto_rows": null,
            "grid_column": null,
            "grid_gap": null,
            "grid_row": null,
            "grid_template_areas": null,
            "grid_template_columns": null,
            "grid_template_rows": null,
            "height": null,
            "justify_content": null,
            "justify_items": null,
            "left": null,
            "margin": null,
            "max_height": null,
            "max_width": null,
            "min_height": null,
            "min_width": null,
            "object_fit": null,
            "object_position": null,
            "order": null,
            "overflow": null,
            "overflow_x": null,
            "overflow_y": null,
            "padding": null,
            "right": null,
            "top": null,
            "visibility": null,
            "width": null
          }
        },
        "f2cdaeaf0ebe474891921bebffee099f": {
          "model_module": "@jupyter-widgets/base",
          "model_name": "LayoutModel",
          "model_module_version": "1.2.0",
          "state": {
            "_model_module": "@jupyter-widgets/base",
            "_model_module_version": "1.2.0",
            "_model_name": "LayoutModel",
            "_view_count": null,
            "_view_module": "@jupyter-widgets/base",
            "_view_module_version": "1.2.0",
            "_view_name": "LayoutView",
            "align_content": null,
            "align_items": null,
            "align_self": null,
            "border": null,
            "bottom": null,
            "display": null,
            "flex": null,
            "flex_flow": null,
            "grid_area": null,
            "grid_auto_columns": null,
            "grid_auto_flow": null,
            "grid_auto_rows": null,
            "grid_column": null,
            "grid_gap": null,
            "grid_row": null,
            "grid_template_areas": null,
            "grid_template_columns": null,
            "grid_template_rows": null,
            "height": null,
            "justify_content": null,
            "justify_items": null,
            "left": null,
            "margin": null,
            "max_height": null,
            "max_width": null,
            "min_height": null,
            "min_width": null,
            "object_fit": null,
            "object_position": null,
            "order": null,
            "overflow": null,
            "overflow_x": null,
            "overflow_y": null,
            "padding": null,
            "right": null,
            "top": null,
            "visibility": null,
            "width": null
          }
        },
        "1bec843c87074835a35bfb27754eb50c": {
          "model_module": "@jupyter-widgets/controls",
          "model_name": "DescriptionStyleModel",
          "model_module_version": "1.5.0",
          "state": {
            "_model_module": "@jupyter-widgets/controls",
            "_model_module_version": "1.5.0",
            "_model_name": "DescriptionStyleModel",
            "_view_count": null,
            "_view_module": "@jupyter-widgets/base",
            "_view_module_version": "1.2.0",
            "_view_name": "StyleView",
            "description_width": ""
          }
        },
        "6b6b29423a724ad293886e8ebc4981eb": {
          "model_module": "@jupyter-widgets/base",
          "model_name": "LayoutModel",
          "model_module_version": "1.2.0",
          "state": {
            "_model_module": "@jupyter-widgets/base",
            "_model_module_version": "1.2.0",
            "_model_name": "LayoutModel",
            "_view_count": null,
            "_view_module": "@jupyter-widgets/base",
            "_view_module_version": "1.2.0",
            "_view_name": "LayoutView",
            "align_content": null,
            "align_items": null,
            "align_self": null,
            "border": null,
            "bottom": null,
            "display": null,
            "flex": null,
            "flex_flow": null,
            "grid_area": null,
            "grid_auto_columns": null,
            "grid_auto_flow": null,
            "grid_auto_rows": null,
            "grid_column": null,
            "grid_gap": null,
            "grid_row": null,
            "grid_template_areas": null,
            "grid_template_columns": null,
            "grid_template_rows": null,
            "height": null,
            "justify_content": null,
            "justify_items": null,
            "left": null,
            "margin": null,
            "max_height": null,
            "max_width": null,
            "min_height": null,
            "min_width": null,
            "object_fit": null,
            "object_position": null,
            "order": null,
            "overflow": null,
            "overflow_x": null,
            "overflow_y": null,
            "padding": null,
            "right": null,
            "top": null,
            "visibility": null,
            "width": null
          }
        },
        "92b8869f536249b797210d99deab519b": {
          "model_module": "@jupyter-widgets/controls",
          "model_name": "ProgressStyleModel",
          "model_module_version": "1.5.0",
          "state": {
            "_model_module": "@jupyter-widgets/controls",
            "_model_module_version": "1.5.0",
            "_model_name": "ProgressStyleModel",
            "_view_count": null,
            "_view_module": "@jupyter-widgets/base",
            "_view_module_version": "1.2.0",
            "_view_name": "StyleView",
            "bar_color": null,
            "description_width": ""
          }
        },
        "1c863cd80da3438380d2813cd12bfe8b": {
          "model_module": "@jupyter-widgets/base",
          "model_name": "LayoutModel",
          "model_module_version": "1.2.0",
          "state": {
            "_model_module": "@jupyter-widgets/base",
            "_model_module_version": "1.2.0",
            "_model_name": "LayoutModel",
            "_view_count": null,
            "_view_module": "@jupyter-widgets/base",
            "_view_module_version": "1.2.0",
            "_view_name": "LayoutView",
            "align_content": null,
            "align_items": null,
            "align_self": null,
            "border": null,
            "bottom": null,
            "display": null,
            "flex": null,
            "flex_flow": null,
            "grid_area": null,
            "grid_auto_columns": null,
            "grid_auto_flow": null,
            "grid_auto_rows": null,
            "grid_column": null,
            "grid_gap": null,
            "grid_row": null,
            "grid_template_areas": null,
            "grid_template_columns": null,
            "grid_template_rows": null,
            "height": null,
            "justify_content": null,
            "justify_items": null,
            "left": null,
            "margin": null,
            "max_height": null,
            "max_width": null,
            "min_height": null,
            "min_width": null,
            "object_fit": null,
            "object_position": null,
            "order": null,
            "overflow": null,
            "overflow_x": null,
            "overflow_y": null,
            "padding": null,
            "right": null,
            "top": null,
            "visibility": null,
            "width": null
          }
        },
        "5d1c30c3a5064eada4203b05c0ddb08b": {
          "model_module": "@jupyter-widgets/controls",
          "model_name": "DescriptionStyleModel",
          "model_module_version": "1.5.0",
          "state": {
            "_model_module": "@jupyter-widgets/controls",
            "_model_module_version": "1.5.0",
            "_model_name": "DescriptionStyleModel",
            "_view_count": null,
            "_view_module": "@jupyter-widgets/base",
            "_view_module_version": "1.2.0",
            "_view_name": "StyleView",
            "description_width": ""
          }
        },
        "13fc27eac3184f899d7baa5d38dccb59": {
          "model_module": "@jupyter-widgets/controls",
          "model_name": "HBoxModel",
          "model_module_version": "1.5.0",
          "state": {
            "_dom_classes": [],
            "_model_module": "@jupyter-widgets/controls",
            "_model_module_version": "1.5.0",
            "_model_name": "HBoxModel",
            "_view_count": null,
            "_view_module": "@jupyter-widgets/controls",
            "_view_module_version": "1.5.0",
            "_view_name": "HBoxView",
            "box_style": "",
            "children": [
              "IPY_MODEL_0ff454c429f74b859ebe9f14062febfe",
              "IPY_MODEL_5dfb0273c9494649950900631565fbf0",
              "IPY_MODEL_7e321313330e433db94ce20435187c5c"
            ],
            "layout": "IPY_MODEL_7eddab8917d4428c9d245fbdefe48843"
          }
        },
        "0ff454c429f74b859ebe9f14062febfe": {
          "model_module": "@jupyter-widgets/controls",
          "model_name": "HTMLModel",
          "model_module_version": "1.5.0",
          "state": {
            "_dom_classes": [],
            "_model_module": "@jupyter-widgets/controls",
            "_model_module_version": "1.5.0",
            "_model_name": "HTMLModel",
            "_view_count": null,
            "_view_module": "@jupyter-widgets/controls",
            "_view_module_version": "1.5.0",
            "_view_name": "HTMLView",
            "description": "",
            "description_tooltip": null,
            "layout": "IPY_MODEL_5f61e0908d0b44cdb82fc7c0773ab51b",
            "placeholder": "​",
            "style": "IPY_MODEL_6c51a796149547f9bf113db89581749c",
            "value": "Downloading (…)solve/main/vocab.txt: 100%"
          }
        },
        "5dfb0273c9494649950900631565fbf0": {
          "model_module": "@jupyter-widgets/controls",
          "model_name": "FloatProgressModel",
          "model_module_version": "1.5.0",
          "state": {
            "_dom_classes": [],
            "_model_module": "@jupyter-widgets/controls",
            "_model_module_version": "1.5.0",
            "_model_name": "FloatProgressModel",
            "_view_count": null,
            "_view_module": "@jupyter-widgets/controls",
            "_view_module_version": "1.5.0",
            "_view_name": "ProgressView",
            "bar_style": "success",
            "description": "",
            "description_tooltip": null,
            "layout": "IPY_MODEL_c9d82de452dc4ad28be1110169526162",
            "max": 606915,
            "min": 0,
            "orientation": "horizontal",
            "style": "IPY_MODEL_7d06d3bc5d4e4bc7a802c5897d583c29",
            "value": 606915
          }
        },
        "7e321313330e433db94ce20435187c5c": {
          "model_module": "@jupyter-widgets/controls",
          "model_name": "HTMLModel",
          "model_module_version": "1.5.0",
          "state": {
            "_dom_classes": [],
            "_model_module": "@jupyter-widgets/controls",
            "_model_module_version": "1.5.0",
            "_model_name": "HTMLModel",
            "_view_count": null,
            "_view_module": "@jupyter-widgets/controls",
            "_view_module_version": "1.5.0",
            "_view_name": "HTMLView",
            "description": "",
            "description_tooltip": null,
            "layout": "IPY_MODEL_5f253493e1fa486ea0c8187e416ea389",
            "placeholder": "​",
            "style": "IPY_MODEL_52de63e40f964d42aaf6a4c282afd5a2",
            "value": " 607k/607k [00:00&lt;00:00, 2.47MB/s]"
          }
        },
        "7eddab8917d4428c9d245fbdefe48843": {
          "model_module": "@jupyter-widgets/base",
          "model_name": "LayoutModel",
          "model_module_version": "1.2.0",
          "state": {
            "_model_module": "@jupyter-widgets/base",
            "_model_module_version": "1.2.0",
            "_model_name": "LayoutModel",
            "_view_count": null,
            "_view_module": "@jupyter-widgets/base",
            "_view_module_version": "1.2.0",
            "_view_name": "LayoutView",
            "align_content": null,
            "align_items": null,
            "align_self": null,
            "border": null,
            "bottom": null,
            "display": null,
            "flex": null,
            "flex_flow": null,
            "grid_area": null,
            "grid_auto_columns": null,
            "grid_auto_flow": null,
            "grid_auto_rows": null,
            "grid_column": null,
            "grid_gap": null,
            "grid_row": null,
            "grid_template_areas": null,
            "grid_template_columns": null,
            "grid_template_rows": null,
            "height": null,
            "justify_content": null,
            "justify_items": null,
            "left": null,
            "margin": null,
            "max_height": null,
            "max_width": null,
            "min_height": null,
            "min_width": null,
            "object_fit": null,
            "object_position": null,
            "order": null,
            "overflow": null,
            "overflow_x": null,
            "overflow_y": null,
            "padding": null,
            "right": null,
            "top": null,
            "visibility": null,
            "width": null
          }
        },
        "5f61e0908d0b44cdb82fc7c0773ab51b": {
          "model_module": "@jupyter-widgets/base",
          "model_name": "LayoutModel",
          "model_module_version": "1.2.0",
          "state": {
            "_model_module": "@jupyter-widgets/base",
            "_model_module_version": "1.2.0",
            "_model_name": "LayoutModel",
            "_view_count": null,
            "_view_module": "@jupyter-widgets/base",
            "_view_module_version": "1.2.0",
            "_view_name": "LayoutView",
            "align_content": null,
            "align_items": null,
            "align_self": null,
            "border": null,
            "bottom": null,
            "display": null,
            "flex": null,
            "flex_flow": null,
            "grid_area": null,
            "grid_auto_columns": null,
            "grid_auto_flow": null,
            "grid_auto_rows": null,
            "grid_column": null,
            "grid_gap": null,
            "grid_row": null,
            "grid_template_areas": null,
            "grid_template_columns": null,
            "grid_template_rows": null,
            "height": null,
            "justify_content": null,
            "justify_items": null,
            "left": null,
            "margin": null,
            "max_height": null,
            "max_width": null,
            "min_height": null,
            "min_width": null,
            "object_fit": null,
            "object_position": null,
            "order": null,
            "overflow": null,
            "overflow_x": null,
            "overflow_y": null,
            "padding": null,
            "right": null,
            "top": null,
            "visibility": null,
            "width": null
          }
        },
        "6c51a796149547f9bf113db89581749c": {
          "model_module": "@jupyter-widgets/controls",
          "model_name": "DescriptionStyleModel",
          "model_module_version": "1.5.0",
          "state": {
            "_model_module": "@jupyter-widgets/controls",
            "_model_module_version": "1.5.0",
            "_model_name": "DescriptionStyleModel",
            "_view_count": null,
            "_view_module": "@jupyter-widgets/base",
            "_view_module_version": "1.2.0",
            "_view_name": "StyleView",
            "description_width": ""
          }
        },
        "c9d82de452dc4ad28be1110169526162": {
          "model_module": "@jupyter-widgets/base",
          "model_name": "LayoutModel",
          "model_module_version": "1.2.0",
          "state": {
            "_model_module": "@jupyter-widgets/base",
            "_model_module_version": "1.2.0",
            "_model_name": "LayoutModel",
            "_view_count": null,
            "_view_module": "@jupyter-widgets/base",
            "_view_module_version": "1.2.0",
            "_view_name": "LayoutView",
            "align_content": null,
            "align_items": null,
            "align_self": null,
            "border": null,
            "bottom": null,
            "display": null,
            "flex": null,
            "flex_flow": null,
            "grid_area": null,
            "grid_auto_columns": null,
            "grid_auto_flow": null,
            "grid_auto_rows": null,
            "grid_column": null,
            "grid_gap": null,
            "grid_row": null,
            "grid_template_areas": null,
            "grid_template_columns": null,
            "grid_template_rows": null,
            "height": null,
            "justify_content": null,
            "justify_items": null,
            "left": null,
            "margin": null,
            "max_height": null,
            "max_width": null,
            "min_height": null,
            "min_width": null,
            "object_fit": null,
            "object_position": null,
            "order": null,
            "overflow": null,
            "overflow_x": null,
            "overflow_y": null,
            "padding": null,
            "right": null,
            "top": null,
            "visibility": null,
            "width": null
          }
        },
        "7d06d3bc5d4e4bc7a802c5897d583c29": {
          "model_module": "@jupyter-widgets/controls",
          "model_name": "ProgressStyleModel",
          "model_module_version": "1.5.0",
          "state": {
            "_model_module": "@jupyter-widgets/controls",
            "_model_module_version": "1.5.0",
            "_model_name": "ProgressStyleModel",
            "_view_count": null,
            "_view_module": "@jupyter-widgets/base",
            "_view_module_version": "1.2.0",
            "_view_name": "StyleView",
            "bar_color": null,
            "description_width": ""
          }
        },
        "5f253493e1fa486ea0c8187e416ea389": {
          "model_module": "@jupyter-widgets/base",
          "model_name": "LayoutModel",
          "model_module_version": "1.2.0",
          "state": {
            "_model_module": "@jupyter-widgets/base",
            "_model_module_version": "1.2.0",
            "_model_name": "LayoutModel",
            "_view_count": null,
            "_view_module": "@jupyter-widgets/base",
            "_view_module_version": "1.2.0",
            "_view_name": "LayoutView",
            "align_content": null,
            "align_items": null,
            "align_self": null,
            "border": null,
            "bottom": null,
            "display": null,
            "flex": null,
            "flex_flow": null,
            "grid_area": null,
            "grid_auto_columns": null,
            "grid_auto_flow": null,
            "grid_auto_rows": null,
            "grid_column": null,
            "grid_gap": null,
            "grid_row": null,
            "grid_template_areas": null,
            "grid_template_columns": null,
            "grid_template_rows": null,
            "height": null,
            "justify_content": null,
            "justify_items": null,
            "left": null,
            "margin": null,
            "max_height": null,
            "max_width": null,
            "min_height": null,
            "min_width": null,
            "object_fit": null,
            "object_position": null,
            "order": null,
            "overflow": null,
            "overflow_x": null,
            "overflow_y": null,
            "padding": null,
            "right": null,
            "top": null,
            "visibility": null,
            "width": null
          }
        },
        "52de63e40f964d42aaf6a4c282afd5a2": {
          "model_module": "@jupyter-widgets/controls",
          "model_name": "DescriptionStyleModel",
          "model_module_version": "1.5.0",
          "state": {
            "_model_module": "@jupyter-widgets/controls",
            "_model_module_version": "1.5.0",
            "_model_name": "DescriptionStyleModel",
            "_view_count": null,
            "_view_module": "@jupyter-widgets/base",
            "_view_module_version": "1.2.0",
            "_view_name": "StyleView",
            "description_width": ""
          }
        },
        "4a6ee139996043f5b5bb4c696be1a40c": {
          "model_module": "@jupyter-widgets/controls",
          "model_name": "HBoxModel",
          "model_module_version": "1.5.0",
          "state": {
            "_dom_classes": [],
            "_model_module": "@jupyter-widgets/controls",
            "_model_module_version": "1.5.0",
            "_model_name": "HBoxModel",
            "_view_count": null,
            "_view_module": "@jupyter-widgets/controls",
            "_view_module_version": "1.5.0",
            "_view_name": "HBoxView",
            "box_style": "",
            "children": [
              "IPY_MODEL_74bbeee3a3e54c0582a11f888d8704f7",
              "IPY_MODEL_97ac103f776044d5968acb70f3764559",
              "IPY_MODEL_237102dc947145f583e963d29fd868f9"
            ],
            "layout": "IPY_MODEL_574033ffec934671a3050d332b80d21e"
          }
        },
        "74bbeee3a3e54c0582a11f888d8704f7": {
          "model_module": "@jupyter-widgets/controls",
          "model_name": "HTMLModel",
          "model_module_version": "1.5.0",
          "state": {
            "_dom_classes": [],
            "_model_module": "@jupyter-widgets/controls",
            "_model_module_version": "1.5.0",
            "_model_name": "HTMLModel",
            "_view_count": null,
            "_view_module": "@jupyter-widgets/controls",
            "_view_module_version": "1.5.0",
            "_view_name": "HTMLView",
            "description": "",
            "description_tooltip": null,
            "layout": "IPY_MODEL_9c671fd871a54e949c9d93f0cb6c5417",
            "placeholder": "​",
            "style": "IPY_MODEL_d58ad78725874426933b6899cb689244",
            "value": "Downloading (…)cial_tokens_map.json: 100%"
          }
        },
        "97ac103f776044d5968acb70f3764559": {
          "model_module": "@jupyter-widgets/controls",
          "model_name": "FloatProgressModel",
          "model_module_version": "1.5.0",
          "state": {
            "_dom_classes": [],
            "_model_module": "@jupyter-widgets/controls",
            "_model_module_version": "1.5.0",
            "_model_name": "FloatProgressModel",
            "_view_count": null,
            "_view_module": "@jupyter-widgets/controls",
            "_view_module_version": "1.5.0",
            "_view_name": "ProgressView",
            "bar_style": "success",
            "description": "",
            "description_tooltip": null,
            "layout": "IPY_MODEL_86084531e6c24fab8937a7e271254e76",
            "max": 112,
            "min": 0,
            "orientation": "horizontal",
            "style": "IPY_MODEL_367c6d6990ed4f38809796b4bf48710f",
            "value": 112
          }
        },
        "237102dc947145f583e963d29fd868f9": {
          "model_module": "@jupyter-widgets/controls",
          "model_name": "HTMLModel",
          "model_module_version": "1.5.0",
          "state": {
            "_dom_classes": [],
            "_model_module": "@jupyter-widgets/controls",
            "_model_module_version": "1.5.0",
            "_model_name": "HTMLModel",
            "_view_count": null,
            "_view_module": "@jupyter-widgets/controls",
            "_view_module_version": "1.5.0",
            "_view_name": "HTMLView",
            "description": "",
            "description_tooltip": null,
            "layout": "IPY_MODEL_1dae5de947ba4180b54cb6b6a16faae8",
            "placeholder": "​",
            "style": "IPY_MODEL_eee908cc87dc4948a427692be264f8c2",
            "value": " 112/112 [00:00&lt;00:00, 1.87kB/s]"
          }
        },
        "574033ffec934671a3050d332b80d21e": {
          "model_module": "@jupyter-widgets/base",
          "model_name": "LayoutModel",
          "model_module_version": "1.2.0",
          "state": {
            "_model_module": "@jupyter-widgets/base",
            "_model_module_version": "1.2.0",
            "_model_name": "LayoutModel",
            "_view_count": null,
            "_view_module": "@jupyter-widgets/base",
            "_view_module_version": "1.2.0",
            "_view_name": "LayoutView",
            "align_content": null,
            "align_items": null,
            "align_self": null,
            "border": null,
            "bottom": null,
            "display": null,
            "flex": null,
            "flex_flow": null,
            "grid_area": null,
            "grid_auto_columns": null,
            "grid_auto_flow": null,
            "grid_auto_rows": null,
            "grid_column": null,
            "grid_gap": null,
            "grid_row": null,
            "grid_template_areas": null,
            "grid_template_columns": null,
            "grid_template_rows": null,
            "height": null,
            "justify_content": null,
            "justify_items": null,
            "left": null,
            "margin": null,
            "max_height": null,
            "max_width": null,
            "min_height": null,
            "min_width": null,
            "object_fit": null,
            "object_position": null,
            "order": null,
            "overflow": null,
            "overflow_x": null,
            "overflow_y": null,
            "padding": null,
            "right": null,
            "top": null,
            "visibility": null,
            "width": null
          }
        },
        "9c671fd871a54e949c9d93f0cb6c5417": {
          "model_module": "@jupyter-widgets/base",
          "model_name": "LayoutModel",
          "model_module_version": "1.2.0",
          "state": {
            "_model_module": "@jupyter-widgets/base",
            "_model_module_version": "1.2.0",
            "_model_name": "LayoutModel",
            "_view_count": null,
            "_view_module": "@jupyter-widgets/base",
            "_view_module_version": "1.2.0",
            "_view_name": "LayoutView",
            "align_content": null,
            "align_items": null,
            "align_self": null,
            "border": null,
            "bottom": null,
            "display": null,
            "flex": null,
            "flex_flow": null,
            "grid_area": null,
            "grid_auto_columns": null,
            "grid_auto_flow": null,
            "grid_auto_rows": null,
            "grid_column": null,
            "grid_gap": null,
            "grid_row": null,
            "grid_template_areas": null,
            "grid_template_columns": null,
            "grid_template_rows": null,
            "height": null,
            "justify_content": null,
            "justify_items": null,
            "left": null,
            "margin": null,
            "max_height": null,
            "max_width": null,
            "min_height": null,
            "min_width": null,
            "object_fit": null,
            "object_position": null,
            "order": null,
            "overflow": null,
            "overflow_x": null,
            "overflow_y": null,
            "padding": null,
            "right": null,
            "top": null,
            "visibility": null,
            "width": null
          }
        },
        "d58ad78725874426933b6899cb689244": {
          "model_module": "@jupyter-widgets/controls",
          "model_name": "DescriptionStyleModel",
          "model_module_version": "1.5.0",
          "state": {
            "_model_module": "@jupyter-widgets/controls",
            "_model_module_version": "1.5.0",
            "_model_name": "DescriptionStyleModel",
            "_view_count": null,
            "_view_module": "@jupyter-widgets/base",
            "_view_module_version": "1.2.0",
            "_view_name": "StyleView",
            "description_width": ""
          }
        },
        "86084531e6c24fab8937a7e271254e76": {
          "model_module": "@jupyter-widgets/base",
          "model_name": "LayoutModel",
          "model_module_version": "1.2.0",
          "state": {
            "_model_module": "@jupyter-widgets/base",
            "_model_module_version": "1.2.0",
            "_model_name": "LayoutModel",
            "_view_count": null,
            "_view_module": "@jupyter-widgets/base",
            "_view_module_version": "1.2.0",
            "_view_name": "LayoutView",
            "align_content": null,
            "align_items": null,
            "align_self": null,
            "border": null,
            "bottom": null,
            "display": null,
            "flex": null,
            "flex_flow": null,
            "grid_area": null,
            "grid_auto_columns": null,
            "grid_auto_flow": null,
            "grid_auto_rows": null,
            "grid_column": null,
            "grid_gap": null,
            "grid_row": null,
            "grid_template_areas": null,
            "grid_template_columns": null,
            "grid_template_rows": null,
            "height": null,
            "justify_content": null,
            "justify_items": null,
            "left": null,
            "margin": null,
            "max_height": null,
            "max_width": null,
            "min_height": null,
            "min_width": null,
            "object_fit": null,
            "object_position": null,
            "order": null,
            "overflow": null,
            "overflow_x": null,
            "overflow_y": null,
            "padding": null,
            "right": null,
            "top": null,
            "visibility": null,
            "width": null
          }
        },
        "367c6d6990ed4f38809796b4bf48710f": {
          "model_module": "@jupyter-widgets/controls",
          "model_name": "ProgressStyleModel",
          "model_module_version": "1.5.0",
          "state": {
            "_model_module": "@jupyter-widgets/controls",
            "_model_module_version": "1.5.0",
            "_model_name": "ProgressStyleModel",
            "_view_count": null,
            "_view_module": "@jupyter-widgets/base",
            "_view_module_version": "1.2.0",
            "_view_name": "StyleView",
            "bar_color": null,
            "description_width": ""
          }
        },
        "1dae5de947ba4180b54cb6b6a16faae8": {
          "model_module": "@jupyter-widgets/base",
          "model_name": "LayoutModel",
          "model_module_version": "1.2.0",
          "state": {
            "_model_module": "@jupyter-widgets/base",
            "_model_module_version": "1.2.0",
            "_model_name": "LayoutModel",
            "_view_count": null,
            "_view_module": "@jupyter-widgets/base",
            "_view_module_version": "1.2.0",
            "_view_name": "LayoutView",
            "align_content": null,
            "align_items": null,
            "align_self": null,
            "border": null,
            "bottom": null,
            "display": null,
            "flex": null,
            "flex_flow": null,
            "grid_area": null,
            "grid_auto_columns": null,
            "grid_auto_flow": null,
            "grid_auto_rows": null,
            "grid_column": null,
            "grid_gap": null,
            "grid_row": null,
            "grid_template_areas": null,
            "grid_template_columns": null,
            "grid_template_rows": null,
            "height": null,
            "justify_content": null,
            "justify_items": null,
            "left": null,
            "margin": null,
            "max_height": null,
            "max_width": null,
            "min_height": null,
            "min_width": null,
            "object_fit": null,
            "object_position": null,
            "order": null,
            "overflow": null,
            "overflow_x": null,
            "overflow_y": null,
            "padding": null,
            "right": null,
            "top": null,
            "visibility": null,
            "width": null
          }
        },
        "eee908cc87dc4948a427692be264f8c2": {
          "model_module": "@jupyter-widgets/controls",
          "model_name": "DescriptionStyleModel",
          "model_module_version": "1.5.0",
          "state": {
            "_model_module": "@jupyter-widgets/controls",
            "_model_module_version": "1.5.0",
            "_model_name": "DescriptionStyleModel",
            "_view_count": null,
            "_view_module": "@jupyter-widgets/base",
            "_view_module_version": "1.2.0",
            "_view_name": "StyleView",
            "description_width": ""
          }
        },
        "ae67aae032274ad2b0624fe044900441": {
          "model_module": "@jupyter-widgets/controls",
          "model_name": "HBoxModel",
          "model_module_version": "1.5.0",
          "state": {
            "_dom_classes": [],
            "_model_module": "@jupyter-widgets/controls",
            "_model_module_version": "1.5.0",
            "_model_name": "HBoxModel",
            "_view_count": null,
            "_view_module": "@jupyter-widgets/controls",
            "_view_module_version": "1.5.0",
            "_view_name": "HBoxView",
            "box_style": "",
            "children": [
              "IPY_MODEL_2155a29bb70c461bade5e43d891e726e",
              "IPY_MODEL_cd5804f3db6c4bc8ac1dafe971b6ed9b",
              "IPY_MODEL_737d7889a4f6471aaf942a73bf1c859e"
            ],
            "layout": "IPY_MODEL_f61fb9e7d0bb454aacb6cbd9b9e6f140"
          }
        },
        "2155a29bb70c461bade5e43d891e726e": {
          "model_module": "@jupyter-widgets/controls",
          "model_name": "HTMLModel",
          "model_module_version": "1.5.0",
          "state": {
            "_dom_classes": [],
            "_model_module": "@jupyter-widgets/controls",
            "_model_module_version": "1.5.0",
            "_model_name": "HTMLModel",
            "_view_count": null,
            "_view_module": "@jupyter-widgets/controls",
            "_view_module_version": "1.5.0",
            "_view_name": "HTMLView",
            "description": "",
            "description_tooltip": null,
            "layout": "IPY_MODEL_fa2981212d494b25949e5a6789ffceda",
            "placeholder": "​",
            "style": "IPY_MODEL_1b2ed293ac48407a91d657966b554bde",
            "value": "Downloading (…)lve/main/config.json: 100%"
          }
        },
        "cd5804f3db6c4bc8ac1dafe971b6ed9b": {
          "model_module": "@jupyter-widgets/controls",
          "model_name": "FloatProgressModel",
          "model_module_version": "1.5.0",
          "state": {
            "_dom_classes": [],
            "_model_module": "@jupyter-widgets/controls",
            "_model_module_version": "1.5.0",
            "_model_name": "FloatProgressModel",
            "_view_count": null,
            "_view_module": "@jupyter-widgets/controls",
            "_view_module_version": "1.5.0",
            "_view_name": "ProgressView",
            "bar_style": "success",
            "description": "",
            "description_tooltip": null,
            "layout": "IPY_MODEL_50cd51af5f94434d974556264c5d7f08",
            "max": 736,
            "min": 0,
            "orientation": "horizontal",
            "style": "IPY_MODEL_9d3834218a424d08ac165aef1f40ec6f",
            "value": 736
          }
        },
        "737d7889a4f6471aaf942a73bf1c859e": {
          "model_module": "@jupyter-widgets/controls",
          "model_name": "HTMLModel",
          "model_module_version": "1.5.0",
          "state": {
            "_dom_classes": [],
            "_model_module": "@jupyter-widgets/controls",
            "_model_module_version": "1.5.0",
            "_model_name": "HTMLModel",
            "_view_count": null,
            "_view_module": "@jupyter-widgets/controls",
            "_view_module_version": "1.5.0",
            "_view_name": "HTMLView",
            "description": "",
            "description_tooltip": null,
            "layout": "IPY_MODEL_8f98b528b9ef4ae89afc2be54a7fa98e",
            "placeholder": "​",
            "style": "IPY_MODEL_d76113408c6c4156be0d31ff890824e9",
            "value": " 736/736 [00:00&lt;00:00, 17.4kB/s]"
          }
        },
        "f61fb9e7d0bb454aacb6cbd9b9e6f140": {
          "model_module": "@jupyter-widgets/base",
          "model_name": "LayoutModel",
          "model_module_version": "1.2.0",
          "state": {
            "_model_module": "@jupyter-widgets/base",
            "_model_module_version": "1.2.0",
            "_model_name": "LayoutModel",
            "_view_count": null,
            "_view_module": "@jupyter-widgets/base",
            "_view_module_version": "1.2.0",
            "_view_name": "LayoutView",
            "align_content": null,
            "align_items": null,
            "align_self": null,
            "border": null,
            "bottom": null,
            "display": null,
            "flex": null,
            "flex_flow": null,
            "grid_area": null,
            "grid_auto_columns": null,
            "grid_auto_flow": null,
            "grid_auto_rows": null,
            "grid_column": null,
            "grid_gap": null,
            "grid_row": null,
            "grid_template_areas": null,
            "grid_template_columns": null,
            "grid_template_rows": null,
            "height": null,
            "justify_content": null,
            "justify_items": null,
            "left": null,
            "margin": null,
            "max_height": null,
            "max_width": null,
            "min_height": null,
            "min_width": null,
            "object_fit": null,
            "object_position": null,
            "order": null,
            "overflow": null,
            "overflow_x": null,
            "overflow_y": null,
            "padding": null,
            "right": null,
            "top": null,
            "visibility": null,
            "width": null
          }
        },
        "fa2981212d494b25949e5a6789ffceda": {
          "model_module": "@jupyter-widgets/base",
          "model_name": "LayoutModel",
          "model_module_version": "1.2.0",
          "state": {
            "_model_module": "@jupyter-widgets/base",
            "_model_module_version": "1.2.0",
            "_model_name": "LayoutModel",
            "_view_count": null,
            "_view_module": "@jupyter-widgets/base",
            "_view_module_version": "1.2.0",
            "_view_name": "LayoutView",
            "align_content": null,
            "align_items": null,
            "align_self": null,
            "border": null,
            "bottom": null,
            "display": null,
            "flex": null,
            "flex_flow": null,
            "grid_area": null,
            "grid_auto_columns": null,
            "grid_auto_flow": null,
            "grid_auto_rows": null,
            "grid_column": null,
            "grid_gap": null,
            "grid_row": null,
            "grid_template_areas": null,
            "grid_template_columns": null,
            "grid_template_rows": null,
            "height": null,
            "justify_content": null,
            "justify_items": null,
            "left": null,
            "margin": null,
            "max_height": null,
            "max_width": null,
            "min_height": null,
            "min_width": null,
            "object_fit": null,
            "object_position": null,
            "order": null,
            "overflow": null,
            "overflow_x": null,
            "overflow_y": null,
            "padding": null,
            "right": null,
            "top": null,
            "visibility": null,
            "width": null
          }
        },
        "1b2ed293ac48407a91d657966b554bde": {
          "model_module": "@jupyter-widgets/controls",
          "model_name": "DescriptionStyleModel",
          "model_module_version": "1.5.0",
          "state": {
            "_model_module": "@jupyter-widgets/controls",
            "_model_module_version": "1.5.0",
            "_model_name": "DescriptionStyleModel",
            "_view_count": null,
            "_view_module": "@jupyter-widgets/base",
            "_view_module_version": "1.2.0",
            "_view_name": "StyleView",
            "description_width": ""
          }
        },
        "50cd51af5f94434d974556264c5d7f08": {
          "model_module": "@jupyter-widgets/base",
          "model_name": "LayoutModel",
          "model_module_version": "1.2.0",
          "state": {
            "_model_module": "@jupyter-widgets/base",
            "_model_module_version": "1.2.0",
            "_model_name": "LayoutModel",
            "_view_count": null,
            "_view_module": "@jupyter-widgets/base",
            "_view_module_version": "1.2.0",
            "_view_name": "LayoutView",
            "align_content": null,
            "align_items": null,
            "align_self": null,
            "border": null,
            "bottom": null,
            "display": null,
            "flex": null,
            "flex_flow": null,
            "grid_area": null,
            "grid_auto_columns": null,
            "grid_auto_flow": null,
            "grid_auto_rows": null,
            "grid_column": null,
            "grid_gap": null,
            "grid_row": null,
            "grid_template_areas": null,
            "grid_template_columns": null,
            "grid_template_rows": null,
            "height": null,
            "justify_content": null,
            "justify_items": null,
            "left": null,
            "margin": null,
            "max_height": null,
            "max_width": null,
            "min_height": null,
            "min_width": null,
            "object_fit": null,
            "object_position": null,
            "order": null,
            "overflow": null,
            "overflow_x": null,
            "overflow_y": null,
            "padding": null,
            "right": null,
            "top": null,
            "visibility": null,
            "width": null
          }
        },
        "9d3834218a424d08ac165aef1f40ec6f": {
          "model_module": "@jupyter-widgets/controls",
          "model_name": "ProgressStyleModel",
          "model_module_version": "1.5.0",
          "state": {
            "_model_module": "@jupyter-widgets/controls",
            "_model_module_version": "1.5.0",
            "_model_name": "ProgressStyleModel",
            "_view_count": null,
            "_view_module": "@jupyter-widgets/base",
            "_view_module_version": "1.2.0",
            "_view_name": "StyleView",
            "bar_color": null,
            "description_width": ""
          }
        },
        "8f98b528b9ef4ae89afc2be54a7fa98e": {
          "model_module": "@jupyter-widgets/base",
          "model_name": "LayoutModel",
          "model_module_version": "1.2.0",
          "state": {
            "_model_module": "@jupyter-widgets/base",
            "_model_module_version": "1.2.0",
            "_model_name": "LayoutModel",
            "_view_count": null,
            "_view_module": "@jupyter-widgets/base",
            "_view_module_version": "1.2.0",
            "_view_name": "LayoutView",
            "align_content": null,
            "align_items": null,
            "align_self": null,
            "border": null,
            "bottom": null,
            "display": null,
            "flex": null,
            "flex_flow": null,
            "grid_area": null,
            "grid_auto_columns": null,
            "grid_auto_flow": null,
            "grid_auto_rows": null,
            "grid_column": null,
            "grid_gap": null,
            "grid_row": null,
            "grid_template_areas": null,
            "grid_template_columns": null,
            "grid_template_rows": null,
            "height": null,
            "justify_content": null,
            "justify_items": null,
            "left": null,
            "margin": null,
            "max_height": null,
            "max_width": null,
            "min_height": null,
            "min_width": null,
            "object_fit": null,
            "object_position": null,
            "order": null,
            "overflow": null,
            "overflow_x": null,
            "overflow_y": null,
            "padding": null,
            "right": null,
            "top": null,
            "visibility": null,
            "width": null
          }
        },
        "d76113408c6c4156be0d31ff890824e9": {
          "model_module": "@jupyter-widgets/controls",
          "model_name": "DescriptionStyleModel",
          "model_module_version": "1.5.0",
          "state": {
            "_model_module": "@jupyter-widgets/controls",
            "_model_module_version": "1.5.0",
            "_model_name": "DescriptionStyleModel",
            "_view_count": null,
            "_view_module": "@jupyter-widgets/base",
            "_view_module_version": "1.2.0",
            "_view_name": "StyleView",
            "description_width": ""
          }
        },
        "d6ebe4a866ab48ce97f8b80fe4bdae7e": {
          "model_module": "@jupyter-widgets/controls",
          "model_name": "HBoxModel",
          "model_module_version": "1.5.0",
          "state": {
            "_dom_classes": [],
            "_model_module": "@jupyter-widgets/controls",
            "_model_module_version": "1.5.0",
            "_model_name": "HBoxModel",
            "_view_count": null,
            "_view_module": "@jupyter-widgets/controls",
            "_view_module_version": "1.5.0",
            "_view_name": "HBoxView",
            "box_style": "",
            "children": [
              "IPY_MODEL_2c8fcdcbb09748b28f16f72ec30dfab0",
              "IPY_MODEL_d764b353c6ec42d6b62a1ffa3185c966",
              "IPY_MODEL_1e3660a463704ce78095fe69238857ba"
            ],
            "layout": "IPY_MODEL_96078b739f83495db2bc3a334383d451"
          }
        },
        "2c8fcdcbb09748b28f16f72ec30dfab0": {
          "model_module": "@jupyter-widgets/controls",
          "model_name": "HTMLModel",
          "model_module_version": "1.5.0",
          "state": {
            "_dom_classes": [],
            "_model_module": "@jupyter-widgets/controls",
            "_model_module_version": "1.5.0",
            "_model_name": "HTMLModel",
            "_view_count": null,
            "_view_module": "@jupyter-widgets/controls",
            "_view_module_version": "1.5.0",
            "_view_name": "HTMLView",
            "description": "",
            "description_tooltip": null,
            "layout": "IPY_MODEL_06b62cdee05e49f78c30757e8bdf69ca",
            "placeholder": "​",
            "style": "IPY_MODEL_5186fd59d178447e9649ea4103fff706",
            "value": "Downloading pytorch_model.bin: 100%"
          }
        },
        "d764b353c6ec42d6b62a1ffa3185c966": {
          "model_module": "@jupyter-widgets/controls",
          "model_name": "FloatProgressModel",
          "model_module_version": "1.5.0",
          "state": {
            "_dom_classes": [],
            "_model_module": "@jupyter-widgets/controls",
            "_model_module_version": "1.5.0",
            "_model_name": "FloatProgressModel",
            "_view_count": null,
            "_view_module": "@jupyter-widgets/controls",
            "_view_module_version": "1.5.0",
            "_view_name": "ProgressView",
            "bar_style": "success",
            "description": "",
            "description_tooltip": null,
            "layout": "IPY_MODEL_6e90a2887f7a4d9bba53836498242669",
            "max": 465989449,
            "min": 0,
            "orientation": "horizontal",
            "style": "IPY_MODEL_d6d9055576124b6584b52315a62fe746",
            "value": 465989449
          }
        },
        "1e3660a463704ce78095fe69238857ba": {
          "model_module": "@jupyter-widgets/controls",
          "model_name": "HTMLModel",
          "model_module_version": "1.5.0",
          "state": {
            "_dom_classes": [],
            "_model_module": "@jupyter-widgets/controls",
            "_model_module_version": "1.5.0",
            "_model_name": "HTMLModel",
            "_view_count": null,
            "_view_module": "@jupyter-widgets/controls",
            "_view_module_version": "1.5.0",
            "_view_name": "HTMLView",
            "description": "",
            "description_tooltip": null,
            "layout": "IPY_MODEL_f1d9806140084d9d8cc12af94d18e523",
            "placeholder": "​",
            "style": "IPY_MODEL_8e43d8d2a13f49988df516097d26df56",
            "value": " 466M/466M [00:02&lt;00:00, 252MB/s]"
          }
        },
        "96078b739f83495db2bc3a334383d451": {
          "model_module": "@jupyter-widgets/base",
          "model_name": "LayoutModel",
          "model_module_version": "1.2.0",
          "state": {
            "_model_module": "@jupyter-widgets/base",
            "_model_module_version": "1.2.0",
            "_model_name": "LayoutModel",
            "_view_count": null,
            "_view_module": "@jupyter-widgets/base",
            "_view_module_version": "1.2.0",
            "_view_name": "LayoutView",
            "align_content": null,
            "align_items": null,
            "align_self": null,
            "border": null,
            "bottom": null,
            "display": null,
            "flex": null,
            "flex_flow": null,
            "grid_area": null,
            "grid_auto_columns": null,
            "grid_auto_flow": null,
            "grid_auto_rows": null,
            "grid_column": null,
            "grid_gap": null,
            "grid_row": null,
            "grid_template_areas": null,
            "grid_template_columns": null,
            "grid_template_rows": null,
            "height": null,
            "justify_content": null,
            "justify_items": null,
            "left": null,
            "margin": null,
            "max_height": null,
            "max_width": null,
            "min_height": null,
            "min_width": null,
            "object_fit": null,
            "object_position": null,
            "order": null,
            "overflow": null,
            "overflow_x": null,
            "overflow_y": null,
            "padding": null,
            "right": null,
            "top": null,
            "visibility": null,
            "width": null
          }
        },
        "06b62cdee05e49f78c30757e8bdf69ca": {
          "model_module": "@jupyter-widgets/base",
          "model_name": "LayoutModel",
          "model_module_version": "1.2.0",
          "state": {
            "_model_module": "@jupyter-widgets/base",
            "_model_module_version": "1.2.0",
            "_model_name": "LayoutModel",
            "_view_count": null,
            "_view_module": "@jupyter-widgets/base",
            "_view_module_version": "1.2.0",
            "_view_name": "LayoutView",
            "align_content": null,
            "align_items": null,
            "align_self": null,
            "border": null,
            "bottom": null,
            "display": null,
            "flex": null,
            "flex_flow": null,
            "grid_area": null,
            "grid_auto_columns": null,
            "grid_auto_flow": null,
            "grid_auto_rows": null,
            "grid_column": null,
            "grid_gap": null,
            "grid_row": null,
            "grid_template_areas": null,
            "grid_template_columns": null,
            "grid_template_rows": null,
            "height": null,
            "justify_content": null,
            "justify_items": null,
            "left": null,
            "margin": null,
            "max_height": null,
            "max_width": null,
            "min_height": null,
            "min_width": null,
            "object_fit": null,
            "object_position": null,
            "order": null,
            "overflow": null,
            "overflow_x": null,
            "overflow_y": null,
            "padding": null,
            "right": null,
            "top": null,
            "visibility": null,
            "width": null
          }
        },
        "5186fd59d178447e9649ea4103fff706": {
          "model_module": "@jupyter-widgets/controls",
          "model_name": "DescriptionStyleModel",
          "model_module_version": "1.5.0",
          "state": {
            "_model_module": "@jupyter-widgets/controls",
            "_model_module_version": "1.5.0",
            "_model_name": "DescriptionStyleModel",
            "_view_count": null,
            "_view_module": "@jupyter-widgets/base",
            "_view_module_version": "1.2.0",
            "_view_name": "StyleView",
            "description_width": ""
          }
        },
        "6e90a2887f7a4d9bba53836498242669": {
          "model_module": "@jupyter-widgets/base",
          "model_name": "LayoutModel",
          "model_module_version": "1.2.0",
          "state": {
            "_model_module": "@jupyter-widgets/base",
            "_model_module_version": "1.2.0",
            "_model_name": "LayoutModel",
            "_view_count": null,
            "_view_module": "@jupyter-widgets/base",
            "_view_module_version": "1.2.0",
            "_view_name": "LayoutView",
            "align_content": null,
            "align_items": null,
            "align_self": null,
            "border": null,
            "bottom": null,
            "display": null,
            "flex": null,
            "flex_flow": null,
            "grid_area": null,
            "grid_auto_columns": null,
            "grid_auto_flow": null,
            "grid_auto_rows": null,
            "grid_column": null,
            "grid_gap": null,
            "grid_row": null,
            "grid_template_areas": null,
            "grid_template_columns": null,
            "grid_template_rows": null,
            "height": null,
            "justify_content": null,
            "justify_items": null,
            "left": null,
            "margin": null,
            "max_height": null,
            "max_width": null,
            "min_height": null,
            "min_width": null,
            "object_fit": null,
            "object_position": null,
            "order": null,
            "overflow": null,
            "overflow_x": null,
            "overflow_y": null,
            "padding": null,
            "right": null,
            "top": null,
            "visibility": null,
            "width": null
          }
        },
        "d6d9055576124b6584b52315a62fe746": {
          "model_module": "@jupyter-widgets/controls",
          "model_name": "ProgressStyleModel",
          "model_module_version": "1.5.0",
          "state": {
            "_model_module": "@jupyter-widgets/controls",
            "_model_module_version": "1.5.0",
            "_model_name": "ProgressStyleModel",
            "_view_count": null,
            "_view_module": "@jupyter-widgets/base",
            "_view_module_version": "1.2.0",
            "_view_name": "StyleView",
            "bar_color": null,
            "description_width": ""
          }
        },
        "f1d9806140084d9d8cc12af94d18e523": {
          "model_module": "@jupyter-widgets/base",
          "model_name": "LayoutModel",
          "model_module_version": "1.2.0",
          "state": {
            "_model_module": "@jupyter-widgets/base",
            "_model_module_version": "1.2.0",
            "_model_name": "LayoutModel",
            "_view_count": null,
            "_view_module": "@jupyter-widgets/base",
            "_view_module_version": "1.2.0",
            "_view_name": "LayoutView",
            "align_content": null,
            "align_items": null,
            "align_self": null,
            "border": null,
            "bottom": null,
            "display": null,
            "flex": null,
            "flex_flow": null,
            "grid_area": null,
            "grid_auto_columns": null,
            "grid_auto_flow": null,
            "grid_auto_rows": null,
            "grid_column": null,
            "grid_gap": null,
            "grid_row": null,
            "grid_template_areas": null,
            "grid_template_columns": null,
            "grid_template_rows": null,
            "height": null,
            "justify_content": null,
            "justify_items": null,
            "left": null,
            "margin": null,
            "max_height": null,
            "max_width": null,
            "min_height": null,
            "min_width": null,
            "object_fit": null,
            "object_position": null,
            "order": null,
            "overflow": null,
            "overflow_x": null,
            "overflow_y": null,
            "padding": null,
            "right": null,
            "top": null,
            "visibility": null,
            "width": null
          }
        },
        "8e43d8d2a13f49988df516097d26df56": {
          "model_module": "@jupyter-widgets/controls",
          "model_name": "DescriptionStyleModel",
          "model_module_version": "1.5.0",
          "state": {
            "_model_module": "@jupyter-widgets/controls",
            "_model_module_version": "1.5.0",
            "_model_name": "DescriptionStyleModel",
            "_view_count": null,
            "_view_module": "@jupyter-widgets/base",
            "_view_module_version": "1.2.0",
            "_view_name": "StyleView",
            "description_width": ""
          }
        },
        "4669f42634f14d2d9f25df6e07c6f4b4": {
          "model_module": "@jupyter-widgets/controls",
          "model_name": "HBoxModel",
          "model_module_version": "1.5.0",
          "state": {
            "_dom_classes": [],
            "_model_module": "@jupyter-widgets/controls",
            "_model_module_version": "1.5.0",
            "_model_name": "HBoxModel",
            "_view_count": null,
            "_view_module": "@jupyter-widgets/controls",
            "_view_module_version": "1.5.0",
            "_view_name": "HBoxView",
            "box_style": "",
            "children": [
              "IPY_MODEL_7760d0fbe86f4b61af9e6c89efad1050",
              "IPY_MODEL_37aeb56673d0415b9b48159c156c1eff",
              "IPY_MODEL_01489fbbace047babedc4a100dbda864"
            ],
            "layout": "IPY_MODEL_2ea19ea818344da9a4fac278c3e73612"
          }
        },
        "7760d0fbe86f4b61af9e6c89efad1050": {
          "model_module": "@jupyter-widgets/controls",
          "model_name": "HTMLModel",
          "model_module_version": "1.5.0",
          "state": {
            "_dom_classes": [],
            "_model_module": "@jupyter-widgets/controls",
            "_model_module_version": "1.5.0",
            "_model_name": "HTMLModel",
            "_view_count": null,
            "_view_module": "@jupyter-widgets/controls",
            "_view_module_version": "1.5.0",
            "_view_name": "HTMLView",
            "description": "",
            "description_tooltip": null,
            "layout": "IPY_MODEL_1a0ba9acae4e4c31b6703bc5c779d306",
            "placeholder": "​",
            "style": "IPY_MODEL_9913b76424f84e88986d6c58c69a5c0b",
            "value": "Downloading (…)okenizer_config.json: 100%"
          }
        },
        "37aeb56673d0415b9b48159c156c1eff": {
          "model_module": "@jupyter-widgets/controls",
          "model_name": "FloatProgressModel",
          "model_module_version": "1.5.0",
          "state": {
            "_dom_classes": [],
            "_model_module": "@jupyter-widgets/controls",
            "_model_module_version": "1.5.0",
            "_model_name": "FloatProgressModel",
            "_view_count": null,
            "_view_module": "@jupyter-widgets/controls",
            "_view_module_version": "1.5.0",
            "_view_name": "ProgressView",
            "bar_style": "success",
            "description": "",
            "description_tooltip": null,
            "layout": "IPY_MODEL_ba8e00beeceb49f1bc36005bc36ced5b",
            "max": 181,
            "min": 0,
            "orientation": "horizontal",
            "style": "IPY_MODEL_95daceacf5214f09a72eb860756aef63",
            "value": 181
          }
        },
        "01489fbbace047babedc4a100dbda864": {
          "model_module": "@jupyter-widgets/controls",
          "model_name": "HTMLModel",
          "model_module_version": "1.5.0",
          "state": {
            "_dom_classes": [],
            "_model_module": "@jupyter-widgets/controls",
            "_model_module_version": "1.5.0",
            "_model_name": "HTMLModel",
            "_view_count": null,
            "_view_module": "@jupyter-widgets/controls",
            "_view_module_version": "1.5.0",
            "_view_name": "HTMLView",
            "description": "",
            "description_tooltip": null,
            "layout": "IPY_MODEL_2e818a6c7f6d477b84650c2f1fd3b311",
            "placeholder": "​",
            "style": "IPY_MODEL_6248b01f30504e7ebc896caaeadaa922",
            "value": " 181/181 [00:00&lt;00:00, 5.65kB/s]"
          }
        },
        "2ea19ea818344da9a4fac278c3e73612": {
          "model_module": "@jupyter-widgets/base",
          "model_name": "LayoutModel",
          "model_module_version": "1.2.0",
          "state": {
            "_model_module": "@jupyter-widgets/base",
            "_model_module_version": "1.2.0",
            "_model_name": "LayoutModel",
            "_view_count": null,
            "_view_module": "@jupyter-widgets/base",
            "_view_module_version": "1.2.0",
            "_view_name": "LayoutView",
            "align_content": null,
            "align_items": null,
            "align_self": null,
            "border": null,
            "bottom": null,
            "display": null,
            "flex": null,
            "flex_flow": null,
            "grid_area": null,
            "grid_auto_columns": null,
            "grid_auto_flow": null,
            "grid_auto_rows": null,
            "grid_column": null,
            "grid_gap": null,
            "grid_row": null,
            "grid_template_areas": null,
            "grid_template_columns": null,
            "grid_template_rows": null,
            "height": null,
            "justify_content": null,
            "justify_items": null,
            "left": null,
            "margin": null,
            "max_height": null,
            "max_width": null,
            "min_height": null,
            "min_width": null,
            "object_fit": null,
            "object_position": null,
            "order": null,
            "overflow": null,
            "overflow_x": null,
            "overflow_y": null,
            "padding": null,
            "right": null,
            "top": null,
            "visibility": null,
            "width": null
          }
        },
        "1a0ba9acae4e4c31b6703bc5c779d306": {
          "model_module": "@jupyter-widgets/base",
          "model_name": "LayoutModel",
          "model_module_version": "1.2.0",
          "state": {
            "_model_module": "@jupyter-widgets/base",
            "_model_module_version": "1.2.0",
            "_model_name": "LayoutModel",
            "_view_count": null,
            "_view_module": "@jupyter-widgets/base",
            "_view_module_version": "1.2.0",
            "_view_name": "LayoutView",
            "align_content": null,
            "align_items": null,
            "align_self": null,
            "border": null,
            "bottom": null,
            "display": null,
            "flex": null,
            "flex_flow": null,
            "grid_area": null,
            "grid_auto_columns": null,
            "grid_auto_flow": null,
            "grid_auto_rows": null,
            "grid_column": null,
            "grid_gap": null,
            "grid_row": null,
            "grid_template_areas": null,
            "grid_template_columns": null,
            "grid_template_rows": null,
            "height": null,
            "justify_content": null,
            "justify_items": null,
            "left": null,
            "margin": null,
            "max_height": null,
            "max_width": null,
            "min_height": null,
            "min_width": null,
            "object_fit": null,
            "object_position": null,
            "order": null,
            "overflow": null,
            "overflow_x": null,
            "overflow_y": null,
            "padding": null,
            "right": null,
            "top": null,
            "visibility": null,
            "width": null
          }
        },
        "9913b76424f84e88986d6c58c69a5c0b": {
          "model_module": "@jupyter-widgets/controls",
          "model_name": "DescriptionStyleModel",
          "model_module_version": "1.5.0",
          "state": {
            "_model_module": "@jupyter-widgets/controls",
            "_model_module_version": "1.5.0",
            "_model_name": "DescriptionStyleModel",
            "_view_count": null,
            "_view_module": "@jupyter-widgets/base",
            "_view_module_version": "1.2.0",
            "_view_name": "StyleView",
            "description_width": ""
          }
        },
        "ba8e00beeceb49f1bc36005bc36ced5b": {
          "model_module": "@jupyter-widgets/base",
          "model_name": "LayoutModel",
          "model_module_version": "1.2.0",
          "state": {
            "_model_module": "@jupyter-widgets/base",
            "_model_module_version": "1.2.0",
            "_model_name": "LayoutModel",
            "_view_count": null,
            "_view_module": "@jupyter-widgets/base",
            "_view_module_version": "1.2.0",
            "_view_name": "LayoutView",
            "align_content": null,
            "align_items": null,
            "align_self": null,
            "border": null,
            "bottom": null,
            "display": null,
            "flex": null,
            "flex_flow": null,
            "grid_area": null,
            "grid_auto_columns": null,
            "grid_auto_flow": null,
            "grid_auto_rows": null,
            "grid_column": null,
            "grid_gap": null,
            "grid_row": null,
            "grid_template_areas": null,
            "grid_template_columns": null,
            "grid_template_rows": null,
            "height": null,
            "justify_content": null,
            "justify_items": null,
            "left": null,
            "margin": null,
            "max_height": null,
            "max_width": null,
            "min_height": null,
            "min_width": null,
            "object_fit": null,
            "object_position": null,
            "order": null,
            "overflow": null,
            "overflow_x": null,
            "overflow_y": null,
            "padding": null,
            "right": null,
            "top": null,
            "visibility": null,
            "width": null
          }
        },
        "95daceacf5214f09a72eb860756aef63": {
          "model_module": "@jupyter-widgets/controls",
          "model_name": "ProgressStyleModel",
          "model_module_version": "1.5.0",
          "state": {
            "_model_module": "@jupyter-widgets/controls",
            "_model_module_version": "1.5.0",
            "_model_name": "ProgressStyleModel",
            "_view_count": null,
            "_view_module": "@jupyter-widgets/base",
            "_view_module_version": "1.2.0",
            "_view_name": "StyleView",
            "bar_color": null,
            "description_width": ""
          }
        },
        "2e818a6c7f6d477b84650c2f1fd3b311": {
          "model_module": "@jupyter-widgets/base",
          "model_name": "LayoutModel",
          "model_module_version": "1.2.0",
          "state": {
            "_model_module": "@jupyter-widgets/base",
            "_model_module_version": "1.2.0",
            "_model_name": "LayoutModel",
            "_view_count": null,
            "_view_module": "@jupyter-widgets/base",
            "_view_module_version": "1.2.0",
            "_view_name": "LayoutView",
            "align_content": null,
            "align_items": null,
            "align_self": null,
            "border": null,
            "bottom": null,
            "display": null,
            "flex": null,
            "flex_flow": null,
            "grid_area": null,
            "grid_auto_columns": null,
            "grid_auto_flow": null,
            "grid_auto_rows": null,
            "grid_column": null,
            "grid_gap": null,
            "grid_row": null,
            "grid_template_areas": null,
            "grid_template_columns": null,
            "grid_template_rows": null,
            "height": null,
            "justify_content": null,
            "justify_items": null,
            "left": null,
            "margin": null,
            "max_height": null,
            "max_width": null,
            "min_height": null,
            "min_width": null,
            "object_fit": null,
            "object_position": null,
            "order": null,
            "overflow": null,
            "overflow_x": null,
            "overflow_y": null,
            "padding": null,
            "right": null,
            "top": null,
            "visibility": null,
            "width": null
          }
        },
        "6248b01f30504e7ebc896caaeadaa922": {
          "model_module": "@jupyter-widgets/controls",
          "model_name": "DescriptionStyleModel",
          "model_module_version": "1.5.0",
          "state": {
            "_model_module": "@jupyter-widgets/controls",
            "_model_module_version": "1.5.0",
            "_model_name": "DescriptionStyleModel",
            "_view_count": null,
            "_view_module": "@jupyter-widgets/base",
            "_view_module_version": "1.2.0",
            "_view_name": "StyleView",
            "description_width": ""
          }
        },
        "6529a786dc834f32813251dd0888809b": {
          "model_module": "@jupyter-widgets/controls",
          "model_name": "HBoxModel",
          "model_module_version": "1.5.0",
          "state": {
            "_dom_classes": [],
            "_model_module": "@jupyter-widgets/controls",
            "_model_module_version": "1.5.0",
            "_model_name": "HBoxModel",
            "_view_count": null,
            "_view_module": "@jupyter-widgets/controls",
            "_view_module_version": "1.5.0",
            "_view_name": "HBoxView",
            "box_style": "",
            "children": [
              "IPY_MODEL_73bbb4c39f274488900a239463ae02f8",
              "IPY_MODEL_c072abe8ef75448f93c25fa5ac36d0f2",
              "IPY_MODEL_0fe022706c254c649fec702534e547f3"
            ],
            "layout": "IPY_MODEL_828d2aecefc94a1d91df296d9410f3f4"
          }
        },
        "73bbb4c39f274488900a239463ae02f8": {
          "model_module": "@jupyter-widgets/controls",
          "model_name": "HTMLModel",
          "model_module_version": "1.5.0",
          "state": {
            "_dom_classes": [],
            "_model_module": "@jupyter-widgets/controls",
            "_model_module_version": "1.5.0",
            "_model_name": "HTMLModel",
            "_view_count": null,
            "_view_module": "@jupyter-widgets/controls",
            "_view_module_version": "1.5.0",
            "_view_name": "HTMLView",
            "description": "",
            "description_tooltip": null,
            "layout": "IPY_MODEL_5c1005f69f7f48918ce02f59b22f01f6",
            "placeholder": "​",
            "style": "IPY_MODEL_28293170040f4c049cace40ffc85ab03",
            "value": "Downloading (…)solve/main/vocab.txt: 100%"
          }
        },
        "c072abe8ef75448f93c25fa5ac36d0f2": {
          "model_module": "@jupyter-widgets/controls",
          "model_name": "FloatProgressModel",
          "model_module_version": "1.5.0",
          "state": {
            "_dom_classes": [],
            "_model_module": "@jupyter-widgets/controls",
            "_model_module_version": "1.5.0",
            "_model_name": "FloatProgressModel",
            "_view_count": null,
            "_view_module": "@jupyter-widgets/controls",
            "_view_module_version": "1.5.0",
            "_view_name": "ProgressView",
            "bar_style": "success",
            "description": "",
            "description_tooltip": null,
            "layout": "IPY_MODEL_674a8aaa84b142978fec890d386d78f4",
            "max": 606915,
            "min": 0,
            "orientation": "horizontal",
            "style": "IPY_MODEL_10ceccd2145b477b945dccf389dab6d3",
            "value": 606915
          }
        },
        "0fe022706c254c649fec702534e547f3": {
          "model_module": "@jupyter-widgets/controls",
          "model_name": "HTMLModel",
          "model_module_version": "1.5.0",
          "state": {
            "_dom_classes": [],
            "_model_module": "@jupyter-widgets/controls",
            "_model_module_version": "1.5.0",
            "_model_name": "HTMLModel",
            "_view_count": null,
            "_view_module": "@jupyter-widgets/controls",
            "_view_module_version": "1.5.0",
            "_view_name": "HTMLView",
            "description": "",
            "description_tooltip": null,
            "layout": "IPY_MODEL_c07a0b1618b04fadafd087c6d5351699",
            "placeholder": "​",
            "style": "IPY_MODEL_f540c6b31c254ec9bf6a540da4e47d9e",
            "value": " 607k/607k [00:00&lt;00:00, 2.75MB/s]"
          }
        },
        "828d2aecefc94a1d91df296d9410f3f4": {
          "model_module": "@jupyter-widgets/base",
          "model_name": "LayoutModel",
          "model_module_version": "1.2.0",
          "state": {
            "_model_module": "@jupyter-widgets/base",
            "_model_module_version": "1.2.0",
            "_model_name": "LayoutModel",
            "_view_count": null,
            "_view_module": "@jupyter-widgets/base",
            "_view_module_version": "1.2.0",
            "_view_name": "LayoutView",
            "align_content": null,
            "align_items": null,
            "align_self": null,
            "border": null,
            "bottom": null,
            "display": null,
            "flex": null,
            "flex_flow": null,
            "grid_area": null,
            "grid_auto_columns": null,
            "grid_auto_flow": null,
            "grid_auto_rows": null,
            "grid_column": null,
            "grid_gap": null,
            "grid_row": null,
            "grid_template_areas": null,
            "grid_template_columns": null,
            "grid_template_rows": null,
            "height": null,
            "justify_content": null,
            "justify_items": null,
            "left": null,
            "margin": null,
            "max_height": null,
            "max_width": null,
            "min_height": null,
            "min_width": null,
            "object_fit": null,
            "object_position": null,
            "order": null,
            "overflow": null,
            "overflow_x": null,
            "overflow_y": null,
            "padding": null,
            "right": null,
            "top": null,
            "visibility": null,
            "width": null
          }
        },
        "5c1005f69f7f48918ce02f59b22f01f6": {
          "model_module": "@jupyter-widgets/base",
          "model_name": "LayoutModel",
          "model_module_version": "1.2.0",
          "state": {
            "_model_module": "@jupyter-widgets/base",
            "_model_module_version": "1.2.0",
            "_model_name": "LayoutModel",
            "_view_count": null,
            "_view_module": "@jupyter-widgets/base",
            "_view_module_version": "1.2.0",
            "_view_name": "LayoutView",
            "align_content": null,
            "align_items": null,
            "align_self": null,
            "border": null,
            "bottom": null,
            "display": null,
            "flex": null,
            "flex_flow": null,
            "grid_area": null,
            "grid_auto_columns": null,
            "grid_auto_flow": null,
            "grid_auto_rows": null,
            "grid_column": null,
            "grid_gap": null,
            "grid_row": null,
            "grid_template_areas": null,
            "grid_template_columns": null,
            "grid_template_rows": null,
            "height": null,
            "justify_content": null,
            "justify_items": null,
            "left": null,
            "margin": null,
            "max_height": null,
            "max_width": null,
            "min_height": null,
            "min_width": null,
            "object_fit": null,
            "object_position": null,
            "order": null,
            "overflow": null,
            "overflow_x": null,
            "overflow_y": null,
            "padding": null,
            "right": null,
            "top": null,
            "visibility": null,
            "width": null
          }
        },
        "28293170040f4c049cace40ffc85ab03": {
          "model_module": "@jupyter-widgets/controls",
          "model_name": "DescriptionStyleModel",
          "model_module_version": "1.5.0",
          "state": {
            "_model_module": "@jupyter-widgets/controls",
            "_model_module_version": "1.5.0",
            "_model_name": "DescriptionStyleModel",
            "_view_count": null,
            "_view_module": "@jupyter-widgets/base",
            "_view_module_version": "1.2.0",
            "_view_name": "StyleView",
            "description_width": ""
          }
        },
        "674a8aaa84b142978fec890d386d78f4": {
          "model_module": "@jupyter-widgets/base",
          "model_name": "LayoutModel",
          "model_module_version": "1.2.0",
          "state": {
            "_model_module": "@jupyter-widgets/base",
            "_model_module_version": "1.2.0",
            "_model_name": "LayoutModel",
            "_view_count": null,
            "_view_module": "@jupyter-widgets/base",
            "_view_module_version": "1.2.0",
            "_view_name": "LayoutView",
            "align_content": null,
            "align_items": null,
            "align_self": null,
            "border": null,
            "bottom": null,
            "display": null,
            "flex": null,
            "flex_flow": null,
            "grid_area": null,
            "grid_auto_columns": null,
            "grid_auto_flow": null,
            "grid_auto_rows": null,
            "grid_column": null,
            "grid_gap": null,
            "grid_row": null,
            "grid_template_areas": null,
            "grid_template_columns": null,
            "grid_template_rows": null,
            "height": null,
            "justify_content": null,
            "justify_items": null,
            "left": null,
            "margin": null,
            "max_height": null,
            "max_width": null,
            "min_height": null,
            "min_width": null,
            "object_fit": null,
            "object_position": null,
            "order": null,
            "overflow": null,
            "overflow_x": null,
            "overflow_y": null,
            "padding": null,
            "right": null,
            "top": null,
            "visibility": null,
            "width": null
          }
        },
        "10ceccd2145b477b945dccf389dab6d3": {
          "model_module": "@jupyter-widgets/controls",
          "model_name": "ProgressStyleModel",
          "model_module_version": "1.5.0",
          "state": {
            "_model_module": "@jupyter-widgets/controls",
            "_model_module_version": "1.5.0",
            "_model_name": "ProgressStyleModel",
            "_view_count": null,
            "_view_module": "@jupyter-widgets/base",
            "_view_module_version": "1.2.0",
            "_view_name": "StyleView",
            "bar_color": null,
            "description_width": ""
          }
        },
        "c07a0b1618b04fadafd087c6d5351699": {
          "model_module": "@jupyter-widgets/base",
          "model_name": "LayoutModel",
          "model_module_version": "1.2.0",
          "state": {
            "_model_module": "@jupyter-widgets/base",
            "_model_module_version": "1.2.0",
            "_model_name": "LayoutModel",
            "_view_count": null,
            "_view_module": "@jupyter-widgets/base",
            "_view_module_version": "1.2.0",
            "_view_name": "LayoutView",
            "align_content": null,
            "align_items": null,
            "align_self": null,
            "border": null,
            "bottom": null,
            "display": null,
            "flex": null,
            "flex_flow": null,
            "grid_area": null,
            "grid_auto_columns": null,
            "grid_auto_flow": null,
            "grid_auto_rows": null,
            "grid_column": null,
            "grid_gap": null,
            "grid_row": null,
            "grid_template_areas": null,
            "grid_template_columns": null,
            "grid_template_rows": null,
            "height": null,
            "justify_content": null,
            "justify_items": null,
            "left": null,
            "margin": null,
            "max_height": null,
            "max_width": null,
            "min_height": null,
            "min_width": null,
            "object_fit": null,
            "object_position": null,
            "order": null,
            "overflow": null,
            "overflow_x": null,
            "overflow_y": null,
            "padding": null,
            "right": null,
            "top": null,
            "visibility": null,
            "width": null
          }
        },
        "f540c6b31c254ec9bf6a540da4e47d9e": {
          "model_module": "@jupyter-widgets/controls",
          "model_name": "DescriptionStyleModel",
          "model_module_version": "1.5.0",
          "state": {
            "_model_module": "@jupyter-widgets/controls",
            "_model_module_version": "1.5.0",
            "_model_name": "DescriptionStyleModel",
            "_view_count": null,
            "_view_module": "@jupyter-widgets/base",
            "_view_module_version": "1.2.0",
            "_view_name": "StyleView",
            "description_width": ""
          }
        },
        "b812a83474674735822875493b23583a": {
          "model_module": "@jupyter-widgets/controls",
          "model_name": "HBoxModel",
          "model_module_version": "1.5.0",
          "state": {
            "_dom_classes": [],
            "_model_module": "@jupyter-widgets/controls",
            "_model_module_version": "1.5.0",
            "_model_name": "HBoxModel",
            "_view_count": null,
            "_view_module": "@jupyter-widgets/controls",
            "_view_module_version": "1.5.0",
            "_view_name": "HBoxView",
            "box_style": "",
            "children": [
              "IPY_MODEL_0d4de210be0843b2aee244acd4f4e010",
              "IPY_MODEL_27ff9beac394493a816586127b5bb03d",
              "IPY_MODEL_e2153f05a14a43da9206093355be4dc5"
            ],
            "layout": "IPY_MODEL_7440446b59cf4be5b749f3d2bdeb8246"
          }
        },
        "0d4de210be0843b2aee244acd4f4e010": {
          "model_module": "@jupyter-widgets/controls",
          "model_name": "HTMLModel",
          "model_module_version": "1.5.0",
          "state": {
            "_dom_classes": [],
            "_model_module": "@jupyter-widgets/controls",
            "_model_module_version": "1.5.0",
            "_model_name": "HTMLModel",
            "_view_count": null,
            "_view_module": "@jupyter-widgets/controls",
            "_view_module_version": "1.5.0",
            "_view_name": "HTMLView",
            "description": "",
            "description_tooltip": null,
            "layout": "IPY_MODEL_01386cefb0a847bcb0bb3594729f1e7b",
            "placeholder": "​",
            "style": "IPY_MODEL_2260fb2831e645c0a4515d6111abd676",
            "value": "Downloading (…)cial_tokens_map.json: 100%"
          }
        },
        "27ff9beac394493a816586127b5bb03d": {
          "model_module": "@jupyter-widgets/controls",
          "model_name": "FloatProgressModel",
          "model_module_version": "1.5.0",
          "state": {
            "_dom_classes": [],
            "_model_module": "@jupyter-widgets/controls",
            "_model_module_version": "1.5.0",
            "_model_name": "FloatProgressModel",
            "_view_count": null,
            "_view_module": "@jupyter-widgets/controls",
            "_view_module_version": "1.5.0",
            "_view_name": "ProgressView",
            "bar_style": "success",
            "description": "",
            "description_tooltip": null,
            "layout": "IPY_MODEL_d9b556ae9a0545d6914026ba57f031f8",
            "max": 112,
            "min": 0,
            "orientation": "horizontal",
            "style": "IPY_MODEL_8e8fdd99b01f495993616f970cc9aa94",
            "value": 112
          }
        },
        "e2153f05a14a43da9206093355be4dc5": {
          "model_module": "@jupyter-widgets/controls",
          "model_name": "HTMLModel",
          "model_module_version": "1.5.0",
          "state": {
            "_dom_classes": [],
            "_model_module": "@jupyter-widgets/controls",
            "_model_module_version": "1.5.0",
            "_model_name": "HTMLModel",
            "_view_count": null,
            "_view_module": "@jupyter-widgets/controls",
            "_view_module_version": "1.5.0",
            "_view_name": "HTMLView",
            "description": "",
            "description_tooltip": null,
            "layout": "IPY_MODEL_a7fe40aa6fcb49ed8ebe6f00686128a3",
            "placeholder": "​",
            "style": "IPY_MODEL_7daadb278b344efb9b6cfcf8934c6dfb",
            "value": " 112/112 [00:00&lt;00:00, 3.58kB/s]"
          }
        },
        "7440446b59cf4be5b749f3d2bdeb8246": {
          "model_module": "@jupyter-widgets/base",
          "model_name": "LayoutModel",
          "model_module_version": "1.2.0",
          "state": {
            "_model_module": "@jupyter-widgets/base",
            "_model_module_version": "1.2.0",
            "_model_name": "LayoutModel",
            "_view_count": null,
            "_view_module": "@jupyter-widgets/base",
            "_view_module_version": "1.2.0",
            "_view_name": "LayoutView",
            "align_content": null,
            "align_items": null,
            "align_self": null,
            "border": null,
            "bottom": null,
            "display": null,
            "flex": null,
            "flex_flow": null,
            "grid_area": null,
            "grid_auto_columns": null,
            "grid_auto_flow": null,
            "grid_auto_rows": null,
            "grid_column": null,
            "grid_gap": null,
            "grid_row": null,
            "grid_template_areas": null,
            "grid_template_columns": null,
            "grid_template_rows": null,
            "height": null,
            "justify_content": null,
            "justify_items": null,
            "left": null,
            "margin": null,
            "max_height": null,
            "max_width": null,
            "min_height": null,
            "min_width": null,
            "object_fit": null,
            "object_position": null,
            "order": null,
            "overflow": null,
            "overflow_x": null,
            "overflow_y": null,
            "padding": null,
            "right": null,
            "top": null,
            "visibility": null,
            "width": null
          }
        },
        "01386cefb0a847bcb0bb3594729f1e7b": {
          "model_module": "@jupyter-widgets/base",
          "model_name": "LayoutModel",
          "model_module_version": "1.2.0",
          "state": {
            "_model_module": "@jupyter-widgets/base",
            "_model_module_version": "1.2.0",
            "_model_name": "LayoutModel",
            "_view_count": null,
            "_view_module": "@jupyter-widgets/base",
            "_view_module_version": "1.2.0",
            "_view_name": "LayoutView",
            "align_content": null,
            "align_items": null,
            "align_self": null,
            "border": null,
            "bottom": null,
            "display": null,
            "flex": null,
            "flex_flow": null,
            "grid_area": null,
            "grid_auto_columns": null,
            "grid_auto_flow": null,
            "grid_auto_rows": null,
            "grid_column": null,
            "grid_gap": null,
            "grid_row": null,
            "grid_template_areas": null,
            "grid_template_columns": null,
            "grid_template_rows": null,
            "height": null,
            "justify_content": null,
            "justify_items": null,
            "left": null,
            "margin": null,
            "max_height": null,
            "max_width": null,
            "min_height": null,
            "min_width": null,
            "object_fit": null,
            "object_position": null,
            "order": null,
            "overflow": null,
            "overflow_x": null,
            "overflow_y": null,
            "padding": null,
            "right": null,
            "top": null,
            "visibility": null,
            "width": null
          }
        },
        "2260fb2831e645c0a4515d6111abd676": {
          "model_module": "@jupyter-widgets/controls",
          "model_name": "DescriptionStyleModel",
          "model_module_version": "1.5.0",
          "state": {
            "_model_module": "@jupyter-widgets/controls",
            "_model_module_version": "1.5.0",
            "_model_name": "DescriptionStyleModel",
            "_view_count": null,
            "_view_module": "@jupyter-widgets/base",
            "_view_module_version": "1.2.0",
            "_view_name": "StyleView",
            "description_width": ""
          }
        },
        "d9b556ae9a0545d6914026ba57f031f8": {
          "model_module": "@jupyter-widgets/base",
          "model_name": "LayoutModel",
          "model_module_version": "1.2.0",
          "state": {
            "_model_module": "@jupyter-widgets/base",
            "_model_module_version": "1.2.0",
            "_model_name": "LayoutModel",
            "_view_count": null,
            "_view_module": "@jupyter-widgets/base",
            "_view_module_version": "1.2.0",
            "_view_name": "LayoutView",
            "align_content": null,
            "align_items": null,
            "align_self": null,
            "border": null,
            "bottom": null,
            "display": null,
            "flex": null,
            "flex_flow": null,
            "grid_area": null,
            "grid_auto_columns": null,
            "grid_auto_flow": null,
            "grid_auto_rows": null,
            "grid_column": null,
            "grid_gap": null,
            "grid_row": null,
            "grid_template_areas": null,
            "grid_template_columns": null,
            "grid_template_rows": null,
            "height": null,
            "justify_content": null,
            "justify_items": null,
            "left": null,
            "margin": null,
            "max_height": null,
            "max_width": null,
            "min_height": null,
            "min_width": null,
            "object_fit": null,
            "object_position": null,
            "order": null,
            "overflow": null,
            "overflow_x": null,
            "overflow_y": null,
            "padding": null,
            "right": null,
            "top": null,
            "visibility": null,
            "width": null
          }
        },
        "8e8fdd99b01f495993616f970cc9aa94": {
          "model_module": "@jupyter-widgets/controls",
          "model_name": "ProgressStyleModel",
          "model_module_version": "1.5.0",
          "state": {
            "_model_module": "@jupyter-widgets/controls",
            "_model_module_version": "1.5.0",
            "_model_name": "ProgressStyleModel",
            "_view_count": null,
            "_view_module": "@jupyter-widgets/base",
            "_view_module_version": "1.2.0",
            "_view_name": "StyleView",
            "bar_color": null,
            "description_width": ""
          }
        },
        "a7fe40aa6fcb49ed8ebe6f00686128a3": {
          "model_module": "@jupyter-widgets/base",
          "model_name": "LayoutModel",
          "model_module_version": "1.2.0",
          "state": {
            "_model_module": "@jupyter-widgets/base",
            "_model_module_version": "1.2.0",
            "_model_name": "LayoutModel",
            "_view_count": null,
            "_view_module": "@jupyter-widgets/base",
            "_view_module_version": "1.2.0",
            "_view_name": "LayoutView",
            "align_content": null,
            "align_items": null,
            "align_self": null,
            "border": null,
            "bottom": null,
            "display": null,
            "flex": null,
            "flex_flow": null,
            "grid_area": null,
            "grid_auto_columns": null,
            "grid_auto_flow": null,
            "grid_auto_rows": null,
            "grid_column": null,
            "grid_gap": null,
            "grid_row": null,
            "grid_template_areas": null,
            "grid_template_columns": null,
            "grid_template_rows": null,
            "height": null,
            "justify_content": null,
            "justify_items": null,
            "left": null,
            "margin": null,
            "max_height": null,
            "max_width": null,
            "min_height": null,
            "min_width": null,
            "object_fit": null,
            "object_position": null,
            "order": null,
            "overflow": null,
            "overflow_x": null,
            "overflow_y": null,
            "padding": null,
            "right": null,
            "top": null,
            "visibility": null,
            "width": null
          }
        },
        "7daadb278b344efb9b6cfcf8934c6dfb": {
          "model_module": "@jupyter-widgets/controls",
          "model_name": "DescriptionStyleModel",
          "model_module_version": "1.5.0",
          "state": {
            "_model_module": "@jupyter-widgets/controls",
            "_model_module_version": "1.5.0",
            "_model_name": "DescriptionStyleModel",
            "_view_count": null,
            "_view_module": "@jupyter-widgets/base",
            "_view_module_version": "1.2.0",
            "_view_name": "StyleView",
            "description_width": ""
          }
        },
        "c32cefe35e9249cf99fc50f96dafaa14": {
          "model_module": "@jupyter-widgets/controls",
          "model_name": "HBoxModel",
          "model_module_version": "1.5.0",
          "state": {
            "_dom_classes": [],
            "_model_module": "@jupyter-widgets/controls",
            "_model_module_version": "1.5.0",
            "_model_name": "HBoxModel",
            "_view_count": null,
            "_view_module": "@jupyter-widgets/controls",
            "_view_module_version": "1.5.0",
            "_view_name": "HBoxView",
            "box_style": "",
            "children": [
              "IPY_MODEL_16b2648a5d084adea62b9584684c00e9",
              "IPY_MODEL_e0af4bfceaaa46b6b067c1559cda94c7",
              "IPY_MODEL_ba85e1903a3b4e0aa1cad04978c1eada"
            ],
            "layout": "IPY_MODEL_17714059005a47a69f07d80ac858d09f"
          }
        },
        "16b2648a5d084adea62b9584684c00e9": {
          "model_module": "@jupyter-widgets/controls",
          "model_name": "HTMLModel",
          "model_module_version": "1.5.0",
          "state": {
            "_dom_classes": [],
            "_model_module": "@jupyter-widgets/controls",
            "_model_module_version": "1.5.0",
            "_model_name": "HTMLModel",
            "_view_count": null,
            "_view_module": "@jupyter-widgets/controls",
            "_view_module_version": "1.5.0",
            "_view_name": "HTMLView",
            "description": "",
            "description_tooltip": null,
            "layout": "IPY_MODEL_0bfef76c85fe4444a5b380b68cb5cec5",
            "placeholder": "​",
            "style": "IPY_MODEL_455f11ba1d12457694151fe7762dfc9d",
            "value": "Downloading (…)olve/main/vocab.json: 100%"
          }
        },
        "e0af4bfceaaa46b6b067c1559cda94c7": {
          "model_module": "@jupyter-widgets/controls",
          "model_name": "FloatProgressModel",
          "model_module_version": "1.5.0",
          "state": {
            "_dom_classes": [],
            "_model_module": "@jupyter-widgets/controls",
            "_model_module_version": "1.5.0",
            "_model_name": "FloatProgressModel",
            "_view_count": null,
            "_view_module": "@jupyter-widgets/controls",
            "_view_module_version": "1.5.0",
            "_view_name": "ProgressView",
            "bar_style": "success",
            "description": "",
            "description_tooltip": null,
            "layout": "IPY_MODEL_b1c8022c61c8463eabc10cd6c2c2a52f",
            "max": 569469,
            "min": 0,
            "orientation": "horizontal",
            "style": "IPY_MODEL_60c46a6949d848f78f891c6b27483253",
            "value": 569469
          }
        },
        "ba85e1903a3b4e0aa1cad04978c1eada": {
          "model_module": "@jupyter-widgets/controls",
          "model_name": "HTMLModel",
          "model_module_version": "1.5.0",
          "state": {
            "_dom_classes": [],
            "_model_module": "@jupyter-widgets/controls",
            "_model_module_version": "1.5.0",
            "_model_name": "HTMLModel",
            "_view_count": null,
            "_view_module": "@jupyter-widgets/controls",
            "_view_module_version": "1.5.0",
            "_view_name": "HTMLView",
            "description": "",
            "description_tooltip": null,
            "layout": "IPY_MODEL_68aa2773e7d34436bec4213ea8d75d58",
            "placeholder": "​",
            "style": "IPY_MODEL_dae69a565fb8420aa4ee489ec53f8cf5",
            "value": " 569k/569k [00:00&lt;00:00, 1.33MB/s]"
          }
        },
        "17714059005a47a69f07d80ac858d09f": {
          "model_module": "@jupyter-widgets/base",
          "model_name": "LayoutModel",
          "model_module_version": "1.2.0",
          "state": {
            "_model_module": "@jupyter-widgets/base",
            "_model_module_version": "1.2.0",
            "_model_name": "LayoutModel",
            "_view_count": null,
            "_view_module": "@jupyter-widgets/base",
            "_view_module_version": "1.2.0",
            "_view_name": "LayoutView",
            "align_content": null,
            "align_items": null,
            "align_self": null,
            "border": null,
            "bottom": null,
            "display": null,
            "flex": null,
            "flex_flow": null,
            "grid_area": null,
            "grid_auto_columns": null,
            "grid_auto_flow": null,
            "grid_auto_rows": null,
            "grid_column": null,
            "grid_gap": null,
            "grid_row": null,
            "grid_template_areas": null,
            "grid_template_columns": null,
            "grid_template_rows": null,
            "height": null,
            "justify_content": null,
            "justify_items": null,
            "left": null,
            "margin": null,
            "max_height": null,
            "max_width": null,
            "min_height": null,
            "min_width": null,
            "object_fit": null,
            "object_position": null,
            "order": null,
            "overflow": null,
            "overflow_x": null,
            "overflow_y": null,
            "padding": null,
            "right": null,
            "top": null,
            "visibility": null,
            "width": null
          }
        },
        "0bfef76c85fe4444a5b380b68cb5cec5": {
          "model_module": "@jupyter-widgets/base",
          "model_name": "LayoutModel",
          "model_module_version": "1.2.0",
          "state": {
            "_model_module": "@jupyter-widgets/base",
            "_model_module_version": "1.2.0",
            "_model_name": "LayoutModel",
            "_view_count": null,
            "_view_module": "@jupyter-widgets/base",
            "_view_module_version": "1.2.0",
            "_view_name": "LayoutView",
            "align_content": null,
            "align_items": null,
            "align_self": null,
            "border": null,
            "bottom": null,
            "display": null,
            "flex": null,
            "flex_flow": null,
            "grid_area": null,
            "grid_auto_columns": null,
            "grid_auto_flow": null,
            "grid_auto_rows": null,
            "grid_column": null,
            "grid_gap": null,
            "grid_row": null,
            "grid_template_areas": null,
            "grid_template_columns": null,
            "grid_template_rows": null,
            "height": null,
            "justify_content": null,
            "justify_items": null,
            "left": null,
            "margin": null,
            "max_height": null,
            "max_width": null,
            "min_height": null,
            "min_width": null,
            "object_fit": null,
            "object_position": null,
            "order": null,
            "overflow": null,
            "overflow_x": null,
            "overflow_y": null,
            "padding": null,
            "right": null,
            "top": null,
            "visibility": null,
            "width": null
          }
        },
        "455f11ba1d12457694151fe7762dfc9d": {
          "model_module": "@jupyter-widgets/controls",
          "model_name": "DescriptionStyleModel",
          "model_module_version": "1.5.0",
          "state": {
            "_model_module": "@jupyter-widgets/controls",
            "_model_module_version": "1.5.0",
            "_model_name": "DescriptionStyleModel",
            "_view_count": null,
            "_view_module": "@jupyter-widgets/base",
            "_view_module_version": "1.2.0",
            "_view_name": "StyleView",
            "description_width": ""
          }
        },
        "b1c8022c61c8463eabc10cd6c2c2a52f": {
          "model_module": "@jupyter-widgets/base",
          "model_name": "LayoutModel",
          "model_module_version": "1.2.0",
          "state": {
            "_model_module": "@jupyter-widgets/base",
            "_model_module_version": "1.2.0",
            "_model_name": "LayoutModel",
            "_view_count": null,
            "_view_module": "@jupyter-widgets/base",
            "_view_module_version": "1.2.0",
            "_view_name": "LayoutView",
            "align_content": null,
            "align_items": null,
            "align_self": null,
            "border": null,
            "bottom": null,
            "display": null,
            "flex": null,
            "flex_flow": null,
            "grid_area": null,
            "grid_auto_columns": null,
            "grid_auto_flow": null,
            "grid_auto_rows": null,
            "grid_column": null,
            "grid_gap": null,
            "grid_row": null,
            "grid_template_areas": null,
            "grid_template_columns": null,
            "grid_template_rows": null,
            "height": null,
            "justify_content": null,
            "justify_items": null,
            "left": null,
            "margin": null,
            "max_height": null,
            "max_width": null,
            "min_height": null,
            "min_width": null,
            "object_fit": null,
            "object_position": null,
            "order": null,
            "overflow": null,
            "overflow_x": null,
            "overflow_y": null,
            "padding": null,
            "right": null,
            "top": null,
            "visibility": null,
            "width": null
          }
        },
        "60c46a6949d848f78f891c6b27483253": {
          "model_module": "@jupyter-widgets/controls",
          "model_name": "ProgressStyleModel",
          "model_module_version": "1.5.0",
          "state": {
            "_model_module": "@jupyter-widgets/controls",
            "_model_module_version": "1.5.0",
            "_model_name": "ProgressStyleModel",
            "_view_count": null,
            "_view_module": "@jupyter-widgets/base",
            "_view_module_version": "1.2.0",
            "_view_name": "StyleView",
            "bar_color": null,
            "description_width": ""
          }
        },
        "68aa2773e7d34436bec4213ea8d75d58": {
          "model_module": "@jupyter-widgets/base",
          "model_name": "LayoutModel",
          "model_module_version": "1.2.0",
          "state": {
            "_model_module": "@jupyter-widgets/base",
            "_model_module_version": "1.2.0",
            "_model_name": "LayoutModel",
            "_view_count": null,
            "_view_module": "@jupyter-widgets/base",
            "_view_module_version": "1.2.0",
            "_view_name": "LayoutView",
            "align_content": null,
            "align_items": null,
            "align_self": null,
            "border": null,
            "bottom": null,
            "display": null,
            "flex": null,
            "flex_flow": null,
            "grid_area": null,
            "grid_auto_columns": null,
            "grid_auto_flow": null,
            "grid_auto_rows": null,
            "grid_column": null,
            "grid_gap": null,
            "grid_row": null,
            "grid_template_areas": null,
            "grid_template_columns": null,
            "grid_template_rows": null,
            "height": null,
            "justify_content": null,
            "justify_items": null,
            "left": null,
            "margin": null,
            "max_height": null,
            "max_width": null,
            "min_height": null,
            "min_width": null,
            "object_fit": null,
            "object_position": null,
            "order": null,
            "overflow": null,
            "overflow_x": null,
            "overflow_y": null,
            "padding": null,
            "right": null,
            "top": null,
            "visibility": null,
            "width": null
          }
        },
        "dae69a565fb8420aa4ee489ec53f8cf5": {
          "model_module": "@jupyter-widgets/controls",
          "model_name": "DescriptionStyleModel",
          "model_module_version": "1.5.0",
          "state": {
            "_model_module": "@jupyter-widgets/controls",
            "_model_module_version": "1.5.0",
            "_model_name": "DescriptionStyleModel",
            "_view_count": null,
            "_view_module": "@jupyter-widgets/base",
            "_view_module_version": "1.2.0",
            "_view_name": "StyleView",
            "description_width": ""
          }
        },
        "a6533f7679754a33a87c477229290c60": {
          "model_module": "@jupyter-widgets/controls",
          "model_name": "HBoxModel",
          "model_module_version": "1.5.0",
          "state": {
            "_dom_classes": [],
            "_model_module": "@jupyter-widgets/controls",
            "_model_module_version": "1.5.0",
            "_model_name": "HBoxModel",
            "_view_count": null,
            "_view_module": "@jupyter-widgets/controls",
            "_view_module_version": "1.5.0",
            "_view_name": "HBoxView",
            "box_style": "",
            "children": [
              "IPY_MODEL_7ccd86dd43a34456848b7c44aec8fa88",
              "IPY_MODEL_0663b8bcfb5a44ed9ff51d8e85253015",
              "IPY_MODEL_c2b544d7406743049f71ef5516284b63"
            ],
            "layout": "IPY_MODEL_b88081d07a454856bc28a8852f4fb617"
          }
        },
        "7ccd86dd43a34456848b7c44aec8fa88": {
          "model_module": "@jupyter-widgets/controls",
          "model_name": "HTMLModel",
          "model_module_version": "1.5.0",
          "state": {
            "_dom_classes": [],
            "_model_module": "@jupyter-widgets/controls",
            "_model_module_version": "1.5.0",
            "_model_name": "HTMLModel",
            "_view_count": null,
            "_view_module": "@jupyter-widgets/controls",
            "_view_module_version": "1.5.0",
            "_view_name": "HTMLView",
            "description": "",
            "description_tooltip": null,
            "layout": "IPY_MODEL_dff0834d1ada44ae9ed754cdabe175c4",
            "placeholder": "​",
            "style": "IPY_MODEL_fd92df3eadbc48eb81c032aceb637fec",
            "value": "Downloading (…)olve/main/merges.txt: 100%"
          }
        },
        "0663b8bcfb5a44ed9ff51d8e85253015": {
          "model_module": "@jupyter-widgets/controls",
          "model_name": "FloatProgressModel",
          "model_module_version": "1.5.0",
          "state": {
            "_dom_classes": [],
            "_model_module": "@jupyter-widgets/controls",
            "_model_module_version": "1.5.0",
            "_model_name": "FloatProgressModel",
            "_view_count": null,
            "_view_module": "@jupyter-widgets/controls",
            "_view_module_version": "1.5.0",
            "_view_name": "ProgressView",
            "bar_style": "success",
            "description": "",
            "description_tooltip": null,
            "layout": "IPY_MODEL_db6b8c38943048d3bfff455fb6788997",
            "max": 365870,
            "min": 0,
            "orientation": "horizontal",
            "style": "IPY_MODEL_02dffde8accb46408a13d28a4e912cea",
            "value": 365870
          }
        },
        "c2b544d7406743049f71ef5516284b63": {
          "model_module": "@jupyter-widgets/controls",
          "model_name": "HTMLModel",
          "model_module_version": "1.5.0",
          "state": {
            "_dom_classes": [],
            "_model_module": "@jupyter-widgets/controls",
            "_model_module_version": "1.5.0",
            "_model_name": "HTMLModel",
            "_view_count": null,
            "_view_module": "@jupyter-widgets/controls",
            "_view_module_version": "1.5.0",
            "_view_name": "HTMLView",
            "description": "",
            "description_tooltip": null,
            "layout": "IPY_MODEL_15d384d57fa04f009ab374e7f0f06690",
            "placeholder": "​",
            "style": "IPY_MODEL_a0f95955e90c49a2bc92f0c929f60b64",
            "value": " 366k/366k [00:00&lt;00:00, 579kB/s]"
          }
        },
        "b88081d07a454856bc28a8852f4fb617": {
          "model_module": "@jupyter-widgets/base",
          "model_name": "LayoutModel",
          "model_module_version": "1.2.0",
          "state": {
            "_model_module": "@jupyter-widgets/base",
            "_model_module_version": "1.2.0",
            "_model_name": "LayoutModel",
            "_view_count": null,
            "_view_module": "@jupyter-widgets/base",
            "_view_module_version": "1.2.0",
            "_view_name": "LayoutView",
            "align_content": null,
            "align_items": null,
            "align_self": null,
            "border": null,
            "bottom": null,
            "display": null,
            "flex": null,
            "flex_flow": null,
            "grid_area": null,
            "grid_auto_columns": null,
            "grid_auto_flow": null,
            "grid_auto_rows": null,
            "grid_column": null,
            "grid_gap": null,
            "grid_row": null,
            "grid_template_areas": null,
            "grid_template_columns": null,
            "grid_template_rows": null,
            "height": null,
            "justify_content": null,
            "justify_items": null,
            "left": null,
            "margin": null,
            "max_height": null,
            "max_width": null,
            "min_height": null,
            "min_width": null,
            "object_fit": null,
            "object_position": null,
            "order": null,
            "overflow": null,
            "overflow_x": null,
            "overflow_y": null,
            "padding": null,
            "right": null,
            "top": null,
            "visibility": null,
            "width": null
          }
        },
        "dff0834d1ada44ae9ed754cdabe175c4": {
          "model_module": "@jupyter-widgets/base",
          "model_name": "LayoutModel",
          "model_module_version": "1.2.0",
          "state": {
            "_model_module": "@jupyter-widgets/base",
            "_model_module_version": "1.2.0",
            "_model_name": "LayoutModel",
            "_view_count": null,
            "_view_module": "@jupyter-widgets/base",
            "_view_module_version": "1.2.0",
            "_view_name": "LayoutView",
            "align_content": null,
            "align_items": null,
            "align_self": null,
            "border": null,
            "bottom": null,
            "display": null,
            "flex": null,
            "flex_flow": null,
            "grid_area": null,
            "grid_auto_columns": null,
            "grid_auto_flow": null,
            "grid_auto_rows": null,
            "grid_column": null,
            "grid_gap": null,
            "grid_row": null,
            "grid_template_areas": null,
            "grid_template_columns": null,
            "grid_template_rows": null,
            "height": null,
            "justify_content": null,
            "justify_items": null,
            "left": null,
            "margin": null,
            "max_height": null,
            "max_width": null,
            "min_height": null,
            "min_width": null,
            "object_fit": null,
            "object_position": null,
            "order": null,
            "overflow": null,
            "overflow_x": null,
            "overflow_y": null,
            "padding": null,
            "right": null,
            "top": null,
            "visibility": null,
            "width": null
          }
        },
        "fd92df3eadbc48eb81c032aceb637fec": {
          "model_module": "@jupyter-widgets/controls",
          "model_name": "DescriptionStyleModel",
          "model_module_version": "1.5.0",
          "state": {
            "_model_module": "@jupyter-widgets/controls",
            "_model_module_version": "1.5.0",
            "_model_name": "DescriptionStyleModel",
            "_view_count": null,
            "_view_module": "@jupyter-widgets/base",
            "_view_module_version": "1.2.0",
            "_view_name": "StyleView",
            "description_width": ""
          }
        },
        "db6b8c38943048d3bfff455fb6788997": {
          "model_module": "@jupyter-widgets/base",
          "model_name": "LayoutModel",
          "model_module_version": "1.2.0",
          "state": {
            "_model_module": "@jupyter-widgets/base",
            "_model_module_version": "1.2.0",
            "_model_name": "LayoutModel",
            "_view_count": null,
            "_view_module": "@jupyter-widgets/base",
            "_view_module_version": "1.2.0",
            "_view_name": "LayoutView",
            "align_content": null,
            "align_items": null,
            "align_self": null,
            "border": null,
            "bottom": null,
            "display": null,
            "flex": null,
            "flex_flow": null,
            "grid_area": null,
            "grid_auto_columns": null,
            "grid_auto_flow": null,
            "grid_auto_rows": null,
            "grid_column": null,
            "grid_gap": null,
            "grid_row": null,
            "grid_template_areas": null,
            "grid_template_columns": null,
            "grid_template_rows": null,
            "height": null,
            "justify_content": null,
            "justify_items": null,
            "left": null,
            "margin": null,
            "max_height": null,
            "max_width": null,
            "min_height": null,
            "min_width": null,
            "object_fit": null,
            "object_position": null,
            "order": null,
            "overflow": null,
            "overflow_x": null,
            "overflow_y": null,
            "padding": null,
            "right": null,
            "top": null,
            "visibility": null,
            "width": null
          }
        },
        "02dffde8accb46408a13d28a4e912cea": {
          "model_module": "@jupyter-widgets/controls",
          "model_name": "ProgressStyleModel",
          "model_module_version": "1.5.0",
          "state": {
            "_model_module": "@jupyter-widgets/controls",
            "_model_module_version": "1.5.0",
            "_model_name": "ProgressStyleModel",
            "_view_count": null,
            "_view_module": "@jupyter-widgets/base",
            "_view_module_version": "1.2.0",
            "_view_name": "StyleView",
            "bar_color": null,
            "description_width": ""
          }
        },
        "15d384d57fa04f009ab374e7f0f06690": {
          "model_module": "@jupyter-widgets/base",
          "model_name": "LayoutModel",
          "model_module_version": "1.2.0",
          "state": {
            "_model_module": "@jupyter-widgets/base",
            "_model_module_version": "1.2.0",
            "_model_name": "LayoutModel",
            "_view_count": null,
            "_view_module": "@jupyter-widgets/base",
            "_view_module_version": "1.2.0",
            "_view_name": "LayoutView",
            "align_content": null,
            "align_items": null,
            "align_self": null,
            "border": null,
            "bottom": null,
            "display": null,
            "flex": null,
            "flex_flow": null,
            "grid_area": null,
            "grid_auto_columns": null,
            "grid_auto_flow": null,
            "grid_auto_rows": null,
            "grid_column": null,
            "grid_gap": null,
            "grid_row": null,
            "grid_template_areas": null,
            "grid_template_columns": null,
            "grid_template_rows": null,
            "height": null,
            "justify_content": null,
            "justify_items": null,
            "left": null,
            "margin": null,
            "max_height": null,
            "max_width": null,
            "min_height": null,
            "min_width": null,
            "object_fit": null,
            "object_position": null,
            "order": null,
            "overflow": null,
            "overflow_x": null,
            "overflow_y": null,
            "padding": null,
            "right": null,
            "top": null,
            "visibility": null,
            "width": null
          }
        },
        "a0f95955e90c49a2bc92f0c929f60b64": {
          "model_module": "@jupyter-widgets/controls",
          "model_name": "DescriptionStyleModel",
          "model_module_version": "1.5.0",
          "state": {
            "_model_module": "@jupyter-widgets/controls",
            "_model_module_version": "1.5.0",
            "_model_name": "DescriptionStyleModel",
            "_view_count": null,
            "_view_module": "@jupyter-widgets/base",
            "_view_module_version": "1.2.0",
            "_view_name": "StyleView",
            "description_width": ""
          }
        }
      }
    },
    "gpuClass": "standard"
  },
  "cells": [
    {
      "cell_type": "code",
      "metadata": {
        "id": "u0v6eJOBLwmE"
      },
      "source": [
        "! pip install tensorboardX pandas simpletransformers transformers"
      ],
      "execution_count": null,
      "outputs": []
    },
    {
      "cell_type": "markdown",
      "metadata": {
        "id": "2Fdj8Wl1v2DM"
      },
      "source": [
        "**RESTART RUNTIME**"
      ]
    },
    {
      "cell_type": "code",
      "metadata": {
        "id": "r0fKNCGVbQu1"
      },
      "source": [
        "! cp ./drive/My\\ Drive/mlin/hindicorpus/*.csv ./"
      ],
      "execution_count": null,
      "outputs": []
    },
    {
      "cell_type": "markdown",
      "metadata": {
        "id": "ashDV0WS0WJZ"
      },
      "source": [
        "# Hindi sentiment analysis task\n"
      ]
    },
    {
      "cell_type": "code",
      "execution_count": 92,
      "metadata": {
        "id": "69-Ba2_4NOre",
        "colab": {
          "base_uri": "https://localhost:8080/"
        },
        "outputId": "ea1a75b2-65d8-4810-a8f8-86106f59d948"
      },
      "outputs": [
        {
          "output_type": "stream",
          "name": "stdout",
          "text": [
            "The tensorboard extension is already loaded. To reload it, use:\n",
            "  %reload_ext tensorboard\n"
          ]
        }
      ],
      "source": [
        "import pandas as pd\n",
        "import numpy as np\n",
        "import re\n",
        "import string\n",
        "#import nltk\n",
        "#nltk.download('punkt')\n",
        "#import torch\n",
        "from tensorflow import keras\n",
        "import seaborn as sns\n",
        "from keras.callbacks import TensorBoard\n",
        "%load_ext tensorboard\n",
        "from tensorflow.keras.utils import to_categorical\n",
        "from sklearn.metrics import accuracy_score, f1_score, roc_auc_score, roc_curve, confusion_matrix,RocCurveDisplay, auc\n",
        "#from transformers import AutoTokenizer, AutoModelForSequenceClassification, Trainer, TrainingArguments\n",
        "from simpletransformers.classification import ClassificationModel\n",
        "from sklearn import preprocessing\n",
        "from sklearn.model_selection import train_test_split\n",
        "from google.colab import drive\n",
        "from sklearn import metrics\n",
        "import matplotlib.pyplot as plt\n",
        "from sklearn.metrics import RocCurveDisplay"
      ]
    },
    {
      "cell_type": "code",
      "source": [
        "drive.mount('/content/drive')"
      ],
      "metadata": {
        "colab": {
          "base_uri": "https://localhost:8080/"
        },
        "id": "SeMEV73I_0jj",
        "outputId": "b116c27d-c8d2-4d0c-b81c-5b589527ed76"
      },
      "execution_count": null,
      "outputs": [
        {
          "output_type": "stream",
          "name": "stdout",
          "text": [
            "Drive already mounted at /content/drive; to attempt to forcibly remount, call drive.mount(\"/content/drive\", force_remount=True).\n"
          ]
        }
      ]
    },
    {
      "cell_type": "markdown",
      "source": [
        "# Reading the necessary datasets"
      ],
      "metadata": {
        "id": "JQZkIFtTNW1c"
      }
    },
    {
      "cell_type": "markdown",
      "source": [
        "## Base datasets - hi_3500.csv"
      ],
      "metadata": {
        "id": "Tt2OUzSjNgZW"
      }
    },
    {
      "cell_type": "code",
      "source": [
        "# Print the dataframe\n",
        "df_3500 = pd.read_csv(\"/content/drive/MyDrive/AI Winter Project/hi_3500.csv\", header=0, names=['review', 'sentiment'])\n",
        "df_3500.shape"
      ],
      "metadata": {
        "colab": {
          "base_uri": "https://localhost:8080/"
        },
        "id": "dn0sk5jM_6Nt",
        "outputId": "ef4aa272-349d-40b2-d164-20633f5396cb"
      },
      "execution_count": null,
      "outputs": [
        {
          "output_type": "execute_result",
          "data": {
            "text/plain": [
              "(9077, 2)"
            ]
          },
          "metadata": {},
          "execution_count": 4
        }
      ]
    },
    {
      "cell_type": "code",
      "metadata": {
        "id": "VMlsATA7i59f",
        "outputId": "1ebb8ebe-4f78-4d33-93db-6e1c34201a56",
        "colab": {
          "base_uri": "https://localhost:8080/"
        }
      },
      "source": [
        "print(set(df_3500['sentiment'].values))"
      ],
      "execution_count": null,
      "outputs": [
        {
          "output_type": "stream",
          "name": "stdout",
          "text": [
            "{'negative', 'positive', 'neutral'}\n"
          ]
        }
      ]
    },
    {
      "cell_type": "code",
      "metadata": {
        "id": "tungpf0Ci77m",
        "colab": {
          "base_uri": "https://localhost:8080/"
        },
        "outputId": "8a2e6a14-d597-4c46-f2f1-b4ba5f1d46a5"
      },
      "source": [
        "labeler = preprocessing.LabelEncoder()\n",
        "\n",
        "df_3500['sentiment'] = labeler.fit_transform(df_3500['sentiment'] )\n",
        "df_3500['sentiment'].value_counts()"
      ],
      "execution_count": null,
      "outputs": [
        {
          "output_type": "execute_result",
          "data": {
            "text/plain": [
              "2    3254\n",
              "0    3174\n",
              "1    2649\n",
              "Name: sentiment, dtype: int64"
            ]
          },
          "metadata": {},
          "execution_count": 6
        }
      ]
    },
    {
      "cell_type": "code",
      "source": [
        "#Validation dataset for the movie review\n",
        "validation_3500 = pd.read_csv(\"/content/drive/MyDrive/AI Winter Project/train.csv\", header=0, names=['review', 'sentiment'])\n",
        "validation_3500.head()"
      ],
      "metadata": {
        "colab": {
          "base_uri": "https://localhost:8080/",
          "height": 206
        },
        "id": "PMIQg-LvI_YF",
        "outputId": "f9bbe7ae-27c9-4229-e0af-fd83f2b661e7"
      },
      "execution_count": null,
      "outputs": [
        {
          "output_type": "execute_result",
          "data": {
            "text/plain": [
              "                                              review  sentiment\n",
              "0  चंद्रमोहन शर्मा को-प्रड्यूसर और लीड ऐक्टर अक्ष...          2\n",
              "1  अगर आप इस फिल्म को देखने जा रहे हैं तो सबसे पह...          0\n",
              "2  बॉलीवुड वाले चोरी-छिपे हॉलीवुड फिल्मों से कहान...          2\n",
              "3  बैनर :\\nसंजय दत्त प्रोडक्शन्स प्रा.लि., रुपाली...          0\n",
              "4  1959 में घटित चर्चित नानावटी कांड में एक क्राइ...          1"
            ],
            "text/html": [
              "\n",
              "  <div id=\"df-d61ec81d-8f9c-4877-890f-b469617f6891\">\n",
              "    <div class=\"colab-df-container\">\n",
              "      <div>\n",
              "<style scoped>\n",
              "    .dataframe tbody tr th:only-of-type {\n",
              "        vertical-align: middle;\n",
              "    }\n",
              "\n",
              "    .dataframe tbody tr th {\n",
              "        vertical-align: top;\n",
              "    }\n",
              "\n",
              "    .dataframe thead th {\n",
              "        text-align: right;\n",
              "    }\n",
              "</style>\n",
              "<table border=\"1\" class=\"dataframe\">\n",
              "  <thead>\n",
              "    <tr style=\"text-align: right;\">\n",
              "      <th></th>\n",
              "      <th>review</th>\n",
              "      <th>sentiment</th>\n",
              "    </tr>\n",
              "  </thead>\n",
              "  <tbody>\n",
              "    <tr>\n",
              "      <th>0</th>\n",
              "      <td>चंद्रमोहन शर्मा को-प्रड्यूसर और लीड ऐक्टर अक्ष...</td>\n",
              "      <td>2</td>\n",
              "    </tr>\n",
              "    <tr>\n",
              "      <th>1</th>\n",
              "      <td>अगर आप इस फिल्म को देखने जा रहे हैं तो सबसे पह...</td>\n",
              "      <td>0</td>\n",
              "    </tr>\n",
              "    <tr>\n",
              "      <th>2</th>\n",
              "      <td>बॉलीवुड वाले चोरी-छिपे हॉलीवुड फिल्मों से कहान...</td>\n",
              "      <td>2</td>\n",
              "    </tr>\n",
              "    <tr>\n",
              "      <th>3</th>\n",
              "      <td>बैनर :\\nसंजय दत्त प्रोडक्शन्स प्रा.लि., रुपाली...</td>\n",
              "      <td>0</td>\n",
              "    </tr>\n",
              "    <tr>\n",
              "      <th>4</th>\n",
              "      <td>1959 में घटित चर्चित नानावटी कांड में एक क्राइ...</td>\n",
              "      <td>1</td>\n",
              "    </tr>\n",
              "  </tbody>\n",
              "</table>\n",
              "</div>\n",
              "      <button class=\"colab-df-convert\" onclick=\"convertToInteractive('df-d61ec81d-8f9c-4877-890f-b469617f6891')\"\n",
              "              title=\"Convert this dataframe to an interactive table.\"\n",
              "              style=\"display:none;\">\n",
              "        \n",
              "  <svg xmlns=\"http://www.w3.org/2000/svg\" height=\"24px\"viewBox=\"0 0 24 24\"\n",
              "       width=\"24px\">\n",
              "    <path d=\"M0 0h24v24H0V0z\" fill=\"none\"/>\n",
              "    <path d=\"M18.56 5.44l.94 2.06.94-2.06 2.06-.94-2.06-.94-.94-2.06-.94 2.06-2.06.94zm-11 1L8.5 8.5l.94-2.06 2.06-.94-2.06-.94L8.5 2.5l-.94 2.06-2.06.94zm10 10l.94 2.06.94-2.06 2.06-.94-2.06-.94-.94-2.06-.94 2.06-2.06.94z\"/><path d=\"M17.41 7.96l-1.37-1.37c-.4-.4-.92-.59-1.43-.59-.52 0-1.04.2-1.43.59L10.3 9.45l-7.72 7.72c-.78.78-.78 2.05 0 2.83L4 21.41c.39.39.9.59 1.41.59.51 0 1.02-.2 1.41-.59l7.78-7.78 2.81-2.81c.8-.78.8-2.07 0-2.86zM5.41 20L4 18.59l7.72-7.72 1.47 1.35L5.41 20z\"/>\n",
              "  </svg>\n",
              "      </button>\n",
              "      \n",
              "  <style>\n",
              "    .colab-df-container {\n",
              "      display:flex;\n",
              "      flex-wrap:wrap;\n",
              "      gap: 12px;\n",
              "    }\n",
              "\n",
              "    .colab-df-convert {\n",
              "      background-color: #E8F0FE;\n",
              "      border: none;\n",
              "      border-radius: 50%;\n",
              "      cursor: pointer;\n",
              "      display: none;\n",
              "      fill: #1967D2;\n",
              "      height: 32px;\n",
              "      padding: 0 0 0 0;\n",
              "      width: 32px;\n",
              "    }\n",
              "\n",
              "    .colab-df-convert:hover {\n",
              "      background-color: #E2EBFA;\n",
              "      box-shadow: 0px 1px 2px rgba(60, 64, 67, 0.3), 0px 1px 3px 1px rgba(60, 64, 67, 0.15);\n",
              "      fill: #174EA6;\n",
              "    }\n",
              "\n",
              "    [theme=dark] .colab-df-convert {\n",
              "      background-color: #3B4455;\n",
              "      fill: #D2E3FC;\n",
              "    }\n",
              "\n",
              "    [theme=dark] .colab-df-convert:hover {\n",
              "      background-color: #434B5C;\n",
              "      box-shadow: 0px 1px 3px 1px rgba(0, 0, 0, 0.15);\n",
              "      filter: drop-shadow(0px 1px 2px rgba(0, 0, 0, 0.3));\n",
              "      fill: #FFFFFF;\n",
              "    }\n",
              "  </style>\n",
              "\n",
              "      <script>\n",
              "        const buttonEl =\n",
              "          document.querySelector('#df-d61ec81d-8f9c-4877-890f-b469617f6891 button.colab-df-convert');\n",
              "        buttonEl.style.display =\n",
              "          google.colab.kernel.accessAllowed ? 'block' : 'none';\n",
              "\n",
              "        async function convertToInteractive(key) {\n",
              "          const element = document.querySelector('#df-d61ec81d-8f9c-4877-890f-b469617f6891');\n",
              "          const dataTable =\n",
              "            await google.colab.kernel.invokeFunction('convertToInteractive',\n",
              "                                                     [key], {});\n",
              "          if (!dataTable) return;\n",
              "\n",
              "          const docLinkHtml = 'Like what you see? Visit the ' +\n",
              "            '<a target=\"_blank\" href=https://colab.research.google.com/notebooks/data_table.ipynb>data table notebook</a>'\n",
              "            + ' to learn more about interactive tables.';\n",
              "          element.innerHTML = '';\n",
              "          dataTable['output_type'] = 'display_data';\n",
              "          await google.colab.output.renderOutput(dataTable, element);\n",
              "          const docLink = document.createElement('div');\n",
              "          docLink.innerHTML = docLinkHtml;\n",
              "          element.appendChild(docLink);\n",
              "        }\n",
              "      </script>\n",
              "    </div>\n",
              "  </div>\n",
              "  "
            ]
          },
          "metadata": {},
          "execution_count": 15
        }
      ]
    },
    {
      "cell_type": "code",
      "source": [
        "print(set(validation_3500['sentiment'].values))"
      ],
      "metadata": {
        "colab": {
          "base_uri": "https://localhost:8080/"
        },
        "id": "yFokI13aMO4R",
        "outputId": "101707a6-a1df-4c41-9227-369ac877b576"
      },
      "execution_count": null,
      "outputs": [
        {
          "output_type": "stream",
          "name": "stdout",
          "text": [
            "{0, 1, 2}\n"
          ]
        }
      ]
    },
    {
      "cell_type": "code",
      "metadata": {
        "id": "l5XutXILb53g"
      },
      "source": [
        "train, test = train_test_split(df_3500, random_state=91)"
      ],
      "execution_count": null,
      "outputs": []
    },
    {
      "cell_type": "code",
      "source": [
        "print(train.shape)\n",
        "print(test.shape)"
      ],
      "metadata": {
        "colab": {
          "base_uri": "https://localhost:8080/"
        },
        "id": "ikthdk7wnHEY",
        "outputId": "5328c39d-cc8f-4fdf-e853-5ec6219d4dc1"
      },
      "execution_count": null,
      "outputs": [
        {
          "output_type": "stream",
          "name": "stdout",
          "text": [
            "(6807, 2)\n",
            "(2270, 2)\n"
          ]
        }
      ]
    },
    {
      "cell_type": "markdown",
      "source": [
        "## IIT Patna Dataset - Movie Review"
      ],
      "metadata": {
        "id": "WYTL7ypxPB5x"
      }
    },
    {
      "cell_type": "code",
      "source": [
        "iit_df_movie = pd.read_csv(\"/content/drive/MyDrive/AI Winter Project/iitp-movie-reviews/hi-train.csv\", header=0, names=['sentiment','review'])\n",
        "iit_df_movie.head()"
      ],
      "metadata": {
        "colab": {
          "base_uri": "https://localhost:8080/",
          "height": 206
        },
        "id": "SjWAITElPCDi",
        "outputId": "fc2483e6-b737-410f-9599-09ae43a619bf"
      },
      "execution_count": null,
      "outputs": [
        {
          "output_type": "execute_result",
          "data": {
            "text/plain": [
              "  sentiment                                             review\n",
              "0  positive  ’उड़ान’ से विक्रमादित्य\\nमोटवाने\\nने अच्छे सिन...\n",
              "1   neutral  फिल्म में गानों के दृश्य में अनुष्का को माइक क...\n",
              "2   neutral  फांसी चढ़ने से पहले वह पाकिस्तान के सदर से खास...\n",
              "3  positive  राज कुमार हिरानी ने इस मूवी में भी अपने डायरेक...\n",
              "4  positive  इन फुकरों से आप पहले भी मिल चुके हैं और आपने इ..."
            ],
            "text/html": [
              "\n",
              "  <div id=\"df-83289a54-08a2-4f4f-8d80-2e0e5e351e88\">\n",
              "    <div class=\"colab-df-container\">\n",
              "      <div>\n",
              "<style scoped>\n",
              "    .dataframe tbody tr th:only-of-type {\n",
              "        vertical-align: middle;\n",
              "    }\n",
              "\n",
              "    .dataframe tbody tr th {\n",
              "        vertical-align: top;\n",
              "    }\n",
              "\n",
              "    .dataframe thead th {\n",
              "        text-align: right;\n",
              "    }\n",
              "</style>\n",
              "<table border=\"1\" class=\"dataframe\">\n",
              "  <thead>\n",
              "    <tr style=\"text-align: right;\">\n",
              "      <th></th>\n",
              "      <th>sentiment</th>\n",
              "      <th>review</th>\n",
              "    </tr>\n",
              "  </thead>\n",
              "  <tbody>\n",
              "    <tr>\n",
              "      <th>0</th>\n",
              "      <td>positive</td>\n",
              "      <td>’उड़ान’ से विक्रमादित्य\\nमोटवाने\\nने अच्छे सिन...</td>\n",
              "    </tr>\n",
              "    <tr>\n",
              "      <th>1</th>\n",
              "      <td>neutral</td>\n",
              "      <td>फिल्म में गानों के दृश्य में अनुष्का को माइक क...</td>\n",
              "    </tr>\n",
              "    <tr>\n",
              "      <th>2</th>\n",
              "      <td>neutral</td>\n",
              "      <td>फांसी चढ़ने से पहले वह पाकिस्तान के सदर से खास...</td>\n",
              "    </tr>\n",
              "    <tr>\n",
              "      <th>3</th>\n",
              "      <td>positive</td>\n",
              "      <td>राज कुमार हिरानी ने इस मूवी में भी अपने डायरेक...</td>\n",
              "    </tr>\n",
              "    <tr>\n",
              "      <th>4</th>\n",
              "      <td>positive</td>\n",
              "      <td>इन फुकरों से आप पहले भी मिल चुके हैं और आपने इ...</td>\n",
              "    </tr>\n",
              "  </tbody>\n",
              "</table>\n",
              "</div>\n",
              "      <button class=\"colab-df-convert\" onclick=\"convertToInteractive('df-83289a54-08a2-4f4f-8d80-2e0e5e351e88')\"\n",
              "              title=\"Convert this dataframe to an interactive table.\"\n",
              "              style=\"display:none;\">\n",
              "        \n",
              "  <svg xmlns=\"http://www.w3.org/2000/svg\" height=\"24px\"viewBox=\"0 0 24 24\"\n",
              "       width=\"24px\">\n",
              "    <path d=\"M0 0h24v24H0V0z\" fill=\"none\"/>\n",
              "    <path d=\"M18.56 5.44l.94 2.06.94-2.06 2.06-.94-2.06-.94-.94-2.06-.94 2.06-2.06.94zm-11 1L8.5 8.5l.94-2.06 2.06-.94-2.06-.94L8.5 2.5l-.94 2.06-2.06.94zm10 10l.94 2.06.94-2.06 2.06-.94-2.06-.94-.94-2.06-.94 2.06-2.06.94z\"/><path d=\"M17.41 7.96l-1.37-1.37c-.4-.4-.92-.59-1.43-.59-.52 0-1.04.2-1.43.59L10.3 9.45l-7.72 7.72c-.78.78-.78 2.05 0 2.83L4 21.41c.39.39.9.59 1.41.59.51 0 1.02-.2 1.41-.59l7.78-7.78 2.81-2.81c.8-.78.8-2.07 0-2.86zM5.41 20L4 18.59l7.72-7.72 1.47 1.35L5.41 20z\"/>\n",
              "  </svg>\n",
              "      </button>\n",
              "      \n",
              "  <style>\n",
              "    .colab-df-container {\n",
              "      display:flex;\n",
              "      flex-wrap:wrap;\n",
              "      gap: 12px;\n",
              "    }\n",
              "\n",
              "    .colab-df-convert {\n",
              "      background-color: #E8F0FE;\n",
              "      border: none;\n",
              "      border-radius: 50%;\n",
              "      cursor: pointer;\n",
              "      display: none;\n",
              "      fill: #1967D2;\n",
              "      height: 32px;\n",
              "      padding: 0 0 0 0;\n",
              "      width: 32px;\n",
              "    }\n",
              "\n",
              "    .colab-df-convert:hover {\n",
              "      background-color: #E2EBFA;\n",
              "      box-shadow: 0px 1px 2px rgba(60, 64, 67, 0.3), 0px 1px 3px 1px rgba(60, 64, 67, 0.15);\n",
              "      fill: #174EA6;\n",
              "    }\n",
              "\n",
              "    [theme=dark] .colab-df-convert {\n",
              "      background-color: #3B4455;\n",
              "      fill: #D2E3FC;\n",
              "    }\n",
              "\n",
              "    [theme=dark] .colab-df-convert:hover {\n",
              "      background-color: #434B5C;\n",
              "      box-shadow: 0px 1px 3px 1px rgba(0, 0, 0, 0.15);\n",
              "      filter: drop-shadow(0px 1px 2px rgba(0, 0, 0, 0.3));\n",
              "      fill: #FFFFFF;\n",
              "    }\n",
              "  </style>\n",
              "\n",
              "      <script>\n",
              "        const buttonEl =\n",
              "          document.querySelector('#df-83289a54-08a2-4f4f-8d80-2e0e5e351e88 button.colab-df-convert');\n",
              "        buttonEl.style.display =\n",
              "          google.colab.kernel.accessAllowed ? 'block' : 'none';\n",
              "\n",
              "        async function convertToInteractive(key) {\n",
              "          const element = document.querySelector('#df-83289a54-08a2-4f4f-8d80-2e0e5e351e88');\n",
              "          const dataTable =\n",
              "            await google.colab.kernel.invokeFunction('convertToInteractive',\n",
              "                                                     [key], {});\n",
              "          if (!dataTable) return;\n",
              "\n",
              "          const docLinkHtml = 'Like what you see? Visit the ' +\n",
              "            '<a target=\"_blank\" href=https://colab.research.google.com/notebooks/data_table.ipynb>data table notebook</a>'\n",
              "            + ' to learn more about interactive tables.';\n",
              "          element.innerHTML = '';\n",
              "          dataTable['output_type'] = 'display_data';\n",
              "          await google.colab.output.renderOutput(dataTable, element);\n",
              "          const docLink = document.createElement('div');\n",
              "          docLink.innerHTML = docLinkHtml;\n",
              "          element.appendChild(docLink);\n",
              "        }\n",
              "      </script>\n",
              "    </div>\n",
              "  </div>\n",
              "  "
            ]
          },
          "metadata": {},
          "execution_count": 9
        }
      ]
    },
    {
      "cell_type": "code",
      "source": [
        "iit_df_movie.shape"
      ],
      "metadata": {
        "colab": {
          "base_uri": "https://localhost:8080/"
        },
        "id": "N3mWH5N6mmQM",
        "outputId": "ea2541ec-13be-445f-c32c-ba499e2884cd"
      },
      "execution_count": null,
      "outputs": [
        {
          "output_type": "execute_result",
          "data": {
            "text/plain": [
              "(2479, 2)"
            ]
          },
          "metadata": {},
          "execution_count": 8
        }
      ]
    },
    {
      "cell_type": "code",
      "source": [
        "print(set(iit_df_movie['sentiment'].values))"
      ],
      "metadata": {
        "colab": {
          "base_uri": "https://localhost:8080/"
        },
        "id": "CZQzz9n3PCGH",
        "outputId": "71f8ed27-99b0-4e57-adbc-f835bba2e2f8"
      },
      "execution_count": null,
      "outputs": [
        {
          "output_type": "stream",
          "name": "stdout",
          "text": [
            "{'neutral', 'positive', 'negative'}\n"
          ]
        }
      ]
    },
    {
      "cell_type": "code",
      "source": [
        "iit_df_movie['sentiment'] = labeler.fit_transform(iit_df_movie['sentiment'] )\n",
        "iit_df_movie['sentiment'].value_counts()"
      ],
      "metadata": {
        "colab": {
          "base_uri": "https://localhost:8080/"
        },
        "id": "lDtDlncVRDjk",
        "outputId": "73eb2ce5-841e-43f1-fb8b-1f9198540e58"
      },
      "execution_count": null,
      "outputs": [
        {
          "output_type": "execute_result",
          "data": {
            "text/plain": [
              "2    1042\n",
              "0     741\n",
              "1     696\n",
              "Name: sentiment, dtype: int64"
            ]
          },
          "metadata": {},
          "execution_count": 11
        }
      ]
    },
    {
      "cell_type": "code",
      "source": [
        "#Validation dataset for movie iit patna\n",
        "\n",
        "iit_df_movie_valid = pd.read_csv(\"/content/drive/MyDrive/AI Winter Project/iitp-movie-reviews/hi-valid.csv\", header=0, names=['sentiment','review'])\n",
        "iit_df_movie_valid.head()"
      ],
      "metadata": {
        "colab": {
          "base_uri": "https://localhost:8080/",
          "height": 206
        },
        "id": "4Ijj0bq3PCIt",
        "outputId": "81e3428b-b8c5-4cc6-82a5-c524d097fd05"
      },
      "execution_count": null,
      "outputs": [
        {
          "output_type": "execute_result",
          "data": {
            "text/plain": [
              "  sentiment                                             review\n",
              "0   neutral  निर्माता :\\nआदित्य चोपड़ा\\n\\nनिर्देशक :\\nहबीब ...\n",
              "1  positive        इस कसौटी पर करण काफी हद तक खरे भी उतरे हैं।\n",
              "2  positive  छोटे शहर की गालियां, छतें और विहंगम दृश्य मोहक...\n",
              "3  positive        मनीष और जिशान का काम भी लोगों को याद रहेगा।\n",
              "4  positive  बैनर :\\nएसएलबी फिल्म्स, हरि ॐ एंटरटेनमेंट कंपन..."
            ],
            "text/html": [
              "\n",
              "  <div id=\"df-819a5de7-2a06-499a-9bf2-ed40e27eb1c9\">\n",
              "    <div class=\"colab-df-container\">\n",
              "      <div>\n",
              "<style scoped>\n",
              "    .dataframe tbody tr th:only-of-type {\n",
              "        vertical-align: middle;\n",
              "    }\n",
              "\n",
              "    .dataframe tbody tr th {\n",
              "        vertical-align: top;\n",
              "    }\n",
              "\n",
              "    .dataframe thead th {\n",
              "        text-align: right;\n",
              "    }\n",
              "</style>\n",
              "<table border=\"1\" class=\"dataframe\">\n",
              "  <thead>\n",
              "    <tr style=\"text-align: right;\">\n",
              "      <th></th>\n",
              "      <th>sentiment</th>\n",
              "      <th>review</th>\n",
              "    </tr>\n",
              "  </thead>\n",
              "  <tbody>\n",
              "    <tr>\n",
              "      <th>0</th>\n",
              "      <td>neutral</td>\n",
              "      <td>निर्माता :\\nआदित्य चोपड़ा\\n\\nनिर्देशक :\\nहबीब ...</td>\n",
              "    </tr>\n",
              "    <tr>\n",
              "      <th>1</th>\n",
              "      <td>positive</td>\n",
              "      <td>इस कसौटी पर करण काफी हद तक खरे भी उतरे हैं।</td>\n",
              "    </tr>\n",
              "    <tr>\n",
              "      <th>2</th>\n",
              "      <td>positive</td>\n",
              "      <td>छोटे शहर की गालियां, छतें और विहंगम दृश्य मोहक...</td>\n",
              "    </tr>\n",
              "    <tr>\n",
              "      <th>3</th>\n",
              "      <td>positive</td>\n",
              "      <td>मनीष और जिशान का काम भी लोगों को याद रहेगा।</td>\n",
              "    </tr>\n",
              "    <tr>\n",
              "      <th>4</th>\n",
              "      <td>positive</td>\n",
              "      <td>बैनर :\\nएसएलबी फिल्म्स, हरि ॐ एंटरटेनमेंट कंपन...</td>\n",
              "    </tr>\n",
              "  </tbody>\n",
              "</table>\n",
              "</div>\n",
              "      <button class=\"colab-df-convert\" onclick=\"convertToInteractive('df-819a5de7-2a06-499a-9bf2-ed40e27eb1c9')\"\n",
              "              title=\"Convert this dataframe to an interactive table.\"\n",
              "              style=\"display:none;\">\n",
              "        \n",
              "  <svg xmlns=\"http://www.w3.org/2000/svg\" height=\"24px\"viewBox=\"0 0 24 24\"\n",
              "       width=\"24px\">\n",
              "    <path d=\"M0 0h24v24H0V0z\" fill=\"none\"/>\n",
              "    <path d=\"M18.56 5.44l.94 2.06.94-2.06 2.06-.94-2.06-.94-.94-2.06-.94 2.06-2.06.94zm-11 1L8.5 8.5l.94-2.06 2.06-.94-2.06-.94L8.5 2.5l-.94 2.06-2.06.94zm10 10l.94 2.06.94-2.06 2.06-.94-2.06-.94-.94-2.06-.94 2.06-2.06.94z\"/><path d=\"M17.41 7.96l-1.37-1.37c-.4-.4-.92-.59-1.43-.59-.52 0-1.04.2-1.43.59L10.3 9.45l-7.72 7.72c-.78.78-.78 2.05 0 2.83L4 21.41c.39.39.9.59 1.41.59.51 0 1.02-.2 1.41-.59l7.78-7.78 2.81-2.81c.8-.78.8-2.07 0-2.86zM5.41 20L4 18.59l7.72-7.72 1.47 1.35L5.41 20z\"/>\n",
              "  </svg>\n",
              "      </button>\n",
              "      \n",
              "  <style>\n",
              "    .colab-df-container {\n",
              "      display:flex;\n",
              "      flex-wrap:wrap;\n",
              "      gap: 12px;\n",
              "    }\n",
              "\n",
              "    .colab-df-convert {\n",
              "      background-color: #E8F0FE;\n",
              "      border: none;\n",
              "      border-radius: 50%;\n",
              "      cursor: pointer;\n",
              "      display: none;\n",
              "      fill: #1967D2;\n",
              "      height: 32px;\n",
              "      padding: 0 0 0 0;\n",
              "      width: 32px;\n",
              "    }\n",
              "\n",
              "    .colab-df-convert:hover {\n",
              "      background-color: #E2EBFA;\n",
              "      box-shadow: 0px 1px 2px rgba(60, 64, 67, 0.3), 0px 1px 3px 1px rgba(60, 64, 67, 0.15);\n",
              "      fill: #174EA6;\n",
              "    }\n",
              "\n",
              "    [theme=dark] .colab-df-convert {\n",
              "      background-color: #3B4455;\n",
              "      fill: #D2E3FC;\n",
              "    }\n",
              "\n",
              "    [theme=dark] .colab-df-convert:hover {\n",
              "      background-color: #434B5C;\n",
              "      box-shadow: 0px 1px 3px 1px rgba(0, 0, 0, 0.15);\n",
              "      filter: drop-shadow(0px 1px 2px rgba(0, 0, 0, 0.3));\n",
              "      fill: #FFFFFF;\n",
              "    }\n",
              "  </style>\n",
              "\n",
              "      <script>\n",
              "        const buttonEl =\n",
              "          document.querySelector('#df-819a5de7-2a06-499a-9bf2-ed40e27eb1c9 button.colab-df-convert');\n",
              "        buttonEl.style.display =\n",
              "          google.colab.kernel.accessAllowed ? 'block' : 'none';\n",
              "\n",
              "        async function convertToInteractive(key) {\n",
              "          const element = document.querySelector('#df-819a5de7-2a06-499a-9bf2-ed40e27eb1c9');\n",
              "          const dataTable =\n",
              "            await google.colab.kernel.invokeFunction('convertToInteractive',\n",
              "                                                     [key], {});\n",
              "          if (!dataTable) return;\n",
              "\n",
              "          const docLinkHtml = 'Like what you see? Visit the ' +\n",
              "            '<a target=\"_blank\" href=https://colab.research.google.com/notebooks/data_table.ipynb>data table notebook</a>'\n",
              "            + ' to learn more about interactive tables.';\n",
              "          element.innerHTML = '';\n",
              "          dataTable['output_type'] = 'display_data';\n",
              "          await google.colab.output.renderOutput(dataTable, element);\n",
              "          const docLink = document.createElement('div');\n",
              "          docLink.innerHTML = docLinkHtml;\n",
              "          element.appendChild(docLink);\n",
              "        }\n",
              "      </script>\n",
              "    </div>\n",
              "  </div>\n",
              "  "
            ]
          },
          "metadata": {},
          "execution_count": 45
        }
      ]
    },
    {
      "cell_type": "code",
      "source": [
        "iit_df_movie_valid['sentiment'] = labeler.fit_transform(iit_df_movie_valid['sentiment'] )\n",
        "iit_df_movie_valid['sentiment'].value_counts()"
      ],
      "metadata": {
        "id": "QFON2HARRMje"
      },
      "execution_count": null,
      "outputs": []
    },
    {
      "cell_type": "code",
      "source": [
        "train_iitm, test_iitm = train_test_split(iit_df_movie, random_state=91)"
      ],
      "metadata": {
        "id": "nkR-2b0maXse"
      },
      "execution_count": null,
      "outputs": []
    },
    {
      "cell_type": "code",
      "source": [
        "train_iitm = train_iitm[['review','sentiment']]\n",
        "test_iitm = test_iitm[['review','sentiment']]"
      ],
      "metadata": {
        "id": "A3LFQk4ul-iM"
      },
      "execution_count": null,
      "outputs": []
    },
    {
      "cell_type": "code",
      "source": [
        "print(train_iitm.shape)\n",
        "print(test_iitm.shape)"
      ],
      "metadata": {
        "colab": {
          "base_uri": "https://localhost:8080/"
        },
        "id": "Qp0lIW7Em_vx",
        "outputId": "408f7655-c6be-4ff9-8d00-974aa4e52e8e"
      },
      "execution_count": null,
      "outputs": [
        {
          "output_type": "stream",
          "name": "stdout",
          "text": [
            "(1859, 2)\n",
            "(620, 2)\n"
          ]
        }
      ]
    },
    {
      "cell_type": "markdown",
      "source": [
        "## IIT Patna - Product Review Dataset"
      ],
      "metadata": {
        "id": "Tb6TX0EzPCi4"
      }
    },
    {
      "cell_type": "code",
      "source": [
        "iit_df_product = pd.read_csv(\"/content/drive/MyDrive/AI Winter Project/iitp-product-reviews/hi-train.csv\", header=0, names=['sentiment','review'])\n",
        "iit_df_product.head()"
      ],
      "metadata": {
        "colab": {
          "base_uri": "https://localhost:8080/",
          "height": 206
        },
        "id": "OLIdA7QhPCsz",
        "outputId": "f44adf2c-3ff9-416a-dad0-d64e9d278fb2"
      },
      "execution_count": null,
      "outputs": [
        {
          "output_type": "execute_result",
          "data": {
            "text/plain": [
              "  sentiment                                             review\n",
              "0   neutral  यह एस्पेक्ट रेशो का ईश्यू है और हम आशा करते है...\n",
              "1  positive  लेकिन इस तरह के एक मॉडल के एक घर कंप्यूटर के ल...\n",
              "2  positive  गिर वन राष्ट्रीय उद्यान बाघ संरक्षित क्षेत्र ह...\n",
              "3   neutral  और हां , इस फिल्म में हर किरदार भारद्वाज को भर...\n",
              "4  positive  फोन उपयोग में बेहद ही आसान है और टच रिस्पॉरन्स..."
            ],
            "text/html": [
              "\n",
              "  <div id=\"df-e14f1f36-4cb8-41c1-ade6-2d20b2c3d2de\">\n",
              "    <div class=\"colab-df-container\">\n",
              "      <div>\n",
              "<style scoped>\n",
              "    .dataframe tbody tr th:only-of-type {\n",
              "        vertical-align: middle;\n",
              "    }\n",
              "\n",
              "    .dataframe tbody tr th {\n",
              "        vertical-align: top;\n",
              "    }\n",
              "\n",
              "    .dataframe thead th {\n",
              "        text-align: right;\n",
              "    }\n",
              "</style>\n",
              "<table border=\"1\" class=\"dataframe\">\n",
              "  <thead>\n",
              "    <tr style=\"text-align: right;\">\n",
              "      <th></th>\n",
              "      <th>sentiment</th>\n",
              "      <th>review</th>\n",
              "    </tr>\n",
              "  </thead>\n",
              "  <tbody>\n",
              "    <tr>\n",
              "      <th>0</th>\n",
              "      <td>neutral</td>\n",
              "      <td>यह एस्पेक्ट रेशो का ईश्यू है और हम आशा करते है...</td>\n",
              "    </tr>\n",
              "    <tr>\n",
              "      <th>1</th>\n",
              "      <td>positive</td>\n",
              "      <td>लेकिन इस तरह के एक मॉडल के एक घर कंप्यूटर के ल...</td>\n",
              "    </tr>\n",
              "    <tr>\n",
              "      <th>2</th>\n",
              "      <td>positive</td>\n",
              "      <td>गिर वन राष्ट्रीय उद्यान बाघ संरक्षित क्षेत्र ह...</td>\n",
              "    </tr>\n",
              "    <tr>\n",
              "      <th>3</th>\n",
              "      <td>neutral</td>\n",
              "      <td>और हां , इस फिल्म में हर किरदार भारद्वाज को भर...</td>\n",
              "    </tr>\n",
              "    <tr>\n",
              "      <th>4</th>\n",
              "      <td>positive</td>\n",
              "      <td>फोन उपयोग में बेहद ही आसान है और टच रिस्पॉरन्स...</td>\n",
              "    </tr>\n",
              "  </tbody>\n",
              "</table>\n",
              "</div>\n",
              "      <button class=\"colab-df-convert\" onclick=\"convertToInteractive('df-e14f1f36-4cb8-41c1-ade6-2d20b2c3d2de')\"\n",
              "              title=\"Convert this dataframe to an interactive table.\"\n",
              "              style=\"display:none;\">\n",
              "        \n",
              "  <svg xmlns=\"http://www.w3.org/2000/svg\" height=\"24px\"viewBox=\"0 0 24 24\"\n",
              "       width=\"24px\">\n",
              "    <path d=\"M0 0h24v24H0V0z\" fill=\"none\"/>\n",
              "    <path d=\"M18.56 5.44l.94 2.06.94-2.06 2.06-.94-2.06-.94-.94-2.06-.94 2.06-2.06.94zm-11 1L8.5 8.5l.94-2.06 2.06-.94-2.06-.94L8.5 2.5l-.94 2.06-2.06.94zm10 10l.94 2.06.94-2.06 2.06-.94-2.06-.94-.94-2.06-.94 2.06-2.06.94z\"/><path d=\"M17.41 7.96l-1.37-1.37c-.4-.4-.92-.59-1.43-.59-.52 0-1.04.2-1.43.59L10.3 9.45l-7.72 7.72c-.78.78-.78 2.05 0 2.83L4 21.41c.39.39.9.59 1.41.59.51 0 1.02-.2 1.41-.59l7.78-7.78 2.81-2.81c.8-.78.8-2.07 0-2.86zM5.41 20L4 18.59l7.72-7.72 1.47 1.35L5.41 20z\"/>\n",
              "  </svg>\n",
              "      </button>\n",
              "      \n",
              "  <style>\n",
              "    .colab-df-container {\n",
              "      display:flex;\n",
              "      flex-wrap:wrap;\n",
              "      gap: 12px;\n",
              "    }\n",
              "\n",
              "    .colab-df-convert {\n",
              "      background-color: #E8F0FE;\n",
              "      border: none;\n",
              "      border-radius: 50%;\n",
              "      cursor: pointer;\n",
              "      display: none;\n",
              "      fill: #1967D2;\n",
              "      height: 32px;\n",
              "      padding: 0 0 0 0;\n",
              "      width: 32px;\n",
              "    }\n",
              "\n",
              "    .colab-df-convert:hover {\n",
              "      background-color: #E2EBFA;\n",
              "      box-shadow: 0px 1px 2px rgba(60, 64, 67, 0.3), 0px 1px 3px 1px rgba(60, 64, 67, 0.15);\n",
              "      fill: #174EA6;\n",
              "    }\n",
              "\n",
              "    [theme=dark] .colab-df-convert {\n",
              "      background-color: #3B4455;\n",
              "      fill: #D2E3FC;\n",
              "    }\n",
              "\n",
              "    [theme=dark] .colab-df-convert:hover {\n",
              "      background-color: #434B5C;\n",
              "      box-shadow: 0px 1px 3px 1px rgba(0, 0, 0, 0.15);\n",
              "      filter: drop-shadow(0px 1px 2px rgba(0, 0, 0, 0.3));\n",
              "      fill: #FFFFFF;\n",
              "    }\n",
              "  </style>\n",
              "\n",
              "      <script>\n",
              "        const buttonEl =\n",
              "          document.querySelector('#df-e14f1f36-4cb8-41c1-ade6-2d20b2c3d2de button.colab-df-convert');\n",
              "        buttonEl.style.display =\n",
              "          google.colab.kernel.accessAllowed ? 'block' : 'none';\n",
              "\n",
              "        async function convertToInteractive(key) {\n",
              "          const element = document.querySelector('#df-e14f1f36-4cb8-41c1-ade6-2d20b2c3d2de');\n",
              "          const dataTable =\n",
              "            await google.colab.kernel.invokeFunction('convertToInteractive',\n",
              "                                                     [key], {});\n",
              "          if (!dataTable) return;\n",
              "\n",
              "          const docLinkHtml = 'Like what you see? Visit the ' +\n",
              "            '<a target=\"_blank\" href=https://colab.research.google.com/notebooks/data_table.ipynb>data table notebook</a>'\n",
              "            + ' to learn more about interactive tables.';\n",
              "          element.innerHTML = '';\n",
              "          dataTable['output_type'] = 'display_data';\n",
              "          await google.colab.output.renderOutput(dataTable, element);\n",
              "          const docLink = document.createElement('div');\n",
              "          docLink.innerHTML = docLinkHtml;\n",
              "          element.appendChild(docLink);\n",
              "        }\n",
              "      </script>\n",
              "    </div>\n",
              "  </div>\n",
              "  "
            ]
          },
          "metadata": {},
          "execution_count": 9
        }
      ]
    },
    {
      "cell_type": "code",
      "source": [
        "iit_df_product.shape"
      ],
      "metadata": {
        "colab": {
          "base_uri": "https://localhost:8080/"
        },
        "id": "Sb49u3Ytmooo",
        "outputId": "de10217e-9e69-484e-8d4d-89bf11b33108"
      },
      "execution_count": null,
      "outputs": [
        {
          "output_type": "execute_result",
          "data": {
            "text/plain": [
              "(4181, 2)"
            ]
          },
          "metadata": {},
          "execution_count": 10
        }
      ]
    },
    {
      "cell_type": "code",
      "source": [
        "print(set(iit_df_product['sentiment'].values))"
      ],
      "metadata": {
        "colab": {
          "base_uri": "https://localhost:8080/"
        },
        "id": "dyn7XN1_PCvq",
        "outputId": "437065fb-ad04-4ffb-d4ac-16facc07b023"
      },
      "execution_count": null,
      "outputs": [
        {
          "output_type": "stream",
          "name": "stdout",
          "text": [
            "{'neutral', 'positive', 'negative'}\n"
          ]
        }
      ]
    },
    {
      "cell_type": "code",
      "source": [
        "iit_df_product['sentiment'] = labeler.fit_transform(iit_df_product['sentiment'] )\n",
        "iit_df_product['sentiment'].value_counts()"
      ],
      "metadata": {
        "colab": {
          "base_uri": "https://localhost:8080/"
        },
        "id": "Nd-fcclDPCx8",
        "outputId": "3fd9638a-37fd-41fc-ad14-fab52c9285a5"
      },
      "execution_count": null,
      "outputs": [
        {
          "output_type": "execute_result",
          "data": {
            "text/plain": [
              "2    1826\n",
              "1    1789\n",
              "0     566\n",
              "Name: sentiment, dtype: int64"
            ]
          },
          "metadata": {},
          "execution_count": 18
        }
      ]
    },
    {
      "cell_type": "code",
      "source": [
        "#Validation dataset for product iit patna\n",
        "\n",
        "iit_df_product_valid = pd.read_csv(\"/content/drive/MyDrive/AI Winter Project/iitp-product-reviews/hi-valid.csv\", header=0, names=['sentiment','review'])\n",
        "iit_df_product_valid.head()"
      ],
      "metadata": {
        "colab": {
          "base_uri": "https://localhost:8080/",
          "height": 206
        },
        "id": "zzIk_4KwPC0F",
        "outputId": "d30621c2-56be-4bb2-808e-af3a8552d72d"
      },
      "execution_count": null,
      "outputs": [
        {
          "output_type": "execute_result",
          "data": {
            "text/plain": [
              "  sentiment                                             review\n",
              "0   neutral  इतना नहीं बल्कि यहां पर कंपनी अपना पहला फाइव स...\n",
              "1   neutral  डिजिफलीप प्रो XT811 , 1200 x 800 P और 8 इंच डि...\n",
              "2  positive  निकोन डी810 कैमरे की सबसे खास बात ये है कि इसम...\n",
              "3  positive  इसमें विंडोज 8 64-बिट ऑपरेटिंग सिस्टम है , लेक...\n",
              "4  negative  3जी प्लास्टिक का बना हुआ था जो हाथ से फिसलता था ।"
            ],
            "text/html": [
              "\n",
              "  <div id=\"df-996b7b84-7edc-4c49-9783-8665b2b61315\">\n",
              "    <div class=\"colab-df-container\">\n",
              "      <div>\n",
              "<style scoped>\n",
              "    .dataframe tbody tr th:only-of-type {\n",
              "        vertical-align: middle;\n",
              "    }\n",
              "\n",
              "    .dataframe tbody tr th {\n",
              "        vertical-align: top;\n",
              "    }\n",
              "\n",
              "    .dataframe thead th {\n",
              "        text-align: right;\n",
              "    }\n",
              "</style>\n",
              "<table border=\"1\" class=\"dataframe\">\n",
              "  <thead>\n",
              "    <tr style=\"text-align: right;\">\n",
              "      <th></th>\n",
              "      <th>sentiment</th>\n",
              "      <th>review</th>\n",
              "    </tr>\n",
              "  </thead>\n",
              "  <tbody>\n",
              "    <tr>\n",
              "      <th>0</th>\n",
              "      <td>neutral</td>\n",
              "      <td>इतना नहीं बल्कि यहां पर कंपनी अपना पहला फाइव स...</td>\n",
              "    </tr>\n",
              "    <tr>\n",
              "      <th>1</th>\n",
              "      <td>neutral</td>\n",
              "      <td>डिजिफलीप प्रो XT811 , 1200 x 800 P और 8 इंच डि...</td>\n",
              "    </tr>\n",
              "    <tr>\n",
              "      <th>2</th>\n",
              "      <td>positive</td>\n",
              "      <td>निकोन डी810 कैमरे की सबसे खास बात ये है कि इसम...</td>\n",
              "    </tr>\n",
              "    <tr>\n",
              "      <th>3</th>\n",
              "      <td>positive</td>\n",
              "      <td>इसमें विंडोज 8 64-बिट ऑपरेटिंग सिस्टम है , लेक...</td>\n",
              "    </tr>\n",
              "    <tr>\n",
              "      <th>4</th>\n",
              "      <td>negative</td>\n",
              "      <td>3जी प्लास्टिक का बना हुआ था जो हाथ से फिसलता था ।</td>\n",
              "    </tr>\n",
              "  </tbody>\n",
              "</table>\n",
              "</div>\n",
              "      <button class=\"colab-df-convert\" onclick=\"convertToInteractive('df-996b7b84-7edc-4c49-9783-8665b2b61315')\"\n",
              "              title=\"Convert this dataframe to an interactive table.\"\n",
              "              style=\"display:none;\">\n",
              "        \n",
              "  <svg xmlns=\"http://www.w3.org/2000/svg\" height=\"24px\"viewBox=\"0 0 24 24\"\n",
              "       width=\"24px\">\n",
              "    <path d=\"M0 0h24v24H0V0z\" fill=\"none\"/>\n",
              "    <path d=\"M18.56 5.44l.94 2.06.94-2.06 2.06-.94-2.06-.94-.94-2.06-.94 2.06-2.06.94zm-11 1L8.5 8.5l.94-2.06 2.06-.94-2.06-.94L8.5 2.5l-.94 2.06-2.06.94zm10 10l.94 2.06.94-2.06 2.06-.94-2.06-.94-.94-2.06-.94 2.06-2.06.94z\"/><path d=\"M17.41 7.96l-1.37-1.37c-.4-.4-.92-.59-1.43-.59-.52 0-1.04.2-1.43.59L10.3 9.45l-7.72 7.72c-.78.78-.78 2.05 0 2.83L4 21.41c.39.39.9.59 1.41.59.51 0 1.02-.2 1.41-.59l7.78-7.78 2.81-2.81c.8-.78.8-2.07 0-2.86zM5.41 20L4 18.59l7.72-7.72 1.47 1.35L5.41 20z\"/>\n",
              "  </svg>\n",
              "      </button>\n",
              "      \n",
              "  <style>\n",
              "    .colab-df-container {\n",
              "      display:flex;\n",
              "      flex-wrap:wrap;\n",
              "      gap: 12px;\n",
              "    }\n",
              "\n",
              "    .colab-df-convert {\n",
              "      background-color: #E8F0FE;\n",
              "      border: none;\n",
              "      border-radius: 50%;\n",
              "      cursor: pointer;\n",
              "      display: none;\n",
              "      fill: #1967D2;\n",
              "      height: 32px;\n",
              "      padding: 0 0 0 0;\n",
              "      width: 32px;\n",
              "    }\n",
              "\n",
              "    .colab-df-convert:hover {\n",
              "      background-color: #E2EBFA;\n",
              "      box-shadow: 0px 1px 2px rgba(60, 64, 67, 0.3), 0px 1px 3px 1px rgba(60, 64, 67, 0.15);\n",
              "      fill: #174EA6;\n",
              "    }\n",
              "\n",
              "    [theme=dark] .colab-df-convert {\n",
              "      background-color: #3B4455;\n",
              "      fill: #D2E3FC;\n",
              "    }\n",
              "\n",
              "    [theme=dark] .colab-df-convert:hover {\n",
              "      background-color: #434B5C;\n",
              "      box-shadow: 0px 1px 3px 1px rgba(0, 0, 0, 0.15);\n",
              "      filter: drop-shadow(0px 1px 2px rgba(0, 0, 0, 0.3));\n",
              "      fill: #FFFFFF;\n",
              "    }\n",
              "  </style>\n",
              "\n",
              "      <script>\n",
              "        const buttonEl =\n",
              "          document.querySelector('#df-996b7b84-7edc-4c49-9783-8665b2b61315 button.colab-df-convert');\n",
              "        buttonEl.style.display =\n",
              "          google.colab.kernel.accessAllowed ? 'block' : 'none';\n",
              "\n",
              "        async function convertToInteractive(key) {\n",
              "          const element = document.querySelector('#df-996b7b84-7edc-4c49-9783-8665b2b61315');\n",
              "          const dataTable =\n",
              "            await google.colab.kernel.invokeFunction('convertToInteractive',\n",
              "                                                     [key], {});\n",
              "          if (!dataTable) return;\n",
              "\n",
              "          const docLinkHtml = 'Like what you see? Visit the ' +\n",
              "            '<a target=\"_blank\" href=https://colab.research.google.com/notebooks/data_table.ipynb>data table notebook</a>'\n",
              "            + ' to learn more about interactive tables.';\n",
              "          element.innerHTML = '';\n",
              "          dataTable['output_type'] = 'display_data';\n",
              "          await google.colab.output.renderOutput(dataTable, element);\n",
              "          const docLink = document.createElement('div');\n",
              "          docLink.innerHTML = docLinkHtml;\n",
              "          element.appendChild(docLink);\n",
              "        }\n",
              "      </script>\n",
              "    </div>\n",
              "  </div>\n",
              "  "
            ]
          },
          "metadata": {},
          "execution_count": 44
        }
      ]
    },
    {
      "cell_type": "code",
      "source": [
        "iit_df_product_valid['sentiment'] = labeler.fit_transform(iit_df_product_valid['sentiment'] )\n",
        "iit_df_product_valid['sentiment'].value_counts()"
      ],
      "metadata": {
        "colab": {
          "base_uri": "https://localhost:8080/"
        },
        "id": "XIsHpbg2PDEo",
        "outputId": "7eaaf613-ada1-4483-b864-cb86722144a4"
      },
      "execution_count": null,
      "outputs": [
        {
          "output_type": "execute_result",
          "data": {
            "text/plain": [
              "1    223\n",
              "2    222\n",
              "0     77\n",
              "Name: sentiment, dtype: int64"
            ]
          },
          "metadata": {},
          "execution_count": 46
        }
      ]
    },
    {
      "cell_type": "code",
      "source": [
        "train_iitp, test_iitp = train_test_split(iit_df_product, random_state=91)"
      ],
      "metadata": {
        "id": "7j6VdadeeS6x"
      },
      "execution_count": null,
      "outputs": []
    },
    {
      "cell_type": "code",
      "source": [
        "train_iitp = train_iitp[['review','sentiment']]\n",
        "test_iitp = test_iitp[['review','sentiment']]"
      ],
      "metadata": {
        "id": "rbTykc2Rod-A"
      },
      "execution_count": null,
      "outputs": []
    },
    {
      "cell_type": "markdown",
      "source": [
        "# Text Preprocessing"
      ],
      "metadata": {
        "id": "08veBkvasike"
      }
    },
    {
      "cell_type": "code",
      "source": [
        "df = pd.read_csv(\"/content/drive/MyDrive/AI Winter Project/hi_3500.csv\")\n",
        "\n",
        "# Print the dataframe\n",
        "df.head()"
      ],
      "metadata": {
        "id": "2X-0gLwpNWwU",
        "colab": {
          "base_uri": "https://localhost:8080/",
          "height": 206
        },
        "outputId": "28013552-34cc-45fd-9329-c7831686b7fb"
      },
      "execution_count": null,
      "outputs": [
        {
          "output_type": "execute_result",
          "data": {
            "text/plain": [
              "                                                text experience\n",
              "0  लोग वतन तक खा जाते हैं इसका इसे यकीन नहींमान ज...   negative\n",
              "1  गुमनाम है वतन पर मिटने वाले लोग आतन्कवादियों स...   negative\n",
              "2  ज़ंजीर बदली जा रही थी मैं समझा था रिहाई हो गयी है   negative\n",
              "3  यूपी में बड़े स्तर पर दंगे करवा सकती है बीजेपी...   negative\n",
              "4  अंग्रेजी नहीं आती है इसलिए हिन्दी ट्विट ज्यादा...   negative"
            ],
            "text/html": [
              "\n",
              "  <div id=\"df-b1c7a6fd-47ad-4b67-87df-3fa11dd5ce3f\">\n",
              "    <div class=\"colab-df-container\">\n",
              "      <div>\n",
              "<style scoped>\n",
              "    .dataframe tbody tr th:only-of-type {\n",
              "        vertical-align: middle;\n",
              "    }\n",
              "\n",
              "    .dataframe tbody tr th {\n",
              "        vertical-align: top;\n",
              "    }\n",
              "\n",
              "    .dataframe thead th {\n",
              "        text-align: right;\n",
              "    }\n",
              "</style>\n",
              "<table border=\"1\" class=\"dataframe\">\n",
              "  <thead>\n",
              "    <tr style=\"text-align: right;\">\n",
              "      <th></th>\n",
              "      <th>text</th>\n",
              "      <th>experience</th>\n",
              "    </tr>\n",
              "  </thead>\n",
              "  <tbody>\n",
              "    <tr>\n",
              "      <th>0</th>\n",
              "      <td>लोग वतन तक खा जाते हैं इसका इसे यकीन नहींमान ज...</td>\n",
              "      <td>negative</td>\n",
              "    </tr>\n",
              "    <tr>\n",
              "      <th>1</th>\n",
              "      <td>गुमनाम है वतन पर मिटने वाले लोग आतन्कवादियों स...</td>\n",
              "      <td>negative</td>\n",
              "    </tr>\n",
              "    <tr>\n",
              "      <th>2</th>\n",
              "      <td>ज़ंजीर बदली जा रही थी मैं समझा था रिहाई हो गयी है</td>\n",
              "      <td>negative</td>\n",
              "    </tr>\n",
              "    <tr>\n",
              "      <th>3</th>\n",
              "      <td>यूपी में बड़े स्तर पर दंगे करवा सकती है बीजेपी...</td>\n",
              "      <td>negative</td>\n",
              "    </tr>\n",
              "    <tr>\n",
              "      <th>4</th>\n",
              "      <td>अंग्रेजी नहीं आती है इसलिए हिन्दी ट्विट ज्यादा...</td>\n",
              "      <td>negative</td>\n",
              "    </tr>\n",
              "  </tbody>\n",
              "</table>\n",
              "</div>\n",
              "      <button class=\"colab-df-convert\" onclick=\"convertToInteractive('df-b1c7a6fd-47ad-4b67-87df-3fa11dd5ce3f')\"\n",
              "              title=\"Convert this dataframe to an interactive table.\"\n",
              "              style=\"display:none;\">\n",
              "        \n",
              "  <svg xmlns=\"http://www.w3.org/2000/svg\" height=\"24px\"viewBox=\"0 0 24 24\"\n",
              "       width=\"24px\">\n",
              "    <path d=\"M0 0h24v24H0V0z\" fill=\"none\"/>\n",
              "    <path d=\"M18.56 5.44l.94 2.06.94-2.06 2.06-.94-2.06-.94-.94-2.06-.94 2.06-2.06.94zm-11 1L8.5 8.5l.94-2.06 2.06-.94-2.06-.94L8.5 2.5l-.94 2.06-2.06.94zm10 10l.94 2.06.94-2.06 2.06-.94-2.06-.94-.94-2.06-.94 2.06-2.06.94z\"/><path d=\"M17.41 7.96l-1.37-1.37c-.4-.4-.92-.59-1.43-.59-.52 0-1.04.2-1.43.59L10.3 9.45l-7.72 7.72c-.78.78-.78 2.05 0 2.83L4 21.41c.39.39.9.59 1.41.59.51 0 1.02-.2 1.41-.59l7.78-7.78 2.81-2.81c.8-.78.8-2.07 0-2.86zM5.41 20L4 18.59l7.72-7.72 1.47 1.35L5.41 20z\"/>\n",
              "  </svg>\n",
              "      </button>\n",
              "      \n",
              "  <style>\n",
              "    .colab-df-container {\n",
              "      display:flex;\n",
              "      flex-wrap:wrap;\n",
              "      gap: 12px;\n",
              "    }\n",
              "\n",
              "    .colab-df-convert {\n",
              "      background-color: #E8F0FE;\n",
              "      border: none;\n",
              "      border-radius: 50%;\n",
              "      cursor: pointer;\n",
              "      display: none;\n",
              "      fill: #1967D2;\n",
              "      height: 32px;\n",
              "      padding: 0 0 0 0;\n",
              "      width: 32px;\n",
              "    }\n",
              "\n",
              "    .colab-df-convert:hover {\n",
              "      background-color: #E2EBFA;\n",
              "      box-shadow: 0px 1px 2px rgba(60, 64, 67, 0.3), 0px 1px 3px 1px rgba(60, 64, 67, 0.15);\n",
              "      fill: #174EA6;\n",
              "    }\n",
              "\n",
              "    [theme=dark] .colab-df-convert {\n",
              "      background-color: #3B4455;\n",
              "      fill: #D2E3FC;\n",
              "    }\n",
              "\n",
              "    [theme=dark] .colab-df-convert:hover {\n",
              "      background-color: #434B5C;\n",
              "      box-shadow: 0px 1px 3px 1px rgba(0, 0, 0, 0.15);\n",
              "      filter: drop-shadow(0px 1px 2px rgba(0, 0, 0, 0.3));\n",
              "      fill: #FFFFFF;\n",
              "    }\n",
              "  </style>\n",
              "\n",
              "      <script>\n",
              "        const buttonEl =\n",
              "          document.querySelector('#df-b1c7a6fd-47ad-4b67-87df-3fa11dd5ce3f button.colab-df-convert');\n",
              "        buttonEl.style.display =\n",
              "          google.colab.kernel.accessAllowed ? 'block' : 'none';\n",
              "\n",
              "        async function convertToInteractive(key) {\n",
              "          const element = document.querySelector('#df-b1c7a6fd-47ad-4b67-87df-3fa11dd5ce3f');\n",
              "          const dataTable =\n",
              "            await google.colab.kernel.invokeFunction('convertToInteractive',\n",
              "                                                     [key], {});\n",
              "          if (!dataTable) return;\n",
              "\n",
              "          const docLinkHtml = 'Like what you see? Visit the ' +\n",
              "            '<a target=\"_blank\" href=https://colab.research.google.com/notebooks/data_table.ipynb>data table notebook</a>'\n",
              "            + ' to learn more about interactive tables.';\n",
              "          element.innerHTML = '';\n",
              "          dataTable['output_type'] = 'display_data';\n",
              "          await google.colab.output.renderOutput(dataTable, element);\n",
              "          const docLink = document.createElement('div');\n",
              "          docLink.innerHTML = docLinkHtml;\n",
              "          element.appendChild(docLink);\n",
              "        }\n",
              "      </script>\n",
              "    </div>\n",
              "  </div>\n",
              "  "
            ]
          },
          "metadata": {},
          "execution_count": 3
        }
      ]
    },
    {
      "cell_type": "code",
      "source": [
        "# Null check\n",
        "df.isnull().sum()"
      ],
      "metadata": {
        "colab": {
          "base_uri": "https://localhost:8080/"
        },
        "id": "AFfF3B2qs9mK",
        "outputId": "aa6c0303-14c5-432d-d02d-eb0831c153a7"
      },
      "execution_count": null,
      "outputs": [
        {
          "output_type": "execute_result",
          "data": {
            "text/plain": [
              "text          0\n",
              "experience    0\n",
              "dtype: int64"
            ]
          },
          "metadata": {},
          "execution_count": 4
        }
      ]
    },
    {
      "cell_type": "code",
      "source": [
        "df.info()"
      ],
      "metadata": {
        "colab": {
          "base_uri": "https://localhost:8080/"
        },
        "id": "0_a2ns7u7ySg",
        "outputId": "6a708445-fd4b-43ba-f704-8a9f48905257"
      },
      "execution_count": null,
      "outputs": [
        {
          "output_type": "stream",
          "name": "stdout",
          "text": [
            "<class 'pandas.core.frame.DataFrame'>\n",
            "RangeIndex: 9077 entries, 0 to 9076\n",
            "Data columns (total 2 columns):\n",
            " #   Column      Non-Null Count  Dtype \n",
            "---  ------      --------------  ----- \n",
            " 0   text        9077 non-null   object\n",
            " 1   experience  9077 non-null   object\n",
            "dtypes: object(2)\n",
            "memory usage: 142.0+ KB\n"
          ]
        }
      ]
    },
    {
      "cell_type": "code",
      "source": [
        "for index,text in enumerate(df['text'][35:200]):\n",
        "  print('Review %d:\\n'%(index+1),text)"
      ],
      "metadata": {
        "colab": {
          "base_uri": "https://localhost:8080/"
        },
        "id": "O28gF_7AsleI",
        "outputId": "d3141c72-0a0b-440a-c40a-37adb7506459"
      },
      "execution_count": null,
      "outputs": [
        {
          "output_type": "stream",
          "name": "stdout",
          "text": [
            "Review 1:\n",
            " सखी सइयाँ तो खूब कामात है मेहंगाई डायन्न खाई जात है.\n",
            "Review 2:\n",
            " केजरीवालजी को आज कल ये चिन्ता खाए जा रही है की अगर CM न बने तो जो मानहानि केे मुकदमो मे करोड़ो कीpenaltyभरनी है वो कहा से लाऐंगे #JaiHoNeta\n",
            "Review 3:\n",
            " दिल बहुत ही हरामी कामिनी चीज़ होती है अच्छे खासे हस्ते खेलते आदमी को सेंटियापा काएडमिन बना देती है #SadStoriesOfTwitter\n",
            "Review 4:\n",
            " दुनिया में यह बहुत बड़ी समस्या है कि मूर्ख और कट्टरपंथी अपने आप को बहुत बड़ा समझते हैं जबकि समझदार लोग हमेशा अपनी काबलियत पर संदेह करते हैं।\n",
            "Review 5:\n",
            " तो फिर फेंक अाई डी क्यों बनाई है गर्व के साथ अापना नाम लेने में शर्म कैसी क्या सिर्फ गालियां देने के लिये\n",
            "Review 6:\n",
            " जनार्दन द्विवेदी ने की टीम राहुल की बोलती बंद via\n",
            "Review 7:\n",
            " परमपिता परमेश्वर जो मनुष्य के आत्महत्या करता हे उसका जन्म मनुष्य कभी नहीँ बनता परमपिता परमेश्वर के खिलाफ नहीँ जाना चाहिए परम पिता परमेश्वर\n",
            "Review 8:\n",
            " C C शाहरुख़ ने 50 के नजदीक पहुँच के ऐसी बॉडी बना ली और यहाँ साला भरी जवानी में गर्भवती बनके घूम रहे हैं।\n",
            "Review 9:\n",
            " संपत्ति वाला माओवादी पहली बार सुने माओवादियों की संपत्ति होगी कुर्क\n",
            "Review 10:\n",
            " भारत-पाक में भी दस्तक दे रहा है इस्लामिक स्टेट कश्मीर में दिखे झंडे और बैनर: भारत और पाकिस्तान के कुछ हिस्सों\n",
            "Review 11:\n",
            " #BreakingNews J&K: भूस्खलन में 7 की मौत 20 लापता\n",
            "Review 12:\n",
            " भारत-पाक में भी दस्तक दे रहा है इस्लामिक स्टेट कश्मीर में दिखे झंडे और बैनर: भारत और पाकिस्तान के कुछ हिस्सों\n",
            "Review 13:\n",
            " जब मैं इस संसार में बुराई खोजने चला तो मुझे कोई बुरा न मिला. जब मैंने अपने मन में झाँक कर देखा तो पाया कि मुझसे बुरा कोई नहीं है .\n",
            "Review 14:\n",
            " अब ये मत कहियो के दुसरे वाले का भी क़त्ल करना है वेसे सोंग है कत्ल करे तेरा बोम्ब फिगर यो यो लोल्ज़\n",
            "Review 15:\n",
            " बिरला हो या टाटा सबने अपने चक्कर में इस देश को है काटा सही बात\n",
            "Review 16:\n",
            " जब शहर हमारा सोता है तो मालूम तुमको हाँ क्या क्या होता है इधर जागती है लाशे जिंदा हो मुर्दा उधर ज़िन्दगी खोता है\n",
            "Review 17:\n",
            " दिल फाड़कर रोया वो बंदा मैंने तो बस ये पूछा था भाभी ख्याल रखती हैं?\n",
            "Review 18:\n",
            " आदरनिये श्री 10001 KK सेंटियापा के एडमिन का जव से दिल टूटा है हमेशा सेंटी ठेलते है पर कोई ये बात नही मानेगा बहुत दुःख की बात है\n",
            "Review 19:\n",
            " और द्रविड़ की हालत इस समय उस ईमानदार बाप की तरह हो रही होगी जिसने जीते जी ऊपर से एक रूपया नहीं बनाया और एक दिन उसकी औलाद अफीम बेचते पकडी गई।\n",
            "Review 20:\n",
            " OMG😳 ये है इस्लामी साँप मदरसों मे पढ़े हुए सपोले अगर मदरसे बंद नही हुए तो भारत मे आप के साथ यही होगा\n",
            "Review 21:\n",
            " साई भक्त की आपबीती भाईयों मैंने साई ( चाँद मियां ) को पूजना छोड दिया है क्यों यह लेख पढें :साई उर्फ ( चाँद मियां\n",
            "Review 22:\n",
            " ना नींद आ रही हैना कलम चल रही है लगता है आजअहसासों में कुछ कमी सी है\n",
            "Review 23:\n",
            " अगर केजरीवाल और उसके गुर्गों में जरा भी शर्म बाकी है तो कोर्ट के बाहर समझौता करने की जगह गडकरी के खिलाफ वो सबूत कोर्ट में पेश करे\n",
            "Review 24:\n",
            " कुछ नही बदला उसके जाने के बाद इस जिंदगी में ऐ दोस्तों बस कल जिस जगह दिल हुआ करता था आज वहा दर्द होता है.\n",
            "Review 25:\n",
            " J&K: भूस्खलन में 7 की मौत 20 लापता: जम्मू-कश्मीर के उधमपुर जिले के एक सुदूर पर्वतीय गांव में भारी बारिश के बा\n",
            "Review 26:\n",
            " अपनी पहली फांसी की तैयारी में जल्लाद: निठारी हत्या कांड के दोषी सुरेंद्र कोली को फांसी देने का समय निकट आने के\n",
            "Review 27:\n",
            " देश को नमक खिलानेवाले टाटा का कुछ पता नही चलता प्रकिर्तिक आपदा के समय बाकी के समय देशप्रेम का ढोल पिट के अपनी तिजोरी भरेंगे\n",
            "Review 28:\n",
            " भारत का मीडिया बिकाऊ देशद्रोही भ्रष्ट और हिन्दू विरोधी है | यह बात अब गूगल भी जानती है\n",
            "Review 29:\n",
            " #ModiMinistry J&K: भूस्खलन में 7 की मौत 20 लापता\n",
            "Review 30:\n",
            " #ModiMinistry अपनी पहली फांसी की तैयारी में जल्लाद\n",
            "Review 31:\n",
            " अगर श्रीसंत अपना towel बाहर छोड़ गए हैं तो उसे रवि शास्त्री के मुंह में ठूंस देना चाहिए।\n",
            "Review 32:\n",
            " #Meherbaan ऐसे उबाऊ सोंग ना बनाकर हमपर मेहरबानी करे।धन्यवाद #BangBang\n",
            "Review 33:\n",
            " तुम गुरु हो कि गुरु घंटाल =D\n",
            "Review 34:\n",
            " J&K: भूस्खलन में 7 की मौत 20 लापता: जम्मू-कश्मीर के उधमपुर जिले के एक सुदूर पर्वतीय गांव में भारी बारिश के बा\n",
            "Review 35:\n",
            " J&K: भूस्खलन में 7 की मौत 20 लापता: जम्मू-कश्मीर के उधमपुर जिले के एक सुदूर पर्वतीय गांव में भारी बारिश के बा\n",
            "Review 36:\n",
            " मुद्दतें हो गई हैं चुप रहते कोई सुनता तो हम भी कुछ कहत\n",
            "Review 37:\n",
            " हमें LOC जा कर अपना लिंग निकालकर मुत देना चाहिए पाक पर वरना वो दिन दूर नहीं जब गधे के लिंग से ये पाकिस्तानी हमारे माथे पर चोदु लिख देंगे\n",
            "Review 38:\n",
            " तेरी तलाश में निकलू भी तो क्या फायदा?तुम बदल गए हो खो गए होते तो और बात थी\n",
            "Review 39:\n",
            " यह बारिश का पानी नही यह काश्मीरी पंडितों के आँखों की आसूं है\n",
            "Review 40:\n",
            " दिल्लीका थूकमास्टर और यूरिन स्पेशलिस्ट पॉर्ननाथ अब अपना सिर मुंडवायेगा साला नौटंकीमें एकदुसरेके बाप है ये आपीए\n",
            "Review 41:\n",
            " उनको तो बस बम बरसाना आता है। इससे नहीं कर पायेंगे खात्मा। उल्टे निरिह मरेंगे और ISIS में शामिल होंगे। जमीनी लड़ाई की जरूरत।\n",
            "Review 42:\n",
            " मधेशी दलों की निष्क्रियता और मधेशी नेताओं की उदासीनता से मधेशी जनता में निराशा का माहौल है। चुनाव में मिली करारी\n",
            "Review 43:\n",
            " मन तो करता है कि डंडे लेकर हर एक पाकिस्तानी को दम भर पीटू लेकिन ऐसा डंडा मिलता ही नहीं है\n",
            "Review 44:\n",
            " महिलाओं का फ़लसफ़ा : मैं ना बोल रही हूँ लेकिन इसका मतलब हां भी हो सकता है ना भी और तुम जो भी मतलब निकालो उसे मैं गलत ही कहूंगी 😜😜\n",
            "Review 45:\n",
            " हम सोने की चिडीया कह रही जनता को मिट्टी की कहेंगे तो विरोध के लिए चप्पल पडेंगी पर अगर नरेन्द्र भाई प्लेटीनम की कहेंगे तो मसीहा #Truth\n",
            "Review 46:\n",
            " सौंप बैठा वक्त उनको काम नव-निर्माण का आज अपनी ही दरारों से जिन्हें फुर्सत नहीं\n",
            "Review 47:\n",
            " सौ गुना बढ़ जाती है खूबसूरती महज़ मुस्कराने सेफिर भी बाज नही आते लोग बुरा सा मुँह बनाने स\n",
            "Review 48:\n",
            " जिन्दगी में एक मार्मिक समय फिर आया हैं। हमने अनूप वाकडे (Anoop Wakade) भाई को खो दिया हैं। पिछले दिनों सी0 एल0\n",
            "Review 49:\n",
            " जब हुई थी मोहब्बत तो लगा किसी अच्छे काम का असर है ❤😊नहीं थी खबर कि गुनाहों की ऐसी भी सजा होती है 💔😭\n",
            "Review 50:\n",
            " इराक़ी और अमरीकी सूत्रों ने उत्तरी इराक़ मेंअमरीका के हवाई हमलों में आईएस के सरग़ना बगदादी के मारेजाने की सूचना दी है?\n",
            "Review 51:\n",
            " अरमान था तेरे साथ जिंदगी बिताने का शिकवा है खुद के खामोश रह जाने का दीवानगी इस से बढकर और क्या होगी आज भी इंतजार है तेरे आने का.\n",
            "Review 52:\n",
            " अभी आए अभी बैठे अभी दामन संभाला है~तुम्हारी जाऊं जाऊं ने हमारा दम निकाला है\n",
            "Review 53:\n",
            " क्या मैनपुरी के लोग धरती के सबसे बड़े मूर्ख हैं?क्या किसी जनपद के सारे के सारे लोग इतने ज़्यादा मूर्ख हो सकते\n",
            "Review 54:\n",
            " वहां तीन नक्कारे मंत्री बन बैठे है नागनाथ अंधकार कांगीभयंकरप्रसाद\n",
            "Review 55:\n",
            " मेरा दिल जलता नही सुलगता है ऐ-हयात जब तुम मुस्कुराकर किसी और से बात करते हो\n",
            "Review 56:\n",
            " बिजली संकट पर केंद्र से भिड़ा महाराष्ट्र: बिजली को लेकर महाराष्ट्र और केंद्र सरकार के बीच घमासान जारी है। ऊर्जा\n",
            "Review 57:\n",
            " ये सब किस्मत के चक्कर हैंबीए पास बेरोजगार हैंऔर बीए फेल मिनिस्टर हैं।।\n",
            "Review 58:\n",
            " hahaa Lovlyy ' '' हार के जीतने वाले को बाज़ीगर कहते है और जीता हुआ मैच हराने वाले को धोनी कहते है ''\n",
            "Review 59:\n",
            " ये सब किस्मत के चक्कर हैंबीए पास बेरोजगार हैंऔर बीए फेल मिनिस्टर हैं।।\n",
            "Review 60:\n",
            " आयेगें अभी और भी दौर मायूसी के अभी तो बस सीलन तुम्हारी हिचकियो तक आई है\n",
            "Review 61:\n",
            " तो कब बनेंगा अपना। हम तो मानते है की जबतक ये चली आ रही सत्ताओ का बदलाव चलता रहेगा अपना शहर और घर कभी अपना नही लगेंगा\n",
            "Review 62:\n",
            " मुसलमान ISIS जैसे आतंकी संगठन को भी बडे गर्व से ज्वाइन कर रहे है और यहा लोगो को RSS ज्वाइन करने मे भी शर्म आ रही है धिक्कार है\n",
            "Review 63:\n",
            " और भी दुख हैं ज़माने में मोहब्बत के सिवा\n",
            "Review 64:\n",
            " दिल्ली में सरकार बीजेपी की बनेगी किस्मत कांग्रेस और आप की खुलेगी। दोनों पार्टियां बीजेपी के फ्लाप होने की उम्मीद में बैठी हैं।\n",
            "Review 65:\n",
            " न्यूज़ चैनलों पे कल तक धोनी को कैप्टन कूल और आज कैप्टन कलंक सुनकर U-turn लेने में इनका मुकाबला नहीं कर पाया। -केजरीवाल की फेयरवेल स्पीच\n",
            "Review 66:\n",
            " ये जमाना एक भसड़ है और दुनिया गटर है ---हम सब गटर के कीड़े हैं ----रोज झूठ बोलते हैं ----रोज पाप करते हैं ---\n",
            "Review 67:\n",
            " क्या गाँधी को महात्मा और बापू कहना राष्ट्र का अपमान नही???+++++++++गाँधी को जानिए एक बार एक वाल्मीकि\n",
            "Review 68:\n",
            " बेवजह धर्म नहीं बना क्रिकेट। धर्म का एक बड़ा काम है वहमों को मान्यता दिलाना और इसी वजह से आजकल इस धर्म का गलत फायदा उठाने में लगे हैं कुछ\n",
            "Review 69:\n",
            " मोदी जी का मंत्र सबका साथ सबका बिकास और एक हजार करोड रूपये के साथअब तो सुधर जाओ अबदुल्ला सी.एम होकर पाकिस्तान में मिलने की बात करते हो छीछी\n",
            "Review 70:\n",
            " हा फिर वहा थोड़ी इनकी मरम्मत मुशरफ और नवाज शरीफ के गुंडे करेंगे न तब ये भक्तिगिरी छोड़ेंगे\n",
            "Review 71:\n",
            " रोज ढलता हुआ सूरज कहता है मुझसे आज उसको बेवफा हुए एक दिन और बीत गया - Vishal Tripathi\n",
            "Review 72:\n",
            " NCP के पूर्व नेता और मंत्री विजय कुमार गावित पर भ्रष्टाचार का आरोप लगा और कहा गया की गावित ने फर्जी लोगो के नाम\n",
            "Review 73:\n",
            " कुछ लोग बड़े होने के वहम में मर गये और जो लोग बड़े थे वो अहम में मर गये\n",
            "Review 74:\n",
            " आतंकवाद से लड़ने की बात करते रहे उठते बैठते सोते जागते और आतंकवादी इनके घर में आकर राज करने लगे कब पता ही नहीं चला\n",
            "Review 75:\n",
            " क्यों यासीन गिलानी और बंदे हैँ हम उसके कैटेगरी वाले कश्मीरियों को नहीँ बचा रहे बिचारों को अत्याचारी भारतीय सेना की मदद लेनी पड़ रही है\n",
            "Review 76:\n",
            " मित्रोंदुनिया के सबसे बड़े लोकतांत्रिक देश भारत में संविधान रक्षक द्वारा संविधान की धज्जियां उड़ाना घातक और चिंताजनक है#FraudBySecretBallot\n",
            "Review 77:\n",
            " कुछ लोग अपनी रियल लाइफ की प्रॉब्लम सुनाने के लिए फेसबुक और ट्विटर use करते है ऐसे लोगो के ही पिछवाड़े पे लात पड़ती है\n",
            "Review 78:\n",
            " जो हमारा प्यार है उन्हे किसी और से प्यार है बस हार गये हम यह जानकार की जिससे उन्हे प्यार है वो हमारा यार है …\n",
            "Review 79:\n",
            " हींग से न तेल से बन्दूक से न तलवार से - #ISIS खत्म होगा रासयनिक और जैविक गैस और सूंघ से\n",
            "Review 80:\n",
            " इस्लाम में शांति और भाईचारा हराम है इसलिये मुसलमानों से शांति की उम्मीद रखना मुर्खता है\n",
            "Review 81:\n",
            " फाटक जी के Coat और Quote के चोट से बचना मुश्किल नहीं नामुमकिन है यदि आप को अनफाँलो नहीं कर देते ।\n",
            "Review 82:\n",
            " << चल भाग चूतिया ये मेरा देश है यहाँ किसी मिशनरी और वहाबी के लिए कोई जगह नही है चा मुदा\n",
            "Review 83:\n",
            " शक तो था मोहब्बत मे नुक्सान जरूर होगा पर मालूम ना था सिर्फ और सिर्फ मेरा होगा - Vishal Tripathi\n",
            "Review 84:\n",
            " ~चप्पड़गंजू नसीहत दे रहा है की गुरु का सम्मान करें।और खुद के TL par Har Har\n",
            "Review 85:\n",
            " सलमान खान Big Boss 8 में हवाई जहाज चलाएंगे. इस खबर से फुटपाथ वालों मेंखुशी का माहौल है और बुर्ज खलीफा वाले डर के साये में है।\n",
            "Review 86:\n",
            " कहा से कहा ले गई और मेरी मौत बन गई\n",
            "Review 87:\n",
            " आज क॓ समय म॓ॱ सचचाई और ईमानदारी की ब॓कदरी\n",
            "Review 88:\n",
            " एक अजीब सी जंग छिड़ी है इस रात के आलम में आँखें कहती है सोने दे और दिल कहता है रोने दे\n",
            "Review 89:\n",
            " अब पता चला #WhyMediaIsSoAntiHindu क्योंकि वह 5-M (मार्क्स मुल्ला मिशनरी मैकाले और मार्केट) के हाथों बिका हुआ है\n",
            "Review 90:\n",
            " झूठ और धोख॓बाजोॱ का बोलबाला घोर कलयुग\n",
            "Review 91:\n",
            " कभी हार का कारण अनुष्का तो कभी साझीऔर बनाओ मरदानी\n",
            "Review 92:\n",
            " इसलिए में ये मसाला फिल्मो के खिलाफ हूँ और दिखाओ धोनी को ऐसी फिल्मे। लग गए हेरोगिरी में\n",
            "Review 93:\n",
            " बिचली जातियों के नव- सामंतों की दलित-घृणा और फासीवादी रुझान भभक कर सामने आ रहा है .समाजवाद के नाम पर\n",
            "Review 94:\n",
            " अरविन्द केजरीवाल जैसा प्राणी कल की सियासत में कभी नहीं था और आने वाले कल की सियासत में भी नहीं होगा।\n",
            "Review 95:\n",
            " भारतीय संसद बुधवार को फिर शर्मसार हुई। राज्यसभा की कार्यवाही के दौरान बसपा और सपा के सदस्य आपस में भिड़ गए।\n",
            "Review 96:\n",
            " कश्मीर के नाम पर जिहाद करने वालो अब कहा हो तुम लोग कश्मीर आओ और अपने भाइयो की मदद करो इस बुरे वक़्त मे अब फट गयी क्या तुम लोगो की\n",
            "Review 97:\n",
            " उसकी याद में रो रो कर हमने टब भर दिए।उसकी याद में रो रो कर हमने टब भर दिए।और वो कम्बख़त उसी में नहा कर चल दिए। #notmine\n",
            "Review 98:\n",
            " लगता है #Dhoni जी #Modi जी के विचारो को फॉलो करते है में ना रन ना लेता हु और ना ही लेने देता हु। #IndvsEng\n",
            "Review 99:\n",
            " पहले तुम्हारे शब्दों में साहस आशा और निष्ठा के भाव थे अब चिन्ता भय और क्लेश जाग गया है यानि तु गया\n",
            "Review 100:\n",
            " हार जाउँगा मुकदमा उस अदालत में ये मुझे यकीन था जहाँ वक्त बन बैठा जज और नसीब मेरा वकील था…\n",
            "Review 101:\n",
            " #WhyMediaIsSoAntiHindu भारत का मीडिया बिकाऊ देशद्रोही भ्रष्ट और हिन्दू विरोधी है | यह बात अब गूगल भी जानती है\n",
            "Review 102:\n",
            " कुछ लोगों को अपने कम और दुसरो का सामान कुछ ज्यादा ही पसंद आ जाता है और वो मौका पते ही उसे अपना बना भी लेते है।#इसी को तो लालच कहतें हैं।\n",
            "Review 103:\n",
            " जो कुछ् ले कर लौटते है वो काम् को और frustation को वहि छोड आते है जो खालि हाथ आते हैअ वो आफ़िस की परेशानी भी घर ले आते है\n",
            "Review 104:\n",
            " आखिर एक सोची समझी साजिश के तहत ही तो आजम खान और जावेद उस्मानी जैसे घॉर हिन्दू विरोधियो को हिन्दुओ के महाकुम्भ का इंचार्ज बनाया गया था.\n",
            "Review 105:\n",
            " धोनी वही लौंडा है जो कोई भी लड़ाई होती है तो कह देता है मैं हूँ ना और फिर सब को पिटवा देता है। Lolz\n",
            "Review 106:\n",
            " अपनी भी कहानी गजब हैं सेकुलर लोग साम्प्रदायिक बोलते हैं और कट्टर मुझे सेकुलर बोलते हैं दोनों तरफ से गाली खानी पड़ती हैं\n",
            "Review 107:\n",
            " केजरीवाल वो लौंडा है जो KBC में जा कर पहला ही सवाल का गलत जवाब देगा और उसे कुर्सी से उतरने को कहने पर BigB के खिलाफ ही धरने पे बैठ जाएगा\n",
            "Review 108:\n",
            " मुहम्मद जलालुदीन अकबर हर हिन्दू राज्यजीतनेपर वहा की लडकियों का अपहरण करमीना बाजारऔर अपने हरम में पंहुचा देता था।.\n",
            "Review 109:\n",
            " ) औरंगजेब ने इस्लाम कबूल ना करने परउन्ह गर्मपानी में उबाल कर जिन्दा चमड़ी उतरवानेका फरमान जारी किया।\n",
            "Review 110:\n",
            " जड़ बुद्धी बदमाश डकैत हो जाते हैं और देश लूटते हैं।। पढ़े लिखे बदमाश IAS आॅफिसर बन के चोंपा लगाते हैं।\n",
            "Review 111:\n",
            " ISIS मासूमो को मार रहा हैसेना जम्मू कश्मीर में मासूमो को बचा रही हैऔर बहुत से भारतीय मुस्लिम ISIS का समर्थन कर रहे है #KashmirFloods\n",
            "Review 112:\n",
            " सबसे आसान काम है दोष ढूँढना और सबसे मुश्किल काम है करना इसलिए लोग आसान काम करते हैं\n",
            "Review 113:\n",
            " इतिहास के खोये पन्नेऐसा था ऐतिहासिक इस्लाम क्या आप जानतेहैंविश्व में भारत ऐसा देश है जिसने सबसेज्यादा जुल्म औरहमले सहे हैं -\n",
            "Review 114:\n",
            " जब हिंदू नाम का दहशत हर जगह होगा तब ना लव जिहाद होगा और ना ही कोई धर्मान्तरणइसलिए सिर्फ हिंदू नहीं कट्टर हिंदू बनो\n",
            "Review 115:\n",
            " Breaking News रांची में आतंकी संगठन की धमकी- '30 दिन में गांव छोड़ें वरना मार देंगे और लड़कियों को मुसलमान बना\n",
            "Review 116:\n",
            " आप ही ऐसी पार्टी है जिसने सबको भ्रष्ट और मीडिया को बिकाऊ कहा और बार बार कहा। अब रणनीति में क्या बदलाव किया गया है ?\n",
            "Review 117:\n",
            " शांति और दोस्ती की बातों मे आते रहे तो हमेशा नुकसान उठाते रहेंगे.धोखे से वार करता है पाकिस्तान यकीन नहीं किया जा सकता है??\n",
            "Review 118:\n",
            " रायुडु पे भरोसा करना तो बनता था और हम भी गली ही दे रहे है धोनी को\n",
            "Review 119:\n",
            " बहादुरी भरे फैंसले और चुतियाप भरे फैंसले के बीच का फ़र्क जानते हो तो महेंद्र सिंह धोनी तो कतई नहीं हो आप।\n",
            "Review 120:\n",
            " हार गई इंडिया 1बॉल में 5 रन कैसे बनते बताओ और वो भी उस स्थिति मे जब अंपायर की ड्रेस भी इंग्लैंड की टीम जैसी रेड एंड ब्लैक थी।\n",
            "Review 121:\n",
            " देखते है अब किसी की जान जायेगी ;उसने मेरी और मैने उसकी कसम खाई है 😎\n",
            "Review 122:\n",
            " चाहे घर वाले लड़कियोंको जलाये और मारे चाहे बहार वाले मरती तो लडकिया है पेहेले हम घर सुधार ले लडकिया बहार जाना ही ना चाहे\n",
            "Review 123:\n",
            " पाकिस्तान ने आज ही के दिन श्रीकृष्ण के इस मंदिर पर फेंके थे 156 बम पश्चिम भारत के महत्वपूर्ण तीर्थस्थल और चार\n",
            "Review 124:\n",
            " Dhoni ने क्रिकेट की मर्यादा के खिलाफ जाकर सिंगल्स नहीं लिए और रायडू को स्ट्राइक भी नहीं दी।और ये सिर्फ खुद हीरो बनने के चक्कर में।\n",
            "Review 125:\n",
            " भैया लोगों को कोन समझाए तुमने अखिलेश को अकल एश समझ लिया खेर राहुल के आने से चुनावों पर असर तो हुआ कोंग्रेस अमेठी और रायबरेली में हार गयी\n",
            "Review 126:\n",
            " हमारे देश की पत्रकारिता के क़लम मैं स्याही की जगह।। पैसा दारू और ऐयाशी है ।। अब बोलो क्या ये भजन गायेंगे\n",
            "Review 127:\n",
            " क्या क्या हमारे ख्वाब थे जाने कहाँ खो गए तुम किसी और की हो गयी खुद करे हम भी किसी और के हो जाये _/\\_ :)\n",
            "Review 128:\n",
            " ऐसी वाणी बोलिए जिसमे सब आपा खोएं खून पीने दौड़े पीछे और सब सेहतमंद होये -बाबा ज़हरीलादास\n",
            "Review 129:\n",
            " 'गुड़िया के दर्द' की दास्तां के बीच भी जबरन कमर्शियल ब्रेक कराकर हमारे चैनल डियोड्रेंट और अंडरविअर का विज्ञापन नहीं दिखाना नहीं भूल सकते\n",
            "Review 130:\n",
            " BJP के नेतृत्व में AAP और लोकतंत्र के खिलाफ ये महा ठगबंधन है जिसमें LG राष्ट्रपति मिडिया कांग्रेस अंबानी शामिल हैं#FraudBySecretBallot\n",
            "Review 131:\n",
            " न्यूज़; इंग्लैंड ने भारत को 3 रन और धोनी के चुतियापे से हराया।\n",
            "Review 132:\n",
            " आज पवेलियन में धोनी बहुतगाली खायेगा और बाहर निकलने पेअनुष्का उसके बाल भी नोच सकती हैकी विराट की पारी का\n",
            "Review 133:\n",
            " अगर यही खुलासा किसी भारतीय क्रिकेटर ने किया होता तो मीडिया और सिक्युलर उसे ही झूठा ठहरा चुके होते\n",
            "Review 134:\n",
            " पाकिस्तान की जय जयकार करने वाले शिव भगतो औरभारतीय सेना पर पत्थर मारने वाले गद्दार कश्मीरी मुस्लमान\n",
            "Review 135:\n",
            " वेद वैदिक जिसकी छवि एक पत्रकार और बुद्धिजीवी की रही है वह बुरी तरह से धूमिल होकर उसकी असलियत उजागर हो गई है कि वह कुछ भी नहीं।\n",
            "Review 136:\n",
            " . Very nice msg Read twice जिंदगी में दो चीज़ें हमेशा टूटने के लिए ही होती हैं: सांस और साथ सांस टूटने से\n",
            "Review 137:\n",
            " मैच भी हार गए और मैच में समय व्यर्थ करके गर्लफ्रेंड से बात नहीं की तो वो भी गुस्सा हो गयी। अब इसे कहते हैं डबल भसड। :|\n",
            "Review 138:\n",
            " केजरीवाल वो लौंडा है जो KBC में जा कर पहला ही सवाल का गलत जवाब देगा और उसे कुर्सी से उतरने को कहने पर BigB के खिलाफ ही धरने पे बैठ जाएगा#HDL\n",
            "Review 139:\n",
            " और ये भारतीय कप्तान महैन्द्र सिँह धोनी खुद हीरो बनने के चक्कर मेँ मैच से हाथ धोते हुये॥ #IndvsEng\n",
            "Review 140:\n",
            " बीजेपी और आस.एस.एस. विचारधारा के वरिष्ठ पत्रकार ने कहा की वह भारत की संसद पर थूकता है क्या यही असली चरित्र है\n",
            "Review 141:\n",
            " क्या बिगाड़ा था हमारे कोहली रायुडू या जडेजा ने कुत्तों की मौत मरवा दिया उन्हें और मैच भी हार गया\n",
            "Review 142:\n",
            " रायडू को क्या केवल टीम पूरी करने के लिए ले गए थे धोनी। बेचारे से पद्दी करा ली और बैटिंग नहीं दी।#IndvsEng\n",
            "Review 143:\n",
            " : आज अनुष्का की नहीं 'साक्षी' की बारी है।शुरू हो जाओ और निकालो अपनी भड़ास।\n",
            "Review 144:\n",
            " भाई जी क्या आप बताओगे कीड़े कबसे सेक्युलर और कम्युनल हुए ?? मुझे लगा ये बीमारी सिर्फ मानव प्रजाति तक सिमित है\n",
            "Review 145:\n",
            " एक अजीब सी दौड़ है ये ज़िन्दगी जीत जाओ तो कई अपने पीछे छूट जाते हैं और हार जाओ तो अपने ही पीछे छोड़ जाते हैं।.\n",
            "Review 146:\n",
            " मगर जापान में बेवजह चीनी विस्तारवाद की निंदा और भारत में तिब्बती आज़ादी के विरूद्ध फरमान जारी करनेवालों से ऐसी उम्मीद रखना बेमानी\n",
            "Review 147:\n",
            " ये तो बेईमंटी है धोनी की। रायडू से फील्डिंग करवा ली और बैटिंग नहीं दी।@coolfunnytshirt\n",
            "Review 148:\n",
            " शुभ प्रभात मिॠो हुनर किसी का मोहताज नहीं होता है हर किसी के सर पर इज्जत का ताज नहीं होता है.\n",
            "Review 149:\n",
            " निठारी कांड के अभियुक्त सुरेंद्र कोहली की फांसी पर रोक\n",
            "Review 150:\n",
            " एक बार भी आतंक की जड़ कुरान पर भारतीय मीडिया में चर्चा क्यों नहीं होती जबकिगीता आदि हिन्दू धर्म ग्रंथों पर हमेशा मीडिया मेंचर्चा होती है।\n",
            "Review 151:\n",
            " बिहारशरीफ से शेखपुरा का संपर्क भंग पुल धंसने से एनएच 82 पर आवागमन ठप\n",
            "Review 152:\n",
            " बस अब ये जूती अब अस्त्र बनकर केजरू और उसके आपियों पर बरसे\n",
            "Review 153:\n",
            " महंगी शिक्षा पर मोहन भागवत ने जताई चिंता\n",
            "Review 154:\n",
            " आखिर क्यों लोगों को यहां डर लगने लगा है? आखिर क्यों यहां की सड़कों पर बदमाश बेखौफ हैं?\n",
            "Review 155:\n",
            " मध्यप्रदेश के सतना जिले के मैहर विधायक ने भी जनवरी में जूरा पंचायत के अवैध खनन के मामले में सरपंच व मीडिया कर्मियों पर हमला किया था।\n",
            "Review 156:\n",
            " ऐसे मतदाता पर जिसने कांग्रेस को वोट दिया धिक्कार है ऐसे संविधान निर्माता पर- जिसने अभिनेता और नेता के लिये न्याय और जनता के लिये कानून बनाया\n",
            "Review 157:\n",
            " देश सभी का है और सभी को देश के किसी भी हिस्से मेँ रहने का अधिकार सबिँधान ने दिया है ठाकरे परिवार की राजनीति ओछी मानसिकता दर्शाती है।\n",
            "Review 158:\n",
            " दिल्ली में शिला सरकार ने जो जनता पर बर्बरता से टियर गैस और डंडे बरसाए थे उसके पीछे कहीं वह १४ लाख फर्जी वोट तो प्रेरणा के श्रोत नहीं थे?AAP\n",
            "Review 159:\n",
            " जब आम जनता मारे तो नक्सली भटके हुए नवजावन है और जब कांग्रेसी मरे तो लोकतंत्र पर हमला हालाँकि जो हुआ वो बहुत बुरा है<\n",
            "Review 160:\n",
            " #KashmirFloods के लिए एक बार तो दुआ करने का मनन करता है पर बाद में कश्मीरी पंडित याद आ जाते है।वो सेक्युलर चुतिया कहा है\n",
            "Review 161:\n",
            " चीन को नाकों चने चबवाने के एक ही तरीका बचा है दिल्ली के ठुल्ले डंडा देके बॉर्डर पर भेज दिए जायें ;)\n",
            "Review 162:\n",
            " दामिनी और छोटी बच्ची के साथ बलात्कार के समय यह भ्रष्टाचारी कहाँ मर गए थे जब पुलिस निर्दोषों पर डंडे बरसा रही थी इसलिए कोई नेता मरे तो मरे।\n",
            "Review 163:\n",
            " DMK ने सरकार को आधा तलाक़ दिया SP&BSP ने सरकार से आधा विवाह किया पर चाहा कर भी सुहाग रात नहीं मना सकते अपवित्र रिश्तों में ऐसा ही होता है ।\n",
            "Review 164:\n",
            " शिंदे द्वारा संघ व भाजपा पर आतंकवादी गतिविधीयो को संचालित करने का आरोप अप्रत्यक्ष रूप से वास्तविक आतंकवादियो और पाकिस्तान की होसला अफजाई\n",
            "Review 165:\n",
            " पवन बंसल के घर आज बकरे की बलि दी गयी.ये बकरे तो कटते-बचते रहेंगे पर इनकी अम्मा कब तक ख़ैर मनाएगी ?\n"
          ]
        }
      ]
    },
    {
      "cell_type": "code",
      "source": [
        "for index,text in enumerate(df2['cleaned_text'][35:200]):\n",
        "  print('Review %d:\\n'%(index+1),text)"
      ],
      "metadata": {
        "colab": {
          "base_uri": "https://localhost:8080/"
        },
        "id": "311Gf7yp356X",
        "outputId": "19e4cd92-7190-41e7-e3c4-3fd3447728c5"
      },
      "execution_count": null,
      "outputs": [
        {
          "output_type": "stream",
          "name": "stdout",
          "text": [
            "Review 1:\n",
            " ['सखी', 'सइयाँ', 'तो', 'खूब', 'कामात', 'है', 'मेहंगाई', 'डायन्न', 'खाई', 'जात', 'है']\n",
            "Review 2:\n",
            " ['केजरीवालजी', 'को', 'आज', 'कल', 'ये', 'चिन्ता', 'खाए', 'जा', 'रही', 'है', 'की', 'अगर', 'न', 'बने', 'तो', 'जो', 'मानहानि', 'केे', 'मुकदमो', 'मे', 'करोड़ो', 'कीभरनी', 'है', 'वो', 'कहा', 'से', 'लाऐंगे']\n",
            "Review 3:\n",
            " ['दिल', 'बहुत', 'ही', 'हरामी', 'कामिनी', 'चीज़', 'होती', 'है', 'अच्छे', 'खासे', 'हस्ते', 'खेलते', 'आदमी', 'को', 'सेंटियापा', 'काएडमिन', 'बना', 'देती', 'है']\n",
            "Review 4:\n",
            " ['दुनिया', 'में', 'यह', 'बहुत', 'बड़ी', 'समस्या', 'है', 'कि', 'मूर्ख', 'और', 'कट्टरपंथी', 'अपने', 'आप', 'को', 'बहुत', 'बड़ा', 'समझते', 'हैं', 'जबकि', 'समझदार', 'लोग', 'हमेशा', 'अपनी', 'काबलियत', 'पर', 'संदेह', 'करते', 'हैं', '।']\n",
            "Review 5:\n",
            " ['तो', 'फिर', 'फेंक', 'अाई', 'डी', 'क्यों', 'बनाई', 'है', 'गर्व', 'के', 'साथ', 'अापना', 'नाम', 'लेने', 'में', 'शर्म', 'कैसी', 'क्या', 'सिर्फ', 'गालियां', 'देने', 'के', 'लिये']\n",
            "Review 6:\n",
            " ['जनार्दन', 'द्विवेदी', 'ने', 'की', 'टीम', 'राहुल', 'की', 'बोलती', 'बंद']\n",
            "Review 7:\n",
            " ['परमपिता', 'परमेश्वर', 'जो', 'मनुष्य', 'के', 'आत्महत्या', 'करता', 'हे', 'उसका', 'जन्म', 'मनुष्य', 'कभी', 'नहीँ', 'बनता', 'परमपिता', 'परमेश्वर', 'के', 'खिलाफ', 'नहीँ', 'जाना', 'चाहिए', 'परम', 'पिता', 'परमेश्वर']\n",
            "Review 8:\n",
            " ['शाहरुख़', 'ने', 'के', 'नजदीक', 'पहुँच', 'के', 'ऐसी', 'बॉडी', 'बना', 'ली', 'और', 'यहाँ', 'साला', 'भरी', 'जवानी', 'में', 'गर्भवती', 'बनके', 'घूम', 'रहे', 'हैं', '।']\n",
            "Review 9:\n",
            " ['संपत्ति', 'वाला', 'माओवादी', 'पहली', 'बार', 'सुने', 'माओवादियों', 'की', 'संपत्ति', 'होगी', 'कुर्क']\n",
            "Review 10:\n",
            " ['भारतपाक', 'में', 'भी', 'दस्तक', 'दे', 'रहा', 'है', 'इस्लामिक', 'स्टेट', 'कश्मीर', 'में', 'दिखे', 'झंडे', 'और', 'बैनर', 'भारत', 'और', 'पाकिस्तान', 'के', 'कुछ', 'हिस्सों']\n",
            "Review 11:\n",
            " ['भूस्खलन', 'में', 'की', 'मौत', 'लापता']\n",
            "Review 12:\n",
            " ['भारतपाक', 'में', 'भी', 'दस्तक', 'दे', 'रहा', 'है', 'इस्लामिक', 'स्टेट', 'कश्मीर', 'में', 'दिखे', 'झंडे', 'और', 'बैनर', 'भारत', 'और', 'पाकिस्तान', 'के', 'कुछ', 'हिस्सों']\n",
            "Review 13:\n",
            " ['जब', 'मैं', 'इस', 'संसार', 'में', 'बुराई', 'खोजने', 'चला', 'तो', 'मुझे', 'कोई', 'बुरा', 'न', 'मिला', 'जब', 'मैंने', 'अपने', 'मन', 'में', 'झाँक', 'कर', 'देखा', 'तो', 'पाया', 'कि', 'मुझसे', 'बुरा', 'कोई', 'नहीं', 'है']\n",
            "Review 14:\n",
            " ['अब', 'ये', 'मत', 'कहियो', 'के', 'दुसरे', 'वाले', 'का', 'भी', 'क़त्ल', 'करना', 'है', 'वेसे', 'सोंग', 'है', 'कत्ल', 'करे', 'तेरा', 'बोम्ब', 'फिगर', 'यो', 'यो', 'लोल्ज़']\n",
            "Review 15:\n",
            " ['बिरला', 'हो', 'या', 'टाटा', 'सबने', 'अपने', 'चक्कर', 'में', 'इस', 'देश', 'को', 'है', 'काटा', 'सही', 'बात']\n",
            "Review 16:\n",
            " ['जब', 'शहर', 'हमारा', 'सोता', 'है', 'तो', 'मालूम', 'तुमको', 'हाँ', 'क्या', 'क्या', 'होता', 'है', 'इधर', 'जागती', 'है', 'लाशे', 'जिंदा', 'हो', 'मुर्दा', 'उधर', 'ज़िन्दगी', 'खोता', 'है']\n",
            "Review 17:\n",
            " ['दिल', 'फाड़कर', 'रोया', 'वो', 'बंदा', 'मैंने', 'तो', 'बस', 'ये', 'पूछा', 'था', 'भाभी', 'ख्याल', 'रखती', 'हैं']\n",
            "Review 18:\n",
            " ['आदरनिये', 'श्री', 'सेंटियापा', 'के', 'एडमिन', 'का', 'जव', 'से', 'दिल', 'टूटा', 'है', 'हमेशा', 'सेंटी', 'ठेलते', 'है', 'पर', 'कोई', 'ये', 'बात', 'नही', 'मानेगा', 'बहुत', 'दुःख', 'की', 'बात', 'है']\n",
            "Review 19:\n",
            " ['और', 'द्रविड़', 'की', 'हालत', 'इस', 'समय', 'उस', 'ईमानदार', 'बाप', 'की', 'तरह', 'हो', 'रही', 'होगी', 'जिसने', 'जीते', 'जी', 'ऊपर', 'से', 'एक', 'रूपया', 'नहीं', 'बनाया', 'और', 'एक', 'दिन', 'उसकी', 'औलाद', 'अफीम', 'बेचते', 'पकडी', 'गई', '।']\n",
            "Review 20:\n",
            " ['ये', 'है', 'इस्लामी', 'साँप', 'मदरसों', 'मे', 'पढ़े', 'हुए', 'सपोले', 'अगर', 'मदरसे', 'बंद', 'नही', 'हुए', 'तो', 'भारत', 'मे', 'आप', 'के', 'साथ', 'यही', 'होगा']\n",
            "Review 21:\n",
            " ['साई', 'भक्त', 'की', 'आपबीती', 'भाईयों', 'मैंने', 'साई', 'चाँद', 'मियां', 'को', 'पूजना', 'छोड', 'दिया', 'है', 'क्यों', 'यह', 'लेख', 'पढें', 'साई', 'उर्फ', 'चाँद', 'मियां']\n",
            "Review 22:\n",
            " ['ना', 'नींद', 'आ', 'रही', 'हैना', 'कलम', 'चल', 'रही', 'है', 'लगता', 'है', 'आजअहसासों', 'में', 'कुछ', 'कमी', 'सी', 'है']\n",
            "Review 23:\n",
            " ['अगर', 'केजरीवाल', 'और', 'उसके', 'गुर्गों', 'में', 'जरा', 'भी', 'शर्म', 'बाकी', 'है', 'तो', 'कोर्ट', 'के', 'बाहर', 'समझौता', 'करने', 'की', 'जगह', 'गडकरी', 'के', 'खिलाफ', 'वो', 'सबूत', 'कोर्ट', 'में', 'पेश', 'करे']\n",
            "Review 24:\n",
            " ['कुछ', 'नही', 'बदला', 'उसके', 'जाने', 'के', 'बाद', 'इस', 'जिंदगी', 'में', 'ऐ', 'दोस्तों', 'बस', 'कल', 'जिस', 'जगह', 'दिल', 'हुआ', 'करता', 'था', 'आज', 'वहा', 'दर्द', 'होता', 'है']\n",
            "Review 25:\n",
            " ['भूस्खलन', 'में', 'की', 'मौत', 'लापता', 'जम्मूकश्मीर', 'के', 'उधमपुर', 'जिले', 'के', 'एक', 'सुदूर', 'पर्वतीय', 'गांव', 'में', 'भारी', 'बारिश', 'के', 'बा']\n",
            "Review 26:\n",
            " ['अपनी', 'पहली', 'फांसी', 'की', 'तैयारी', 'में', 'जल्लाद', 'निठारी', 'हत्या', 'कांड', 'के', 'दोषी', 'सुरेंद्र', 'कोली', 'को', 'फांसी', 'देने', 'का', 'समय', 'निकट', 'आने', 'के']\n",
            "Review 27:\n",
            " ['देश', 'को', 'नमक', 'खिलानेवाले', 'टाटा', 'का', 'कुछ', 'पता', 'नही', 'चलता', 'प्रकिर्तिक', 'आपदा', 'के', 'समय', 'बाकी', 'के', 'समय', 'देशप्रेम', 'का', 'ढोल', 'पिट', 'के', 'अपनी', 'तिजोरी', 'भरेंगे']\n",
            "Review 28:\n",
            " ['भारत', 'का', 'मीडिया', 'बिकाऊ', 'देशद्रोही', 'भ्रष्ट', 'और', 'हिन्दू', 'विरोधी', 'है', 'यह', 'बात', 'अब', 'गूगल', 'भी', 'जानती', 'है']\n",
            "Review 29:\n",
            " ['भूस्खलन', 'में', 'की', 'मौत', 'लापता']\n",
            "Review 30:\n",
            " ['अपनी', 'पहली', 'फांसी', 'की', 'तैयारी', 'में', 'जल्लाद']\n",
            "Review 31:\n",
            " ['अगर', 'श्रीसंत', 'अपना', 'बाहर', 'छोड़', 'गए', 'हैं', 'तो', 'उसे', 'रवि', 'शास्त्री', 'के', 'मुंह', 'में', 'ठूंस', 'देना', 'चाहिए', '।']\n",
            "Review 32:\n",
            " ['ऐसे', 'उबाऊ', 'सोंग', 'ना', 'बनाकर', 'हमपर', 'मेहरबानी', 'करे', '।', 'धन्यवाद']\n",
            "Review 33:\n",
            " ['तुम', 'गुरु', 'हो', 'कि', 'गुरु', 'घंटाल']\n",
            "Review 34:\n",
            " ['भूस्खलन', 'में', 'की', 'मौत', 'लापता', 'जम्मूकश्मीर', 'के', 'उधमपुर', 'जिले', 'के', 'एक', 'सुदूर', 'पर्वतीय', 'गांव', 'में', 'भारी', 'बारिश', 'के', 'बा']\n",
            "Review 35:\n",
            " ['भूस्खलन', 'में', 'की', 'मौत', 'लापता', 'जम्मूकश्मीर', 'के', 'उधमपुर', 'जिले', 'के', 'एक', 'सुदूर', 'पर्वतीय', 'गांव', 'में', 'भारी', 'बारिश', 'के', 'बा']\n",
            "Review 36:\n",
            " ['मुद्दतें', 'हो', 'गई', 'हैं', 'चुप', 'रहते', 'कोई', 'सुनता', 'तो', 'हम', 'भी', 'कुछ', 'कहत']\n",
            "Review 37:\n",
            " ['हमें', 'जा', 'कर', 'अपना', 'लिंग', 'निकालकर', 'मुत', 'देना', 'चाहिए', 'पाक', 'पर', 'वरना', 'वो', 'दिन', 'दूर', 'नहीं', 'जब', 'गधे', 'के', 'लिंग', 'से', 'ये', 'पाकिस्तानी', 'हमारे', 'माथे', 'पर', 'चोदु', 'लिख', 'देंगे']\n",
            "Review 38:\n",
            " ['तेरी', 'तलाश', 'में', 'निकलू', 'भी', 'तो', 'क्या', 'फायदातुम', 'बदल', 'गए', 'हो', 'खो', 'गए', 'होते', 'तो', 'और', 'बात', 'थी']\n",
            "Review 39:\n",
            " ['यह', 'बारिश', 'का', 'पानी', 'नही', 'यह', 'काश्मीरी', 'पंडितों', 'के', 'आँखों', 'की', 'आसूं', 'है']\n",
            "Review 40:\n",
            " ['दिल्लीका', 'थूकमास्टर', 'और', 'यूरिन', 'स्पेशलिस्ट', 'पॉर्ननाथ', 'अब', 'अपना', 'सिर', 'मुंडवायेगा', 'साला', 'नौटंकीमें', 'एकदुसरेके', 'बाप', 'है', 'ये', 'आपीए']\n",
            "Review 41:\n",
            " ['उनको', 'तो', 'बस', 'बम', 'बरसाना', 'आता', 'है', '।', 'इससे', 'नहीं', 'कर', 'पायेंगे', 'खात्मा', '।', 'उल्टे', 'निरिह', 'मरेंगे', 'और', 'में', 'शामिल', 'होंगे', '।', 'जमीनी', 'लड़ाई', 'की', 'जरूरत', '।']\n",
            "Review 42:\n",
            " ['मधेशी', 'दलों', 'की', 'निष्क्रियता', 'और', 'मधेशी', 'नेताओं', 'की', 'उदासीनता', 'से', 'मधेशी', 'जनता', 'में', 'निराशा', 'का', 'माहौल', 'है', '।', 'चुनाव', 'में', 'मिली', 'करारी']\n",
            "Review 43:\n",
            " ['मन', 'तो', 'करता', 'है', 'कि', 'डंडे', 'लेकर', 'हर', 'एक', 'पाकिस्तानी', 'को', 'दम', 'भर', 'पीटू', 'लेकिन', 'ऐसा', 'डंडा', 'मिलता', 'ही', 'नहीं', 'है']\n",
            "Review 44:\n",
            " ['महिलाओं', 'का', 'फ़लसफ़ा', 'मैं', 'ना', 'बोल', 'रही', 'हूँ', 'लेकिन', 'इसका', 'मतलब', 'हां', 'भी', 'हो', 'सकता', 'है', 'ना', 'भी', 'और', 'तुम', 'जो', 'भी', 'मतलब', 'निकालो', 'उसे', 'मैं', 'गलत', 'ही', 'कहूंगी']\n",
            "Review 45:\n",
            " ['हम', 'सोने', 'की', 'चिडीया', 'कह', 'रही', 'जनता', 'को', 'मिट्टी', 'की', 'कहेंगे', 'तो', 'विरोध', 'के', 'लिए', 'चप्पल', 'पडेंगी', 'पर', 'अगर', 'नरेन्द्र', 'भाई', 'प्लेटीनम', 'की', 'कहेंगे', 'तो', 'मसीहा']\n",
            "Review 46:\n",
            " ['सौंप', 'बैठा', 'वक्त', 'उनको', 'काम', 'नवनिर्माण', 'का', 'आज', 'अपनी', 'ही', 'दरारों', 'से', 'जिन्हें', 'फुर्सत', 'नहीं']\n",
            "Review 47:\n",
            " ['सौ', 'गुना', 'बढ़', 'जाती', 'है', 'खूबसूरती', 'महज़', 'मुस्कराने', 'सेफिर', 'भी', 'बाज', 'नही', 'आते', 'लोग', 'बुरा', 'सा', 'मुँह', 'बनाने', 'स']\n",
            "Review 48:\n",
            " ['जिन्दगी', 'में', 'एक', 'मार्मिक', 'समय', 'फिर', 'आया', 'हैं', '।', 'हमने', 'अनूप', 'वाकडे', 'भाई', 'को', 'खो', 'दिया', 'हैं', '।', 'पिछले', 'दिनों', 'सी']\n",
            "Review 49:\n",
            " ['जब', 'हुई', 'थी', 'मोहब्बत', 'तो', 'लगा', 'किसी', 'अच्छे', 'काम', 'का', 'असर', 'है', 'नहीं', 'थी', 'खबर', 'कि', 'गुनाहों', 'की', 'ऐसी', 'भी', 'सजा', 'होती', 'है']\n",
            "Review 50:\n",
            " ['इराक़ी', 'और', 'अमरीकी', 'सूत्रों', 'ने', 'उत्तरी', 'इराक़', 'मेंअमरीका', 'के', 'हवाई', 'हमलों', 'में', 'आईएस', 'के', 'सरग़ना', 'बगदादी', 'के', 'मारेजाने', 'की', 'सूचना', 'दी', 'है']\n",
            "Review 51:\n",
            " ['अरमान', 'था', 'तेरे', 'साथ', 'जिंदगी', 'बिताने', 'का', 'शिकवा', 'है', 'खुद', 'के', 'खामोश', 'रह', 'जाने', 'का', 'दीवानगी', 'इस', 'से', 'बढकर', 'और', 'क्या', 'होगी', 'आज', 'भी', 'इंतजार', 'है', 'तेरे', 'आने', 'का']\n",
            "Review 52:\n",
            " ['अभी', 'आए', 'अभी', 'बैठे', 'अभी', 'दामन', 'संभाला', 'हैतुम्हारी', 'जाऊं', 'जाऊं', 'ने', 'हमारा', 'दम', 'निकाला', 'है']\n",
            "Review 53:\n",
            " ['क्या', 'मैनपुरी', 'के', 'लोग', 'धरती', 'के', 'सबसे', 'बड़े', 'मूर्ख', 'हैंक्या', 'किसी', 'जनपद', 'के', 'सारे', 'के', 'सारे', 'लोग', 'इतने', 'ज़्यादा', 'मूर्ख', 'हो', 'सकते']\n",
            "Review 54:\n",
            " ['वहां', 'तीन', 'नक्कारे', 'मंत्री', 'बन', 'बैठे', 'है', 'नागनाथ', 'अंधकार', 'कांगीभयंकरप्रसाद']\n",
            "Review 55:\n",
            " ['मेरा', 'दिल', 'जलता', 'नही', 'सुलगता', 'है', 'ऐहयात', 'जब', 'तुम', 'मुस्कुराकर', 'किसी', 'और', 'से', 'बात', 'करते', 'हो']\n",
            "Review 56:\n",
            " ['बिजली', 'संकट', 'पर', 'केंद्र', 'से', 'भिड़ा', 'महाराष्ट्र', 'बिजली', 'को', 'लेकर', 'महाराष्ट्र', 'और', 'केंद्र', 'सरकार', 'के', 'बीच', 'घमासान', 'जारी', 'है', '।', 'ऊर्जा']\n",
            "Review 57:\n",
            " ['ये', 'सब', 'किस्मत', 'के', 'चक्कर', 'हैंबीए', 'पास', 'बेरोजगार', 'हैंऔर', 'बीए', 'फेल', 'मिनिस्टर', 'हैं', '।', '।']\n",
            "Review 58:\n",
            " ['हार', 'के', 'जीतने', 'वाले', 'को', 'बाज़ीगर', 'कहते', 'है', 'और', 'जीता', 'हुआ', 'मैच', 'हराने', 'वाले', 'को', 'धोनी', 'कहते', 'है']\n",
            "Review 59:\n",
            " ['ये', 'सब', 'किस्मत', 'के', 'चक्कर', 'हैंबीए', 'पास', 'बेरोजगार', 'हैंऔर', 'बीए', 'फेल', 'मिनिस्टर', 'हैं', '।', '।']\n",
            "Review 60:\n",
            " ['आयेगें', 'अभी', 'और', 'भी', 'दौर', 'मायूसी', 'के', 'अभी', 'तो', 'बस', 'सीलन', 'तुम्हारी', 'हिचकियो', 'तक', 'आई', 'है']\n",
            "Review 61:\n",
            " ['तो', 'कब', 'बनेंगा', 'अपना', '।', 'हम', 'तो', 'मानते', 'है', 'की', 'जबतक', 'ये', 'चली', 'आ', 'रही', 'सत्ताओ', 'का', 'बदलाव', 'चलता', 'रहेगा', 'अपना', 'शहर', 'और', 'घर', 'कभी', 'अपना', 'नही', 'लगेंगा']\n",
            "Review 62:\n",
            " ['मुसलमान', 'जैसे', 'आतंकी', 'संगठन', 'को', 'भी', 'बडे', 'गर्व', 'से', 'ज्वाइन', 'कर', 'रहे', 'है', 'और', 'यहा', 'लोगो', 'को', 'ज्वाइन', 'करने', 'मे', 'भी', 'शर्म', 'आ', 'रही', 'है', 'धिक्कार', 'है']\n",
            "Review 63:\n",
            " ['और', 'भी', 'दुख', 'हैं', 'ज़माने', 'में', 'मोहब्बत', 'के', 'सिवा']\n",
            "Review 64:\n",
            " ['दिल्ली', 'में', 'सरकार', 'बीजेपी', 'की', 'बनेगी', 'किस्मत', 'कांग्रेस', 'और', 'आप', 'की', 'खुलेगी', '।', 'दोनों', 'पार्टियां', 'बीजेपी', 'के', 'फ्लाप', 'होने', 'की', 'उम्मीद', 'में', 'बैठी', 'हैं', '।']\n",
            "Review 65:\n",
            " ['न्यूज़', 'चैनलों', 'पे', 'कल', 'तक', 'धोनी', 'को', 'कैप्टन', 'कूल', 'और', 'आज', 'कैप्टन', 'कलंक', 'सुनकर', 'लेने', 'में', 'इनका', 'मुकाबला', 'नहीं', 'कर', 'पाया', '।', 'केजरीवाल', 'की', 'फेयरवेल', 'स्पीच']\n",
            "Review 66:\n",
            " ['ये', 'जमाना', 'एक', 'भसड़', 'है', 'और', 'दुनिया', 'गटर', 'है', 'हम', 'सब', 'गटर', 'के', 'कीड़े', 'हैं', 'रोज', 'झूठ', 'बोलते', 'हैं', 'रोज', 'पाप', 'करते', 'हैं']\n",
            "Review 67:\n",
            " ['क्या', 'गाँधी', 'को', 'महात्मा', 'और', 'बापू', 'कहना', 'राष्ट्र', 'का', 'अपमान', 'नहीगाँधी', 'को', 'जानिए', 'एक', 'बार', 'एक', 'वाल्मीकि']\n",
            "Review 68:\n",
            " ['बेवजह', 'धर्म', 'नहीं', 'बना', 'क्रिकेट', '।', 'धर्म', 'का', 'एक', 'बड़ा', 'काम', 'है', 'वहमों', 'को', 'मान्यता', 'दिलाना', 'और', 'इसी', 'वजह', 'से', 'आजकल', 'इस', 'धर्म', 'का', 'गलत', 'फायदा', 'उठाने', 'में', 'लगे', 'हैं', 'कुछ']\n",
            "Review 69:\n",
            " ['मोदी', 'जी', 'का', 'मंत्र', 'सबका', 'साथ', 'सबका', 'बिकास', 'और', 'एक', 'हजार', 'करोड', 'रूपये', 'के', 'साथअब', 'तो', 'सुधर', 'जाओ', 'अबदुल्ला', 'सीएम', 'होकर', 'पाकिस्तान', 'में', 'मिलने', 'की', 'बात', 'करते', 'हो', 'छीछी']\n",
            "Review 70:\n",
            " ['हा', 'फिर', 'वहा', 'थोड़ी', 'इनकी', 'मरम्मत', 'मुशरफ', 'और', 'नवाज', 'शरीफ', 'के', 'गुंडे', 'करेंगे', 'न', 'तब', 'ये', 'भक्तिगिरी', 'छोड़ेंगे']\n",
            "Review 71:\n",
            " ['रोज', 'ढलता', 'हुआ', 'सूरज', 'कहता', 'है', 'मुझसे', 'आज', 'उसको', 'बेवफा', 'हुए', 'एक', 'दिन', 'और', 'बीत', 'गया']\n",
            "Review 72:\n",
            " ['के', 'पूर्व', 'नेता', 'और', 'मंत्री', 'विजय', 'कुमार', 'गावित', 'पर', 'भ्रष्टाचार', 'का', 'आरोप', 'लगा', 'और', 'कहा', 'गया', 'की', 'गावित', 'ने', 'फर्जी', 'लोगो', 'के', 'नाम']\n",
            "Review 73:\n",
            " ['कुछ', 'लोग', 'बड़े', 'होने', 'के', 'वहम', 'में', 'मर', 'गये', 'और', 'जो', 'लोग', 'बड़े', 'थे', 'वो', 'अहम', 'में', 'मर', 'गये']\n",
            "Review 74:\n",
            " ['आतंकवाद', 'से', 'लड़ने', 'की', 'बात', 'करते', 'रहे', 'उठते', 'बैठते', 'सोते', 'जागते', 'और', 'आतंकवादी', 'इनके', 'घर', 'में', 'आकर', 'राज', 'करने', 'लगे', 'कब', 'पता', 'ही', 'नहीं', 'चला']\n",
            "Review 75:\n",
            " ['क्यों', 'यासीन', 'गिलानी', 'और', 'बंदे', 'हैँ', 'हम', 'उसके', 'कैटेगरी', 'वाले', 'कश्मीरियों', 'को', 'नहीँ', 'बचा', 'रहे', 'बिचारों', 'को', 'अत्याचारी', 'भारतीय', 'सेना', 'की', 'मदद', 'लेनी', 'पड़', 'रही', 'है']\n",
            "Review 76:\n",
            " ['मित्रोंदुनिया', 'के', 'सबसे', 'बड़े', 'लोकतांत्रिक', 'देश', 'भारत', 'में', 'संविधान', 'रक्षक', 'द्वारा', 'संविधान', 'की', 'धज्जियां', 'उड़ाना', 'घातक', 'और', 'चिंताजनक', 'है']\n",
            "Review 77:\n",
            " ['कुछ', 'लोग', 'अपनी', 'रियल', 'लाइफ', 'की', 'प्रॉब्लम', 'सुनाने', 'के', 'लिए', 'फेसबुक', 'और', 'ट्विटर', 'करते', 'है', 'ऐसे', 'लोगो', 'के', 'ही', 'पिछवाड़े', 'पे', 'लात', 'पड़ती', 'है']\n",
            "Review 78:\n",
            " ['जो', 'हमारा', 'प्यार', 'है', 'उन्हे', 'किसी', 'और', 'से', 'प्यार', 'है', 'बस', 'हार', 'गये', 'हम', 'यह', 'जानकार', 'की', 'जिससे', 'उन्हे', 'प्यार', 'है', 'वो', 'हमारा', 'यार', 'है', '…']\n",
            "Review 79:\n",
            " ['हींग', 'से', 'न', 'तेल', 'से', 'बन्दूक', 'से', 'न', 'तलवार', 'से', 'खत्म', 'होगा', 'रासयनिक', 'और', 'जैविक', 'गैस', 'और', 'सूंघ', 'से']\n",
            "Review 80:\n",
            " ['इस्लाम', 'में', 'शांति', 'और', 'भाईचारा', 'हराम', 'है', 'इसलिये', 'मुसलमानों', 'से', 'शांति', 'की', 'उम्मीद', 'रखना', 'मुर्खता', 'है']\n",
            "Review 81:\n",
            " ['फाटक', 'जी', 'के', 'और', 'के', 'चोट', 'से', 'बचना', 'मुश्किल', 'नहीं', 'नामुमकिन', 'है', 'यदि', 'आप', 'को', 'अनफाँलो', 'नहीं', 'कर', 'देते', '।']\n",
            "Review 82:\n",
            " ['चल', 'भाग', 'चूतिया', 'ये', 'मेरा', 'देश', 'है', 'यहाँ', 'किसी', 'मिशनरी', 'और', 'वहाबी', 'के', 'लिए', 'कोई', 'जगह', 'नही', 'है', 'चा', 'मुदा']\n",
            "Review 83:\n",
            " ['शक', 'तो', 'था', 'मोहब्बत', 'मे', 'नुक्सान', 'जरूर', 'होगा', 'पर', 'मालूम', 'ना', 'था', 'सिर्फ', 'और', 'सिर्फ', 'मेरा', 'होगा']\n",
            "Review 84:\n",
            " ['चप्पड़गंजू', 'नसीहत', 'दे', 'रहा', 'है', 'की', 'गुरु', 'का', 'सम्मान', 'करें', '।', 'और', 'खुद', 'के']\n",
            "Review 85:\n",
            " ['सलमान', 'खान', 'में', 'हवाई', 'जहाज', 'चलाएंगे', 'इस', 'खबर', 'से', 'फुटपाथ', 'वालों', 'मेंखुशी', 'का', 'माहौल', 'है', 'और', 'बुर्ज', 'खलीफा', 'वाले', 'डर', 'के', 'साये', 'में', 'है', '।']\n",
            "Review 86:\n",
            " ['कहा', 'से', 'कहा', 'ले', 'गई', 'और', 'मेरी', 'मौत', 'बन', 'गई']\n",
            "Review 87:\n",
            " ['आज', 'क॓', 'समय', 'म॓ॱ', 'सचचाई', 'और', 'ईमानदारी', 'की', 'ब॓कदरी']\n",
            "Review 88:\n",
            " ['एक', 'अजीब', 'सी', 'जंग', 'छिड़ी', 'है', 'इस', 'रात', 'के', 'आलम', 'में', 'आँखें', 'कहती', 'है', 'सोने', 'दे', 'और', 'दिल', 'कहता', 'है', 'रोने', 'दे']\n",
            "Review 89:\n",
            " ['अब', 'पता', 'चला', 'क्योंकि', 'वह', 'मार्क्स', 'मुल्ला', 'मिशनरी', 'मैकाले', 'और', 'मार्केट', 'के', 'हाथों', 'बिका', 'हुआ', 'है']\n",
            "Review 90:\n",
            " ['झूठ', 'और', 'धोख॓बाजोॱ', 'का', 'बोलबाला', 'घोर', 'कलयुग']\n",
            "Review 91:\n",
            " ['कभी', 'हार', 'का', 'कारण', 'अनुष्का', 'तो', 'कभी', 'साझीऔर', 'बनाओ', 'मरदानी']\n",
            "Review 92:\n",
            " ['इसलिए', 'में', 'ये', 'मसाला', 'फिल्मो', 'के', 'खिलाफ', 'हूँ', 'और', 'दिखाओ', 'धोनी', 'को', 'ऐसी', 'फिल्मे', '।', 'लग', 'गए', 'हेरोगिरी', 'में']\n",
            "Review 93:\n",
            " ['बिचली', 'जातियों', 'के', 'नव', 'सामंतों', 'की', 'दलितघृणा', 'और', 'फासीवादी', 'रुझान', 'भभक', 'कर', 'सामने', 'आ', 'रहा', 'है', 'समाजवाद', 'के', 'नाम', 'पर']\n",
            "Review 94:\n",
            " ['अरविन्द', 'केजरीवाल', 'जैसा', 'प्राणी', 'कल', 'की', 'सियासत', 'में', 'कभी', 'नहीं', 'था', 'और', 'आने', 'वाले', 'कल', 'की', 'सियासत', 'में', 'भी', 'नहीं', 'होगा', '।']\n",
            "Review 95:\n",
            " ['भारतीय', 'संसद', 'बुधवार', 'को', 'फिर', 'शर्मसार', 'हुई', '।', 'राज्यसभा', 'की', 'कार्यवाही', 'के', 'दौरान', 'बसपा', 'और', 'सपा', 'के', 'सदस्य', 'आपस', 'में', 'भिड़', 'गए', '।']\n",
            "Review 96:\n",
            " ['कश्मीर', 'के', 'नाम', 'पर', 'जिहाद', 'करने', 'वालो', 'अब', 'कहा', 'हो', 'तुम', 'लोग', 'कश्मीर', 'आओ', 'और', 'अपने', 'भाइयो', 'की', 'मदद', 'करो', 'इस', 'बुरे', 'वक़्त', 'मे', 'अब', 'फट', 'गयी', 'क्या', 'तुम', 'लोगो', 'की']\n",
            "Review 97:\n",
            " ['उसकी', 'याद', 'में', 'रो', 'रो', 'कर', 'हमने', 'टब', 'भर', 'दिए', '।', 'उसकी', 'याद', 'में', 'रो', 'रो', 'कर', 'हमने', 'टब', 'भर', 'दिए', '।', 'और', 'वो', 'कम्बख़त', 'उसी', 'में', 'नहा', 'कर', 'चल', 'दिए', '।']\n",
            "Review 98:\n",
            " ['लगता', 'है', 'जी', 'जी', 'के', 'विचारो', 'को', 'फॉलो', 'करते', 'है', 'में', 'ना', 'रन', 'ना', 'लेता', 'हु', 'और', 'ना', 'ही', 'लेने', 'देता', 'हु', '।']\n",
            "Review 99:\n",
            " ['पहले', 'तुम्हारे', 'शब्दों', 'में', 'साहस', 'आशा', 'और', 'निष्ठा', 'के', 'भाव', 'थे', 'अब', 'चिन्ता', 'भय', 'और', 'क्लेश', 'जाग', 'गया', 'है', 'यानि', 'तु', 'गया']\n",
            "Review 100:\n",
            " ['हार', 'जाउँगा', 'मुकदमा', 'उस', 'अदालत', 'में', 'ये', 'मुझे', 'यकीन', 'था', 'जहाँ', 'वक्त', 'बन', 'बैठा', 'जज', 'और', 'नसीब', 'मेरा', 'वकील', 'था…']\n",
            "Review 101:\n",
            " ['भारत', 'का', 'मीडिया', 'बिकाऊ', 'देशद्रोही', 'भ्रष्ट', 'और', 'हिन्दू', 'विरोधी', 'है', 'यह', 'बात', 'अब', 'गूगल', 'भी', 'जानती', 'है']\n",
            "Review 102:\n",
            " ['कुछ', 'लोगों', 'को', 'अपने', 'कम', 'और', 'दुसरो', 'का', 'सामान', 'कुछ', 'ज्यादा', 'ही', 'पसंद', 'आ', 'जाता', 'है', 'और', 'वो', 'मौका', 'पते', 'ही', 'उसे', 'अपना', 'बना', 'भी', 'लेते', 'है', '।', 'इसी', 'को', 'तो', 'लालच', 'कहतें', 'हैं', '।']\n",
            "Review 103:\n",
            " ['जो', 'कुछ्', 'ले', 'कर', 'लौटते', 'है', 'वो', 'काम्', 'को', 'और', 'को', 'वहि', 'छोड', 'आते', 'है', 'जो', 'खालि', 'हाथ', 'आते', 'हैअ', 'वो', 'आफ़िस', 'की', 'परेशानी', 'भी', 'घर', 'ले', 'आते', 'है']\n",
            "Review 104:\n",
            " ['आखिर', 'एक', 'सोची', 'समझी', 'साजिश', 'के', 'तहत', 'ही', 'तो', 'आजम', 'खान', 'और', 'जावेद', 'उस्मानी', 'जैसे', 'घॉर', 'हिन्दू', 'विरोधियो', 'को', 'हिन्दुओ', 'के', 'महाकुम्भ', 'का', 'इंचार्ज', 'बनाया', 'गया', 'था']\n",
            "Review 105:\n",
            " ['धोनी', 'वही', 'लौंडा', 'है', 'जो', 'कोई', 'भी', 'लड़ाई', 'होती', 'है', 'तो', 'कह', 'देता', 'है', 'मैं', 'हूँ', 'ना', 'और', 'फिर', 'सब', 'को', 'पिटवा', 'देता', 'है', '।']\n",
            "Review 106:\n",
            " ['अपनी', 'भी', 'कहानी', 'गजब', 'हैं', 'सेकुलर', 'लोग', 'साम्प्रदायिक', 'बोलते', 'हैं', 'और', 'कट्टर', 'मुझे', 'सेकुलर', 'बोलते', 'हैं', 'दोनों', 'तरफ', 'से', 'गाली', 'खानी', 'पड़ती', 'हैं']\n",
            "Review 107:\n",
            " ['केजरीवाल', 'वो', 'लौंडा', 'है', 'जो', 'में', 'जा', 'कर', 'पहला', 'ही', 'सवाल', 'का', 'गलत', 'जवाब', 'देगा', 'और', 'उसे', 'कुर्सी', 'से', 'उतरने', 'को', 'कहने', 'पर', 'के', 'खिलाफ', 'ही', 'धरने', 'पे', 'बैठ', 'जाएगा']\n",
            "Review 108:\n",
            " ['मुहम्मद', 'जलालुदीन', 'अकबर', 'हर', 'हिन्दू', 'राज्यजीतनेपर', 'वहा', 'की', 'लडकियों', 'का', 'अपहरण', 'करमीना', 'बाजारऔर', 'अपने', 'हरम', 'में', 'पंहुचा', 'देता', 'था', '।']\n",
            "Review 109:\n",
            " ['औरंगजेब', 'ने', 'इस्लाम', 'कबूल', 'ना', 'करने', 'परउन्ह', 'गर्मपानी', 'में', 'उबाल', 'कर', 'जिन्दा', 'चमड़ी', 'उतरवानेका', 'फरमान', 'जारी', 'किया', '।']\n",
            "Review 110:\n",
            " ['जड़', 'बुद्धी', 'बदमाश', 'डकैत', 'हो', 'जाते', 'हैं', 'और', 'देश', 'लूटते', 'हैं', '।', '।', 'पढ़े', 'लिखे', 'बदमाश', 'आॅफिसर', 'बन', 'के', 'चोंपा', 'लगाते', 'हैं', '।']\n",
            "Review 111:\n",
            " ['मासूमो', 'को', 'मार', 'रहा', 'हैसेना', 'जम्मू', 'कश्मीर', 'में', 'मासूमो', 'को', 'बचा', 'रही', 'हैऔर', 'बहुत', 'से', 'भारतीय', 'मुस्लिम', 'का', 'समर्थन', 'कर', 'रहे', 'है']\n",
            "Review 112:\n",
            " ['सबसे', 'आसान', 'काम', 'है', 'दोष', 'ढूँढना', 'और', 'सबसे', 'मुश्किल', 'काम', 'है', 'करना', 'इसलिए', 'लोग', 'आसान', 'काम', 'करते', 'हैं']\n",
            "Review 113:\n",
            " ['इतिहास', 'के', 'खोये', 'पन्नेऐसा', 'था', 'ऐतिहासिक', 'इस्लाम', 'क्या', 'आप', 'जानतेहैंविश्व', 'में', 'भारत', 'ऐसा', 'देश', 'है', 'जिसने', 'सबसेज्यादा', 'जुल्म', 'औरहमले', 'सहे', 'हैं']\n",
            "Review 114:\n",
            " ['जब', 'हिंदू', 'नाम', 'का', 'दहशत', 'हर', 'जगह', 'होगा', 'तब', 'ना', 'लव', 'जिहाद', 'होगा', 'और', 'ना', 'ही', 'कोई', 'धर्मान्तरणइसलिए', 'सिर्फ', 'हिंदू', 'नहीं', 'कट्टर', 'हिंदू', 'बनो']\n",
            "Review 115:\n",
            " ['रांची', 'में', 'आतंकी', 'संगठन', 'की', 'धमकी', 'दिन', 'में', 'गांव', 'छोड़ें', 'वरना', 'मार', 'देंगे', 'और', 'लड़कियों', 'को', 'मुसलमान', 'बना']\n",
            "Review 116:\n",
            " ['आप', 'ही', 'ऐसी', 'पार्टी', 'है', 'जिसने', 'सबको', 'भ्रष्ट', 'और', 'मीडिया', 'को', 'बिकाऊ', 'कहा', 'और', 'बार', 'बार', 'कहा', '।', 'अब', 'रणनीति', 'में', 'क्या', 'बदलाव', 'किया', 'गया', 'है']\n",
            "Review 117:\n",
            " ['शांति', 'और', 'दोस्ती', 'की', 'बातों', 'मे', 'आते', 'रहे', 'तो', 'हमेशा', 'नुकसान', 'उठाते', 'रहेंगेधोखे', 'से', 'वार', 'करता', 'है', 'पाकिस्तान', 'यकीन', 'नहीं', 'किया', 'जा', 'सकता', 'है']\n",
            "Review 118:\n",
            " ['रायुडु', 'पे', 'भरोसा', 'करना', 'तो', 'बनता', 'था', 'और', 'हम', 'भी', 'गली', 'ही', 'दे', 'रहे', 'है', 'धोनी', 'को']\n",
            "Review 119:\n",
            " ['बहादुरी', 'भरे', 'फैंसले', 'और', 'चुतियाप', 'भरे', 'फैंसले', 'के', 'बीच', 'का', 'फ़र्क', 'जानते', 'हो', 'तो', 'महेंद्र', 'सिंह', 'धोनी', 'तो', 'कतई', 'नहीं', 'हो', 'आप', '।']\n",
            "Review 120:\n",
            " ['हार', 'गई', 'इंडिया', 'ॉल', 'में', 'रन', 'कैसे', 'बनते', 'बताओ', 'और', 'वो', 'भी', 'उस', 'स्थिति', 'मे', 'जब', 'अंपायर', 'की', 'ड्रेस', 'भी', 'इंग्लैंड', 'की', 'टीम', 'जैसी', 'रेड', 'एंड', 'ब्लैक', 'थी', '।']\n",
            "Review 121:\n",
            " ['देखते', 'है', 'अब', 'किसी', 'की', 'जान', 'जायेगी', 'उसने', 'मेरी', 'और', 'मैने', 'उसकी', 'कसम', 'खाई', 'है']\n",
            "Review 122:\n",
            " ['चाहे', 'घर', 'वाले', 'लड़कियोंको', 'जलाये', 'और', 'मारे', 'चाहे', 'बहार', 'वाले', 'मरती', 'तो', 'लडकिया', 'है', 'पेहेले', 'हम', 'घर', 'सुधार', 'ले', 'लडकिया', 'बहार', 'जाना', 'ही', 'ना', 'चाहे']\n",
            "Review 123:\n",
            " ['पाकिस्तान', 'ने', 'आज', 'ही', 'के', 'दिन', 'श्रीकृष्ण', 'के', 'इस', 'मंदिर', 'पर', 'फेंके', 'थे', 'बम', 'पश्चिम', 'भारत', 'के', 'महत्वपूर्ण', 'तीर्थस्थल', 'और', 'चार']\n",
            "Review 124:\n",
            " ['ने', 'क्रिकेट', 'की', 'मर्यादा', 'के', 'खिलाफ', 'जाकर', 'सिंगल्स', 'नहीं', 'लिए', 'और', 'रायडू', 'को', 'स्ट्राइक', 'भी', 'नहीं', 'दी', '।', 'और', 'ये', 'सिर्फ', 'खुद', 'हीरो', 'बनने', 'के', 'चक्कर', 'में', '।']\n",
            "Review 125:\n",
            " ['भैया', 'लोगों', 'को', 'कोन', 'समझाए', 'तुमने', 'अखिलेश', 'को', 'अकल', 'एश', 'समझ', 'लिया', 'खेर', 'राहुल', 'के', 'आने', 'से', 'चुनावों', 'पर', 'असर', 'तो', 'हुआ', 'कोंग्रेस', 'अमेठी', 'और', 'रायबरेली', 'में', 'हार', 'गयी']\n",
            "Review 126:\n",
            " ['हमारे', 'देश', 'की', 'पत्रकारिता', 'के', 'क़लम', 'मैं', 'स्याही', 'की', 'जगह', '।', '।', 'पैसा', 'दारू', 'और', 'ऐयाशी', 'है', '।', '।', 'अब', 'बोलो', 'क्या', 'ये', 'भजन', 'गायेंगे']\n",
            "Review 127:\n",
            " ['क्या', 'क्या', 'हमारे', 'ख्वाब', 'थे', 'जाने', 'कहाँ', 'खो', 'गए', 'तुम', 'किसी', 'और', 'की', 'हो', 'गयी', 'खुद', 'करे', 'हम', 'भी', 'किसी', 'और', 'के', 'हो', 'जाये']\n",
            "Review 128:\n",
            " ['ऐसी', 'वाणी', 'बोलिए', 'जिसमे', 'सब', 'आपा', 'खोएं', 'खून', 'पीने', 'दौड़े', 'पीछे', 'और', 'सब', 'सेहतमंद', 'होये', 'बाबा', 'ज़हरीलादास']\n",
            "Review 129:\n",
            " ['गुड़िया', 'के', 'दर्द', 'की', 'दास्तां', 'के', 'बीच', 'भी', 'जबरन', 'कमर्शियल', 'ब्रेक', 'कराकर', 'हमारे', 'चैनल', 'डियोड्रेंट', 'और', 'अंडरविअर', 'का', 'विज्ञापन', 'नहीं', 'दिखाना', 'नहीं', 'भूल', 'सकते']\n",
            "Review 130:\n",
            " ['के', 'नेतृत्व', 'में', 'और', 'लोकतंत्र', 'के', 'खिलाफ', 'ये', 'महा', 'ठगबंधन', 'है', 'जिसमें', 'राष्ट्रपति', 'मिडिया', 'कांग्रेस', 'अंबानी', 'शामिल', 'हैं']\n",
            "Review 131:\n",
            " ['न्यूज़', 'इंग्लैंड', 'ने', 'भारत', 'को', 'रन', 'और', 'धोनी', 'के', 'चुतियापे', 'से', 'हराया', '।']\n",
            "Review 132:\n",
            " ['आज', 'पवेलियन', 'में', 'धोनी', 'बहुतगाली', 'खायेगा', 'और', 'बाहर', 'निकलने', 'पेअनुष्का', 'उसके', 'बाल', 'भी', 'नोच', 'सकती', 'हैकी', 'विराट', 'की', 'पारी', 'का']\n",
            "Review 133:\n",
            " ['अगर', 'यही', 'खुलासा', 'किसी', 'भारतीय', 'क्रिकेटर', 'ने', 'किया', 'होता', 'तो', 'मीडिया', 'और', 'सिक्युलर', 'उसे', 'ही', 'झूठा', 'ठहरा', 'चुके', 'होते']\n",
            "Review 134:\n",
            " ['पाकिस्तान', 'की', 'जय', 'जयकार', 'करने', 'वाले', 'शिव', 'भगतो', 'औरभारतीय', 'सेना', 'पर', 'पत्थर', 'मारने', 'वाले', 'गद्दार', 'कश्मीरी', 'मुस्लमान']\n",
            "Review 135:\n",
            " ['वेद', 'वैदिक', 'जिसकी', 'छवि', 'एक', 'पत्रकार', 'और', 'बुद्धिजीवी', 'की', 'रही', 'है', 'वह', 'बुरी', 'तरह', 'से', 'धूमिल', 'होकर', 'उसकी', 'असलियत', 'उजागर', 'हो', 'गई', 'है', 'कि', 'वह', 'कुछ', 'भी', 'नहीं', '।']\n",
            "Review 136:\n",
            " ['जिंदगी', 'में', 'दो', 'चीज़ें', 'हमेशा', 'टूटने', 'के', 'लिए', 'ही', 'होती', 'हैं', 'सांस', 'और', 'साथ', 'सांस', 'टूटने', 'से']\n",
            "Review 137:\n",
            " ['मैच', 'भी', 'हार', 'गए', 'और', 'मैच', 'में', 'समय', 'व्यर्थ', 'करके', 'गर्लफ्रेंड', 'से', 'बात', 'नहीं', 'की', 'तो', 'वो', 'भी', 'गुस्सा', 'हो', 'गयी', '।', 'अब', 'इसे', 'कहते', 'हैं', 'डबल', 'भसड', '।']\n",
            "Review 138:\n",
            " ['केजरीवाल', 'वो', 'लौंडा', 'है', 'जो', 'में', 'जा', 'कर', 'पहला', 'ही', 'सवाल', 'का', 'गलत', 'जवाब', 'देगा', 'और', 'उसे', 'कुर्सी', 'से', 'उतरने', 'को', 'कहने', 'पर', 'के', 'खिलाफ', 'ही', 'धरने', 'पे', 'बैठ', 'जाएगा']\n",
            "Review 139:\n",
            " ['और', 'ये', 'भारतीय', 'कप्तान', 'महैन्द्र', 'सिँह', 'धोनी', 'खुद', 'हीरो', 'बनने', 'के', 'चक्कर', 'मेँ', 'मैच', 'से', 'हाथ', 'धोते', 'हुये', '॥']\n",
            "Review 140:\n",
            " ['बीजेपी', 'और', 'आसएसएस', 'विचारधारा', 'के', 'वरिष्ठ', 'पत्रकार', 'ने', 'कहा', 'की', 'वह', 'भारत', 'की', 'संसद', 'पर', 'थूकता', 'है', 'क्या', 'यही', 'असली', 'चरित्र', 'है']\n",
            "Review 141:\n",
            " ['क्या', 'बिगाड़ा', 'था', 'हमारे', 'कोहली', 'रायुडू', 'या', 'जडेजा', 'ने', 'कुत्तों', 'की', 'मौत', 'मरवा', 'दिया', 'उन्हें', 'और', 'मैच', 'भी', 'हार', 'गया']\n",
            "Review 142:\n",
            " ['रायडू', 'को', 'क्या', 'केवल', 'टीम', 'पूरी', 'करने', 'के', 'लिए', 'ले', 'गए', 'थे', 'धोनी', '।', 'बेचारे', 'से', 'पद्दी', 'करा', 'ली', 'और', 'बैटिंग', 'नहीं', 'दी', '।']\n",
            "Review 143:\n",
            " ['आज', 'अनुष्का', 'की', 'नहीं', 'साक्षी', 'की', 'बारी', 'है', '।', 'शुरू', 'हो', 'जाओ', 'और', 'निकालो', 'अपनी', 'भड़ास', '।']\n",
            "Review 144:\n",
            " ['भाई', 'जी', 'क्या', 'आप', 'बताओगे', 'कीड़े', 'कबसे', 'सेक्युलर', 'और', 'कम्युनल', 'हुए', 'मुझे', 'लगा', 'ये', 'बीमारी', 'सिर्फ', 'मानव', 'प्रजाति', 'तक', 'सिमित', 'है']\n",
            "Review 145:\n",
            " ['एक', 'अजीब', 'सी', 'दौड़', 'है', 'ये', 'ज़िन्दगी', 'जीत', 'जाओ', 'तो', 'कई', 'अपने', 'पीछे', 'छूट', 'जाते', 'हैं', 'और', 'हार', 'जाओ', 'तो', 'अपने', 'ही', 'पीछे', 'छोड़', 'जाते', 'हैं', '।']\n",
            "Review 146:\n",
            " ['मगर', 'जापान', 'में', 'बेवजह', 'चीनी', 'विस्तारवाद', 'की', 'निंदा', 'और', 'भारत', 'में', 'तिब्बती', 'आज़ादी', 'के', 'विरूद्ध', 'फरमान', 'जारी', 'करनेवालों', 'से', 'ऐसी', 'उम्मीद', 'रखना', 'बेमानी']\n",
            "Review 147:\n",
            " ['ये', 'तो', 'बेईमंटी', 'है', 'धोनी', 'की', '।', 'रायडू', 'से', 'फील्डिंग', 'करवा', 'ली', 'और', 'बैटिंग', 'नहीं', 'दी', '।']\n",
            "Review 148:\n",
            " ['शुभ', 'प्रभात', 'मिॠो', 'हुनर', 'किसी', 'का', 'मोहताज', 'नहीं', 'होता', 'है', 'हर', 'किसी', 'के', 'सर', 'पर', 'इज्जत', 'का', 'ताज', 'नहीं', 'होता', 'है']\n",
            "Review 149:\n",
            " ['निठारी', 'कांड', 'के', 'अभियुक्त', 'सुरेंद्र', 'कोहली', 'की', 'फांसी', 'पर', 'रोक']\n",
            "Review 150:\n",
            " ['एक', 'बार', 'भी', 'आतंक', 'की', 'जड़', 'कुरान', 'पर', 'भारतीय', 'मीडिया', 'में', 'चर्चा', 'क्यों', 'नहीं', 'होती', 'जबकिगीता', 'आदि', 'हिन्दू', 'धर्म', 'ग्रंथों', 'पर', 'हमेशा', 'मीडिया', 'मेंचर्चा', 'होती', 'है', '।']\n",
            "Review 151:\n",
            " ['बिहारशरीफ', 'से', 'शेखपुरा', 'का', 'संपर्क', 'भंग', 'पुल', 'धंसने', 'से', 'एनएच', 'पर', 'आवागमन', 'ठप']\n",
            "Review 152:\n",
            " ['बस', 'अब', 'ये', 'जूती', 'अब', 'अस्त्र', 'बनकर', 'केजरू', 'और', 'उसके', 'आपियों', 'पर', 'बरसे']\n",
            "Review 153:\n",
            " ['महंगी', 'शिक्षा', 'पर', 'मोहन', 'भागवत', 'ने', 'जताई', 'चिंता']\n",
            "Review 154:\n",
            " ['आखिर', 'क्यों', 'लोगों', 'को', 'यहां', 'डर', 'लगने', 'लगा', 'है', 'आखिर', 'क्यों', 'यहां', 'की', 'सड़कों', 'पर', 'बदमाश', 'बेखौफ', 'हैं']\n",
            "Review 155:\n",
            " ['मध्यप्रदेश', 'के', 'सतना', 'जिले', 'के', 'मैहर', 'विधायक', 'ने', 'भी', 'जनवरी', 'में', 'जूरा', 'पंचायत', 'के', 'अवैध', 'खनन', 'के', 'मामले', 'में', 'सरपंच', 'व', 'मीडिया', 'कर्मियों', 'पर', 'हमला', 'किया', 'था', '।']\n",
            "Review 156:\n",
            " ['ऐसे', 'मतदाता', 'पर', 'जिसने', 'कांग्रेस', 'को', 'वोट', 'दिया', 'धिक्कार', 'है', 'ऐसे', 'संविधान', 'निर्माता', 'पर', 'जिसने', 'अभिनेता', 'और', 'नेता', 'के', 'लिये', 'न्याय', 'और', 'जनता', 'के', 'लिये', 'कानून', 'बनाया']\n",
            "Review 157:\n",
            " ['देश', 'सभी', 'का', 'है', 'और', 'सभी', 'को', 'देश', 'के', 'किसी', 'भी', 'हिस्से', 'मेँ', 'रहने', 'का', 'अधिकार', 'सबिँधान', 'ने', 'दिया', 'है', 'ठाकरे', 'परिवार', 'की', 'राजनीति', 'ओछी', 'मानसिकता', 'दर्शाती', 'है', '।']\n",
            "Review 158:\n",
            " ['दिल्ली', 'में', 'शिला', 'सरकार', 'ने', 'जो', 'जनता', 'पर', 'बर्बरता', 'से', 'टियर', 'गैस', 'और', 'डंडे', 'बरसाए', 'थे', 'उसके', 'पीछे', 'कहीं', 'वह', 'लाख', 'फर्जी', 'वोट', 'तो', 'प्रेरणा', 'के', 'श्रोत', 'नहीं', 'थे']\n",
            "Review 159:\n",
            " ['जब', 'आम', 'जनता', 'मारे', 'तो', 'नक्सली', 'भटके', 'हुए', 'नवजावन', 'है', 'और', 'जब', 'कांग्रेसी', 'मरे', 'तो', 'लोकतंत्र', 'पर', 'हमला', 'हालाँकि', 'जो', 'हुआ', 'वो', 'बहुत', 'बुरा', 'है']\n",
            "Review 160:\n",
            " ['के', 'लिए', 'एक', 'बार', 'तो', 'दुआ', 'करने', 'का', 'मनन', 'करता', 'है', 'पर', 'बाद', 'में', 'कश्मीरी', 'पंडित', 'याद', 'आ', 'जाते', 'है', '।', 'वो', 'सेक्युलर', 'चुतिया', 'कहा', 'है']\n",
            "Review 161:\n",
            " ['चीन', 'को', 'नाकों', 'चने', 'चबवाने', 'के', 'एक', 'ही', 'तरीका', 'बचा', 'है', 'दिल्ली', 'के', 'ठुल्ले', 'डंडा', 'देके', 'बॉर्डर', 'पर', 'भेज', 'दिए', 'जायें']\n",
            "Review 162:\n",
            " ['दामिनी', 'और', 'छोटी', 'बच्ची', 'के', 'साथ', 'बलात्कार', 'के', 'समय', 'यह', 'भ्रष्टाचारी', 'कहाँ', 'मर', 'गए', 'थे', 'जब', 'पुलिस', 'निर्दोषों', 'पर', 'डंडे', 'बरसा', 'रही', 'थी', 'इसलिए', 'कोई', 'नेता', 'मरे', 'तो', 'मरे', '।']\n",
            "Review 163:\n",
            " ['ने', 'सरकार', 'को', 'आधा', 'तलाक़', 'दिया', 'ने', 'सरकार', 'से', 'आधा', 'विवाह', 'किया', 'पर', 'चाहा', 'कर', 'भी', 'सुहाग', 'रात', 'नहीं', 'मना', 'सकते', 'अपवित्र', 'रिश्तों', 'में', 'ऐसा', 'ही', 'होता', 'है', '।']\n",
            "Review 164:\n",
            " ['शिंदे', 'द्वारा', 'संघ', 'व', 'भाजपा', 'पर', 'आतंकवादी', 'गतिविधीयो', 'को', 'संचालित', 'करने', 'का', 'आरोप', 'अप्रत्यक्ष', 'रूप', 'से', 'वास्तविक', 'आतंकवादियो', 'और', 'पाकिस्तान', 'की', 'होसला', 'अफजाई']\n",
            "Review 165:\n",
            " ['पवन', 'बंसल', 'के', 'घर', 'आज', 'बकरे', 'की', 'बलि', 'दी', 'गयीये', 'बकरे', 'तो', 'कटतेबचते', 'रहेंगे', 'पर', 'इनकी', 'अम्मा', 'कब', 'तक', 'ख़ैर', 'मनाएगी']\n"
          ]
        }
      ]
    },
    {
      "cell_type": "markdown",
      "source": [
        "Some of the preprocessings to be accomplished before taking off the stop words, tokenization and BOW are:\n",
        "  1. Punctuations needed to be taken care of\n",
        "  2. Slang correction\n",
        "  3. Remove digits and words having digits"
      ],
      "metadata": {
        "id": "A5F4rYfTtmYc"
      }
    },
    {
      "cell_type": "code",
      "source": [
        "df2 = df.copy()"
      ],
      "metadata": {
        "id": "_eBPBAUCt-uI"
      },
      "execution_count": null,
      "outputs": []
    },
    {
      "cell_type": "markdown",
      "source": [
        "## Removing Emjois from the text"
      ],
      "metadata": {
        "id": "QvE-5Ckk3A8k"
      }
    },
    {
      "cell_type": "code",
      "source": [
        "df2['cleaned_text'] = df2['text']"
      ],
      "metadata": {
        "id": "L7azwICq3pDI"
      },
      "execution_count": null,
      "outputs": []
    },
    {
      "cell_type": "code",
      "source": [
        "df2.head()"
      ],
      "metadata": {
        "colab": {
          "base_uri": "https://localhost:8080/",
          "height": 206
        },
        "id": "xmzSJOKC5Hqg",
        "outputId": "da2ebc4e-e3b8-4437-ade3-0f6c72129d9e"
      },
      "execution_count": null,
      "outputs": [
        {
          "output_type": "execute_result",
          "data": {
            "text/plain": [
              "                                                text experience  \\\n",
              "0  लोग वतन तक खा जाते हैं इसका इसे यकीन नहींमान ज...   negative   \n",
              "1  गुमनाम है वतन पर मिटने वाले लोग आतन्कवादियों स...   negative   \n",
              "2  ज़ंजीर बदली जा रही थी मैं समझा था रिहाई हो गयी है   negative   \n",
              "3  यूपी में बड़े स्तर पर दंगे करवा सकती है बीजेपी...   negative   \n",
              "4  अंग्रेजी नहीं आती है इसलिए हिन्दी ट्विट ज्यादा...   negative   \n",
              "\n",
              "                                        cleaned_text  \n",
              "0  लोग वतन तक खा जाते हैं इसका इसे यकीन नहींमान ज...  \n",
              "1  गुमनाम है वतन पर मिटने वाले लोग आतन्कवादियों स...  \n",
              "2  ज़ंजीर बदली जा रही थी मैं समझा था रिहाई हो गयी है  \n",
              "3  यूपी में बड़े स्तर पर दंगे करवा सकती है बीजेपी...  \n",
              "4  अंग्रेजी नहीं आती है इसलिए हिन्दी ट्विट ज्यादा...  "
            ],
            "text/html": [
              "\n",
              "  <div id=\"df-f0f3b261-aedf-4d5d-965d-7f665a12b2a9\">\n",
              "    <div class=\"colab-df-container\">\n",
              "      <div>\n",
              "<style scoped>\n",
              "    .dataframe tbody tr th:only-of-type {\n",
              "        vertical-align: middle;\n",
              "    }\n",
              "\n",
              "    .dataframe tbody tr th {\n",
              "        vertical-align: top;\n",
              "    }\n",
              "\n",
              "    .dataframe thead th {\n",
              "        text-align: right;\n",
              "    }\n",
              "</style>\n",
              "<table border=\"1\" class=\"dataframe\">\n",
              "  <thead>\n",
              "    <tr style=\"text-align: right;\">\n",
              "      <th></th>\n",
              "      <th>text</th>\n",
              "      <th>experience</th>\n",
              "      <th>cleaned_text</th>\n",
              "    </tr>\n",
              "  </thead>\n",
              "  <tbody>\n",
              "    <tr>\n",
              "      <th>0</th>\n",
              "      <td>लोग वतन तक खा जाते हैं इसका इसे यकीन नहींमान ज...</td>\n",
              "      <td>negative</td>\n",
              "      <td>लोग वतन तक खा जाते हैं इसका इसे यकीन नहींमान ज...</td>\n",
              "    </tr>\n",
              "    <tr>\n",
              "      <th>1</th>\n",
              "      <td>गुमनाम है वतन पर मिटने वाले लोग आतन्कवादियों स...</td>\n",
              "      <td>negative</td>\n",
              "      <td>गुमनाम है वतन पर मिटने वाले लोग आतन्कवादियों स...</td>\n",
              "    </tr>\n",
              "    <tr>\n",
              "      <th>2</th>\n",
              "      <td>ज़ंजीर बदली जा रही थी मैं समझा था रिहाई हो गयी है</td>\n",
              "      <td>negative</td>\n",
              "      <td>ज़ंजीर बदली जा रही थी मैं समझा था रिहाई हो गयी है</td>\n",
              "    </tr>\n",
              "    <tr>\n",
              "      <th>3</th>\n",
              "      <td>यूपी में बड़े स्तर पर दंगे करवा सकती है बीजेपी...</td>\n",
              "      <td>negative</td>\n",
              "      <td>यूपी में बड़े स्तर पर दंगे करवा सकती है बीजेपी...</td>\n",
              "    </tr>\n",
              "    <tr>\n",
              "      <th>4</th>\n",
              "      <td>अंग्रेजी नहीं आती है इसलिए हिन्दी ट्विट ज्यादा...</td>\n",
              "      <td>negative</td>\n",
              "      <td>अंग्रेजी नहीं आती है इसलिए हिन्दी ट्विट ज्यादा...</td>\n",
              "    </tr>\n",
              "  </tbody>\n",
              "</table>\n",
              "</div>\n",
              "      <button class=\"colab-df-convert\" onclick=\"convertToInteractive('df-f0f3b261-aedf-4d5d-965d-7f665a12b2a9')\"\n",
              "              title=\"Convert this dataframe to an interactive table.\"\n",
              "              style=\"display:none;\">\n",
              "        \n",
              "  <svg xmlns=\"http://www.w3.org/2000/svg\" height=\"24px\"viewBox=\"0 0 24 24\"\n",
              "       width=\"24px\">\n",
              "    <path d=\"M0 0h24v24H0V0z\" fill=\"none\"/>\n",
              "    <path d=\"M18.56 5.44l.94 2.06.94-2.06 2.06-.94-2.06-.94-.94-2.06-.94 2.06-2.06.94zm-11 1L8.5 8.5l.94-2.06 2.06-.94-2.06-.94L8.5 2.5l-.94 2.06-2.06.94zm10 10l.94 2.06.94-2.06 2.06-.94-2.06-.94-.94-2.06-.94 2.06-2.06.94z\"/><path d=\"M17.41 7.96l-1.37-1.37c-.4-.4-.92-.59-1.43-.59-.52 0-1.04.2-1.43.59L10.3 9.45l-7.72 7.72c-.78.78-.78 2.05 0 2.83L4 21.41c.39.39.9.59 1.41.59.51 0 1.02-.2 1.41-.59l7.78-7.78 2.81-2.81c.8-.78.8-2.07 0-2.86zM5.41 20L4 18.59l7.72-7.72 1.47 1.35L5.41 20z\"/>\n",
              "  </svg>\n",
              "      </button>\n",
              "      \n",
              "  <style>\n",
              "    .colab-df-container {\n",
              "      display:flex;\n",
              "      flex-wrap:wrap;\n",
              "      gap: 12px;\n",
              "    }\n",
              "\n",
              "    .colab-df-convert {\n",
              "      background-color: #E8F0FE;\n",
              "      border: none;\n",
              "      border-radius: 50%;\n",
              "      cursor: pointer;\n",
              "      display: none;\n",
              "      fill: #1967D2;\n",
              "      height: 32px;\n",
              "      padding: 0 0 0 0;\n",
              "      width: 32px;\n",
              "    }\n",
              "\n",
              "    .colab-df-convert:hover {\n",
              "      background-color: #E2EBFA;\n",
              "      box-shadow: 0px 1px 2px rgba(60, 64, 67, 0.3), 0px 1px 3px 1px rgba(60, 64, 67, 0.15);\n",
              "      fill: #174EA6;\n",
              "    }\n",
              "\n",
              "    [theme=dark] .colab-df-convert {\n",
              "      background-color: #3B4455;\n",
              "      fill: #D2E3FC;\n",
              "    }\n",
              "\n",
              "    [theme=dark] .colab-df-convert:hover {\n",
              "      background-color: #434B5C;\n",
              "      box-shadow: 0px 1px 3px 1px rgba(0, 0, 0, 0.15);\n",
              "      filter: drop-shadow(0px 1px 2px rgba(0, 0, 0, 0.3));\n",
              "      fill: #FFFFFF;\n",
              "    }\n",
              "  </style>\n",
              "\n",
              "      <script>\n",
              "        const buttonEl =\n",
              "          document.querySelector('#df-f0f3b261-aedf-4d5d-965d-7f665a12b2a9 button.colab-df-convert');\n",
              "        buttonEl.style.display =\n",
              "          google.colab.kernel.accessAllowed ? 'block' : 'none';\n",
              "\n",
              "        async function convertToInteractive(key) {\n",
              "          const element = document.querySelector('#df-f0f3b261-aedf-4d5d-965d-7f665a12b2a9');\n",
              "          const dataTable =\n",
              "            await google.colab.kernel.invokeFunction('convertToInteractive',\n",
              "                                                     [key], {});\n",
              "          if (!dataTable) return;\n",
              "\n",
              "          const docLinkHtml = 'Like what you see? Visit the ' +\n",
              "            '<a target=\"_blank\" href=https://colab.research.google.com/notebooks/data_table.ipynb>data table notebook</a>'\n",
              "            + ' to learn more about interactive tables.';\n",
              "          element.innerHTML = '';\n",
              "          dataTable['output_type'] = 'display_data';\n",
              "          await google.colab.output.renderOutput(dataTable, element);\n",
              "          const docLink = document.createElement('div');\n",
              "          docLink.innerHTML = docLinkHtml;\n",
              "          element.appendChild(docLink);\n",
              "        }\n",
              "      </script>\n",
              "    </div>\n",
              "  </div>\n",
              "  "
            ]
          },
          "metadata": {},
          "execution_count": 53
        }
      ]
    },
    {
      "cell_type": "code",
      "source": [
        "def remove_emoji(text):\n",
        "    return emoji.replace_emoji(text, replace='')\n",
        "\n",
        "df2['cleaned_text'] = df2['text'].apply(remove_emoji)"
      ],
      "metadata": {
        "id": "JmFzBwsr3AWH"
      },
      "execution_count": null,
      "outputs": []
    },
    {
      "cell_type": "code",
      "source": [
        "df2.tail(10)"
      ],
      "metadata": {
        "colab": {
          "base_uri": "https://localhost:8080/",
          "height": 363
        },
        "id": "nC0_PFIJ3NM5",
        "outputId": "a620ba9e-d3f5-4fc1-a2ba-57a6f9acbf54"
      },
      "execution_count": null,
      "outputs": [
        {
          "output_type": "execute_result",
          "data": {
            "text/plain": [
              "                                                   text experience  \\\n",
              "9067  RT @aajtak: कश्मीर में हमारे जवानों से ऐसा सलू...    neutral   \n",
              "9068  RT @aajtak: #MoJo ऐसे लूट लिया दोस्त को... देख...    neutral   \n",
              "9069  RT @aajtak: #MoJo योगी सरकार का 'रेड' अलर्ट......    neutral   \n",
              "9070  RT @aajtak: योगी के मंत्रियों के छापे से हड़कं...    neutral   \n",
              "9071  RT @aajtak: #Mojo, विराट का इंतजार हुआ खत्म......    neutral   \n",
              "9072  RT @aajtak: #Mojo बजरंग बली का सबसे विशालकाय र...    neutral   \n",
              "9073  RT @aajtak: कहां अचानक स्कूल में पड़ा मंत्री क...    neutral   \n",
              "9074  RT @aajtak: #MoJo सुनिए कुलभूषण की दर्दभरी आपब...    neutral   \n",
              "9075  RT @aajtak: लव जेहाद के नाम पर क्या उत्तर प्रद...    neutral   \n",
              "9076  कश्मीर में हमारे जवानों से ऐसा सलूक? वीडियो दे...    neutral   \n",
              "\n",
              "                                           cleaned_text  \n",
              "9067  RT @aajtak: कश्मीर में हमारे जवानों से ऐसा सलू...  \n",
              "9068  RT @aajtak: #MoJo ऐसे लूट लिया दोस्त को... देख...  \n",
              "9069  RT @aajtak: #MoJo योगी सरकार का 'रेड' अलर्ट......  \n",
              "9070  RT @aajtak: योगी के मंत्रियों के छापे से हड़कं...  \n",
              "9071  RT @aajtak: #Mojo, विराट का इंतजार हुआ खत्म......  \n",
              "9072  RT @aajtak: #Mojo बजरंग बली का सबसे विशालकाय र...  \n",
              "9073  RT @aajtak: कहां अचानक स्कूल में पड़ा मंत्री क...  \n",
              "9074  RT @aajtak: #MoJo सुनिए कुलभूषण की दर्दभरी आपब...  \n",
              "9075  RT @aajtak: लव जेहाद के नाम पर क्या उत्तर प्रद...  \n",
              "9076  कश्मीर में हमारे जवानों से ऐसा सलूक? वीडियो दे...  "
            ],
            "text/html": [
              "\n",
              "  <div id=\"df-20de6b0e-6c64-4da9-9f14-bf375fa199b3\">\n",
              "    <div class=\"colab-df-container\">\n",
              "      <div>\n",
              "<style scoped>\n",
              "    .dataframe tbody tr th:only-of-type {\n",
              "        vertical-align: middle;\n",
              "    }\n",
              "\n",
              "    .dataframe tbody tr th {\n",
              "        vertical-align: top;\n",
              "    }\n",
              "\n",
              "    .dataframe thead th {\n",
              "        text-align: right;\n",
              "    }\n",
              "</style>\n",
              "<table border=\"1\" class=\"dataframe\">\n",
              "  <thead>\n",
              "    <tr style=\"text-align: right;\">\n",
              "      <th></th>\n",
              "      <th>text</th>\n",
              "      <th>experience</th>\n",
              "      <th>cleaned_text</th>\n",
              "    </tr>\n",
              "  </thead>\n",
              "  <tbody>\n",
              "    <tr>\n",
              "      <th>9067</th>\n",
              "      <td>RT @aajtak: कश्मीर में हमारे जवानों से ऐसा सलू...</td>\n",
              "      <td>neutral</td>\n",
              "      <td>RT @aajtak: कश्मीर में हमारे जवानों से ऐसा सलू...</td>\n",
              "    </tr>\n",
              "    <tr>\n",
              "      <th>9068</th>\n",
              "      <td>RT @aajtak: #MoJo ऐसे लूट लिया दोस्त को... देख...</td>\n",
              "      <td>neutral</td>\n",
              "      <td>RT @aajtak: #MoJo ऐसे लूट लिया दोस्त को... देख...</td>\n",
              "    </tr>\n",
              "    <tr>\n",
              "      <th>9069</th>\n",
              "      <td>RT @aajtak: #MoJo योगी सरकार का 'रेड' अलर्ट......</td>\n",
              "      <td>neutral</td>\n",
              "      <td>RT @aajtak: #MoJo योगी सरकार का 'रेड' अलर्ट......</td>\n",
              "    </tr>\n",
              "    <tr>\n",
              "      <th>9070</th>\n",
              "      <td>RT @aajtak: योगी के मंत्रियों के छापे से हड़कं...</td>\n",
              "      <td>neutral</td>\n",
              "      <td>RT @aajtak: योगी के मंत्रियों के छापे से हड़कं...</td>\n",
              "    </tr>\n",
              "    <tr>\n",
              "      <th>9071</th>\n",
              "      <td>RT @aajtak: #Mojo, विराट का इंतजार हुआ खत्म......</td>\n",
              "      <td>neutral</td>\n",
              "      <td>RT @aajtak: #Mojo, विराट का इंतजार हुआ खत्म......</td>\n",
              "    </tr>\n",
              "    <tr>\n",
              "      <th>9072</th>\n",
              "      <td>RT @aajtak: #Mojo बजरंग बली का सबसे विशालकाय र...</td>\n",
              "      <td>neutral</td>\n",
              "      <td>RT @aajtak: #Mojo बजरंग बली का सबसे विशालकाय र...</td>\n",
              "    </tr>\n",
              "    <tr>\n",
              "      <th>9073</th>\n",
              "      <td>RT @aajtak: कहां अचानक स्कूल में पड़ा मंत्री क...</td>\n",
              "      <td>neutral</td>\n",
              "      <td>RT @aajtak: कहां अचानक स्कूल में पड़ा मंत्री क...</td>\n",
              "    </tr>\n",
              "    <tr>\n",
              "      <th>9074</th>\n",
              "      <td>RT @aajtak: #MoJo सुनिए कुलभूषण की दर्दभरी आपब...</td>\n",
              "      <td>neutral</td>\n",
              "      <td>RT @aajtak: #MoJo सुनिए कुलभूषण की दर्दभरी आपब...</td>\n",
              "    </tr>\n",
              "    <tr>\n",
              "      <th>9075</th>\n",
              "      <td>RT @aajtak: लव जेहाद के नाम पर क्या उत्तर प्रद...</td>\n",
              "      <td>neutral</td>\n",
              "      <td>RT @aajtak: लव जेहाद के नाम पर क्या उत्तर प्रद...</td>\n",
              "    </tr>\n",
              "    <tr>\n",
              "      <th>9076</th>\n",
              "      <td>कश्मीर में हमारे जवानों से ऐसा सलूक? वीडियो दे...</td>\n",
              "      <td>neutral</td>\n",
              "      <td>कश्मीर में हमारे जवानों से ऐसा सलूक? वीडियो दे...</td>\n",
              "    </tr>\n",
              "  </tbody>\n",
              "</table>\n",
              "</div>\n",
              "      <button class=\"colab-df-convert\" onclick=\"convertToInteractive('df-20de6b0e-6c64-4da9-9f14-bf375fa199b3')\"\n",
              "              title=\"Convert this dataframe to an interactive table.\"\n",
              "              style=\"display:none;\">\n",
              "        \n",
              "  <svg xmlns=\"http://www.w3.org/2000/svg\" height=\"24px\"viewBox=\"0 0 24 24\"\n",
              "       width=\"24px\">\n",
              "    <path d=\"M0 0h24v24H0V0z\" fill=\"none\"/>\n",
              "    <path d=\"M18.56 5.44l.94 2.06.94-2.06 2.06-.94-2.06-.94-.94-2.06-.94 2.06-2.06.94zm-11 1L8.5 8.5l.94-2.06 2.06-.94-2.06-.94L8.5 2.5l-.94 2.06-2.06.94zm10 10l.94 2.06.94-2.06 2.06-.94-2.06-.94-.94-2.06-.94 2.06-2.06.94z\"/><path d=\"M17.41 7.96l-1.37-1.37c-.4-.4-.92-.59-1.43-.59-.52 0-1.04.2-1.43.59L10.3 9.45l-7.72 7.72c-.78.78-.78 2.05 0 2.83L4 21.41c.39.39.9.59 1.41.59.51 0 1.02-.2 1.41-.59l7.78-7.78 2.81-2.81c.8-.78.8-2.07 0-2.86zM5.41 20L4 18.59l7.72-7.72 1.47 1.35L5.41 20z\"/>\n",
              "  </svg>\n",
              "      </button>\n",
              "      \n",
              "  <style>\n",
              "    .colab-df-container {\n",
              "      display:flex;\n",
              "      flex-wrap:wrap;\n",
              "      gap: 12px;\n",
              "    }\n",
              "\n",
              "    .colab-df-convert {\n",
              "      background-color: #E8F0FE;\n",
              "      border: none;\n",
              "      border-radius: 50%;\n",
              "      cursor: pointer;\n",
              "      display: none;\n",
              "      fill: #1967D2;\n",
              "      height: 32px;\n",
              "      padding: 0 0 0 0;\n",
              "      width: 32px;\n",
              "    }\n",
              "\n",
              "    .colab-df-convert:hover {\n",
              "      background-color: #E2EBFA;\n",
              "      box-shadow: 0px 1px 2px rgba(60, 64, 67, 0.3), 0px 1px 3px 1px rgba(60, 64, 67, 0.15);\n",
              "      fill: #174EA6;\n",
              "    }\n",
              "\n",
              "    [theme=dark] .colab-df-convert {\n",
              "      background-color: #3B4455;\n",
              "      fill: #D2E3FC;\n",
              "    }\n",
              "\n",
              "    [theme=dark] .colab-df-convert:hover {\n",
              "      background-color: #434B5C;\n",
              "      box-shadow: 0px 1px 3px 1px rgba(0, 0, 0, 0.15);\n",
              "      filter: drop-shadow(0px 1px 2px rgba(0, 0, 0, 0.3));\n",
              "      fill: #FFFFFF;\n",
              "    }\n",
              "  </style>\n",
              "\n",
              "      <script>\n",
              "        const buttonEl =\n",
              "          document.querySelector('#df-20de6b0e-6c64-4da9-9f14-bf375fa199b3 button.colab-df-convert');\n",
              "        buttonEl.style.display =\n",
              "          google.colab.kernel.accessAllowed ? 'block' : 'none';\n",
              "\n",
              "        async function convertToInteractive(key) {\n",
              "          const element = document.querySelector('#df-20de6b0e-6c64-4da9-9f14-bf375fa199b3');\n",
              "          const dataTable =\n",
              "            await google.colab.kernel.invokeFunction('convertToInteractive',\n",
              "                                                     [key], {});\n",
              "          if (!dataTable) return;\n",
              "\n",
              "          const docLinkHtml = 'Like what you see? Visit the ' +\n",
              "            '<a target=\"_blank\" href=https://colab.research.google.com/notebooks/data_table.ipynb>data table notebook</a>'\n",
              "            + ' to learn more about interactive tables.';\n",
              "          element.innerHTML = '';\n",
              "          dataTable['output_type'] = 'display_data';\n",
              "          await google.colab.output.renderOutput(dataTable, element);\n",
              "          const docLink = document.createElement('div');\n",
              "          docLink.innerHTML = docLinkHtml;\n",
              "          element.appendChild(docLink);\n",
              "        }\n",
              "      </script>\n",
              "    </div>\n",
              "  </div>\n",
              "  "
            ]
          },
          "metadata": {},
          "execution_count": 9
        }
      ]
    },
    {
      "cell_type": "markdown",
      "source": [
        "## Punctuations"
      ],
      "metadata": {
        "id": "xKyqJPCht3gp"
      }
    },
    {
      "cell_type": "code",
      "source": [
        "df2['cleaned_text'].fillna(\"\", inplace = True)"
      ],
      "metadata": {
        "id": "V8EimZ6ntJKb"
      },
      "execution_count": null,
      "outputs": []
    },
    {
      "cell_type": "code",
      "source": [
        "df2['cleaned_text']=df2['cleaned_text'].apply(lambda x: re.sub('[%s]' % re.escape(string.punctuation), '', x))"
      ],
      "metadata": {
        "id": "MiR8Q5wxtJMe"
      },
      "execution_count": null,
      "outputs": []
    },
    {
      "cell_type": "markdown",
      "source": [
        "## Remove digits and words having digits"
      ],
      "metadata": {
        "id": "xwXKEeuzusbB"
      }
    },
    {
      "cell_type": "code",
      "source": [
        "df2['cleaned_text']=df2['cleaned_text'].apply(lambda x: re.sub('\\w*\\d\\w*','', x))"
      ],
      "metadata": {
        "id": "rcniXM8PtJQg"
      },
      "execution_count": null,
      "outputs": []
    },
    {
      "cell_type": "markdown",
      "source": [
        "## Removing English words from Reviews"
      ],
      "metadata": {
        "id": "TbPLseu0DuVV"
      }
    },
    {
      "cell_type": "code",
      "source": [
        "df2['cleaned_text']=df2['cleaned_text'].apply(lambda x: re.sub('[a-zA-Z]','', x))"
      ],
      "metadata": {
        "id": "7Hm2LKm1Dtia"
      },
      "execution_count": null,
      "outputs": []
    },
    {
      "cell_type": "code",
      "source": [],
      "metadata": {
        "id": "9VluIkL4Dt3N"
      },
      "execution_count": null,
      "outputs": []
    },
    {
      "cell_type": "markdown",
      "source": [
        "Some of the EDA techniques to be followed are:\n",
        "1. Tokenization\n",
        "2. Stop word removal"
      ],
      "metadata": {
        "id": "UPZPDpEc4Qnr"
      }
    },
    {
      "cell_type": "markdown",
      "source": [
        "## 1. Tokenization"
      ],
      "metadata": {
        "id": "hvXhoWao4SzD"
      }
    },
    {
      "cell_type": "code",
      "source": [
        "def tokenization(indic_string):\n",
        "    tokens = []\n",
        "    for t in indic_tokenize.trivial_tokenize(indic_string):\n",
        "        tokens.append(t)\n",
        "    return tokens\n",
        "\n",
        "df2['cleaned_text'] = df2['cleaned_text'].apply(lambda x: tokenization(x))"
      ],
      "metadata": {
        "id": "aLh-yS83HPLF"
      },
      "execution_count": null,
      "outputs": []
    },
    {
      "cell_type": "code",
      "source": [
        "df2.head()"
      ],
      "metadata": {
        "colab": {
          "base_uri": "https://localhost:8080/",
          "height": 206
        },
        "id": "DQk2PyvqHZvC",
        "outputId": "11c857c7-1d3a-4116-fa8a-3c2d03a26b1f"
      },
      "execution_count": null,
      "outputs": [
        {
          "output_type": "execute_result",
          "data": {
            "text/plain": [
              "                                                text experience  \\\n",
              "0  लोग वतन तक खा जाते हैं इसका इसे यकीन नहींमान ज...   negative   \n",
              "1  गुमनाम है वतन पर मिटने वाले लोग आतन्कवादियों स...   negative   \n",
              "2  ज़ंजीर बदली जा रही थी मैं समझा था रिहाई हो गयी है   negative   \n",
              "3  यूपी में बड़े स्तर पर दंगे करवा सकती है बीजेपी...   negative   \n",
              "4  अंग्रेजी नहीं आती है इसलिए हिन्दी ट्विट ज्यादा...   negative   \n",
              "\n",
              "                                        cleaned_text  \n",
              "0  [लोग, वतन, तक, खा, जाते, हैं, इसका, इसे, यकीन,...  \n",
              "1  [गुमनाम, है, वतन, पर, मिटने, वाले, लोग, आतन्कव...  \n",
              "2  [ज़ंजीर, बदली, जा, रही, थी, मैं, समझा, था, रिह...  \n",
              "3  [यूपी, में, बड़े, स्तर, पर, दंगे, करवा, सकती, ...  \n",
              "4  [अंग्रेजी, नहीं, आती, है, इसलिए, हिन्दी, ट्विट...  "
            ],
            "text/html": [
              "\n",
              "  <div id=\"df-80755cfc-f8b5-4931-8db0-bac6699d4d3b\">\n",
              "    <div class=\"colab-df-container\">\n",
              "      <div>\n",
              "<style scoped>\n",
              "    .dataframe tbody tr th:only-of-type {\n",
              "        vertical-align: middle;\n",
              "    }\n",
              "\n",
              "    .dataframe tbody tr th {\n",
              "        vertical-align: top;\n",
              "    }\n",
              "\n",
              "    .dataframe thead th {\n",
              "        text-align: right;\n",
              "    }\n",
              "</style>\n",
              "<table border=\"1\" class=\"dataframe\">\n",
              "  <thead>\n",
              "    <tr style=\"text-align: right;\">\n",
              "      <th></th>\n",
              "      <th>text</th>\n",
              "      <th>experience</th>\n",
              "      <th>cleaned_text</th>\n",
              "    </tr>\n",
              "  </thead>\n",
              "  <tbody>\n",
              "    <tr>\n",
              "      <th>0</th>\n",
              "      <td>लोग वतन तक खा जाते हैं इसका इसे यकीन नहींमान ज...</td>\n",
              "      <td>negative</td>\n",
              "      <td>[लोग, वतन, तक, खा, जाते, हैं, इसका, इसे, यकीन,...</td>\n",
              "    </tr>\n",
              "    <tr>\n",
              "      <th>1</th>\n",
              "      <td>गुमनाम है वतन पर मिटने वाले लोग आतन्कवादियों स...</td>\n",
              "      <td>negative</td>\n",
              "      <td>[गुमनाम, है, वतन, पर, मिटने, वाले, लोग, आतन्कव...</td>\n",
              "    </tr>\n",
              "    <tr>\n",
              "      <th>2</th>\n",
              "      <td>ज़ंजीर बदली जा रही थी मैं समझा था रिहाई हो गयी है</td>\n",
              "      <td>negative</td>\n",
              "      <td>[ज़ंजीर, बदली, जा, रही, थी, मैं, समझा, था, रिह...</td>\n",
              "    </tr>\n",
              "    <tr>\n",
              "      <th>3</th>\n",
              "      <td>यूपी में बड़े स्तर पर दंगे करवा सकती है बीजेपी...</td>\n",
              "      <td>negative</td>\n",
              "      <td>[यूपी, में, बड़े, स्तर, पर, दंगे, करवा, सकती, ...</td>\n",
              "    </tr>\n",
              "    <tr>\n",
              "      <th>4</th>\n",
              "      <td>अंग्रेजी नहीं आती है इसलिए हिन्दी ट्विट ज्यादा...</td>\n",
              "      <td>negative</td>\n",
              "      <td>[अंग्रेजी, नहीं, आती, है, इसलिए, हिन्दी, ट्विट...</td>\n",
              "    </tr>\n",
              "  </tbody>\n",
              "</table>\n",
              "</div>\n",
              "      <button class=\"colab-df-convert\" onclick=\"convertToInteractive('df-80755cfc-f8b5-4931-8db0-bac6699d4d3b')\"\n",
              "              title=\"Convert this dataframe to an interactive table.\"\n",
              "              style=\"display:none;\">\n",
              "        \n",
              "  <svg xmlns=\"http://www.w3.org/2000/svg\" height=\"24px\"viewBox=\"0 0 24 24\"\n",
              "       width=\"24px\">\n",
              "    <path d=\"M0 0h24v24H0V0z\" fill=\"none\"/>\n",
              "    <path d=\"M18.56 5.44l.94 2.06.94-2.06 2.06-.94-2.06-.94-.94-2.06-.94 2.06-2.06.94zm-11 1L8.5 8.5l.94-2.06 2.06-.94-2.06-.94L8.5 2.5l-.94 2.06-2.06.94zm10 10l.94 2.06.94-2.06 2.06-.94-2.06-.94-.94-2.06-.94 2.06-2.06.94z\"/><path d=\"M17.41 7.96l-1.37-1.37c-.4-.4-.92-.59-1.43-.59-.52 0-1.04.2-1.43.59L10.3 9.45l-7.72 7.72c-.78.78-.78 2.05 0 2.83L4 21.41c.39.39.9.59 1.41.59.51 0 1.02-.2 1.41-.59l7.78-7.78 2.81-2.81c.8-.78.8-2.07 0-2.86zM5.41 20L4 18.59l7.72-7.72 1.47 1.35L5.41 20z\"/>\n",
              "  </svg>\n",
              "      </button>\n",
              "      \n",
              "  <style>\n",
              "    .colab-df-container {\n",
              "      display:flex;\n",
              "      flex-wrap:wrap;\n",
              "      gap: 12px;\n",
              "    }\n",
              "\n",
              "    .colab-df-convert {\n",
              "      background-color: #E8F0FE;\n",
              "      border: none;\n",
              "      border-radius: 50%;\n",
              "      cursor: pointer;\n",
              "      display: none;\n",
              "      fill: #1967D2;\n",
              "      height: 32px;\n",
              "      padding: 0 0 0 0;\n",
              "      width: 32px;\n",
              "    }\n",
              "\n",
              "    .colab-df-convert:hover {\n",
              "      background-color: #E2EBFA;\n",
              "      box-shadow: 0px 1px 2px rgba(60, 64, 67, 0.3), 0px 1px 3px 1px rgba(60, 64, 67, 0.15);\n",
              "      fill: #174EA6;\n",
              "    }\n",
              "\n",
              "    [theme=dark] .colab-df-convert {\n",
              "      background-color: #3B4455;\n",
              "      fill: #D2E3FC;\n",
              "    }\n",
              "\n",
              "    [theme=dark] .colab-df-convert:hover {\n",
              "      background-color: #434B5C;\n",
              "      box-shadow: 0px 1px 3px 1px rgba(0, 0, 0, 0.15);\n",
              "      filter: drop-shadow(0px 1px 2px rgba(0, 0, 0, 0.3));\n",
              "      fill: #FFFFFF;\n",
              "    }\n",
              "  </style>\n",
              "\n",
              "      <script>\n",
              "        const buttonEl =\n",
              "          document.querySelector('#df-80755cfc-f8b5-4931-8db0-bac6699d4d3b button.colab-df-convert');\n",
              "        buttonEl.style.display =\n",
              "          google.colab.kernel.accessAllowed ? 'block' : 'none';\n",
              "\n",
              "        async function convertToInteractive(key) {\n",
              "          const element = document.querySelector('#df-80755cfc-f8b5-4931-8db0-bac6699d4d3b');\n",
              "          const dataTable =\n",
              "            await google.colab.kernel.invokeFunction('convertToInteractive',\n",
              "                                                     [key], {});\n",
              "          if (!dataTable) return;\n",
              "\n",
              "          const docLinkHtml = 'Like what you see? Visit the ' +\n",
              "            '<a target=\"_blank\" href=https://colab.research.google.com/notebooks/data_table.ipynb>data table notebook</a>'\n",
              "            + ' to learn more about interactive tables.';\n",
              "          element.innerHTML = '';\n",
              "          dataTable['output_type'] = 'display_data';\n",
              "          await google.colab.output.renderOutput(dataTable, element);\n",
              "          const docLink = document.createElement('div');\n",
              "          docLink.innerHTML = docLinkHtml;\n",
              "          element.appendChild(docLink);\n",
              "        }\n",
              "      </script>\n",
              "    </div>\n",
              "  </div>\n",
              "  "
            ]
          },
          "metadata": {},
          "execution_count": 18
        }
      ]
    },
    {
      "cell_type": "markdown",
      "source": [
        "## 2. Stop words Removal"
      ],
      "metadata": {
        "id": "fU2ZWLFC9WYK"
      }
    },
    {
      "cell_type": "code",
      "source": [
        "stp_wrds = open(\"/content/drive/MyDrive/AI Winter Project/stopwords_hindi.txt\",\"r\")"
      ],
      "metadata": {
        "id": "jlkuXHIt4Q2I"
      },
      "execution_count": null,
      "outputs": []
    },
    {
      "cell_type": "code",
      "source": [
        "stpwrds_txt=stp_wrds.read()\n",
        "stpwrds_txt=stpwrds_txt.split('\\n')"
      ],
      "metadata": {
        "id": "K6qbg1g54Q4V"
      },
      "execution_count": null,
      "outputs": []
    },
    {
      "cell_type": "code",
      "source": [
        "stopwords_hi = ['तुम','मेरी','मुझे','क्योंकि','हम','प्रति','अबकी','आगे','माननीय','शहर','बताएं','कौनसी','क्लिक','किसकी','बड़े','मैं','and','रही','आज','लें',\\\n",
        "                'आपके','मिलकर','सब','मेरे','जी','श्री','वैसा','आपका','अंदर', 'अत', 'अपना', 'अपनी', 'अपने', 'अभी', 'आदि', 'आप', 'इत्यादि', 'इन', 'इनका', \\\n",
        "                'इन्हीं', 'इन्हें', 'इन्हों', 'इस', 'इसका', 'इसकी', 'इसके', 'इसमें', 'इसी', 'इसे', 'उन', 'उनका', 'उनकी', 'उनके', 'उनको', 'उन्हीं', 'उन्हें', 'उन्हों', 'उस', \\\n",
        "                'उसके', 'उसी', 'उसे', 'एक', 'एवं', 'एस', 'ऐसे', 'और', 'कई', 'कर','करता', 'करते', 'करना', 'करने', 'करें', 'कहते', 'कहा', 'का', 'काफ़ी', 'कि', \\\n",
        "                'कितना', 'किन्हें', 'किन्हों', 'किया', 'किर', 'किस', 'किसी', 'किसे', 'की', 'कुछ', 'कुल', 'के', 'को', 'कोई', 'कौन', 'कौनसा', 'गया', 'घर', 'जब', 'जहाँ',\\\n",
        "                'जा', 'जितना', 'जिन', 'जिन्हें', 'जिन्हों', 'जिस', 'जिसे', 'जीधर', 'जैसा', 'जैसे', 'जो', 'तक', 'तब', 'तरह', 'तिन', 'तिन्हें', 'तिन्हों', 'तिस', 'तिसे', 'तो', \\\n",
        "                'था', 'थी', 'थे', 'दबारा', 'दिया', 'दुसरा', 'दूसरे', 'दो', 'द्वारा', 'न', 'नहीं', 'ना', 'निहायत', 'नीचे', 'ने', 'पर', 'पर', 'पहले', 'पूरा', 'पे', 'फिर', 'बनी', \\\n",
        "                'बही', 'बहुत', 'बाद', 'बाला', 'बिलकुल', 'भी', 'भीतर', 'मगर', 'मानो', 'मे', 'में', 'यदि', 'यह', 'यहाँ', 'यही', 'या', 'यिह', 'ये', 'रखें', 'रहा', 'रहे', 'ऱ्वासा', \\\n",
        "                'लिए', 'लिये', 'लेकिन', 'व', 'वर्ग', 'वह', 'वह', 'वहाँ', 'वहीं', 'वाले', 'वुह', 'वे', 'वग़ैरह', 'संग', 'सकता', 'सकते', 'सबसे', 'सभी', 'साथ', 'साबुत', 'साभ', \\\n",
        "                'सारा', 'से', 'सो', 'ही', 'हुआ', 'हुई', 'हुए', 'है', 'हैं', 'हो', 'होता', 'होती', 'होते', 'होना', 'होने', 'अपनि', 'जेसे', 'होति', 'सभि', 'तिंहों', 'इंहों', 'दवारा', \\\n",
        "                'इसि', 'किंहें', 'थि', 'उंहों', 'ओर', 'जिंहें', 'वहिं', 'अभि', 'बनि', 'हि', 'उंहिं', 'उंहें', 'हें', 'वगेरह', 'एसे', 'रवासा', 'कोन', 'निचे', 'काफि', 'उसि', 'पुरा', \\\n",
        "                'भितर', 'हे', 'बहि', 'वहां', 'कोइ', 'यहां', 'जिंहों', 'तिंहें', 'किसि', 'कइ', 'यहि', 'इंहिं', 'जिधर', 'इंहें', 'अदि', 'इतयादि', 'हुइ', 'कोनसा', 'इसकि', 'दुसरे', \\\n",
        "                'जहां', 'अप', 'किंहों', 'उनकि', 'भि', 'वरग', 'हुअ', 'जेसा', 'नहिं']\n",
        "\n",
        "punctuations = ['\\\\u','\\\\n', \"।\", \"/\", \"`\", '+', '\\\\', '\"', '?', '▁(', '$', '@', '[', '_', \"'\", \"!\", \",\", \":\", \"^\", \"|\", \"]\", \"=\", \"%\", \"&\", \".\", \")\", \"(\", \"#\", \"*\", \"\", \";\", \"-\", \"}\", \"{\", \"|\"]\n"
      ],
      "metadata": {
        "id": "TOsFqIw9HquX"
      },
      "execution_count": null,
      "outputs": []
    },
    {
      "cell_type": "code",
      "source": [
        "stpwrds_txt = stpwrds_txt + stopwords_hi + punctuations"
      ],
      "metadata": {
        "id": "0l9HpWLuH7-S"
      },
      "execution_count": null,
      "outputs": []
    },
    {
      "cell_type": "code",
      "source": [
        "df2['cleaned_text'] = df2.apply(lambda row: [word for word in row['cleaned_text'] if word not in stpwrds_txt], axis = 1)"
      ],
      "metadata": {
        "id": "v22K7YIkqAJy"
      },
      "execution_count": null,
      "outputs": []
    },
    {
      "cell_type": "code",
      "source": [
        "df2.head()"
      ],
      "metadata": {
        "colab": {
          "base_uri": "https://localhost:8080/",
          "height": 206
        },
        "id": "IBjqIIAEqAMG",
        "outputId": "889ddfde-35a4-453a-fc06-5b699852c134"
      },
      "execution_count": null,
      "outputs": [
        {
          "output_type": "execute_result",
          "data": {
            "text/plain": [
              "                                                text experience  \\\n",
              "0  लोग वतन तक खा जाते हैं इसका इसे यकीन नहींमान ज...   negative   \n",
              "1  गुमनाम है वतन पर मिटने वाले लोग आतन्कवादियों स...   negative   \n",
              "2  ज़ंजीर बदली जा रही थी मैं समझा था रिहाई हो गयी है   negative   \n",
              "3  यूपी में बड़े स्तर पर दंगे करवा सकती है बीजेपी...   negative   \n",
              "4  अंग्रेजी नहीं आती है इसलिए हिन्दी ट्विट ज्यादा...   negative   \n",
              "\n",
              "                                        cleaned_text  \n",
              "0  [लोग, वतन, खा, जाते, यकीन, नहींमान, जाएगा, तू,...  \n",
              "1  [गुमनाम, वतन, मिटने, लोग, आतन्कवादियों, मशहूर,...  \n",
              "2                   [ज़ंजीर, बदली, समझा, रिहाई, गयी]  \n",
              "3  [यूपी, बड़े, स्तर, दंगे, करवा, सकती, बीजेपी, म...  \n",
              "4  [अंग्रेजी, आती, इसलिए, हिन्दी, ट्विट, ज्यादा, ...  "
            ],
            "text/html": [
              "\n",
              "  <div id=\"df-fee367ba-6fbb-4ca1-aff7-f08c21ab6892\">\n",
              "    <div class=\"colab-df-container\">\n",
              "      <div>\n",
              "<style scoped>\n",
              "    .dataframe tbody tr th:only-of-type {\n",
              "        vertical-align: middle;\n",
              "    }\n",
              "\n",
              "    .dataframe tbody tr th {\n",
              "        vertical-align: top;\n",
              "    }\n",
              "\n",
              "    .dataframe thead th {\n",
              "        text-align: right;\n",
              "    }\n",
              "</style>\n",
              "<table border=\"1\" class=\"dataframe\">\n",
              "  <thead>\n",
              "    <tr style=\"text-align: right;\">\n",
              "      <th></th>\n",
              "      <th>text</th>\n",
              "      <th>experience</th>\n",
              "      <th>cleaned_text</th>\n",
              "    </tr>\n",
              "  </thead>\n",
              "  <tbody>\n",
              "    <tr>\n",
              "      <th>0</th>\n",
              "      <td>लोग वतन तक खा जाते हैं इसका इसे यकीन नहींमान ज...</td>\n",
              "      <td>negative</td>\n",
              "      <td>[लोग, वतन, खा, जाते, यकीन, नहींमान, जाएगा, तू,...</td>\n",
              "    </tr>\n",
              "    <tr>\n",
              "      <th>1</th>\n",
              "      <td>गुमनाम है वतन पर मिटने वाले लोग आतन्कवादियों स...</td>\n",
              "      <td>negative</td>\n",
              "      <td>[गुमनाम, वतन, मिटने, लोग, आतन्कवादियों, मशहूर,...</td>\n",
              "    </tr>\n",
              "    <tr>\n",
              "      <th>2</th>\n",
              "      <td>ज़ंजीर बदली जा रही थी मैं समझा था रिहाई हो गयी है</td>\n",
              "      <td>negative</td>\n",
              "      <td>[ज़ंजीर, बदली, समझा, रिहाई, गयी]</td>\n",
              "    </tr>\n",
              "    <tr>\n",
              "      <th>3</th>\n",
              "      <td>यूपी में बड़े स्तर पर दंगे करवा सकती है बीजेपी...</td>\n",
              "      <td>negative</td>\n",
              "      <td>[यूपी, बड़े, स्तर, दंगे, करवा, सकती, बीजेपी, म...</td>\n",
              "    </tr>\n",
              "    <tr>\n",
              "      <th>4</th>\n",
              "      <td>अंग्रेजी नहीं आती है इसलिए हिन्दी ट्विट ज्यादा...</td>\n",
              "      <td>negative</td>\n",
              "      <td>[अंग्रेजी, आती, इसलिए, हिन्दी, ट्विट, ज्यादा, ...</td>\n",
              "    </tr>\n",
              "  </tbody>\n",
              "</table>\n",
              "</div>\n",
              "      <button class=\"colab-df-convert\" onclick=\"convertToInteractive('df-fee367ba-6fbb-4ca1-aff7-f08c21ab6892')\"\n",
              "              title=\"Convert this dataframe to an interactive table.\"\n",
              "              style=\"display:none;\">\n",
              "        \n",
              "  <svg xmlns=\"http://www.w3.org/2000/svg\" height=\"24px\"viewBox=\"0 0 24 24\"\n",
              "       width=\"24px\">\n",
              "    <path d=\"M0 0h24v24H0V0z\" fill=\"none\"/>\n",
              "    <path d=\"M18.56 5.44l.94 2.06.94-2.06 2.06-.94-2.06-.94-.94-2.06-.94 2.06-2.06.94zm-11 1L8.5 8.5l.94-2.06 2.06-.94-2.06-.94L8.5 2.5l-.94 2.06-2.06.94zm10 10l.94 2.06.94-2.06 2.06-.94-2.06-.94-.94-2.06-.94 2.06-2.06.94z\"/><path d=\"M17.41 7.96l-1.37-1.37c-.4-.4-.92-.59-1.43-.59-.52 0-1.04.2-1.43.59L10.3 9.45l-7.72 7.72c-.78.78-.78 2.05 0 2.83L4 21.41c.39.39.9.59 1.41.59.51 0 1.02-.2 1.41-.59l7.78-7.78 2.81-2.81c.8-.78.8-2.07 0-2.86zM5.41 20L4 18.59l7.72-7.72 1.47 1.35L5.41 20z\"/>\n",
              "  </svg>\n",
              "      </button>\n",
              "      \n",
              "  <style>\n",
              "    .colab-df-container {\n",
              "      display:flex;\n",
              "      flex-wrap:wrap;\n",
              "      gap: 12px;\n",
              "    }\n",
              "\n",
              "    .colab-df-convert {\n",
              "      background-color: #E8F0FE;\n",
              "      border: none;\n",
              "      border-radius: 50%;\n",
              "      cursor: pointer;\n",
              "      display: none;\n",
              "      fill: #1967D2;\n",
              "      height: 32px;\n",
              "      padding: 0 0 0 0;\n",
              "      width: 32px;\n",
              "    }\n",
              "\n",
              "    .colab-df-convert:hover {\n",
              "      background-color: #E2EBFA;\n",
              "      box-shadow: 0px 1px 2px rgba(60, 64, 67, 0.3), 0px 1px 3px 1px rgba(60, 64, 67, 0.15);\n",
              "      fill: #174EA6;\n",
              "    }\n",
              "\n",
              "    [theme=dark] .colab-df-convert {\n",
              "      background-color: #3B4455;\n",
              "      fill: #D2E3FC;\n",
              "    }\n",
              "\n",
              "    [theme=dark] .colab-df-convert:hover {\n",
              "      background-color: #434B5C;\n",
              "      box-shadow: 0px 1px 3px 1px rgba(0, 0, 0, 0.15);\n",
              "      filter: drop-shadow(0px 1px 2px rgba(0, 0, 0, 0.3));\n",
              "      fill: #FFFFFF;\n",
              "    }\n",
              "  </style>\n",
              "\n",
              "      <script>\n",
              "        const buttonEl =\n",
              "          document.querySelector('#df-fee367ba-6fbb-4ca1-aff7-f08c21ab6892 button.colab-df-convert');\n",
              "        buttonEl.style.display =\n",
              "          google.colab.kernel.accessAllowed ? 'block' : 'none';\n",
              "\n",
              "        async function convertToInteractive(key) {\n",
              "          const element = document.querySelector('#df-fee367ba-6fbb-4ca1-aff7-f08c21ab6892');\n",
              "          const dataTable =\n",
              "            await google.colab.kernel.invokeFunction('convertToInteractive',\n",
              "                                                     [key], {});\n",
              "          if (!dataTable) return;\n",
              "\n",
              "          const docLinkHtml = 'Like what you see? Visit the ' +\n",
              "            '<a target=\"_blank\" href=https://colab.research.google.com/notebooks/data_table.ipynb>data table notebook</a>'\n",
              "            + ' to learn more about interactive tables.';\n",
              "          element.innerHTML = '';\n",
              "          dataTable['output_type'] = 'display_data';\n",
              "          await google.colab.output.renderOutput(dataTable, element);\n",
              "          const docLink = document.createElement('div');\n",
              "          docLink.innerHTML = docLinkHtml;\n",
              "          element.appendChild(docLink);\n",
              "        }\n",
              "      </script>\n",
              "    </div>\n",
              "  </div>\n",
              "  "
            ]
          },
          "metadata": {},
          "execution_count": 34
        }
      ]
    },
    {
      "cell_type": "markdown",
      "source": [
        "## Remove new line"
      ],
      "metadata": {
        "id": "oCf6HwQjJ-pD"
      }
    },
    {
      "cell_type": "code",
      "source": [
        "for i in range(len(df2)):\n",
        "    df2['cleaned_text'][i] = [s.replace(\"\\n\", \"\") for s in df2['cleaned_text'][i]]\n",
        "    df2['cleaned_text'][i] = [s.replace(\"।\", \"\") for s in df2['cleaned_text'][i]]\n",
        "    df2['cleaned_text'][i] = [s.replace(\"…\", \"\") for s in df2['cleaned_text'][i]]"
      ],
      "metadata": {
        "id": "QhCQHYdjJ-Qg"
      },
      "execution_count": null,
      "outputs": []
    },
    {
      "cell_type": "code",
      "source": [
        "df2['cleaned_text'] = df2['cleaned_text'].apply(lambda x: list(filter(lambda y: y != '', x)))"
      ],
      "metadata": {
        "id": "O3YzSEQuPx70"
      },
      "execution_count": null,
      "outputs": []
    },
    {
      "cell_type": "code",
      "source": [
        "corpus_list =[]\n",
        "for i in range(len(df)):\n",
        "    corpus_list +=df2['cleaned_text'][i]\n",
        "counter=collections.Counter(corpus_list)\n",
        "print(counter)"
      ],
      "metadata": {
        "colab": {
          "base_uri": "https://localhost:8080/"
        },
        "id": "Hwhk38HGqAQA",
        "outputId": "078a3887-acf6-4706-9327-cc59f1c873d8"
      },
      "execution_count": null,
      "outputs": [
        {
          "output_type": "stream",
          "name": "stdout",
          "text": [
            "Counter({'दिल्ली': 429, 'क्या': 393, 'देखिए': 312, 'गई': 309, 'फिल्म': 297, 'अब': 281, 'पुलिस': 271, 'लोगों': 262, 'मोदी': 223, 'गए': 220, 'देश': 219, 'बात': 212, 'बजे': 212, 'सरकार': 199, 'टीम': 194, 'भारत': 173, 'दिन': 172, 'साल': 171, 'होगा': 170, 'काम': 163, 'उन्होंने': 161, 'वो': 160, 'लोग': 157, 'लेकर': 154, 'बार': 154, 'दी': 149, 'कांग्रेस': 148, 'आजतक': 144, 'वीडियो': 138, 'चाहिए': 133, 'समय': 130, 'बीच': 125, 'काफी': 125, 'क्यों': 124, 'दे': 123, 'आ': 120, 'हर': 120, 'मौत': 116, 'देने': 116, 'लाइव': 115, 'नाम': 113, 'दोनों': 112, 'सिंह': 111, 'चुनाव': 109, 'ज्यादा': 108, 'कार्यक्रम': 108, 'हत्या': 107, 'राहुल': 106, 'अगर': 104, 'सवाल': 103, 'बीजेपी': 102, 'जाता': 102, 'इलाके': 102, 'बना': 101, 'बोल': 101, 'हूं': 100, 'लिया': 99, 'सिर्फ': 98, 'कारण': 98, 'पूरी': 98, 'अन्य': 98, 'पास': 95, 'जीत': 95, 'हमारे': 94, 'शुरू': 91, 'पाकिस्तान': 90, 'लगा': 87, 'रिपोर्ट': 87, 'वजह': 85, 'वाली': 85, 'मामले': 84, 'नेता': 82, 'ऐसा': 81, 'नही': 80, 'तीन': 80, 'ले': 79, 'मैच': 79, 'भारतीय': 79, 'सामने': 79, 'बोले': 79, 'गुजरात': 79, 'लगातार': 79, 'कश्मीर': 78, 'खुद': 78, 'पिछले': 78, 'बड़ी': 78, 'जनता': 78, 'जाती': 77, 'कहानी': 77, 'खिलाफ': 75, 'राम': 74, 'कोर्ट': 74, 'जाने': 74, 'व्यक्ति': 73, 'होगी': 72, 'बनाने': 71, 'बड़ा': 71, 'मंत्री': 71, 'जवाब': 71, 'बच्चों': 71, 'शाम': 71, 'मिला': 70, 'आरोप': 70, 'अच्छा': 70, 'हल्ला': 70, 'रूप': 69, 'महिला': 69, 'बहस': 68, 'हमें': 67, 'आया': 67, 'जारी': 67, 'करती': 67, 'सही': 66, 'कम': 66, 'अच्छी': 66, 'बताया': 66, 'किरदार': 66, 'गिरफ्तार': 66, 'आने': 65, 'कहना': 65, 'करोड़': 65, 'देखें': 65, 'उसकी': 64, 'चल': 64, 'उम्मीद': 63, 'दौरान': 63, 'पार्टी': 63, 'बन': 62, 'गांधी': 62, 'जाएगा': 61, 'इसलिए': 61, 'ऐसी': 61, 'बाहर': 61, 'पानी': 61, 'पड़ा': 61, 'रात': 60, 'हाथ': 60, 'हालत': 59, 'इससे': 59, 'मंदिर': 59, 'नया': 58, 'आई': 58, 'ली': 58, 'वाला': 58, 'बंद': 57, 'इंडिया': 57, 'लगता': 56, 'परिवार': 56, 'कार्य': 56, 'बारे': 56, 'अधिक': 56, 'संवाददाता': 56, 'तरीके': 56, 'प्रदर्शन': 56, 'जानकारी': 55, 'यूपी': 54, 'अच्छे': 54, 'कभी': 54, 'रह': 54, 'फ़िल्म': 54, 'असर': 53, 'देते': 53, 'कैसे': 53, 'आए': 52, 'मिल': 52, 'है': 52, 'बावजूद': 52, 'बैंक': 51, 'मौसम': 51, 'मामला': 51, 'विकास': 51, 'आग': 51, 'सटीक': 51, 'हूँ': 50, 'दिल': 50, 'नजर': 50, 'जाए': 50, 'मुंबई': 50, 'आरोपी': 50, 'जाते': 49, 'जिंदगी': 49, 'देखने': 49, 'भाजपा': 49, 'बाजार': 49, 'ठीक': 49, 'घटना': 49, 'क्षेत्र': 49, 'सकती': 48, 'दिए': 48, 'रहने': 48, 'किए': 48, 'तौर': 48, 'रखा': 48, 'बयान': 47, 'जगह': 47, 'हार': 47, 'मदद': 47, 'प्यार': 47, 'एंकर': 47, 'खेल': 47, 'सुरक्षा': 47, 'मिली': 46, 'दिनों': 46, 'रन': 46, 'जांच': 46, 'आपको': 46, 'लगी': 46, 'चाहता': 46, 'कह': 45, 'मेरा': 45, 'करेंगे': 45, 'खान': 45, 'आम': 45, 'स्कूल': 45, 'प्रधानमंत्री': 45, 'बच्चे': 45, 'जीवन': 45, 'बस': 44, 'बढ़': 44, 'बिजली': 44, 'सेना': 44, 'लग': 44, 'समाज': 44, 'इतना': 44, 'तैयार': 44, 'दर्शकों': 44, 'मुद्दे': 44, 'पता': 43, 'आतंकी': 43, 'मिलने': 43, 'डर': 43, 'जान': 43, 'चार': 43, 'चलते': 43, 'पूरा': 43, 'अस्पताल': 43, 'खास': 43, 'सुनिए': 43, 'भारी': 42, 'कुमार': 42, 'बातचीत': 42, 'नगर': 42, 'बिना': 42, 'लगे': 41, 'आदमी': 41, 'उसका': 41, 'जबरदस्त': 41, 'पहली': 41, 'खबर': 41, 'लाख': 41, 'चीन': 41, 'प्रदेश': 41, 'सुबह': 41, 'साबित': 41, 'कोशिश': 41, 'शो': 41, 'लाईव': 41, 'शर्मा': 41, 'अपेक्षा': 41, 'बेहद': 41, 'हल्लाबोल': 41, 'कल': 40, 'कमी': 40, 'दूर': 40, 'क्रिकेट': 40, 'हा': 40, 'वालों': 40, 'योगी': 40, 'मां': 40, 'बेहतर': 40, 'कदम': 40, 'दृश्यों': 40, 'दुनिया': 39, 'बने': 39, 'मैंने': 39, 'बारिश': 39, 'पाक': 39, 'पूर्व': 39, 'पड़': 39, 'मुश्किल': 39, 'बच्ची': 39, 'देखिये': 39, 'अलग': 39, 'केस': 39, 'निर्देशक': 39, 'चाहती': 39, 'गांव': 38, 'हाल': 38, 'हालात': 38, 'हमले': 38, 'दर्ज': 38, 'के': 38, 'फिल्मों': 38, 'कंपनी': 38, 'गोली': 38, 'टक्कर': 38, 'पिता': 37, 'जिले': 37, 'वक्त': 37, 'तरफ': 37, 'इस्तेमाल': 37, 'कार': 37, 'शादी': 37, 'बुरा': 36, 'वोट': 36, 'देखा': 36, 'केजरीवाल': 36, 'हमने': 36, 'धर्म': 36, 'पारी': 36, 'देख': 36, 'पीएम': 36, 'मीडिया': 35, 'मार': 35, 'करके': 35, 'हमला': 35, 'कहीं': 35, 'बेटे': 35, 'चाहते': 35, 'अंतिम': 35, 'जाएंगे': 35, 'घंटे': 35, 'नई': 35, 'बॉलीवुड': 35, 'प्रयास': 35, 'बड़े': 34, 'हमेशा': 34, 'विरोध': 34, 'खत्म': 34, 'उसने': 34, 'सुधार': 34, 'किसान': 34, 'लगाया': 34, 'थोड़ा': 34, 'मुताबिक': 34, 'सके': 34, 'अलावा': 34, 'फिल्\\u200dम': 34, 'धोनी': 33, 'बिहार': 33, 'जिससे': 33, 'जेल': 33, 'जाना': 33, 'बनाया': 33, 'होंगे': 33, 'पत्नी': 33, 'सड़क': 33, 'नोएडा': 33, 'रखने': 33, 'परीक्षा': 33, 'हालांकि': 33, 'कलाकारों': 33, 'आती': 32, 'पीछे': 32, 'चुके': 32, 'शिक्षा': 32, 'सुंदर': 32, 'यात्रा': 32, 'फैसला': 32, 'राजस्थान': 32, 'विभाग': 32, 'मजबूर': 32, 'मानना': 32, 'सुखद': 32, 'अभिनय': 32, 'पाए': 32, 'सीधे': 32, 'जल': 31, 'आता': 31, 'भाई': 31, 'तहत': 31, 'बनने': 31, 'कानून': 31, 'राजनीति': 31, 'मांग': 31, 'बाढ़': 31, 'संख्या': 31, 'नरेंद्र': 31, 'लड़की': 31, 'पंजाब': 31, 'कलाकार': 31, 'मेहनत': 31, 'नए': 31, 'कार्रवाई': 31, 'इतनी': 30, 'याद': 30, 'शुभ': 30, 'केंद्र': 30, 'बाबा': 30, 'समस्या': 30, 'छोड़': 30, 'रहते': 30, 'जरूरत': 30, 'विजय': 30, 'पसंद': 30, 'स्थिति': 30, 'कप्तान': 30, 'रुपए': 30, 'अधिकारी': 30, '\\u200b': 30, 'वर्ष': 30, 'मौके': 30, 'तेज': 30, 'बनाए': 30, 'शानदार': 30, 'युवक': 30, 'पहुंचे': 30, 'बता': 30, 'प्रभाव': 30, 'रुपये': 30, 'कब': 29, 'आते': 29, 'हमारा': 29, 'होकर': 29, 'जरूर': 29, 'सलमान': 29, 'देता': 29, 'आसान': 29, 'पैसा': 29, 'ट्रेन': 29, 'देशों': 29, 'करीब': 29, 'घायल': 29, 'रहें': 29, 'जवानों': 29, 'सरकारी': 29, 'स्पेशल': 29, 'आकर्षक': 29, 'मच': 29, 'सारे': 28, 'लेने': 28, 'ऊपर': 28, 'धन्यवाद': 28, 'भर': 28, 'विधायक': 28, 'देर': 28, 'संभव': 28, 'हों': 28, 'व्यापारियों': 28, 'विवाद': 28, 'शख्स': 28, 'गयी': 27, 'स्तर': 27, 'पाया': 27, 'देखते': 27, 'जय': 27, 'जाएगी': 27, 'जवान': 27, 'गंभीर': 27, 'देखकर': 27, 'बेटी': 27, 'निराश': 27, 'कमजोर': 27, 'किरदारों': 27, 'जरूरी': 26, 'केवल': 26, 'सी': 26, 'शामिल': 26, 'चिंताजनक': 26, 'आखिर': 26, 'खुलासा': 26, 'बलात्कार': 26, 'फोन': 26, 'मुख्य': 26, 'महीने': 26, 'युवा': 26, 'हिंसा': 26, 'लापरवाही': 26, 'मजबूत': 26, 'अक्षय': 26, 'मैदान': 26, 'किन्तु': 26, 'जिला': 25, 'गलत': 25, 'चला': 25, 'मर': 25, 'मौका': 25, 'समझ': 25, 'आतंक': 25, 'जमीन': 25, 'रंग': 25, 'पटेल': 25, 'तिवारी': 25, 'जीतना': 25, 'योजना': 25, 'सामना': 25, 'खराब': 25, 'निश्चित': 25, 'एक्शन': 25, 'कारोबार': 25, 'दिखा': 24, 'रहता': 24, 'साजिश': 24, 'देती': 24, 'मन': 24, 'देना': 24, 'बदल': 24, 'आशा': 24, 'मुस्लिम': 24, 'बातों': 24, 'सर': 24, 'अभिनेता': 24, 'लोकसभा': 24, 'माँ': 24, 'दिवस': 24, 'दोबारा': 24, 'शायद': 24, 'मुख्यमंत्री': 24, 'आर्थिक': 24, 'बल्कि': 24, 'बेकार': 24, 'स्वास्थ्य': 24, 'रेप': 24, 'साफ': 24, 'गति': 24, 'खुदकुशी': 24, 'पहुंचा': 24, 'तलाक': 24, 'अग्रसर': 24, 'शिकायत': 23, 'बचाने': 23, 'गुस्सा': 23, 'करे': 23, 'बाकी': 23, 'तैयारी': 23, 'गुरु': 23, 'राज': 23, 'करो': 23, 'भाव': 23, 'जिसमें': 23, 'व्यवस्था': 23, 'टूट': 23, 'ध्यान': 23, 'रहती': 23, 'बातें': 23, 'वाकई': 23, 'कहां': 23, 'पैसे': 23, 'पत्र': 23, 'अगले': 23, 'दिखाया': 23, 'फ़िल्म': 23, 'मासूम': 23, 'बेहतरीन': 23, 'पहुंच': 23, 'गेट': 23, 'ढंग': 23, 'हिंदी': 23, 'सका': 23, 'अनुभव': 23, 'कठिन': 23, 'उपयोगी': 23, 'खिलाड़ियों': 23, 'आश्वस्त': 23, 'विपरीत': 23, 'सुप्रीम': 22, 'जबकि': 22, 'नेताओं': 22, 'महिलाओं': 22, 'मतलब': 22, 'अदालत': 22, 'लगभग': 22, 'हिस्सा': 22, 'सच': 22, 'शरीर': 22, 'ओवर': 22, 'में': 22, 'रोहित': 22, 'बढ़ती': 22, 'मर्डर': 22, 'आपकी': 22, 'लिखा': 22, 'सीख': 22, 'संवाद': 22, 'प्रभावित': 22, 'खरा': 22, 'करेगी': 22, 'प्रशासन': 22, 'भीषण': 22, 'ऑपरेशन': 22, 'मुमकिन': 22, 'भगदड़': 22, 'विवश': 22, 'गये': 21, 'हिंदुस्तान': 21, 'लोगो': 21, 'ईमानदार': 21, 'चोर': 21, 'पड़े': 21, 'गृह': 21, 'मत': 21, 'देंगे': 21, 'सा': 21, 'इतने': 21, 'दौर': 21, 'चली': 21, 'रहेगा': 21, 'सीएम': 21, 'सियासत': 21, 'धमकी': 21, 'हार्दिक': 21, 'सात': 21, 'परेशान': 21, 'भीड़': 21, 'मिले': 21, 'सफल': 21, 'भर्ती': 21, 'किसानों': 21, 'जिम्मेदारी': 21, 'पोल': 21, 'साथ': 21, 'सुरक्षित': 21, 'प्लान': 21, 'दिलचस्प': 21, 'दिख': 21, 'बिल्कुल': 21, 'मौजूद': 21, 'रोचक': 21, 'अंजना': 21, 'प्रभावशाली': 21, 'बदमाशों': 21, 'कमांडो': 21, 'सर्वे': 21, 'टूर्नामेंट': 21, 'पूरे': 21, 'बल्लेबाज': 21, 'दीवाना': 21, 'बल्लेबाजी': 21, 'लाभान्वित': 21, 'आईपीएल': 21, 'छह': 21, 'कायल': 21, 'कांड': 20, 'फायदा': 20, 'पहला': 20, 'हिंदू': 20, 'दहशत': 20, 'बीमारी': 20, 'सीमा': 20, 'डाला': 20, 'सक्रिय': 20, 'चोरी': 20, 'आंदोलन': 20, 'पांच': 20, 'आधार': 20, 'गठबंधन': 20, 'लेखक': 20, 'जानदार': 20, 'राहत': 20, 'कसर': 20, 'तेजी': 20, 'थीं': 20, 'शुरुआत': 20, 'आतंकियों': 20, 'छात्र': 20, 'जरिए': 20, 'जिसके': 20, 'वंचित': 20, 'मैचों': 20, 'सफलता': 19, 'खुश': 19, 'हादसे': 19, 'जम्मूकश्मीर': 19, 'लड़ाई': 19, 'कितने': 19, 'पेश': 19, 'सोने': 19, 'इंतजार': 19, 'बैठे': 19, 'अहम': 19, 'इनके': 19, 'बचना': 19, 'भाग': 19, 'मार्केट': 19, 'लोकतंत्र': 19, 'न्याय': 19, 'वाह': 19, 'भाषण': 19, 'करेगा': 19, 'मिनट': 19, 'आखिरी': 19, 'क्राइम': 19, 'पहुंची': 19, 'ओम': 19, 'सांसद': 19, 'राज्य': 19, 'आयोग': 19, 'प्रतिशत': 19, 'विकेट': 19, 'कराया': 19, 'सवालों': 19, 'बैठक': 19, 'बुलंद': 19, 'दृश्य': 19, 'दर्शक': 19, 'गर्मी': 19, 'संदेश': 19, 'लगती': 19, 'अयोध्या': 19, 'भगवान': 19, 'बरामद': 19, 'बंगाल': 19, 'पटकथा': 19, 'गाने': 19, 'दिखाई': 19, 'दूसरी': 19, 'चेन्नई': 19, 'लगाने': 19, 'बढ़ाने': 19, 'भूमिका': 19, 'वृद्धि': 19, 'तय': 19, 'विदेशी': 19, 'स्वीकृत': 19, 'दोस्त': 18, 'राय': 18, 'मनुष्य': 18, 'बम': 18, 'ट्विटर': 18, 'इस्लाम': 18, 'नामुमकिन': 18, 'भय': 18, 'कहने': 18, 'पंचायत': 18, 'रोड': 18, 'बेटा': 18, 'आपने': 18, 'छोटे': 18, 'अमेरिका': 18, 'तस्वीर': 18, 'उत्तर': 18, 'खाना': 18, 'की': 18, 'खिलवाड़': 18, 'दबाव': 18, 'गेस्ट': 18, 'रखी': 18, 'हमारी': 18, 'ट्रेनिंग': 18, 'खूबसूरत': 18, 'आशंका': 18, 'इंटरव्यू': 18, 'चुनावी': 18, 'स्टार': 18, 'विषय': 18, 'नज़र': 18, 'कर्मचारियों': 18, 'महसूस': 18, 'आनंद': 18, 'तमाम': 18, 'विश्व': 18, 'बखूबी': 18, 'सहज': 18, 'खतरे': 18, 'लाभ': 18, 'मरीज': 18, 'अवस्था': 18, 'बोझ': 18, 'बीसीसीआई': 18, 'चोरीछिपे': 18, 'यादव': 17, 'तीखी': 17, 'पूछा': 17, 'बाप': 17, 'दम': 17, 'सजा': 17, 'सूचना': 17, 'बदलाव': 17, 'रखना': 17, 'जंग': 17, 'संसद': 17, 'लेते': 17, 'चरित्र': 17, 'लगने': 17, 'खतरा': 17, 'चेतावनी': 17, 'पड़ेगा': 17, 'स्टेशन': 17, 'राष्ट्रीय': 17, 'सावधान': 17, 'इलाज': 17, 'वैसे': 17, 'देखना': 17, 'अभियान': 17, 'गेंद': 17, 'शहीदों': 17, 'बोली': 17, 'जिन्ना': 17, 'बोर्ड': 17, 'धार्मिक': 17, 'जल्द': 17, 'मान्य': 17, 'दवा': 17, 'कटौती': 17, 'बरकरार': 17, 'शेयर': 17, 'असफल': 17, 'फिल्में': 17, 'कश्यप': 17, 'अदाकारी': 17, 'लंबे': 17, 'फिसड्डी': 17, 'रहना': 17, 'पक्का': 17, 'फैसले': 17, 'लाश': 17, 'मार्ग': 17, 'प्रस्ताव': 17, 'चले': 17, 'बढ़िया': 17, 'अधिकांश': 17, 'निजी': 16, 'जम्मू': 16, 'आत्महत्या': 16, 'इस्लामिक': 16, 'माहौल': 16, 'मिलता': 16, 'खूबसूरती': 16, 'सूत्रों': 16, 'महाराष्ट्र': 16, 'जानिए': 16, 'हजार': 16, 'थोड़ी': 16, 'बचा': 16, 'जैसी': 16, 'महत्वपूर्ण': 16, 'पत्थर': 16, 'अवैध': 16, 'बॉर्डर': 16, 'लाल': 16, 'मोबाइल': 16, 'शाह': 16, 'अन्यथा': 16, 'बजट': 16, 'इंसान': 16, 'रहेगी': 16, 'एजेंसियों': 16, 'चुका': 16, 'सोशल': 16, 'दिल्लीः': 16, 'सीट': 16, 'आसपास': 16, 'विश्वास': 16, 'खबरों': 16, 'डाल': 16, 'टाइगर': 16, 'प्रवक्ता': 16, 'और': 16, 'घुसपैठ': 16, 'भरपूर': 16, 'बढ़ा': 16, 'स्थान': 16, 'देखी': 16, 'विचार': 16, 'दीपिका': 16, 'सुपर': 16, 'सादगी': 16, 'हासिल': 16, 'खिलाड़ी': 16, 'सहायता': 16, 'विशेष': 16, 'निभाया': 16, 'डॉक्टर': 16, 'विहार': 16, 'मारी': 16, 'गिरने': 16, 'बिल्डिंग': 16, 'विपक्ष': 16, 'ें': 16, 'मतदान': 16, 'रोगी': 16, 'बाध्य': 16, 'व्यस्त': 16, 'उन्नत': 16, 'आक्रोश': 16, 'हिन्दी': 15, 'संपत्ति': 15, 'तथा': 15, 'शिकार': 15, 'संविधान': 15, 'दर्द': 15, 'मुसलमान': 15, 'वक़्त': 15, 'देगा': 15, 'चाहे': 15, 'चैनल': 15, 'चर्चा': 15, 'चिंता': 15, 'दें': 15, 'अरविंद': 15, 'आदेश': 15, 'खर्च': 15, 'खुफिया': 15, 'चुकी': 15, 'ट्वीट': 15, 'सफाई': 15, 'खेलने': 15, 'मारा': 15, 'दफ्तर': 15, 'माहिर': 15, 'वारदात': 15, 'ऑफिस': 15, 'हवा': 15, 'मनीष': 15, 'कर्नाटक': 15, 'इमरान': 15, 'मरीजों': 15, 'करनी': 15, 'ऑफ': 15, 'ममता': 15, 'नाकाम': 15, 'बधाई': 15, 'रहीम': 15, 'श्याम': 15, 'साहब': 15, 'यात्रियों': 15, 'कैमरे': 15, 'मध्य': 15, 'बुराड़ी': 15, 'कपूर': 15, 'निवेश': 15, 'संगीत': 15, 'रख': 15, 'राजनाथ': 15, 'बल': 15, 'लय': 15, 'उठा': 15, 'प्राप्त': 15, 'मस्जिद': 15, 'मुकाबले': 15, 'राजधानी': 15, 'ब्रांच': 15, 'कराने': 15, 'गैंग': 15, 'नाजुक': 15, 'जाम': 15, 'स्कूलों': 15, 'हादसा': 15, 'छात्रा': 15, 'खड़े': 15, 'पूछताछ': 15, 'तापमान': 15, 'कुशल': 15, 'बवाल': 15, 'उपलब्ध': 15, 'आउट': 15, 'उच्च': 15, 'बिगाड़': 15, 'आपूर्ति': 15, 'किंग्स': 15, 'परिवर्तित': 15, 'पूछिए': 15, 'मुलायम': 14, 'माना': 14, 'इतिहास': 14, 'उम्र': 14, 'बिल': 14, 'मंत्रालय': 14, 'दरअसल': 14, 'पूजा': 14, 'खौफ': 14, 'गर्व': 14, 'टाटा': 14, 'जिसने': 14, 'पाकिस्तानी': 14, 'शांति': 14, 'चोट': 14, 'वही': 14, 'स्ट्राइक': 14, 'रहेंगे': 14, 'वापस': 14, 'मंच': 14, 'किये': 14, 'सारी': 14, 'रास्ते': 14, 'कमाल': 14, 'हद': 14, 'भरा': 14, 'पक्ष': 14, 'लड़के': 14, 'घाटी': 14, 'राजनीतिक': 14, 'मंगलवार': 14, 'कीमत': 14, 'दर': 14, 'सर्जिकल': 14, 'अहमदाबाद': 14, 'विधानसभा': 14, 'सुनाई': 14, 'ख़बर': 14, 'सोमवार': 14, 'टीवी': 14, 'पड़ी': 14, 'सीसीटीवी': 14, 'इंस्पेक्टर': 14, 'लौट': 14, 'जमकर': 14, 'उम्मीदवार': 14, 'उचित': 14, 'टिकट': 14, 'सरहद': 14, 'सोच': 14, 'आभारी': 14, 'मई': 14, 'अति': 14, 'सेवा': 14, 'हड़ताल': 14, 'कर्मचारी': 14, 'रमजान': 14, 'टेस्ट': 14, 'मनोज': 14, 'सुनवाई': 14, 'द': 14, 'टैक्स': 14, 'यूं': 14, 'पाने': 14, 'भले': 14, 'गुणवत्ता': 14, 'श्रीदेवी': 14, 'पाती': 14, 'मिलाकर': 14, 'अमित': 14, 'प्रतिभा': 14, 'जिनके': 14, 'प्रेम': 14, 'पर्दे': 14, 'ज्यादातर': 14, 'पड़ता': 14, 'परफॉर्मेंस': 14, 'काबू': 14, 'पी': 14, 'बजाय': 14, 'आकर्षण': 14, 'नेशनल': 14, 'इलाकों': 14, 'सवार': 14, 'गिरफ्तारी': 14, 'यमुना': 14, 'पार्क': 14, 'आरोपियों': 14, 'शांतिपूर्ण': 14, 'ताकि': 14, 'मंडी': 14, 'लगाए': 14, 'पुलवामा': 14, 'योग': 14, 'निर्माण': 14, 'फाइनल': 14, 'मुशर्रफ': 14, 'आवश्यकता': 14, 'बताई': 14, 'वापसी': 14, 'साइट': 14, 'धनी': 14, 'शूटिंग': 14, 'जस': 14, 'तस': 14, 'अनुचित': 14, 'बेबस': 14, 'जुड़िए': 14, 'अखिलेश': 13, 'बुरे': 13, 'ग्रुप': 13, 'फांसी': 13, 'तलाश': 13, 'ज़्यादा': 13, 'मानते': 13, 'दुख': 13, 'बनेगी': 13, 'सबका': 13, 'आकर': 13, 'फेसबुक': 13, 'तेल': 13, 'शब्दों': 13, 'परेशानी': 13, 'बदमाश': 13, 'भरोसा': 13, 'पश्चिम': 13, 'खून': 13, 'नेतृत्व': 13, 'निकलने': 13, 'बाल': 13, 'व्यर्थ': 13, 'असली': 13, 'संघ': 13, 'ढेर': 13, 'आवाज': 13, 'उनसे': 13, 'निकाल': 13, 'हिसाब': 13, 'पद': 13, 'रूम': 13, 'पेट्रोल': 13, 'आये': 13, 'वाहन': 13, 'बुलंदशहर': 13, 'सहयोग': 13, 'नदी': 13, 'शुक्रिया': 13, 'राजा': 13, 'जाँच': 13, 'जन्मदिन': 13, 'एकदम': 13, 'आना': 13, 'चेहरे': 13, 'हंगामा': 13, 'रोकने': 13, 'पीड़ित': 13, 'अचानक': 13, 'अफसोस': 13, 'पाई': 13, 'चारों': 13, 'अनावश्यक': 13, 'लगते': 13, 'प्रस्तुत': 13, 'उनमें': 13, 'घटनाओं': 13, 'मिश्रा': 13, 'रोमांचक': 13, 'दिशा': 13, 'विद्या': 13, 'छाप': 13, 'सकी': 13, 'उत्पादन': 13, 'भोजन': 13, 'पति': 13, 'उदास': 13, 'जुड़े': 13, 'रफ्तार': 13, 'जुटी': 13, 'छात्रों': 13, 'अज्ञात': 13, 'समर्थक': 13, 'शैलजा': 13, 'ताकत': 13, 'मिशन': 13, 'रास्ता': 13, 'पदक': 13, 'भुगतान': 13, 'घरेलू': 13, 'दायित्व': 13, 'आरक्षण': 13, 'चैट': 13, 'समझा': 12, 'इस्तीफा': 12, 'बनाई': 12, 'जन्म': 12, 'बनता': 12, 'दोस्तों': 12, 'न्यूज़': 12, 'उन्हे': 12, 'फॉलो': 12, 'जड़': 12, 'रणनीति': 12, 'विराट': 12, 'पत्रकार': 12, 'बुरी': 12, 'रोक': 12, 'निर्माता': 12, 'नक्सली': 12, 'कितनी': 12, 'उससे': 12, 'सालों': 12, 'मान': 12, 'छेड़छाड़': 12, 'शहीद': 12, 'भरोसे': 12, 'शीघ्र': 12, 'केंद्रीय': 12, '’': 12, 'आंधी': 12, 'भला': 12, 'पहचान': 12, 'हैं': 12, 'प्रियंका': 12, 'मसूद': 12, 'फूट': 12, 'निगरानी': 12, 'चुनौती': 12, 'पैदा': 12, 'चयन': 12, 'पत्रकारों': 12, 'मामूली': 12, 'फीका': 12, 'भोपाल': 12, 'ब्रिज': 12, 'बढ़ते': 12, 'होटल': 12, 'ललित': 12, 'समेत': 12, 'गाड़ी': 12, 'पतन': 12, 'दिक्कत': 12, 'मस्ती': 12, 'दिखाने': 12, 'अनेक': 12, 'अर्जुन': 12, 'ख़ास': 12, 'मजाक': 12, 'सीन': 12, 'व्यक्तियों': 12, 'होनी': 12, 'बोला': 12, 'बैंकों': 12, 'सलामत': 12, 'वीकेंड': 12, 'दुखी': 12, 'अंदाज': 12, 'रखते': 12, 'चौधरी': 12, 'स्कोर': 12, 'सफर': 12, 'मारकर': 12, 'हटाने': 12, 'गाजियाबाद': 12, 'तैनात': 12, 'मिलेगी': 12, 'गुरुवार': 12, 'स्थित': 12, 'जख्मी': 12, 'निखिल': 12, 'डिग्री': 12, 'कोटला': 12, 'असल': 12, 'दक्षिण': 12, 'तिथि': 12, 'फोटो': 12, 'टी': 12, 'तृतीया': 12, 'अर्थव्यवस्था': 12, 'स्वभाव': 12, 'संबंधी': 12, 'लक्ष्य': 12, 'परिणाम': 12, 'शुक्रगुजार': 12, 'स्टार्क': 12, 'ऎसा': 12, 'परिपक्व': 12, 'संघर्ष': 11, 'सपने': 11, 'लापता': 11, 'भूल': 11, 'दिखे': 11, 'मुझसे': 11, 'बगदादी': 11, 'मान्यता': 11, 'घातक': 11, 'पड़ती': 11, 'मुसलमानों': 11, 'सम्मान': 11, 'उतरने': 11, 'नुकसान': 11, 'जानते': 11, 'जाये': 11, 'दिखाना': 11, 'राष्ट्रपति': 11, 'करा': 11, 'बनकर': 11, 'मरे': 11, 'राव': 11, 'कंपनियों': 11, 'पाओ': 11, 'बच्चा': 11, 'बीवी': 11, 'सोनिया': 11, 'हक': 11, 'सहित': 11, 'मिलती': 11, 'काट': 11, 'अ': 11, 'कायम': 11, 'शेखर': 11, 'चाकू': 11, 'हाई': 11, 'कड़ी': 11, 'स्टोरी': 11, 'चलाने': 11, 'जोखिम': 11, 'मुठभेड़': 11, 'अटल': 11, 'चीफ': 11, 'ऑटो': 11, 'कैसा': 11, 'माता': 11, 'सलाम': 11, 'कवरेज': 11, 'छोड़कर': 11, 'दल': 11, 'राशि': 11, 'बदलने': 11, 'अध्यक्ष': 11, 'दाऊद': 11, 'स्कीम': 11, 'ग्राउंड': 11, 'प्रयोग': 11, 'गाना': 11, 'छोड़ी': 11, 'होली': 11, 'ज्ञान': 11, 'पेशकश': 11, 'भवन': 11, 'स्वागत': 11, 'व्यवहार': 11, 'विशाल': 11, 'अंत': 11, 'चलने': 11, 'लखनऊ': 11, 'खाने': 11, 'धीमी': 11, 'सोनाक्षी': 11, 'रहीं': 11, 'दुश्मन': 11, 'बाइक': 11, 'नौकरी': 11, 'धन': 11, 'खाते': 11, 'सकेगा': 11, 'संबंध': 11, 'राजकुमार': 11, 'सिनेमा': 11, 'मात्रा': 11, 'सक्षम': 11, 'आंखों': 11, 'शव': 11, 'निगम': 11, 'हिरासत': 11, 'रोहिणी': 11, 'पालन': 11, 'गिर': 11, 'सेल': 11, 'बचाव': 11, 'गरीब': 11, 'फैक्ट्री': 11, 'गर्म': 11, 'धरना': 11, 'ये': 11, 'आलोचना': 11, 'जोर': 11, 'झटका': 11, 'खेती': 11, 'मिलना': 11, 'बीमार': 11, 'भयानक': 11, 'असंभव': 11, 'पूर्णता': 11, 'गेंदबाज': 11, 'स्टेन': 11, 'खेली': 11, 'रॉयल्स': 11, 'शेन': 11, 'फिलहाल': 11, 'बॉक्स': 11, 'डालना': 11, 'पोलार्ड': 11, 'वित्त': 11, 'सत्र': 11, 'खेले': 11, 'दिवालिया': 11, 'आत्मघाती': 11, 'संक्रमित': 11, 'भयभीत': 11, 'सकुशल': 11, 'ठीकठाक': 11, 'तू': 10, 'जाकर': 10, 'मशहूर': 10, 'संस्था': 10, 'पवन': 10, 'आपस': 10, 'लड़': 10, 'सुने': 10, 'सबूत': 10, 'सिर': 10, 'स': 10, 'तेरे': 10, 'ऊर्जा': 10, 'संगठन': 10, 'सुनकर': 10, 'झूठ': 10, 'आतंकवाद': 10, 'गैस': 10, 'शक': 10, 'सदस्य': 10, 'रायडू': 10, 'हीरो': 10, 'चुनावों': 10, 'कहाँ': 10, 'जडेजा': 10, 'छूट': 10, 'आज़ादी': 10, 'पुल': 10, 'जताई': 10, 'अधिकार': 10, 'भेज': 10, 'विवाह': 10, 'ईश्वर': 10, 'लो': 10, 'छोड़ने': 10, 'चेहरा': 10, 'उतना': 10, 'उत्तराखंड': 10, 'कॉलेज': 10, 'कृषि': 10, 'बर्बाद': 10, 'किसने': 10, 'नियत': 10, 'बहन': 10, 'बर्फ': 10, 'सच्चा': 10, 'ट्रिपल': 10, 'ग्रेटर': 10, 'नाराजगी': 10, 'वर्मा': 10, 'सिद्धू': 10, 'भट्ट': 10, 'कीजिए': 10, 'तारीफ': 10, 'इंडियन': 10, 'जिन्होंने': 10, 'शर्मनाक': 10, 'कार्ड': 10, 'संपन्न': 10, 'हजारों': 10, 'का': 10, 'गणतंत्र': 10, 'दोपहर': 10, 'बनेगा': 10, 'टुडे': 10, 'यानी': 10, 'पुरानी': 10, 'जलवा': 10, 'वादा': 10, 'रोल': 10, 'राफेल': 10, 'कोच': 10, 'नंबर': 10, 'छोटा': 10, 'अमिताभ': 10, 'महज': 10, 'सामान्य': 10, 'लेखकनिर्देशक': 10, 'पादुकोण': 10, 'अदायगी': 10, 'साधारण': 10, 'उम्दा': 10, 'भूमि': 10, 'श्रद्धा': 10, 'सीमित': 10, 'पा': 10, 'क्षमता': 10, 'मिजाज': 10, 'डांस': 10, 'व्यक्त': 10, 'अतिरिक्त': 10, 'पाना': 10, 'फल': 10, 'स्मार्टफोन': 10, 'समारोह': 10, 'नमो': 10, 'गणपति': 10, 'सभा': 10, 'सामाजिक': 10, 'बुलेट': 10, 'तीनों': 10, 'शहरों': 10, 'अपील': 10, 'अभिनेत्री': 10, 'सेक्टर': 10, 'बढ़ोतरी': 10, 'अविश्वास': 10, 'आर': 10, 'विभिन्न': 10, 'सेवाओं': 10, 'व्यापारी': 10, 'परिस्थितियों': 10, 'युवती': 10, 'छत्तीसगढ़': 10, 'नक्सलियों': 10, 'प्रत्याशी': 10, 'प्रचार': 10, 'युवाओं': 10, 'निपटने': 10, 'जितेंद्र': 10, 'प्रमुख': 10, 'प्रकाश': 10, 'मूड': 10, 'हौसले': 10, 'शक्तिशाली': 10, 'पूर्ण': 10, 'सिटी': 10, 'समुदाय': 10, 'फलदायी': 10, 'नाकामयाब': 10, 'कंपनियां': 10, 'स्रोत': 10, 'क्रम': 10, 'वर्तमान': 10, 'विरुद्ध': 10, 'गेंदबाजी': 10, 'एक्टिंग': 10, 'रिलीज': 10, 'इंडियंस': 10, 'रॉयल': 10, 'चैलेंजर्स': 10, 'कारनामा': 10, 'तत्वों': 10, 'बताना': 10, 'संस्करण': 10, 'सीरीज': 10, 'खेलना': 10, 'अतिक्रमण': 10, 'देरी': 10, 'मकान': 10, 'अनहोनी': 10, 'ओवैसी': 10, 'जिहाद': 9, 'दंगा': 9, 'मोहब्बत': 9, 'मै': 9, 'साला': 9, 'मरने': 9, 'मांगी': 9, 'आएंगे': 9, 'कोहली': 9, 'शर्म': 9, 'चक्कर': 9, 'भक्त': 9, 'बा': 9, 'हिन्दू': 9, 'विरोधी': 9, 'तेरी': 9, 'घमासान': 9, 'फेल': 9, 'आजकल': 9, 'उठाने': 9, 'जाओ': 9, 'उसको': 9, 'भ्रष्टाचार': 9, 'अनुष्का': 9, 'लेता': 9, 'बैठ': 9, 'समर्थन': 9, 'सबको': 9, 'एंड': 9, 'मानव': 9, 'सड़कों': 9, 'गीत': 9, 'करार': 9, 'मज़ाक': 9, 'कोयला': 9, 'पटरी': 9, 'बहादुर': 9, 'शब्द': 9, 'पुराने': 9, 'दिमाग': 9, 'अंजाम': 9, 'ससुर': 9, 'समझना': 9, 'सच्चाई': 9, 'स्वयं': 9, 'बदले': 9, 'लेना': 9, 'सत्ता': 9, 'मानसिक': 9, 'रहस्य': 9, 'मार्च': 9, 'महाराज': 9, 'करणी': 9, 'रिपोर्टर': 9, 'शेर': 9, 'पूछने': 9, 'सेहत': 9, 'बाज़ार': 9, 'सीटों': 9, 'सियासी': 9, 'पर': 9, 'दर्दनाक': 9, 'दलित': 9, 'ज़रा': 9, 'सरल': 9, 'इस': 9, 'जायेगा': 9, 'दूसरों': 9, 'मुद्दा': 9, 'सुबोध': 9, 'समाजवादी': 9, 'अग्रवाल': 9, 'गुप्ता': 9, 'लाने': 9, 'प्रक्रिया': 9, 'वोटिंग': 9, 'नीरव': 9, 'आज': 9, 'नियम': 9, 'विज्ञान': 9, 'दुकान': 9, 'रक्षा': 9, 'पकड़े': 9, 'राज्यों': 9, 'ब': 9, 'प्रवीण': 9, 'देखे': 9, 'लगाई': 9, 'सिग्नेचर': 9, 'अलगअलग': 9, 'याचिका': 9, 'लालू': 9, 'जिसका': 9, 'नामांकन': 9, 'पेड़': 9, 'हंसी': 9, 'मनोरंजन': 9, 'अवश्य': 9, 'कॉमेडी': 9, 'उपयोग': 9, 'स्क्रीनप्ले': 9, 'अत्यंत': 9, 'चीजों': 9, 'मात्र': 9, 'अवतार': 9, 'योगदान': 9, 'शुरूआत': 9, 'राजीव': 9, 'प्रशंसकों': 9, 'अली': 9, 'जायजा': 9, 'फीसद': 9, 'जादू': 9, 'नम': 9, 'फंड': 9, 'जाहिर': 9, 'रॉय': 9, 'रणवीर': 9, 'गारंटी': 9, 'कंगना': 9, 'उन्\\u200dहोंने': 9, 'अनिवार्य': 9, 'लीक': 9, 'रानी': 9, 'चौक': 9, 'ऊंचाई': 9, 'धूल': 9, 'पिस्टल': 9, 'फरार': 9, 'कूड़े': 9, 'हैवानियत': 9, 'हड़कंप': 9, 'निकले': 9, 'चीज': 9, 'लूट': 9, 'जश्न': 9, 'मानें': 9, 'अवसर': 9, 'आर्मी': 9, 'कैश': 9, 'दिनेश': 9, 'बर्फबारी': 9, 'खरीदी': 9, 'मोटरसाइकिल': 9, 'पोस्ट': 9, 'विदेश': 9, 'पढ़ाई': 9, 'तोड़ने': 9, 'आस': 9, 'शांत': 9, 'गिरा': 9, 'उठाया': 9, 'ऑफर': 9, 'पुरस्कार': 9, 'निरंतर': 9, 'एक्ट्रेस': 9, 'शोर': 9, 'आठ': 9, 'बढ़त': 9, 'ज्वाला': 9, 'वॉटसन': 9, 'हैट्रिक': 9, 'परिश्रम': 9, 'आदित्य': 9, 'मोटर्स': 9, 'विकसित': 9, 'वर्ल्ड': 9, 'निवेशकों': 9, 'निराशाजनक': 9, 'तोड़': 9, 'रजनीकांत': 9, 'डिविलियर्स': 9, 'परिजनों': 9, 'पक्षधर': 9, 'हैदराबाद': 9, 'व्यवसायी': 9, 'गंभीरतापूर्वक': 9, 'जाति': 9, 'व्यापक': 9, 'अनुपयोगी': 9, 'भाग्यशाली': 9, 'आहत': 9, 'दूभर': 9, 'सेशन': 9, 'राजतिलक': 9, 'यकीन': 8, 'ला': 8, 'मनमोहन': 8, 'रात्रि': 8, 'निवासी': 8, 'रविवार': 8, 'देकर': 8, 'भूस्खलन': 8, 'समझते': 8, 'द्विवेदी': 8, 'बोलती': 8, 'स्टेट': 8, 'तेरा': 8, 'ज़िन्दगी': 8, 'बदला': 8, 'ऐ': 8, 'दोषी': 8, 'मुंह': 8, 'बनाकर': 8, 'लिख': 8, 'इनकी': 8, 'आतंकवादी': 8, 'इसलिये': 8, 'हाथों': 8, 'सपा': 8, 'नसीब': 8, 'लगाते': 8, 'ऐतिहासिक': 8, 'वार': 8, 'भरे': 8, 'रेड': 8, 'ब्रेक': 8, 'क्रिकेटर': 8, 'शिव': 8, 'छवि': 8, 'गर्लफ्रेंड': 8, 'मध्यप्रदेश': 8, 'कर्मियों': 8, 'हिस्से': 8, 'दुआ': 8, 'पंडित': 8, 'छोटी': 8, 'आधा': 8, 'कल्चर': 8, 'प्रधान': 8, 'पाता': 8, 'सुनने': 8, 'बोलने': 8, 'सचिन': 8, 'फूल': 8, 'लेंगे': 8, 'घुस': 8, 'क़ानूनअब': 8, 'चाय': 8, 'वन': 8, 'लिखने': 8, 'युवी': 8, 'हत्यारा': 8, 'जानना': 8, 'तिरंगा': 8, 'बोलना': 8, 'वायरल': 8, 'ख़त्म': 8, 'कप': 8, 'प्रकार': 8, 'नेपाल': 8, 'धोखा': 8, 'लेगा': 8, 'जैश': 8, 'शिवराज': 8, 'न': 8, 'दावा': 8, 'मारना': 8, 'को': 8, 'रेलवे': 8, 'संवेदनशील': 8, 'रखता': 8, 'माफी': 8, 'ज़रूर': 8, 'यहीं': 8, 'युवकों': 8, 'स्मार्ट': 8, 'आएगा': 8, 'निकली': 8, 'इसको': 8, 'अफसरों': 8, 'गन्ना': 8, 'दाम': 8, 'सदैव': 8, 'तटस्थ': 8, 'भेजा': 8, 'आशुतोष': 8, 'व्यक्तिगत': 8, 'इमेज': 8, 'सहारा': 8, 'बच्चन': 8, 'हनीप्रीत': 8, 'विजेता': 8, 'गिरी': 8, 'दिल्लीएनसीआर': 8, 'कैमरा': 8, 'मिलेंगे': 8, 'शिवपाल': 8, 'हॉकी': 8, 'अगस्त': 8, 'ीं': 8, 'हफ्ते': 8, 'यूपीए': 8, 'स्क्रिप्ट': 8, 'कार्यालय': 8, 'दिखते': 8, 'प्रताप': 8, 'शिवसेना': 8, 'लाइन': 8, 'कहींकहीं': 8, 'किंतु': 8, 'चित्रण': 8, 'पाते': 8, 'संवादों': 8, 'जोरदार': 8, 'लंबी': 8, 'भावनाओं': 8, 'मनोरंजक': 8, 'महान': 8, 'पकड़': 8, 'उम्मीदों': 8, 'दर्शन': 8, 'पूर्ति': 8, 'प्रभावी': 8, 'प्रेमी': 8, 'गीतसंगीत': 8, 'फ्लैट': 8, 'स्पष्ट': 8, 'खाता': 8, 'गुलजार': 8, 'प्रस्तुति': 8, 'मौजूदगी': 8, 'डालने': 8, 'क': 8, 'भविष्य': 8, 'तभी': 8, 'आसानी': 8, 'गृहमंत्री': 8, 'कार्यों': 8, 'मुसीबत': 8, 'नृत्य': 8, 'बप्पा': 8, 'राह': 8, 'मुक्त': 8, 'रची': 8, 'ह': 8, 'शुरु': 8, 'प्रदान': 8, 'अवार्ड': 8, 'पीढ़ी': 8, 'लगन': 8, 'अदा': 8, 'मुख्यालय': 8, 'डील': 8, 'पिटाई': 8, 'पीटपीटकर': 8, 'कातिल': 8, 'प्रदूषण': 8, 'क्रांतिकारी': 8, 'ट्रैफिक': 8, 'गुस्से': 8, 'कारोबारी': 8, 'खड़ी': 8, 'लगाकर': 8, 'माह': 8, 'तंग': 8, 'नाराज': 8, 'सेक्स': 8, 'समाप्त': 8, 'ओपन': 8, 'स्थापना': 8, 'औली': 8, 'आज़तक': 8, 'निशाना': 8, 'बनाना': 8, 'समूह': 8, 'माल्या': 8, 'मैन': 8, 'फिट': 8, 'रविशंकर': 8, 'बकवास': 8, 'विद्युत': 8, 'फलस्वरूप': 8, 'आचरण': 8, 'दौरे': 8, 'खरीदने': 8, 'जोड़ी': 8, 'त्यागी': 8, 'प्रवेश': 8, 'मिलेगा': 8, 'पीटरसन': 8, 'स्पिनर': 8, 'मेडल': 8, 'गेंदबाजों': 8, 'खेलकर': 8, 'रनों': 8, 'न्यायालय': 8, 'खिताब': 8, 'कैंसिलेशन': 8, 'मैक्सवेल': 8, 'स्मिथ': 8, 'सुविधा': 8, 'उपस्थित': 8, 'अत्यधिक': 8, 'अनुरूप': 8, 'शुक्रवार': 8, 'बिक्री': 8, 'आयुष': 8, 'इंडस्ट्री': 8, 'डॉलर': 8, 'गंवाने': 8, 'ग्राहकों': 8, 'निम्न': 8, 'विनम्रता': 8, 'भक्ति': 8, 'कैच': 8, 'पड़ने': 8, 'बेहिसाब': 8, 'अनाड़ी': 8, 'शनिवार': 8, 'बल्ला': 8, 'पहुंचाने': 8, 'नितांत': 8, 'फसल': 8, 'वस्तु': 8, 'व्यक्तित्व': 8, 'अनुसार': 8, 'भावना': 8, 'खड़ा': 8, 'पिछला': 8, 'चोटिल': 8, 'भिड़े': 8, 'बुलेटिन': 8, 'बदली': 7, 'करवा': 7, 'परमेश्वर': 7, 'मेँ': 7, 'मुलाकात': 7, 'कैद': 7, 'माओवादियों': 7, 'मारे': 7, 'बच': 7, 'डी': 7, 'बॉडी': 7, 'कत्ल': 7, 'इधर': 7, 'आपदा': 7, 'दलों': 7, 'हां': 7, 'सौ': 7, 'हमलों': 7, 'किस्मत': 7, 'जीतने': 7, 'तुम्हारी': 7, 'जमाना': 7, 'बोलते': 7, 'गाँधी': 7, 'कहता': 7, 'फर्जी': 7, 'ईमानदारी': 7, 'शर्मसार': 7, 'तुम्हारे': 7, 'यानि': 7, 'वकील': 7, 'गजब': 7, 'कट्टर': 7, 'कुर्सी': 7, 'गली': 7, 'जिसकी': 7, 'सांस': 7, 'वरिष्ठ': 7, 'साक्षी': 7, 'ताज': 7, 'जनवरी': 7, 'लगाना': 7, 'पीड़ा': 7, 'किसको': 7, 'मांगने': 7, 'लाइसेंस': 7, 'रद्द': 7, 'सवा': 7, 'तंत्र': 7, 'हत्याकांड': 7, 'वाहनों': 7, 'टाइम': 7, 'तुम्हें': 7, 'सीजन': 7, 'संस्कृति': 7, 'पाठक': 7, 'स्वामी': 7, 'अर्थ': 7, 'घटिया': 7, 'जीने': 7, 'फैल': 7, 'राकेश': 7, 'दिवाली': 7, 'खरीद': 7, 'दूसरा': 7, 'सच्चे': 7, 'फेंकने': 7, 'जितनी': 7, 'रिश्ते': 7, 'हरकत': 7, 'चढ़ा': 7, 'चिराग': 7, 'एनकाउंटर': 7, 'जल्दी': 7, 'प्रशांत': 7, 'सूत्र': 7, 'दस': 7, 'होंगी': 7, 'कार्यकर्ताओं': 7, 'बह': 7, 'डॉ': 7, 'समिति': 7, 'तस्वीरें': 7, 'रिपोर्टिंग': 7, 'सूची': 7, 'महंगा': 7, 'नारे': 7, 'कार्यकाल': 7, 'ज': 7, 'प': 7, 'फुटेज': 7, 'पोस्टर': 7, 'अजय': 7, 'नरेश': 7, 'बैन': 7, 'बसों': 7, 'स्वतंत्रता': 7, 'प्रॉपर्टी': 7, 'सिद्धार्थ': 7, 'डाली': 7, 'छोड़ा': 7, 'बाजारों': 7, 'बोलीं': 7, 'फंसे': 7, 'परिवर्तन': 7, 'बचपन': 7, 'मिसाल': 7, 'पूछे': 7, 'वॉक': 7, 'फ़ायदा': 7, 'बेनकाब': 7, 'अरुण': 7, 'पहल': 7, 'गलती': 7, 'स्क्रीन': 7, 'लंदन': 7, 'इनकम': 7, 'इच्छा': 7, 'पल': 7, 'मालिक': 7, 'आयोजित': 7, 'तकनीकी': 7, 'तर्क': 7, 'रोमांच': 7, 'गढ़': 7, 'ग्रैंड': 7, 'भाषा': 7, 'उद्देश्य': 7, 'रामपाल': 7, 'अभाव': 7, 'दिखने': 7, 'निकल': 7, 'आशु': 7, 'एहसास': 7, 'उसमें': 7, 'सबके': 7, 'सकें': 7, 'खरी': 7, 'पेस': 7, 'मात': 7, 'रवैया': 7, 'अवधि': 7, 'कमजोरी': 7, 'दबंग': 7, 'लिहाज': 7, 'स्टाइल': 7, 'दायरे': 7, 'गोयल': 7, 'विवादित': 7, 'निभाने': 7, 'बेपरवाह': 7, 'जिम्मेदार': 7, 'मानवता': 7, 'लीडर': 7, 'विडियो': 7, 'मंगल': 7, 'आत्मविश्वास': 7, 'दिखती': 7, 'आर्ट': 7, 'दशक': 7, 'बनाते': 7, 'गौरतलब': 7, 'प्रसाद': 7, 'पैमाने': 7, 'बगैर': 7, 'वरुण': 7, 'दमदार': 7, 'गौतम': 7, 'सहमति': 7, 'गिरकर': 7, 'ए': 7, 'सपना': 7, 'थाने': 7, 'गार्डन': 7, 'ठंड': 7, 'जासूसी': 7, 'बेरहमी': 7, 'पकड़ा': 7, 'गोल': 7, 'संयुक्त': 7, 'करोड़ों': 7, 'आईफोन': 7, 'चलती': 7, 'कपिल': 7, 'थप्पड़': 7, 'सोसाइटी': 7, 'ऊपरी': 7, 'जवाबदेही': 7, 'मंत्रियों': 7, 'हथियार': 7, 'कैंप': 7, 'माइनस': 7, 'फीट': 7, 'स्वस्थ': 7, 'बीएसएफ': 7, 'फॉर': 7, 'वर्षा': 7, 'मच्छर': 7, 'अप्रिय': 7, 'हिंद': 7, 'एनडीए': 7, 'अधिकारियों': 7, 'समीक्षा': 7, 'काले': 7, 'कल्याण': 7, 'रोटी': 7, 'उठाना': 7, 'फायर': 7, 'किसका': 7, 'जन': 7, 'पीठ': 7, 'खतम': 7, 'हुवों': 7, 'ख़ुदकुशी': 7, 'कानूनी': 7, 'आंकड़े': 7, 'अटैक': 7, 'मानती': 7, 'सभ्य': 7, 'कमाई': 7, 'अगली': 7, 'तलाशना': 7, 'योग्य': 7, 'त्वचा': 7, 'बादलों': 7, 'चुकाने': 7, 'छक्के': 7, 'सीने': 7, 'सेवन': 7, 'ओलंपिक': 7, 'सलामी': 7, 'सील': 7, 'आनंददायक': 7, 'सगाई': 7, 'संभावित': 7, 'टीमें': 7, 'बल्लेबाजों': 7, 'शीर्ष': 7, 'रहाणे': 7, 'कलेक्टर': 7, 'मुआवजा': 7, 'बैंगलोर': 7, 'विकासशील': 7, 'सत्यापित': 7, 'डीएम': 7, 'उठाए': 7, 'खाद्य': 7, 'दमा': 7, 'स्वीकार': 7, 'निर्वाचन': 7, 'इलेवन': 7, 'दिग्गज': 7, 'गांवों': 7, 'आदर्श': 7, 'रुप': 7, 'सनराइजर्स': 7, 'शिखर': 7, 'क्रिस': 7, 'सदा': 7, 'खरीदारी': 7, 'आईटी': 7, 'फ्लू': 7, 'दागदार': 7, 'बेतहाशा': 7, 'असंतोषजनक': 7, 'सुगम': 7, 'दुरुह': 7, 'अभ्यस्त': 7, 'ग्रामीण': 7, 'खेतों': 7, 'भड़के': 7, 'जाधव': 7, 'उपचार': 7, 'यद्यपि': 7, 'रकम': 7, 'आवश्यक': 7, 'सर्वश्रेष्ठ': 7, 'नीति': 7, 'वस्तुएँ': 7, 'प्रबंधन': 7, 'जागरूक': 7, 'खुशनसीब': 7, 'एपिसोड': 7, 'निस्वार्थ': 7, 'धूम': 7, 'परीक्षार्थी': 7, 'परवेज़': 7, 'संबित': 7, 'एक्ज़िट': 7, 'मौलाना': 7, 'पद्मावत': 7, 'मेहसाणा': 7, 'पद्मावती': 7, 'दंगे': 6, 'परमपिता': 6, 'नहीँ': 6, 'रचा': 6, 'बाथरूम': 6, 'नशे': 6, 'मूर्ख': 6, 'समझदार': 6, 'भरी': 6, 'दस्तक': 6, 'क़त्ल': 6, 'समझौता': 6, 'नमक': 6, 'चलता': 6, 'रवि': 6, 'डंडे': 6, 'बैठा': 6, 'गुना': 6, 'हवाई': 6, 'निकाला': 6, 'धरती': 6, 'संकट': 6, 'जीता': 6, 'ज्वाइन': 6, 'मुकाबला': 6, 'महात्मा': 6, 'राष्ट्र': 6, 'अपमान': 6, 'बेवजह': 6, 'सूरज': 6, 'जानकार': 6, 'अजीब': 6, 'छिड़ी': 6, 'आलम': 6, 'घोर': 6, 'मुकदमा': 6, 'सामान': 6, 'गाली': 6, 'अकबर': 6, 'कबूल': 6, 'लिखे': 6, 'लव': 6, 'ड्रेस': 6, 'इंग्लैंड': 6, 'ब्लैक': 6, 'जिसमे': 6, 'हुये': 6, 'हुनर': 6, 'रिश्तों': 6, 'उड़ा': 6, 'किले': 6, 'पात्रा': 6, 'अरब': 6, 'फिक्सिंग': 6, 'घोटाला': 6, 'महंगाई': 6, 'निकला': 6, 'शोभा': 6, 'मायावती': 6, 'इसीलिए': 6, 'इमारत': 6, 'निर्दोष': 6, 'मित्र': 6, 'लगना': 6, 'तीसरी': 6, 'तमाशा': 6, 'पागल': 6, 'देखो': 6, 'खुला': 6, 'लाचार': 6, 'कहे': 6, 'बचे': 6, 'जब्त': 6, 'ल': 6, 'केन्द्र': 6, 'े': 6, 'पेट': 6, 'मांगते': 6, 'उत्पन्न': 6, 'छापा': 6, 'खुले': 6, 'महाभारत': 6, 'अपराध': 6, 'गोठी': 6, 'दिलाने': 6, 'श्रद्धांजलि': 6, 'शहादत': 6, 'जुबान': 6, 'माफ़ी': 6, 'वर्षों': 6, 'कर्ज': 6, 'पुख्ता': 6, 'मीटर': 6, 'ने': 6, 'कम्पनी': 6, 'तक': 6, 'पाटीदार': 6, 'साज़िश': 6, 'पब्लिक': 6, 'घायलों': 6, 'मेल': 6, 'शोषण': 6, 'भुवनेश्वर': 6, 'गंगा': 6, 'वीर': 6, 'नौ': 6, 'परेड': 6, 'सूरत': 6, 'पूनम': 6, 'अवॉर्ड': 6, 'शपथ': 6, 'हाईकोर्ट': 6, 'गईं': 6, 'जेब': 6, 'आएगी': 6, 'सीबीआई': 6, 'पढ़िए': 6, 'सैनिक': 6, 'मुझ': 6, 'शुभकामनाएं': 6, 'लुक': 6, 'प्रसन्न': 6, 'तेज़': 6, 'एंट्री': 6, 'मुहर': 6, 'माने': 6, 'चाहत': 6, 'नतीजे': 6, 'जबर्दस्त': 6, 'गढ़ा': 6, 'नाईक': 6, 'खैर': 6, 'न्यूज': 6, 'लाजवाब': 6, 'मसले': 6, 'ऑल': 6, 'जाया': 6, 'पीएफ': 6, 'साध्वी': 6, 'प्रज्ञा': 6, 'डिप्टी': 6, 'जैन': 6, 'धूप': 6, 'क्': 6, 'अफसर': 6, 'सुविधाएं': 6, 'करीबी': 6, 'इंदौर': 6, 'अश्विन': 6, 'इंतज़ार': 6, 'नॉर्थ': 6, 'लहर': 6, 'संजय': 6, 'रोहिंग्या': 6, 'औसत': 6, 'फलदायक': 6, 'बारबार': 6, 'मजा': 6, 'अकेले': 6, 'निभा': 6, 'गहराई': 6, 'पांडे': 6, 'चढ़': 6, 'सीमाओं': 6, 'कभीकभी': 6, 'एडिटिंग': 6, 'मेहता': 6, 'डिपार्टमेंट': 6, 'मशक्कत': 6, 'अहसास': 6, 'सुनील': 6, 'दिखता': 6, 'विवेक': 6, 'बीमारियों': 6, 'भावों': 6, 'विस्तार': 6, 'ड्रामा': 6, 'इमोशन': 6, 'प्रतीत': 6, 'कामयाब': 6, 'संभावनाओं': 6, 'फिल्मी': 6, 'खूबी': 6, 'आइटम': 6, 'सिन्हा': 6, 'समझने': 6, 'विक्रम': 6, 'प्रोडक्शन': 6, 'श्रॉफ': 6, 'बिहारी': 6, 'जगत': 6, 'निष्फल': 6, 'ठोस': 6, 'पीयूष': 6, 'शक्ति': 6, 'शुरुआती': 6, 'परिषद': 6, 'खुल': 6, 'आशीर्वाद': 6, 'सुना': 6, 'आयोजन': 6, 'वाराणसी': 6, 'दिनभर': 6, 'मौज': 6, 'बढ़ावा': 6, 'शिक्षक': 6, 'खुशी': 6, 'उल्लेखनीय': 6, 'फरहान': 6, 'विश्वसनीय': 6, 'बनाता': 6, 'नायर': 6, 'डायरेक्टर': 6, 'अर्पिता': 6, 'मैसेज': 6, 'मजबूती': 6, 'शॉट': 6, 'उन्\\u200dहें': 6, 'चोपड़ा': 6, 'सराहना': 6, 'कंप्यूटर': 6, 'गेम': 6, 'कसौटी': 6, 'पर्याप्त': 6, 'नियंत्रण': 6, 'मजेदार': 6, 'धवन': 6, 'समान': 6, 'म्यूजिक': 6, 'टैटू': 6, 'सुलझाया': 6, 'शाहदरा': 6, 'जितेन्द्र': 6, 'चौथी': 6, 'मंजिल': 6, 'सं': 6, 'गीता': 6, 'कॉलोनी': 6, 'सनसनी': 6, 'गोलियां': 6, 'मिशेल': 6, 'न्यू': 6, 'मेडिकल': 6, 'निशान': 6, 'नोट': 6, 'टीचर': 6, 'संदिग्ध': 6, 'आशीष': 6, 'मांबाप': 6, 'से': 6, 'चालक': 6, 'यौन': 6, 'गुरुग्राम': 6, 'आवास': 6, 'विधायकों': 6, 'खूनी': 6, 'इंटरनेट': 6, 'बढ़ने': 6, 'बढ़ेगा': 6, 'गैंगरेप': 6, 'किलोमीटर': 6, 'बेटियों': 6, 'डेढ़': 6, 'शराब': 6, 'तीसरे': 6, 'कामयाबी': 6, 'संस्थान': 6, 'फायरिंग': 6, 'हथियारों': 6, 'बीती': 6, 'तुरंत': 6, 'साउथ': 6, 'थाना': 6, 'वर्षीय': 6, 'दूध': 6, 'घोषित': 6, 'पहुंचकर': 6, 'बनना': 6, 'वी': 6, 'हाउस': 6, 'अजहर': 6, 'वोटर': 6, 'रजिस्टर': 6, 'हरकतों': 6, 'सिलसिला': 6, 'सीआरपीएफ': 6, 'कंट्रोल': 6, 'भारतचीन': 6, 'तीखे': 6, 'फर्क': 6, 'डीजी': 6, 'पत्थरबाजों': 6, 'रिजिजू': 6, 'सेंटर': 6, 'बताते': 6, 'एजेंसी': 6, 'क्षेत्रों': 6, 'मुद्दों': 6, 'ताबड़तोड़': 6, 'तनाव': 6, 'नीतीश': 6, 'संभाल': 6, 'रोकना': 6, 'स्पॉट': 6, 'कैदी': 6, 'निशाने': 6, 'दान': 6, 'घोटाले': 6, 'लोकप्रिय': 6, 'सीटें': 6, 'जन्नत': 6, 'अन्याय': 6, 'आय': 6, 'फिटनेस': 6, 'बोट': 6, 'मचा': 6, 'रिया': 6, 'करूंगा': 6, 'नेटवर्क': 6, 'बेस्ट': 6, 'स्वर्ण': 6, 'बीते': 6, 'खेला': 6, 'महत्वाकांक्षी': 6, 'प्रेरित': 6, 'बहाल': 6, 'संभावना': 6, 'महोत्सव': 6, 'पोषित': 6, 'शिक्षकों': 6, 'फुटबॉल': 6, 'नरम': 6, 'अविलंब': 6, 'उठना': 6, 'रोग': 6, 'ब्राजील': 6, 'भूलीं': 6, 'खेलीं': 6, 'यूएई': 6, 'लिहाजा': 6, 'ताम्बे': 6, 'ट्रेलर': 6, 'पिच': 6, 'मौजूदा': 6, 'अगुवाई': 6, 'जिनकी': 6, 'स्थानीय': 6, 'परियोजना': 6, 'ज्वैलरी': 6, 'वर्षो': 6, 'स्टेडियम': 6, 'रोगों': 6, 'पसंदीदा': 6, 'निकालना': 6, 'स्तरों': 6, 'सप्ताह': 6, 'ऎसे': 6, 'श्रीनिवासन': 6, 'उतरना': 6, 'चिदंबरम': 6, 'सुनी': 6, 'अनुमति': 6, 'आरसीए': 6, 'उद्योग': 6, 'टेलीविजन': 6, 'काफ़ी': 6, 'पहुंचना': 6, 'न्यायाधीश': 6, 'निर्णय': 6, 'अकाउंट': 6, 'युवराज': 6, 'भूकंप': 6, 'बर्ड': 6, 'विक्की': 6, 'गेहूं': 6, 'गुपचुप': 6, 'आधे': 6, 'सोनाली': 6, 'संतुष्ट': 6, 'गरीबों': 6, 'माध्यम': 6, 'पेयजल': 6, 'हलांकि': 6, 'शरण': 6, 'महेश': 6, 'अधिकतर': 6, 'साप्ताहिक': 6, 'व्यवसाय': 6, 'अस्थमा': 6, 'जिम्मेवारी': 6, 'देसी': 6, 'सौभाग्यशाली': 6, 'खुशकिस्मत': 6, 'पारंगत': 6, 'शस्त्र': 6, 'इनमें': 6, 'हानिकारक': 6, 'अनुपस्थित': 6, 'जनित': 6, 'साथपूरा': 6, 'हैदेखिए': 6, 'राफ़ेल': 6, 'नतीजों': 6, 'असम': 6, 'ज़रूरी': 6, 'पकौड़ा': 6, 'हैरान': 6, 'कासगंज': 6, 'साबरमती': 6, 'राष्ट्रगीत': 6, 'खा': 5, 'अकेला': 5, 'पाप': 5, 'आजाद': 5, 'बेशर्म': 5, 'मेरठ': 5, 'खोज': 5, 'उर्फ': 5, 'नींद': 5, 'गूगल': 5, 'जानती': 5, 'माथे': 5, 'खो': 5, 'निराशा': 5, 'मिट्टी': 5, 'नरेन्द्र': 5, 'जिन्दगी': 5, 'मिनिस्टर': 5, 'बडे': 5, 'ज़माने': 5, 'कैप्टन': 5, 'रोज': 5, 'नवाज': 5, 'रक्षक': 5, 'रियल': 5, 'यार': 5, 'बुधवार': 5, 'राज्यसभा': 5, 'बसपा': 5, 'रो': 5, 'लड़कियों': 5, 'बहार': 5, 'भैया': 5, 'सेहतमंद': 5, 'जबरन': 5, 'गद्दार': 5, 'कश्मीरी': 5, 'बैटिंग': 5, 'बारी': 5, 'निंदा': 5, 'विरूद्ध': 5, 'मोहन': 5, 'खनन': 5, 'मानसिकता': 5, 'बेचने': 5, 'निधन': 5, 'रे': 5, 'वंदे': 5, 'महीनों': 5, 'पकिस्तान': 5, 'आंध्र': 5, 'तुम्हे': 5, 'पड़ेगी': 5, 'बरसात': 5, 'दैनिक': 5, 'रेल': 5, 'चुप्पी': 5, 'अश्लील': 5, 'प्रतिमा': 5, 'इरादा': 5, 'अल्लाह': 5, 'इंकार': 5, 'बिग': 5, 'युग': 5, 'मनाने': 5, 'गुलाम': 5, 'जाय': 5, 'बर्ताव': 5, 'उठता': 5, 'बहाने': 5, 'आफत': 5, 'उतार': 5, 'ज़िंदगी': 5, 'जानता': 5, 'भेजी': 5, 'खोल': 5, 'घमंडी': 5, 'इलेक्शन': 5, 'रेट': 5, 'नयी': 5, 'आज़ाद': 5, 'घुसकर': 5, 'आध्यात्मिक': 5, 'गवाह': 5, 'शाहबेरी': 5, 'अलर्ट': 5, 'जख्म': 5, 'डेटा': 5, 'डालकर': 5, 'चलेगा': 5, 'सनातन': 5, 'विमान': 5, 'सिपाही': 5, 'अंकित': 5, 'सरदार': 5, 'परंतु': 5, 'हिन्दुस्तान': 5, 'गांधीनगर': 5, 'आवाज़': 5, 'लिखकर': 5, 'बड़ेबड़े': 5, 'रावण': 5, 'सीरियल': 5, 'विक्रांत': 5, 'ओडिशा': 5, 'किताब': 5, 'छा': 5, 'दिखाए': 5, 'हुसैन': 5, '‘दंगल’': 5, 'आभार': 5, 'मैं': 5, 'बढ़ेगी': 5, 'रैली': 5, 'कमलनाथ': 5, 'मेघालय': 5, 'ख़तरे': 5, 'डूब': 5, 'नहीं': 5, 'दवाओं': 5, 'स्पर्श': 5, 'दीदी': 5, 'हज़ार': 5, 'नोटिस': 5, 'मारपीट': 5, 'मानी': 5, 'फतह': 5, 'चौराहे': 5, 'चाल': 5, 'आयुक्त': 5, 'लाए': 5, 'महागठबंधन': 5, 'दुबई': 5, 'ईस्ट': 5, 'जया': 5, 'गठन': 5, 'नौबत': 5, 'जोड़ने': 5, 'बाहरी': 5, 'बढ़ाई': 5, 'काला': 5, 'संगीतकार': 5, 'रौनक': 5, 'पहाड़': 5, 'शिफ्ट': 5, 'पढ़ने': 5, 'कविता': 5, 'प्यारे': 5, 'पर्व': 5, 'आबादी': 5, 'ठंडे': 5, 'पिछली': 5, 'कड़वी': 5, 'टैलेंट': 5, 'राजनैतिक': 5, 'संभल': 5, 'फ़ैसला': 5, 'मुम्बई': 5, 'लाइट': 5, 'छापे': 5, 'दिया': 5, 'दि': 5, 'चमक': 5, 'इब्राहिम': 5, 'लॉन्च': 5, 'टारगेट': 5, 'सईद': 5, 'अंसारी': 5, 'फंसा': 5, 'जिसको': 5, 'खेलों': 5, 'जून': 5, 'टोल': 5, 'हनुमान': 5, 'मज़ा': 5, 'केदारनाथ': 5, 'कमियां': 5, 'टूटता': 5, 'आखिरकार': 5, 'संगति': 5, 'शाहिद': 5, 'प्रसंग': 5, 'एक्सप्रेस': 5, 'अभिनेताओं': 5, 'अरशद': 5, 'वारसी': 5, 'अनुराग': 5, 'प्रतीक': 5, 'करियर': 5, 'डे': 5, 'इरफान': 5, 'मोस्ट': 5, 'वजन': 5, 'समाधान': 5, 'नवाजुद्दीन': 5, 'सिद्दीकी': 5, 'भव्य': 5, 'कराती': 5, 'चूक': 5, 'आयाम': 5, 'समर्थ': 5, 'थ्रिलर': 5, 'जमाने': 5, 'कथा': 5, 'परिवेश': 5, 'परफारमेंस': 5, 'गानों': 5, 'रोमांस': 5, 'प्रवाह': 5, 'लोकेशन': 5, 'लायक': 5, 'नाटकीय': 5, 'संसाधनों': 5, 'हॉरर': 5, 'कल्पना': 5, 'अभिनेत्रियों': 5, 'नष्ट': 5, 'संजीदगी': 5, 'सामूहिक': 5, 'भार': 5, 'अय्यर': 5, 'बनर्जी': 5, 'लाना': 5, 'पृष्ठभूमि': 5, 'तकनीक': 5, 'काबिल': 5, 'युद्ध': 5, 'पढ़': 5, 'तुझे': 5, 'लौटा': 5, 'पैकेज': 5, 'माफ़': 5, 'जीना': 5, 'संकल्प': 5, 'सिलसिले': 5, 'असद': 5, 'लोकप्रियता': 5, 'मुहब्बत': 5, 'बचाओ': 5, 'पर्यावरण': 5, 'दया': 5, 'फक': 5, 'अनंत': 5, 'प्रभु': 5, 'बच्चो': 5, 'समझौते': 5, 'कप्तानी': 5, 'मिलते': 5, 'बेफिक्र': 5, 'आक्रामक': 5, 'उदाहरण': 5, 'हॉल': 5, 'जॉन': 5, 'सीधा': 5, 'पाएंगे': 5, 'बनारस': 5, 'कुंदन': 5, 'प्रिय': 5, 'सुरेश': 5, 'खुराना': 5, 'नवीन': 5, 'रणबीर': 5, 'सराहनीय': 5, 'नारी': 5, 'राजपूत': 5, 'पात्र': 5, 'आलिया': 5, 'गतिशील': 5, 'बरती': 5, 'उतरी': 5, 'अगला': 5, 'प्रवृत्ति': 5, 'गहरा': 5, 'हिम्मत': 5, 'मील': 5, 'जुर्म': 5, 'जानलेवा': 5, 'रिश्वत': 5, 'पुलिसकर्मी': 5, 'नाक': 5, 'चांदनी': 5, 'जुट': 5, 'जीएसटी': 5, 'दरबार': 5, 'गहरे': 5, 'वसंत': 5, 'गाड़ियों': 5, 'सुनीता': 5, 'सुलझा': 5, 'दिल्\\u200dली': 5, 'मॉडल': 5, 'हरियाणा': 5, 'कलयुगी': 5, 'इंदिरापुरम': 5, 'कड़े': 5, 'पार': 5, 'एनसीआर': 5, 'जगहों': 5, 'गार्डों': 5, 'कीमतों': 5, 'कीमतें': 5, 'पीटा': 5, 'कपड़े': 5, 'पलवल': 5, 'मकसद': 5, 'छुट्टी': 5, 'कैब': 5, 'जे': 5, 'रिपो': 5, 'इंसानियत': 5, 'उपहार': 5, 'कमिश्नर': 5, 'माफिया': 5, 'पीड़िता': 5, 'दाती': 5, 'हवालात': 5, 'शेख': 5, 'नाबालिग': 5, 'हंस': 5, 'चौंकाने': 5, 'स्कूली': 5, 'किनारे': 5, 'सहयोगियों': 5, 'पर्दाफाश': 5, 'मशीन': 5, 'ढाई': 5, 'अरुणाचल': 5, 'सेंचुरी': 5, 'मौजपुर': 5, 'ग्राम': 5, 'सोना': 5, 'विश्वविद्यालय': 5, 'फॉर्म': 5, 'सिविल': 5, 'पिछड़े': 5, 'अस्तित्व': 5, 'दुकानों': 5, 'अनोखा': 5, 'दांव': 5, 'अमेरिकी': 5, 'कमांडर': 5, 'ड्रोन': 5, 'मांगों': 5, 'आईटीबीपी': 5, 'मुहैया': 5, 'एयर': 5, 'तत्काल': 5, 'मार्शल': 5, 'बांग्लादेश': 5, 'नापाक': 5, 'निकलते': 5, 'खिलाफ़': 5, 'हाफिज': 5, 'मोहम्मद': 5, 'आसमान': 5, 'स्टील': 5, 'लश्कर': 5, 'हौसला': 5, 'पथ': 5, 'दूरी': 5, 'मानता': 5, 'सैनिकों': 5, 'निरीक्षण': 5, 'मनरेगा': 5, 'गरीबी': 5, 'निर्धन': 5, 'खुली': 5, 'उतरे': 5, 'भारतीयों': 5, 'मानेंगे': 5, 'सरगना': 5, 'बदहाल': 5, 'लड़का': 5, 'डिवाइस': 5, 'राजपथ': 5, 'पड़ोसी': 5, 'करारा': 5, 'परिजन': 5, 'स्वरूप': 5, 'आफ': 5, 'समस्याओं': 5, 'निचले': 5, 'प्राप्ति': 5, 'डेल': 5, 'वैश्विक': 5, 'मुखर्जी': 5, 'छोड़ना': 5, 'ऑडियंस': 5, 'अफ्रीका': 5, 'हज': 5, 'गेंदों': 5, 'जोड़े': 5, 'हकदार': 5, 'वाटसन': 5, 'मुरली': 5, 'पैरंट्स': 5, 'आंशिक': 5, 'फीस': 5, 'बल्ले': 5, 'धुरंधर': 5, 'वनडे': 5, 'मोवस': 5, 'निर्देश': 5, 'उत्पादक': 5, 'सैम': 5, 'प्रगतिशील': 5, 'जमा': 5, 'श्रीलंका': 5, 'दवाएं': 5, 'नक्षत्र': 5, 'केन्द्रों': 5, 'सुजैन': 5, 'नाइटराइडर्स': 5, 'महेन्द्र': 5, 'रखेंगे': 5, 'विद्यालय': 5, 'चुना': 5, 'डॉक्टरों': 5, 'चढ़कर': 5, 'लांच': 5, 'निरपेक्ष': 5, 'पठान': 5, 'टि्वटर': 5, 'तूफानी': 5, 'डिंपल': 5, 'दरों': 5, 'पदाधिकारी': 5, 'स्थायी': 5, 'एबी': 5, 'बीता': 5, 'केंद्रों': 5, 'चरण': 5, 'बुकिंग': 5, 'दिलकश': 5, 'केपी': 5, 'प्रारूप': 5, 'डेविड': 5, 'टीमों': 5, 'स्टार्स': 5, 'धर्मनिरपेक्ष': 5, 'तहरीर': 5, 'मीर': 5, 'इंसानों': 5, 'जनजीवन': 5, 'बेहाल': 5, 'ग्रामों': 5, 'चालकों': 5, 'अंधाधुंध': 5, 'पहुंचते': 5, 'श्रमिकों': 5, 'दुकानदार': 5, 'नेगेटिव': 5, 'कम्प्यूटर': 5, 'शिकायतें': 5, 'तमंचा': 5, 'बढ़ता': 5, 'परिचय': 5, 'पछताना': 5, 'सोचना': 5, 'जस्टिन': 5, 'सनी': 5, 'हलका': 5, 'नीरस': 5, 'बार्सिलोना': 5, 'पैदल': 5, 'कार्तिक': 5, 'कुपोषित': 5, 'पंजीकरण': 5, 'रेडक्रास': 5, 'शासन': 5, 'छात्रवृत्ति': 5, 'तालाब': 5, 'अतः': 5, 'लागू': 5, 'जलाने': 5, 'पुस्तक': 5, 'प्रत्येक': 5, 'बालक': 5, 'खरीदनी': 5, 'बहू': 5, 'छिप': 5, 'तादाद': 5, 'व्यापार': 5, 'कांची': 5, 'निर्भर': 5, 'कारावास': 5, 'कमान': 5, 'हास्य': 5, 'महिलाएं': 5, 'कर्म': 5, 'फटाफट': 5, 'तथापि': 5, 'चिकित्सकों': 5, 'उपभोक्ताओं': 5, 'महरूम': 5, 'अनदेखा': 5, 'आस्था': 5, 'महाबहस': 5, 'मज़हब': 5, 'सैलाब': 5, 'ज़मीन': 5, 'हम': 5, 'बाबरी': 5, 'प्रिया': 5, 'अमी': 5, 'याज्ञनिक': 5, 'राष्ट्रगान': 5, 'वतन': 4, 'गुमनाम': 4, 'कुर्क': 4, 'मित्रों': 4, 'कांग्रेसी': 4, 'अश्विनी': 4, 'तुमने': 4, 'सीक्रेट': 4, 'फैला': 4, 'हुर्रियत': 4, 'निकट': 4, 'खूब': 4, 'जात': 4, 'चीज़': 4, 'खेलते': 4, 'कैसी': 4, 'घूम': 4, 'भारतपाक': 4, 'झंडे': 4, 'हाँ': 4, 'जिंदा': 4, 'रोया': 4, 'औलाद': 4, 'पढ़े': 4, 'साई': 4, 'मियां': 4, 'कलम': 4, 'उधमपुर': 4, 'सुदूर': 4, 'पर्वतीय': 4, 'पिट': 4, 'देशद्रोही': 4, 'शास्त्री': 4, 'सुनता': 4, 'आँखों': 4, 'निकालो': 4, 'चप्पल': 4, 'बाज': 4, 'मुँह': 4, 'अमरीकी': 4, 'अंधकार': 4, 'पार्टियां': 4, 'मंत्र': 4, 'बीत': 4, 'लड़ने': 4, 'हैँ': 4, 'धज्जियां': 4, 'तलवार': 4, 'चूतिया': 4, 'नव': 4, 'रुझान': 4, 'अरविन्द': 4, 'प्राणी': 4, 'वालो': 4, 'था': 4, 'लालच': 4, 'आजम': 4, 'लौंडा': 4, 'धरने': 4, 'हरम': 4, 'उठाते': 4, 'कतई': 4, 'जायेगी': 4, 'कसम': 4, 'कोंग्रेस': 4, 'पत्रकारिता': 4, 'पीने': 4, 'कमर्शियल': 4, 'विज्ञापन': 4, 'मारने': 4, 'वेद': 4, 'असलियत': 4, 'चीज़ें': 4, 'टूटने': 4, 'डबल': 4, 'विचारधारा': 4, 'बेचारे': 4, 'सेक्युलर': 4, 'दौड़': 4, 'चीनी': 4, 'प्रभात': 4, 'संपर्क': 4, 'ठप': 4, 'भागवत': 4, 'बेखौफ': 4, 'ठाकरे': 4, 'दर्शाती': 4, 'तरीका': 4, 'तलाक़': 4, 'मना': 4, 'संचालित': 4, 'ब्लाक': 4, 'सांप्रदायिक': 4, 'नगरी': 4, 'उपवास': 4, 'खेत': 4, 'जड़ा': 4, 'बोलता': 4, 'पैर': 4, 'तबाही': 4, 'कब्जा': 4, 'निर्मम': 4, 'चीख': 4, 'क्लास': 4, 'सिखाता': 4, 'बैर': 4, 'फँसाया': 4, 'लिंक': 4, 'आरएसएस': 4, 'कराना': 4, 'घूस': 4, 'भूटान': 4, 'इटली': 4, 'सफाया': 4, 'लॉजिक': 4, 'कदर': 4, 'किसके': 4, 'गठित': 4, 'बहोत': 4, 'कृष्णा': 4, 'पुरे': 4, 'कैंसर': 4, 'हरा': 4, 'अल': 4, 'रखे': 4, 'लाजिमी': 4, 'तोड़ना': 4, 'दुबारा': 4, 'बाधा': 4, 'परिसर': 4, 'आधी': 4, 'उड़ाने': 4, 'फैशन': 4, 'उम्मीदवारों': 4, 'घोषणा': 4, 'रिश्ता': 4, 'ज़रिए': 4, 'माफ': 4, 'फैलाना': 4, '“': 4, 'एकतरफा': 4, 'छेड़खानी': 4, 'फरवरी': 4, 'खतरनाक': 4, 'नवजोत': 4, 'सरेआम': 4, 'आलोक': 4, 'सहमत': 4, '‘': 4, 'खोली': 4, 'कहर': 4, 'तकलीफ': 4, 'इनकार': 4, 'होनहार': 4, 'ग्राहक': 4, 'तिहाड़': 4, 'बजरंग': 4, 'बली': 4, 'एक': 4, 'सिर्फ़': 4, 'सहायक': 4, 'आदित्यनाथ': 4, 'मातरम': 4, 'कोसते': 4, 'मजदूर': 4, 'थकान': 4, 'कृपा': 4, '\\u2066\\u2069': 4, 'जोड़कर': 4, 'फुटेजदेश': 4, 'हवाले': 4, 'सेंसर': 4, 'चौकीदार': 4, 'प्लास्टिक': 4, 'मेरे': 4, 'बीबीसी': 4, 'जो': 4, 'अबू': 4, 'जिग्नेश': 4, 'लीजिए': 4, 'निलंबन': 4, 'दीजिए': 4, 'निकलना': 4, 'ख़िलाफ़': 4, 'सीखने': 4, 'स्वतंत्र': 4, 'ना': 4, 'गले': 4, 'पॉलिसी': 4, 'विशेषज्ञों': 4, 'डेरा': 4, 'गुंडों': 4, 'तैयारियां': 4, 'नदीम': 4, 'जीवनदान': 4, 'अक्टूबर': 4, 'स्वच्छ': 4, 'खाली': 4, 'मिजाज़': 4, 'प्र': 4, 'सर्राफा': 4, 'कवर': 4, 'जिम': 4, 'वाजपेयी': 4, 'संपादक': 4, 'पूछना': 4, 'हास्यास्पद': 4, 'कामनाएँ': 4, 'कृपया': 4, 'बदलते': 4, 'इफ्तार': 4, 'वसूली': 4, 'कार्यकर्ता': 4, 'मातापिता': 4, 'पाठ': 4, 'दोनो': 4, 'एजेंट': 4, 'बताने': 4, 'चिट्ठी': 4, 'करेंगी': 4, 'रहो': 4, 'अरोड़ा': 4, 'जीतेगी': 4, 'विशेषज्ञ': 4, 'गौर': 4, 'चलना': 4, 'नियमों': 4, 'अधूरा': 4, 'किराए': 4, 'अंधविश्वास': 4, 'जोश': 4, 'आरोपों': 4, 'बरेली': 4, 'रामलीला': 4, 'त्रासदी': 4, 'बड़ी': 4, 'बैठती': 4, 'प्रसंगों': 4, 'नतीजतन': 4, 'नवीनता': 4, 'हंसाने': 4, 'तालमेल': 4, 'बांध': 4, 'अभ्यास': 4, 'नयापन': 4, 'स्वाद': 4, 'भारद्वाज': 4, 'परिवारों': 4, 'नायक': 4, 'मुकेश': 4, 'बंटी': 4, 'जानबूझकर': 4, 'कास्टिंग': 4, 'जल्दबाजी': 4, 'समझे': 4, 'उतरती': 4, 'सिनेमेटोग्राफी': 4, 'पाएं': 4, 'मधुर': 4, 'अक्सर': 4, 'उलझी': 4, 'कारणों': 4, 'स्थानों': 4, 'निर्देशित': 4, 'घटनाएं': 4, 'बहरहाल': 4, 'चित्रित': 4, 'बाजपेयी': 4, 'तत्व': 4, 'बेअसर': 4, 'कही': 4, 'झलक': 4, 'बांधे': 4, 'केशव': 4, 'गढ़ने': 4, 'अतीत': 4, 'असरदार': 4, 'चरित्रों': 4, 'मामलों': 4, 'भटक': 4, 'प्रभावों': 4, 'ट्रैक': 4, 'संयोजन': 4, 'डरा': 4, 'भरपाई': 4, 'सेट': 4, 'संरचना': 4, 'चूंकि': 4, 'सम्राट': 4, 'बेमतलब': 4, 'जुगलबंदी': 4, 'तूफान': 4, 'फटा': 4, 'पढ़ाने': 4, 'आधारित': 4, 'सैमसंग': 4, 'दूल्हे': 4, 'लौटे': 4, 'गिराए': 4, 'सपनों': 4, 'सौंपी': 4, 'हल': 4, 'दूंगा': 4, 'गुंडागर्दी': 4, 'चूहे': 4, 'नफरत': 4, 'अनुपम': 4, 'सोचने': 4, 'देखेंगे': 4, 'फकफक': 4, 'संस्कार': 4, 'ऊँ': 4, 'उनपर': 4, 'इंसाफ': 4, 'प्रार्थना': 4, 'निकालते': 4, 'मोहल्ले': 4, 'श्राद्ध': 4, 'होशियार': 4, 'हारी': 4, 'अमन': 4, 'ऋषि': 4, 'टेबल': 4, 'खोलते': 4, 'एकएक': 4, 'अब्राहम': 4, 'शेट्टी': 4, 'उतारा': 4, 'विनय': 4, 'किरण': 4, 'ओमप्रकाश': 4, 'अख्तर': 4, 'मिल्खा': 4, 'संकेत': 4, 'सस्पेंस': 4, 'खुलने': 4, 'लेवल': 4, 'छू': 4, 'देवगन': 4, 'आयुष्मान': 4, 'देगी': 4, 'मुन्ना': 4, 'शार्प': 4, 'उड़ान': 4, 'वाकिफ': 4, 'कृति': 4, 'एक्\\u200dशन': 4, 'रोबोट': 4, 'राणा': 4, 'वाक्य': 4, 'रुख': 4, 'वजनी': 4, 'औरत': 4, 'शाहरुख': 4, 'एम्स': 4, 'डांसिंग': 4, 'इंतजाम': 4, 'हैप्पी': 4, 'लगेगा': 4, 'शैली': 4, 'जुनैद': 4, 'कैरेक्टर': 4, 'गीतकार': 4, 'हस्ताक्षर': 4, 'चाचा': 4, 'कृपलानी': 4, 'दिखाकर': 4, 'आर्टिस्ट': 4, 'सीनियर': 4, 'रि': 4, 'करिए': 4, 'फैली': 4, 'डंडों': 4, 'हो': 4, 'अभूतपूर्व': 4, 'कारतूस': 4, 'आईएएस': 4, 'किन': 4, 'दुर्घटना': 4, 'स्टंट': 4, 'घुसे': 4, 'पहाड़गंज': 4, 'अमृतसर': 4, 'इनसाइड': 4, 'कुंज': 4, 'मेट्रो': 4, 'उड़ी': 4, 'पटाखे': 4, 'उद्घाटन': 4, 'ग्रीन': 4, 'ज़रूरत': 4, 'बुलाया': 4, 'कमरे': 4, 'अपराधी': 4, 'जगहजगह': 4, 'अरेस्ट': 4, 'सुहाना': 4, 'गिरफ्तारदेखिए': 4, 'दुष्कर्म': 4, 'पूर्वी': 4, 'उत्पीड़न': 4, 'नमाज': 4, 'कॉल': 4, 'समर्थकों': 4, 'सुनिश्चित': 4, 'मोती': 4, 'कक्षा': 4, 'कुचला': 4, 'गया': 4, 'नजारा': 4, 'एयरहोस्टेस': 4, 'एकड़': 4, 'सिल्वर': 4, 'बिल्डर': 4, 'मेजर': 4, 'जनरल': 4, 'हांडा': 4, 'कैंट': 4, 'बरार': 4, 'स्क्वायर': 4, 'तकरीबन': 4, 'तीस': 4, 'राउंड': 4, 'ताजा': 4, 'महाराणा': 4, 'पंजाबी': 4, 'नागर': 4, 'रहे': 4, 'सेफ्टी': 4, 'ठगी': 4, 'आसाराम': 4, 'ड्राइवर': 4, 'नेहरू': 4, 'पेपर': 4, 'एटीएम': 4, 'इनाम': 4, 'अतुल': 4, 'चोरों': 4, 'कर्मी': 4, 'ी': 4, 'मंज़िल': 4, 'पहुंचने': 4, 'रूपए': 4, 'लाखों': 4, 'जिंदल': 4, 'कृष्ण': 4, 'लावारिस': 4, 'एग्जिट': 4, 'तिरंगे': 4, 'फंस': 4, 'पारा': 4, 'रोजाना': 4, 'रिकॉर्ड': 4, 'तैनाती': 4, 'जुटा': 4, 'गुनगुना': 4, 'अलगाववादियों': 4, 'अंतरराष्ट्रीय': 4, 'रच': 4, 'सिस्टम': 4, 'आईएसआई': 4, 'विस्फोट': 4, 'बलों': 4, 'स्पोर्ट्स': 4, 'वाड्रा': 4, 'लद्दाख': 4, 'जम': 4, 'कानपुर': 4, 'पान': 4, 'काल': 4, 'आदिवासी': 4, 'आधुनिक': 4, 'जाँबाज': 4, 'मनाया': 4, 'किरेन': 4, 'वैज्ञानिक': 4, 'देशभर': 4, 'फोर्स': 4, 'घाट': 4, 'अमरनाथ': 4, 'विकल्प': 4, 'डिकोड': 4, 'सीरिया': 4, 'दिखावा': 4, 'नोटबंदी': 4, 'लौटने': 4, 'आतंकित': 4, 'ओ': 4, 'प्रोजेक्ट': 4, 'बांटने': 4, 'राज्यमंत्री': 4, 'मनपसंद': 4, 'सचिव': 4, 'महिंद्रा': 4, 'सबक': 4, 'प्रथा': 4, 'गज़ब': 4, 'इलाहाबाद': 4, 'संसाधन': 4, 'सुस्त': 4, 'अशोक': 4, 'कैट': 4, 'सिंधु': 4, 'मंजूरी': 4, 'सुविधाओं': 4, 'ज्यों': 4, 'सशक्त': 4, 'दौरा': 4, 'सलमा': 4, 'भागने': 4, 'बदलेगा': 4, 'बेचकर': 4, 'देशवासियों': 4, 'जानें': 4, 'गोरखपुर': 4, 'हटा': 4, 'शरद': 4, 'बहुमत': 4, 'अद्भुत': 4, 'अहमद': 4, 'कॉम': 4, 'भुला': 4, 'निभाते': 4, 'जितने': 4, 'बहाना': 4, 'गाय': 4, 'कंठ': 4, 'घूमते': 4, 'लोन': 4, 'सितम्बर': 4, 'जायज': 4, 'नाइजीरिया': 4, 'पलायन': 4, 'बैठने': 4, 'ईर्ष्या': 4, 'सख्ती': 4, 'सीना': 4, 'क़दम': 4, 'सिंगर': 4, 'गंदी': 4, 'ब्वॉयफ्रेंड': 4, 'मा': 4, 'भोजपुरी': 4, 'पीटने': 4, 'चौहान': 4, 'कराई': 4, 'वार्ड': 4, 'बनाएंगे': 4, 'उत्साह': 4, 'ब्रिगेड': 4, 'ऐप': 4, 'साथी': 4, 'सुराग': 4, 'नट': 4, 'दलितों': 4, 'दोस्ताना': 4, 'मैत्रीपूर्ण': 4, 'शुक्ल': 4, 'खरीदना': 4, 'आरंभ': 4, 'डिस्काउंट': 4, 'दिव्य': 4, 'रैंकिंग': 4, 'स्ववित्त': 4, 'कॉलेजों': 4, 'खुशखबरी': 4, 'गुण': 4, 'शैक्षणिक': 4, 'उतारना': 4, 'बढ़ना': 4, 'खुलना': 4, 'दिखावटी': 4, 'मोहित': 4, 'कठिनाई': 4, 'सुनते': 4, 'रिजल्ट': 4, 'पकड़ना': 4, 'छोर': 4, 'कईयों': 4, 'मचाने': 4, 'प्रहार': 4, 'जिलाधिकारी': 4, 'डा': 4, 'यूजर्स': 4, 'वेतन': 4, 'सेरेना': 4, 'चाहेगी': 4, 'एक्सपो': 4, 'सलामती': 4, 'कुपोषण': 4, 'निपटा': 4, 'वकीलों': 4, 'नॉर्मल': 4, 'पकड़ने': 4, 'हलचल': 4, 'क्वीन': 4, 'मुरलीधरन': 4, 'धौनी': 4, 'अजिंक्य': 4, 'बहुमुखी': 4, 'एशिया': 4, 'आगामी': 4, 'कहावत': 4, 'नौवें': 4, 'तांबे': 4, 'परियोजनाओं': 4, 'उल्लघंन': 4, 'प्रमाण': 4, 'उच्चतम': 4, 'माली': 4, 'उतरेगा': 4, 'टमाटर': 4, 'सब्जी': 4, 'निष्कर्ष': 4, 'गर्मियों': 4, 'हृदय': 4, 'शिक्षित': 4, 'बरकतउल्ला': 4, 'रोका': 4, 'सकारात्मक': 4, 'बैलेंस': 4, 'जायरीन': 4, 'सेंसेक्स': 4, 'अंक': 4, 'एबीसी': 4, 'क्रेडिट': 4, 'तवज्जों': 4, 'टीवीएस': 4, 'हौसलों': 4, 'बढ़ाना': 4, 'जिसपर': 4, 'वित्तीय': 4, 'स्थल': 4, 'परीक्षण': 4, 'गोल्ड': 4, 'माइक्रो': 4, 'ब्लॉगिंग': 4, 'विकासवाद': 4, 'सूक्ष्म': 4, 'तबदील': 4, 'जंगल': 4, 'पिचें': 4, 'लॉन्ग': 4, 'टर्म': 4, 'ब्याज': 4, 'श्रेय': 4, 'मलिंगा': 4, 'सहजता': 4, 'तिलक': 4, 'शौचालय': 4, 'चिकित्सा': 4, 'प्रबंध': 4, 'सेंटरों': 4, 'संरक्षण': 4, 'बाराती': 4, 'विवादों': 4, 'पराजित': 4, 'टीजर': 4, 'उपभोक्ता': 4, 'बॉन्ड': 4, 'सेकंड': 4, 'फिंच': 4, 'लौटना': 4, 'नियमित': 4, 'अमीर': 4, 'ट्रस्ट': 4, 'अस्वीकृत': 4, 'इंडोनेशिया': 4, 'कुपथ्य': 4, 'दरिंदगी': 4, 'प्राचार्य': 4, 'प्रगति': 4, 'मची': 4, 'यात्री': 4, 'घबरा': 4, 'पालिका': 4, 'सतर्कता': 4, 'खुदाई': 4, 'वारंट': 4, 'अधिग्रहीत': 4, 'सिद्ध': 4, 'अलिखित': 4, 'दक्ष': 4, 'अमले': 4, 'टू': 4, 'गिरावट': 4, 'महत्त्वपूर्ण': 4, 'मीनल': 4, 'फेंका': 4, 'जोया': 4, 'परवरिश': 4, 'मलेरिया': 4, 'लियोन': 4, 'अनाज': 4, 'डुमिनी': 4, 'ऋण': 4, 'शीला': 4, 'खोलकर': 4, 'रमेश': 4, 'पॉटरीज': 4, 'चढ़ने': 4, 'चेयरमैन': 4, 'आइपीएल': 4, 'दुकानें': 4, 'झगड़े': 4, 'कमिटी': 4, 'पांचवीं': 4, 'वारदातों': 4, 'आइसीसी': 4, 'अकुशल': 4, 'हरदम': 4, 'नरवाई': 4, 'रोगियों': 4, 'भड़क': 4, 'उठे': 4, 'बिकती': 4, 'सीधी': 4, 'कुटिल': 4, 'स्वाभाविक': 4, 'ताकतवर': 4, 'रोजगार': 4, 'तारे': 4, 'पीछा': 4, 'अनजान': 4, 'संभाली': 4, 'सलाह': 4, 'सब्सिडी': 4, 'करूंगी': 4, 'लागत': 4, 'अभिभावकों': 4, 'अत्यन्त': 4, 'मनोबल': 4, 'गेल': 4, 'जाएं': 4, 'अफवाह': 4, 'अप्रत्याशित': 4, 'उतर': 4, 'फ्लाइट': 4, 'उन्नति': 4, 'वृक्ष': 4, 'तेजस्वी': 4, 'एसपी': 4, 'सत्यापन': 4, 'मंडल': 4, 'कर्णधार': 4, 'दशा': 4, 'जेपी': 4, 'घात': 4, 'क्षेत्रीय': 4, 'चुटकी': 4, 'प्रतिकूल': 4, 'कुएं': 4, 'हवाओं': 4, 'उदय': 4, 'उड़ाया': 4, 'भीड़भाड़': 4, 'अप्रैल': 4, 'नागवार': 4, 'आईए': 4, 'पक्षकार': 4, 'एंकर्स': 4, 'हिंदुत्व': 4, 'अपडेट्स': 4, 'भड़का': 4, 'जवाबदेखिए': 4, 'हेराल्ड': 4, 'घुसपैठियों': 4, 'हिंदुस्तानी': 4, 'कठुआ': 4, 'थ्योरी': 4, 'दंग': 4, 'त्रिपुरा': 4, 'लेनिन': 4, 'लुटेरे': 4, 'सवानी': 4, 'छन्नूलाल': 4, 'मिश्र': 4, 'बत्ती': 4, 'रिहाई': 3, 'अंग्रेजी': 3, 'इल्जाम': 3, 'आँसू': 3, 'महेंद्र': 3, 'खुलता': 3, 'दहेज': 3, 'धारा': 3, 'खुदा': 3, 'आईएस': 3, 'इन्होंने': 3, 'अन्ना': 3, 'निठारी': 3, 'जल्लाद': 3, 'खाई': 3, 'चिन्ता': 3, 'खाए': 3, 'मानहानि': 3, 'खासे': 3, 'सेंटियापा': 3, 'संदेह': 3, 'फेंक': 3, 'नजदीक': 3, 'पहुँच': 3, 'बैनर': 3, 'यो': 3, 'द्रविड़': 3, 'जीते': 3, 'बेचते': 3, 'साँप': 3, 'चाँद': 3, 'लेख': 3, 'गडकरी': 3, 'वहा': 3, 'कोली': 3, 'देशप्रेम': 3, 'बिकाऊ': 3, 'भ्रष्ट': 3, 'चुप': 3, 'वरना': 3, 'पंडितों': 3, 'मधेशी': 3, 'मार्मिक': 3, 'अनूप': 3, 'बेरोजगार': 3, 'बीए': 3, 'कीड़े': 3, 'गिलानी': 3, 'अत्याचारी': 3, 'जहाज': 3, 'आँखें': 3, 'कहती': 3, 'रोने': 3, 'मसाला': 3, 'समाजवाद': 3, 'कार्यवाही': 3, 'आओ': 3, 'हु': 3, 'साहस': 3, 'जाग': 3, 'सेकुलर': 3, 'साम्प्रदायिक': 3, 'मुहम्मद': 3, 'अपहरण': 3, 'लूटते': 3, 'दोष': 3, 'रांची': 3, 'दोस्ती': 3, 'फेंके': 3, 'अमेठी': 3, 'बोलो': 3, 'दास्तां': 3, 'कराकर': 3, 'हराया': 3, 'पवेलियन': 3, 'उजागर': 3, 'धोते': 3, '॥': 3, 'इज्जत': 3, 'ग्रंथों': 3, 'आवागमन': 3, 'केजरू': 3, 'महंगी': 3, 'बर्बरता': 3, 'चाहा': 3, 'वास्तविक': 3, 'बंसल': 3, 'सचाई': 3, 'परंपरा': 3, 'लोकपाल': 3, 'अनशन': 3, 'मौन': 3, 'आन्दोलन': 3, 'बिक': 3, 'शंकर': 3, 'तमाचा': 3, 'नाराज़': 3, 'खातिर': 3, 'भास्कर': 3, 'नाकामी': 3, 'विवेचक': 3, 'आहे': 3, 'रातों': 3, 'निकलता': 3, 'दिग्विजय': 3, 'झुके': 3, 'लाठी': 3, 'उपर': 3, 'बाते': 3, '—': 3, 'बेचारा': 3, 'कान': 3, 'पहनना': 3, 'जर्जर': 3, 'सट्टा': 3, 'बॉस': 3, 'दिखाता': 3, 'जिस्म': 3, 'रूह': 3, 'अरे': 3, 'कुत्ता': 3, 'कुत्ते': 3, 'चाह': 3, 'आख़िर': 3, 'आंसू': 3, 'अंदाज़': 3, 'अफ्रीकी': 3, 'मोटी': 3, 'इस्तीफे': 3, 'जला': 3, 'असमर्थ': 3, 'बताकर': 3, 'छोड़ते': 3, 'साफ़': 3, 'भगवान्': 3, 'हिन्दुओं': 3, 'दिवाला': 3, 'हिन्द': 3, 'आँखे': 3, 'बरसो': 3, 'कीजिये': 3, 'बसाने': 3, 'शुद्धिकरण': 3, 'धीरे': 3, 'सागर': 3, 'छुपे': 3, 'बोतल': 3, 'क्योकि': 3, 'भीख': 3, 'पकड़ी': 3, 'सन्न': 3, 'सोचा': 3, 'होश': 3, 'अकेली': 3, 'डिजाइनर': 3, 'क्रांति': 3, 'ज़िम्मेदार': 3, 'फिराक': 3, 'नामों': 3, 'मानकों': 3, 'फैन': 3, 'शान': 3, 'परिभाषा': 3, 'लेकिन': 3, 'बाबू': 3, 'दंगों': 3, 'सज्जन': 3, 'ओवरों': 3, 'हंसने': 3, 'ऊंची': 3, 'ब्लड': 3, 'हटी': 3, 'किमी': 3, 'ईवीएम': 3, 'ख़राब': 3, 'पार्थिव': 3, 'हंगामे': 3, 'बनाएगी': 3, 'दहन': 3, 'मायने': 3, 'अपनी': 3, 'ज़िंदा': 3, 'आपसे': 3, 'केरल': 3, 'नाटक': 3, 'द्वीप': 3, 'क़ीमत': 3, 'तस्वीरों': 3, 'जनाब': 3, 'आदत': 3, 'दंगल': 3, 'रखिए': 3, 'इंजीनियर': 3, 'खामी': 3, 'शोले': 3, 'नेताजी': 3, 'शाखा': 3, 'तगड़ा': 3, 'खौफनाक': 3, 'कचरे': 3, 'आबरू': 3, 'टिपिकल': 3, 'टॉस': 3, 'जीतेंगे': 3, 'अज़हर': 3, 'विस्तृत': 3, 'तुलना': 3, 'पांव': 3, 'हजारो': 3, 'डूबा': 3, 'जोड़': 3, 'पेड़ों': 3, 'गोवा': 3, 'कुछ': 3, 'महाजन': 3, '–': 3, 'ग्रहण': 3, 'बाजी': 3, 'जिनसे': 3, 'अमानतुल्लाह': 3, 'कगार': 3, 'विचारों': 3, 'रखकर': 3, 'दिसंबर': 3, 'कैलाश': 3, 'मानसरोवर': 3, 'यूरोप': 3, 'कार्यसमिति': 3, 'जरिये': 3, 'ड्रैगन': 3, 'हैलेकिन': 3, 'हारकर': 3, 'नारा': 3, 'बनाम': 3, 'शिष्टाचार': 3, 'लड़ेंगे': 3, 'कोहरे': 3, 'देशद्रोह': 3, 'कौर': 3, 'हिली': 3, 'गुलशन': 3, 'वांछित': 3, '‘अंडरग्राउंड’': 3, 'फिराक़': 3, 'ऑनलाइन': 3, 'दू': 3, 'सम्मानित': 3, 'पुनिया': 3, 'रथ': 3, 'सबकी': 3, 'आएं': 3, 'दीवार': 3, 'शायरी': 3, 'सूफी': 3, 'नज़राने': 3, 'खज़ाने': 3, 'लोकगीत': 3, 'तरानेबहुत': 3, 'घूमने': 3, 'सुप्रभात': 3, 'साझा': 3, 'चेंज': 3, 'बनती': 3, 'मनोहर': 3, 'जोशी': 3, 'कॉमेंट': 3, 'शर्त': 3, 'सदस्यता': 3, 'झेल': 3, 'भाती': 3, 'हारे': 3, 'जिंदाबाद': 3, 'पछताए': 3, 'चिकन': 3, 'सूप': 3, 'शरबत': 3, 'क्रिस्पी': 3, 'लिए': 3, 'रंगदारी': 3, 'पृथ्वी': 3, 'रूस': 3, 'सैलरी': 3, 'संवाददा': 3, 'हेमंत': 3, 'करकरे': 3, 'भूख': 3, 'सिसोदिया': 3, 'कर': 3, 'एफआईआर': 3, 'तोड़ा': 3, 'ताला': 3, 'नहींदेखिए': 3, 'पढ़ें': 3, 'सस्पेंड': 3, 'कमीशन': 3, 'हरियाली': 3, 'बिखर': 3, 'जेटली': 3, 'डॉन': 3, 'चलेगी': 3, 'लिखी': 3, 'रिपोर्ट्स': 3, 'सत्य': 3, 'दाखिल': 3, 'क्\\u200dयों': 3, 'बताए': 3, 'जुड़ा': 3, 'मेहमानों': 3, 'मोह': 3, 'बचाई': 3, 'घर': 3, 'पारंपरिक': 3, 'उड़ना': 3, 'औकात': 3, 'ज़ुबानी': 3, 'छाती': 3, 'बोर': 3, 'संदर्भ': 3, 'हड्डी': 3, 'भरम': 3, 'हसन': 3, 'सुकून': 3, 'चुस्त': 3, 'डालती': 3, 'खानापूर्ति': 3, 'इसक': 3, 'कुचल': 3, 'नकल': 3, 'थोड़ी': 3, 'भेद': 3, 'नशा': 3, 'वांटेड': 3, 'रोमियो': 3, 'राजेश': 3, 'विषयों': 3, 'इंटरवल': 3, 'हसीना': 3, 'हंसल': 3, 'क्लाइमेक्स': 3, 'मिलन': 3, 'चाहने': 3, 'बोझिल': 3, 'जानी': 3, 'जरुरत': 3, 'खींच': 3, 'सजी': 3, 'आला': 3, 'असरहीन': 3, 'अभिषेक': 3, 'तानाबाना': 3, 'समुचित': 3, 'खटकता': 3, 'सहयोगी': 3, 'रामगोपाल': 3, 'चित्त': 3, 'फिल्मकार': 3, 'भयंकर': 3, 'विफल': 3, 'सिनेमाघर': 3, 'मुट्ठी': 3, 'फिल्\\u200dमों': 3, 'पेंच': 3, 'भटकने': 3, 'निखर': 3, 'निरर्थक': 3, 'मारिया': 3, 'है’': 3, 'बढ़ाती': 3, 'प्रतिभाओं': 3, 'रईस': 3, 'प्रचलित': 3, 'अखरता': 3, 'भावनात्मक': 3, 'विश्वसनीयता': 3, 'खासियत': 3, 'मेनन': 3, 'चुनते': 3, 'पटना': 3, 'व्यवधान': 3, 'बालन': 3, 'सपोर्ट': 3, 'सिने': 3, 'अपेक्षाओं': 3, 'भवानी': 3, 'कसी': 3, 'ग्लोबल': 3, 'समस्याएं': 3, 'शिल्प': 3, 'आग्रह': 3, 'कमियों': 3, 'लीला': 3, 'यूनिवर्सिटी': 3, 'उर्जा': 3, 'जागरण': 3, 'फीसदी': 3, 'फलों': 3, 'केजरी': 3, 'पहुँचे': 3, 'सीखा': 3, 'अधिकृत': 3, 'आगा': 3, 'आब्दी': 3, 'पारदर्शी': 3, 'भेजने': 3, 'समस्त': 3, 'पूर्वज': 3, 'तर्ज': 3, 'सुख': 3, 'कला': 3, 'नागरिक': 3, 'बादशाह': 3, 'रात्री': 3, 'साक्षात्': 3, 'दादा': 3, 'पावर': 3, 'चिता': 3, 'पप्पू': 3, 'सुल्तान': 3, 'चंद': 3, 'जस्टिस': 3, 'जहा': 3, 'इसपर': 3, 'मौर्या': 3, 'मोरया': 3, 'स्विस': 3, 'अलविदा': 3, 'उमदा': 3, 'निभाई': 3, 'पवित्र': 3, 'त्याग': 3, 'अमंगल': 3, 'बरस': 3, 'अभिवादन': 3, 'जिद': 3, 'भूमिकाओं': 3, 'उपयुक्त': 3, 'हैदर': 3, 'चंदन': 3, 'ठंडी': 3, 'संयमित': 3, 'टाइमिंग': 3, 'बनाती': 3, 'पहलुओं': 3, 'अंतराल': 3, 'शौरी': 3, 'किशोर': 3, 'बाह्य': 3, 'आत्मसात': 3, 'बोध': 3, 'सांद्र': 3, 'बढ़ाया': 3, 'लाकर': 3, 'वर्क': 3, 'उपस्थिति': 3, 'स्ट्रांग': 3, 'डेब्यू': 3, 'बंधन': 3, 'सुपरस्टार': 3, 'न्यूटन': 3, 'टॉयलेट': 3, 'कंधों': 3, 'फौजी': 3, 'बर्बादी': 3, 'रवीना': 3, 'टंडन': 3, 'रहस्यमयी': 3, 'शिद्दत': 3, 'बैकग्राउंड': 3, 'दिलचस्\\u200dप': 3, 'पहलू': 3, 'मैसी': 3, 'हर्ष': 3, 'निस्संदेह': 3, 'परिणीति': 3, 'चमकदार': 3, 'बतौर': 3, 'परे': 3, 'अन्\\u200dय': 3, 'सार्थक': 3, 'दोस्\\u200dत': 3, 'रनोट': 3, 'जॉली': 3, 'रितिक': 3, 'प्रेरक': 3, 'ग्रोथ': 3, 'पैकेजिंग': 3, 'कॉमिक': 3, 'यादगार': 3, 'लगाव': 3, 'आरपार': 3, 'अनुभूति': 3, 'मोर्चे': 3, 'यामी': 3, 'सुलभ': 3, 'विपिन': 3, 'गीतों': 3, 'बी': 3, 'उतने': 3, 'कहकर': 3, 'रेज': 3, 'मृतक': 3, 'कौशिक': 3, 'मुकाम': 3, 'अपार्टमेंट': 3, 'उच्चायोग': 3, 'इंटरनेशनल': 3, 'अखलाक': 3, 'लाया': 3, 'कोंडली': 3, 'खारी': 3, 'बावली': 3, 'प्रांतों': 3, 'रेस्टोरेंट': 3, 'ग': 3, 'गर्दन': 3, 'रिपोर्टअन्य': 3, 'हेड': 3, 'लाशें': 3, 'किया': 3, 'एकाएक': 3, 'कोहरा': 3, 'गुत्थी': 3, 'उधारी': 3, 'कमर': 3, 'पांडेय': 3, 'जुड़ी': 3, 'एक्ट': 3, 'किशनगढ़': 3, 'प्लेस': 3, 'कूड़ा': 3, 'गंदगी': 3, 'सबरीमाला': 3, 'बीमारियां': 3, 'हुआ': 3, 'फैले': 3, 'एमसीडी': 3, 'अज़ान': 3, 'दिलशाद': 3, 'ताज़ा': 3, 'चार्जशीट': 3, 'मांझे': 3, 'मासूमों': 3, 'अनोखी': 3, 'प्राइवेट': 3, 'गला': 3, 'अनीशिया': 3, 'अलमारी': 3, 'गौशाला': 3, 'बटन': 3, 'हैजो': 3, 'त्वरित': 3, 'संत': 3, 'मरना': 3, 'पाइपों': 3, 'घटनास्थल': 3, 'एंगल': 3, 'रिश्तेदार': 3, 'फतेहपुर': 3, 'बेरी': 3, 'ट्रक': 3, 'एसोसिएशन': 3, 'जंगलों': 3, 'बालों': 3, 'पहुंचाया': 3, 'बदमाशो': 3, 'बचकर': 3, 'जायज़ा': 3, 'एंटी': 3, 'मजदूरों': 3, 'बवाना': 3, 'पुरुषों': 3, 'देखि': 3, 'वैन': 3, 'आश्रम': 3, 'मनु': 3, 'सुधरने': 3, 'दहला': 3, 'चौथे': 3, 'इलेक्ट्रॉनिक': 3, 'हताहत': 3, 'काटने': 3, 'नीरज': 3, 'शूटर': 3, 'बरतने': 3, 'जेएनयू': 3, 'जहरीली': 3, 'सेल्फी': 3, 'स्टूडेंट्स': 3, 'साफसाफ': 3, 'कांफ्रेंस': 3, 'राग': 3, 'टैक्सी': 3, 'फ्लोर': 3, 'ओला': 3, 'चैटिंग': 3, 'एयरफोर्स': 3, 'बहनों': 3, 'शोएब': 3, 'सुरंग': 3, 'थी': 3, 'नजीब': 3, 'बचाकर': 3, 'भागेंगे': 3, 'वोटर्स': 3, 'जीतकर': 3, 'उमड़ा': 3, 'उन्नाव': 3, 'वोटरों': 3, 'कैराना': 3, 'उंगली': 3, 'म्यांमार': 3, 'रवाना': 3, 'नज़दीकी': 3, 'स्नाइपर': 3, 'ख़ान': 3, 'प्रशिक्षण': 3, 'हिमालय': 3, 'जैशएमोहम्मद': 3, 'फैलाने': 3, 'पैड': 3, 'थम': 3, 'रहा': 3, 'पैरा': 3, 'जोशीमठ': 3, 'फ़ीट': 3, 'इग्लू': 3, 'चैन': 3, 'दुश्मनों': 3, 'जंबाज़ों': 3, 'निगहबानी': 3, 'लहराता': 3, 'कोलकाता': 3, 'ताप': 3, 'श्री': 3, 'चादर': 3, 'बौखला': 3, 'दास': 3, 'राजन': 3, 'एक्सक्लूसिव': 3, 'साथसाथ': 3, 'श्रीनगर': 3, 'जाल': 3, 'लगाम': 3, 'आतंकवादियों': 3, 'चुन': 3, 'वाटर': 3, 'नेवी': 3, 'कीपैड': 3, 'जिहादियों': 3, 'हंट': 3, 'जांबाज़': 3, 'झूठे': 3, 'श्रीश्री': 3, 'आपसी': 3, 'उ': 3, 'गुजराती': 3, 'आतंकियो': 3, 'जुटे': 3, 'हक़': 3, 'यूँ': 3, 'जुलाई': 3, 'लालबत्ती': 3, 'जै': 3, 'कार्यभार': 3, 'अनाथ': 3, 'भोले': 3, 'नाज़': 3, 'सैफई': 3, 'बैक': 3, 'मैनेजर': 3, 'धनराशि': 3, 'सरकारों': 3, 'दुर्गम': 3, 'पहाड़ी': 3, 'प्लानिंग': 3, 'माँगने': 3, 'लॉ': 3, 'ऑर्डर': 3, 'एमपी': 3, 'प्रोग्राम': 3, 'हाईटेक': 3, 'तेंदुए': 3, 'बेकरी': 3, 'पत्थरबाज़': 3, 'वानी': 3, 'उठाएंगे': 3, 'कांस्य': 3, 'यूसुफ': 3, 'कौन': 3, 'दोगुना': 3, 'आलू': 3, 'कॉर्नर': 3, 'मूर्त': 3, 'आजादी': 3, 'दूँगा': 3, 'अंग': 3, 'परिपूर्ण': 3, 'अंग्रेज़ी': 3, 'हैअब': 3, 'राजभर': 3, 'कवायद': 3, 'एक्सिस': 3, 'अनुमान': 3, 'समझाने': 3, 'लिखता': 3, 'किल्लत': 3, 'गुजर': 3, 'लहूलुहान': 3, 'बिताये': 3, 'सुन': 3, 'इनको': 3, 'तवे': 3, 'बरसों': 3, 'शोक': 3, 'बांट': 3, 'असुरक्षित': 3, 'मुस्लिमों': 3, 'भारती': 3, 'नीलामी': 3, 'महापाप': 3, 'बांधा': 3, 'उड़ाते': 3, 'राजाओं': 3, 'जुर्माना': 3, 'सताने': 3, 'बाँधकर': 3, 'बोहरा': 3, 'हीरोइन': 3, 'एजाज': 3, 'बाबत': 3, 'क़रीब': 3, 'रंजीत': 3, 'कुलभूषण': 3, 'स्टैंड': 3, 'टकराव': 3, 'आसार': 3, 'दर्शाया': 3, 'गुनाह': 3, 'झाड़ियों': 3, 'भीम': 3, 'मोहर': 3, 'डोनेशन': 3, 'वर्दी': 3, 'वादे': 3, 'समझकर': 3, 'फंसी': 3, 'पहलवानों': 3, 'पार्षद': 3, 'सीजीओ': 3, 'कॉम्प्लेक्स': 3, 'कूदे': 3, 'युवतियां': 3, 'एसएसपी': 3, 'बुखार': 3, 'चलाई': 3, 'काटकर': 3, 'अस्थाना': 3, 'डीएसपी': 3, 'आंकड़ा': 3, 'ठंडा': 3, 'जेडीयू': 3, 'वाइस': 3, 'स्नान': 3, 'मादक': 3, 'व्यक्गित': 3, 'बालमन': 3, 'पड़ताल': 3, 'गैरी': 3, 'नवोदित': 3, 'एप': 3, 'सूर्य': 3, 'लेग': 3, 'कागज': 3, 'प्रेमियों': 3, 'मॅक्\\u200dकुलम': 3, 'रूख': 3, 'पलटना': 3, 'वक्तव्य': 3, 'विदेशों': 3, 'चौके': 3, 'उपरांत': 3, 'सुभाष': 3, 'समाजों': 3, 'बंधे': 3, 'मुनाफे': 3, 'मुद्रास्फीति': 3, 'फॉलोअर्स': 3, 'प्रोफाइल': 3, 'यूनिट': 3, 'रियो': 3, 'यूज़र': 3, 'एक्स्पीरियंस': 3, 'अनाकर्षक': 3, 'सुपरटेक': 3, 'आंकड़ों': 3, 'कमिशिनिंग': 3, 'पूर्वक': 3, 'बलवान': 3, 'सबल': 3, 'रिस्पॉन्स': 3, 'उड़ानों': 3, 'आईसीसी': 3, 'रवींद्र': 3, 'फीरोजशाह': 3, 'बदौलत': 3, 'निकासी': 3, 'डीपीआईपी': 3, 'सोनी': 3, 'चौथा': 3, 'थ्यौरी': 3, 'नियामकीय': 3, 'क्षेत्राधिकार': 3, 'आवंटन': 3, 'रखेगी': 3, 'स्टाइलस': 3, 'डीसी': 3, 'जेतली': 3, 'लाभार्थियों': 3, 'मंत्रिमंडलीय': 3, 'पुनर्जीवित': 3, 'आचार': 3, 'संहिता': 3, 'रैफरियों': 3, 'संयोग': 3, 'महाफलदायी': 3, 'इशांत': 3, 'सबकों': 3, 'मिलजुल': 3, 'समग्र': 3, 'कमाया': 3, 'तोड़ते': 3, 'बस्ती': 3, 'ब्रिटेन': 3, 'पैनल': 3, 'हेल्थ': 3, 'मेहर': 3, 'ऋतिक': 3, 'क्लब': 3, 'अनार': 3, 'लोड': 3, 'जेवर': 3, 'सराफा': 3, 'ब्रांडेड': 3, 'देशी': 3, 'कूलर': 3, 'स्वर': 3, 'परिणामों': 3, 'अहित': 3, 'प्रदूषित': 3, 'डेयरडेविल्स': 3, 'दरगाह': 3, 'ख्वाजा': 3, 'मन्नत': 3, 'रायल्स': 3, 'बबिता': 3, 'जेठालाल': 3, 'फ़िदा': 3, 'विश्लेषकों': 3, 'रेटिंग': 3, 'मूवी': 3, 'सौदा': 3, 'डायमंड': 3, 'हरफनमौला': 3, 'युसफ': 3, 'जताया': 3, 'तालिका': 3, 'टॉप': 3, 'स्टाफ': 3, 'लेती': 3, 'साहसिक': 3, 'गर्ल': 3, 'राजग': 3, 'छत': 3, 'चलकर': 3, 'गांठ': 3, 'समर': 3, 'शारापोवा': 3, 'क्वॉलिटी': 3, 'आइडिया': 3, 'रजनी': 3, 'परंपरागत': 3, 'रिजर्व': 3, 'पक्षपाती': 3, 'बढते': 3, 'जोशीला': 3, 'अभिक्रिया': 3, 'इच्छित': 3, 'गणेश': 3, 'प्रवाहित': 3, 'घाघरा': 3, 'विलीन': 3, 'ब्रॉन्ज': 3, 'नम्रतापूर्वक': 3, 'एप्पल': 3, 'बडा': 3, 'देवी': 3, 'कागजी': 3, 'बॉन्डों': 3, 'कांबली': 3, 'लुभावना': 3, 'मैकुलम': 3, 'कुलकर्णी': 3, 'छक्का': 3, 'बाउंड्री': 3, 'युजवेंद्र': 3, 'चहल': 3, 'टूर': 3, 'क्वॉर्टर्स': 3, 'यील्ड्स': 3, 'बेसिस': 3, 'प्वाइंट्स': 3, 'तुरन्त': 3, 'सुचना': 3, 'निर्वाहन': 3, 'ऑलराउंडर': 3, 'सैमी': 3, 'आरोन': 3, 'वार्नर': 3, 'लेंथ': 3, 'कैलिस': 3, 'मिलर': 3, 'नम्र': 3, 'अभय': 3, 'दंपती': 3, 'मुजाहिदीन': 3, 'एकत्रित': 3, 'संबंधित': 3, 'क्षेत्ररक्षण': 3, 'यूरोपीय': 3, 'सेमीफाइनल': 3, 'कराए': 3, 'झटकों': 3, 'सुनामी': 3, 'हिला': 3, 'कूदकर': 3, 'आरजेडी': 3, 'कराची': 3, 'जियो': 3, 'हाम\\u200dिद': 3, 'बच्\\u200dचों': 3, 'डॉक्\\u200dटर': 3, 'मंगेतर': 3, 'गुप्\\u200dतांग': 3, 'अविहिताचरण': 3, 'विषयभोग': 3, 'फिजाओं': 3, 'घुलने': 3, 'हैवानों': 3, 'अवामिया': 3, 'खोले': 3, 'स्टेंड': 3, 'परासिया': 3, 'धमाचौकड़ी': 3, 'अवैज्ञानिक': 3, 'कागजों': 3, 'सर्किट': 3, 'लपटों': 3, 'धुएं': 3, 'गुबार': 3, 'धुआं': 3, 'उठने': 3, 'गोवंश': 3, 'कोयले': 3, 'व्यवसायियों': 3, 'मूल्य': 3, 'मुश्किलें': 3, 'रोशनी': 3, 'वाणिज्य': 3, 'कस्बे': 3, 'अड्डे': 3, 'रातभर': 3, 'तीमारदारी': 3, 'फोरलेन': 3, 'लक्षण': 3, 'ग्रामीणों': 3, 'ढांचा': 3, 'निदेशक': 3, 'जटिल': 3, 'बहाया': 3, 'चिंगारी': 3, 'बचते': 3, 'जीव': 3, 'मछलियां': 3, 'पथराव': 3, 'शीशा': 3, 'शेरपाओं': 3, 'व्\\u200dयवहार': 3, 'विश्वकप': 3, 'भुवी': 3, 'उतनी': 3, 'संतुलन': 3, 'डायरिया': 3, 'औपचारिकता': 3, 'असहायों': 3, 'प्रदर्शनकारियों': 3, 'हिंदुओं': 3, 'ठेस': 3, 'मैजिक': 3, 'मंदी': 3, 'हल्का': 3, 'बीसीसीआइ': 3, 'भड़काने': 3, 'रिश्\\u200dतों': 3, 'एकमात्र': 3, 'संस्थाओं': 3, 'अध्ययन': 3, 'नोटों': 3, 'पस्त': 3, 'जुगत': 3, 'वितरण': 3, 'कार्ययोजना': 3, 'विद्यार्थियों': 3, 'तपिश': 3, 'शारजाह': 3, 'पूर्वजों': 3, 'बयाना': 3, 'सकेगी': 3, 'सूख': 3, 'शुद्धता': 3, 'धंधे': 3, 'गश्ती': 3, 'बल्लों': 3, 'तारीख': 3, 'ढलते': 3, 'अंधेरे': 3, 'लोकायुक्त': 3, 'मौद्रिक': 3, 'देखनी': 3, 'अमोल': 3, 'गुप्ते': 3, 'बेस': 3, 'शुल्क': 3, 'काका': 3, 'बकाया': 3, 'अनियमितता': 3, 'बयां': 3, 'डाक्टर': 3, 'पुस्तकों': 3, 'उत्पाद': 3, 'वस्त्र': 3, 'परिधानीय': 3, 'अरुचिकर': 3, 'आकाश': 3, 'गँवाओ': 3, 'अछूता': 3, 'खोजना': 3, 'क्लर्क': 3, 'फाइल': 3, 'अनियत': 3, 'उपग्रह': 3, 'प्रक्षेपण': 3, 'सने': 3, 'गर्भ': 3, 'मिज़ाज': 3, 'गाँव': 3, 'शुद्ध': 3, 'अधिग्रहण': 3, 'सम्भव': 3, 'उछाल': 3, 'तत्परता': 3, 'असावधानी': 3, 'उठाएं': 3, 'ऎसी': 3, 'लीग': 3, 'विद्यार्थी': 3, 'पारियों': 3, 'दोहरा': 3, 'उदारीकरण': 3, 'नीतियों': 3, 'प्राकृतिक': 3, 'सरलता': 3, 'दिलाई': 3, 'प्राथमिक': 3, 'खेलकूद': 3, 'बैग': 3, 'अनादर': 3, 'संक्रामक': 3, 'शारीरिक': 3, 'सौंपा': 3, 'जाकिर': 3, 'सुस्ती': 3, 'मोर्चा': 3, 'योजनाओं': 3, 'भाग्यवान': 3, 'जहीर': 3, 'छात्राओं': 3, 'सार्वजनिक': 3, 'सुखदायक': 3, 'यातायात': 3, 'निपुण': 3, 'पुत्र': 3, 'कॉपी': 3, 'सिद्धहस्त': 3, 'फैंस': 3, 'महासचिव': 3, 'खोलना': 3, 'आकार': 3, 'वादों': 3, 'कोरी': 3, 'नीच': 3, 'जमानत': 3, 'बहुमूल्य': 3, 'हित': 3, 'मीरा': 3, 'अदृश्य': 3, 'नाते': 3, 'जेहाद': 3, 'प्रतिष्ठित': 3, 'साधु': 3, 'रोज़गार': 3, 'देनी': 3, 'सच्चरित्र': 3, 'सबकुछ': 3, 'भूत': 3, 'गंदा': 3, 'हिटलर': 3, 'ताक': 3, 'पार्टियों': 3, 'धोना': 3, 'रविंद्र': 3, 'कुली': 3, 'मध्यम': 3, 'खुलते': 3, 'बढ़ी': 3, 'घरों': 3, 'दुबकने': 3, 'असामाजिक': 3, 'बीएड': 3, 'किन्नरों': 3, 'कैंसल': 3, 'अप्रशिक्षित': 3, 'मच्छरों': 3, 'फसलों': 3, 'भागना': 3, 'भूतनाथ': 3, 'ठिठोली': 3, 'सदर': 3, 'धुनाई': 3, 'उदासीन': 3, 'रिटायर': 3, 'बुझा': 3, 'गुजरी': 3, 'हैरत': 3, 'पैसों': 3, 'हरि': 3, 'विश्लेषण': 3, 'अनियमित': 3, 'अटपटा': 3, 'अनभिज्ञ': 3, 'बेखबर': 3, 'साथलाइव': 3, 'सुलझाने': 3, 'नकेल': 3, 'कसने': 3, 'कट': 3, 'टॉक': 3, 'फ़ौज': 3, 'जाऐंगे': 3, 'दही': 3, 'सपाबसपा': 3, 'ज़ुबान': 3, 'थर्ड': 3, 'मइयो': 3, 'संग्राम': 3, 'सुषमा': 3, 'साहित्य': 3, 'स्टूडियो': 3, 'ही': 3, 'एजेंडा': 3, 'पुलिसवाले': 3, 'पुलिसवाला': 3, 'ट्रैकर': 3, 'प्रवक्ताओं': 3, 'नितीश': 3, 'पॉलिटिकल': 3, 'बनिए': 3, 'जीती': 3, 'मणिशंकर': 3, 'फजीहत': 3, 'राममंदिर': 3, 'प्रणब': 3, 'मुल्क': 3, 'पत्थरबाज़ों': 3, 'भगवा': 3, 'पूछेंगे': 3, 'सज़ा': 3, 'मौर्य': 3, 'सुनीत': 3, 'हंसे': 3, 'ख़िलाफ': 3, 'स्पीड': 3, 'जनमानस': 3, 'जयपुर': 3, 'खौल': 3, 'लाहोटी': 3, 'प्रद्युम्न': 3, 'उमा': 3, 'श्रीकांत': 3, 'मिटने': 2, 'ट्विट': 2, 'झुकना': 2, 'मोगैम्बो': 2, 'विवाहिता': 2, 'हमको': 2, 'उठ': 2, 'हवाला': 2, 'जुदा': 2, 'दामन': 2, 'आईएसअलकायदा': 2, 'धर्मोन्माद': 2, 'चूर': 2, 'लौटते': 2, 'शुभरात्रि': 2, 'फाँसी': 2, 'हस्ते': 2, 'गालियां': 2, 'परम': 2, 'शाहरुख़': 2, 'बनके': 2, 'हिस्सों': 2, 'सोंग': 2, 'सबने': 2, 'काटा': 2, 'मालूम': 2, 'तुमको': 2, 'मुर्दा': 2, 'उधर': 2, 'एडमिन': 2, 'टूटा': 2, 'ठेलते': 2, 'मानेगा': 2, 'दुःख': 2, 'मदरसे': 2, 'आपबीती': 2, 'छोड': 2, 'जरा': 2, 'सुरेंद्र': 2, 'तिजोरी': 2, 'श्रीसंत': 2, 'उबाऊ': 2, 'लिंग': 2, 'निकालकर': 2, 'गधे': 2, 'काश्मीरी': 2, 'खात्मा': 2, 'उल्टे': 2, 'जमीनी': 2, 'उदासीनता': 2, 'डंडा': 2, 'कहेंगे': 2, 'सेफिर': 2, 'दीवानगी': 2, 'जाऊं': 2, 'जनपद': 2, 'जलता': 2, 'भिड़ा': 2, 'हैंबीए': 2, 'हैंऔर': 2, 'हराने': 2, 'मायूसी': 2, 'यहा': 2, 'धिक्कार': 2, 'बैठी': 2, 'कलंक': 2, 'फेयरवेल': 2, 'स्पीच': 2, 'गटर': 2, 'वाल्मीकि': 2, 'रूपये': 2, 'सुधर': 2, 'मरम्मत': 2, 'शरीफ': 2, 'गुंडे': 2, 'छोड़ेंगे': 2, 'गावित': 2, 'वहम': 2, 'सोते': 2, 'कैटेगरी': 2, 'लेनी': 2, 'लाइफ': 2, 'सुनाने': 2, 'जैविक': 2, 'भाईचारा': 2, 'हराम': 2, 'मिशनरी': 2, 'नसीहत': 2, 'चलाएंगे': 2, 'फुटपाथ': 2, 'बुर्ज': 2, 'खलीफा': 2, 'मार्क्स': 2, 'बोलबाला': 2, 'कलयुग': 2, 'बनाओ': 2, 'भिड़': 2, 'फट': 2, 'टब': 2, 'तु': 2, 'जज': 2, 'आफ़िस': 2, 'जावेद': 2, 'हिन्दुओ': 2, 'फरमान': 2, 'मासूमो': 2, 'फैंसले': 2, 'फ़र्क': 2, 'बनते': 2, 'बताओ': 2, 'लडकिया': 2, 'श्रीकृष्ण': 2, 'मर्यादा': 2, 'रायबरेली': 2, 'स्याही': 2, 'ख्वाब': 2, 'वाणी': 2, 'बोलिए': 2, 'महा': 2, 'मिडिया': 2, 'अंबानी': 2, 'ठहरा': 2, 'वैदिक': 2, 'रायुडू': 2, 'कुत्तों': 2, 'मोहताज': 2, 'कुरान': 2, 'एनएच': 2, 'बरसे': 2, 'मतदाता': 2, 'प्रेरणा': 2, 'हालाँकि': 2, 'बकरे': 2, 'ख़ैर': 2, 'मोमबत्ती': 2, 'कायर': 2, 'कमेंट': 2, 'गान': 2, 'धो': 2, 'सूखे': 2, 'डैम': 2, 'झंडा': 2, 'महल': 2, 'सुनना': 2, 'संता': 2, 'डार्लिंग': 2, 'रोमांटिक': 2, 'कहो': 2, 'फिजूलखर्ची': 2, 'सन्देश': 2, 'डूबे': 2, 'छतों': 2, 'सफ़र': 2, 'डीजीपी': 2, 'उठी': 2, 'सरबजीत': 2, 'मुखर': 2, 'छिपा': 2, 'अत्याचार': 2, '₹': 2, 'गालियाँ': 2, 'अहिंसा': 2, 'इसांन': 2, 'तबाह': 2, 'करूँगा': 2, 'दफा': 2, 'देगे': 2, 'साजिस': 2, 'ज़ख़्म': 2, 'भरने': 2, 'लड़ो': 2, 'कुरा': 2, 'ख़ुलासा': 2, 'योगेंद्र': 2, 'साव': 2, 'मांगेगी': 2, 'डरे': 2, 'छुपी': 2, 'झूठी': 2, 'हाहाकार': 2, 'अमेरिकन': 2, 'इश्क': 2, 'चाहो': 2, 'खाल': 2, 'काटना': 2, 'इस्लामीकरण': 2, 'इन्सान': 2, 'मरता': 2, 'काश्मीर': 2, 'ख्वाहिशें': 2, 'तुम्हारा': 2, 'मोहरा': 2, 'पडता': 2, 'ऊपरवाले': 2, 'टैग': 2, 'रब': 2, 'बदलती': 2, 'नीयत': 2, 'समितियों': 2, 'पदों': 2, 'उधड़': 2, 'फटता': 2, 'ख़ुदा': 2, 'फ्यूचर': 2, 'झुका': 2, 'चेहरों': 2, 'उद्योगपतियों': 2, 'जायेंगी': 2, 'शांतिप्रिय': 2, 'थोडा': 2, 'बॉल': 2, 'डिज़ाइन': 2, 'विष': 2, 'अंग्रेजों': 2, 'संबोधित': 2, 'उखाड़': 2, 'बहुसंख्यक': 2, 'मर्ज़ी': 2, 'हराकर': 2, 'मलबा': 2, 'खेद': 2, 'साकेत': 2, 'टेलर': 2, 'बिच': 2, 'फ़र्ज़ी': 2, 'बताता': 2, 'सुलझी': 2, 'मिस्ट्री': 2, 'मौतों': 2, 'शख्सियत': 2, 'धुत': 2, 'उड़': 2, 'काजल': 2, 'सिख': 2, 'पन्नों': 2, 'य': 2, 'बचायासनातन': 2, 'फिसली': 2, 'युक्त': 2, 'गरिबी': 2, 'उसी': 2, 'राजकोट': 2, 'ब्लास्ट': 2, 'बाईक': 2, 'पाँच': 2, 'बीकानेर': 2, 'बूथ': 2, 'अटलजी': 2, 'सजाया': 2, 'घंटों': 2, 'भागी': 2, 'कोरियन': 2, 'एक्स्पो': 2, 'कॉन्सेप्ट': 2, 'लॉंच': 2, 'सुर्': 2, 'जजों': 2, 'ऐलान': 2, 'चरणों': 2, 'असहमत': 2, 'सुबूत': 2, 'मांगे': 2, 'तितली': 2, 'नबी': 2, 'फिर': 2, 'छोड़ो': 2, 'नर्स': 2, 'ईंट': 2, '”': 2, 'कंगाली': 2, 'यज्ञ': 2, 'भेजे': 2, 'चश्मदीद': 2, 'उस': 2, 'मुहिम': 2, 'ड्राइविंग': 2, 'रामस्कूल': 2, 'ज़हरीला': 2, 'ठहराया': 2, 'समझता': 2, 'आप': 2, 'लखीमपुर': 2, 'मिस': 2, 'रैटहोल': 2, 'माइन्स': 2, 'सचकोयले': 2, 'गोरखधंधाजान': 2, 'बदलनी': 2, 'टूटी': 2, 'वसूले': 2, 'खामोशी': 2, 'बहुत': 2, 'भाईबहन': 2, 'प्यारदुलार': 2, 'तकरारजब': 2, 'खिंचाई': 2, 'फैन्स': 2, 'मुझे': 2, 'हेलीकॉप्टर': 2, 'रुपानी': 2, 'पंक्तियां': 2, 'इसी': 2, 'ब्लू': 2, 'ठोकर': 2, 'छोटो': 2, 'बडो': 2, 'मातोश्री': 2, 'अमितशाह': 2, 'पहुँचाया': 2, 'बसें': 2, 'रखके': 2, 'बालाकोट': 2, 'फैक्टर': 2, 'लेकीन': 2, 'आजमी': 2, 'घिरे': 2, 'भा': 2, 'संकटो': 2, 'घिरी': 2, 'हैबाधाओं': 2, 'ठानी': 2, 'सालाना': 2, 'लांबा': 2, 'विधायको': 2, 'जवा': 2, 'एनडी': 2, 'फ़ीसदी': 2, 'घटकर': 2, 'नाथ': 2, 'मुकुल': 2, 'तड़के': 2, 'चुरा': 2, 'एयरपोर्ट': 2, 'विभीषिका': 2, 'घोषणाओं': 2, 'काँग्रेस': 2, 'टिप्पणी': 2, 'बंटवारे': 2, 'बै': 2, 'माला': 2, 'पहने': 2, 'शिवभक्त': 2, 'कहानियां': 2, 'दलालों': 2, 'प्ला': 2, 'ठप्प': 2, 'सु': 2, 'प्रोफेशनल्स': 2, 'फॉर्मूले': 2, 'सपाकांग्रेस': 2, 'हुयी': 2, 'इरादे': 2, 'बताती': 2, 'आदिवासियों': 2, 'बेल्जियम': 2, 'ड्यूटी': 2, 'ताजपोशी': 2, 'गुफा': 2, 'भड़काऊ': 2, 'राजदार': 2, 'खुलासे': 2, 'अखबार': 2, 'बीफ': 2, 'सहिष्णु': 2, 'तनुज': 2, 'बाराबंकी': 2, '‘स्किल': 2, 'इंडिया’': 2, 'पलीता': 2, 'बिचौलिए': 2, 'मंत्रिमंडल': 2, 'नानी': 2, 'घरघर': 2, 'छूने': 2, 'सुरीला': 2, 'प्रयागराज': 2, 'वर्णन': 2, 'बेइमान': 2, 'खाएं': 2, 'महीना': 2, 'ख़बरों': 2, 'यादें': 2, 'ट्वीट्स': 2, 'जोधपुर': 2, 'मेहमान': 2, 'भारतीयता': 2, 'विदेशियों': 2, 'ऑस्कर': 2, 'चलो': 2, 'यू': 2, 'प्रिव्यू': 2, 'पेज': 2, 'रेग्यूलर': 2, 'दारु': 2, 'अखिल': 2, 'रेहान': 2, 'शूट': 2, 'सदी': 2, 'गब्बर': 2, 'इ': 2, 'चाइनिज': 2, 'ग्रिल': 2, 'थ्रेड': 2, 'नूर': 2, 'मसाले': 2, 'होम्योपैथिक': 2, 'हैपता': 2, 'आडवाणी': 2, 'परमाणु': 2, 'हावी': 2, 'ग़ज़ब': 2, 'कमज़ोर': 2, 'सीखते': 2, 'ध्वस्त': 2, 'भोपा': 2, 'उपमुख्यमंत्री': 2, 'डिजाइन': 2, 'अमानुल्लाह': 2, 'धक्का': 2, 'मुक्की': 2, 'सीलिंग': 2, 'अरबपति': 2, 'अनिल': 2, 'डायलॉग': 2, 'इस्तीफ़ा': 2, 'मंजूर': 2, 'नफ़रत': 2, 'अंडरवर्ल्ड': 2, 'दिल्लीवालों': 2, 'आरती': 2, 'शूटरों': 2, 'सौदे': 2, 'थाहर': 2, 'रथयात्रा': 2, '‘खुफ़िया': 2, 'खेल’इंटेलीजेंस': 2, 'अंतर्गत': 2, 'ग्रेड': 2, 'भ्रम': 2, 'कक्कड़': 2, 'दिये': 2, 'छिंदवाड़ा': 2, 'ध्रुव': 2, 'बाबूलाल': 2, 'मालवा': 2, 'पीपल': 2, 'स्टेटस': 2, 'तनुश्री': 2, 'तीसरा': 2, 'बाली': 2, 'ट्रैन': 2, 'जिनको': 2, 'रवैए': 2, 'बाक़ी': 2, 'किसानो': 2, 'मंजीत': 2, 'भी': 2, 'उम्मीदें': 2, 'स्थितियां': 2, 'कमल': 2, 'रिजवी': 2, 'इंद्र': 2, 'फूहड़': 2, 'कच्चापन': 2, 'रवानी': 2, 'पड़ते': 2, 'लहजा': 2, 'अमृत': 2, 'भीड़': 2, 'खींचने': 2, 'अवांछित': 2, 'गंवाया': 2, 'स्थापित': 2, 'शिवम': 2, 'बासी': 2, 'खलती': 2, 'दुविधा': 2, 'कसावट': 2, 'खलता': 2, 'शेड': 2, 'मामा': 2, 'खूंखार': 2, 'नील': 2, 'नितिन': 2, 'मिथुन': 2, 'जूझते': 2, 'समंदर': 2, 'स्टूडेंट': 2, 'थोड़ा': 2, 'सेंट्रल': 2, 'सिमरन': 2, 'निर्देशन': 2, 'नज़र': 2, 'बादशाहो': 2, 'लेखन': 2, 'असफलता': 2, 'डीके': 2, 'संभावनाएं': 2, 'बनाये': 2, 'कंफ्यूज': 2, 'रीदम': 2, 'पुट': 2, 'दर्जे': 2, 'उक्त': 2, 'छोड़ती': 2, 'फिसल': 2, 'शिथिल': 2, 'साधनों': 2, 'आरंभिक': 2, 'नेक': 2, 'विस्\\u200dतार': 2, 'गलियों': 2, 'गुम': 2, 'डायलाग': 2, 'द्वंद्व': 2, 'प्रभावहीन': 2, 'तेंदुलकर': 2, 'यों': 2, 'गर्लफ्रेंड’': 2, 'भरमार': 2, '‘हिंदी': 2, 'मीडियम’': 2, 'गलतियां': 2, '‘सरकार': 2, 'लम्हों': 2, 'रेत': 2, 'सिन्\\u200dहा': 2, 'फेर': 2, 'गुस्सैल': 2, 'बाधित': 2, 'प्लॉट': 2, 'पेचीदा': 2, 'उलझा': 2, 'बिखरी': 2, 'बांधकर': 2, 'दार्शनिक': 2, 'थका': 2, 'जूलिएट': 2, 'खटकती': 2, 'कौशल': 2, 'लचर': 2, 'दृश्\\u200dय': 2, 'स्क्रिप्\\u200dट': 2, 'सीक्वेंस': 2, 'परिणामस्वरूप': 2, 'ढीलापन': 2, 'जुड़': 2, 'रियलिस्टिक': 2, 'मूल': 2, 'जोड़ा': 2, 'दुग्गल': 2, 'फिल्मांकन': 2, 'शायरा': 2, 'मौलिक': 2, 'बीज': 2, 'एनीमेशन': 2, 'जबरदस्ती': 2, 'ऑन': 2, 'ढीली': 2, 'निर्वाह': 2, 'कोशिशों': 2, 'अटक': 2, 'बारीकी': 2, 'फार्मूले': 2, 'दोहराया': 2, 'अरबाज': 2, 'अनुभवों': 2, 'केके': 2, 'जंचे': 2, 'समीकरण': 2, 'नदारद': 2, 'लहजे': 2, 'समतल': 2, 'लफ्जों': 2, 'हरकतें': 2, 'इरादों': 2, 'बायोपिक': 2, 'सिमट': 2, 'किस्सागोई': 2, 'छोड़': 2, 'इमोशनल': 2, 'बिठाने': 2, 'निखार': 2, 'भागीदारी': 2, 'बढ़ती': 2, 'पॉल': 2, 'सजावट': 2, 'मद्देनजर': 2, 'दिखी': 2, 'डस्टर': 2, 'थीम': 2, 'भंसाली': 2, 'बची': 2, 'अब्दुल': 2, 'पीड़ितों': 2, 'नये': 2, 'हज़ारों': 2, 'भालू': 2, 'जौहर': 2, 'दवाई': 2, 'अलगाववादी': 2, 'फेंकते': 2, 'कदमों': 2, 'सस्ता': 2, 'जाट': 2, 'तर्जे': 2, 'चूरू': 2, 'स्वीडन': 2, 'कचरा': 2, 'मौक़ा': 2, 'शौक': 2, 'मजे': 2, 'मुड़': 2, 'प्लीज': 2, 'शत्': 2, 'नमन': 2, 'आँख': 2, 'वफ़ा': 2, 'बन्दर': 2, 'मानवजाति': 2, 'समर्पित': 2, 'सजाने': 2, 'सीखे': 2, 'रोको': 2, 'शायर': 2, 'महोब्बत': 2, 'होतीं': 2, 'नजरे': 2, 'उठाई': 2, 'लंका': 2, 'बसा': 2, 'सुन्दर': 2, 'डिसेंट': 2, 'सल्तनत': 2, 'सिकंदर': 2, 'एल': 2, 'घृणा': 2, 'वापिस': 2, 'क्यूँ': 2, 'क्यूंकि': 2, 'पक्षपात': 2, 'गं': 2, 'गणपतये': 2, 'सिद्दीबिनायक': 2, 'अष्टबिनायक': 2, 'गणेशाय': 2, 'तुमसे': 2, 'सौहार्द्र': 2, 'उपनाम': 2, 'विकट': 2, 'पांचवी': 2, 'सिंगल': 2, 'पीकर': 2, 'खुशहाली': 2, 'खोया': 2, 'सचमुच': 2, 'महिमा': 2, 'पूज्य': 2, 'सत्संग': 2, 'भूषण': 2, 'चुल्लू': 2, 'बचाना': 2, 'ग़लती': 2, 'बाग़': 2, 'तरक्की': 2, 'नैचुरल': 2, 'भाइयों': 2, 'फराज': 2, 'भारतपाकिस्तान': 2, 'विभाजन': 2, 'परस्पर': 2, 'रितेश': 2, 'मोहक': 2, 'छांव': 2, 'टिफिन': 2, 'कॉमिकल': 2, 'अप्रोच': 2, 'इटरेस्टिंग': 2, 'हंसाती': 2, 'प्रभावपूर्ण': 2, 'यूथ': 2, 'विमर्श': 2, 'थिएटर': 2, 'निर्देशकों': 2, 'मेहरा': 2, 'आंतरिक': 2, 'फ्लैशबैक': 2, 'मासूमियत': 2, 'सौंदर्य': 2, 'झलकती': 2, 'धनुष': 2, 'तंज': 2, 'हाशमी': 2, 'जगाती': 2, 'अद्वैत': 2, 'परचम': 2, 'लहराने': 2, 'वसीम': 2, 'ज़रूर': 2, 'समानांतर': 2, 'ठहाके': 2, 'कर्णप्रिय': 2, 'ट्रीटमेंट': 2, 'पेडनेकर': 2, 'गुदगुदाएगी': 2, 'सराहा': 2, 'मुबारकां': 2, 'कीर्ति': 2, 'एक्टर': 2, 'मूव्स': 2, 'हटकर': 2, 'कोरियोग्राफी': 2, 'ख़ूबसूरती': 2, 'भरते': 2, 'चांद': 2, 'उकेरा': 2, 'एरियल': 2, 'स्\\u200dक्रीन': 2, 'भावभंगिमाओं': 2, 'जू': 2, 'संतुलित': 2, 'मराठी': 2, 'सुशांत': 2, 'दृश्\\u200dयों': 2, 'हमदर्दी': 2, 'ज्\\u200dयादा': 2, 'कल्\\u200dपना': 2, 'विजुअल': 2, 'शबाब': 2, 'आदिल': 2, 'कबीर': 2, 'पिया': 2, 'बारीकियों': 2, 'चित्रांकन': 2, 'ढांचे': 2, 'बुना': 2, 'खेतान': 2, 'भव्यता': 2, 'सावधानी': 2, 'कथ्य': 2, 'एलएलबी': 2, 'सगे': 2, 'उभर': 2, 'धारदार': 2, 'इंच': 2, 'आमिर': 2, 'अलहदा': 2, 'खूबियां': 2, 'बेचैनी': 2, 'उन्होने': 2, 'जीवंत': 2, 'अवसाद': 2, 'उन्होंंने': 2, 'शिवाय': 2, 'मनमोहक': 2, 'परिचित': 2, 'परतदार': 2, 'ऊंचाइयों': 2, 'चपलता': 2, 'सोचते': 2, 'पीरियड': 2, 'किस्म': 2, 'आत्म': 2, 'ध्वनि': 2, 'बिरंची': 2, 'कराते': 2, 'अबु': 2, 'धाबी': 2, 'सिनेमैटोग्राफर': 2, 'संदीप': 2, 'बबलू': 2, 'शंटी': 2, 'बिंदापुर': 2, 'रोडरेजः': 2, 'मयूर': 2, 'राधिका': 2, 'मौकाएवारदात': 2, 'हमा': 2, 'स्कूटी': 2, 'सन्नाटा': 2, 'पसरा': 2, 'भगत': 2, 'रणहौला': 2, 'बिसहाड़ा': 2, 'बेसमेंट': 2, 'अशर': 2, 'चश्मदीदों': 2, 'बाद': 2, 'सराय': 2, 'गोदकर': 2, 'कांस्टेबल': 2, 'सोमवीर': 2, 'सचिवालय': 2, 'सुसाइड': 2, 'मिलीं': 2, 'टैगोर': 2, 'फूटे': 2, 'दिखेगा': 2, 'खरीदे': 2, 'दहल': 2, 'अलोक': 2, 'करवाने': 2, 'पाण्डे': 2, 'पामेला': 2, 'रूज़': 2, 'इज़राइली': 2, 'फाइव': 2, 'सितारा': 2, 'कपल': 2, 'पिस्तौल': 2, 'गहलोत': 2, 'आयकर': 2, 'ठिकानों': 2, 'छापेमारी': 2, 'दिलवालों': 2, 'हैदेखें': 2, 'कनॉट': 2, 'मुहाल': 2, 'जहांगीरपुरी': 2, 'मंजूरी्': 2, 'मंजिला': 2, 'लुटेरों': 2, 'गार्ड्स': 2, 'सितंबर': 2, 'मौतें': 2, 'सीमापुरी': 2, 'गोकुलपुरी': 2, 'शिकंजे': 2, 'आसिफ': 2, 'पुलिसकर्मियों': 2, 'धर': 2, 'दबोचा': 2, 'पंप': 2, 'बजाने': 2, 'जामिया': 2, 'दोहरे': 2, 'उमस': 2, 'वीडि': 2, 'निवास': 2, 'दिखाते': 2, 'कुंडली': 2, 'एक्सीडेंट': 2, 'अभिभावक': 2, 'डाक': 2, 'करण': 2, 'चाईनीज़': 2, 'हैरिपोर्ट': 2, 'दबाकर': 2, 'चैलेंज': 2, 'रेस्क्यू': 2, 'लड़कियां': 2, 'जलस्तर': 2, 'टेंट': 2, 'साइड': 2, 'लोहे': 2, 'चढ़े': 2, 'बकरी': 2, 'बेजुबान': 2, 'जलभराव': 2, 'खासी': 2, 'छावला': 2, 'दर्जन': 2, 'गाज़ियाबाद': 2, 'इमारतों': 2, 'लैब': 2, 'पुजारी': 2, 'बागपत': 2, 'एडीजी': 2, 'खोला': 2, 'कड़ियों': 2, 'मर्डरः': 2, 'न्यायिक': 2, 'खरीदा': 2, 'साथियों': 2, 'पार्किंग': 2, 'संस्थापक': 2, 'नाइजीरियन': 2, 'गैंगवार': 2, 'ओखला': 2, 'सूबेदार': 2, 'कॉलर': 2, 'सेक्रेटरी': 2, 'तूफ़ान': 2, 'गिरे': 2, 'दरार': 2, 'खबरें': 2, 'पीट': 2, 'लाई': 2, 'बुजुर्ग': 2, 'करप्शन': 2, 'एंबुलेंस': 2, 'चपेट': 2, 'बाग': 2, 'कैप्सूल': 2, 'गोदाम': 2, 'इनामी': 2, 'कि': 2, 'लड़कों': 2, 'द्वारका': 2, 'गुरजीत': 2, 'जसपाल': 2, 'वेस्ट': 2, 'डिस्ट्रिक्ट': 2, 'टैंकर': 2, 'नोएडाः': 2, 'फांक': 2, 'स्वाति': 2, 'लाजपतनगर': 2, 'दिल्': 2, 'पिटबुल': 2, 'जूता': 2, 'दोतीन': 2, 'तुलसी': 2, 'हत्यारे': 2, 'बदसलूकी': 2, 'सोनू': 2, 'पंजाबन': 2, 'फिरौती': 2, 'निलंबित': 2, 'प्रोफेसर': 2, 'भंडाफोड़': 2, 'गायब': 2, 'कब्जे': 2, 'साइकिल': 2, 'ज्या': 2, 'हुड़दंगियों': 2, 'दीपेंद्र': 2, 'मैक्स': 2, 'प्रेस': 2, 'किडनैप': 2, 'नौकरशाह': 2, 'अड़': 2, 'बच्चियों': 2, 'राइज': 2, 'जयपुरिया': 2, 'सन': 2, 'राइस': 2, 'ग्रीन्स': 2, 'इको': 2, 'गड्ढे': 2, 'गाड़ियां': 2, 'खरीदकर': 2, 'अलका': 2, 'मेवाणी': 2, 'हुंकार': 2, 'छुपा': 2, 'सर्विस': 2, 'रिवॉल्वर': 2, 'सटे': 2, 'वीरेंद्र': 2, 'देव': 2, 'इलियासी': 2, 'बेकसूर': 2, 'उड़े': 2, 'नाले': 2, 'कटी': 2, 'करेंसी': 2, 'गार्ड': 2, 'घसीटेंगेमगर': 2, 'सिंडिकेट': 2, 'जयहिंद': 2, 'वीं': 2, 'बटालियन': 2, 'ठिकाने': 2, 'हुए': 2, 'पोलिंग': 2, 'दिवालियापन': 2, 'बद्रीनाथ': 2, 'शा': 2, 'अलीगढ़': 2, 'नाराज़गी': 2, 'सदानंद': 2, 'उडपी': 2, 'लुटियन': 2, 'सेकेंड': 2, 'चौकी': 2, 'अपर्णा': 2, 'राइफल': 2, 'सफाए': 2, 'विंग': 2, 'आर्म्ड': 2, 'एलओसी': 2, 'गूंजी': 2, 'बचाया': 2, 'शौर्य': 2, 'विषम': 2, 'बस्तर': 2, 'बालिका': 2, 'कच्चा': 2, 'चिट्ठा': 2, 'जमातएइस्लामी': 2, 'हिजबुल': 2, 'पीओके': 2, 'लैस': 2, 'आरडीएक्स': 2, 'धमाके': 2, 'काफिले': 2, 'बढ़ाएगा': 2, 'अर्धसैनिक': 2, 'दिव्यांगों': 2, 'विंटर': 2, 'पार्लियामेंट': 2, 'स्ट्रीट': 2, 'पलटवार': 2, 'सुरक्षाबल': 2, 'अलर््या': 2, 'ऐजेंसी': 2, 'जन्मभूमि': 2, 'स्टेच्यू': 2, 'सपूतों': 2, 'वें': 2, 'ताक़त': 2, 'हिमवीर': 2, 'प्रसिद्ध': 2, 'लहराया': 2, 'आइस': 2, 'प्रतियोगिता': 2, 'धाम': 2, 'लुत्फ': 2, 'आका': 2, 'सुरक्षाबलों': 2, 'आगमन': 2, 'भाग्य': 2, 'समक्ष': 2, 'नो': 2, 'रामदास': 2, 'अठावले': 2, 'पिछलग्गू': 2, 'मददगार': 2, 'बरगलाकर': 2, 'फैज़ल': 2, 'एम्बुलेंस': 2, 'झारखंड': 2, 'धूमधाम': 2, 'मि': 2, 'रडार': 2, 'डॉग': 2, 'प्रसारण': 2, 'गाथा': 2, 'रोहिंग्याओं': 2, 'मानसूनी': 2, 'अपराधियों': 2, 'अभेद्य': 2, 'वसूल': 2, 'रिवर': 2, 'खात्मे': 2, 'इजरायल': 2, 'वीरों': 2, 'र': 2, 'गवर्नर': 2, 'विधाय': 2, 'घिनौनी': 2, 'ोगों': 2, 'किनकिन': 2, 'रेकॉर्ड': 2, 'प्रतापगढ़': 2, 'प्लेट': 2, 'प्रमोशन': 2, 'हैंहम': 2, 'ब्राह्मण': 2, 'मराठा': 2, 'हैभारत': 2, 'जवानो': 2, 'हंसराज': 2, 'नक्सल': 2, 'जांबाज': 2, 'हाफिज़': 2, 'जोन': 2, 'समानता': 2, 'महादेव': 2, 'पत्थरबाजी': 2, 'बिलों': 2, 'बाराहोती': 2, 'नायडू': 2, 'उपराष्ट्रपति': 2, 'सांसदों': 2, 'फंडिंग': 2, 'पहुंचाआजतक': 2, 'रिमखिम': 2, 'दिलेरी': 2, 'दिव्यांग': 2, 'अवस्थी': 2, 'मोड्यूल': 2, 'वार्ता': 2, 'भाईओं': 2, 'सांसारिकता': 2, 'रजिस्ट्रेशन': 2, 'पिक्चर': 2, 'कोटक': 2, 'सर्कुलर': 2, 'गुरुमूर्ति': 2, 'हैकििन': 2, 'बदलेंगेया': 2, 'खालिस्तान': 2, 'सम्बन्ध': 2, 'ोड़': 2, 'पकडे': 2, 'कोर': 2, 'मीटिंग': 2, 'घबराया': 2, 'हिट': 2, 'प्रोड्यूसर्स': 2, 'एनएसजी': 2, '×': 2, 'खतरों': 2, 'नेचुरल': 2, 'डिजास्टर': 2, 'किरन': 2, 'जब': 2, 'अकसर': 2, 'दूकान': 2, 'असिस्टेंट': 2, 'ईद': 2, 'करोडो': 2, 'ख़तरा': 2, 'नियुक्ति': 2, 'दरवाजा': 2, 'पैलेट': 2, 'गन': 2, 'प्रिंट': 2, 'दिला': 2, 'बुलाई': 2, 'आक्रांता': 2, 'मिटा': 2, 'सारंगी': 2, 'वादक': 2, 'कुवैत': 2, 'अब्दुल्ला': 2, 'एमेंडमेंट': 2, 'ठहाकेक्या': 2, 'जायेंगे': 2, 'बत्तख़': 2, 'चालू': 2, 'अड़ियल': 2, 'तवज्जो': 2, 'चंडीगढ़': 2, 'क्रोकोडाइल': 2, 'पठानकोट': 2, 'सिंहनई': 2, 'पठनकोट': 2, 'शिकंजा': 2, 'शकील': 2, 'अमल': 2, 'शुभकामनायें': 2, 'ठुकरा': 2, 'मोड': 2, 'काशी': 2, 'माई': 2, 'अपनाना': 2, 'झगड़ा': 2, 'अरबों': 2, 'फौज': 2, 'जाओगे': 2, 'कुमारी': 2, 'बहती': 2, 'साधन': 2, 'रोई': 2, 'नेट': 2, 'सुकना': 2, 'चलाते': 2, 'क\\u200cि': 2, 'डरना': 2, 'वाशिंदों': 2, 'जहन्नुम': 2, 'जेवरात': 2, 'नकदी': 2, 'एड्स': 2, 'बहनें': 2, 'लवजिहाद': 2, 'सुन्नी': 2, 'क्रूरता': 2, 'सचेत': 2, 'संतुष्टि': 2, 'हुऐहैं': 2, 'गम': 2, 'लड़ें': 2, 'भरोसेमंद': 2, 'दौड़ा': 2, 'पूर्वजो': 2, 'गांडू': 2, 'चलाये': 2, 'रस्सी': 2, 'संग्रहालय': 2, 'होड़': 2, 'मूल्यों': 2, 'ऊंचे': 2, 'कलेजे': 2, 'बगल': 2, 'भोगी': 2, 'साले': 2, 'वास्तव': 2, 'पुर': 2, 'ऊर्फे': 2, 'वीदेश': 2, 'घुमने': 2, 'नालायक': 2, 'देहाती': 2, 'मुन्गेरी': 2, 'कहीका': 2, 'बढ': 2, 'ख़फ़ा': 2, 'काश': 2, 'गांधीजी': 2, 'मोदीजी': 2, 'जहर': 2, 'पीना': 2, 'हमलेमें': 2, 'कंगाल': 2, 'इराक': 2, 'अमेरिकायूरोप': 2, 'चुकानी': 2, 'एकाध': 2, 'नाही': 2, 'जौली': 2, 'गंगनहर': 2, 'देशभक्ति': 2, 'इस्रायल': 2, 'झुंड': 2, 'ख़ुशी': 2, 'टाइमलाइन': 2, 'भेदभाव': 2, 'मिर्जापुरव': 2, 'किनारा': 2, 'गो': 2, 'रोज़': 2, 'रफ़्तार': 2, 'बोको': 2, 'अफगानिस्तान': 2, 'कोलंबिया': 2, 'देशो': 2, 'स्वर्ग': 2, 'तमीज': 2, '‘थप्पड़कांड’': 2, 'राजनेता': 2, 'गुजरने': 2, 'हैएक': 2, 'पाँव': 2, 'दाद': 2, 'हसरत': 2, 'रौशनी': 2, 'अंबेडकर': 2, 'पापोन': 2, 'कोई': 2, 'रंजन': 2, 'बन्द': 2, 'कटियार': 2, 'जासूस': 2, 'चलाता': 2, 'जीतू': 2, 'खिला': 2, 'नं': 2, 'चौड़ी': 2, 'कनेक्शन': 2, 'मेहरबान': 2, 'हिमाचल': 2, 'नामी': 2, 'चूना': 2, 'डराया': 2, 'पु': 2, 'त्यागियों': 2, 'महापंचायत': 2, 'सैर': 2, 'नरेला': 2, 'बोलेगा': 2, 'बिजनेस': 2, 'पत्नीससुर': 2, 'पोस्टमॉर्टम': 2, 'उज्ज्वला': 2, 'घिरा': 2, 'मॉर्टम': 2, 'खाकी': 2, 'जिनका': 2, 'लिस्ट': 2, 'घेरे': 2, 'दबंगई': 2, 'अपडेट': 2, 'भरभरा': 2, 'पलटा': 2, 'अग्निकांड': 2, 'ख्वाहिश': 2, 'लूटने': 2, 'टॉय': 2, 'हल्के': 2, 'तब्दील': 2, 'देवेंन्द्र': 2, 'छोटीछोटी': 2, 'स्नेह': 2, 'नक़ली': 2, 'फार्म': 2, 'उस्मानपुर': 2, 'कुल्हाड़ी': 2, 'फंसाया': 2, 'गिरफ़्तार': 2, 'बनवाओगे': 2, 'जलाई': 2, 'घुटने': 2, 'राजोरी': 2, 'युवको': 2, 'जानइसके': 2, 'प्रेसिडेंट': 2, 'वॉलीबॉल': 2, 'बाड़े': 2, 'लिटिल': 2, 'एंजिल': 2, 'श्रीहरि': 2, 'विष्णु': 2, 'हमेश': 2, 'धर्मशास्त्रों': 2, 'पंचांग': 2, 'बिजेनस': 2, 'संरचनात्मक': 2, 'संशोधन': 2, 'पदार्थो': 2, 'सुप्तकाल': 2, 'जगाने': 2, 'आरोग्यता': 2, 'सिंदरी': 2, 'लिमिटेड': 2, 'गोविंदा': 2, 'बराबरी': 2, 'कर्स्टन': 2, 'रोब': 2, 'वाल्टर्स': 2, 'चेन्नै': 2, 'जीतते': 2, 'विनिर्माण': 2, 'विशेषकर': 2, 'जुत्शी': 2, 'विश्वजीत': 2, 'विटामिन': 2, 'खुराक': 2, 'अनादि': 2, 'शक्तियों': 2, 'नवरात्र': 2, 'छठवें': 2, 'जगदंबे': 2, 'कात्यायनी': 2, 'उपासना': 2, 'भक्तिभाव': 2, 'सॉन्ग': 2, 'कार्यो': 2, 'कर्ण': 2, 'नस्लों': 2, 'व्यापारिक': 2, 'लहराती': 2, 'खुशबू': 2, 'सफेद': 2, 'बडी': 2, 'प्रशंसक': 2, 'विश्\\u200dव': 2, 'साकार': 2, 'शुभचिंतकों': 2, 'नेहरा': 2, 'ऑडियो': 2, 'शेयरिंग': 2, 'जीतिए': 2, 'मेंबर': 2, 'सानिया': 2, 'किक': 2, 'छाए': 2, 'संभालते': 2, 'तेजतर्रार': 2, 'पिका': 2, 'गंगाघाट': 2, 'करारे': 2, 'वशिष्ठ': 2, 'दर्जनों': 2, 'बंडल': 2, 'मोमबत्तियों': 2, 'पिघलाकर': 2, 'अजीबो': 2, 'करतबों': 2, 'सेलिना': 2, 'रखेंगी': 2, 'आज्ञा': 2, 'गायत्री': 2, 'परिणय': 2, 'प्रीतिंदर': 2, 'कॉमेडियन': 2, 'तबादले': 2, 'प्रोत्साहित': 2, 'पनीर': 2, 'प्रतिरोधी': 2, 'मिनियन': 2, 'एशियाई': 2, 'ग़ुलाम': 2, 'घोड़ों': 2, 'खच्चरों': 2, 'बकरियों': 2, 'भेड़ों': 2, 'ओलिंपिक': 2, 'क्वेंटन': 2, 'कॉक': 2, 'बल्लेबाज़': 2, 'करेंट': 2, 'एकाउंट': 2, 'डेफिसिट': 2, 'नैय्या': 2, 'सिद्दिकी': 2, 'स्लैम': 2, 'कले': 2, 'सिक्का': 2, 'आस्ट्रेलियाई': 2, 'खिताबी': 2, 'इंग्लिश': 2, 'आइफा': 2, 'बढावा': 2, 'अपेक्षाकृत': 2, 'पत्\\u200dथर': 2, 'गुजारते': 2, 'स्कूटर': 2, 'मेला': 2, 'परफॉमर्स': 2, 'छानेवाले': 2, 'तमिल': 2, 'तेलुगू': 2, 'टाइटल': 2, 'पारियां': 2, 'सैमसन': 2, 'क्रमश': 2, 'साझेदारियां': 2, 'किरोन': 2, 'बेंगलुरू': 2, 'शिविर': 2, 'कासना': 2, 'परेश': 2, 'रावल': 2, 'हस्तियां': 2, 'ओमान': 2, 'इस्पात': 2, 'कवि': 2, 'कोंकणा': 2, 'सेन': 2, 'सजरूर': 2, 'कांता': 2, 'अर्थात': 2, 'संस्कारी': 2, 'भाषणों': 2, 'भत्र्सना': 2, 'फिरते': 2, 'अर्थव्यवस्थाओं': 2, 'थ्रो': 2, 'परीक्षणों': 2, 'गणना': 2, 'खत्री': 2, 'जानकारियां': 2, 'कोस': 2, 'करनेवाले': 2, 'लास्ट': 2, 'मड़ियादो': 2, 'डोली': 2, 'रमपुरा': 2, 'चंदू': 2, 'छिम्मा': 2, 'बीडीओ': 2, 'प्रेमलता': 2, 'मुर्मू': 2, 'पंचायतों': 2, 'अंदेशे': 2, 'कंचन': 2, 'ब्लाकवार': 2, 'अनुदान': 2, 'आवेदन': 2, 'सापेक्ष': 2, 'अपात्र': 2, 'जाएंगें': 2, 'दूरसंचार': 2, 'एपीईडीए': 2, 'उत्पादों': 2, 'दंबग': 2, 'अंधविश्वासी': 2, 'भर्रेशाही': 2, 'एक्सपायरी': 2, 'मुनाफा': 2, 'पोष्ाण': 2, 'आहार': 2, 'गुज्जर': 2, 'ज्योत': 2, 'प्रज्वलित': 2, 'धमाकेदार': 2, 'माइक्रोसॉफ्ट': 2, 'ख़ारिज': 2, 'ड्रेनेज': 2, 'रिन्फोर्समेंट': 2, 'कंक्रीट': 2, '\\u200bमामले': 2, 'इंटरनैशन': 2, '\\u200bएक': 2, '\\u200bभारतीय': 2, '\\u200bहो': 2, 'रुमानियत': 2, 'समुद्र': 2, 'बीतेगी': 2, 'सकेंगी': 2, 'पेले': 2, 'मेजबान': 2, 'प्रतिद्वंद्वी': 2, 'उरूग्वे': 2, 'एलबम': 2, 'मार्क': 2, 'टॉमेटो': 2, 'केचप': 2, 'सॉस': 2, 'शोरबा': 2, 'लाइकोपीन': 2, 'अनुसंधानकर्त्ताओं': 2, 'टिकने': 2, 'केन्द्रक': 2, 'अवलोकन': 2, 'स्थिरता': 2, 'रोजर': 2, 'फ़ेडरर': 2, 'स्लेम': 2, 'फ़्रेंच': 2, 'सतसंगी': 2, 'बाराबती': 2, 'नाकआऊट': 2, 'देविका': 2, 'बेचना': 2, 'कमाना': 2, 'सामग्री': 2, 'दिक्कतों': 2, 'पदार्र्थो': 2, 'एक्सपर्ट्स': 2, 'कस्टमर्स': 2, 'रेस्टोरेशन': 2, 'फीचर': 2, 'प्रॉडक्ट': 2, 'चुनकर': 2, 'कारकों': 2, 'लजीज': 2, 'चखने': 2, 'लाइम': 2, 'काजोल': 2, 'पकड़ते': 2, 'नाकामियों': 2, 'प्रधानाचार्य': 2, 'शैक्षिक': 2, 'उपकरणों': 2, 'भूलते': 2, 'मप्र': 2, 'विवि': 2, 'सैद्घांतिक': 2, 'विभागाध्यक्षों': 2, 'रायशुमारी': 2, 'उच्चतर': 2, 'निभाएगी': 2, 'इंडस्\\u200dट्री': 2, 'जानकारों': 2, 'एप्\\u200dपल': 2, 'स्\\u200dटेप': 2, 'वज़ह': 2, 'जागरूकता': 2, 'देग': 2, 'पकवाते': 2, 'जेमी': 2, 'फॉक्स': 2, 'समां': 2, 'लम्हा': 2, 'कोषों': 2, 'लिवाली': 2, 'बंबई': 2, 'मशीनों': 2, 'क्रॉसओवर': 2, 'व्हीकल': 2, 'आरिया': 2, 'सीसी': 2, 'प्लस': 2, 'अतिक्रमणकारियों': 2, 'हांैसले': 2, 'ऑस्ट्रेलियाई': 2, 'पेसर': 2, 'मिचेल': 2, 'मणिपुरी': 2, 'वाद्ययंत्र': 2, 'पुगचोलम': 2, 'सराही': 2, 'अमीरात': 2, 'ऐंजल': 2, 'ब्रोकिंग': 2, 'मेजबानी': 2, 'स्रोतों': 2, 'शेल': 2, 'सीबीएम': 2, 'उदारवादी': 2, 'समावेशी': 2, 'ग्रैड': 2, 'पापी': 2, 'लड़ता': 2, 'नेका': 2, 'स्विटजरलैंड': 2, 'नताली': 2, 'सच्\\u200dचा': 2, 'प्\\u200dयार': 2, 'अनुयाई': 2, 'लाइनों': 2, 'बरक़रार': 2, 'परफॉर्मर': 2, 'एचडीएफसी': 2, 'उतरा': 2, 'द्रोणाचार्य': 2, 'आकलन': 2, 'माइक': 2, 'हसी': 2, 'रक्तदान': 2, 'तावीज़': 2, 'सदस्\\u200dय': 2, 'वॉलेंटरी': 2, 'रीकॉल': 2, 'ऑटोमोबाइल': 2, 'मसलों': 2, 'रीकॉलिंग': 2, 'वीरू': 2, 'नजरिए': 2, 'हिलाकर': 2, 'संवारने': 2, 'मोदीनुमा': 2, 'प्रवर्तक': 2, 'पूंजीनिवेश': 2, 'प्रत्यक्षता': 2, 'जुझारूपन': 2, 'चुनौतियों': 2, 'बालीवुड': 2, 'महानायक': 2, 'रंगारंग': 2, 'श्रेष्ठ': 2, 'जदयू': 2, 'संप्रग': 2, 'बाघापुराना': 2, 'बलविंदर': 2, 'आढ़तियों': 2, 'खुलवाया': 2, 'मार्गों': 2, 'किय': 2, 'मल्टीपल': 2, 'इलेक्ट्रो': 2, 'स्पाइडरमैन': 2, 'समूहों': 2, 'सलाहकार': 2, 'फर्म': 2, 'रेगिस्तान': 2, 'कंकरीट': 2, 'कहामुझे': 2, 'लक्शरी': 2, 'स्कोडा': 2, 'चेकअप': 2, 'कैम्प्स': 2, 'बढ़\\u200dिया': 2, 'दिमित्रो': 2, 'डैंपर्स': 2, 'राइड': 2, 'ऐंकरिंग': 2, 'बायबैक': 2, 'रिस्पॉन्\\u200dस': 2, 'परफॉर्म': 2, 'सेल्फ़ी': 2, 'हाईट': 2, 'पैंट': 2, 'कैटवॉक': 2, 'रेमो': 2, 'डिसूज़ा': 2, 'हुस्त्र': 2, 'प्रतिभागी': 2, 'छो़डने': 2, 'सुधारों': 2, 'निवेशक': 2, 'पारदर्शिता': 2, 'ध्येय': 2, 'गुट': 2, 'संघों': 2, 'गुलाबीनगर': 2, 'विश्लेषक': 2, 'सूखी': 2, 'घुमावदार': 2, 'यूज़र्स': 2, 'प्राप्तकर्ता': 2, 'अन्त': 2, 'छिटकने': 2, 'अपरोक्ष': 2, 'सिंधू': 2, 'उपक्रमों': 2, 'कुशलतापूर्वक': 2, 'करायेंगे': 2, 'जूझना': 2, 'डाइट': 2, 'अपनाएं': 2, 'पहनने': 2, 'प्रफ़ेसर': 2, 'मनकेकर': 2, 'चेंजिंग': 2, 'कायड़': 2, 'विश्राम': 2, 'स्थली': 2, 'महासमुंद': 2, 'चरणसिंह': 2, 'परीक्षाएं': 2, 'वैशाख': 2, 'तिथिरोहणी': 2, 'सूर्यचंद्र': 2, 'शनि': 2, 'गोचर': 2, 'जूरी': 2, 'सदस्यों': 2, 'शती': 2, 'कॉलोनियों': 2, 'फीडर': 2, 'एलईडी': 2, 'लाइट्स': 2, 'करानी': 2, 'आराधना': 2, 'कन्याओं': 2, 'भोज': 2, 'समापन': 2, 'नागचंद्रेश्वर': 2, 'लौटाकर': 2, 'पेन': 2, 'इंटीरियर्स': 2, 'गट्टा': 2, 'ग्लैमरस': 2, 'बॉन्ड्स': 2, 'इन्वेस्ट': 2, 'चौड़े': 2, 'हैडलाइट्स': 2, 'फीचर्स': 2, 'इसें': 2, 'प्रतिफल': 2, 'अदाओं': 2, 'आडियंस': 2, 'आश\\u200dियाने': 2, 'कैटरीना': 2, 'टिप्स': 2, 'पत्तियों': 2, 'कृतियों': 2, 'भ्रांति': 2, 'हीरोइनों': 2, 'दिखना': 2, 'रियलिटी': 2, 'स्प्लिट्सविला': 2, 'सातवां': 2, 'मोड़': 2, 'फील्डर': 2, 'ठुमके': 2, 'स्टेप्ट': 2, 'पॉवर': 2, 'टार्क': 2, 'ऑप्शनल': 2, 'परफोर्मेस': 2, 'स्पिन': 2, 'मिडविकेट': 2, 'लिनने': 2, 'विनर': 2, 'ध्वज': 2, 'मेरिट': 2, 'सुहागा': 2, 'ऑफर्स': 2, 'अनंद': 2, 'कॉम्बिनेशन': 2, 'इनहेलर': 2, 'एमिरेट्स': 2, 'एनबीडी': 2, 'होेने': 2, 'रिटेल': 2, 'इनवेस्टर्स': 2, 'इक्विटी': 2, 'रिकवर': 2, 'गरमी': 2, 'निर्भीक': 2, 'गोगोई': 2, 'मरीज़ों': 2, 'खिंचाव': 2, 'फव्वारा': 2, 'मनोवृत्ति': 2, 'फुल': 2, 'डिलिवरी': 2, 'टपकाकर': 2, 'चौराहा': 2, 'व्यस्ततम': 2, 'शुमार': 2, 'परेशानियों': 2, 'जूझता': 2, 'सोल्जर': 2, 'बेली': 2, 'घबराहट': 2, 'जवाबदेह': 2, 'भांप': 2, 'च्चों': 2, 'हुड़दंग': 2, 'ब़डी': 2, 'सितारें': 2, 'बनिस्बत': 2, 'दुनियाभर': 2, 'डुप्लीकेट': 2, 'चर्चित': 2, 'जर्मन': 2, 'चैंपियन': 2, 'न्यूजीलैंड': 2, 'सदमे': 2, 'उबरे': 2, 'जैक्सन': 2, 'निर्यातकों': 2, 'जिग्\\u200dनेश': 2, 'सर्वथा': 2, 'बीरभूम': 2, 'असंतोषप्रद': 2, 'चिंतपूर्णी': 2, 'रक्षामंत्रालय': 2, 'एथारिटी': 2, 'बेदखल': 2, 'बारगी': 2, 'भागकर': 2, 'खिंचने': 2, 'केबिन': 2, 'शॉर्ट': 2, 'रचाई': 2, 'बरत': 2, 'भागों': 2, 'धंधा': 2, 'जस्थान': 2, 'अरावली': 2, 'रिफिलिंग': 2, 'बेच': 2, 'पडऩा': 2, 'अहंकार': 2, 'दौलत': 2, 'जायदाद': 2, 'बूथों': 2, 'पैरामिल्ट्री': 2, 'लीवर': 2, 'स्वाइन': 2, 'पॉजिटिव': 2, 'पक्षी': 2, 'पका': 2, 'नेत्र': 2, 'कॉमर्स': 2, 'मंडरा': 2, 'अनुसूचित': 2, 'पात्रों': 2, 'हसनगंज': 2, 'साफसफाई': 2, 'नगरपालिका': 2, 'क्वालिटी': 2, 'एजुकेशन': 2, 'हिंसाप्रति': 2, 'मूल्यांकन': 2, 'वर्कशॉप': 2, 'केन': 2, 'पक्के': 2, 'एसआरओ': 2, 'स्मार्टफ़ोन': 2, 'जॉब': 2, 'स्तरहीन': 2, 'रेडी': 2, 'ईट': 2, 'अटेस्टेड': 2, 'जीडीसी': 2, 'पार्को': 2, 'लियू': 2, 'गुइपिंग': 2, 'बेन': 2, 'डंक': 2, 'अनदेखी': 2, 'स्टेशनों': 2, 'प्लेटपﾥार्म': 2, 'वायलेंस': 2, 'केंचुल': 2, 'पड़ौसी': 2, 'पुन': 2, 'बौखलाकर': 2, 'तेवरों': 2, 'पीसीआर': 2, 'संवेदनशीलता': 2, 'बई': 2, 'कीरोन': 2, 'खासा': 2, 'चोरियों': 2, 'कस्बेवासियों': 2, 'राजनेताओं': 2, '\\u200dबेमतलब': 2, 'घुसा': 2, 'गुड़': 2, 'अनिश्चितकालीन': 2, 'समाजजन': 2, 'सीएमओ': 2, 'लूं': 2, 'दशके': 2, 'कंज्यूमर': 2, 'सेंटीमेंट': 2, 'लवेबल': 2, 'अयाना': 2, 'पहुंचाना': 2, 'कैग': 2, 'ऑडिट': 2, 'राजकोषीय': 2, 'गड़बड़ा': 2, 'संयोजक': 2, 'दुर्भाग्यपूर्ण': 2, 'चिमनियों': 2, 'धुओं': 2, 'मोटापे': 2, 'धर्मा': 2, 'बाल्टी': 2, 'तरसना': 2, 'विवादास्पद': 2, 'कद्दावर': 2, 'प्रशासक': 2, 'टास': 2, 'आगाज': 2, 'भाकियू': 2, 'सैहला': 2, 'मुलाना': 2, 'पचा': 2, 'प्रतिबंधों': 2, 'कटाई': 2, 'आईटीपीओ': 2, 'चमत्कारी': 2, 'लियोनेल': 2, 'अवकाश': 2, 'ढील': 2, 'समझौतों': 2, 'व्\\u200dयस्\\u200dत': 2, 'कमरतोड़': 2, 'खटास': 2, 'फ्रिक': 2, 'सीढ़ियों': 2, 'रेलिंग': 2, 'दुर्लभ': 2, 'अड़े': 2, 'कृषक': 2, 'सहकारी': 2, 'किसानी': 2, 'सिक्कों': 2, 'बेजल': 2, 'पतला': 2, 'चार्ट': 2, 'केदार': 2, 'सम्मिलित': 2, 'शॉट्स': 2, 'रीटेन': 2, 'पोषण': 2, 'पुनर्वास': 2, 'प्राथमिकता': 2, 'घूमे': 2, 'सरोकार': 2, 'हरदो': 2, 'अपराह्न': 2, 'सोसायटी': 2, 'जनसंपर्क': 2, 'टेढ़ी': 2, 'खीर': 2, 'सहानुभूतिपूर्ण': 2, 'ग्वालियर': 2, 'प्रस्तावित': 2, 'खटाई': 2, 'बस्ते': 2, 'उतरवाकर': 2, 'प्रतिनिधियों': 2, 'अंतर्विरोध': 2, 'चरमराती': 2, 'शक्तिसिंह': 2, 'गोहिल': 2, 'पिछड़ी': 2, 'थमती': 2, 'दिशानिर्देश': 2, 'आधुनिकता': 2, 'भेंट': 2, 'विवरण': 2, 'प्रोक्योरमेंट': 2, 'वर्जित': 2, 'फिरोजशाह': 2, 'लैटिन': 2, 'परछाई': 2, 'खुदवाने': 2, 'शेयरों': 2, 'तिग्मांशु': 2, 'बहिष्कार': 2, 'फैलती': 2, 'उपाध्यक्ष': 2, 'अवमानना': 2, 'अतएव': 2, 'डाले': 2, 'थकहार': 2, 'औचक': 2, 'नमूने': 2, 'बरफी': 2, 'निर्णयों': 2, 'सरकारें': 2, 'टालमटोल': 2, 'निराकृत': 2, 'जनहित': 2, 'मैलोड्रामैटिक': 2, 'खिसक': 2, 'आरटीआई': 2, 'उतारु': 2, 'एकमत': 2, 'क्लियर': 2, 'नब्ज': 2, 'चार्जेज': 2, 'त्यों': 2, 'मुसाफिर': 2, 'छक्कों': 2, 'रोनाल्डीन्हो': 2, 'निफ्टी': 2, 'सरनेम': 2, 'रानावत': 2, 'रानाउत': 2, 'लेजर': 2, 'किरणों': 2, 'तंगी': 2, 'काबिज': 2, 'क्रीज': 2, 'ड्राइवरों': 2, 'कबरई': 2, 'दिनरात': 2, 'क्रेशर्स': 2, 'बाघ': 2, 'मार्बल': 2, 'संक्रमण': 2, 'भूतप्रेत': 2, 'अकल्याणकारी': 2, 'कुसमय': 2, 'हानिप्रद': 2, 'धब्बेदार': 2, 'सड़ा': 2, 'मधुमेही': 2, 'गोलियाँ': 2, 'चलाईं': 2, 'कुव्यवस्था': 2, 'निर्णीत': 2, 'पुस्तकालय': 2, 'क्रमहीनतः': 2, 'ढूँढ़ता': 2, 'इधरउधर': 2, 'बिखरा': 2, 'नयेनये': 2, 'मंदा': 2, 'अवनत': 2, 'ऋतु': 2, 'कोट': 2, 'डालनी': 2, 'चिपक': 2, 'अजात': 2, 'अम्ल': 2, 'वाष्पशील': 2, 'पराबैंगनी': 2, 'किरणें': 2, 'अकाट्य': 2, 'मेघ': 2, 'आच्छादित': 2, 'रुआँसा': 2, 'रोनी': 2, 'माँबाप': 2, 'निश्चिंत': 2, 'अध्यात्म': 2, 'महायुद्ध': 2, 'कटु': 2, 'असह्य': 2, 'असहिष्णु': 2, 'ज़बूरीवश': 2, 'नापसंद': 2, 'नीम': 2, 'कड़ुआ': 2, 'सताए': 2, 'किससे': 2, 'अविचारणीय': 2, 'अभावनीय': 2, 'पत्रों': 2, 'मुन्ने': 2, 'दाँत': 2, 'फ़सल': 2, 'पार्टियाँ': 2, 'स्नानागार': 2, 'फिसलकर': 2, 'बुढ़ापे': 2, 'दुर्बल': 2, 'बालटी': 2, 'ढोलक': 2, 'प्रायः': 2, 'ज्वालामुखी': 2, 'फूटता': 2, 'सुरक्षात्मक': 2, 'रचना': 2, 'करोगे': 2, 'पछताओगे': 2, 'मेश': 2, 'चाटुकारिता': 2, 'कुलाचार': 2, 'क्रोधी': 2, 'उलटीपुलटी': 2, 'वन्य': 2, 'प्राणियों': 2, 'कानूनन': 2, 'असभ्य': 2, 'लट्ठमार': 2, 'चुप्पे': 2, 'दृष्टि': 2, 'दृष्टिकोण': 2, 'संदेहहीन': 2, 'झिझकते': 2, 'फँस': 2, 'गाड़ियाँ': 2, 'अनिर्धारित': 2, 'अप्रतिपन्न': 2, 'सरयू': 2, 'आयी': 2, 'बेघर': 2, 'प्रयत्न': 2, 'प्रयासों': 2, 'अकर': 2, 'कर्मों': 2, 'मूर्खता': 2, 'अर्थहीन': 2, 'निकम्मे': 2, 'अप्रमाणित': 2, 'अधकचरा': 2, 'बंदी': 2, 'दब्बू': 2, 'हठी': 2, 'हैवह': 2, 'ज़िद्द': 2, 'कपटपूर्ण': 2, 'मुस्कान': 2, 'पहलवान': 2, 'बुद्धि': 2, 'डायन': 2, 'कुरूप': 2, 'वक्राचार्य': 2, 'बेडौल': 2, 'बकवासपूर्ण': 2, 'अप्रवीणता': 2, 'आलस्य': 2, 'पिताजी': 2, 'पश्चात्': 2, 'अभयपत्र': 2, 'उत्तेजक': 2, 'राजद्रोह': 2, 'रूण': 2, 'जलकल': 2, 'संयत्र': 2, 'गाव': 2, 'बूंद': 2, 'पछाड़ा': 2, 'सहभागी': 2, 'संज्ञान': 2, 'परिवहन': 2, 'बाउंसर': 2, 'कॉमरेड': 2, 'धनंजय': 2, 'रूचि': 2, 'ऐम्प्लॉईज': 2, 'विविधता': 2, 'जुड़ते': 2, 'रेवेन्यू': 2, 'जिनमें': 2, 'महीन': 2, 'यान': 2, 'लिक्विड': 2, 'एपोजी': 2, 'मोटर': 2, 'अभिमानी': 2, 'निसंकोच': 2, 'इनहेलेशन': 2, 'थेरेपी': 2, 'टैबलेट्स': 2, 'सीरप': 2, 'जुड़ने': 2, 'संयंत्र': 2, 'प्रतिस्पर्धी': 2, 'उत्पादकता': 2, 'हमदर्द': 2, 'सटोरियों': 2, 'रैकेटों': 2, 'दरोगा': 2, 'जाफरी': 2, 'ऑप्शन': 2, 'उद्योगों': 2, 'दुरुस्त': 2, 'गुणों': 2, 'चैम्पियनशिप': 2, 'कथकली': 2, 'मुद्राओं': 2, 'सुपरकिंग्स': 2, 'रिलायंस': 2, 'लिन': 2, 'लपक': 2, 'रवीन्द्र': 2, 'कैचों': 2, 'कंधे': 2, 'विलेन': 2, 'खातों': 2, 'रेखा': 2, 'अंतर': 2, 'एनटीपीसी': 2, 'पूछिये': 2, 'किंग': 2, 'समयबद्ध': 2, 'पार्सल': 2, 'सुपुर्दगी': 2, 'चेकिंग': 2, 'डाटा': 2, 'शालीन': 2, 'फैलने': 2, 'गौरी': 2, 'खिलाडियों': 2, 'अर्जित': 2, 'वितरित': 2, 'राष्ट्रीयता': 2, 'उदात्त': 2, 'जोड़ते': 2, 'करवाते': 2, 'प्रिंसिपलों': 2, 'एपल': 2, 'पोलैंड': 2, 'पर्यटन': 2, 'कड़ा': 2, 'सुभाषिनी': 2, 'ईओडब्ल्यू': 2, 'फैसलों': 2, 'त्रुटि': 2, 'निर्वाची': 2, 'दोषियों': 2, 'बोल्ट': 2, 'उपन्यास': 2, 'कोचिंग': 2, 'चीजें': 2, 'काजी': 2, 'प्रशंसा': 2, 'कठोर': 2, 'जंगलवासियों': 2, 'बेंगलूर': 2, 'तारीफों': 2, 'क़रार': 2, 'सुगंधित': 2, 'सुगंधपूर्ण': 2, 'भड़कीले': 2, 'सवर्ण': 2, 'कर्तव्य': 2, 'रहकर': 2, 'वक्ताओं': 2, 'अनथक': 2, 'अग्रणी': 2, 'बनाएगा': 2, 'अंदाजा': 2, 'सुब्रत': 2, 'दुकानदारों': 2, 'कोरिया': 2, 'सर्जन': 2, 'क्वार्टर': 2, 'कार्यकुशल': 2, 'घूमना': 2, 'रायपुर': 2, 'लतीफ': 2, 'वडोदरा': 2, 'जुर्माने': 2, 'नतीजा': 2, 'अनुभवी': 2, 'गजल': 2, 'गायकों': 2, 'पुजारा': 2, 'पर्स': 2, 'तोहफा': 2, 'दबदबा': 2, 'स्\\u200dथलों': 2, 'केविन': 2, 'मानवीय': 2, 'मध्यक्रम': 2, 'सौहार्द': 2, 'कटक': 2, 'थके': 2, 'माल': 2, 'खंडन': 2, 'पाखंड': 2, 'हुुआ': 2, 'न्यूनतम': 2, 'एक्जिट': 2, 'विमानन': 2, 'पारिवारिक': 2, 'ईंधन': 2, 'खुशहाल': 2, 'नागपुर': 2, 'अंतरिक्ष': 2, 'पथिक': 2, 'वेध्य': 2, 'दुर्ग': 2, 'अनचाही': 2, 'विपत्ति': 2, 'छोड़ता': 2, 'फलदार': 2, 'गयीं': 2, 'विशिष्ट': 2, 'मस्त': 2, 'छाया': 2, 'संयम': 2, 'टूटना': 2, 'गुलाब': 2, 'बढ़ाता': 2, 'असीम': 2, 'क्षमा': 2, 'मस्तिष्क': 2, 'धनधान्य': 2, 'अनगढ़': 2, 'सहर्ष': 2, 'अंगीकृत': 2, 'महात्माजी': 2, 'बुद्धू': 2, 'दरियापुर': 2, 'अनुशासन': 2, 'कोशिशें': 2, 'गेंदबाज़': 2, 'सर्वोच्च': 2, 'आदर': 2, 'साधना': 2, 'संतों': 2, 'विदा': 2, 'अमर': 2, 'विनम्र': 2, 'लु': 2, 'प्रकृति': 2, 'आनंदप्रद': 2, 'उत्पादकों': 2, 'मृत': 2, 'चिकित्सक': 2, 'बहाली': 2, 'ताजमहल': 2, 'नक्काशी': 2, 'विवाहित': 2, 'निर्वाचित': 2, 'पूंजी': 2, 'प्रतिबंध': 2, 'नेटवर्किंग': 2, 'स्काटलैंड': 2, 'दनादन': 2, 'कुशाल': 2, 'अनिश्चतकालीन': 2, 'एरिया': 2, 'कथित': 2, 'लूटपाट': 2, 'जुआ': 2, 'कांटे': 2, 'पेटेंट': 2, 'दुकाने': 2, 'वायु': 2, 'चुन्नी': 2, 'जावी': 2, 'लीगा': 2, 'बिगड़ती': 2, 'पदम': 2, 'दूषित': 2, 'लोकल': 2, 'खिड़की': 2, 'खारिज': 2, 'केकेआर': 2, 'ढीला': 2, 'करंट': 2, 'शून्य': 2, 'भागे': 2, 'स्थितियों': 2, 'अमरजीत': 2, 'स्कॉटलैंड': 2, 'पेनल्टी': 2, 'हार्डवेयर': 2, 'पदार्थ': 2, 'निंदनीय': 2, 'स्पीकर': 2, 'बेड': 2, 'अजहरुद्दीन': 2, 'चढ़ाना': 2, 'सदन': 2, 'विलंब': 2, 'स्मॉल': 2, 'कैप': 2, 'स्टॉक्स': 2, 'सेलिंग': 2, 'जीडीपी': 2, 'टैरिफ': 2, 'झांककर': 2, 'अस्मित': 2, 'बारह': 2, 'सिलिंडर': 2, 'ओवरसीज': 2, 'डेट': 2, 'रास्तों': 2, 'पीपरा': 2, 'वासी': 2, 'स्थानांतरित': 2, 'डग्गामार': 2, 'वासियों': 2, 'सेक्टरों': 2, 'मार्केटों': 2, 'इन्दिरा': 2, 'राष्ट्रीयकरण': 2, 'भाजयुमो': 2, 'हटने': 2, 'खेलता': 2, 'पतियों': 2, 'रोना': 2, 'फॉर्मेट': 2, 'बरताव': 2, 'तत्कालीन': 2, 'हिसार': 2, 'बर्फीली': 2, 'हाड': 2, 'कंपकंपाती': 2, 'ठिठुरने': 2, 'आठों': 2, 'व्यापमं': 2, 'सैकड़ों': 2, 'परीक्षार्थियों': 2, 'शासकीय': 2, 'विभागों': 2, 'भर्तियों': 2, 'संकेतक': 2, 'आवाजाही': 2, 'बदबू': 2, 'जाली': 2, 'गुल': 2, 'छूटी': 2, 'जलाना': 2, 'रेफर': 2, 'बांद्रा': 2, 'नाथन': 2, 'नाइल': 2, 'दवाब': 2, 'विक्रेताओं': 2, 'उड़ते': 2, 'कटरीना': 2, 'उड़ने': 2, 'छेड़ा': 2, 'देखरेख': 2, 'हस्तक्षेप': 2, 'केसीआर': 2, 'जोरशोर': 2, 'तेलंगाना': 2, 'नारकीय': 2, 'विभागीय': 2, 'घई': 2, 'अपरिवर्तित': 2, 'स्वयंवर': 2, 'ऐश्वर्या': 2, 'डालता': 2, 'विपरित': 2, 'धकेला': 2, 'सरासर': 2, 'ठाक': 2, 'फ़र्क़': 2, 'कार्ल': 2, 'स्लिम': 2, 'पूर्वोत्तर': 2, 'नोबल': 2, 'गार्सिया': 2, 'मारकेस': 2, 'योगगुरु': 2, 'रामदेव': 2, 'खरीफ': 2, 'उद्धव': 2, 'बरसाती': 2, 'अस्पतालों': 2, 'कौड़ी': 2, 'सातवें': 2, 'कोर्स': 2, 'डेयरी': 2, 'श्रेणी': 2, 'पूछते': 2, 'गफलत': 2, 'प्याज': 2, 'सुशासन': 2, 'कतरा': 2, 'लियोनी': 2, 'आपत्तिजनक': 2, 'बो': 2, 'छुड़ाने': 2, 'चिट': 2, 'समझाना': 2, 'प्रश्न': 2, 'मेमोरियल': 2, 'तो': 2, 'एकजुट': 2, '‘आतंक’': 2, 'बलिदान': 2, 'रायता': 2, 'बौखलाहट': 2, 'पुराना': 2, 'केसी': 2, 'टीएमसी': 2, 'इजाज़त': 2, 'जुनून': 2, 'बताऐंगे': 2, 'तृप्ति': 2, 'मायाअखिलेश': 2, 'मिनी': 2, 'बीजेपीदेखिए': 2, 'रोजी': 2, 'एकेडमी': 2, 'विदिशा': 2, 'स्वच्छता': 2, 'खुलकर': 2, 'राष्ट्रवाद': 2, 'क्रासिंग': 2, 'पवार': 2, 'अमृता': 2, 'फडणवीस': 2, 'उद्धार': 2, 'ख़्वाहिशों': 2, 'गाया': 2, 'अड़चन': 2, 'ख़ुद': 2, 'धड़कता': 2, 'सरताज': 2, 'स्वेदेशी': 2, 'फ़ोन': 2, 'स्वदेशी': 2, 'तहज़ीब': 2, 'सुझाव': 2, 'जुड़िये': 2, 'मिटाओ': 2, 'कार्वी': 2, 'ठन': 2, 'औवैसी': 2, 'विपक्षी': 2, 'टोपी': 2, 'मुद्': 2, 'मोर्चाबंदी': 2, 'दानिश': 2, 'शशि': 2, 'भाँति': 2, 'अंजान': 2, 'नोकझोंक': 2, 'हटाना': 2, 'किशोरी': 2, 'बहसइस': 2, 'इंदिरा': 2, 'घेरा': 2, 'निकलेगा': 2, 'ज़बरदस्त': 2, 'सियासतदेखिए': 2, 'एडिशन': 2, 'यारी': 2, 'तरे': 2, 'गरमागरम': 2, 'मस्जिदों': 2, 'खट्टर': 2, 'बंटवारा': 2, 'जिन्नादेखिए': 2, 'हटनी': 2, 'महमूद': 2, 'मदनी': 2, 'प्रो': 2, 'सज्जाद': 2, 'चांसलर': 2, 'संघी': 2, 'लताड़ा': 2, 'ओपिनियन': 2, 'पाऐंगे': 2, 'वक़ील': 2, 'इंसाफ़': 2, 'हटाया': 2, 'बनेंगे': 2, 'मूर्ति': 2, 'सीपीआईएमलाईव': 2, 'कार्ति': 2, 'ख': 2, 'मथुरा': 2, 'पसीना': 2, 'उगले': 2, 'कोठारी': 2, 'कांग्रेसबीजेपी': 2, 'नैनों': 2, 'मुफ्ती': 2, 'मुसलमानदेखिए': 2, 'डिबेट': 2, 'दिग्गजों': 2, 'पैकेट': 2, 'सुनो': 2, 'नसीरुल': 2, 'सर्जरी': 2, '‘लव': 2, 'फ़ोर्स': 2, 'मॉल': 2, 'डूबकर': 2, 'रुपाणी': 2, 'भविष्यवाणी': 2, 'हैलाईव': 2, 'न्यूज़रूम': 2, 'तिकड़ी': 2, 'जातिवाद': 2, 'अल्पेश': 2, 'शंका': 2, 'भेजिए': 2, 'छोरी': 2, 'पहुँचाने': 2, 'हैपूरा': 2, 'नाडियाड': 2, 'खेड़ा': 2, 'देवू': 2, 'बेचा': 2, 'रिवरफ्रंट': 2, 'सीडी': 2, 'सुपरहिट': 2, 'दाउद': 2, 'सफाईगीरी': 2, 'मुगल': 2, 'रेयान': 2, 'डेंजर': 2, 'शिल्पा': 2, 'जुबानी': 2, 'सऊदी': 2, 'सुब्रमण्यम': 2, 'बालाकृष्ण': 2, 'मनचले': 2, 'हामिद': 2, 'हाँक': 2, 'ठुमरी': 2, 'होलाइवस्ट्रीम': 2, 'लाइवस्ट्रीम': 2, 'अनुमानों': 2, 'माय': 2, 'पोलआजतक': 2, 'वीडियोअन्य': 2, 'दबने': 2, 'सलूक': 2, 'नहींमान': 1, 'आतन्कवादियों': 1, 'ज़ंजीर': 1, 'भाड़': 1, 'मरते': 1, 'जग': 1, 'हसा': 1, 'अंधी': 1, 'जेठमलानी': 1, 'गड्गरी': 1, 'सरकरी': 1, 'लगया': 1, 'अहम्': 1, 'रिहा': 1, 'चाहें': 1, 'फाड़': 1, 'तन्हा': 1, 'रातो': 1, 'चिलाता': 1, 'हुवा': 1, 'समझिये': 1, 'काटजू': 1, 'सहानुभूति': 1, 'मूंह': 1, 'समर्थित': 1, 'मेंइंसान': 1, 'परज़िंदा': 1, 'प्रताड़ना': 1, 'दरभंगा': 1, 'गुंजा': 1, 'क़सम': 1, 'युपीए': 1, 'जांऊगा': 1, 'जलाऊँगा': 1, 'डिसिशन': 1, 'कर्णाटक': 1, 'क्रेडिबिलिटी': 1, 'बुला': 1, 'महफ़िल': 1, 'गैरों': 1, 'उठवाया': 1, 'हमीं': 1, 'इशारा': 1, 'संवैधानिक': 1, 'तिकड़मसंविधान': 1, 'बैलट': 1, 'अलोकतांत्रिक': 1, 'ताकतें': 1, 'बर्चस्व': 1, 'फैलायाजिनके': 1, 'दुआएं': 1, 'धर्मोन्मादी': 1, 'हिटलरपंथी': 1, 'आरएसएसिए': 1, 'जेहादी': 1, 'यासिन': 1, 'मलिक': 1, 'चिलाने': 1, 'मन्नूजी': 1, 'सालो': 1, 'उतारते': 1, 'शियासुन्नीकुर्दअलावाईअरबीफार्सी': 1, 'कबीलाओं': 1, 'बाँटा': 1, 'सुरेंदर': 1, 'सखी': 1, 'सइयाँ': 1, 'कामात': 1, 'मेहंगाई': 1, 'डायन्न': 1, 'केजरीवालजी': 1, 'केे': 1, 'मुकदमो': 1, 'करोड़ो': 1, 'कीभरनी': 1, 'लाऐंगे': 1, 'हरामी': 1, 'कामिनी': 1, 'काएडमिन': 1, 'कट्टरपंथी': 1, 'काबलियत': 1, 'अाई': 1, 'अापना': 1, 'जनार्दन': 1, 'जवानी': 1, 'गर्भवती': 1, 'माओवादी': 1, 'संसार': 1, 'बुराई': 1, 'खोजने': 1, 'झाँक': 1, 'कहियो': 1, 'वेसे': 1, 'बोम्ब': 1, 'फिगर': 1, 'लोल्ज़': 1, 'बिरला': 1, 'सोता': 1, 'जागती': 1, 'लाशे': 1, 'खोता': 1, 'फाड़कर': 1, 'बंदा': 1, 'भाभी': 1, 'ख्याल': 1, 'रखती': 1, 'आदरनिये': 1, 'जव': 1, 'सेंटी': 1, 'रूपया': 1, 'अफीम': 1, 'पकडी': 1, 'इस्लामी': 1, 'मदरसों': 1, 'सपोले': 1, 'भाईयों': 1, 'पूजना': 1, 'पढें': 1, 'हैना': 1, 'आजअहसासों': 1, 'गुर्गों': 1, 'खिलानेवाले': 1, 'प्रकिर्तिक': 1, 'ढोल': 1, 'भरेंगे': 1, 'ठूंस': 1, 'हमपर': 1, 'मेहरबानी': 1, 'घंटाल': 1, 'मुद्दतें': 1, 'कहत': 1, 'मुत': 1, 'चोदु': 1, 'निकलू': 1, 'फायदातुम': 1, 'आसूं': 1, 'दिल्लीका': 1, 'थूकमास्टर': 1, 'यूरिन': 1, 'स्पेशलिस्ट': 1, 'पॉर्ननाथ': 1, 'मुंडवायेगा': 1, 'नौटंकीमें': 1, 'एकदुसरेके': 1, 'आपीए': 1, 'बरसाना': 1, 'पायेंगे': 1, 'निरिह': 1, 'मरेंगे': 1, 'निष्क्रियता': 1, 'करारी': 1, 'पीटू': 1, 'फ़लसफ़ा': 1, 'कहूंगी': 1, 'चिडीया': 1, 'पडेंगी': 1, 'प्लेटीनम': 1, 'मसीहा': 1, 'सौंप': 1, 'नवनिर्माण': 1, 'दरारों': 1, 'फुर्सत': 1, 'महज़': 1, 'मुस्कराने': 1, 'वाकडे': 1, 'गुनाहों': 1, 'इराक़ी': 1, 'उत्तरी': 1, 'इराक़': 1, 'मेंअमरीका': 1, 'सरग़ना': 1, 'मारेजाने': 1, 'अरमान': 1, 'बिताने': 1, 'शिकवा': 1, 'खामोश': 1, 'बढकर': 1, 'संभाला': 1, 'हैतुम्हारी': 1, 'मैनपुरी': 1, 'हैंक्या': 1, 'नक्कारे': 1, 'नागनाथ': 1, 'कांगीभयंकरप्रसाद': 1, 'सुलगता': 1, 'ऐहयात': 1, 'मुस्कुराकर': 1, 'बाज़ीगर': 1, 'आयेगें': 1, 'सीलन': 1, 'हिचकियो': 1, 'बनेंगा': 1, 'जबतक': 1, 'सत्ताओ': 1, 'लगेंगा': 1, 'सिवा': 1, 'खुलेगी': 1, 'फ्लाप': 1, 'चैनलों': 1, 'कूल': 1, 'भसड़': 1, 'बापू': 1, 'नहीगाँधी': 1, 'वहमों': 1, 'दिलाना': 1, 'बिकास': 1, 'करोड': 1, 'साथअब': 1, 'अबदुल्ला': 1, 'छीछी': 1, 'मुशरफ': 1, 'भक्तिगिरी': 1, 'ढलता': 1, 'बेवफा': 1, 'उठते': 1, 'बैठते': 1, 'जागते': 1, 'यासीन': 1, 'बंदे': 1, 'कश्मीरियों': 1, 'बिचारों': 1, 'मित्रोंदुनिया': 1, 'लोकतांत्रिक': 1, 'उड़ाना': 1, 'प्रॉब्लम': 1, 'पिछवाड़े': 1, 'लात': 1, 'हींग': 1, 'बन्दूक': 1, 'रासयनिक': 1, 'सूंघ': 1, 'मुर्खता': 1, 'फाटक': 1, 'अनफाँलो': 1, 'वहाबी': 1, 'चा': 1, 'मुदा': 1, 'नुक्सान': 1, 'चप्पड़गंजू': 1, 'मेंखुशी': 1, 'साये': 1, 'क॓': 1, 'म॓ॱ': 1, 'सचचाई': 1, 'ब॓कदरी': 1, 'मुल्ला': 1, 'मैकाले': 1, 'बिका': 1, 'धोख॓बाजोॱ': 1, 'साझीऔर': 1, 'मरदानी': 1, 'फिल्मो': 1, 'दिखाओ': 1, 'फिल्मे': 1, 'हेरोगिरी': 1, 'बिचली': 1, 'जातियों': 1, 'सामंतों': 1, 'दलितघृणा': 1, 'फासीवादी': 1, 'भभक': 1, 'भाइयो': 1, 'कम्बख़त': 1, 'नहा': 1, 'विचारो': 1, 'निष्ठा': 1, 'क्लेश': 1, 'जाउँगा': 1, 'दुसरो': 1, 'पते': 1, 'कहतें': 1, 'कुछ्': 1, 'काम्': 1, 'वहि': 1, 'खालि': 1, 'हैअ': 1, 'सोची': 1, 'समझी': 1, 'उस्मानी': 1, 'घॉर': 1, 'विरोधियो': 1, 'महाकुम्भ': 1, 'इंचार्ज': 1, 'पिटवा': 1, 'खानी': 1, 'जलालुदीन': 1, 'राज्यजीतनेपर': 1, 'लडकियों': 1, 'करमीना': 1, 'बाजारऔर': 1, 'पंहुचा': 1, 'औरंगजेब': 1, 'परउन्ह': 1, 'गर्मपानी': 1, 'उबाल': 1, 'जिन्दा': 1, 'चमड़ी': 1, 'उतरवानेका': 1, 'बुद्धी': 1, 'डकैत': 1, 'आॅफिसर': 1, 'चोंपा': 1, 'हैसेना': 1, 'हैऔर': 1, 'ढूँढना': 1, 'खोये': 1, 'पन्नेऐसा': 1, 'जानतेहैंविश्व': 1, 'सबसेज्यादा': 1, 'जुल्म': 1, 'औरहमले': 1, 'सहे': 1, 'धर्मान्तरणइसलिए': 1, 'बनो': 1, 'छोड़ें': 1, 'रहेंगेधोखे': 1, 'रायुडु': 1, 'बहादुरी': 1, 'चुतियाप': 1, 'ॉल': 1, 'अंपायर': 1, 'मैने': 1, 'लड़कियोंको': 1, 'जलाये': 1, 'मरती': 1, 'पेहेले': 1, 'तीर्थस्थल': 1, 'सिंगल्स': 1, 'समझाए': 1, 'अकल': 1, 'एश': 1, 'खेर': 1, 'क़लम': 1, 'दारू': 1, 'ऐयाशी': 1, 'भजन': 1, 'गायेंगे': 1, 'आपा': 1, 'खोएं': 1, 'दौड़े': 1, 'होये': 1, 'ज़हरीलादास': 1, 'गुड़िया': 1, 'डियोड्रेंट': 1, 'अंडरविअर': 1, 'ठगबंधन': 1, 'चुतियापे': 1, 'बहुतगाली': 1, 'खायेगा': 1, 'पेअनुष्का': 1, 'नोच': 1, 'हैकी': 1, 'सिक्युलर': 1, 'झूठा': 1, 'जयकार': 1, 'भगतो': 1, 'औरभारतीय': 1, 'मुस्लमान': 1, 'बुद्धिजीवी': 1, 'धूमिल': 1, 'भसड': 1, 'महैन्द्र': 1, 'सिँह': 1, 'आसएसएस': 1, 'थूकता': 1, 'बिगाड़ा': 1, 'मरवा': 1, 'पद्दी': 1, 'भड़ास': 1, 'बताओगे': 1, 'कबसे': 1, 'कम्युनल': 1, 'प्रजाति': 1, 'सिमित': 1, 'जापान': 1, 'विस्तारवाद': 1, 'तिब्बती': 1, 'करनेवालों': 1, 'बेमानी': 1, 'बेईमंटी': 1, 'फील्डिंग': 1, 'मिॠो': 1, 'अभियुक्त': 1, 'जबकिगीता': 1, 'मेंचर्चा': 1, 'बिहारशरीफ': 1, 'शेखपुरा': 1, 'भंग': 1, 'धंसने': 1, 'जूती': 1, 'अस्त्र': 1, 'आपियों': 1, 'सतना': 1, 'मैहर': 1, 'जूरा': 1, 'सरपंच': 1, 'सबिँधान': 1, 'ओछी': 1, 'शिला': 1, 'टियर': 1, 'बरसाए': 1, 'श्रोत': 1, 'भटके': 1, 'नवजावन': 1, 'मनन': 1, 'चुतिया': 1, 'नाकों': 1, 'चने': 1, 'चबवाने': 1, 'ठुल्ले': 1, 'देके': 1, 'जायें': 1, 'दामिनी': 1, 'भ्रष्टाचारी': 1, 'निर्दोषों': 1, 'बरसा': 1, 'सुहाग': 1, 'अपवित्र': 1, 'शिंदे': 1, 'गतिविधीयो': 1, 'अप्रत्यक्ष': 1, 'आतंकवादियो': 1, 'होसला': 1, 'अफजाई': 1, 'बलि': 1, 'गयीये': 1, 'कटतेबचते': 1, 'अम्मा': 1, 'मनाएगी': 1, 'अगरदिल्ली': 1, 'सुधारनी': 1, 'प्रतिबन्ध': 1, 'सरसंघचालक': 1, 'सुदर्शन': 1, 'आत्मा': 1, 'जख्मोँ': 1, 'छिड़क': 1, 'मालुम': 1, 'खुन्ग्रेसी': 1, 'वाल': 1, 'भागो': 1, 'मातरम्': 1, 'मुसलिम': 1, 'बीके': 1, 'डमरू': 1, 'पर्वाक्ता': 1, 'ऐका': 1, 'लिखते': 1, 'शोणित': 1, 'समझोतों': 1, 'सिंचाई': 1, 'फ़हराएंगे': 1, 'हैंडलूम': 1, 'टेक्सटाइल्स': 1, 'पीए': 1, 'वेंकटेश': 1, 'सार्जवजनिक': 1, 'मारु': 1, 'पराया': 1, 'शीश': 1, 'बकैती': 1, 'दरवाजे': 1, 'समज्ञना': 1, 'टेलिकॉम': 1, 'धारको': 1, 'छब्बीस': 1, 'फिजूल': 1, 'ज़यादा': 1, 'तन्हाई': 1, 'रोएगी': 1, 'रास्त्रमंडल': 1, 'खुलेंगे': 1, 'पर्दा': 1, 'ज्योति': 1, 'अंगुली': 1, 'भड़की': 1, 'मानवाधिकारवादियों': 1, 'संगठित': 1, 'मित्रो': 1, 'अनधिकृत': 1, 'आबूरोड': 1, 'स्टैण्डरेलवे': 1, 'दांयेबांये': 1, 'पुकार': 1, 'आसू': 1, 'क्रंदन': 1, 'अँधेरी': 1, 'सुनसान': 1, 'लफ्ज': 1, 'लडकी': 1, 'तहे': 1, 'चढ़ाने': 1, 'धकेलते': 1, 'हटो': 1, 'कस्म': 1, 'मंत्रीगायब': 1, 'महोदय': 1, 'लूटमार': 1, 'डकैती': 1, 'तकरार': 1, 'चुगली': 1, 'छंद': 1, 'हैअन्दर': 1, 'घटीया': 1, 'मुह': 1, 'चेतावनीः': 1, 'गॉड': 1, 'पार्टिकल्स': 1, 'उच्चतापति': 1, 'रहूँगा': 1, 'फ़ना': 1, 'आजा': 1, 'पेल': 1, 'रोकेगा': 1, 'कजरी': 1, 'खीचते': 1, 'मफ़लर': 1, 'लपेटता': 1, 'लगाओ': 1, 'हेलमेट': 1, 'कंपल्सरी': 1, 'फितना': 1, 'शेष': 1, 'दीं': 1, 'इस्लामसे': 1, 'इमानवालोंमुस्लमानको': 1, 'बनायें': 1, 'श्रीशांत': 1, 'गुरूनाथ': 1, 'मयप्पन': 1, 'जाएँ': 1, 'मुशरिकों': 1, 'मजहब': 1, 'पौने': 1, 'बिछड़': 1, 'कुंभ': 1, 'मेले': 1, 'कोलावेरीगायन': 1, 'बङी': 1, 'न्युज': 1, 'सिरिज': 1, 'बोल्ङ': 1, 'दादाजी': 1, 'अंडा': 1, 'बजा': 1, 'ठोक': 1, 'नरेंदर': 1, 'इस्सलिये': 1, 'सुब्रम्नयम': 1, 'कबि': 1, 'क्वेश्चन': 1, 'वक्ता': 1, 'श्रोता': 1, 'श्राप': 1, 'पब्लिशर्स': 1, 'रजिस्टर्ड': 1, 'फील्ड': 1, 'मुर्ख': 1, 'व्यस्था': 1, 'अर्थी': 1, 'छो़ड़िए': 1, 'डिप': 1, 'सरे': 1, 'खंग्रेस': 1, 'डालू': 1, 'लिखुंगा': 1, 'फिरसे': 1, 'वचपन': 1, 'तरसता': 1, 'शैतानों': 1, 'पैरिस': 1, 'इमोश्नल': 1, 'सोचकर': 1, 'दर्शको': 1, 'आंखो': 1, 'छलक': 1, 'दानिशकनेरिया': 1, 'उपरपाकितानी': 1, 'खिलाडी': 1, 'औरपीसीबी': 1, 'कुबूल': 1, 'दबावडालताहै': 1, 'मिलेमगर': 1, 'मिलेतो': 1, 'पश्चिमी': 1, 'मेंइबोला': 1, 'ार': 1, 'इसबीमारी': 1, 'शिकारः': 1, 'बरदाश्त': 1, 'दफ़ा': 1, 'जनगणना': 1, 'सुरेन्द्र': 1, 'पंढेर': 1, 'पूछता': 1, 'इसराख': 1, 'येआग': 1, 'लगायी': 1, 'बंट': 1, 'पूछ': 1, 'सजधज': 1, 'ईमान': 1, 'गगरेट': 1, 'कालिया': 1, 'तौ': 1, 'सेकुलरिस्म': 1, 'बनेगे': 1, 'फालो': 1, 'गिरते': 1, 'हुऐ': 1, 'नीकलना': 1, 'कपडे़': 1, 'घिसटता': 1, 'गांड': 1, 'फाड': 1, 'हँसती': 1, 'सेकूलर': 1, 'चोग़े': 1, 'कडवे': 1, 'पाओगे': 1, 'अद्रशय': 1, 'शत्रु': 1, 'खोलो': 1, 'दयनीय': 1, 'खुबसूरत': 1, 'हुर': 1, 'दिलवाऊंगा': 1, 'परसेछाई': 1, 'टेस्टिंग': 1, 'ारे': 1, 'संपत्तिया': 1, 'करली': 1, 'हाघरेलु': 1, 'लोगइस': 1, 'कमेन्ट': 1, 'दीधन्यवाद': 1, 'नें': 1, 'इंटेलिजेंस': 1, 'ताना': 1, 'सह': 1, 'तल्खी': 1, 'असंवैधानिक': 1, 'तरीकों': 1, 'लए': 1, 'होक': 1, 'बेशर्मो': 1, 'सन्डे': 1, 'गवा': 1, 'हरामखोर': 1, 'पिट्रोल': 1, 'बैट': 1, 'रुस्तम': 1, 'कहनेवालो': 1, 'साँप्रदायिकता': 1, 'सट्टेबाज़': 1, 'ऒर': 1, 'एकादश': 1, 'समर्पण': 1, 'उल्टा': 1, 'सब्बल': 1, 'मेच': 1, 'उत्तप्रदेश': 1, 'बिजनौर': 1, 'प्रण': 1, 'गोरक्षनाथ': 1, 'कायदा': 1, 'जवाहिरीबिल': 1, 'चूहों': 1, 'ओल्ड': 1, 'मोंक': 1, 'बेवडी': 1, 'संगीन': 1, 'अत्याचारों': 1, 'भारतीयहैएक': 1, 'किस्मकी': 1, 'बीमारराजनीतिज्ञों': 1, 'अपनेफायदेकेलिएतैयार': 1, 'आस्ट्ॆलिया': 1, 'फाँकनर': 1, 'फाकनर': 1, 'शिक्षार्थीओं': 1, 'रचनात्मक': 1, 'लक्ष्मी': 1, 'लागती': 1, 'भिखारी': 1, 'हैंमानो': 1, 'प्रोफेशन': 1, 'केज़िम्मेदार': 1, 'फिक्रमंद': 1, 'डोर': 1, 'मुनासिब': 1, 'मंजुर': 1, 'असुविधा': 1, 'अंकुश': 1, 'दिमाग़': 1, 'हुआक्यों': 1, 'अफ़सर': 1, 'आपनी': 1, 'थादेखें': 1, 'हैंवो': 1, 'राज़बार': 1, 'गर्ल्स': 1, 'ठुमकों': 1, 'दीवानी': 1, 'वोल्टेज': 1, 'ड्रामासमझे': 1, 'झूठाजांच': 1, 'नाज़ों': 1, 'पाला': 1, 'पुलिसकिसानों': 1, 'बंदोबस्त': 1, 'गुरू': 1, 'हत्थे': 1, 'पम्म': 1, 'समलैंगिकता': 1, 'घटनओं': 1, 'गूंगे': 1, 'कारणजाने': 1, 'फिदायीन': 1, 'वेबसाइ': 1, 'तरफऔर': 1, 'साधुवाद': 1, 'चैनमेरे': 1, 'मोदीमय': 1, 'नैन': 1, 'रूठे': 1, 'फिसलने': 1, 'पंहुचे': 1, 'छिड़कने': 1, 'चमकाऐंगेतंग': 1, 'रहेंगेभंग': 1, 'करेंगेबच्चों': 1, 'मूँछों': 1, 'बढ़ाएँगेशान': 1, 'कुंभकर्णी': 1, 'बचातेहै': 1, 'लाक': 1, 'अपनीअपनी': 1, 'पाल': 1, 'खोजोऐसे': 1, 'आंख्यां': 1, 'जातें': 1, 'कुमारमां': 1, 'ज़ख्म': 1, 'प्रताड़ित': 1, 'लिे': 1, 'क्रैश': 1, 'वजहदेखें': 1, 'शामली': 1, 'फोर्टिस': 1, 'पंड्या': 1, 'नम्बरीबाप': 1, 'नम्बरी': 1, 'आवाजें': 1, 'आनी': 1, 'वल्लभ': 1, 'पुरुषोत्तम': 1, 'लीटर': 1, 'शतक': 1, 'नवरत्न': 1, 'ज्यादे': 1, 'महारत्न': 1, 'धूर्त': 1, 'कोंग्रेसियों': 1, 'भोलेभाले': 1, 'भाजपाइयों': 1, 'अप': 1, 'ऐसे': 1, 'बरे': 1, 'मुर्गा': 1, 'छबील': 1, 'भानुशाली': 1, 'भुज': 1, 'डिफ्युज': 1, 'पाये': 1, 'मिकेनीजम': 1, 'स्टन्ट': 1, 'पहेले': 1, 'सोचे': 1, 'बेलगाडी': 1, 'बेठ': 1, 'कलेकटर': 1, 'ओफिस': 1, 'पहेंचे': 1, 'हार्टऐटेक': 1, 'निकालेगा': 1, 'नलिया': 1, 'धेराव': 1, 'पिछ': 1, 'फूलों': 1, 'ग़लियारो': 1, 'ट्': 1, 'किडनी': 1, 'ट्विवटर': 1, 'फ़ॉ': 1, 'छापी': 1, 'छीछालेदर': 1, 'दीजिये': 1, '“हमको': 1, 'सलाउद्दीन': 1, 'अनपढ़': 1, 'लैंडफॉल': 1, 'गोपालपुर': 1, 'दक्षिणपश्चिम': 1, 'अनामत': 1, 'आईना': 1, 'प्रधुम्न': 1, 'सबरीमालाआस्था': 1, 'कुरुक्षेत्र': 1, 'रिर्पोटर': 1, 'इशारे': 1, 'डिटेल': 1, 'डबलडोज': 1, 'अवेलेबल': 1, 'हि': 1, 'फैस': 1, 'सुपारी': 1, 'किलर': 1, 'करवाओ': 1, 'खत्मइतिहास': 1, 'दिनयेदुरप्पा': 1, 'रिव्यु': 1, 'चायवाले': 1, 'मंज़र': 1, 'वीडियों': 1, 'ख़बरदार': 1, 'एंजिनीरिंग': 1, 'दबाया': 1, 'उकसा': 1, 'जागो': 1, 'भट्टे': 1, 'तर्कों': 1, 'कुतार्कों': 1, 'मवाली': 1, 'शेमशेम': 1, 'टिमटिमाते': 1, 'दीपावली': 1, 'मंगलमय': 1, 'जीवेत्': 1, 'शरदः': 1, 'शतम्': 1, 'पैसें': 1, 'जानोगे': 1, 'नवराते': 1, 'भंडारे': 1, 'ध्रुवत्यागी': 1, 'रियाज': 1, 'व्हाट्सअप': 1, 'शिवाली': 1, 'जनेऊधारी': 1, 'हाथबार': 1, 'साइंटिस्ट': 1, 'उस्ताद': 1, 'पड': 1, 'जिम्मेदारदेखिए': 1, 'ग़द्दार': 1, 'ग्लास': 1, 'शुक्र': 1, 'बौखलाने': 1, 'गिड़गिड़ाने': 1, 'प्यारइस': 1, 'शिवलिंग': 1, 'बिच्छू': 1, 'थरूरविवादित': 1, 'प्यारकोई': 1, 'दूरदूर': 1, 'खीरी': 1, 'डिग्गी': 1, 'गाएँ': 1, 'फ़रार': 1, 'तस्कर': 1, 'नक़ल': 1, 'अपनाई': 1, 'गयापटेल': 1, 'डेडलाइन': 1, 'सहीं': 1, 'पेट्रोलियम': 1, 'पदार्थों': 1, 'अबिलम्ब': 1, 'लागु': 1, 'असरानी': 1, 'सुराख': 1, 'अनसन': 1, 'तोड़ेगा': 1, 'लटकाते': 1, 'मिटाना': 1, '‘नमामि': 1, 'गंगे’': 1, '‘पवित्र’': 1, 'जहरीले': 1, 'मुक्ति': 1, '\\xa0कैराना': 1, '\\xa0को': 1, 'पुलिया': 1, 'जवाबों': 1, 'बहुतबहुत': 1, 'सुदंर': 1, '╭────╯•╰────╮यादों': 1, 'हैकोई': 1, 'बहुतकरीब': 1, 'चिड़ियाउड़': 1, 'एक्सक्लूसिवआजतक': 1, 'देशतक': 1, 'अटारी': 1, 'प्रेसकॉन्फ्रेंस': 1, 'चाहिए\\u2066\\u2069': 1, '\\u2066': 1, 'सवर्णों': 1, 'दिलायेंगे': 1, 'इतिहासकार': 1, 'ललितादित्य': 1, 'पूछो': 1, 'राहे': 1, 'कगारपर': 1, 'पाकिस्तानक्या': 1, 'तारीख़ों': 1, 'संन्यासी': 1, 'फूटफूट': 1, 'रोए': 1, 'आनंदीबेन': 1, 'देशवासी': 1, 'जीन': 1, 'ईज्जत': 1, 'बढाया': 1, 'शम्स': 1, 'दोमैं': 1, 'जाउंगा': 1, 'अंगडायी': 1, 'लडाय': 1, 'बिष्ट': 1, 'साहेबजिन्हें': 1, 'माताओं': 1, 'शेरों': 1, 'बिल्ली': 1, 'भाभियों': 1, 'संसदीय': 1, 'लफ्जो': 1, 'परकि': 1, 'भूला': 1, 'कैंची': 1, 'फ़ैशन': 1, 'है\\xa0': 1, 'पेड़ो': 1, 'सरोजिनी': 1, 'कैमपेन': 1, 'शॉक': 1, 'मारेंगे': 1, 'मार्शलमहाराष्ट्र': 1, 'दंगाइयों': 1, 'बुलाईं': 1, 'दा': 1, 'फीयर': 1, 'अफ़रोज़': 1, 'फ़्रांसीसी': 1, 'समरोह': 1, 'चौतरफा': 1, 'मेवानी': 1, 'बोरिंग': 1, 'व्': 1, 'लुटता': 1, 'चीर‚प्यादे': 1, 'वजीर‚चलूं': 1, 'विरक्ति': 1, 'रचाऊं': 1, 'अल्का': 1, 'अयोग्य': 1, 'आफिस': 1, 'प्रॉफ़िट': 1, 'सुशील': 1, 'फार्मूला': 1, 'कहेगी': 1, 'समेट': 1, 'बटोर': 1, 'फ्लाइट्स': 1, 'समझोगे': 1, 'पेंडिग': 1, 'ट्रम्प': 1, 'फिरकी': 1, 'जैसे': 1, 'अमेठीराय': 1, 'कांग्रे': 1, 'आमना': 1, 'करिये': 1, 'हाहाहा': 1, 'रीवा': 1, '“संतों”': 1, '“महा': 1, 'मार्च”': 1, 'मिडिल': 1, 'दीस्वागत': 1, 'रुद्राक्ष': 1, 'टॉफियां': 1, 'बांटते': 1, 'मेरातेरा': 1, 'भड़ाना': 1, 'आईएनएलडी': 1, 'सूत्रफिलहाल': 1, 'पीके': 1, 'मेंकांग्रेस': 1, 'ज्याद': 1, 'कठपुतली': 1, 'तरक़्क़ी': 1, 'बदलेंगे': 1, 'रा': 1, 'कितना': 1, 'हसीं': 1, 'छूटे': 1, 'करतेवक़्त': 1, 'शाख': 1, 'लम्हे': 1, 'तोडा': 1, 'पंचकूला': 1, 'मजिस्ट्रेट': 1, 'चौकसी': 1, 'जसमीत': 1, 'गुरमीत': 1, 'सुखदीप': 1, 'खरीददारी': 1, 'करेपरिवार': 1, 'निकलेबाजार': 1, 'रहेगामरते': 1, 'बोरे': 1, 'पडोसियो': 1, 'पडेगा': 1, 'हिन्दुस्तानन': 1, 'बयानन': 1, 'अरहर': 1, 'चिंतान': 1, 'पुरुस्कार': 1, 'लौटानादेश': 1, 'वायनाड': 1, 'पीएल': 1, 'बदलता': 1, 'जयप्रकाश': 1, 'लोहिया': 1, 'निकलती': 1, 'ज्योतिरादित्य': 1, 'सिंधिया': 1, 'घेरावदेखिए': 1, 'दिव्या': 1, 'स्पंदना': 1, 'रखता‘मिशन': 1, 'शुभकामनाओं': 1, 'शुभकामना': 1, 'प्रीऑर्डर': 1, 'ठग': 1, 'निकाले': 1, 'थाईलैंड': 1, 'थाइलैंड': 1, 'खींचतान': 1, 'लखनवी': 1, 'सितारे': 1, 'दो': 1, 'लगवाएंगे': 1, 'अल्मोड़ा': 1, 'टनकपुर': 1, 'शौकिया': 1, 'घरेलु': 1, 'वेज': 1, 'कव्वाली': 1, 'मॉर्निंग': 1, 'कुम्भ': 1, 'पौराणिक': 1, 'कथाओं': 1, 'सिंपल': 1, 'हावाह': 1, 'गणित': 1, 'ख्यालों': 1, 'फालूदाकुल्फी': 1, 'खिलाएं': 1, 'परसों': 1, 'टेलिकास्ट': 1, 'सूट': 1, 'पहनकर': 1, 'एक्स्ट्रा': 1, 'चार्ज': 1, 'रजिस्ट': 1, 'सौंदर्यबोध': 1, 'रिमोट': 1, 'थोपा': 1, 'थोड़े': 1, 'ग्रह': 1, 'पूजे': 1, 'नैतिकता': 1, 'पिलाने': 1, 'निभाना': 1, 'पकवान': 1, 'सीखना': 1, 'पत्रव्यवहार': 1, 'पढिएगा': 1, 'छपने': 1, 'वैरागी': 1, 'रिप्लाई': 1, 'पानीचाय': 1, 'अनुप्रास': 1, 'अलंकार': 1, 'थैंक': 1, 'घुमक्कड़ों': 1, 'झकझोर': 1, 'दुष्यंत': 1, 'अनमोल': 1, 'एक्सपर्ट': 1, 'गुड': 1, 'कॉम्बेटिव': 1, 'मॉनिटरिंग': 1, 'मैडम': 1, 'अकाल': 1, 'अद्वितीय': 1, 'जहांजहां': 1, 'मीलॉर्डकहगएहैं': 1, 'सकरात्मक': 1, 'हंसना': 1, 'मठ': 1, 'ऐन': 1, 'बोतलें': 1, 'फ्री': 1, 'भिजवाए': 1, 'फटेहाल': 1, 'टाइप': 1, 'डिमांड': 1, 'सप्पलाई': 1, 'उपज': 1, 'टीएल': 1, 'ड्रेसिंग': 1, 'ईईईईईईईई': 1, 'बके': 1, 'घसीटे': 1, 'फँसी': 1, 'टाइममशीन': 1, 'फौरन': 1, 'शेड्यूल': 1, 'थमा': 1, 'अम्म्म्म': 1, 'वैसेक्या': 1, 'पियर्स': 1, 'मॉर्गन': 1, 'गिरता': 1, 'खिसकता': 1, 'मांगोगे': 1, 'तुस्सी': 1, 'रहेंगी': 1, 'बडेमिया': 1, 'इरानियन': 1, 'स्वीट्स': 1, 'बकलावा': 1, 'इद्रीस': 1, 'मोहम्मदी': 1, 'होम': 1, 'मेड': 1, 'गोरक्षकों': 1, 'झाकीर': 1, 'परदेसी': 1, 'गाये': 1, 'शादाब': 1, 'मिलवाने': 1, 'संशय': 1, 'जेटला': 1, 'रहेर': 1, 'कास्ट': 1, 'पढ़ाते': 1, 'थेक्या': 1, 'भक्तों': 1, 'मेकअप': 1, 'सच्चाइयां': 1, 'तारतार': 1, 'एंकरिंग': 1, 'एंटरटेनमेंट': 1, '‘धड़क’': 1, 'बनायी': 1, '‘दस’': 1, 'फ़ेवरेट': 1, '‘’': 1, '‘म’': 1, 'ट्रान्स्फ़र': 1, 'पोस्टिंग': 1, 'गरमियों': 1, 'छुट्टियों': 1, 'अमरीका': 1, 'मिसाइल': 1, 'पर्सेंट': 1, 'वीकेट': 1, 'भुबनेश्वर': 1, 'खिलना': 1, 'चढ़ते': 1, 'नीले': 1, 'सूर्यास्त': 1, 'धीरेधीरे': 1, 'पिघल': 1, 'नज़ारा': 1, 'काफुल': 1, 'कटने': 1, 'कोहराम': 1, 'मचना': 1, 'तयबीजेपी': 1, 'प्राधिकरण': 1, 'कारें': 1, 'टॉपर्स': 1, 'बैजल': 1, 'डेवलपमेंट': 1, 'ज़िम्मेदारी': 1, 'पतझड़': 1, 'झरने': 1, 'टकराकर': 1, 'रंगों': 1, 'हाइकोर्ट': 1, 'शुरूविधयकों': 1, 'कबूलनामासिर्फ': 1, 'चिट्ठियों': 1, 'आरुषि': 1, 'दंपति': 1, 'मिलिंद': 1, 'एकबोटे': 1, 'जताने': 1, 'दाभोलकर': 1, 'नहाए': 1, '‘बेस्ट': 1, 'अन्तर्राष्ट्रीय': 1, 'राज़ी': 1, 'विजापुर': 1, 'दामाद': 1, 'सम्मन': 1, 'ठेकाकौन': 1, 'बादशाहक्या': 1, 'मजदू': 1, 'दिल्लीरिपोर्ट': 1, 'यारयार': 1, 'ऐतबार': 1, 'देस': 1, 'भेस': 1, 'लस्सी': 1, 'पीजिए': 1, 'इंटरव्': 1, 'समिधा': 1, 'हटाये': 1, 'पेच': 1, 'ढेरों': 1, 'वंदन': 1, 'महाकालेश्वर': 1, 'भस्मारती': 1, 'श्रृंगार': 1, 'दर्शनशुक्रवार': 1, 'बातचीतबताया': 1, 'रैं': 1, 'वसुंधरा': 1, 'राजे': 1, 'बतायाराजस्\\u200dथान': 1, 'थाली': 1, 'फोटोशॉप': 1, 'पैरवी': 1, 'गम्भीरता': 1, 'बाजीराव': 1, 'मस्तानी': 1, 'प्राइम': 1, 'सीतारमण': 1, 'सेंव': 1, 'राशन': 1, 'करोरामनवमी': 1, 'करों': 1, 'अजब': 1, 'हैसबसे': 1, 'अर्थशास्त्रियों': 1, 'घेराव': 1, 'भीड़सुना': 1, 'बि': 1, 'खाएगा': 1, 'टंगा': 1, 'मसला': 1, 'क्योंकि': 1, 'बरगद': 1, 'बांटे': 1, 'बाबुओं': 1, 'बत्तियां': 1, 'सीएसटी': 1, '‘जानलेवा’': 1, 'फुटओवर': 1, '‘मुंबई': 1, 'तक’': 1, 'नाना': 1, 'पाटेकर': 1, 'रिएक्शन': 1, 'त': 1, '‘महागणपति’': 1, 'सिंतबर': 1, 'गणेशोत्सव': 1, 'बारामती': 1, 'रेस्टॉरेंट': 1, 'कबाब': 1, 'पेशक': 1, 'यवतमाल': 1, 'बेम्बल': 1, 'राउत': 1, 'शिवसे': 1, 'एयरलाइन्स': 1, 'फ्लाई': 1, 'करोगी': 1, 'बिटिया': 1, 'सोनल': 1, 'कृपिया': 1, 'करें': 1, 'तारेक': 1, 'कोफ़्त': 1, 'मुफ़्त': 1, 'निकलवाए': 1, 'पहले': 1, 'उन्\\u200dनाव': 1, 'फटती': 1, 'तोगड़िया': 1, 'दोदो': 1, '‘होल’': 1, 'धराशायी': 1, 'इंटेसिंटी': 1, 'स्टीरियोटाइप': 1, 'एली': 1, 'अबराम': 1, 'ग्लैमर': 1, 'ऐड': 1, 'कट्टे': 1, 'लातघूंसा': 1, 'हाथापाई': 1, 'चटकाई': 1, 'फुड़ौव्वल': 1, 'अभिनीत': 1, 'सदमा': 1, 'खयाल': 1, 'आगेपीछे': 1, 'पापुलर': 1, 'जवांमर्दी': 1, 'कदकाठी': 1, 'मिसिंग': 1, 'बिखराव': 1, 'दोचार': 1, 'तारतम्य': 1, 'अपेक्षित': 1, 'अंजुम': 1, 'ब्रांड': 1, 'दोहराती': 1, 'मौलिकता': 1, 'एडल्ट': 1, 'गुदगुदा': 1, 'तरकीबें': 1, 'अपनाते': 1, 'सम्मोहित': 1, 'आयटम': 1, 'असंगत': 1, 'सत्याग्रह': 1, 'स्पष्टता': 1, 'रचे': 1, 'नाटकीयता': 1, 'डायलॉगबाजी': 1, 'चोपड़ा': 1, 'जोड़े': 1, 'पुख्तगी': 1, 'खिचड़ी': 1, 'हताश': 1, 'शैलियों': 1, 'एटसेट्रा': 1, 'दास्तान': 1, 'झगड़े': 1, 'गड़बड़': 1, 'नायिका': 1, 'बीस': 1, 'ठहरती': 1, 'सक्सेना': 1, 'साम': 1, 'दंड': 1, 'फोकस': 1, 'सड़': 1, 'देहगाथा': 1, 'रिझाने': 1, 'बहलाने': 1, 'उलझनों': 1, 'निगेटिव': 1, 'अच्छाई': 1, 'प्रपंच': 1, 'शांतचित्त': 1, 'शॉर्टकट': 1, 'ऊबाऊ': 1, 'अमीषा': 1, 'ग्रेटाल': 1, 'श्रृंगारपुरे': 1, 'डिटेलिंग': 1, 'कानों': 1, 'हथौड़े': 1, 'बेरूखी': 1, 'ठगे': 1, 'महाअक्षय': 1, 'एनिमी': 1, 'त्रिखा': 1, 'टुकड़ोंटुकड़ों': 1, 'उपजाऊ': 1, 'बंजर': 1, 'ज़बर्दस्ती': 1, 'रास': 1, 'कनेक्ट': 1, 'पारकर': 1, 'कुणाल': 1, 'कन्विन्शिंग': 1, 'पड़': 1, 'आसिम': 1, 'ठगा': 1, 'दिखाती': 1, 'रजत': 1, 'अरोरा': 1, 'लूथरिया': 1, 'जेंटलमैन': 1, 'द्वय': 1, 'गिनेचुने': 1, 'फ़िल्मदर्शकों': 1, 'आईडिया': 1, 'हॉलीवुड': 1, 'भारतीयकरण': 1, 'बचकाने': 1, 'अंडर': 1, 'ट्रायल': 1, 'सतही': 1, 'लॉन्चिंग': 1, 'जल्दीबाजी': 1, 'फॉल्स': 1, 'बाबूमोशाय': 1, 'बंदूकबाज': 1, 'रेडक्लिफ़': 1, 'खड़े': 1, 'क्राफ्ट': 1, 'सिंथेटिक': 1, 'पार्टीशन': 1, 'नज़रिया': 1, 'दर्शनीय': 1, 'रुख़': 1, 'ख़ान': 1, 'सुपरमैन': 1, 'बड़ेबड़े': 1, 'सेट्स': 1, 'जोड़': 1, 'पकड़': 1, 'इम्तियाज़': 1, 'फ़िल्मी': 1, 'लिबर्टी': 1, 'पीढ़ी': 1, 'गुमराह': 1, 'लॉजिकल': 1, 'फॉल्ट्स': 1, 'स्लो': 1, 'ट्रेक्स': 1, 'ओनिर': 1, 'ग्राफ': 1, 'ग्रो': 1, 'फ़र्स्टहाफ': 1, 'खाती': 1, 'रचनात्\\u200dमकता': 1, 'पसर': 1, 'घटनाक्रम': 1, 'प्रेडिक्\\u200dटेबल': 1, 'बनतेबनते': 1, 'दीम': 1, 'लेष': 1, 'रिक्\\u200dत': 1, 'धारावाहिकों': 1, 'मौकों': 1, 'भावभंगिमा': 1, 'फासला': 1, '‘ट्यूबलाइट’': 1, 'महत्\\u200dवपूर्ण': 1, 'पूर्वार्द्ध': 1, 'अमजद': 1, 'ओबेरॉय': 1, 'सक्\\u200dसेना': 1, '‘फुल्\\u200dलू’': 1, 'क्रिएटिविटी': 1, 'एकआयामी': 1, 'व्\\u200dयक्\\u200dत': 1, 'नहीे': 1, 'फुल्\\u200dलू': 1, 'क्रिया': 1, 'स्\\u200dपष्\\u200dट': 1, 'अकेल': 1, 'शारिब': 1, 'हाश्\\u200dमी': 1, 'टिकी': 1, 'हांफने': 1, 'बोल्\\u200dडनेस': 1, 'ख्\\u200dयाल': 1, 'अत्\\u200dयाधिक': 1, 'साइकोलॉजिकल': 1, 'खंडित': 1, 'सपाट': 1, 'उकेर': 1, 'रॉनी': 1, 'कच्चे': 1, 'व्यक्त्त्वि': 1, 'खंगाला': 1, 'दूरगामी': 1, 'निर्मातानिर्देशक': 1, '‘हाफ': 1, 'हाफ': 1, 'दरकिनार': 1, 'संयोगों': 1, 'अंश': 1, 'व्याकरण': 1, 'भटकाव': 1, 'बच्चकन': 1, 'रामकुमार': 1, 'प्रयत्नों': 1, 'छिटपुट': 1, 'खूबियों': 1, 'दिक्कतें': 1, 'निष्\\u200dपत्ति': 1, 'रोकती': 1, 'बुनने': 1, 'चूकते': 1, 'फिल्मोंं': 1, 'ठहरकर': 1, 'सोचें': 1, 'बंधी': 1, 'अावश्\\u200dयक': 1, 'वात्\\u200dसल्\\u200dय': 1, 'ईर्ष्\\u200dया': 1, 'लांघती': 1, 'उद्देश्\\u200dय': 1, 'उपसंहार': 1, 'अहमकाना': 1, 'बहकी': 1, 'रहीसही': 1, 'परफॉरमेंस': 1, 'भागती': 1, 'बेतरतीब': 1, 'उलझ': 1, 'मिर्जा': 1, 'स्\\u200dपेस': 1, 'चक्\\u200dक्\\u200dर': 1, 'पिछड़': 1, 'उद्दाम': 1, 'दोहराव': 1, 'रिश्\\u200dतेदारी': 1, '‘मशीन’': 1, 'अब्\\u200dबासमस्\\u200dतान': 1, 'जाएगीजिसमें': 1, 'छूटती': 1, 'ईशा': 1, 'गुप्\\u200dता': 1, 'पानेरी': 1, '‘जीना': 1, 'अधूरापन': 1, 'सहकलाकारों': 1, 'बदतरीन': 1, 'हताशाजनक': 1, 'मूकचूक': 1, 'साध': 1, 'रूपातंरण': 1, 'तथ्यों': 1, 'परिष्कार': 1, '‘रईस’': 1, 'परोसने': 1, 'पारूल': 1, 'सुखानी': 1, 'आधेअधूरे': 1, 'घिटे': 1, 'पिटे': 1, 'रजनीश': 1, 'जरीन': 1, 'सांग': 1, 'अटके': 1, 'झंझावात': 1, 'फंसने': 1, 'अशुद्धियां': 1, 'ठूंसा': 1, '‘रॉक': 1, 'संक्षेप': 1, 'सीक्वल': 1, 'आधअधूरा': 1, 'परिप्रेक्ष्य': 1, 'अक्टूबर’': 1, 'सरोकारी': 1, 'छायांकन': 1, 'रॉन': 1, 'होवार्ड': 1, 'अतार्किक': 1, 'सामंजस्य': 1, 'कंटेंट': 1, 'भटकती': 1, 'व्यंग्यात्मक': 1, 'समेटने': 1, 'रस': 1, 'जाा': 1, 'घिसपिट': 1, 'घिसटते': 1, '‘फ्रीकी': 1, 'अली’': 1, 'कॉस्ट्यूम': 1, '‘बार': 1, 'देखो’': 1, 'तौरतरीकों': 1, 'दोती': 1, 'एक्सप्रेशन': 1, 'बिल्कुंल': 1, 'उद्देश्यों': 1, 'पियूष': 1, 'राजेंद्र': 1, 'कदाचित': 1, 'अरूणोदय': 1, 'खंडेलवाल': 1, 'गड़बड़': 1, 'छोटेखोटे': 1, 'फील': 1, 'आंचलिकता': 1, 'बमन': 1, 'ईरानी': 1, 'निशिकांत': 1, 'कामत': 1, 'युक्ति': 1, 'सरत': 1, 'पहुंचती': 1, 'झटके': 1, 'पुलकित': 1, 'फिसले': 1, 'सकीं': 1, '‘दो': 1, 'कहानी’': 1, 'घिसीपिटी': 1, 'पसरी': 1, 'रण्दीप': 1, 'हुडा': 1, 'कोफ्त': 1, 'ऊलजुलूल': 1, 'फूहड़': 1, 'राइटिंग': 1, 'नमूना': 1, 'बेखुदी': 1, 'बकते': 1, 'सौंदर्यदृष्टि': 1, '‘सरबजीत’': 1, 'दलबीर': 1, 'प्राणहीन': 1, 'निष्प्रभावी': 1, 'दानों': 1, 'कुठाराघात': 1, 'नायरा': 1, 'छोड़ने': 1, 'अतिनाटकीयता': 1, 'करीना': 1, 'अंतरों': 1, 'अखरने': 1, 'प्रगाढ़ता': 1, 'सुरूर': 1, 'रघु': 1, 'पड़ता': 1, 'निरंतरता': 1, 'जफर': 1, 'जोड़ती': 1, 'ख्वाहिशमंदों': 1, 'खल': 1, '‘फितूर’': 1, 'बनावट': 1, 'मोड़ा': 1, 'हर्षवद्धन': 1, 'शौकीन': 1, 'मस्तीजादे': 1, 'फूहड़ता': 1, 'चॉक': 1, 'एन': 1, 'वितरकों': 1, 'प्रदर्शकों': 1, 'वैसी': 1, 'सीमाएं': 1, '‘बाजीराव': 1, 'मस्तानी’': 1, 'कथात्मक': 1, 'भावमनोभाव': 1, 'खींचा': 1, 'ईधन': 1, 'मोर्गन': 1, 'हिन्': 1, 'बनाऊंगा': 1, 'दीदार': 1, 'तरसेगी': 1, 'सुभकामनाए': 1, 'सालः': 1, 'गोला': 1, 'मुझको': 1, 'क्युंकीमै': 1, 'जज्बात': 1, 'मुक़द्दर': 1, 'एपीजे': 1, 'कलाम': 1, 'पेकिंग': 1, 'न्यौता': 1, 'नींबूओं': 1, 'गवाही': 1, 'मैसेन्जर': 1, 'ब्रेट': 1, 'वालेमैं': 1, 'थुकुंगा': 1, 'वालेमोदी': 1, 'भक्तगण': 1, 'मैँ': 1, 'हकीम': 1, 'मेने': 1, 'पर्ची': 1, 'पकडा': 1, 'वृक्षों': 1, 'जिनपे': 1, 'रहेशर्मनाक': 1, 'कृत्य': 1, 'रहेमगर': 1, 'बदलें': 1, 'खुद्दारी': 1, 'हैकिसी': 1, 'बाहोमे': 1, 'चलेआ': 1, 'हमसे': 1, 'सनम': 1, 'क्य': 1, 'पर्धा': 1, 'गैलक्सी': 1, 'ओपन्': 1, 'टेनिस्': 1, 'क्रीडायां': 1, 'स्वर्णपदकं': 1, 'प्राप्तवती': 1, 'वयं': 1, 'सर्वेऽपि': 1, 'गर्विताः': 1, 'स्मः': 1, 'सरदारशहर': 1, 'दाबे': 1, 'बुजुर्गो': 1, 'फन': 1, 'लाज़बाब': 1, 'फ़ोटोग्राफ़र': 1, 'आख़री': 1, 'हँसने': 1, 'विश्नोईस्वर्ण': 1, 'आश्रमट्रस्ट': 1, 'सरकड़ा': 1, 'विश्नोई': 1, 'डिलारी': 1, 'ा': 1, 'िष्णुॐ': 1, 'पैसेंजर': 1, 'एयरोप्लेन': 1, 'दोश्तो': 1, 'विशर्जन': 1, 'हुभकामनाये': 1, 'पोस्टो': 1, 'पहुँचती': 1, 'ढालगर': 1, 'गुस्ताखी': 1, 'करियेगा': 1, 'दीहमारी': 1, 'झूमकर': 1, 'मुस्कुरा': 1, 'दीजुबां': 1, 'सकेपर': 1, 'निगाहों': 1, 'वाक़िफ़': 1, 'दहशतगर्दों': 1, 'जौनपुर': 1, 'समाजसेवी': 1, 'जाफर': 1, 'चन्द्रशेखर': 1, 'मेंजम्मू': 1, 'मेंलेकिन': 1, 'मोदीकेदार': 1, 'नेत्रालय': 1, 'मद्रास': 1, 'संबाद': 1, 'अल्प': 1, 'कीकमी': 1, 'ाख': 1, 'ोट': 1, 'ुना': 1, 'जादा': 1, 'बनानी': 1, 'इच्छुक': 1, 'महिलियों': 1, 'नावभी': 1, 'गुज़र': 1, 'रौनके': 1, 'गर': 1, 'कीतो': 1, 'ढून्ड्ती': 1, 'पलकें': 1, 'आत्मनो': 1, 'मोक्षार्धं': 1, 'जगत्': 1, 'हिताय': 1, 'च': 1, 'होगई': 1, 'सेवक': 1, 'सम्रद्धि': 1, 'झांकी': 1, 'प्रारंभ': 1, 'झांकियों': 1, 'प्रार': 1, 'हेँ': 1, 'श्रीराम': 1, 'मक्का': 1, 'मदीना': 1, 'गोविंद': 1, 'ईसाई': 1, 'ईसा': 1, 'मसीह': 1, 'व्यवहारकुशलता': 1, 'दरबाजे': 1, 'खोलने': 1, 'कुन्जी': 1, 'शान्ति': 1, 'बढाने': 1, 'रस्म': 1, 'थेशेर': 1, 'लिफ्ट': 1, 'मांगीएक': 1, 'चूहा': 1, 'घूमता': 1, 'धर्मोँ': 1, 'समृधि': 1, 'मंगलकामनाओ': 1, 'परिजनो': 1, 'हादिँक': 1, 'कहेगे': 1, 'नालायाक': 1, 'बतमीज़': 1, 'क्यो': 1, 'रेहता': 1, 'सैनीको': 1, 'प्रूव': 1, 'दिलों': 1, 'मैलफ़्ज़ों': 1, 'जुबां': 1, 'चरित': 1, 'मानस': 1, 'योग्यधन्यवाद': 1, 'एंव': 1, 'जिंदगीभर': 1, 'मातृभूमि': 1, 'प्रतिमूर्ति': 1, 'माँगकर': 1, 'उसूल': 1, 'हाहाहाहाहाहा': 1, 'पिने': 1, 'पिए': 1, 'नाच': 1, 'टाइटलर': 1, 'साहेब': 1, 'मोनसिंह': 1, 'पालतू': 1, 'जरुर': 1, 'हू': 1, 'कागुलाम': 1, 'हैपर': 1, 'ताश': 1, 'पत्तों': 1, 'बनतानदी': 1, 'समुंदर': 1, 'बनतालड़ते': 1, 'हरपलक्योंकि': 1, 'लफ्ज़': 1, 'कागज़': 1, 'उतारकर': 1, 'देतें': 1, 'फकफकफक': 1, 'शक्तिमान': 1, 'पंक्ति': 1, 'मुंबईमें': 1, 'करनेपहुंची': 1, 'आश्चर्य': 1, 'कारक': 1, 'घटनाएंअद्भुत': 1, 'चमत्कारमंत्रशक्ति': 1, 'इज': 1, 'लेट्स': 1, 'प्लेज': 1, 'टु': 1, 'किप': 1, 'स्पिरिट': 1, 'ऑफ़': 1, 'एलाइव': 1, 'एच': 1, 'दत्तु': 1, 'स्वधर्म': 1, 'पशुत्व': 1, 'सत्यम': 1, 'शिवम्': 1, 'सुंदरम': 1, 'राहतबचाव': 1, 'एसा': 1, 'संस्क्रती': 1, 'उपजी': 1, 'भाषाएँ': 1, 'शाली': 1, 'सहमा': 1, 'हँसता': 1, 'घटा': 1, 'बाप्पा': 1, 'पुढच्या': 1, 'वर्षी': 1, 'लवकर': 1, 'पहुंचाए': 1, 'जताए': 1, 'मिञाे': 1, 'चकव्याची': 1, 'रात्र': 1, 'त्यामुळे': 1, 'भिंतीवरतीच': 1, 'बसून': 1, 'राहू': 1, 'घुबडबत्तीशीचे': 1, 'आख्यानही': 1, 'संपत': 1, 'आले': 1, 'शुभरात्री': 1, 'मैरीकाम': 1, 'प्लेटफार्म': 1, 'बेकाबू': 1, 'काबु': 1, 'ब्वाहाहाहाहाहा': 1, 'सन्मानित': 1, 'सीमावर्ती': 1, 'कहोसमस्या': 1, 'हैसमस्या': 1, 'दोप्रभु': 1, 'दीजियेगा': 1, 'विनती': 1, 'आदरनीय': 1, 'जीसेंटियापे': 1, 'ब्व्हहहाहाहहहहहहाहाहाहा': 1, 'घडी': 1, 'कोष': 1, 'जीयें': 1, 'नमस्ते': 1, 'शुभेच्छाएँ': 1, 'शुभेच्छाए': 1, 'होभोग': 1, 'थैक': 1, 'गोड': 1, 'ओणम': 1, 'समृद्धि': 1, 'रिलीफ': 1, 'विकलांगों': 1, 'आर्थि\\u200dक': 1, 'साफ़सफाई': 1, 'कहसकते': 1, 'मिलाने': 1, 'श्रध्दांजलि': 1, 'भक्तो': 1, 'निष्काम': 1, 'बेटिंग': 1, 'ज़िम्मेवारी': 1, 'कीमती': 1, 'चहुँगा': 1, 'सादर': 1, 'प्रणाम': 1, 'द्रवहु': 1, 'दसरथ': 1, 'अजिर': 1, 'सैनिको': 1, 'सम्\\u200dमान': 1, 'डुबते': 1, 'बचाये': 1, 'दृष्य': 1, 'डुबने': 1, 'दुसराें': 1, 'काे': 1, 'हाेता': 1, 'ताे': 1, 'लाे': 1, 'काेई': 1, 'गुज़रों': 1, 'खिले': 1, 'हरी': 1, 'भाइ': 1, 'एेश्वर्या': 1, 'चूडीयोकी': 1, 'विसर्जन': 1, 'विदाई': 1, 'रम': 1, 'उमेशकुमारपांडे': 1, '\\ue41d\\ue41d': 1, 'हैअच्छा': 1, 'हैफिर': 1, 'मिलोगेपरसों': 1, 'हैशुभरात्री': 1, 'काम्या': 1, 'मिकी': 1, 'वाइरस': 1, 'किरकार': 1, 'पत्\\u200d\\u200cनी': 1, 'अल्हड़': 1, 'मुग्ध': 1, 'गहन': 1, 'चटपटे': 1, 'पीढि़यों': 1, 'तनातनी': 1, 'मजाकिया': 1, 'प्रशंसनीय': 1, 'चुलबुल': 1, 'बुलबुल': 1, 'नीतू': 1, 'जोड़ी': 1, 'ग्रेस': 1, 'मा\\u200cर्क्स': 1, 'सान्याल': 1, 'मूविंग': 1, 'नएपन': 1, 'तैरते': 1, 'बत्रा': 1, 'लंचबॉक्स': 1, 'मर्मस्पर्शी': 1, 'तिलमिलाए': 1, 'तपतपाते': 1, 'बाजारू': 1, 'साजन': 1, 'निम्रत': 1, 'इला': 1, 'भावपूर्ण': 1, 'डायनिंग': 1, 'अपरिचित': 1, 'पढ़ा': 1, 'व्यंजनों': 1, 'सूंघतेछूते': 1, 'संचरित': 1, 'अंतस': 1, 'ढुलमुल': 1, 'अस्पष्ट': 1, 'अनुकूल': 1, 'उद्गार': 1, 'संभाषण': 1, 'कृत्रिमता': 1, 'जंजीर': 1, 'मल्टीप्लेक्स': 1, 'शूजीत': 1, 'रेंज': 1, 'क्षमताओं': 1, 'अपारंपरिक': 1, 'लेखकों': 1, 'दस्तावेजी': 1, 'कपड़ों': 1, 'प्रापर्टी': 1, 'कंटीन्यूटी': 1, 'झकास': 1, 'बिंदास': 1, 'छूती': 1, 'औच्च्च्च्छी': 1, 'ख्वाहिशों': 1, 'किशन': 1, 'सभ्यसुशील': 1, 'शातिरशैतान': 1, 'छटा': 1, 'विशाखा': 1, 'कलात्मक': 1, 'सौगात': 1, 'दृश्यबंध': 1, 'मू\\u200cर्त्तन': 1, 'जुड़ते': 1, 'देखनीदिखानी': 1, 'तकमिल्खा': 1, 'रसून': 1, 'गूंथा': 1, 'प्रसून': 1, 'रुचि': 1, 'चाहेअनचाहे': 1, 'कोमलता': 1, 'भिगो': 1, 'छलता': 1, 'छठे': 1, 'विरेचन': 1, 'उष्मा': 1, 'जगाते': 1, 'सम्मोहक': 1, 'अप्रतिम': 1, 'निर्मल': 1, 'रांझणा': 1, 'हिमांशु': 1, 'तेजाबी': 1, 'प्रवृति': 1, 'तीक्ष्णता': 1, 'ढक': 1, 'पड़ती': 1, 'खन्ना': 1, 'मल्होत्रा': 1, 'फ़िल्में': 1, 'स्टोरीलाइन': 1, 'परफॉमेंस': 1, 'गोलमाल': 1, 'अगेन': 1, 'ज़िंदगी': 1, 'रुलाती': 1, 'हक़ीक़त': 1, 'मंझा': 1, 'फ़िल्ममेकर': 1, 'इंसिया': 1, 'ज़ायरा': 1, 'मांबेटी': 1, 'संबंधों': 1, 'बंधतायह': 1, 'राजपाल': 1, 'बरबस': 1, 'सुनहरा': 1, 'ज़बरदस्त': 1, 'तारीफ़': 1, 'साफ़': 1, 'बॉयज़': 1, 'श्रेयस': 1, 'स्वस्थ्य': 1, 'प्रसन्ना': 1, 'राइटर्स': 1, 'अश्लीलता': 1, 'मेटाफ़र': 1, 'सुर': 1, 'ऊंचाइयां': 1, 'संपूर्णता': 1, 'हंसाएगी': 1, 'थिरका': 1, 'फ़िल्माया': 1, 'रुख़अनुष्का': 1, 'केमिस्ट्री': 1, 'अनीस': 1, 'बज़्मी': 1, 'चीज़ों': 1, 'तार्किक': 1, 'लगवायेगी': 1, 'भावुक': 1, 'इंफोटेनमेंट': 1, 'इन्फॉर्मेशन': 1, 'इंटरटेनमेंट': 1, 'कुल्हरी': 1, 'इंदु': 1, 'सफ़ल': 1, 'तोता': 1, 'ज़िंदा': 1, 'माइकल': 1, 'एेसे': 1, 'छुआ': 1, 'लीड': 1, 'प्रिडिक्टेबल': 1, 'एंगेज': 1, 'सेकंडहाफ': 1, 'सिनेमेटोग्राफर': 1, 'बर्मन': 1, 'प्रीतम': 1, 'बासु': 1, '‘जग्गा': 1, 'जासूस’': 1, 'कायनात': 1, 'होशियारी': 1, 'परिपक्\\u200dव': 1, 'सोचअप्रोच': 1, 'कथाभूमि': 1, 'सधी': 1, 'लगाता': 1, 'भोलेपन': 1, 'गुड्डी': 1, 'पतिव्रता': 1, 'तन्\\u200dवी': 1, 'उदयवार': 1, 'निखारा': 1, 'देवकी': 1, 'अदनान': 1, 'जादुई': 1, 'फिल्माने': 1, 'लकदक': 1, 'कैप्चर': 1, 'कथ्\\u200dय': 1, 'माटिन': 1, 'बंपी': 1, 'बलजीत': 1, 'ओमकार': 1, 'ईशिता': 1, 'खूबियोंखामियों': 1, 'रंगरूप': 1, 'जुगनू': 1, 'मानुष': 1, 'सैनन': 1, 'बेहिचक': 1, 'सायरा': 1, 'केमिस्\\u200dट्री': 1, 'कल्कि': 1, 'कोचलिन': 1, 'उल्\\u200dलेखनीय': 1, 'शुटु': 1, 'चिल्लाने': 1, 'दखल': 1, 'घिसेपिटे': 1, 'स्\\u200dटॉक': 1, 'अर्थपूर्ण': 1, 'हिस्\\u200dसे': 1, 'इम्\\u200dप्रूवाइजेशन': 1, 'सामान्\\u200dय': 1, 'पंक्तियों': 1, 'हास्\\u200dय': 1, 'व्\\u200dयंग्\\u200dय': 1, 'भेदते': 1, 'कांसेप्ट': 1, 'आयुष्मालन': 1, 'मधुरता': 1, '‘बाहुबली': 1, 'भव्\\u200dयता': 1, 'विशालता': 1, 'डायरेक्\\u200dटर': 1, 'विजयेन्\\u200dद्र': 1, 'चाक्षुष': 1, 'दृश्\\u200dयात्\\u200dमक': 1, 'अभिव्\\u200dयंजना': 1, 'श्रेष्\\u200dठ': 1, 'अतुलनीय': 1, 'आनंदित': 1, 'क्\\u200dयोंकि': 1, 'स्\\u200dतर': 1, 'वीएफएक्\\u200dस': 1, '‘नूर’': 1, 'बेगम': 1, 'तनमन': 1, 'रुआब': 1, 'बहल': 1, 'पितापुत्र': 1, 'संवेदनाओं': 1, 'बेबसी': 1, 'लाचारगी': 1, 'विफलता': 1, 'हाजिरजवाब': 1, 'इमेजेज': 1, 'ख़ासकर': 1, 'मैट्रिक्स': 1, 'ताजगी': 1, 'तापसी': 1, 'पन्\\u200dनू': 1, 'निखरती': 1, 'एक्\\u200dसप्रेशन': 1, 'न्\\u200dयाय': 1, 'दिलजीत': 1, 'दोसांझ': 1, 'हट': 1, 'उम्\\u200dदा': 1, 'विक्रमादित्\\u200dय': 1, 'मोटवाणी': 1, 'पंख': 1, 'छोटेबड़े': 1, 'मल्\\u200dटीप्\\u200dलेक्\\u200dससिंगल': 1, 'झांसी': 1, 'जकड़न': 1, 'शशांक': 1, 'अतिरिक्\\u200dत': 1, '‘बद्रीनाथ': 1, 'दुल्\\u200dहनिया’': 1, 'रोचकमनोरंजक': 1, 'बद्री': 1, 'साहिल': 1, 'वैद': 1, 'उल्\\u200dलेख': 1, '‘दोस्\\u200dत’': 1, 'अच्\\u200dछी': 1, 'स्\\u200dफूर्ति': 1, 'एलेक्\\u200dस': 1, 'हिमांश': 1, 'कोहली\\u200d': 1, 'व्\\u200dयक्तित्\\u200dव': 1, 'जूलिया': 1, 'अनोखापन': 1, '‘द': 1, 'गाजी': 1, 'अटैक’': 1, 'माइंड': 1, 'मेननअतुल': 1, 'कुलकर्णीराहुल': 1, 'डग्गुबाती': 1, '‘इरादा’': 1, 'बेसब्री': 1, 'साचे': 1, 'रोशन': 1, '‘काबिल’': 1, 'दायरा': 1, 'बढ़ाएगी': 1, 'रोहन': 1, 'ढंग्र': 1, 'रोनित': 1, 'ग्रे': 1, 'अथक': 1, 'पूर्णत': 1, 'मारक': 1, 'मिश्रण': 1, 'महागाथा': 1, 'बल्लू': 1, 'सलूजा': 1, 'एडीटिंग': 1, 'महावीर': 1, 'फोगाट': 1, 'कायांतरण': 1, 'न्यायोचित': 1, 'चुनने': 1, 'धरम': 1, 'कूपमंडूक': 1, 'नृत्यक्षमता': 1, 'दुर्गा': 1, 'रुइया': 1, 'थ्रिल': 1, 'म्यूज़िक': 1, 'महत्त्व': 1, 'चार्म': 1, 'क्यारा': 1, 'महात्वाकांक्षा': 1, 'ललक': 1, 'पृष्ठाभूमि': 1, 'होल्ड': 1, 'अभिव्यक्ति': 1, 'पिरोए': 1, '‘शिवाय’': 1, 'तल्लीनता': 1, 'मानदंड': 1, 'जलवे': 1, 'गौरा': 1, 'एबिगेल': 1, 'एक्सप्रेसिव': 1, 'स्टेप': 1, 'लिरिकल': 1, '‘मिर्जिया’': 1, 'पार्श्व': 1, '‘बैंजो’': 1, 'आकस्मिक': 1, 'शरारत': 1, 'रिझाती': 1, 'अकीरा': 1, 'भरभार': 1, 'हवाहवाई': 1, 'फाइट': 1, 'बुनी': 1, 'मुदस्सर': 1, 'अजीज': 1, 'सिटकॉम': 1, 'डायना': 1, 'पेंटी': 1, 'एटीट्यूड': 1, '‘हैप्पी': 1, 'जाएगी’': 1, 'गोवारिकर': 1, 'जबरदस्तस': 1, 'विजुअल्स': 1, '‘रुस्तम’': 1, 'रुस्तम’': 1, 'स्टायल': 1, 'जंचते': 1, 'इलियाना': 1, 'डिक्रूज': 1, 'पहनावे': 1, 'छठेसातवें': 1, '‘बुधिया’': 1, 'सोमेंन्द्र': 1, 'पाढ़ी': 1, 'बुधिया': 1, 'रेगिस्तानी': 1, 'नयनाभिराम': 1, 'अयानन्का': 1, 'बोस': 1, 'डोलेशोले': 1, 'दलाल': 1, 'चुटीले': 1, 'धार': 1, 'फबते': 1, 'हंसोड़': 1, 'अदाकरी': 1, 'आरफा': 1, 'इरशाद': 1, 'कामिल': 1, 'विशालशेखर': 1, 'पॉपुलर': 1, 'जरूरतों': 1, 'खेमू': 1, 'जस्टिफाई': 1, 'परिभाषित': 1, 'मुंतजिर': 1, 'बोलों': 1, 'मीत': 1, 'ब्रर्द्स': 1, 'गांगुली': 1, '‘रमन': 1, 'राघव': 1, 'ह्यूमर': 1, 'चौटा': 1, 'एडवेंचर': 1, 'नागेश': 1, 'कुकनूर': 1, 'अच्छेेबुरे': 1, 'धनक’': 1, 'हेतल': 1, 'गड्डा': 1, 'कृष': 1, 'छाबडि़या': 1, 'प्रतिक्रियाएं': 1, 'भावमुद्राओं': 1, 'आकर्षित': 1, '‘तीन’': 1, 'सुजॉय': 1, 'घोष': 1, 'रिभु': 1, 'दासगुप्ता': 1, 'भंगिमाओं': 1, 'चौंकाता': 1, 'भट्टाचार्य': 1, 'संजोया': 1, '‘फोबिया’': 1, 'सोचसमझ': 1, 'डेनियल': 1, 'जार्ज': 1, 'एडिटर': 1, 'लाढा': 1, 'सूरती': 1, 'जयकृष्णन': 1, 'गुम्मडी': 1, 'गुंथा': 1, 'ज\\u200dितनी': 1, 'केसेस': 1, 'सिद्धांत': 1, 'गाड़ने': 1, 'इं': 1, 'रोडरेज': 1, 'सेवादल': 1, 'ह्यूमन': 1, 'राइ': 1, 'तोड़फोड़': 1, 'अगस्ता': 1, 'वेस्टलैंड': 1, 'हेलिकॉप्टर': 1, 'बिचौलिया': 1, 'करवाई': 1, 'लॉकर्स': 1, 'जा': 1, 'एसीपी': 1, 'पेड': 1, 'जानका': 1, 'मु': 1, 'खाकर': 1, 'भजनपुरा': 1, 'वजहों': 1, 'दलाली': 1, 'अड्डा': 1, 'डेंटिस्ट': 1, 'चेन': 1, 'स्नैचर': 1, 'खींचता': 1, 'नेब': 1, 'कपड़ों': 1, 'किन्नर': 1, 'लिखापत्नी': 1, 'अफेयर': 1, 'स्टोरीः': 1, 'मालकिन': 1, 'डिवाइडर': 1, 'टकराई': 1, 'लखानी': 1, 'टायर': 1, 'दमघोंटू': 1, 'व्यू': 1, 'पत्थरों': 1, 'वायू': 1, 'हत्\\u200dया': 1, 'प्\\u200dलान': 1, 'द\\u200dिया': 1, 'बेचे': 1, 'कस': 1, 'तिमारपुर': 1, 'चौका': 1, 'लौटाने': 1, 'एनडीएमसी': 1, 'जमी': 1, 'गोलियों': 1, 'गूंज': 1, 'नंद': 1, 'इलाका': 1, 'गोलियांक्यों': 1, 'गुस्सेवालें': 1, 'कवच': 1, 'अघिकारी': 1, 'नाश': 1, 'मनुज': 1, 'छाता': 1, 'हैपहले': 1, 'वैट': 1, 'कर्फ्यू': 1, 'मंजर': 1, 'काण्ड': 1, 'निर्माणाधीन': 1, 'अपडेट्सएकऔरएकग्यारह': 1, 'आर्म्स': 1, 'गायनोकोलॉजिस्ट': 1, 'सरलानाथ': 1, 'क्लीनिक': 1, 'रु': 1, 'बेख़ौफ़': 1, 'बेदर्द': 1, 'पट': 1, 'इंतज़ाम': 1, 'सोती': 1, 'दहाड़े': 1, 'गुरूघंटाल': 1, 'नर्तक': 1, 'उफान': 1, 'सावन': 1, 'मलबे': 1, 'दब': 1, 'जिनमे': 1, 'ईमारत': 1, 'सेंटीमीटर': 1, 'संवाददाताओं': 1, 'रुकरुक': 1, 'खुशनुमा': 1, 'परेशानियां': 1, 'यमराज': 1, 'कब्रगाहदेखिए': 1, 'चाइना': 1, 'बिजनेसमैन': 1, 'चार्ली': 1, 'पेंग': 1, 'सफाईकर्मी': 1, 'ज़ारी': 1, 'जोकि': 1, 'महर्षि': 1, 'कोरेगांव': 1, 'नज़रबंद': 1, 'नौलखा': 1, 'सबूतों': 1, 'भीमाकोरेगांव': 1, 'सुनवाईदेखिए': 1, 'हाईबोल्टेज': 1, 'गोकुलपुर': 1, 'पड़ोस': 1, 'अधेड़': 1, 'फाड़े': 1, 'अर्धनग्न': 1, 'घुमाया': 1, 'फेस': 1, 'स्मृति': 1, 'आरो': 1, 'गुरुजी': 1, 'कोहाट': 1, 'एंक्लेव': 1, 'आसिफ़': 1, 'गुरूजी': 1, 'पेट्रोलडीजल': 1, 'वाहिद': 1, 'बेग': 1, 'लाउडस्पीकर': 1, 'पेशाब': 1, 'शूटआउटः': 1, 'पीटकर': 1, 'अलीपुर': 1, 'टिल्लु': 1, 'संगम': 1, 'पच्चीस': 1, 'गुरुकुल': 1, 'खलबली': 1, 'मंडावली': 1, 'पतली': 1, 'काम्प्लेक्स': 1, 'लक्ष्मीबाई': 1, 'तोमर': 1, 'वाजपायी': 1, 'कृष्णामेनन': 1, 'व': 1, 'सिक्योरिटी': 1, 'एजेंसीज़': 1, 'अग': 1, '्त': 1, 'केजरीवालसिसोदिया': 1, 'इंतेज़ाम': 1, 'सुरक्': 1, 'सुपरबाइक': 1, 'संचित': 1, 'मानेसर': 1, 'एक्सप्रेसवे': 1, 'इसका': 1, 'रिहर्सल': 1, 'इलेक्ट्रीशियन': 1, 'कांवड़ियों': 1, 'सोनीपत': 1, 'दिल्लीहरियाणा': 1, 'चाइनीज': 1, 'अटका': 1, 'मांझा': 1, 'पकड़कर': 1, 'घसीटा': 1, 'डीसीपी': 1, 'नीता': 1, 'पैरों': 1, 'छुपाया': 1, 'तफ्तीश': 1, 'क्लासमेट': 1, 'गोदा': 1, 'डीपीएस': 1, 'पतिपत्नी': 1, 'किकी': 1, 'जाइये': 1, 'नेपाली': 1, 'जलस्': 1, 'जानवर': 1, 'राजघाट': 1, 'जलस्\\u200dतर': 1, 'बेल्ट': 1, 'अन्': 1, 'रूट': 1, 'ट्रेंस': 1, 'डाइवर्ट': 1, 'स्तरदेखिए': 1, 'दरिंदों': 1, 'नत्थू': 1, 'अंडरपास': 1, 'हैजिस': 1, 'पहेली': 1, 'सीलमपुर': 1, 'दिक्क': 1, 'गायों': 1, 'करीबन': 1, 'वॉशरूम': 1, 'भुखमरी': 1, 'ज़िं': 1, 'हैंवेस्ट': 1, 'एटीएस': 1, 'जमातउलमुजाहि': 1, 'ओमिक्रोन': 1, 'तिहरे': 1, 'डासना': 1, 'ढही': 1, 'दिल्लीवासियों': 1, 'मानसून': 1, 'छिपाकर': 1, 'जाई': 1, 'अध्याय': 1, 'सब्सक्राइबर': 1, 'एनडीआरफ': 1, 'निवासियों': 1, 'इमारतें': 1, 'मटेरियल': 1, 'हाईराइज': 1, 'जिस': 1, 'फोरेंसिक': 1, 'हौज': 1, 'पंचशील': 1, 'अनिशिया': 1, 'एयरलाइंस': 1, 'अनीसिया': 1, 'तंत्रमंत्र': 1, 'कांडः': 1, 'फंदे': 1, 'बजरंगी': 1, 'भाटिया': 1, 'थीवो': 1, 'सुलझेगा': 1, 'टिक': 1, 'मोक्ष': 1, 'उजाड़': 1, 'राज़': 1, 'सीडीआर': 1, 'खंगाली': 1, 'मृतका': 1, 'पोस्टमार्टम': 1, 'गोपीनाथ': 1, 'शनिधाम': 1, 'हल्की': 1, 'पीआरडी': 1, 'सातवीं': 1, 'छलांग': 1, 'गांजा': 1, 'गांजे': 1, 'खेप': 1, 'पुरम': 1, 'जलने': 1, 'डंपिंग': 1, 'जारीदेखिए': 1, 'एग्जाम': 1, 'उत्तम': 1, 'नागरिकों': 1, 'मालविय': 1, 'चॉपर': 1, 'मालवीय': 1, 'तांडव': 1, 'हजारी': 1, 'गिरफ्ता': 1, 'चाकुओं': 1, 'जनकपुरी': 1, 'फार्मेसी': 1, 'हॉक्स': 1, 'सलाखों': 1, 'पहुचा': 1, 'रेजः': 1, 'फ्रैक्चर': 1, 'कुख्यात': 1, 'तौलिया': 1, 'तीनचार': 1, 'तापमान\\xa0': 1, 'जसोला': 1, 'गंभी': 1, 'हैगोल्फ': 1, 'लिंक्स': 1, 'करवट': 1, 'टला': 1, 'कॉपरनिकस': 1, 'बाजू': 1, 'सुरागरिपोर्ट': 1, 'चिनमय': 1, 'बिस्वाल': 1, 'लामा': 1, 'दम्पति': 1, 'भनक': 1, 'उपद्रवियों': 1, 'सर्किल': 1, 'चिपका': 1, 'आग\\xa0जिसकी': 1, 'लड़ाका': 1, 'पब': 1, 'मुबारकपुर': 1, 'मौतअधिक': 1, 'प्रहलादपुर': 1, 'हरेंद्र': 1, 'पैथोलॉजि': 1, 'नूह': 1, 'मेवात': 1, 'फांसीरिपोर्ट': 1, 'डिवीजन': 1, 'गुलमोहर': 1, 'वृद्ध': 1, 'प्लंबर': 1, 'कातिलाना': 1, 'वीक': 1, 'मीडियाकर्मियों': 1, 'कन्हैया': 1, 'टक्कर\\xa0एक': 1, 'जेसिका': 1, 'बर्बर': 1, 'दक्षिणपूर्वी': 1, 'वर्दियां': 1, 'अभद्रता': 1, 'मालीवाल': 1, 'मेडि': 1, 'कोहट': 1, 'एन्कलेव': 1, 'गजेट्स': 1, 'प्रोटेस्ट': 1, 'छोटेछोटे': 1, 'कारों': 1, 'चुरानेवाले': 1, 'गिरोह': 1, 'हेरोइन': 1, 'कटवा': 1, 'उसे': 1, 'सुल्\\u200dतानपुरी': 1, 'फैक्\\u200dट्री': 1, 'दमकल': 1, 'गाडि़': 1, 'इकोनॉमिक्स': 1, 'ज़र्दा': 1, 'हिंदूराव': 1, 'गिरफ्तारमौके': 1, 'कटर': 1, 'कबूला': 1, 'एसएससी': 1, 'ओपी': 1, 'प्रीत': 1, 'स्तिथ': 1, 'नारेबाजी': 1, 'जिस्मफरोशी': 1, 'व्हाट्सऐप': 1, 'बख्तावरपुर': 1, 'मनचलों': 1, 'जानदेखिए': 1, 'छेनू': 1, 'गिरफ्तारइस': 1, 'कुआं': 1, 'एबीवीपी': 1, 'विरोधदेखें': 1, 'अनूठे': 1, 'ठंग': 1, 'मोबाइलें': 1, 'चुराता': 1, 'जेबकतरा': 1, 'कराता': 1, 'जौहरी': 1, 'जैतपुर': 1, 'प्रोफ़ेसर': 1, 'किडनैपर': 1, 'अतापता': 1, 'अनवर': 1, 'हठेला': 1, 'खोड़ा': 1, 'मल्लिकार्जुन': 1, 'खड़गे': 1, 'धमकीपूरी': 1, 'हादसाऔर': 1, 'सियाज': 1, 'सुपरचोर': 1, 'चुराई': 1, 'चोरियां': 1, 'गिरफ्तारखुद': 1, 'थागिरफ्तार': 1, 'साबू': 1, 'घुमन': 1, 'हेडा': 1, 'दीपीड़ित': 1, 'सीमन': 1, 'गुब्बारे': 1, 'प्रदर्शन\\xa0लड़कियों': 1, 'एलएसआर': 1, 'हुड़दं': 1, 'फ़्लैट': 1, 'बालकनी': 1, 'वैशाली': 1, 'भर्': 1, 'झू': 1, 'थप्पड़कांड': 1, 'जालसाज़ी': 1, 'कटोरा': 1, 'अर्नव': 1, 'कैमरों': 1, 'रिकॉर्डिंग': 1, 'हत्यारिन': 1, 'दीइस': 1, 'प्रेमजाल': 1, 'फंसाकर': 1, 'दुखद': 1, 'इनसे': 1, 'खुन्दक': 1, 'कहलाने': 1, 'घरसे': 1, 'दुःखद': 1, 'गुहार': 1, 'किया\\xa0पु': 1, 'फर्श': 1, 'खत्ता': 1, 'महंगे': 1, 'आईएमईआई': 1, 'रॉबरी': 1, 'सवारी': 1, 'थे': 1, 'हवाएं': 1, 'टेंपरेचर': 1, 'डाउन': 1, 'मोस्टवांटेड': 1, 'बटाला': 1, 'शामि': 1, 'बाटला': 1, 'वॉन्टेड': 1, 'डीयू': 1, 'सीपी': 1, 'बीचोबीच': 1, 'खुदे': 1, 'मारवाह': 1, 'सिम': 1, 'मेन': 1, 'दफ़्तर': 1, 'सीरिवर': 1, 'कियाहै': 1, 'आरोपी\\xa0': 1, 'डब्लू': 1, 'महगा\\xa0चांदनी': 1, 'लाम्बा': 1, 'परमिशन': 1, 'हत्याओं': 1, 'हाईअलर्ट': 1, 'ड्रग्स': 1, 'लाते': 1, 'ड्रग्सदेखें': 1, 'लग्जरी': 1, 'एएसआई': 1, 'खुदकुशीदिल्ली': 1, 'सेक्': 1, 'बरोला': 1, 'सगी': 1, 'लटकी': 1, 'करावल': 1, 'करुंगा': 1, 'इंडियाज': 1, 'कड़कड़डूमा': 1, 'ज्वेलरी': 1, 'मुंडका': 1, 'कॉपरेटिव': 1, 'वेलकम': 1, 'नकली': 1, 'गिरफ्तारदेखिये': 1, 'कॉइन': 1, 'गाजीपुर': 1, 'डेरी': 1, 'धर्मपाल': 1, 'सरगम': 1, 'इलेक्ट्रॉनिक्स': 1, 'किडनैपिंग': 1, 'रैनसम': 1, 'अकटुबर': 1, 'शालीमरबाग': 1, 'जुड़वाँ': 1, 'गिरफतार': 1, 'वि\\u200dमेन': 1, 'जीबी': 1, 'रैकेट': 1, 'इंतज़ारभारत': 1, 'शि': 1, 'कोंडागांव': 1, 'बनर्': 1, 'लाइंस': 1, 'सेंट': 1, 'जेवियर्स': 1, 'घन्टे': 1, 'पिकनिक': 1, 'गां': 1, 'वैचारिक': 1, 'हताशा': 1, 'खानदानों': 1, 'चौकीदारों': 1, 'खबरट्विटर': 1, 'भद्दे': 1, 'गढ़चिरौली': 1, 'हेमकुण्ड': 1, 'सुरु': 1, 'लुढका': 1, 'उमड़ी': 1, 'कतारें': 1, 'कोअल्टीमेटम': 1, 'हुईकौन': 1, 'फिरोज़ाबाद': 1, 'फतवों': 1, 'शटर': 1, 'डाउनक्या': 1, 'बुर्के': 1, 'बवालचुना': 1, 'बजरंगबली': 1, 'तबस्सुम': 1, 'मृगांका': 1, 'हैंचुनाव': 1, 'घोषणापत्र': 1, 'फायदाराहुल': 1, 'रहस्यमय': 1, 'किसकी': 1, 'अमरोहा': 1, 'फरीदपुर': 1, 'कैंपेन': 1, 'मुताबिक़': 1, 'कॉरिडोर': 1, 'नागा': 1, 'इंसर्जेन्ट': 1, 'आईपीएस': 1, 'हैंफेसबुक': 1, 'सर्वेक्षण': 1, 'भरोसाभारत': 1, 'वोटकां': 1, 'रहतीकौन': 1, 'चमकाईकिस': 1, 'लस्सीपोरा': 1, 'अखाड़े': 1, 'खबरसब्सक्राइब': 1, 'परस्त': 1, 'सोर्स': 1, 'इंटेलीजेंस': 1, 'फ्लाइंग': 1, 'धुनदेखिये': 1, 'पाले': 1, 'ऐतराजरिपोर्ट': 1, 'दृढ़ता': 1, 'कर्मनिष्ठा': 1, 'हलबी': 1, 'हैंरिपोर्ट': 1, 'ज़ब्तरिपोर्ट': 1, 'श': 1, '्टार': 1, 'बैातएइस्लामी': 1, 'सनसनीखेज': 1, 'डिफेंस': 1, 'आर्टिलरी': 1, 'मोटार्र': 1, 'अशांति': 1, 'कैंपों': 1, 'बकर': 1, 'एफआईआऱ': 1, 'कियासूत्रों': 1, 'किलो': 1, 'किट': 1, 'डब्बे': 1, 'पोर्टल': 1, 'तंजीम': 1, 'वाइज': 1, 'इंटेलिजें': 1, 'बटालियनों': 1, 'मांुणाचल': 1, 'औ': 1, 'खबरअब': 1, 'पूछताछआज': 1, 'एजेंसियां': 1, 'रोबोटिक': 1, 'निर्विवादित': 1, 'अधिग्रहित': 1, 'हेतु': 1, 'गम्भीर': 1, 'स्नो': 1, 'गुप्त': 1, 'फ़ोटो': 1, 'पोलऔर': 1, 'समाम': 1, 'हीयही': 1, 'उल': 1, 'जूलूल': 1, 'इस्टीट्यूट': 1, 'सेमी': 1, 'जगहें': 1, 'ेंगणतंत्रदिवस': 1, 'राजनगर': 1, 'फ्लाईओवर': 1, 'पर्यटकों': 1, 'सबब': 1, 'गरजते': 1, 'हिलते': 1, 'लहराते': 1, 'बर्फ़ीले': 1, 'जांबाज़ों': 1, 'गणतंत्रदिवस': 1, 'प्रदर्शनअन्य': 1, 'वर्फ': 1, 'इन्हीं': 1, 'पहरेदारी': 1, 'जलाकर': 1, 'मनाते': 1, 'ज़मा': 1, 'सैलानियों': 1, 'सैलानीयों': 1, 'पहाड़ों': 1, 'ज़ीरो': 1, 'जानिये': 1, 'न्योता': 1, 'आइटीबीपी': 1, 'प्रचलन': 1, 'लेकि': 1, 'बिछी': 1, 'स्की': 1, 'रिसोर्ट': 1, 'शानिवार': 1, 'बर्फ़बारी': 1, 'सैलानी': 1, 'वैराईटीगजब': 1, 'दिलवा': 1, 'समुद्री': 1, 'सतत': 1, 'संक्षिप्त': 1, 'पड़ाव': 1, 'विश्': 1, 'ईयर': 1, 'सेटेलाइट': 1, 'गाइडेड': 1, 'मोर्टार': 1, 'मृत्यु': 1, 'प्रबल': 1, 'है\\xa0रामबन': 1, 'हनुमा': 1, 'क्विक': 1, 'क्यूएरटी': 1, 'मंत्रााल': 1, 'वा': 1, 'यहां': 1, 'बोस्निया': 1, 'बनिस्पद': 1, 'बढ़ोत्तरी': 1, 'उर्जित': 1, 'बमुश्किल': 1, 'आंसूओं': 1, 'हैंदूसरी': 1, 'खब': 1, 'क्रिश्चयन': 1, 'उन्ही': 1, 'जि': 1, 'फोिछले': 1, 'सीआर': 1, 'बीएसएफ़': 1, 'रीजन': 1, 'वैगन': 1, 'निशानेबाज': 1, 'निपटेंगी': 1, 'कमांडोदेखिए': 1, 'विनाश': 1, 'विध्वंस': 1, 'बचाते': 1, 'गंगोत्री': 1, 'नवंबर': 1, 'कोबरा': 1, 'मांद': 1, 'रू': 1, 'छत्तीसग': 1, 'चुनचुन': 1, 'चेतनचीता': 1, 'वां': 1, 'पुरूषों': 1, 'जाँबाजों': 1, 'स्\\u200dमार्ट': 1, 'पाकिस्\\u200dतान': 1, 'शरीक': 1, 'सिक्युरिटी': 1, 'ज़ाओ': 1, 'किजाई': 1, '्जिद': 1, 'इमाम': 1, 'सोल्जर्स': 1, 'बार्डर': 1, 'दशहरा': 1, 'पिलर्स': 1, 'ब्रह्मोस': 1, 'फांस': 1, 'सेंध': 1, 'सुरक्षितहम': 1, 'एनटीसीडी': 1, 'साक्षात्कार': 1, 'तैयारीूसरे': 1, 'हनीट्रैप': 1, 'गर्लफ्रेंडगांजागुलाब': 1, 'कनेक्': 1, 'स्ट्रैटिजिक': 1, 'एसेट्स': 1, 'सेक्युरिटी': 1, 'उतारने': 1, 'शूरवीरों': 1, 'पराक्रम': 1, 'गौरव': 1, 'बाढ़और': 1, 'एजेंसियांंकियों': 1, 'द्वा': 1, 'बेनक़ाब': 1, 'मोगैंबो': 1, 'जैकेट': 1, '्मीर': 1, 'सुरक्ष': 1, 'बदर': 1, 'असलम': 1, 'लियाकत': 1, 'दक्षिणी': 1, 'खुर्जा': 1, 'होडल': 1, 'पम्प': 1, 'फ्रॉग': 1, 'वॉटर': 1, 'एसएसजी': 1, 'दक्षिणीपश्चिमी': 1, 'नॉएडा': 1, 'फ': 1, 'ऑब्जरवेशन': 1, 'टावर': 1, 'कंडीशंड': 1, 'डल': 1, 'स्\\u200dथ\\u200dित\\u200dि': 1, 'लश्करएतैयबा': 1, 'खजाना': 1, 'जुटाने': 1, 'रोहतांग': 1, 'दर्रा': 1, 'दिगारू': 1, 'योगा': 1, 'कमांडोज': 1, 'प्रैक्टिस': 1, 'मिलिए': 1, 'माउंट': 1, 'एवरेस्ट': 1, 'दंतेवाड़ा': 1, 'बारूदी': 1, 'भटनागर': 1, 'सगंठनों': 1, 'हैरि': 1, 'राजौरी': 1, 'में\\xa0तैनात': 1, 'मुजाहिद': 1, 'बटालियनः': 1, 'रिपोर्टअब': 1, 'मौतराजस्थान': 1, 'हिडमा': 1, 'तै': 1, 'सख्त': 1, 'ख़ुफ़िया': 1, 'घण्टे': 1, 'सीढ़ी': 1, 'चलाकर': 1, 'पदमावत': 1, 'नेम': 1, 'फैजाबाद': 1, 'फैजाबा': 1, 'जाबांजों': 1, 'दांत': 1, 'खट्टे': 1, 'टर्न': 1, 'कमभारत': 1, 'चालबाजियों': 1, 'कईं': 1, 'मुकदमे': 1, 'तादाद\\xa0\\xa0के': 1, 'मुकाबले\\xa0\\xa0में\\xa0\\xa0बढ़ी': 1, 'मं': 1, 'बयानतो': 1, 'जाएगापर': 1, 'असदुद्दीन\\xa0ओवैसी': 1, 'हेल्पलाइन': 1, '\\xa0से\\xa0\\xa0साल': 1, 'में\\xa0\\xa0घुसपैठ': 1, 'मामले\\xa0सीमा': 1, 'हैंपरिवार': 1, 'हैंपर': 1, 'कृत्रिम': 1, 'आकृति': 1, 'उकेरी': 1, 'रखियेनिशाने': 1, 'गुर्जर': 1, 'जातियां': 1, 'पर\\xa0\\xa0की': 1, 'रेंजर्स': 1, 'चौकियां': 1, 'हक़ीक़त': 1, 'सवारीट्रैक्टर': 1, 'साईकल': 1, 'अहीर': 1, 'सहारे': 1, '\\xa0रखेंगे': 1, 'मूवमेंट': 1, 'बर्फिस्तान': 1, 'आतिथ्\\u200dयसत्\\u200dकार': 1, 'इज़रायल': 1, 'रोकेंगे': 1, 'बचेगा': 1, 'लिए\\xa0\\xa0की': 1, 'हेल्पलाइन\\xa0\\xa0गुमराह': 1, 'ट्राई': 1, 'जंक्शन': 1, 'अय्यूब': 1, 'बधाईयां': 1, 'कच्चाचिट्ठा': 1, 'दुब': 1, 'बशीर': 1, 'बद्र': 1, 'बैठता': 1, 'मेंजो': 1, 'ट्विस्टएक': 1, 'इश्क़': 1, 'आबाद': 1, 'घटती': 1, 'हैबस्तर': 1, 'डोकलाम': 1, 'हमे': 1, 'पहुँचा': 1, 'वेंकैया': 1, 'होंगें': 1, 'उमीदवार': 1, 'कोविंद': 1, 'जम्मूकश्मीरः': 1, 'राइफल्स': 1, 'शीर्षशाषन': 1, 'कराएगा': 1, 'नासिक': 1, 'सांभा': 1, 'फैलाएगा': 1, 'टायलेट': 1, 'परसो': 1, 'सत्येंद्र': 1, 'देखाकपिल': 1, 'गुब्बारा': 1, 'फुस्स': 1, 'बढ़चढ़': 1, 'दिल्लीड़ेंगू': 1, 'मिनस्टर': 1, 'हैजिसको': 1, 'अनछुए': 1, 'अफ़जाई': 1, 'ऊंचा': 1, 'मोदीयोगी': 1, 'जलानी': 1, 'पड़ेगीतभी': 1, 'अवनीश': 1, 'हैऐसे': 1, 'मुख्यमंत्रीकाम': 1, 'कोताही': 1, 'ख़ात्मा': 1, 'नाथठाकुरके': 1, 'राजनाथअब': 1, 'ठाकुर': 1, 'कब्ज़ा': 1, 'नेक्या': 1, 'एमएलए': 1, 'बांछे': 1, 'खिली': 1, 'खुरासान': 1, 'भोलेबम': 1, 'जयशंकर': 1, 'बीजिंग': 1, 'पहुंचेंगे': 1, 'रणनीतिक': 1, 'इसरो': 1, 'अभिभाषण': 1, 'शंकराचार्य': 1, 'कोनों': 1, 'उठकर': 1, 'लीन': 1, 'मगन': 1, 'हैबिना': 1, 'शिवपालअमर': 1, 'अम्बिका': 1, 'प्रदा': 1, 'चि': 1, 'कहलवाते': 1, 'प्रोके': 1, 'अखिलेस': 1, 'कौनअजब': 1, 'सीमाउत्तराखंडमें': 1, '\\xa0दिल्ली': 1, 'कस्तूरबा': 1, 'हस्तांतरित': 1, 'द्': 1, 'कट्टरता': 1, 'सभी': 1, 'अर्थशास्त्री': 1, 'जज्बेको': 1, 'मंजिलमौत': 1, 'दौड': 1, 'मो': 1, 'देरहा': 1, 'चलोरास्ता': 1, 'नदियों': 1, 'बहने': 1, 'लिएकिसी': 1, 'किताबे': 1, 'मुझेकरीब': 1, 'दुसरों': 1, 'दोसुप्रभात': 1, 'कालाधन': 1, 'निर्भय': 1, 'स्वछन्द': 1, 'होगामोदी': 1, 'खड़ाभारत': 1, 'होगाजिसने': 1, 'थल': 1, 'नभ': 1, 'लूटाउससे': 1, 'क्यूबा': 1, 'फिदेल': 1, 'कास्त्रो': 1, 'आयु': 1, 'उठताचर्चा': 1, 'दियाप्रधानमंत्री': 1, 'इंदौरपटना': 1, 'दुर्घटनाहेल्पलाइन': 1, 'झाँसी': 1, 'उरई': 1, 'राहतऔर': 1, 'कियाबहुत': 1, 'सराहनीयतुरंत': 1, 'दलजीत': 1, 'मृतकों': 1, 'ीम': 1, 'पुखरायां': 1, 'हैंएक': 1, 'स्टैंडबाई': 1, 'राहुलप्रियंका': 1, 'शिकंजाज़ाकिर': 1, 'ज़ाकिर': 1, 'हरदोई': 1, 'गुल्लक': 1, 'करंसी': 1, 'रहिये': 1, 'बखुद': 1, 'सिमी': 1, 'जज्बे': 1, 'रंगोली': 1, 'चिन्ह': 1, 'क़ानून': 1, 'वंदेमातरम': 1, 'गोपाल': 1, 'लेटर': 1, 'राठौर': 1, 'वर्धन': 1, 'को\\xa0क्या': 1, 'कण्ट्रोल': 1, 'डायनामिक': 1, 'पहुचने': 1, 'बिछाए': 1, 'परहोगी': 1, 'फुलसिक्योरिटी': 1, 'एक्सकलुसिव': 1, 'फेवर्ड': 1, 'नेशन': 1, 'दर्जा': 1, 'उच्चाधिकारियों': 1, 'ख़ूब': 1, 'आज़मा': 1, 'उनकोजान': 1, 'पनितर': 1, 'ढाका': 1, 'होलीआर्टिसन': 1, 'पंहुचाआजतक': 1, 'सभीतश्वीर': 1, 'गयाढाई': 1, 'भीनहीं': 1, 'शु': 1, 'रहेंगेगायत्री': 1, 'प्रजापति': 1, 'केजुनैद': 1, 'गयाजवानोंका': 1, 'कवचजल्द': 1, 'कमांडेंट': 1, 'लगाएं': 1, 'शहाबुद्दीन': 1, 'जुमले': 1, 'देंन': 1, 'पेंशन': 1, 'बैठेगेया': 1, 'बगाबत': 1, 'होत': 1, 'माया': 1, 'चुग': 1, 'चिकुनगुनिया': 1, 'मुबारक़': 1, 'नबील': 1, 'ार्लियामेंट्री': 1, 'पार्लियामेंट्री': 1, 'केबिना': 1, 'रिजीजू': 1, 'बयानइस': 1, 'राष्ट्रहित': 1, 'रोशनदान': 1, 'चुपके': 1, 'लूँ': 1, 'पावा': 1, 'शेल्स': 1, 'तिल': 1, 'चकमक': 1, 'आगतेरा': 1, 'साईं': 1, 'तुझ': 1, 'जागकबीर': 1, 'बोमडिला': 1, 'पासीघाट': 1, 'मारेबरसो': 1, 'बदरा': 1, 'ओलम्पिक': 1, 'गोल्डसिल्वर': 1, 'ऊं': 1, 'नमः': 1, 'स्तरीय': 1, 'अजित': 1, 'डोवाल': 1, 'रॉ': 1, 'भीमौजूद': 1, 'आगरा': 1, 'मॉड्यूल': 1, 'हादी': 1, 'अब्दुलअल': 1, 'ईनीजी': 1, 'टैरर': 1, 'शफी': 1, 'अरमरपर': 1, 'केमाड्यूल': 1, 'संपर्कमें': 1, 'सिंहतो': 1, 'सिं': 1, 'सुे': 1, 'होंगेऔर': 1, 'ुलाई': 1, 'मेघा': 1, 'लवली': 1, 'रेडियो': 1, 'जॉकी': 1, 'बजाकर': 1, 'बारीखियो': 1, 'विस्फोटमानव': 1, 'खोट\\xa0': 1, 'पंपोर': 1, 'हैः': 1, 'मेगा': 1, 'योगाभ्या': 1, 'क्रीक': 1, 'सरक्रीक': 1, 'नौसेना': 1, 'एडमिरल': 1, 'टयूबवेल': 1, 'नहाना': 1, 'खलिहानों': 1, 'मुलाक़ातआज': 1, 'मुलाक़ात': 1, 'गायिका': 1, 'सिराजुद्दीन': 1, 'थाऔर': 1, 'छोडकर': 1, 'रऊफ': 1, 'अंडरग्राउं': 1, 'अधिकारीइस': 1, 'जुडी': 1, 'किताबेंअलर्ट': 1, 'नक्शे': 1, 'बौखलाया': 1, 'कुलियों': 1, 'संगठनों': 1, 'मीटिं': 1, 'इंटरपोल': 1, 'नोटि': 1, 'पीएमओ': 1, 'तोड़फोड़आगजनी': 1, 'साजि': 1, 'हुस्न': 1, 'चंदा': 1, 'जुटाता': 1, 'भेजकर': 1, 'ऑस्ट्रेलिया': 1, 'सायप्रस': 1, 'तुर्की': 1, 'मोरक्को': 1, 'दावूद': 1, 'कोल्लम': 1, 'गृहमंत्रालय': 1, 'लेंगेऔर': 1, 'हैिंनट': 1, 'ब्रीफिंगमेंआतंकियों': 1, 'जाएँगे': 1, 'इनसबूतों': 1, 'फिैसाहोगा': 1, 'सूत्रधार': 1, 'ज्योतिषाचार्य': 1, 'भाम्बी': 1, 'मणिकांग्रेस': 1, 'उठायेमै': 1, 'कहूँगा': 1, 'लेतेसतीश': 1, 'रिजिजु': 1, 'वीरेंदर': 1, 'पर्रिकरअरुण': 1, 'सपूतो': 1, 'फ़ाइल': 1, 'डिफेन्स': 1, 'एयरबेस': 1, 'अमरता': 1, 'खाद': 1, 'तुर्कमान': 1, 'बाइकसवार': 1, 'आरपीएन': 1, 'नवमी': 1, 'पावन': 1, 'कॉन्वेंट': 1, 'नन': 1, 'रत्न': 1, 'खामखां': 1, 'पूर्वमंत्री': 1, 'मटर': 1, 'प्रदेशः': 1, 'सोनभद्र': 1, 'नाइंसाफ़ी': 1, 'हैमाफी': 1, 'माँगे': 1, 'बग़ैर': 1, 'ग़लत': 1, 'विरोधः': 1, 'दीर्घायु': 1, 'जाइए': 1, 'रुदाली': 1, 'गैंगसाज़िश': 1, 'एक़': 1, 'तकप्यार': 1, 'खीज': 1, 'उतारें': 1, 'सुनियोजित': 1, 'हैशर्म': 1, 'प्रायश्चित': 1, 'सीटक्या': 1, 'खि': 1, 'ग़रीबों': 1, 'लुभाने': 1, 'उच्चस्थ': 1, 'हैआंकड़ा': 1, 'निबटते': 1, 'निबटायाअगर': 1, 'आईं': 1, 'हुआआखिरकार': 1, 'गएअब': 1, 'निषाद': 1, 'आएंगेलेकिन': 1, 'चंद्रबाबू': 1, 'हरकिशन': 1, 'सुरजीत': 1, 'पोस्टपोल': 1, 'विजयी': 1, 'पार्टीगठबधन': 1, 'आज़मगढ़': 1, 'दुर्भाग्य': 1, 'रुपयो': 1, 'बसते': 1, 'त्योहारों': 1, 'दुखा': 1, 'जोगी': 1, 'खडे': 1, 'बाढबारिश': 1, 'फौजकी': 1, 'यासिनमलिक': 1, 'मिलो': 1, 'मजबूरियां': 1, 'अमेरिकायूरोपइजरायल': 1, 'महापापों': 1, 'भोगना': 1, 'कुचलकर': 1, 'राजकोटमें': 1, 'इन्टर': 1, 'कोर्पोरेशन': 1, 'क्रिकेटके': 1, 'पानीकि': 1, 'कॉंग्रेसीओने': 1, 'पीच': 1, 'खोद': 1, 'अजीत': 1, 'पवारसे': 1, 'भईया': 1, 'नेटस्पिड': 1, 'ट्विटींग': 1, 'लोचे': 1, 'इजहार': 1, 'शहजाद': 1, 'सुवर': 1, 'जाओये': 1, 'जायेग': 1, 'स्त्रीविरोधी': 1, 'संपादकीय': 1, 'स्त्रियां': 1, 'बिभा': 1, 'जिद्दी': 1, 'जज्बा': 1, 'दिव्यचक्षु': 1, 'हैचलायमान': 1, 'तैरकर': 1, 'परबना': 1, 'सेक्यूलर': 1, 'मीड़िया': 1, 'अल्पसंख्यक': 1, 'तुष्टकरनें': 1, 'लियें': 1, 'पलों': 1, 'निरोग': 1, 'दीर्घजीवी': 1, 'सुसंस्कृत': 1, 'बढोत्तरी': 1, 'दु': 1, 'खी': 1, 'चिन्तित': 1, 'महाकवि': 1, 'कालिदास': 1, 'खतरनाकखबर': 1, 'परोस': 1, 'प्रजेंटेशन': 1, 'राजौरा': 1, 'चटोरा': 1, 'ख़ुर्शीद': 1, 'बैसाखी': 1, 'জাপানী': 1, 'তেল': 1, 'जापानी': 1, 'ट': 1, 'खेलेंगे': 1, 'चिरकुट': 1, 'थेंक्यू': 1, 'धिस': 1, 'सुपरस्पिड': 1, 'मँडे': 1, 'एैसे': 1, 'रोते': 1, 'पहुँचते': 1, 'जलते': 1, 'जिम्मेदारमीडिया': 1, 'घास': 1, 'छीलने': 1, 'लि': 1, 'नौजवान': 1, 'हिजड़े': 1, 'रस्ता': 1, 'सौदाईमीलों': 1, 'तनहाई': 1, 'चढ़ाकर': 1, 'चाह\\u200cिए': 1, 'रूल्स': 1, 'गडबड': 1, 'नीतिश': 1, 'अमरिका': 1, 'विधायकराजेश': 1, 'गर्ग': 1, 'मेंएक': 1, 'संत्रास': 1, 'कुन्ठा': 1, 'असंतोष': 1, 'प्रतिदिन': 1, 'उत्तरोत्तर': 1, 'अभिवृद्धि': 1, 'भोतिक': 1, 'वाद': 1, 'लिप्तता': 1, 'तारानगर': 1, 'बांय': 1, 'चुर': 1, 'शेखावाटी': 1, 'चलाए': 1, 'बिंदी': 1, 'अफ़सोस': 1, 'फ़िर': 1, 'मिशनरीज़': 1, 'छलकपट': 1, 'धरमपरिवर्तन': 1, 'एकसाज़िश': 1, 'हाफेज': 1, 'इस्रायली': 1, 'ड्रूज': 1, 'भड़काते': 1, 'वफादारी': 1, 'होतीवरना': 1, 'चूतिये': 1, 'फेविरट': 1, 'पुने': 1, 'हारेगा': 1, 'रुलाएगा': 1, 'सताऐ': 1, 'उठाऐहुऐ': 1, 'खिलौना': 1, 'खेलो': 1, 'बनाऐ': 1, 'लाग': 1, 'सद्दाम': 1, 'गुंडा': 1, 'भुवन': 1, 'थूकने': 1, 'कीडे': 1, 'देशाने': 1, 'भ्रष्टाचाराची': 1, 'कात': 1, 'टाकायला': 1, 'हवी': 1, 'कलंकिनी': 1, 'चचा': 1, 'कराये': 1, 'कार्यकर्त्ता': 1, 'खफा': 1, 'शाबाशी': 1, 'सहन': 1, 'फोर्सेज': 1, 'ट्राइब्यूनल': 1, 'हँसते': 1, 'रुलाने': 1, 'मरो': 1, 'शालो': 1, 'बैरीकेडिंग': 1, 'करवाना': 1, 'शुकर': 1, 'मोदिजी': 1, 'हेल्प': 1, 'बाड': 1, 'कडे': 1, 'पितर': 1, 'उत्सव': 1, 'मनाये': 1, 'लायकनहीं': 1, 'विदेशो': 1, 'वेबसाइट': 1, 'आजभी': 1, 'जिस्से': 1, 'करतेथे': 1, 'सुखदेव': 1, 'राजगुरु': 1, 'हसते': 1, 'हुएझूले': 1, 'हिचकिचाती': 1, 'लोटना': 1, 'भक्तजन': 1, 'निम्नलिखित': 1, 'पढ़ना': 1, 'लौड़े': 1, 'वायग्रा': 1, 'धडकनो': 1, 'ऐतराज': 1, 'पागलों': 1, 'निपटना': 1, 'गद्दाफी': 1, 'क्रूर': 1, 'सनकी': 1, 'फरिदाबाद': 1, 'मसाज': 1, 'पार्लर': 1, '़के': 1, 'झेलम': 1, 'बहता': 1, 'सूअर': 1, 'क़ुबूल': 1, 'होसीधे': 1, 'जन्नतमिलेगी': 1, 'दुंगा': 1, 'गालियों': 1, 'मुल्ले': 1, 'कररहे': 1, 'वोभी': 1, 'आरही': 1, 'पचास': 1, 'बाडी': 1, 'लौडे': 1, 'गभॆवती': 1, 'घुम': 1, 'दूसरो': 1, 'बराबर': 1, 'अवकात': 1, 'कमजोरियोँ': 1, 'जिक्र': 1, 'नकरना': 1, 'पतंगको': 1, 'लुटा': 1, 'दोगले': 1, 'कांग्रेसियो': 1, 'निकालनी': 1, 'बेहया': 1, 'भ्रस्ताचार': 1, 'डूबी': 1, 'चढ': 1, 'घाव': 1, 'थैली': 1, 'पीछेपीछे': 1, 'अलकायदा': 1, 'बनायेंगे': 1, 'जोबलेस': 1, 'जर्क': 1, 'लाऊंगा': 1, 'जोधा': 1, 'हाठंकू': 1, 'ठंकू': 1, 'बे': 1, 'ज़बर': 1, 'उपभात': 1, 'खाबे': 1, 'लुंगी': 1, 'उठाकर': 1, 'कौम': 1, 'चारा': 1, 'बगावत': 1, 'होशोहवास': 1, 'जीभ': 1, 'कहूँ': 1, 'कहूँख़ुद': 1, 'पाकिस्तानियो': 1, 'सहृदयता': 1, 'फरमाएंगे': 1, 'अमीरों': 1, 'गंध': 1, 'फैलनी': 1, 'लेकिनजिंदा': 1, 'वासुदेव': 1, 'नांबियार': 1, 'सुननेमें': 1, 'शेखूलरो': 1, 'आइकॉन': 1, 'सूअरकी': 1, 'कहिका': 1, 'अंधभक्तों': 1, 'मेाशि': 1, 'जुलकर': 1, 'भ्रष्टाचारियो': 1, 'शुन्य': 1, 'अथवाोड़': 1, 'उततरपरदश': 1, 'द्वारकाधीश': 1, 'लाईट': 1, 'जबसे': 1, 'पडोसी': 1, 'इन्वर्टर': 1, 'क्रोधित': 1, 'कहीँ': 1, 'नक्सलियोँ': 1, 'सफाये': 1, 'पड़ेँ': 1, 'हैजीना': 1, 'नाविक': 1, 'जमुरियत': 1, 'मारते': 1, 'हरकते': 1, 'गांधीजीं': 1, 'चे': 1, 'कलयुगातील': 1, 'माकड': 1, 'करुणानिधि': 1, 'पाहू': 1, 'शकत': 1, 'कोणाचं': 1, 'ऐकत': 1, 'कधी': 1, 'काही': 1, 'बोलत': 1, 'नाहीत': 1, 'दोजानता': 1, '\\ue329': 1, 'खोदेंगे': 1, 'मोरना': 1, 'गत': 1, 'दंगें': 1, 'वेबफाई': 1, 'हंसती': 1, 'बेजार': 1, 'गयाअमरीकी': 1, 'उमर': 1, 'हैयही': 1, 'सीविल': 1, 'सर्वीस': 1, 'राजनीती': 1, 'क्यु': 1, 'झुठि': 1, 'घुटघुट': 1, 'महामानव': 1, 'राष्ट्रनीति': 1, 'बायकाट': 1, 'लोल': 1, 'कुरेदा': 1, 'ठरक': 1, 'हरसंभव': 1, 'शिया': 1, 'अहमदिया': 1, 'देवबंदी': 1, 'कदायिनी': 1, 'कुर्द': 1, 'वाह्बी': 1, 'कु': 1, 'फिरके': 1, 'लडमर': 1, 'हीहै': 1, 'तुले': 1, 'कठमुल्ले': 1, 'अमरत्व': 1, 'जेहादीयो': 1, 'जगाओ': 1, 'सम्पूर्ण': 1, 'चबूतरा': 1, 'सोचोतुम': 1, 'हैसाले': 1, 'तूफां': 1, 'मित्रोगो': 1, 'ठहरता': 1, 'कोलकता': 1, 'टीपू': 1, 'मोलाना': 1, 'रहमानी': 1, 'अयीसन': 1, 'जवन': 1, '‘’देह': 1, 'व्यापार’’': 1, 'करत': 1, 'धरईली': 1, 'संगे': 1, 'सभके': 1, 'मनहूस': 1, 'ऊठाये': 1, 'ज\\u200cिंदगी': 1, 'अनिवार्यता': 1, 'मुसाफिरों': 1, 'कुचले': 1, 'इंडियाटीम': 1, 'वर': 1, 'सर्वात': 1, 'कोण': 1, 'माणूस': 1, 'आपली': 1, 'माणुसकी': 1, 'विसरत': 1, 'तार': 1, 'गरिब': 1, 'लौंडे': 1, 'खायापीता': 1, 'कूछ': 1, 'नहीपर': 1, 'सोमालिया': 1, 'लीबिया': 1, 'लड': 1, 'बरपाएंगे': 1, 'कईकई': 1, 'ट्विन': 1, 'टॉवर': 1, 'सत्ताधारी': 1, 'कीमा': 1, 'बखिया': 1, 'उधेड़ने': 1, 'बयानों': 1, 'यज़ीदी': 1, 'यहूदियोंके': 1, 'इतिहाससे': 1, 'आर्मीवाले': 1, 'यहूदी': 1, 'त्यौहारों': 1, 'जम्मू−कश्मीर': 1, 'इनदिनों': 1, 'पैसो': 1, 'बरसाने': 1, 'कंधो': 1, 'वन्देमातरम्': 1, 'प्रलय': 1, 'दुबके': 1, 'शर्मिंदा': 1, 'फ़राज़दोस्त': 1, 'चौपाल': 1, 'फेंसिंग': 1, 'घुसपै': 1, 'सूरमाओं': 1, 'कोल्ड': 1, 'डेजर्ट': 1, 'नेलांग': 1, 'वैली': 1, 'रेकी': 1, 'सेजहां': 1, 'भैंसों': 1, 'एनडीतिवारी': 1, 'उरी': 1, 'हैमच्छरचिकनगुनिया': 1, 'बाजों': 1, 'पैरामिलिट्री': 1, 'सारथी': 1, 'निपटेंगे': 1, 'गाढ़ी': 1, 'आर्मर्ड': 1, 'कैरियर': 1, 'उगाही': 1, 'गुजरातः': 1, 'कसेगा': 1, 'लौटकेराहुलघरकोआएये': 1, 'छप्पनछप्पन': 1, 'तपस्यापूरा': 1, 'हैसवाल': 1, 'जज़्बा': 1, 'हैसिर्फ': 1, 'आपअपनी': 1, 'राहें': 1, 'उमनगोत': 1, 'शीशे': 1, 'तैरती': 1, 'होमगार्ड': 1, 'वीरान': 1, 'अविश्वसनीय': 1, 'फ़ासले': 1, 'हदें': 1, 'तनती': 1, 'उंगिलयों': 1, 'अभिनंदन': 1, 'हवाएँ': 1, 'छीन': 1, 'अतिदेय': 1, 'वजूद': 1, 'माफीनामे': 1, 'विक्रन': 1, 'मजीठिया': 1, 'फराह': 1, 'किस': 1, 'आश्चर्यजनक': 1, 'रॉबर्ट': 1, 'बिफरे': 1, 'उलटेसीधे': 1, 'धमदार': 1, 'जबाब': 1, 'आइना': 1, 'मुहशर्म': 1, 'गोमती': 1, 'फ्रंट': 1, 'इतराइए': 1, 'बस्तीसिद्धार्थनगर': 1, 'ज़िलों': 1, 'मेनिफेस्टो': 1, 'रिशु': 1, 'हैबहुत': 1, 'रामकिशन': 1, 'खोखली': 1, 'केंद्रकेजरीवाल': 1, 'एलजी': 1, 'माजिद': 1, 'गिरफ्तारमाजिद': 1, 'ईनाम': 1, 'हैंठीक': 1, 'रूझान': 1, 'लीस्ट': 1, 'काल्स': 1, 'कमिशन': 1, 'गैंगरीन': 1, 'शीर्षक': 1, 'आओगे': 1, 'तश्वीर': 1, 'अपनों': 1, 'टेररिस्ट': 1, 'झटकासोहेल': 1, 'डिपोर्ट': 1, 'प्रायोजित': 1, 'दिखाएंगे': 1, 'जीवा': 1, 'सिखाते': 1, 'काहो': 1, 'कइसन': 1, 'माम': 1, 'दहलाने': 1, 'तैमूर': 1, 'रूपेश': 1, 'कबूलनामा': 1, 'मुंगेर': 1, 'बरामदगी': 1, 'एनआईए': 1, 'लोगोके': 1, 'जागरुक': 1, 'सहीख्वाहिश': 1, 'बैंकाक': 1, 'भारतपाकि': 1, 'डॉयल': 1, 'डॉन\\xa0\\xa0\\xa0टेप': 1, 'काली': 1, 'बाबुबुआ': 1, 'देन': 1, 'मांबहन': 1, 'माड्यूल': 1, 'नार्थईस्ट': 1, 'भारतियों': 1, 'भैंस': 1, 'अधमरा': 1, 'हजरात़हज़रातहजरात़': 1, 'सीरिंज': 1, 'लाहौर': 1, 'जमातउतदावा': 1, 'हेडक्वाटर': 1, 'विडियोआतंकियों': 1, 'हुर्यित': 1, 'पाककनेक्शन': 1, 'खुलासाआतंकियों': 1, 'रहुमाओं': 1, 'इंटरसेप्ट': 1, 'इनपुट': 1, 'केरला': 1, 'फाउंडर': 1, 'सहारनपुर': 1, 'पंगा': 1, 'नज़रें': 1, 'उतारती': 1, 'हैमाँ': 1, 'ज़नाब': 1, 'इस्टिट्यूट': 1, 'जोईमानदार': 1, 'रैलियों': 1, 'गधा': 1, 'मुजफ्फरपुर': 1, 'दौड़ाई': 1, 'कुचलागुस्साये': 1, 'मास्टरमाइंड': 1, 'बजटराजनीतिक': 1, 'बनियें': 1, 'सकतासबुत': 1, 'लाइएलेजाइए': 1, 'मसूरी': 1, 'गिरफ्तारफर्जी': 1, 'थापूछताछ': 1, 'चाकलेट': 1, 'खाओ': 1, 'खिलाओ': 1, 'मनाओ': 1, 'शहरी': 1, 'इक': 1, 'नहींये': 1, 'आपकोफिर': 1, 'बेकरारी': 1, 'हैसंभाले': 1, 'संभलता': 1, 'दिलकुछ': 1, 'शमा': 1, 'परवाने': 1, 'जनों': 1, 'क्षण': 1, 'मुबारक': 1, 'कहासुनी': 1, 'गुस्साए': 1, 'इंद्रपुरी': 1, 'बद': 1, 'झमाझम': 1, 'छेड़ने': 1, 'चश्': 1, 'किश्तों': 1, 'पुलीस': 1, 'सुरक्षाकर्मियों': 1, 'पेशे': 1, 'मांडी': 1, 'नारायणा': 1, 'केमिकल': 1, 'खंड': 1, 'ॐ': 1, 'डीआईजी': 1, 'डिप्रेशन': 1, 'नशेड़ी': 1, 'हेमेद्र': 1, 'जुटीइस': 1, 'बॉयफ्रेंड': 1, 'दिलदहला': 1, 'अपने': 1, 'सीआईएसएफ': 1, 'अंत्योदय': 1, 'करोल': 1, 'वायुसेना': 1, 'डेटिंग': 1, 'न्यूक्लियर': 1, 'धमाका': 1, 'उड़ेगा': 1, 'डम्फर': 1, 'फेक्टरी': 1, 'अग्निकांडः': 1, 'शूटआउट': 1, 'गुर्गे': 1, 'जयंती': 1, 'मनी': 1, 'लॉन्ड्रिंग': 1, 'बारिशये': 1, 'पानीये': 1, 'बूँदेंतुझे': 1, 'ढूँढेंये': 1, 'ख्वाहिशये': 1, 'पुरानीहो': 1, 'तुझी': 1, 'क्लोन': 1, 'रोमानिया': 1, 'युवतियों': 1, 'गिरफ़्तारदेखिए': 1, 'पर्दानशीं': 1, 'रोमानियाई': 1, 'स्किमिंग': 1, 'एसएचओ': 1, 'रं': 1, 'सर्दियों': 1, 'छावनी': 1, 'लाजपत': 1, 'मंज़िला': 1, 'ढह': 1, 'दबे': 1, 'फ़्लाइओवर': 1, 'होंडा': 1, 'रिपोर्': 1, 'ख्याला': 1, 'मारादेखिए': 1, 'खजूरी': 1, 'नहर': 1, 'पटकपटक': 1, 'दिल्लीएसनीआर': 1, 'धसान': 1, 'ब्लॉकेज': 1, 'रिमूव': 1, 'पत्ता': 1, 'पेजों': 1, 'डाइरेक्टर': 1, 'एफआ': 1, 'हब': 1, 'असलाह': 1, 'एक्सिडेंट': 1, 'सर्दी': 1, 'इलाक़े': 1, 'गैंगवारअनिल': 1, 'आर्डर': 1, 'पंखा': 1, 'कम्प्रेसर': 1, 'राजू': 1, 'कड़ाके': 1, 'ह\\u200dिंसा': 1, 'योगेश': 1, 'गोरखनाथ': 1, 'मंदिरों': 1, 'मनाही': 1, 'बीबीए': 1, 'जाफराबाद': 1, 'यामीन': 1, 'यूनुस': 1, 'नसीरुद्दीन': 1, 'बचने': 1, 'अंगीठी': 1, 'सेल्सियस': 1, 'जेनपैक्ट': 1, 'रोरो': 1, 'पड़ना': 1, 'गुजरे': 1, 'तीव्र': 1, 'हालातों': 1, 'उत्खनन': 1, 'खनिज': 1, 'तन': 1, 'शरीफुद्दीन': 1, 'शारिक': 1, 'पीडीपी': 1, 'दिलावर': 1, 'जुटाए': 1, 'फॉकनर': 1, 'राजस्\\u200dथान': 1, 'रॉयल्\\u200dस': 1, 'बीएसई': 1, 'हफ्तों': 1, 'मंगवाने': 1, 'आईफा': 1, 'नज़दीक': 1, 'सितारों': 1, 'श्रद्धालु': 1, 'हाजिरी': 1, 'डाइव': 1, 'स्टेट्स': 1, 'कृतित्व': 1, 'उपराज्यपाल': 1, 'स्वत': 1, 'दाइची': 1, 'रैनबैक्सी': 1, 'पिंड': 1, 'छुड़ाना': 1, 'चुनी': 1, 'जिनेरियो': 1, 'पुनर्भुगतान': 1, 'दार्जिलिंग': 1, 'तहेदिल': 1, 'हैल्मेट': 1, 'उन्हेंने': 1, 'आभूषण': 1, 'कारीगरी': 1, 'मेहनती': 1, 'बीजों': 1, 'सुसुप्त': 1, 'दूरवर्ती': 1, 'टर्मिनल': 1, 'कमिशनिंग': 1, 'सकूं': 1, 'यकीनन': 1, 'ढूंढ': 1, 'एसेट': 1, 'एलोकेशन': 1, 'मेंटेन': 1, 'ट्रेडिंग': 1, 'आत्ममुग्धता': 1, 'पाठ्यक्रम': 1, 'विधाएं': 1, 'सन्नी': 1, 'कंडोम': 1, 'सेफ': 1, 'केली': 1, 'क्लार्कसन': 1, 'जेएसपीएल': 1, 'रायगढ़': 1, 'साज': 1, 'सज्जा': 1, 'अमेजन': 1, 'रौशन': 1, 'डांसिग': 1, 'हालांक\\u200dि': 1, 'रैंक\\u200dिंग': 1, 'ऐंड': 1, 'कन्या': 1, 'इंटर': 1, 'कालेज': 1, 'नियमरहित': 1, 'भारवत': 1, 'रूमी': 1, 'कुंद्रा': 1, 'कामों': 1, 'ऑपोजिट': 1, 'एसपीए': 1, 'सिक्योरिटीज': 1, 'पीएसयू': 1, 'रनौत': 1, 'सुधारने': 1, 'अजन्मा': 1, 'हंसमुख': 1, 'सोए': 1, 'कमनीय': 1, 'शहरवासियों': 1, 'निर्वाध': 1, 'चार्ट्स': 1, 'कृतियां': 1, 'चहती': 1, 'होंठ': 1, 'नवरसों': 1, 'प्रयुक्त': 1, 'हस्त': 1, 'प्राचीन': 1, 'संप्रेषण': 1, 'साइटों': 1, 'हारने': 1, 'टाम्बे': 1, 'यॉर्कर': 1, 'कैपिटल': 1, 'छूएं': 1, 'मंचों': 1, 'उपहास': 1, 'असम्भव': 1, 'सकेंगे': 1, 'कैमेस्ट्री': 1, 'रिसर्च': 1, 'वॉर्नर': 1, 'दस्तखत': 1, 'चश्मा': 1, 'प्रयोगात्मक': 1, 'फिक्शन': 1, 'रैन': 1, 'बसेरे': 1, 'अबूझ': 1, 'मुहूर्त': 1, 'अधिकाधिक': 1, 'जोड़ों': 1, 'सम्मेलनों': 1, 'महारत्नों': 1, 'टीचर्स': 1, 'डीपीआई': 1, 'मुलताई': 1, 'पैनी': 1, 'पासवर्ड': 1, 'नियंत्रित': 1, 'फेफड़ों': 1, 'कार्टून': 1, 'अधिकारों': 1, 'रुक': 1, 'निरादर': 1, 'सहकर्मी': 1, 'सम्माननीय': 1, 'नमस्कार': 1, 'फ़ौरन': 1, 'चलिए': 1, 'समृद्धिसंपदा': 1, 'एडिना': 1, 'लौटता': 1, 'फिल्मोद्योग': 1, 'प्रतियोगिताओं': 1, 'ताल्लुक': 1, 'मिड': 1, 'बर्दाश्त': 1, 'लकी': 1, 'अदरक': 1, 'इलायची': 1, 'पोलर्ड': 1, 'एड़ी': 1, 'चोटी': 1, 'आन': 1, 'कार्य्रकम': 1, 'स्पष्टï': 1, 'सदस्यीय': 1, 'निदेशालय': 1, 'प्रमुखों': 1, 'बस्तों': 1, 'चेतावनियों': 1, 'एरोन': 1, 'चलित': 1, 'प्रदर्शनी': 1, 'चादरें': 1, 'पैलेस': 1, 'साइंस': 1, 'डिजाइनें': 1, 'ब्रांडिंग': 1, 'पिरोया': 1, 'त्रिवेदी': 1, 'रखेगा': 1, 'सेनानियों': 1, 'फिरोज': 1, 'अब्बास': 1, 'मखमली': 1, 'पर्सनैलिटी': 1, 'गुमशुदगी': 1, 'प्रारूपों': 1, 'विनिमय': 1, 'मुद्रा': 1, 'गॉसिप': 1, 'गड़बड़ी': 1, 'डिक्की': 1, 'चुराए': 1, 'कुरियर': 1, 'हॉट': 1, 'कठघरे': 1, 'उलटा': 1, 'प्राथमिकी': 1, 'मलकपुर': 1, 'लूला': 1, 'संगीतकारों': 1, 'गीतकारों': 1, 'पिक्सल': 1, 'रिजॉल्यूशन': 1, 'मेगापिक्सल': 1, 'क्वर्टी': 1, 'साउंड': 1, 'आउटपुट': 1, 'भद्दा': 1, 'आशाओं': 1, 'महानतम': 1, 'एफडीआई': 1, 'बदलावविदेशी': 1, 'गुनी': 1, 'मलेशियाई': 1, 'सभरवाल': 1, 'उम्\\u200dमीदें': 1, 'इण्डिया': 1, 'संचालकशुक्रवार': 1, 'निर्वहन': 1, 'कुशलता': 1, 'बोरवेल': 1, 'पीडीएफ': 1, 'फाइलों': 1, 'भरना': 1, 'मिना': 1, 'चालाकी': 1, 'खुशीखुशी': 1, 'तान': 1, 'तरकीब': 1, 'उत्साहित': 1, 'दादी': 1, 'दृढ़': 1, 'नर्म': 1, 'क्रोध': 1, 'उदासी': 1, 'छाई': 1, 'लपकने': 1, 'खोई': 1, 'रूपयों': 1, 'बंता': 1, 'तक़दीर': 1, 'रहोगे': 1, 'टाला': 1, 'दुर्भाग्यशाली': 1, 'सुगन्धित': 1, 'झाडी': 1, 'ख़ुशबूदार': 1, 'आमलकी': 1, 'चूर्ण': 1, 'सुंदरता': 1, 'पौधे': 1, 'पुष्\\u200dप': 1, 'पत्तियाँ': 1, 'पथरीला': 1, 'सुरभित': 1, 'अधिवासित': 1, 'दक्षिणतम': 1, 'हमशकल्स': 1, 'सैफ': 1, 'तड़का': 1, 'शत्रुता': 1, 'बुलंदिया': 1, 'पांडित्य': 1, 'बेलौस': 1, 'साझेदारी': 1, 'रेडक्रॉस': 1, 'हितों': 1, 'धीमे': 1, 'बनाएं': 1, 'अनुशासित': 1, 'ऊना': 1, 'पिलाते': 1, 'स्वयंसेवी': 1, 'निस्\\u200dवार्थ': 1, 'परवाह': 1, 'वयस्क': 1, 'बारा': 1, 'कचहरी': 1, 'वनवे': 1, 'संकरे': 1, 'गढ्डों': 1, 'भरवा': 1, 'प्रतिगामी': 1, 'पश्चगामी': 1, 'कंपाला': 1, 'धनुका': 1, 'जयदेव': 1, 'विचारणीय': 1, 'डटकर': 1, 'मेघरंजनी': 1, 'मेधी': 1, 'असमिया': 1, 'कथक': 1, 'नृत्यांगना': 1, 'प्रशिक्षकों': 1, 'शास्त्र': 1, 'शिविरों': 1, 'विधाओं': 1, 'अवगत': 1, 'बुजुर्गों': 1, 'पकड़ाने': 1, 'पकडऩा': 1, 'विधा': 1, 'हस्तकौशल': 1, 'प्रखंड': 1, 'रॉस': 1, 'डैथ': 1, 'सबमें': 1, 'रुककर': 1, 'हीरोपंती': 1, 'रेहड़ी': 1, 'स्विंग': 1, 'प्\\u200dलास्टिक': 1, 'फरेब': 1, 'पर\\u200dिस्थितियों': 1, 'जागने': 1, 'राजनीतिज्ञ': 1, 'दुखती': 1, 'रिसर्चर्स': 1, 'गेदबाज': 1, 'कवायदों': 1, 'सुधारक': 1, 'तमगा': 1, 'मार्गदर्शन': 1, 'प्रशिक्षक': 1, 'तराशने': 1, 'बीपीएल': 1, 'तमिलनाडु': 1, 'बीमा': 1, 'भांति': 1, 'प्रत्यक्ष': 1, 'ससे': 1, 'गैरकुशल': 1, 'लिस्बन': 1, 'सोफिया': 1, 'चुडंल्येन': 1, 'बाएं': 1, 'फीपा': 1, 'फूलदानी': 1, 'जोडऩे': 1, 'विपक्षियों': 1, 'मुंहतोड़': 1, 'खरीदते': 1, 'सुथरे': 1, 'प्रशासनिक': 1, 'कामकाजी': 1, 'जिन्\\u200dहोंने': 1, 'एलिजाबेथ': 1, 'बैंक्स': 1, 'हनेस्कू': 1, 'ऑयल': 1, 'घटेगा': 1, 'प्रॉफिट': 1, 'मार्जिन': 1, 'इंपॉर्टेंट': 1, 'क्वॉन्टिटी': 1, 'परफेक्ट': 1, 'होस्ट': 1, 'इम्प्रेस': 1, 'डॉयलग': 1, 'जेहन': 1, 'कूंजी': 1, 'बड़ोदरा': 1, 'टि्वट': 1, 'नहींपड़ना\\xa0चाहता': 1, 'पांड्या': 1, 'ही\\xa0प्रभावित': 1, 'सीसीआइ': 1, 'वार्न': 1, 'हर्ले': 1, 'परवान': 1, 'हरिवंश': 1, 'गुंडोत्रा': 1, 'जैक': 1, 'रिटर्न': 1, 'नानकी': 1, 'वाहे': 1, 'बरतें': 1, 'कॉन्टैक्ट्स': 1, 'फतेह': 1, 'पंकज': 1, 'जलोटा': 1, 'गायन': 1, 'बढऩे': 1, 'जमीं': 1, 'सुभाशिष': 1, 'कुश': 1, 'चेतेश्वर': 1, 'ग्लैन': 1, 'उबारा': 1, 'शिनाख्स': 1, 'पारख': 1, 'प्रॉसेस': 1, 'पारेख': 1, 'भाषाओं': 1, 'ग्रेनाडा': 1, 'किला': 1, 'अकीदतमंद': 1, 'नजरिया': 1, 'क\\u200cर्स्टन': 1, 'शारदा': 1, 'घपले': 1, 'बेटों': 1, 'शाकिब': 1, 'नाकआउट': 1, 'राजस्व': 1, 'निभाएं': 1, 'सिफारिशों': 1, 'आवश्कयता': 1, 'हस्तियों': 1, 'सहभागिता': 1, 'कमीकमजोरियों': 1, 'स्त्री': 1, 'स्वप्न': 1, 'कोयलांचल': 1, 'मान्यताओं': 1, 'दारोमदार': 1, 'गुड्डे': 1, 'गुड़ियों': 1, 'वट': 1, 'सावित्री': 1, 'सरस': 1, 'सम्वेदनशील': 1, 'जलराडार': 1, 'लाभदायक': 1, 'ललिता': 1, 'स्त्रीपुरुष': 1, 'वैभवशाली': 1, 'थें': 1, 'अभिकरण': 1, 'विधि': 1, 'शक्तियां': 1, 'प्रदत्त': 1, 'हंै': 1, 'सहाय': 1, 'वेटिंग': 1, 'फर्ज': 1, 'ट्रेक्टर': 1, 'बैलगाड़ियों': 1, 'धमकियाँ': 1, 'काथलिक': 1, 'समृद्ध': 1, 'स्वेच्छा': 1, 'सेवानिवृत्ति': 1, 'अंकतालिक': 1, 'स्थिर': 1, 'गैलेक्सी': 1, 'अंबाटी': 1, 'एंडरसन': 1, 'चतुर्वेदी': 1, 'स्टैण्ड': 1, 'सेवाएं': 1, 'आठवें': 1, 'मस्तराम': 1, 'बेंगलुरु': 1, 'शाहरूख': 1, 'बनाएंगी': 1, 'ठेकेदार': 1, 'बेदस्तूर': 1, 'फंडामेंटल': 1, 'कमजोरियों': 1, 'आपातकालीन': 1, 'लगाये': 1, 'नियामक': 1, 'गैजेटों': 1, 'लोकेशंस': 1, 'डायरेक्टर्स': 1, 'लाती': 1, 'पाइडरमैन': 1, 'जद्दोजहद': 1, 'हंसाना': 1, 'चकित': 1, 'खपत': 1, 'ज्यादाविदेशी': 1, 'केंद्रित': 1, 'अर्जी': 1, 'मृदाक्षण': 1, 'जुते': 1, 'फलतः': 1, 'पोषक': 1, 'बहाव': 1, 'रूकता': 1, 'अंकों': 1, 'खदान': 1, 'उपलब्धि': 1, 'आक्रमण': 1, 'ऐपल': 1, 'जातीय': 1, 'परखें': 1, 'झोली': 1, 'वोटों': 1, 'भरती': 1, 'निकलें': 1, 'मुस्कुराहट': 1, 'स्वीकृति': 1, 'ब्यूरो': 1, 'शख्सियतों': 1, 'जमने': 1, 'रिस्क': 1, 'सधे': 1, 'इरेडा': 1, 'परन्तु': 1, 'आपदाओं': 1, 'भलाई': 1, 'प्रतिबद्ध': 1, 'थानीपुर': 1, 'केन्द्रीय': 1, 'गोष्ठी': 1, 'प्रासंगिक': 1, 'नोटिफिकेशन': 1, 'घटक': 1, 'आज्ञाकारी': 1, 'आज्ञानुसार': 1, 'सेनाओं': 1, 'सीमाएँ': 1, 'भलीभाँति': 1, 'रक्षित': 1, 'अरुणा': 1, 'विरह': 1, 'समकालीन': 1, 'कवियों': 1, 'स्वाभाविकता': 1, 'निष्कपटता': 1, 'सुलझे': 1, 'एकरोज': 1, 'हस्बेमामूल': 1, 'लेटी': 1, 'संतमहात्माओं': 1, 'बतलाया': 1, 'तगण': 1, 'यगण': 1, 'कुनकुने': 1, 'गरारा': 1, 'खराश': 1, 'अजाति': 1, 'धूर्तता': 1, 'त्याज्य': 1, 'जरायुज': 1, 'विद्यमान': 1, 'देनेवाली': 1, 'इंद्रियगम्य': 1, 'महापुरुष': 1, 'ख़रीदने': 1, 'संगोष्ठी': 1, 'गँवाइए': 1, 'भाषांतरणीय': 1, 'आरोही': 1, 'रामकहानी': 1, 'अश्रुपूर्ण': 1, 'गँवई': 1, 'विश्वासी': 1, 'मुहँ': 1, 'तथ्यपूर्ण': 1, 'देशदुनिया': 1, 'धुन': 1, 'अवसरों': 1, 'बाँके': 1, 'विषहीन': 1, 'सुकुमार': 1, 'रेशेदार': 1, 'दंत': 1, 'शिशु': 1, 'निगल': 1, 'आराम': 1, 'सांसारिक': 1, 'निवृत्त': 1, 'संन्यास': 1, 'विरत': 1, 'मनचाही': 1, 'भिक्षा': 1, 'पाकर': 1, 'दाता': 1, 'तृप्त': 1, 'दुवाएँ': 1, 'जितेंद्रिय': 1, 'अवसादग्रस्त': 1, 'लटपटी': 1, 'गूँगे': 1, 'बालयोगी': 1, 'मुख': 1, 'हीरे': 1, 'घिसाई': 1, 'बारीक़ी': 1, 'सुगठित': 1, 'चांदी': 1, 'बर्तन': 1, 'गढ़न': 1, 'बगीचे': 1, 'रकार': 1, 'बौद्धों': 1, 'बौद्ध': 1, 'फैलाया': 1, 'उभारा': 1, 'संयमी': 1, 'सरकस': 1, 'बौने': 1, 'लोटपोट': 1, 'तरीक़े': 1, 'युक्तिपूर्वक': 1, 'विधिपूर्वक': 1, 'टीका': 1, 'चंचल': 1, 'चितवन': 1, 'सर्वोत्तम': 1, 'अन्यतम': 1, 'असंदिग्ध': 1, 'पाँडवों': 1, 'निश्शंक': 1, 'वीरता': 1, 'संतजी': 1, 'गुणगान': 1, 'यंत्र': 1, 'नियोजित': 1, 'मिलूँगा': 1, 'योजित': 1, 'सम्पन्न': 1, 'सुरेन्द्रजी': 1, 'असहाय': 1, 'निराश्रित': 1, 'आश्रय': 1, 'बिता': 1, 'अनाथों': 1, 'अत्युत्तम': 1, 'आदर्शों': 1, 'अपकर्षक': 1, 'विघ्न': 1, 'विनायक': 1, 'खस्ते': 1, 'टोस्ट': 1, 'मक्खन': 1, 'सास': 1, 'तबीयत': 1, 'डूबते': 1, 'सेठजी': 1, 'लालाजी': 1, 'कुम्हार': 1, 'गढ़कर': 1, 'कुरूपता': 1, 'आयात': 1, 'यादों': 1, 'तारायुक्त': 1, 'निहार': 1, 'स्वरों': 1, 'गुंजित': 1, 'स्वरित': 1, 'अनुशीलनीय': 1, 'ग्रंथ': 1, 'बहुभाषी': 1, 'फायदे': 1, 'पगलानंद': 1, 'महात्म्य': 1, 'डालते': 1, 'प्रदर्शनको': 1, 'मज़दूर': 1, 'मज़दूरी': 1, 'नीफ': 1, 'सीखाने': 1, 'तमन्नाा': 1, 'छूकर': 1, 'मानूंगा': 1, 'पापा': 1, 'मोदीअपने': 1, 'अभागा': 1, 'पुरजोर': 1, 'उदारीकृत': 1, 'चुनेगी': 1, 'जीवित': 1, 'लूटनेवाले': 1, 'सशस्त्र': 1, 'डाकूओं': 1, 'द्रवित': 1, 'सुहावना': 1, 'हक़दार': 1, 'पुष्प': 1, 'रखवाली': 1, 'निरोगता': 1, 'प्राणायाम': 1, 'महत्वाकांक्षियों': 1, 'लालसा': 1, 'सज्जनों': 1, 'कीटाणु': 1, 'पनप': 1, 'स्वर्गीय': 1, 'ललाट': 1, 'तेजोमंडित': 1, 'मान्यवर': 1, 'दयापूर्वक': 1, 'कष्ट': 1, 'श्रेयस्कर': 1, 'चीज़े': 1, 'अनुकरणीय': 1, 'सत्कृत': 1, 'बहुतों': 1, 'हँसा': 1, 'सहला': 1, 'पत्रिका': 1, 'भविष्यफल': 1, 'लज्जाशील': 1, 'लज्जा': 1, 'बाँसुरी': 1, 'गोकुलवासी': 1, 'लुब्ध': 1, 'हीर': 1, 'राँझा': 1, 'शिरी': 1, 'फरहाद': 1, 'ढोला': 1, 'मारू': 1, 'तुला': 1, 'लग्न': 1, 'जातक': 1, 'सहनशील': 1, 'विवेकी': 1, 'पचित': 1, 'पक्व': 1, 'सुपाच्य': 1, 'अभिजात': 1, 'अतिथि': 1, 'आदरणीय': 1, 'बुद्ध': 1, 'दुधारू': 1, 'आशान्वित': 1, 'आयेगा': 1, 'गणनीय': 1, 'हँसमुख': 1, 'प्रसन्नचित्त': 1, 'प्रसन्नतापूर्वक': 1, 'तर्कगम्य': 1, 'तुलनीय': 1, 'अनन्य': 1, 'अध्यापन': 1, 'सुविधाजनक': 1, 'सूक्ष्मदर्शी': 1, 'औषधियों': 1, 'उत्साहवर्धक': 1, 'उत्साही': 1, 'रोमांचकारी': 1, 'ज़िंदादिल': 1, 'खुशियों': 1, 'अनाहत': 1, 'प्रेरकों': 1, 'प्रेरणाओं': 1, 'कहानियों': 1, 'भंडार': 1, 'चटपटा': 1, 'चिड़ियाघर': 1, 'दिखाये': 1, 'मनोरंजित': 1, 'सौम्य': 1, 'ग़रीबनवाज़': 1, 'मर्यादित': 1, 'सहृदय': 1, 'ज्ञेय': 1, 'लंद': 1, 'आशावादी': 1, 'रासायनिक': 1, 'मतांध': 1, 'द्वेष': 1, 'झीलों': 1, 'पवई': 1, 'रमणीय': 1, 'चित्रकारी': 1, 'अंत्याक्षरी': 1, 'नत्थी': 1, 'संलग्न': 1, 'उत्थान': 1, 'चैतन्य': 1, 'भयवश': 1, 'अनादरणीय': 1, 'उपाय': 1, 'व्यायाम': 1, 'प्रसन्नता': 1, 'पारस्परिक': 1, 'दीवारों': 1, 'याम': 1, 'चित्रकला': 1, 'प्रथम': 1, 'प्रस्तुतिकरण': 1, 'आशाजनक': 1, 'शिल्पियों': 1, 'आच्छाद': 1, 'विदुर': 1, 'अतिथिसत्कार': 1, 'सात्विक': 1, 'सृजनशील': 1, 'गृहणी': 1, 'मूर्तिकार': 1, 'मौर': 1, 'सुशोभित': 1, 'क्षणिक': 1, 'ख़ुश': 1, 'रोमाचिंत': 1, 'रोमांचित': 1, 'सेनापतियों': 1, 'छुड़ा': 1, 'वकालत': 1, 'संतोषी': 1, 'आनंदपूर्ण': 1, 'संतुष्टीकरण': 1, 'आनुष्ठानिक': 1, 'पराये': 1, 'सदाबहार': 1, 'प्रयत्नशील': 1, 'गोरी': 1, 'रिमझिम': 1, 'महाकाव्यों': 1, 'प्रतिनिधि': 1, 'रजिस्ट्री': 1, 'बुंदेलखंड': 1, 'चिटफंड': 1, 'मकड़जाल': 1, 'फैलता': 1, 'नलों': 1, 'इश्यू': 1, 'लक्ष्मीनगर': 1, 'भट्टी': 1, 'एसडीएम': 1, 'पडा': 1, 'मुकदमों': 1, 'नामजद': 1, 'नुमाइश': 1, 'फाइनेंसर': 1, 'शेरी': 1, 'पीलिया': 1, 'शिवांग': 1, 'वसूलने': 1, 'झूठों': 1, 'गोयबल्स': 1, 'श्वेता': 1, 'भूखी': 1, 'डीजल': 1, 'साहसी': 1, 'लोडिंग': 1, 'प्वाइंट': 1, 'समीप': 1, 'अकबरूद्दीन': 1, 'बेहोश': 1, 'अधिनियिम': 1, 'चालान': 1, 'उल्लंघन': 1, 'क़ानूनी': 1, 'ग्रस्त': 1, 'फिरना': 1, 'समारोहों': 1, 'धागा': 1, 'रनियां': 1, 'जलकर': 1, 'नौकरियों': 1, 'वैल्यू': 1, 'सीबीआइ': 1, 'बैठेगे': 1, 'अनिश्चित': 1, 'कालीन': 1, 'बिस्तर': 1, 'ट्रांसफार्मर': 1, 'घाटे': 1, 'पुष्पेंद्र': 1, 'पंखे': 1, 'फंदा': 1, 'पलंग': 1, 'बंधनमुक्त': 1, 'चिह्नित': 1, 'पशुओं': 1, 'टोयोटा': 1, 'लैंड': 1, 'क्रूजर': 1, 'ड्राइव': 1, 'पुरुलिया': 1, 'रघुनाथपुर': 1, 'घंटो': 1, 'तपन': 1, 'गाडी': 1, 'उतरते': 1, 'नीलोखेड़ी': 1, 'तरावड़ी': 1, 'उपभोग': 1, 'प्रतियोगिताएं': 1, 'हैंडपंप': 1, 'आंखें': 1, 'अनारक्षित': 1, 'कराह': 1, 'भारऔर': 1, 'गज': 1, 'अभिभूत': 1, 'नब्बे': 1, 'कामकाज': 1, 'पिलाकर': 1, 'परसियां': 1, 'बच्चियां': 1, 'जोनल': 1, 'सेलेक्ट': 1, 'बटोरने': 1, 'गैरजिम्मेदारी': 1, 'प्लग': 1, 'सॉकेट': 1, 'एसबीआई': 1, 'शाखाओं': 1, 'चयनकर्ता': 1, 'दिलचस्पी': 1, 'नाइट': 1, 'राइडर्स': 1, 'चटर्जी': 1, 'बसु': 1, 'एथलीट': 1, 'दावों': 1, 'स्पर्धाओं': 1, 'बोलिंग': 1, 'झटकने': 1, 'घटने': 1, 'करुण': 1, 'रितु': 1, 'मिडफील्ड': 1, 'मूव': 1, 'रक्षापंक्ति': 1, 'मूंग': 1, 'रवी': 1, 'कल्लू': 1, 'दिशाओं': 1, 'डालेगी': 1, 'ट्रेनों': 1, 'बेशक': 1, 'जेनरेटर': 1, 'जलापूर्ति': 1, 'स्लोडाउन': 1, 'प्रतिस्पर्धा': 1, 'स्टोर्स': 1, 'गबन': 1, 'इसल': 1, 'वेशधारी': 1, 'नशीला': 1, 'खिलाकर': 1, 'स्कीन': 1, 'फुड': 1, 'यानिना': 1, 'स्मोकिंग': 1, 'मोटापा': 1, 'सप्लीमेंट्स': 1, 'मुम्बईवासी': 1, 'कीटिंग': 1, 'रिहाना': 1, 'अपमानजनक': 1, 'रविचंद्रन': 1, 'कसूर': 1, 'बीर': 1, 'दविंदर': 1, 'बादल': 1, 'साम्राज्य': 1, 'रहस्यों': 1, 'अन्यत्र': 1, 'कारोबारियों': 1, 'मुकाबलों': 1, 'शिकस्त': 1, 'सतह': 1, 'व्हाइट': 1, 'हाट': 1, 'तंबू': 1, 'नित': 1, 'योजनाएं': 1, 'गरीबो': 1, 'योजनाओ': 1, 'चिरंजीवी': 1, 'अंडे': 1, 'कोलाहल': 1, 'विपुल': 1, 'मचाते': 1, 'आघात': 1, 'बरबाद': 1, 'छेड़': 1, 'साझीदार': 1, 'याचना': 1, 'ह्रदय': 1, 'सजर्री': 1, 'बीएसएनएल': 1, 'उपभाक्ताओं': 1, 'मोड़ना': 1, 'छूटना': 1, 'खामिया': 1, 'लपटें': 1, 'बेचैन': 1, 'रसोई': 1, 'मिन्नतें': 1, 'पीटना': 1, 'बैंककर्मियों': 1, 'आव्रजन': 1, 'राज्यपाल': 1, 'लेफ्टिनेंट': 1, 'राष्टï्रपति': 1, 'नारायणन': 1, 'कर्जदारों': 1, 'छोडऩे': 1, 'टेकने': 1, 'अवरोध': 1, 'सिविक': 1, 'टाउन': 1, 'वेंडिंग': 1, 'कमेटियों': 1, 'आवेदक': 1, 'पालियों': 1, 'रूकी': 1, 'सैकड़ा': 1, 'लापरवाह': 1, 'प्रभारियों': 1, 'कटे': 1, 'बंदरगाह': 1, 'दीवाने': 1, 'परदेस': 1, 'ताल': 1, 'विषमता': 1, 'धंसी': 1, 'माइग्रेन': 1, 'अब्दी': 1, 'कहासंघ': 1, 'पुरातात्विक': 1, 'महत्व': 1, 'आंेकारेश्वर': 1, 'पर्वत': 1, 'स्वीमिंग': 1, 'रिसॉर्ट': 1, 'शुवार': 1, 'रो़ड': 1, 'कंस्ट्रक्शंस': 1, 'अभ्यर्थियों': 1, 'राजपत्रित': 1, 'अभियंता': 1, 'आईडी': 1, 'पू्रफ': 1, 'मसलन': 1, 'परिस्थिति': 1, 'चालाक': 1, 'मालिकों': 1, 'रीढ़विहीन': 1, 'संपादकों': 1, 'प्रवृत्तियों': 1, 'वृहद': 1, 'अकबरपुर': 1, 'समझाकर': 1, 'वेस्टइंडीज': 1, 'एक्सपोज': 1, 'तनावपूर्ण': 1, 'ट्रकों': 1, 'हैंगसेंग': 1, 'शांघाई': 1, 'ताईवान': 1, 'कमोडिटी': 1, 'सोयामील': 1, 'एक्सपोर्ट': 1, 'बैठना': 1, 'राहगीरों': 1, 'व्यवसायिक': 1, 'गंज': 1, 'गर्मीमें': 1, 'तपते': 1, 'औद्योगिक': 1, 'कपड़ा': 1, 'मंडराने': 1, 'हैरानी': 1, 'साढ़े': 1, 'दोअर्थी': 1, 'त्\\u200dवचा': 1, 'स्\\u200dतन': 1, 'गोले': 1, 'आश्वासन': 1, 'बीएचयू': 1, 'अग्निदेव': 1, 'वनों': 1, 'लालटेन': 1, 'चूल्हे': 1, 'बुझाना': 1, 'अभिमन्यु': 1, 'भागते': 1, 'डकैतों': 1, 'फूटपाथ': 1, 'रॉड': 1, 'मीडियाकर्मी': 1, 'हसीबुल': 1, 'कयूम': 1, 'एसयूवी': 1, 'झुलस': 1, 'हाईवे': 1, 'कष्टदायक': 1, 'झूलने': 1, 'सुनाया': 1, 'हिमस्खलन': 1, 'रवैये': 1, 'लड़ते': 1, 'अविनाश': 1, 'चंद्र': 1, 'सिलसिलेवार': 1, 'तबादलों': 1, 'काल्टर': 1, 'वानखेड़े': 1, 'कोल्टर': 1, 'ताहिर': 1, 'स्तब्ध': 1, 'अर्थिग': 1, 'एआरआर': 1, 'रामटहल': 1, 'मुनीब': 1, 'मंगला': 1, 'दौड़ने': 1, 'वार्मअप': 1, 'पीएमटी': 1, 'डाकिए': 1, 'पाठशाला': 1, 'दलेलखेड़ा': 1, 'अनीश': 1, 'टिहरी': 1, 'पठारो': 1, 'प्रकृतिक': 1, 'आमजन': 1, 'लाइसेंसधारी': 1, 'सामग्रियां': 1, 'सवालिया': 1, 'श्रीरामपुर': 1, 'मोहल्ला': 1, 'जायसवाल': 1, 'संभालने': 1, 'चेते': 1, 'उदैनिया': 1, 'दिल्लगी': 1, 'बेरोजगारी': 1, 'मानों': 1, 'सेलेना': 1, 'जेनेर': 1, 'आएशा': 1, 'कुकू': 1, 'उड़वा': 1, 'डायट': 1, 'टि्वटरवालों': 1, 'चुहल': 1, 'डरते': 1, 'लगत': 1, 'संजू': 1, 'एमएमएस': 1, 'क्लिप': 1, 'मैनेजमेंट': 1, 'कोटे': 1, 'खिड़कियां': 1, 'चेंबर': 1, 'भीड': 1, 'शराबियों': 1, 'जमघट': 1, 'सर्राफे': 1, 'स्थलों': 1, 'भगा': 1, 'उग्र': 1, 'अनुशासनात्मक': 1, 'पोलियो': 1, 'संपूर्ण': 1, 'चक्का': 1, 'आसमाजिक': 1, 'न्यायमूर्ति': 1, 'खेहर': 1, 'स्पाइसजेट': 1, 'एनएफयू': 1, 'फेवर': 1, 'नितेश': 1, 'दवाइयों': 1, 'नौकरशाही': 1, 'इजाफा': 1, 'नॉइस': 1, 'डीटेल्स': 1, 'मोटोरोला': 1, 'थोक': 1, 'फुहारों': 1, 'ठंडक': 1, 'फव्वारे': 1, 'गैरजरूरी': 1, 'उन्होंनेे': 1, 'बाई': 1, 'सेतु': 1, 'सदुपयोग': 1, 'गश्त': 1, 'वारदातें': 1, 'हौंसले': 1, 'कार्यप्रणाली': 1, 'रोष': 1, 'कैडर': 1, 'खदानों': 1, 'खिल्ली': 1, 'सर्व': 1, 'स्वीकार्य': 1, 'संकुचित': 1, 'बांटती': 1, 'नपा': 1, 'फागिंग': 1, 'छिड़काव': 1, 'शाउमाशा': 1, 'जैतगिरी': 1, 'नकलची': 1, 'अफरातफरी': 1, 'बोमन': 1, 'ढोंग': 1, 'नीचा': 1, 'हटता': 1, 'डीएचएफएल': 1, 'देनदारी': 1, 'निहित': 1, 'सॉफ्टवेयर': 1, 'मोटो': 1, 'उतरता': 1, 'अथवा': 1, 'कानूनों': 1, 'नाइट्स': 1, 'विद': 1, 'टकक्कर': 1, 'एसाइड': 1, 'कारपेट': 1, 'मार्डन': 1, 'डाइंग': 1, 'स्कावरिंग': 1, 'प्लांट': 1, 'उद्यमियों': 1, 'प्रज्ञान': 1, 'ओझा': 1, 'गोल्फर': 1, 'प्रर्दशन': 1, 'तथ्य': 1, 'एलर्जी': 1, 'पनपने': 1, 'फ्रेंड': 1, 'गोरखधंधे': 1, 'खुलेआम': 1, 'इन्वेस्टर्स': 1, 'कहें': 1, 'गुंजाइश': 1, 'पाबंदियों': 1, 'कार्यबल': 1, 'नीतिगत': 1, 'जर्सी': 1, 'भर्तियां': 1, 'कमजोरियां': 1, 'डिस्क': 1, 'ब्रैक': 1, 'अधीक्षक': 1, 'बौछारों': 1, 'प्रश्रय': 1, 'अछूत': 1, 'डैन': 1, 'स्टॉक': 1, 'परख': 1, 'ओपनरों': 1, 'ज़ोया': 1, 'ओपनर': 1, 'ब्ललेबाजी': 1, 'बनीं': 1, 'बृहस्पतिवार': 1, 'वैश्य': 1, 'दुबिधाजनक': 1, 'स्टेज': 1, 'बनावटी': 1, 'फ्रेंचाइजी': 1, 'फटकार': 1, 'बड़बड़ाते': 1, 'कमसिन': 1, 'गुजरा': 1, 'मेंस': 1, 'पर्चा': 1, 'अधिकतम': 1, 'गुजरना': 1, 'कारणवश': 1, 'एंग्री': 1, 'दीर्घावधि': 1, 'पाटना': 1, 'दुरूह': 1, 'पिघलने': 1, 'बीहड़': 1, 'लांघने': 1, 'बाजीगरी': 1, 'स्वर्णिम': 1, 'ऐश': 1, 'सीओएआई': 1, 'टेलीकॉम': 1, 'मुश्किलों': 1, 'दुहस्वप्न': 1, 'सरीखा': 1, 'बेसहारा': 1, 'जर्नलिज्म': 1, 'अहिरवार': 1, 'कैंपस': 1, 'इंडस्ट्रियल': 1, 'रक्त': 1, 'ब्लडप्रेशर': 1, 'प्रकोप': 1, 'क्यूडी': 1, 'ओएमआर': 1, 'शीट': 1, 'अभिमत': 1, 'सांठगांठ': 1, 'अनपेक्षित': 1, 'अकाउंट्स': 1, 'पंजीकृत': 1, 'सैक्स': 1, 'पकडऩे': 1, 'खदेडऩे': 1, 'सोनम': 1, 'ऐशबाग': 1, 'टवेरा': 1, 'शातिर': 1, 'थर्सडे': 1, 'नैनी': 1, 'निपट': 1, 'हालाकि': 1, 'चटकाया': 1, 'तबियत': 1, 'दूंगी': 1, 'तनिक': 1, 'समेकित': 1, 'हॅै': 1, 'रुलाया': 1, 'चिदम्बरम': 1, 'सोंच': 1, 'सिलवासा': 1, 'बीतने': 1, 'सुरक्षाकर्मी': 1, 'हार्ट': 1, 'ट्रस्टों': 1, 'निर्जला': 1, 'चिड़िया': 1, 'महाशिवरात्रि': 1, 'ठहरठहर': 1, 'गोलीबारी': 1, 'अंधाधुंधगोलीबारी': 1, 'पॉल्यूशन': 1, 'महाराजा': 1, 'जाच': 1, 'पैथोलॉजी': 1, 'बकाये': 1, 'पाएगी': 1, 'अमूल': 1, 'सोढी': 1, 'कमेंट्री': 1, 'प्रशिक्षणार्थी': 1, 'एएनएम': 1, 'स्टाइपेंड': 1, 'फूटी': 1, 'अल्पावधि': 1, 'परिदृश्य': 1, 'डु': 1, 'प्लेसिस': 1, 'नाकाफी': 1, 'टूर्नमेंट': 1, 'स्पिनर्स': 1, 'शाहबाज': 1, 'विट्ठल': 1, 'रिक्त': 1, 'कंगारू': 1, 'उतरकर': 1, 'करूं': 1, 'मिलीभगत': 1, 'मनमाने': 1, 'मैरी': 1, 'फ़िल्माने': 1, 'मदर': 1, 'सट्टेबाजी': 1, 'चैम्पियन': 1, 'रौद्र': 1, 'घंटाघर': 1, 'उपनिवेशकाल': 1, 'उदार': 1, 'डाक्टरों': 1, 'रोड़': 1, 'प्रतिशोध': 1, 'धाराओं': 1, 'ब्रोकरों': 1, 'क्लाइंट्स': 1, 'एक्जिबिटर्स': 1, 'भेजता': 1, 'कुलपति': 1, 'यथा': 1, 'भुगतानों': 1, 'लगेज': 1, 'आहूजा': 1, 'क्रिकेटरों': 1, 'सश्रम': 1, 'सतपाल': 1, 'आजीवन': 1, 'भुगत': 1, 'सस्ती': 1, 'नेहा': 1, 'ठूंसने': 1, 'हत्यारोपी': 1, 'पारसीअंग्रेजी': 1, 'उर्दू': 1, 'पिरोते': 1, 'पैडी': 1, 'अधीनस्थ': 1, 'उत्तरदायी': 1, 'शार्ट': 1, 'आपत्ति': 1, 'व्यय': 1, 'जालसाज': 1, 'भर्रीटोला': 1, 'मध्यांचल': 1, 'चोरो': 1, 'मुसलीम': 1, 'ट्रांजैक्\\u200dशन': 1, 'अनजाना': 1, 'प्रकरण': 1, 'छिपकली': 1, 'हाउसिंग': 1, 'फाइनेंस': 1, 'फिक्स्ड': 1, 'गतिविधियों': 1, 'प्रत्याशियों': 1, 'संट्टा': 1, 'लगवाया': 1, 'उत्पीडन': 1, 'मनोदशा': 1, 'ऑफिसर्स': 1, 'दिखीं': 1, 'सीरियस': 1, 'झुलसी': 1, 'तड़प': 1, 'सर्वाधिक': 1, 'आईपीसी': 1, 'फर्राटे': 1, 'डय़ूटी': 1, 'कर्तव्यहीनता': 1, 'फ्रिज': 1, 'हिदायत': 1, 'लिनचोली': 1, 'निशुल्क': 1, 'वसूला': 1, 'किराया': 1, 'मनमानी': 1, 'पल्ला': 1, 'झाड़ता': 1, 'आढ़ती': 1, 'गेहू': 1, 'घटोतरी': 1, 'बीवीओ': 1, 'पेयपदार्थों': 1, 'नकारात्मक': 1, 'मुथैया': 1, 'जायका': 1, 'बदइंतजामी': 1, 'रष्टाचार': 1, 'मोलभाव': 1, 'कंजर्वेटर': 1, 'बैटरी': 1, 'रोनाल्डो': 1, 'मेड्रिड': 1, 'अन्वेषण': 1, 'मचाना': 1, 'एक्सचेंज': 1, 'वर्षगांठ': 1, 'मनाई': 1, 'युगल': 1, 'गाहेबगाहे': 1, 'कटान': 1, 'ओस': 1, 'एचआइवी': 1, 'पीएमसीएच': 1, 'कम्यूनिटी': 1, 'पुलिसिंग': 1, 'भौगोलिक': 1, 'खुशकिस्मती': 1, 'अविभाजित': 1, 'सरगुजा': 1, 'नस्ल': 1, 'सांड़': 1, 'में\\xa0पड़ना\\xa0चीजों': 1, 'अपनी\\xa0खीज\\xa0निकालते': 1, 'फैलाई': 1, 'अफवाहें': 1, 'से\\xa0प्रभावित\\xa0बच्चा': 1, 'मुझमें': 1, 'एनवक्त': 1, 'चौंक': 1, 'शौच': 1, 'बुलाने': 1, 'पेशी': 1, 'निरस्त': 1, 'यतीमखाने': 1, 'बिगड़ने': 1, 'कैरेबियाई': 1, 'डेरेन': 1, 'खामियाजा': 1, 'भुगतना': 1, 'स्पेक्ट्रम': 1, 'रिट्': 1, 'ट्यूबवेल': 1, 'प्यास': 1, 'बुझाने': 1, 'छात्रावास': 1, 'लोनिवि': 1, 'पत्राचार': 1, 'अनफिट': 1, 'दोहाराया': 1, 'हुर्ई': 1, 'मोइली': 1, 'अड़ाकर': 1, 'कोतवाली': 1, 'फेरबदल': 1, 'रामीणों': 1, 'पुष्टि': 1, 'थक': 1, 'वैयक्तिक': 1, 'बाढ': 1, 'नीति\\u200dयों': 1, 'सेक्\\u200dटर': 1, 'प्रोजेक्\\u200dट': 1, 'नि\\u200dर्माण': 1, 'समस्\\u200dया': 1, 'तालाबों': 1, 'भराने': 1, 'सिकड़ी': 1, 'गरम': 1, 'क्लीन': 1, 'मधुमेह': 1, 'शर्करा': 1, 'परहेज': 1, 'बावज़ूद': 1, 'न्यूनांशीय': 1, 'घिर': 1, 'उत्तेजित': 1, 'घेर': 1, 'डरोदुष्कर्मी': 1, 'अकर्मक': 1, 'क्रियाओं': 1, 'ता': 1, 'बिलख': 1, 'प्रश्नकर्त्ता': 1, 'काँच': 1, 'कटोरी': 1, 'छूटते': 1, 'सर्दीजुकाम': 1, 'कबूतर': 1, 'रामू': 1, 'भड़काया': 1, 'जंगली': 1, 'ठिंगना': 1, 'कूदकूद': 1, 'उन्नीस': 1, 'अफल': 1, 'पौधों': 1, 'बैल': 1, 'जुताई': 1, 'राहगीर': 1, 'जोकर': 1, 'स्मारकसभी': 1, 'धर्मों': 1, 'धर्मगुरुओं': 1, 'वॉर': 1, 'परवेज': 1, 'हैहम': 1, 'जम्मुकश्मीर': 1, 'कश्': 1, 'शोलेदेखिए': 1, 'परटक्कर': 1, 'उत्पात': 1, 'अन्दर': 1, 'लखात': 1, 'देहिया': 1, 'कबर': 1, 'लम्बा': 1, 'जीभिया': 1, 'हमार': 1, 'दुबकी': 1, 'ज़बान': 1, 'मुकर': 1, 'मुशर्रफलाइव': 1, 'सलामदेखिए': 1, 'दीपक': 1, 'उबल': 1, 'प्रतिक्रियादेखिए': 1, 'कटदेखिए': 1, 'यूएन': 1, 'फ्रांस': 1, 'लाएगा': 1, 'नामना': 1, 'भूलेंगे': 1, 'बाइस': 1, 'ढाल': 1, 'ख़िताब': 1, 'डंका': 1, 'चेयरपर्सन': 1, 'कलि': 1, 'समर्पितबेस्ट': 1, 'समर्पितअटल': 1, 'आएउनके': 1, 'आकाओं': 1, 'कायरता': 1, 'चुनना': 1, 'चुनूंगा': 1, 'भूलेंगेना': 1, 'सीआरपीएफ़': 1, 'स्पेसि': 1, 'स्लीपर': 1, 'कार्यवाई': 1, 'प्रधानमं': 1, 'आतंकपरस्ती': 1, 'कटघरे': 1, 'जि़म्मेदार': 1, 'पालने': 1, 'काी': 1, 'पहलेछात्राआप': 1, 'उठाता': 1, 'परचुनाव': 1, 'व्यंजन': 1, 'मथ': 1, 'ककडी़': 1, 'खीरा': 1, 'बेसन': 1, 'कीदेखिए': 1, 'मूर्तिबंदी': 1, 'चौकीदारी': 1, '‘महामिलावट’': 1, 'मिलाइल': 1, 'पाएंगी': 1, 'उनकी': 1, 'बेदाग़': 1, 'तेवर': 1, 'धरे': 1, 'धरनाक्रांति': 1, 'दममतामि': 1, 'गर्वमेंट': 1, 'इजाजत': 1, 'नवनीत': 1, 'वासन': 1, 'ज्वाइंट': 1, 'घोटालों': 1, 'संस्थाएँ': 1, 'कॉफ़ी': 1, 'शॉप': 1, 'पानवाले': 1, 'पुरूष': 1, 'कस्तूरी': 1, 'शिखा': 1, 'सुरभी': 1, 'डेयरडेविल': 1, 'ख़ुशबू': 1, 'बौराई': 1, 'कीजिन': 1, 'बूंदे': 1, 'भगवंत': 1, 'सुनेगा': 1, 'दावेदार': 1, 'उम्मीदवारदेखिए': 1, 'लाएंगे': 1, 'बताएंगेदेखिए': 1, 'बक्से': 1, 'आंदर': 1, 'एक्सटेंशन': 1, 'बरसाएवोटर': 1, 'फ़ौजी': 1, 'एडिटोरियल': 1, 'मीट': 1, 'बादशाहत': 1, 'शशिधरन': 1, 'पैरालिसिस': 1, 'मे': 1, 'यूपीबिहार': 1, 'लूटनेदेखिए': 1, 'घुटबंधन': 1, 'गठबंदिश': 1, 'अदब': 1, 'हिमाक़त': 1, 'डरबंधन': 1, 'अधिवेशन': 1, 'गंठबंधन': 1, 'महामंथन': 1, 'अनर्थ': 1, 'परदेखिए': 1, 'मर्द': 1, 'हिंदूमुस्लिम': 1, 'यूयू': 1, 'भूखमरी': 1, 'जेनरल': 1, 'रिजर्वेशन': 1, 'गयादेखिये': 1, 'कमंडल': 1, 'हथियारदेखिए': 1, 'आरक्षित': 1, 'घट': 1, 'चतुर्वेदीशाम': 1, 'इश्कियां': 1, 'हिचकियां': 1, 'तोड़े': 1, 'कर्जमाफी': 1, 'सुनवायी': 1, 'फ़ास्टट्रैक': 1, 'सहम': 1, 'पर्सनल': 1, 'ज़मात': 1, 'खवातीनों': 1, 'लीजिये': 1, 'डेफिनिशन': 1, 'कॉन्टेंट': 1, 'ब्रेक्स': 1, 'बनीं\\u2069': 1, 'बधा': 1, 'अवॉर्ड्स': 1, 'ग्रुपएक्सिस': 1, 'पोलसबसे': 1, 'बज': 1, 'ते': 1, 'राफेलराफेल': 1, 'अगस्टाअगस्टा': 1, 'मौकादेखिए': 1, 'पैजामा': 1, 'कुरता': 1, 'ढिल्लमढील': 1, 'सिलाय': 1, 'गे': 1, 'हमरा': 1, 'सिखलाय': 1, 'देदंगा': 1, 'हम्हीं': 1, 'करैबौ': 1, 'हैंस': 1, 'पप्पा': 1, 'पर्यायवाची': 1, 'बुधनी': 1, 'सुद्ध': 1, 'अरूण': 1, 'मुक़ाबला': 1, 'टाइट': 1, 'गोत्र': 1, 'ब्राहम्ण': 1, 'इंजिनियरिंग': 1, 'जनज्ञान': 1, 'चुस्ती': 1, 'अहिल्या': 1, 'मंत्रमुग्ध': 1, 'ग्': 1, 'पोहा': 1, 'लोहा': 1, 'रजवाड़े': 1, 'धमक': 1, 'बिसात': 1, 'एकदूसरे': 1, 'फ्यूज़': 1, 'कन्फ्यूज़्ड': 1, 'बयार': 1, 'महाकाल': 1, 'पहुचें': 1, 'बॉलिवुड': 1, 'आबोहवा': 1, 'स्वभाविक': 1, 'लुप्तप्राय': 1, 'शिरकत': 1, 'बैकस्टेज': 1, 'कॉफी': 1, 'हैलाइव': 1, 'कव': 1, 'किधर': 1, 'कहा': 1, 'करते': 1, 'इंजन': 1, 'सेमिफाइनल': 1, 'संभालेंगे': 1, 'अबके': 1, '‘तेरे': 1, 'पटेल’': 1, '‘सरदार’': 1, 'स्टैच्यू': 1, 'यूनिटी': 1, 'जानिब': 1, 'मगरदेश': 1, 'बखेड़ा': 1, 'टाल': 1, 'अध्यादेश': 1, 'हांडी': 1, 'पटाखेइन': 1, 'सबपर': 1, 'टालकर': 1, 'पॉलि': 1, '‘अंदाज’': 1, '‘नजर': 1, '‘से': 1, 'यशवंत': 1, 'सिंहा': 1, 'रिपब्लिक': 1, 'कार्बन': 1, 'कांटिनेंटल': 1, 'गैंग्स': 1, 'डालो': 1, 'एक्टिव': 1, 'ट्रोलिंग': 1, 'लड़ेगी': 1, 'मुग़लों': 1, 'आक्रमणकारी': 1, 'सुनिएपूरी': 1, 'फेविकॉल': 1, 'हिन्दूमुसलमानों': 1, 'डायनामाइट': 1, 'तोड़िए': 1, 'पुकारकरो': 1, 'कटकर': 1, 'आयोजकों': 1, 'बद्दुआ': 1, '‘हिन्दू': 1, 'अवतार’': 1, 'रुका': 1, '‘प्रचार’': 1, 'मरा': 1, 'लुटी': 1, 'उछाले': 1, 'तख़्त': 1, 'फ़ैज़': 1, 'ब्लैकमेलिंग': 1, 'छात्रदेखिए': 1, 'बुुुरा': 1, 'पुर्वोत्तर': 1, 'नब्ज़': 1, 'बेईमान': 1, 'हांक': 1, 'दमख़म': 1, 'प्रधनमंत्री': 1, 'मुक़ाबले': 1, 'करतीं': 1, 'इंस्टिट्यूट': 1, 'इंस्टिट्यूशन': 1, 'सैनिटेशन': 1, 'स्किल': 1, 'वैष्णों': 1, 'आइडल': 1, 'बुलाती': 1, 'प्रॉपर': 1, 'पटोला': 1, 'रायये': 1, 'सेश': 1, 'वीडियोये': 1, 'शेमिंग': 1, 'सफ़ाईगिरी': 1, 'बताएगी': 1, 'सना': 1, 'गोलीमार': 1, '‘शि': 1, 'फेक': 1, 'हुबहू': 1, 'प्रोपोगैंडा': 1, 'लिखो': 1, 'खेलखेल': 1, 'मंशा': 1, 'रूकते': 1, 'नितिश': 1, 'कीचड़': 1, 'संवारेगा': 1, 'डॉयलॉग्स': 1, 'मंतर': 1, 'जयकारा': 1, 'बिछड़ने': 1, 'कीताकि': 1, 'डरेताकि': 1, 'जेपीसी': 1, 'दस्तावेज़': 1, 'त्रिपुंड': 1, 'ज़िक्र': 1, 'फ़िक्र': 1, 'खोलाडियों': 1, 'रौंध': 1, 'छोटाबड़ा': 1, 'नुक़सान': 1, 'रस्ते': 1, 'सिखाए': 1, 'जांचेंगे': 1, 'बताएगा': 1, 'बिज़नेस': 1, 'लेस': 1, 'बाँधके': 1, 'गाँठ': 1, 'तालाक': 1, 'स्टंप': 1, 'झाड़': 1, 'बाइट्स': 1, 'भविष्यत': 1, 'बॉयकॉट': 1, 'सम्मानजनकसीटबंधन': 1, 'आतंकिआधिकार': 1, 'मानवाधिकार': 1, 'अनजानी': 1, 'बेंचने': 1, 'एकदो': 1, 'बोहनी': 1, 'ठेला': 1, 'आएंगेजाएंगे': 1, 'चखा': 1, 'चौंका': 1, 'ग्राफ़': 1, 'छलाँग': 1, 'पीटे': 1, 'शेरवानी': 1, 'नैशनल': 1, 'हेराफेरी': 1, 'इशारों': 1, 'वार्तालाप': 1, 'हेरल्ड': 1, '‘नेशनल': 1, 'हेराफेरी’': 1, 'अजेंडा': 1, 'रोकी': 1, 'रूकेगी': 1, 'मिलेंगी': 1, 'सेंटिमेंट': 1, 'काउंटडाउन': 1, 'बताएंगे': 1, 'पानगुटखे': 1, 'दाग': 1, 'सम्मेलन': 1, 'सि': 1, 'आमनेसामने': 1, 'संचार': 1, 'बातचीतलाइव': 1, 'एशियन': 1, 'गेम्स': 1, 'पढ़कर': 1, 'नेहरु': 1, 'एजेंडे': 1, 'विरासत': 1, 'ऊँचा': 1, 'समझिए': 1, 'अर्थशास्त्र': 1, 'शर्मनाकअटल': 1, 'कलश': 1, 'हाइवे': 1, 'चमत्कार': 1, 'गण': 1, 'घरवालों': 1, 'ब्राह्मणब्राह्मण': 1, 'उसपर': 1, 'सर्वदलीय': 1, 'मिसालें': 1, 'भुलायी': 1, 'झं': 1, 'परस्ती': 1, 'कपाल': 1, 'लिखेगा': 1, 'नवगीत': 1, '‘कवि’': 1, 'अटलअमर': 1, 'जिया': 1, 'मरूँ': 1, 'गईमौत': 1, 'गईजूझने': 1, 'थामोड़': 1, 'थारास्ता': 1, 'गईयों': 1, 'ज़िन्': 1, 'ज्वलंत': 1, 'मॉनसून': 1, 'पहना': 1, 'आक्रमक': 1, '‘हरिहरि’': 1, 'उपसभापति': 1, 'एकजुटता': 1, '‘हिंदूमुसलमान’': 1, 'राजनीतिदेखिए': 1, 'राहुलझप्पी': 1, 'रेजिस्टर': 1, 'सिटि़ज़ेंस': 1, 'घुसपैठिए': 1, 'लाखदेखिए': 1, 'परेशानदेखिए': 1, 'सिटिजन्स': 1, 'पक्षों': 1, 'गृहयुद्ध': 1, 'गायतंत्रदेखिए': 1, '‘गायतंत्र’': 1, 'मज़े': 1, 'अविशवास': 1, 'अतिआत्मविश्वास': 1, 'बोने': 1, 'करेगे': 1, 'सोमनाथ': 1, 'बोलेंगे': 1, 'बीजेपीकांग्रेस': 1, 'मास्टरस्ट्रोक': 1, 'रिज़वान': 1, 'धर्मसंकट': 1, 'हैधर्म': 1, 'दादागीरी': 1, 'करबो': 1, 'लड़बो': 1, 'जीतबो': 1, 'प्लैन': 1, 'मिलियनेयर': 1, 'यूट्यूब': 1, 'गोल्डेन': 1, 'थरूर': 1, 'प्लानदेखिए': 1, 'शरियत': 1, 'कोर्टदेखिए': 1, 'वास्तादेखिए': 1, 'ज़िले': 1, 'शरिया': 1, 'प्रस्तावदेखिए': 1, 'शरि': 1, 'अखिरकार': 1, 'निर्भया': 1, '‘मजहबी’': 1, 'मेंढक': 1, 'वेरिफाइड': 1, 'हैंडल': 1, 'धान': 1, 'क्विंटल': 1, 'एकता': 1, 'एकसाथ': 1, 'विपक्षमोदी': 1, 'डरतेरे': 1, 'घरबार': 1, 'अम्मानहीं': 1, 'बुरेसंसार': 1, 'अम्माउजाला': 1, 'सेमुझको': 1, 'सब्जबाग': 1, 'नौजवानों': 1, 'रही': 1, 'संविधानिक': 1, 'अहिंसक': 1, 'मनाएंगे': 1, 'शब्': 1, 'विभाजनकारी': 1, 'गांवगरीबों': 1, 'उज्वला': 1, 'माध्': 1, 'वीडियोदेखिए': 1, 'मांगती': 1, 'मांगा': 1, 'मनोलबल': 1, 'मेजरि': 1, 'शहाणे': 1, 'रायदेखिए': 1, 'शहाणेदेखिए': 1, 'चीज़ों': 1, 'थॉमसन': 1, 'रॉयटर्स': 1, 'इमर्जेंसी': 1, 'प्लेन': 1, 'हाईजैक': 1, 'तानाशाह': 1, 'बिन्दुओं': 1, 'तूतू': 1, 'मैंमैं': 1, '‘आजाद’': 1, 'बयानबाजी': 1, 'पासपोर्ट': 1, 'बदलोदेखिए': 1, 'लंकेशों': 1, 'कोअंगद': 1, 'अड़ाकरमरा': 1, 'सुधांशु': 1, 'आदिवासोयों': 1, 'गाएंगे': 1, 'शिवसेनादेखिए': 1, 'ब्लास्टदेखिए': 1, 'बीजेपीशिवसेना': 1, 'क्\\u200dयोंदेखिए': 1, 'भीगाभीगा': 1, 'इंतज़ारदेखिए': 1, 'फूड': 1, 'वापसदेखिए': 1, 'एजेंडादेखिए': 1, 'बोजेपी': 1, 'एपीसोड': 1, 'सौसौ': 1, 'पलटवारदेखिए': 1, 'खेमे': 1, 'चौबे': 1, 'छब्बे': 1, 'दूबे': 1, 'केदेखिए': 1, 'लाएगी': 1, 'फ़ॉर्मूला': 1, 'थामेगी': 1, 'नेताशिवसेना': 1, '‘विपक्षी': 1, 'भंवर’': 1, 'त्यागीमहासचिव': 1, 'दियाहल्ला': 1, 'आसानदेखिए': 1, '‘भाईचारा’': 1, 'बहसहल्लाबोल': 1, 'मोदीमुस्लिमों': 1, 'बधाईये': 1, 'कूटनीति': 1, 'बहसह': 1, 'सुनिएहल्ला': 1, 'सवालइस': 1, 'गएइससे': 1, '‘मोदीमोदी’देखिए': 1, 'मंत्रदेखिए': 1, 'न्यायपालिका': 1, 'थकी': 1, 'आपातकाल': 1, 'लगानेवाली': 1, 'सिखा': 1, 'पूरेदेखिए': 1, 'इन्टरनेट': 1, 'जेडीएस': 1, 'लाओगे': 1, 'भाएदेखिए': 1, 'आँधी': 1, 'खोलेंगे': 1, 'मेंहल्ला': 1, 'बजो': 1, 'थिरूमनी': 1, 'रोज़ी': 1, 'आतं': 1, 'हमारादेखिए': 1, 'टंगे': 1, 'बताइये': 1, 'नादिरशाह': 1, 'गजनीगौरी': 1, 'भदौरिया': 1, 'शिक्षण': 1, 'सुधींद्र': 1, 'अलीगढ': 1, 'हटती': 1, 'अपनेआप': 1, 'शुद्धदेखिए': 1, 'बोलीज़हर': 1, 'खुर्शीद': 1, 'स्वीकर': 1, 'जयवीर': 1, 'शेरगिल': 1, 'करेंगेराहुल': 1, 'हल्': 1, 'टेलिविज़न': 1, 'टक्करदेखिए': 1, 'नाथूराम': 1, 'गोडसे': 1, 'मूसा': 1, 'क्रिएशन': 1, 'कसते': 1, 'चाकरी': 1, 'मलूका': 1, 'कर्ताधर्ता': 1, 'पढ़ी': 1, 'चीमा': 1, 'पार्थसार्थी': 1, 'उच्चायुक्त': 1, 'किस्से': 1, 'कांप': 1, 'उठेगी': 1, 'उठाईये': 1, 'दोदेखिए': 1, 'पार्टीदेखिए': 1, 'इंडियाटुडे': 1, 'पोलदेखिए': 1, 'मोदीदेखिए': 1, 'परिवारदेखिए': 1, 'मोदीशाह': 1, 'प्रखर': 1, 'बहसदेखिए': 1, 'मिलके': 1, 'गिनते': 1, '‘जी’': 1, '‘माननीय’': 1, 'कुलदीप': 1, 'सेंगर': 1, 'जवाबआरक्षण': 1, 'डालिए': 1, 'या': 1, 'मुबंई': 1, 'छोलेभटूरे': 1, 'ज़ायकादेखिए': 1, 'बंटाधार': 1, 'निकलकर': 1, 'मेंउपवास': 1, 'नाश्ते': 1, 'लंच': 1, 'अनूठा': 1, 'फ़र्मूला': 1, 'हिरण': 1, 'मुजरिम': 1, 'हैंदेखिये': 1, 'चिंतक': 1, 'देवराज': 1, 'भीमराव': 1, '‘रामजी’': 1, 'मचे': 1, 'उम्मीदवारी': 1, 'प्ले': 1, 'स्टोर': 1, 'चुपचाप': 1, 'प्लेस्टोर': 1, 'डिलीट': 1, 'भीमदेखिए': 1, 'फ़ेसबुक': 1, 'चुराकर': 1, 'मौसममंदिरमठलिंगायत': 1, 'नौवीं': 1, 'भागलपुर': 1, 'होंवहाँ': 1, 'रहेवह': 1, 'झिलमिलाता': 1, 'क्षितिज': 1, 'दियाआकाश': 1, 'डगर': 1, 'उजालों': 1, 'क़ाबिलियत': 1, 'शोहरत': 1, '‘दि': 1, 'एमएनएस': 1, 'खटक': 1, 'पल्टू': 1, 'पलटन': 1, 'दिलाएँ': 1, 'भारतदेखिए': 1, 'रहाहै': 1, 'माफ़ियाँ': 1, 'भूचाल': 1, 'मजिठिया': 1, 'तलाशअररिया': 1, 'होता': 1, 'फूलपुर': 1, 'उपचुनाव': 1, 'साथसपाबसपा': 1, 'महाट्रेलर': 1, 'लागातार': 1, 'केशवप्रसाद': 1, 'फुलपुर': 1, 'ख़ाली': 1, 'डिनर': 1, 'मांगें': 1, 'मरहम': 1, 'दुखों': 1, 'देवेंद्र': 1, 'नाचने': 1, 'ओले': 1, 'स्वराज': 1, 'धोया': 1, 'समाजवादीपार्टी': 1, 'बीजेपीवाले': 1, 'राजनीतिवाले': 1, 'अनु': 1, 'ऐपिसोड': 1, 'अबीरआसमान': 1, 'बिखरता': 1, 'गुलाल': 1, 'तांडवलाईव': 1, 'उपद्रवी': 1, 'गिराई': 1, 'ऑ\\u200dफ': 1, 'मंदिरदेखिए': 1, 'बुत': 1, 'जमींदोज': 1, '‘लाल': 1, 'सलाम’': 1, 'रॉकस्टार': 1, 'पहचाना': 1, 'स्लोगन': 1, 'बया': 1, 'आज़ान': 1, 'मोदीदिल्ली': 1, 'सीताराम': 1, 'येचुरी': 1, 'जाह्न्वी': 1, 'नार्थ': 1, 'इस्ट': 1, 'लेफ़्ट': 1, 'मुक्तये': 1, 'नागालैंड': 1, 'फूटा': 1, 'जलती': 1, 'गिरफ़्तारी': 1, 'चाँदनी': 1, 'नामचीन': 1, 'जितें': 1, 'चांदनीदेखिए': 1, 'कार्यक्र': 1, 'तोहफाशाम': 1, 'बजेदेखिए': 1, 'माथा': 1, 'फरवरीफटाफट': 1, 'उतारी': 1, 'गुनहगार': 1, 'पुड्डुचेरी': 1, 'रंगगुलाल': 1, 'बग्घी': 1, 'बरात': 1, 'दुल्हन': 1, 'आभास': 1, 'तोड़ी': 1, 'शर्तगंगा': 1, 'थप्पड़थप्पड़': 1, 'नाचते': 1, 'कलाकारी': 1, 'भँवर': 1, 'तुंद': 1, 'लहरों': 1, 'उलझोकहाँ': 1, 'चलोगे': 1, 'किनारेरज़ा': 1, 'हमदानी': 1, 'गयामाल्दा': 1, 'सरकारनौकरशाही': 1, 'निकालें': 1, 'चंपत': 1, 'ट्रांसफ़र': 1, 'नीरवनीरव': 1, 'बैंकिग': 1, 'तूतूमैंमैं': 1, 'रहेदेखें': 1, 'मालामालदेखें': 1, 'घोटालाबड़ी': 1, 'पीएनबी': 1, 'एनडीएदेखें': 1, 'महाघोटाले': 1, 'जिम्मेदारबड़ी': 1, 'मालामाल': 1, 'ज़ोर': 1, 'नारेबाज़ी': 1, 'स्टाफ़': 1, 'बंधक': 1, 'फ़ंडा': 1, 'नदवी': 1, 'थोप': 1, 'काजमी': 1, 'भावनाएं': 1, 'कजरारे': 1, 'पैगंबर': 1, 'रहमान': 1, 'इजात': 1, 'खतीजा': 1, 'शौकत': 1, 'रुबी': 1, 'अशरफ': 1, 'जनाजे': 1, 'जनाजा': 1, 'पाकिस्तानपरस्तों': 1, 'तमाचादेखें': 1, 'अशरफ़': 1, 'लिपटा': 1, '‘अशरफ़’': 1, 'नाग': 1, 'कुपवाड़ा': 1, '‘गुस्ताखियां’': 1, 'सब्सक्राइब': 1, 'वकार': 1, 'ग़मएजहाँ': 1, 'हिसाबआज': 1, 'तोदेखिए': 1, 'मंदिरमस्जिद': 1, 'विवाददेखिए': 1, 'हिंदूमुसलमान': 1, 'बेल': 1, 'रण': 1, 'वफादार': 1, 'कहोगे': 1, 'पाकिस्तानीदेखिए': 1, 'पैडमैन': 1, 'खिचवाते': 1, 'झिझक': 1, 'हटाते': 1, 'होंगेदेखिए': 1, 'पकोड़े': 1, 'तलेंगे': 1, 'कुंडू': 1, 'समूचा': 1, 'सलामदेखें': 1, 'क्योंदेखिए': 1, 'रामदेखिए': 1, 'भगवाभगवादेखिए': 1, 'राउंडटेबल': 1, 'ैसा': 1, 'चिप्स': 1, 'एकलआलू': 1, 'मुनाफ़ा': 1, 'परबजट': 1, 'बेहालदेखिए': 1, 'पार्ट': 1, 'सीखाएंगे': 1, '‘नए': 1, 'पाकिस्तान’': 1, 'अपोइंट': 1, 'सवालदेखिए': 1, 'समुदायों': 1, 'टक्करपूरा': 1, '्योरी': 1, 'दफ्न': 1, 'पहचानक': 1, 'प्रोफाइलिंग': 1, 'उपकरण': 1, 'जानकारियाँ': 1, 'जाएँगी': 1, 'हैरतअंगेज': 1, 'कारनामे': 1, 'बाइकर्स': 1, 'कहानीपूरा': 1, 'इतरा': 1, 'सप': 1, '“हम': 1, 'प्रहरी': 1, 'करतब': 1, 'उँचा': 1, 'लगीं': 1, 'दहलीज': 1, 'सुनिएयोगी': 1, 'देखीपर': 1, 'हैंये': 1, 'सेॉट्रल': 1, 'अलार्म': 1, 'बंधेगा': 1, 'सेहरापूरा': 1, 'घंटी': 1, 'ग़ौर': 1, 'वालोंकहां': 1, 'फौलाद': 1, 'कांपते': 1, 'लाता': 1, 'हैतिरंगा': 1, 'हैवंदे': 1, 'प्रदेशों': 1, 'कियाजानिए': 1, 'मोदीपरदेशकामूड': 1, 'अं': 1, 'सिनेमाघरों': 1, 'क़दर': 1, 'पद्मावतहल्लाबोल': 1, 'बताउंगी': 1, 'फसाद': 1, 'फोटू': 1, 'बॉबी': 1, 'देओल': 1, 'डीपी': 1, 'पहलवानदेखिए': 1, 'हानि': 1, 'बरसती': 1, 'पैंतरा': 1, 'बसाए': 1, 'इज़्ज़त': 1, 'पाकिस्तानियों': 1, 'बौछार': 1, 'वारदेखें': 1, 'खत्मदेखें': 1, 'दलील': 1, 'माँगें': 1, 'जजज़ला': 1, 'क्य़ा': 1, 'सक्सेस': 1, 'फॉर्मूला': 1, 'मौलानापूरा': 1, 'बानो': 1, 'गुप्ताओं': 1, 'अकड़ी': 1, 'दाढ़ियों': 1, 'टपक': 1, 'बुर्क़े': 1, 'शरीयत': 1, 'ज़ंजीरों': 1, 'खिलखिलाहट': 1, 'तानों': 1, 'बुलाए': 1, 'पीड़िताओं': 1, 'नोचना': 1, 'ताहिरा': 1, 'महासचि': 1, 'रायमशविरा': 1, 'दशकों': 1, 'कहाअन्य': 1, 'शाहबानो': 1, 'क्रिमिनल': 1, 'वैध': 1, 'फ़ैसले': 1, 'दियामोदी': 1, 'रुठ': 1, 'युवादेखिए': 1, 'करता': 1, 'सीएजी': 1, 'घमंड': 1, 'बहसगुजरात': 1, 'विधान': 1, 'जीरो': 1, 'हराना': 1, 'देखिएगुजरातहिमाचल': 1, 'सुननी': 1, 'पड़ेंगी': 1, 'वाहवाही': 1, 'चाहिये': 1, 'शंकायें': 1, 'निराकरण': 1, 'एग्जि\\u200dट': 1, 'हालपूरा': 1, 'टुकड़े': 1, 'दिलाया': 1, 'योग्यताओं': 1, 'रखतीं': 1, 'साथआज': 1, 'लगेगी': 1, 'नाँव': 1, 'ज़मीनी': 1, 'राजति': 1, 'पासादेखिये': 1, 'राजतिल': 1, 'बोलबालादेखिए': 1, 'सेल्फ': 1, 'फाइनेंसिंग': 1, 'निदान': 1, 'पूछें': 1, 'जु': 1, 'रूकावट': 1, 'सबसे': 1, 'पटेलों': 1, 'ठाकोर': 1, 'दिलाएगी': 1, 'निरोधक': 1, 'दस्ते': 1, 'संधिग्ध': 1, 'सोचता': 1, 'हर्षित': 1, 'झोंकी': 1, 'जन्मस्थली': 1, 'संतराम': 1, 'मोहभंग': 1, 'बेची': 1, 'चायवाला': 1, 'परिवारवाद': 1, 'पाटीदारों': 1, 'हैदेखिये': 1, 'कांग्': 1, 'कोये': 1, 'प्रवक्तावों': 1, 'अमिबेन': 1, 'याग्निक': 1, 'शर्ट': 1, 'गोपी': 1, 'मनि': 1, 'हीं': 1, 'कन्फ्यूज्ड': 1, 'विज़न': 1, 'पारिख': 1, 'कीकोई': 1, 'सूचकांक': 1, 'होगुजरात': 1, 'चनावों': 1, 'स्कोरबीजेपी': 1, 'कांग्रेइस': 1, 'लड्डू': 1, 'साथसीधे': 1, 'क्षत्राणियों': 1, 'ज़बरन': 1, 'फफककर': 1, 'पगड़ी': 1, 'अंग्रे': 1, 'मिस्टर': 1, 'भंसालीसेंसर': 1, 'फ़ेवरिट': 1, 'गैरसंवैधानिक': 1, 'माँग': 1, 'अफ़सोसनाक': 1, 'गाल': 1, 'क्रीम': 1, 'रगड़ने': 1, 'जोहर': 1, 'कुंड': 1, 'पद्मावतीपूरा': 1, 'सेनापूरा': 1, 'धमकीदेखिए': 1, '\\u200bके': 1, 'छुरियां': 1, 'प्रोमो': 1, 'अंदाज़ा': 1, 'छत्रपाल': 1, 'राठौड़': 1, 'फतवे': 1, 'रानियों': 1, 'फ़ारूक़': 1, 'ख़ून': 1, 'हाँथों': 1, 'चूड़ियाँ': 1, 'पहन': 1, 'समस्': 1, 'बातदेखिये': 1, 'फार्मूलादेखिये': 1, 'रामलला': 1, 'आऐंगेफ़ॉर्मूला': 1, 'बनाऐंगे': 1, 'अथ': 1, 'मंदिरदेखिये': 1, 'चिंदी': 1, 'रामभक्त': 1, 'इकबाल': 1, 'अपशब्दों': 1, 'आचार्य': 1, 'सतेन्द्र': 1, 'डेमोक्रेसी': 1, 'दीपांकर': 1, 'धर्मगुरु': 1, 'डरने': 1, 'युद्धया': 1, 'जिन्नदंगल': 1, 'तलाकतलाकतलाकदेखिये': 1, 'डरकर': 1, 'यारोकि': 1, 'यारोवसीम': 1, 'बरेलवी': 1, '‘निज़ाम’': 1, 'रश्के': 1, 'क़मर': 1, 'नारायण': 1, 'पहुँचिए': 1, 'जिगर': 1, 'जातियुद्ध': 1, 'नेताओें': 1, 'हवाबाज़ी': 1, 'धुंध': 1, 'हथेली': 1, 'परदेखिये': 1, 'भूलिएएक': 1, 'मुशायरा': 1, 'कान्क्लेव': 1, 'दिग्गी': 1, 'राहुलकेजरीवाल': 1, 'मेयर': 1, 'अंसार': 1, 'रज़ा': 1, 'भेजना': 1, 'संदर्भपीडी': 1, 'नॉरमल': 1, 'गंभीरता': 1, 'क्यूरेटर': 1, 'पांडूरंग': 1, 'सलगांवकर': 1, 'पुणे': 1, 'ज़मिंदोज़': 1, 'स्टिंग': 1, 'पॉलिटिक्स': 1, 'रोटीप्याज़': 1, 'जवाबलाइव': 1, 'अयोध्\\u200dया': 1, 'स्\\u200dथापित': 1, 'भव्\\u200dय': 1, 'प्रतिमादेखिये': 1, 'भारीहाथ': 1, 'मल': 1, 'फेमस': 1, 'गाएपूरा': 1, 'लिंगभेद': 1, 'सफ़ाई': 1, 'महाअभियानबढ़ाऐं': 1, 'स्वाभिमान': 1, 'पगला': 1, 'बब्बर': 1, 'विषयदेखिये': 1, 'नवीनीकरण': 1, 'शूरू': 1, 'शिवसेनालाईव': 1, 'मु्द्दे': 1, 'ट्रेनें': 1, 'मिलनी': 1, 'अग्निहोत्री': 1, 'मास्टमाइंड': 1, 'इस्माइल': 1, 'मुख्यालयों': 1, 'तहसीलों': 1, 'बु्न्देलखंड': 1, 'भगुवान': 1, 'उत्तराधिकार': 1, 'वंशावली': 1, 'योगीलाईव': 1, 'ज़फर': 1, 'साम्प्रदायिकता': 1, 'पाठ्यक्रमअन्य': 1, 'बाथरुम': 1, 'लीपापोती': 1, 'कोयंबटूर': 1, 'बॉडीगार्ड्स': 1, 'मुगलों': 1, 'रूसी': 1, 'पुतिन': 1, 'फार्महाउस': 1, 'इमरजेंसी': 1, 'रुस': 1, 'बहा': 1, 'सांप': 1, 'कैबिनेट': 1, 'किसकोकिसको': 1, 'बेतुका': 1, 'अंबाती': 1, 'रूडी': 1, 'मयूरभंज': 1, 'श्रवण': 1, 'बरसी': 1, 'मैले': 1, 'लॉकिंगपॉपिंग': 1, 'अय्याशी': 1, 'पेंसिल्वेनिया': 1, 'राजदारों': 1, 'बाबाबेटी': 1, 'पट्टी': 1, 'गेट्स': 1, 'हवाबाजी': 1, 'मझधार': 1, 'गिगलिंग': 1, 'चक्रवाती': 1, 'थियेटर': 1, 'सड़कें': 1, 'दरिया': 1, 'ट्रेनर': 1, 'झपटा': 1, 'सर्कस': 1, 'बॉलिबुड': 1, 'डेरे': 1, 'पलट': 1, 'रासलीला': 1, 'अय्याश': 1, 'अनोखे': 1, 'पायथन': 1, 'बलात्कारी': 1, 'अंधभक्त': 1, 'मुखौटा': 1, 'प्रणाली': 1, 'नज़ीर': 1, 'हैमहिलाओं': 1, 'बेनामी': 1, 'रखो': 1, 'फूकने': 1, 'समझदारी': 1, 'घुसपैठिया': 1, 'देखोदेखोदुनिया': 1, 'समोसा': 1, 'किलकारी': 1, 'फरीदकोट': 1, 'जानकर': 1, 'तड़पता': 1, 'मिलिट्री': 1, 'संजूमान्यता': 1, 'घटी': 1, 'उदेपुर': 1, 'पंडाल': 1, 'डॉक्टर्स': 1, 'जमशेदपुर': 1, 'तड़पाया': 1, 'टकराएगी': 1, 'ऐलानएहिंसा': 1, 'हिंसक': 1, 'क्याक्या': 1, 'खत्मबौखलाए': 1, 'रहेअर्ज़': 1, 'हैकभी': 1, 'बहलाया': 1, 'हैजिन': 1, 'औरों': 1, 'समझाया': 1, 'शशिकला': 1, 'मुजफ्फरनगर': 1, 'मातम': 1, 'डिस्को': 1, 'फिसला': 1, 'मैनें': 1, 'प्यासा': 1, 'हरियाणवी': 1, 'रणदीप': 1, 'अलवर': 1, 'गांवाले': 1, 'दुलारा': 1, 'कुर्सीपलट': 1, 'लेखपाल': 1, 'घूसखोरी': 1, 'जीतेगा': 1, 'बेलनी': 1, 'रोटियां': 1, 'आराध्या': 1, 'फहराते': 1, 'दुश्मनी': 1, 'निकाली': 1, 'मिडनाइट': 1, 'क़िले': 1, 'दीवारें': 1, 'नहींइसमें': 1, 'सुर्ख़': 1, 'लहु': 1, 'मतवालों': 1, 'काइस': 1, 'बुनियाद': 1, 'संत्री': 1, 'मेज़': 1, 'सेपूछो': 1, 'किसपर': 1, 'परबच्चों': 1, 'सांसें': 1, 'छटपटा': 1, 'थींहत्यारों': 1, 'खनक': 1, 'ब्रेन': 1, 'डेड': 1, 'दीप्ति': 1, 'घनघोर': 1, 'जींद': 1, 'सीवर': 1, 'बक्सर': 1, 'जातेजाते': 1, 'हैउसकी': 1, 'व्याख्या': 1, 'रिवर्स': 1, 'गियर': 1, 'मैक्सिको': 1, 'मगरमच्छ': 1, 'आशिक': 1, 'किम': 1, 'जोंग': 1, 'हाथरस': 1, 'अक्षर': 1, 'लॉटरी': 1, 'कुदरत': 1, 'देहरादून': 1, 'बसबस': 1, 'रिसोर्टरिसोर्ट': 1, 'नाजों': 1, 'महाशयों': 1, 'मदारियों': 1, 'ब्रैडमैन': 1, 'नाता': 1, 'ब्लॉन्ड': 1, 'हेयर': 1, 'ट्रोल': 1, 'जैकलीन': 1, 'जवांदिल': 1, 'खेलेसिला': 1, 'स्वाहापत्थरबाज़ों': 1, 'दुजाना': 1, 'आतंकियोंइस': 1, 'रद्दी': 1, 'इकठ्ठे': 1, 'टॉर्चर': 1, 'अंजू': 1, 'इमोजी': 1, 'बर्थडे': 1, '‘एप्पल’': 1, 'गिफ्ट': 1, 'ख़बरें': 1, 'पाइए': 1, 'लेटेस्ट': 1, 'अररियाबिहार': 1, 'परवाहा': 1, '्ष': 1, 'नंदलाल': 1, 'साह': 1, 'सू': 1, 'गृहनगर': 1, 'गयाअन्य': 1, 'पाइप': 1, 'पिटाईअन्य': 1, 'भए': 1, 'भड़काई': 1, 'भटकेगा': 1, 'बोलूँगामुझको': 1, 'खटकेगा': 1, 'बोलूँगासच': 1, 'टेढ़ा': 1, 'हैजहाँजहाँ': 1, 'अटकेगा': 1, 'नीमचपूरा': 1, 'कबकब': 1, 'टॉपर': 1, 'देगीअन्य': 1, 'प्लाजा': 1, 'सिखातेसिखाते': 1, 'लगेअन्य': 1, 'औरतों': 1, 'चढ़ना': 1, 'गोवध': 1, 'विरोधियों': 1, 'ठहाकेअन्य': 1, 'आऐंगे': 1, 'सिंहआजतक': 1, 'पटखनी': 1, 'डोगरा': 1, 'राजनयिक': 1, 'तलत': 1, 'पिछड़ापन': 1, 'बुर्का': 1, 'वित्तमंत्री': 1, 'महिलाऐं': 1, 'दलीललाईव': 1, 'युनिफार्म': 1, 'कोड': 1, 'लियाये': 1, 'सड़को': 1, 'सिखों': 1, 'कत्लेआम': 1, 'दासी': 1, 'औरतो': 1, 'उठानी': 1, 'सिब्बल': 1, 'सती': 1, 'छुआछूत': 1, 'कहलाएगा': 1, 'हुकूमत': 1, 'कॉन्ट्रैक्ट': 1, 'जन्मजन्म': 1, 'हरीश': 1, 'साल्वे': 1, 'गैरकानूनी': 1, 'पक्षहमारा': 1, 'सचकुलभूषण': 1, 'बचाऐगा': 1, 'स्वा': 1, 'अपराधमुक्त': 1, 'खरे': 1, 'उतरेंगे': 1, 'सभ्यता': 1, 'मेंलाइव': 1, 'भोलेनाथ': 1, 'सशक्तिकरण': 1, 'हैलोगों': 1, 'अपेक्षाएं': 1, 'हैलाइवस्ट्रीम': 1, 'ब्यूरोक्रेसी': 1, 'सूर्यप्रताप': 1, 'शाहीलाइवस्ट्रीम': 1, 'घंंटा': 1, 'छुड़ाए': 1, 'लड़केलड़कियों': 1, 'पसीने': 1, 'ऋणमाफी': 1, 'बूचड़खाना': 1, 'उपमुख्य': 1, 'रहालाइवस्ट्रीम': 1, 'गौरक्षा': 1, 'गौवंश': 1, '़ापिछड़ादलित': 1, 'गोलमोल': 1, 'देखेंबुरहान': 1, 'अमानतुल्ला': 1, 'पहनावा': 1, 'अक्ल': 1, 'पिलाया': 1, 'परमजीत': 1, 'हुएलाइव': 1, 'विलाप': 1, 'तैयारउसे': 1, 'मुल्कअनंत': 1, 'सिसकियों': 1, 'शहीदी': 1, 'आंसुओं': 1, 'भीगी': 1, 'गदगद': 1, 'नकाराअाजतक': 1, 'नीतीजों': 1, 'अपसेटदेखिए': 1, 'चुनावदेखिए': 1, 'फीताशाही': 1, 'हनक': 1, 'यह': 1, 'स्वागतयोग्य': 1, 'गायकवाड़': 1, 'गायकवाड': 1, 'हैनिकालना': 1, 'झग': 1, 'मुंडन': 1, 'मुश्ताक': 1, 'मंज़ूर': 1, 'चुराएंगे': 1, 'जांबाजों': 1, 'सुनिएअन्य': 1, 'पायेगा': 1, 'सेठना': 1, 'गिरेबान': 1, 'ज़मानत': 1, 'वाहिनी': 1, 'गुंडागर्दीअन्य': 1, 'रुकवा': 1, 'काफिला': 1, 'डायल': 1, 'रंगीन': 1, 'होगीअन्य': 1, 'एडवेंचरस': 1, 'नारेबाजीअन्य': 1, 'सच्ची': 1, 'कहानीअन्य': 1, 'शुक्ला': 1, 'छिड़ा': 1, 'थायुवा': 1, 'कियाछाती': 1, 'ओमार': 1, 'अब्दुलाऊंची': 1, 'क़ब्र': 1, 'खोदने': 1, 'चीख़': 1, 'रोंगटे': 1, 'मज़ेदार': 1, 'टोटकेअन्य': 1, 'बंदअन्य': 1, 'अज़ीज़': 1, 'अभिनन्दन': 1, 'तैसी': 1, 'फेरी': 1, 'मुशर्रफ़': 1, 'पेशावर': 1, 'बडीया': 1, 'ऐक': 1, 'सवास': 1, 'येतो': 1, 'बोखलागएहमारा': 1, 'बेहतरीनगर्व': 1, 'हकलाना': 1, 'एक्सक्लूसिवपेशावर': 1, 'जाएगाअन्य': 1, 'धूमधड़ाकाअन्य': 1, 'विशालकाय': 1, 'दर्शनअन्य': 1, 'दर्दभरी': 1})\n"
          ]
        }
      ]
    },
    {
      "cell_type": "markdown",
      "source": [
        "# Function to set us up for training and evaluating the model"
      ],
      "metadata": {
        "id": "xr_Hukj7fZNr"
      }
    },
    {
      "cell_type": "code",
      "source": [
        "#Function to train and predict LLM models\n",
        "\n",
        "def model_training(mdl, type, train_df, test_df):\n",
        "  # set use_cuda=False on CPU-only platforms\n",
        "  mdl = ClassificationModel('roberta', type, num_labels=3, use_cuda=True, args={\n",
        "    'reprocess_input_data': True,\n",
        "    'use_cached_eval_features': False,\n",
        "    'overwrite_output_dir': True,\n",
        "    'num_train_epochs': 5,\n",
        "    'silent': True\n",
        "  })\n",
        "  \n",
        "  mdl.train_model(train_df)\n",
        "\n",
        "  # Evaluation df\n",
        "  eval_frame = test_df\n",
        "\n",
        "  # Checking for bad predictions\n",
        "  result, model_outputs, wrong_predictions = mdl.eval_model(eval_frame)\n",
        "  bads = {}\n",
        "  for pred in wrong_predictions:\n",
        "      if pred.label in bads:\n",
        "          bads[pred.label] += 1\n",
        "      else:\n",
        "          bads[pred.label] = 1\n",
        "  print(\"wrong predictions\")\n",
        "  print(str(len(wrong_predictions)) + ' wrong out of ' + str(len(eval_frame)))\n",
        "  print(bads)\n",
        "\n",
        "  return eval_frame, mdl"
      ],
      "metadata": {
        "id": "Li1a02P-UX_e"
      },
      "execution_count": 117,
      "outputs": []
    },
    {
      "cell_type": "code",
      "source": [
        "# Evaluating upon models\n",
        "def evaluate_model(mdl, eval_df):\n",
        "  # List eval for \n",
        "  list_eval = eval_df['review'].to_list()\n",
        "\n",
        "  # Making predicitons\n",
        "  predictions, raw_outputs = mdl.predict(list_eval)\n",
        "\n",
        "  # Evaluating the model output\n",
        "  targets = eval_df['sentiment'].to_list()\n",
        "  accuracy = metrics.accuracy_score(targets, predictions)\n",
        "\n",
        "  return accuracy, targets, predictions"
      ],
      "metadata": {
        "id": "ZX68ePHSdIP7"
      },
      "execution_count": null,
      "outputs": []
    },
    {
      "cell_type": "code",
      "source": [
        "def confusion_mtx(act,pred):\n",
        "  #compute the confusion matrix.\n",
        "  cm = confusion_matrix(act,pred)\n",
        "\n",
        "  #tn, fp, fn, tp = cm.ravel()\n",
        "  # Calculate sensitivity and specificity\n",
        "  sensitivity = cm[0,0]/(cm[0,0]+cm[0,1])\n",
        "  specificity = cm[1,1]/(cm[1,0]+cm[1,1])\n",
        "\n",
        "  print(\"Sensitivity score of the model:\", sensitivity)\n",
        "  print(\"Specificity score of the model:\", specificity)\n",
        "  print(\"\\n\")\n",
        "\n",
        "  #Plot the confusion matrix.\n",
        "  sns.heatmap(cm,\n",
        "              annot=True,\n",
        "              fmt='g',\n",
        "              xticklabels=['Positive','Negative'],\n",
        "              yticklabels=['Positive','Negative'])\n",
        "  plt.ylabel('Prediction',fontsize=13)\n",
        "  plt.xlabel('Actual',fontsize=13)\n",
        "  plt.title('Confusion Matrix',fontsize=17)\n",
        "  plt.show()\n"
      ],
      "metadata": {
        "id": "1QBjm-MN9mxt"
      },
      "execution_count": 113,
      "outputs": []
    },
    {
      "cell_type": "code",
      "source": [
        "def roc_auc_score_multiclass(actual_class, pred_class, average = \"macro\"): \n",
        "    #creating a set of all the unique classes using the actual class list\n",
        "    unique_class = set(actual_class)\n",
        "    roc_auc_dict = {}\n",
        "    for per_class in unique_class:\n",
        "        \n",
        "        #creating a list of all the classes except the current class \n",
        "        other_class = [x for x in unique_class if x != per_class]\n",
        "\n",
        "        #marking the current class as 1 and all other classes as 0\n",
        "        new_actual_class = [0 if x in other_class else 1 for x in actual_class]\n",
        "        new_pred_class = [0 if x in other_class else 1 for x in pred_class]\n",
        "\n",
        "        #using the sklearn metrics method to calculate the roc_auc_score\n",
        "        roc_auc = roc_auc_score(new_actual_class, new_pred_class, average = average)\n",
        "        roc_auc_dict[per_class] = roc_auc\n",
        "\n",
        "    return roc_auc_dict"
      ],
      "metadata": {
        "id": "7LYZLOq8O2ly"
      },
      "execution_count": 79,
      "outputs": []
    },
    {
      "cell_type": "markdown",
      "metadata": {
        "id": "01tI2zGZ0mdd"
      },
      "source": [
        "## mBERT"
      ]
    },
    {
      "cell_type": "markdown",
      "source": [
        "### For hi_3500.csv dataset"
      ],
      "metadata": {
        "id": "kM3MBOckRs73"
      }
    },
    {
      "cell_type": "code",
      "source": [
        "eval_frame_mbert, mdl_mbert = model_training('mbert', 'bert-base-multilingual-uncased', train, test)"
      ],
      "metadata": {
        "colab": {
          "base_uri": "https://localhost:8080/"
        },
        "id": "-Cto9M7hV6RH",
        "outputId": "50b37bb3-bcba-402e-c7b2-3a7239cdad25"
      },
      "execution_count": null,
      "outputs": [
        {
          "output_type": "stream",
          "name": "stderr",
          "text": [
            "Some weights of the model checkpoint at bert-base-multilingual-uncased were not used when initializing BertForSequenceClassification: ['cls.predictions.transform.dense.bias', 'cls.predictions.transform.LayerNorm.weight', 'cls.predictions.transform.dense.weight', 'cls.seq_relationship.weight', 'cls.predictions.decoder.weight', 'cls.predictions.transform.LayerNorm.bias', 'cls.predictions.bias', 'cls.seq_relationship.bias']\n",
            "- This IS expected if you are initializing BertForSequenceClassification from the checkpoint of a model trained on another task or with another architecture (e.g. initializing a BertForSequenceClassification model from a BertForPreTraining model).\n",
            "- This IS NOT expected if you are initializing BertForSequenceClassification from the checkpoint of a model that you expect to be exactly identical (initializing a BertForSequenceClassification model from a BertForSequenceClassification model).\n",
            "Some weights of BertForSequenceClassification were not initialized from the model checkpoint at bert-base-multilingual-uncased and are newly initialized: ['classifier.weight', 'classifier.bias']\n",
            "You should probably TRAIN this model on a down-stream task to be able to use it for predictions and inference.\n",
            "/usr/local/lib/python3.9/dist-packages/simpletransformers/classification/classification_model.py:612: UserWarning: Dataframe headers not specified. Falling back to using column 0 as text and column 1 as labels.\n",
            "  warnings.warn(\n",
            "/usr/local/lib/python3.9/dist-packages/simpletransformers/classification/classification_model.py:1454: UserWarning: Dataframe headers not specified. Falling back to using column 0 as text and column 1 as labels.\n",
            "  warnings.warn(\n"
          ]
        },
        {
          "output_type": "stream",
          "name": "stdout",
          "text": [
            "wrong predictions\n",
            "467 wrong out of 2270\n",
            "{2: 222, 0: 196, 1: 49}\n"
          ]
        }
      ]
    },
    {
      "cell_type": "code",
      "source": [
        "accuracy_mbert, targets_mbert, predictions_mbert = evaluate_model(mdl_mbert, eval_frame_mbert)"
      ],
      "metadata": {
        "id": "UQF-CzLleho2"
      },
      "execution_count": null,
      "outputs": []
    },
    {
      "cell_type": "code",
      "source": [
        "print(\"Accuracy of trianing mbert is:\", accuracy_mbert)\n",
        "print(\"Classification report for mbert:\", metrics.classification_report(targets_mbert, predictions_mbert))\n",
        "#print(\"ROC AUC Curve score:\",metrics.roc_auc_score(targets_mbert, predictions_mbert))"
      ],
      "metadata": {
        "colab": {
          "base_uri": "https://localhost:8080/"
        },
        "id": "bmLboSKAWqOy",
        "outputId": "7758e503-12fc-4e10-d877-5c93e2ff65b4"
      },
      "execution_count": null,
      "outputs": [
        {
          "output_type": "stream",
          "name": "stdout",
          "text": [
            "Accuracy of trianing mbert is: 0.7942731277533039\n",
            "Classification report for mbert:               precision    recall  f1-score   support\n",
            "\n",
            "           0       0.77      0.75      0.76       797\n",
            "           1       0.88      0.93      0.90       661\n",
            "           2       0.75      0.73      0.74       812\n",
            "\n",
            "    accuracy                           0.79      2270\n",
            "   macro avg       0.80      0.80      0.80      2270\n",
            "weighted avg       0.79      0.79      0.79      2270\n",
            "\n"
          ]
        }
      ]
    },
    {
      "cell_type": "code",
      "source": [
        "# ROC-AUC score\n",
        "roc_auc_score_multiclass(targets_mbert, predictions_mbert)"
      ],
      "metadata": {
        "id": "F-Oh3Q0LH6YT",
        "colab": {
          "base_uri": "https://localhost:8080/"
        },
        "outputId": "c58a7606-1cfd-4e55-9842-6851c4a25b96"
      },
      "execution_count": 80,
      "outputs": [
        {
          "output_type": "execute_result",
          "data": {
            "text/plain": [
              "{0: 0.8149207695865607, 1: 0.9371425293992097, 2: 0.794370451458574}"
            ]
          },
          "metadata": {},
          "execution_count": 80
        }
      ]
    },
    {
      "cell_type": "code",
      "source": [
        "# Confusion matrix\n",
        "confusion_mtx(targets_mbert, predictions_mbert)"
      ],
      "metadata": {
        "colab": {
          "base_uri": "https://localhost:8080/",
          "height": 552
        },
        "id": "s4NI_8huDAql",
        "outputId": "3f83a214-d35a-4bde-c588-8be79310613f"
      },
      "execution_count": 114,
      "outputs": [
        {
          "output_type": "stream",
          "name": "stdout",
          "text": [
            "Sensitivity score of the model: 0.9509493670886076\n",
            "Specificity score of the model: 0.9792\n",
            "\n",
            "\n"
          ]
        },
        {
          "output_type": "display_data",
          "data": {
            "text/plain": [
              "<Figure size 640x480 with 2 Axes>"
            ],
            "image/png": "[encoded data removed]"
          },
          "metadata": {}
        }
      ]
    },
    {
      "cell_type": "code",
      "source": [],
      "metadata": {
        "id": "-0gBaRhQV2jE"
      },
      "execution_count": null,
      "outputs": []
    },
    {
      "cell_type": "markdown",
      "metadata": {
        "id": "Hv1bhXGCigkY"
      },
      "source": [
        "79.5% Accuracy, 3 epochs, mBERT\n",
        "\n",
        "80.1-80.2% Accuracy, 4 epochs, mBERT; 80.5% @ 5 epochs"
      ]
    },
    {
      "cell_type": "markdown",
      "source": [
        "### For IITP - Movie dataset"
      ],
      "metadata": {
        "id": "2G_E3M5OR9Su"
      }
    },
    {
      "cell_type": "code",
      "source": [
        "eval_iitm_mbert, mdl_iitm_mbert = model_training('mbert_iitm', 'bert-base-multilingual-uncased', train_iitm, test_iitm)"
      ],
      "metadata": {
        "colab": {
          "base_uri": "https://localhost:8080/"
        },
        "id": "OZBAb87Vf2qC",
        "outputId": "202769ef-7a97-496e-9e05-f29abe148913"
      },
      "execution_count": null,
      "outputs": [
        {
          "output_type": "stream",
          "name": "stderr",
          "text": [
            "Some weights of the model checkpoint at bert-base-multilingual-uncased were not used when initializing BertForSequenceClassification: ['cls.predictions.transform.dense.weight', 'cls.predictions.transform.LayerNorm.bias', 'cls.predictions.bias', 'cls.seq_relationship.bias', 'cls.predictions.transform.LayerNorm.weight', 'cls.predictions.transform.dense.bias', 'cls.seq_relationship.weight', 'cls.predictions.decoder.weight']\n",
            "- This IS expected if you are initializing BertForSequenceClassification from the checkpoint of a model trained on another task or with another architecture (e.g. initializing a BertForSequenceClassification model from a BertForPreTraining model).\n",
            "- This IS NOT expected if you are initializing BertForSequenceClassification from the checkpoint of a model that you expect to be exactly identical (initializing a BertForSequenceClassification model from a BertForSequenceClassification model).\n",
            "Some weights of BertForSequenceClassification were not initialized from the model checkpoint at bert-base-multilingual-uncased and are newly initialized: ['classifier.bias', 'classifier.weight']\n",
            "You should probably TRAIN this model on a down-stream task to be able to use it for predictions and inference.\n",
            "/usr/local/lib/python3.9/dist-packages/simpletransformers/classification/classification_model.py:612: UserWarning: Dataframe headers not specified. Falling back to using column 0 as text and column 1 as labels.\n",
            "  warnings.warn(\n",
            "/usr/local/lib/python3.9/dist-packages/simpletransformers/classification/classification_model.py:1454: UserWarning: Dataframe headers not specified. Falling back to using column 0 as text and column 1 as labels.\n",
            "  warnings.warn(\n"
          ]
        },
        {
          "output_type": "stream",
          "name": "stdout",
          "text": [
            "wrong predictions\n",
            "320 wrong out of 620\n",
            "{0: 105, 1: 169, 2: 46}\n"
          ]
        }
      ]
    },
    {
      "cell_type": "code",
      "source": [
        "accuracy_iitm_mbert, targets_iitm_mbert, predictions_iitm_mbert = evaluate_model(mdl_iitm_mbert, eval_iitm_mbert)"
      ],
      "metadata": {
        "id": "5mMwzGHcf9qj"
      },
      "execution_count": null,
      "outputs": []
    },
    {
      "cell_type": "code",
      "source": [
        "print(\"Accuracy of trianing mbert is:\", accuracy_iitm_mbert)\n",
        "print(\"Classification report for mbert:\",metrics.classification_report(targets_iitm_mbert, predictions_iitm_mbert))\n",
        "#print(\"ROC AUC Curve score:\",metrics.roc_auc_cruve(targets_iitm_mbert, predictions_iitm_mbert))"
      ],
      "metadata": {
        "colab": {
          "base_uri": "https://localhost:8080/"
        },
        "id": "SOrKEyo4f_06",
        "outputId": "3a8b18da-afd8-429f-a597-cdc0536e25ea"
      },
      "execution_count": null,
      "outputs": [
        {
          "output_type": "stream",
          "name": "stdout",
          "text": [
            "Accuracy of trianing mbert is: 0.4838709677419355\n",
            "Classification report for mbert:               precision    recall  f1-score   support\n",
            "\n",
            "           0       0.50      0.45      0.47       191\n",
            "           1       0.00      0.00      0.00       169\n",
            "           2       0.48      0.82      0.60       260\n",
            "\n",
            "    accuracy                           0.48       620\n",
            "   macro avg       0.33      0.42      0.36       620\n",
            "weighted avg       0.35      0.48      0.40       620\n",
            "\n"
          ]
        },
        {
          "output_type": "stream",
          "name": "stderr",
          "text": [
            "/usr/local/lib/python3.9/dist-packages/sklearn/metrics/_classification.py:1344: UndefinedMetricWarning: Precision and F-score are ill-defined and being set to 0.0 in labels with no predicted samples. Use `zero_division` parameter to control this behavior.\n",
            "  _warn_prf(average, modifier, msg_start, len(result))\n",
            "/usr/local/lib/python3.9/dist-packages/sklearn/metrics/_classification.py:1344: UndefinedMetricWarning: Precision and F-score are ill-defined and being set to 0.0 in labels with no predicted samples. Use `zero_division` parameter to control this behavior.\n",
            "  _warn_prf(average, modifier, msg_start, len(result))\n",
            "/usr/local/lib/python3.9/dist-packages/sklearn/metrics/_classification.py:1344: UndefinedMetricWarning: Precision and F-score are ill-defined and being set to 0.0 in labels with no predicted samples. Use `zero_division` parameter to control this behavior.\n",
            "  _warn_prf(average, modifier, msg_start, len(result))\n"
          ]
        }
      ]
    },
    {
      "cell_type": "markdown",
      "source": [
        "### For IITP - Product dataset"
      ],
      "metadata": {
        "id": "4zSa8-tbfqa_"
      }
    },
    {
      "cell_type": "code",
      "source": [
        "eval_iitp_mbert, mdl_iitp_mbert = model_training('mbert_iitp', 'bert-base-multilingual-uncased', train_iitp, test_iitp)"
      ],
      "metadata": {
        "colab": {
          "base_uri": "https://localhost:8080/"
        },
        "id": "dgT1FWcofr2p",
        "outputId": "1d55c14a-d229-4a69-c89e-d4996c9d65a9"
      },
      "execution_count": null,
      "outputs": [
        {
          "output_type": "stream",
          "name": "stderr",
          "text": [
            "Some weights of the model checkpoint at bert-base-multilingual-uncased were not used when initializing BertForSequenceClassification: ['cls.predictions.transform.dense.weight', 'cls.predictions.transform.LayerNorm.bias', 'cls.predictions.bias', 'cls.seq_relationship.bias', 'cls.predictions.transform.LayerNorm.weight', 'cls.predictions.transform.dense.bias', 'cls.seq_relationship.weight', 'cls.predictions.decoder.weight']\n",
            "- This IS expected if you are initializing BertForSequenceClassification from the checkpoint of a model trained on another task or with another architecture (e.g. initializing a BertForSequenceClassification model from a BertForPreTraining model).\n",
            "- This IS NOT expected if you are initializing BertForSequenceClassification from the checkpoint of a model that you expect to be exactly identical (initializing a BertForSequenceClassification model from a BertForSequenceClassification model).\n",
            "Some weights of BertForSequenceClassification were not initialized from the model checkpoint at bert-base-multilingual-uncased and are newly initialized: ['classifier.bias', 'classifier.weight']\n",
            "You should probably TRAIN this model on a down-stream task to be able to use it for predictions and inference.\n",
            "/usr/local/lib/python3.9/dist-packages/simpletransformers/classification/classification_model.py:612: UserWarning: Dataframe headers not specified. Falling back to using column 0 as text and column 1 as labels.\n",
            "  warnings.warn(\n",
            "/usr/local/lib/python3.9/dist-packages/simpletransformers/classification/classification_model.py:1454: UserWarning: Dataframe headers not specified. Falling back to using column 0 as text and column 1 as labels.\n",
            "  warnings.warn(\n"
          ]
        },
        {
          "output_type": "stream",
          "name": "stdout",
          "text": [
            "wrong predictions\n",
            "520 wrong out of 1046\n",
            "{1: 333, 0: 151, 2: 36}\n"
          ]
        }
      ]
    },
    {
      "cell_type": "code",
      "source": [
        "accuracy_iitp_mbert, targets_iitp_mbert, predictions_iitp_mbert = evaluate_model(mdl_iitp_mbert, eval_iitp_mbert)"
      ],
      "metadata": {
        "id": "H3CHMHMefr5A"
      },
      "execution_count": null,
      "outputs": []
    },
    {
      "cell_type": "code",
      "source": [
        "print(\"Accuracy of trianing mbert is:\", accuracy_iitp_mbert)\n",
        "print(\"Classification report for mbert:\",metrics.classification_report(targets_iitp_mbert, predictions_iitp_mbert))\n",
        "#print(\"ROC AUC Curve score:\",metrics.roc_auc_cruve(targets_iitm_mbert, predictions_iitm_mbert))"
      ],
      "metadata": {
        "colab": {
          "base_uri": "https://localhost:8080/"
        },
        "id": "G5cNdpdJfr62",
        "outputId": "b4e94cea-2d5b-4732-d69f-1fa7d14350e7"
      },
      "execution_count": null,
      "outputs": [
        {
          "output_type": "stream",
          "name": "stdout",
          "text": [
            "Accuracy of trianing mbert is: 0.502868068833652\n",
            "Classification report for mbert:               precision    recall  f1-score   support\n",
            "\n",
            "           0       0.00      0.00      0.00       151\n",
            "           1       0.72      0.26      0.38       451\n",
            "           2       0.46      0.92      0.62       444\n",
            "\n",
            "    accuracy                           0.50      1046\n",
            "   macro avg       0.39      0.39      0.33      1046\n",
            "weighted avg       0.51      0.50      0.43      1046\n",
            "\n"
          ]
        },
        {
          "output_type": "stream",
          "name": "stderr",
          "text": [
            "/usr/local/lib/python3.9/dist-packages/sklearn/metrics/_classification.py:1344: UndefinedMetricWarning: Precision and F-score are ill-defined and being set to 0.0 in labels with no predicted samples. Use `zero_division` parameter to control this behavior.\n",
            "  _warn_prf(average, modifier, msg_start, len(result))\n",
            "/usr/local/lib/python3.9/dist-packages/sklearn/metrics/_classification.py:1344: UndefinedMetricWarning: Precision and F-score are ill-defined and being set to 0.0 in labels with no predicted samples. Use `zero_division` parameter to control this behavior.\n",
            "  _warn_prf(average, modifier, msg_start, len(result))\n",
            "/usr/local/lib/python3.9/dist-packages/sklearn/metrics/_classification.py:1344: UndefinedMetricWarning: Precision and F-score are ill-defined and being set to 0.0 in labels with no predicted samples. Use `zero_division` parameter to control this behavior.\n",
            "  _warn_prf(average, modifier, msg_start, len(result))\n"
          ]
        }
      ]
    },
    {
      "cell_type": "code",
      "source": [],
      "metadata": {
        "id": "-x2U0eL6fr84"
      },
      "execution_count": null,
      "outputs": []
    },
    {
      "cell_type": "markdown",
      "metadata": {
        "id": "oACJMOWd0ptu"
      },
      "source": [
        "## Hindi-TPU-Electra"
      ]
    },
    {
      "cell_type": "markdown",
      "source": [
        "### For hi_3500.csv dataset"
      ],
      "metadata": {
        "id": "xj5HQxVzrd2n"
      }
    },
    {
      "cell_type": "code",
      "source": [
        "eval_frame_tpu_electra, mdl_tpu_electra = model_training('tpu_electra', 'monsoon-nlp/hindi-tpu-electra', train, test)"
      ],
      "metadata": {
        "colab": {
          "base_uri": "https://localhost:8080/",
          "height": 536,
          "referenced_widgets": [
            "ae67aae032274ad2b0624fe044900441",
            "2155a29bb70c461bade5e43d891e726e",
            "cd5804f3db6c4bc8ac1dafe971b6ed9b",
            "737d7889a4f6471aaf942a73bf1c859e",
            "f61fb9e7d0bb454aacb6cbd9b9e6f140",
            "fa2981212d494b25949e5a6789ffceda",
            "1b2ed293ac48407a91d657966b554bde",
            "50cd51af5f94434d974556264c5d7f08",
            "9d3834218a424d08ac165aef1f40ec6f",
            "8f98b528b9ef4ae89afc2be54a7fa98e",
            "d76113408c6c4156be0d31ff890824e9",
            "d6ebe4a866ab48ce97f8b80fe4bdae7e",
            "2c8fcdcbb09748b28f16f72ec30dfab0",
            "d764b353c6ec42d6b62a1ffa3185c966",
            "1e3660a463704ce78095fe69238857ba",
            "96078b739f83495db2bc3a334383d451",
            "06b62cdee05e49f78c30757e8bdf69ca",
            "5186fd59d178447e9649ea4103fff706",
            "6e90a2887f7a4d9bba53836498242669",
            "d6d9055576124b6584b52315a62fe746",
            "f1d9806140084d9d8cc12af94d18e523",
            "8e43d8d2a13f49988df516097d26df56",
            "4669f42634f14d2d9f25df6e07c6f4b4",
            "7760d0fbe86f4b61af9e6c89efad1050",
            "37aeb56673d0415b9b48159c156c1eff",
            "01489fbbace047babedc4a100dbda864",
            "2ea19ea818344da9a4fac278c3e73612",
            "1a0ba9acae4e4c31b6703bc5c779d306",
            "9913b76424f84e88986d6c58c69a5c0b",
            "ba8e00beeceb49f1bc36005bc36ced5b",
            "95daceacf5214f09a72eb860756aef63",
            "2e818a6c7f6d477b84650c2f1fd3b311",
            "6248b01f30504e7ebc896caaeadaa922",
            "6529a786dc834f32813251dd0888809b",
            "73bbb4c39f274488900a239463ae02f8",
            "c072abe8ef75448f93c25fa5ac36d0f2",
            "0fe022706c254c649fec702534e547f3",
            "828d2aecefc94a1d91df296d9410f3f4",
            "5c1005f69f7f48918ce02f59b22f01f6",
            "28293170040f4c049cace40ffc85ab03",
            "674a8aaa84b142978fec890d386d78f4",
            "10ceccd2145b477b945dccf389dab6d3",
            "c07a0b1618b04fadafd087c6d5351699",
            "f540c6b31c254ec9bf6a540da4e47d9e",
            "b812a83474674735822875493b23583a",
            "0d4de210be0843b2aee244acd4f4e010",
            "27ff9beac394493a816586127b5bb03d",
            "e2153f05a14a43da9206093355be4dc5",
            "7440446b59cf4be5b749f3d2bdeb8246",
            "01386cefb0a847bcb0bb3594729f1e7b",
            "2260fb2831e645c0a4515d6111abd676",
            "d9b556ae9a0545d6914026ba57f031f8",
            "8e8fdd99b01f495993616f970cc9aa94",
            "a7fe40aa6fcb49ed8ebe6f00686128a3",
            "7daadb278b344efb9b6cfcf8934c6dfb"
          ]
        },
        "outputId": "0a5c64fe-4bf3-4bc0-827a-9b5b9f2ad55f",
        "id": "5AQOzSAvrd2t"
      },
      "execution_count": 81,
      "outputs": [
        {
          "output_type": "display_data",
          "data": {
            "text/plain": [
              "Downloading (…)lve/main/config.json:   0%|          | 0.00/736 [00:00<?, ?B/s]"
            ],
            "application/vnd.jupyter.widget-view+json": {
              "version_major": 2,
              "version_minor": 0,
              "model_id": "ae67aae032274ad2b0624fe044900441"
            }
          },
          "metadata": {}
        },
        {
          "output_type": "stream",
          "name": "stderr",
          "text": [
            "You are using a model of type electra to instantiate a model of type bert. This is not supported for all configurations of models and can yield errors.\n"
          ]
        },
        {
          "output_type": "display_data",
          "data": {
            "text/plain": [
              "Downloading pytorch_model.bin:   0%|          | 0.00/466M [00:00<?, ?B/s]"
            ],
            "application/vnd.jupyter.widget-view+json": {
              "version_major": 2,
              "version_minor": 0,
              "model_id": "d6ebe4a866ab48ce97f8b80fe4bdae7e"
            }
          },
          "metadata": {}
        },
        {
          "output_type": "stream",
          "name": "stderr",
          "text": [
            "Some weights of the model checkpoint at monsoon-nlp/hindi-tpu-electra were not used when initializing BertForSequenceClassification: ['electra.encoder.layer.4.intermediate.dense.weight', 'electra.encoder.layer.0.output.LayerNorm.weight', 'electra.encoder.layer.7.output.dense.weight', 'electra.encoder.layer.6.attention.output.dense.bias', 'electra.encoder.layer.2.attention.self.value.weight', 'electra.encoder.layer.3.attention.self.value.weight', 'electra.encoder.layer.5.attention.output.LayerNorm.bias', 'electra.encoder.layer.10.output.dense.bias', 'electra.encoder.layer.1.attention.self.query.bias', 'electra.encoder.layer.4.intermediate.dense.bias', 'electra.encoder.layer.4.attention.self.value.weight', 'electra.encoder.layer.7.attention.self.key.bias', 'electra.encoder.layer.10.attention.self.value.weight', 'electra.encoder.layer.3.attention.self.key.bias', 'electra.embeddings.LayerNorm.bias', 'electra.encoder.layer.6.attention.output.LayerNorm.bias', 'electra.encoder.layer.8.attention.self.query.weight', 'electra.encoder.layer.9.attention.output.dense.bias', 'electra.encoder.layer.10.output.LayerNorm.weight', 'electra.encoder.layer.4.attention.self.query.weight', 'electra.encoder.layer.4.attention.self.key.bias', 'electra.encoder.layer.10.attention.output.dense.bias', 'electra.encoder.layer.8.output.dense.bias', 'electra.encoder.layer.5.output.dense.bias', 'electra.encoder.layer.9.attention.output.LayerNorm.weight', 'electra.encoder.layer.11.attention.self.key.bias', 'electra.encoder.layer.6.attention.self.query.bias', 'electra.encoder.layer.1.attention.output.dense.weight', 'electra.encoder.layer.3.intermediate.dense.bias', 'electra.encoder.layer.6.attention.self.key.weight', 'electra.encoder.layer.8.attention.output.dense.bias', 'electra.encoder.layer.6.output.LayerNorm.bias', 'electra.encoder.layer.11.intermediate.dense.weight', 'electra.encoder.layer.1.attention.self.key.bias', 'electra.encoder.layer.3.output.LayerNorm.weight', 'electra.encoder.layer.1.attention.output.LayerNorm.bias', 'electra.encoder.layer.4.attention.output.LayerNorm.weight', 'electra.encoder.layer.11.attention.self.key.weight', 'electra.encoder.layer.3.attention.self.query.weight', 'discriminator_predictions.dense.bias', 'electra.encoder.layer.9.output.LayerNorm.weight', 'electra.encoder.layer.4.attention.output.dense.bias', 'discriminator_predictions.dense.weight', 'electra.encoder.layer.9.attention.output.LayerNorm.bias', 'electra.encoder.layer.5.attention.self.query.bias', 'electra.encoder.layer.8.intermediate.dense.weight', 'electra.encoder.layer.10.output.dense.weight', 'electra.encoder.layer.8.attention.self.value.weight', 'electra.encoder.layer.5.attention.self.key.weight', 'electra.encoder.layer.3.attention.self.query.bias', 'electra.encoder.layer.8.attention.self.value.bias', 'electra.encoder.layer.5.attention.self.key.bias', 'electra.encoder.layer.0.attention.self.key.bias', 'electra.encoder.layer.2.output.dense.bias', 'electra.encoder.layer.1.output.dense.bias', 'electra.encoder.layer.1.attention.self.value.weight', 'electra.encoder.layer.0.attention.output.LayerNorm.bias', 'electra.encoder.layer.1.attention.self.query.weight', 'electra.embeddings.LayerNorm.weight', 'electra.encoder.layer.7.intermediate.dense.weight', 'electra.encoder.layer.10.attention.output.LayerNorm.bias', 'electra.encoder.layer.2.attention.output.LayerNorm.bias', 'electra.encoder.layer.10.attention.output.dense.weight', 'electra.encoder.layer.1.intermediate.dense.bias', 'electra.encoder.layer.2.output.LayerNorm.bias', 'electra.encoder.layer.8.attention.output.LayerNorm.bias', 'electra.encoder.layer.6.attention.self.value.weight', 'electra.encoder.layer.5.intermediate.dense.weight', 'electra.encoder.layer.8.intermediate.dense.bias', 'electra.encoder.layer.9.attention.self.value.weight', 'electra.encoder.layer.1.attention.output.dense.bias', 'electra.encoder.layer.3.output.dense.bias', 'electra.encoder.layer.3.output.LayerNorm.bias', 'electra.encoder.layer.11.attention.self.query.bias', 'electra.encoder.layer.6.attention.output.dense.weight', 'electra.encoder.layer.4.output.dense.bias', 'electra.encoder.layer.7.output.dense.bias', 'electra.encoder.layer.3.attention.output.LayerNorm.bias', 'electra.encoder.layer.1.attention.self.value.bias', 'electra.encoder.layer.5.attention.output.dense.weight', 'discriminator_predictions.dense_prediction.weight', 'electra.encoder.layer.10.intermediate.dense.weight', 'electra.encoder.layer.4.attention.output.dense.weight', 'electra.encoder.layer.1.output.LayerNorm.weight', 'electra.encoder.layer.6.intermediate.dense.weight', 'electra.encoder.layer.9.intermediate.dense.weight', 'electra.encoder.layer.11.attention.output.LayerNorm.bias', 'electra.encoder.layer.9.output.dense.bias', 'electra.encoder.layer.5.attention.output.dense.bias', 'electra.encoder.layer.2.attention.self.query.bias', 'electra.encoder.layer.5.output.dense.weight', 'electra.encoder.layer.11.intermediate.dense.bias', 'electra.encoder.layer.11.attention.output.dense.weight', 'electra.encoder.layer.10.attention.self.value.bias', 'electra.encoder.layer.9.attention.self.query.bias', 'electra.encoder.layer.7.attention.self.query.weight', 'electra.embeddings.token_type_embeddings.weight', 'electra.encoder.layer.2.intermediate.dense.weight', 'electra.encoder.layer.11.attention.output.dense.bias', 'electra.encoder.layer.9.attention.output.dense.weight', 'electra.encoder.layer.9.output.dense.weight', 'electra.encoder.layer.2.attention.self.key.weight', 'electra.encoder.layer.1.output.dense.weight', 'electra.encoder.layer.9.attention.self.key.bias', 'electra.encoder.layer.0.attention.output.dense.bias', 'electra.encoder.layer.2.attention.output.LayerNorm.weight', 'electra.encoder.layer.9.intermediate.dense.bias', 'electra.encoder.layer.0.attention.self.query.bias', 'electra.encoder.layer.2.intermediate.dense.bias', 'discriminator_predictions.dense_prediction.bias', 'electra.encoder.layer.11.output.dense.weight', 'electra.encoder.layer.3.attention.output.dense.weight', 'electra.encoder.layer.10.attention.self.query.bias', 'electra.encoder.layer.4.output.LayerNorm.weight', 'electra.encoder.layer.6.attention.self.value.bias', 'electra.encoder.layer.0.output.dense.weight', 'electra.encoder.layer.7.attention.output.LayerNorm.bias', 'electra.encoder.layer.5.output.LayerNorm.weight', 'electra.encoder.layer.2.attention.self.query.weight', 'electra.encoder.layer.6.intermediate.dense.bias', 'electra.encoder.layer.9.attention.self.value.bias', 'electra.encoder.layer.2.output.LayerNorm.weight', 'electra.encoder.layer.10.attention.output.LayerNorm.weight', 'electra.encoder.layer.11.attention.self.value.bias', 'electra.encoder.layer.1.intermediate.dense.weight', 'electra.encoder.layer.5.attention.output.LayerNorm.weight', 'electra.encoder.layer.8.attention.self.key.weight', 'electra.encoder.layer.3.intermediate.dense.weight', 'electra.encoder.layer.10.attention.self.key.weight', 'electra.encoder.layer.0.attention.self.query.weight', 'electra.encoder.layer.0.attention.self.key.weight', 'electra.encoder.layer.2.attention.output.dense.weight', 'electra.encoder.layer.0.attention.output.LayerNorm.weight', 'electra.encoder.layer.6.output.dense.weight', 'electra.encoder.layer.11.attention.self.value.weight', 'electra.encoder.layer.6.output.LayerNorm.weight', 'electra.encoder.layer.6.attention.output.LayerNorm.weight', 'electra.encoder.layer.11.attention.output.LayerNorm.weight', 'electra.encoder.layer.11.output.LayerNorm.weight', 'electra.encoder.layer.10.intermediate.dense.bias', 'electra.encoder.layer.8.output.dense.weight', 'electra.encoder.layer.7.attention.self.value.weight', 'electra.embeddings.position_embeddings.weight', 'electra.encoder.layer.8.output.LayerNorm.bias', 'electra.encoder.layer.1.attention.output.LayerNorm.weight', 'electra.encoder.layer.4.output.dense.weight', 'electra.encoder.layer.10.attention.self.key.bias', 'electra.embeddings.word_embeddings.weight', 'electra.encoder.layer.5.intermediate.dense.bias', 'electra.encoder.layer.8.attention.self.key.bias', 'electra.encoder.layer.10.output.LayerNorm.bias', 'electra.encoder.layer.0.attention.self.value.weight', 'electra.encoder.layer.6.attention.self.key.bias', 'electra.encoder.layer.7.attention.output.LayerNorm.weight', 'electra.encoder.layer.11.attention.self.query.weight', 'electra.encoder.layer.6.output.dense.bias', 'electra.encoder.layer.3.attention.self.key.weight', 'electra.encoder.layer.7.attention.output.dense.weight', 'electra.encoder.layer.7.attention.self.value.bias', 'electra.encoder.layer.4.output.LayerNorm.bias', 'electra.encoder.layer.6.attention.self.query.weight', 'electra.encoder.layer.5.attention.self.value.bias', 'electra.encoder.layer.0.attention.self.value.bias', 'electra.encoder.layer.11.output.LayerNorm.bias', 'electra.encoder.layer.5.attention.self.query.weight', 'electra.encoder.layer.4.attention.self.query.bias', 'electra.encoder.layer.7.output.LayerNorm.bias', 'electra.encoder.layer.9.attention.self.query.weight', 'electra.encoder.layer.7.attention.self.key.weight', 'electra.encoder.layer.8.attention.output.dense.weight', 'electra.encoder.layer.4.attention.output.LayerNorm.bias', 'electra.encoder.layer.4.attention.self.key.weight', 'electra.encoder.layer.8.attention.output.LayerNorm.weight', 'electra.encoder.layer.10.attention.self.query.weight', 'electra.encoder.layer.11.output.dense.bias', 'electra.encoder.layer.3.attention.output.dense.bias', 'electra.encoder.layer.3.output.dense.weight', 'electra.encoder.layer.5.output.LayerNorm.bias', 'electra.encoder.layer.0.intermediate.dense.weight', 'electra.encoder.layer.2.attention.self.key.bias', 'electra.encoder.layer.4.attention.self.value.bias', 'electra.encoder.layer.7.intermediate.dense.bias', 'electra.encoder.layer.8.output.LayerNorm.weight', 'electra.encoder.layer.0.output.dense.bias', 'electra.encoder.layer.8.attention.self.query.bias', 'electra.encoder.layer.3.attention.self.value.bias', 'electra.encoder.layer.3.attention.output.LayerNorm.weight', 'electra.encoder.layer.0.intermediate.dense.bias', 'electra.encoder.layer.2.output.dense.weight', 'electra.encoder.layer.9.output.LayerNorm.bias', 'electra.encoder.layer.5.attention.self.value.weight', 'electra.encoder.layer.1.attention.self.key.weight', 'electra.encoder.layer.9.attention.self.key.weight', 'electra.encoder.layer.2.attention.output.dense.bias', 'electra.encoder.layer.0.output.LayerNorm.bias', 'electra.encoder.layer.0.attention.output.dense.weight', 'electra.encoder.layer.1.output.LayerNorm.bias', 'electra.encoder.layer.7.output.LayerNorm.weight', 'electra.encoder.layer.2.attention.self.value.bias', 'electra.encoder.layer.7.attention.output.dense.bias', 'electra.encoder.layer.7.attention.self.query.bias']\n",
            "- This IS expected if you are initializing BertForSequenceClassification from the checkpoint of a model trained on another task or with another architecture (e.g. initializing a BertForSequenceClassification model from a BertForPreTraining model).\n",
            "- This IS NOT expected if you are initializing BertForSequenceClassification from the checkpoint of a model that you expect to be exactly identical (initializing a BertForSequenceClassification model from a BertForSequenceClassification model).\n",
            "Some weights of BertForSequenceClassification were not initialized from the model checkpoint at monsoon-nlp/hindi-tpu-electra and are newly initialized: ['classifier.weight', 'classifier.bias']\n",
            "You should probably TRAIN this model on a down-stream task to be able to use it for predictions and inference.\n"
          ]
        },
        {
          "output_type": "display_data",
          "data": {
            "text/plain": [
              "Downloading (…)okenizer_config.json:   0%|          | 0.00/181 [00:00<?, ?B/s]"
            ],
            "application/vnd.jupyter.widget-view+json": {
              "version_major": 2,
              "version_minor": 0,
              "model_id": "4669f42634f14d2d9f25df6e07c6f4b4"
            }
          },
          "metadata": {}
        },
        {
          "output_type": "display_data",
          "data": {
            "text/plain": [
              "Downloading (…)solve/main/vocab.txt:   0%|          | 0.00/607k [00:00<?, ?B/s]"
            ],
            "application/vnd.jupyter.widget-view+json": {
              "version_major": 2,
              "version_minor": 0,
              "model_id": "6529a786dc834f32813251dd0888809b"
            }
          },
          "metadata": {}
        },
        {
          "output_type": "display_data",
          "data": {
            "text/plain": [
              "Downloading (…)cial_tokens_map.json:   0%|          | 0.00/112 [00:00<?, ?B/s]"
            ],
            "application/vnd.jupyter.widget-view+json": {
              "version_major": 2,
              "version_minor": 0,
              "model_id": "b812a83474674735822875493b23583a"
            }
          },
          "metadata": {}
        },
        {
          "output_type": "stream",
          "name": "stderr",
          "text": [
            "The tokenizer class you load from this checkpoint is not the same type as the class this function is called from. It may result in unexpected tokenization. \n",
            "The tokenizer class you load from this checkpoint is 'ElectraTokenizer'. \n",
            "The class this function is called from is 'BertTokenizer'.\n",
            "The tokenizer class you load from this checkpoint is not the same type as the class this function is called from. It may result in unexpected tokenization. \n",
            "The tokenizer class you load from this checkpoint is 'ElectraTokenizer'. \n",
            "The class this function is called from is 'BertTokenizerFast'.\n",
            "/usr/local/lib/python3.9/dist-packages/simpletransformers/classification/classification_model.py:612: UserWarning: Dataframe headers not specified. Falling back to using column 0 as text and column 1 as labels.\n",
            "  warnings.warn(\n",
            "/usr/local/lib/python3.9/dist-packages/simpletransformers/classification/classification_model.py:1454: UserWarning: Dataframe headers not specified. Falling back to using column 0 as text and column 1 as labels.\n",
            "  warnings.warn(\n"
          ]
        },
        {
          "output_type": "stream",
          "name": "stdout",
          "text": [
            "wrong predictions\n",
            "492 wrong out of 2270\n",
            "{0: 212, 2: 221, 1: 59}\n"
          ]
        }
      ]
    },
    {
      "cell_type": "code",
      "source": [
        "accuracy_tpu_electra, targets_tpu_electra, predictions_tpu_electra = evaluate_model(mdl_tpu_electra, eval_frame_tpu_electra)"
      ],
      "metadata": {
        "id": "L6HyIuL2rd2t"
      },
      "execution_count": 82,
      "outputs": []
    },
    {
      "cell_type": "code",
      "source": [
        "print(\"Accuracy of trianing mbert is:\", accuracy_tpu_electra)\n",
        "print(\"Classification report for mbert:\",metrics.classification_report(targets_tpu_electra, predictions_tpu_electra))\n",
        "#print(\"ROC AUC Curve score:\",metrics.roc_auc_score(targets_mbert, predictions_mbert))"
      ],
      "metadata": {
        "colab": {
          "base_uri": "https://localhost:8080/"
        },
        "outputId": "03cd98ed-8052-4733-eccc-da8d13ce8963",
        "id": "8XySaCI5rd2t"
      },
      "execution_count": 83,
      "outputs": [
        {
          "output_type": "stream",
          "name": "stdout",
          "text": [
            "Accuracy of trianing mbert is: 0.7832599118942731\n",
            "Classification report for mbert:               precision    recall  f1-score   support\n",
            "\n",
            "           0       0.72      0.73      0.73       797\n",
            "           1       0.91      0.91      0.91       661\n",
            "           2       0.74      0.73      0.73       812\n",
            "\n",
            "    accuracy                           0.78      2270\n",
            "   macro avg       0.79      0.79      0.79      2270\n",
            "weighted avg       0.78      0.78      0.78      2270\n",
            "\n"
          ]
        }
      ]
    },
    {
      "cell_type": "code",
      "source": [
        "# ROC-AUC score\n",
        "roc_auc_score_multiclass(targets_tpu_electra, predictions_tpu_electra)"
      ],
      "metadata": {
        "colab": {
          "base_uri": "https://localhost:8080/"
        },
        "outputId": "33190f7a-e22a-419e-a7c7-1be9c268fc29",
        "id": "MYouGXmxR1sR"
      },
      "execution_count": 84,
      "outputs": [
        {
          "output_type": "execute_result",
          "data": {
            "text/plain": [
              "{0: 0.7913053959135624, 1: 0.936725529336213, 2: 0.7922427307804063}"
            ]
          },
          "metadata": {},
          "execution_count": 84
        }
      ]
    },
    {
      "cell_type": "code",
      "source": [
        "# Confusion matrix\n",
        "confusion_mtx(targets_tpu_electra, predictions_tpu_electra)"
      ],
      "metadata": {
        "colab": {
          "base_uri": "https://localhost:8080/",
          "height": 552
        },
        "outputId": "863c5732-143e-4521-9a5a-4ab44418117d",
        "id": "U9uYJaOpR1sS"
      },
      "execution_count": 115,
      "outputs": [
        {
          "output_type": "stream",
          "name": "stdout",
          "text": [
            "Sensitivity score of the model: 0.9574468085106383\n",
            "Specificity score of the model: 0.9435736677115988\n",
            "\n",
            "\n"
          ]
        },
        {
          "output_type": "display_data",
          "data": {
            "text/plain": [
              "<Figure size 640x480 with 2 Axes>"
            ],
            "image/png": "[encoded data removed]"
          },
          "metadata": {}
        }
      ]
    },
    {
      "cell_type": "code",
      "metadata": {
        "outputId": "a5d86d82-ba39-4807-bd9d-a98f9a7d5a66",
        "colab": {
          "base_uri": "https://localhost:8080/"
        },
        "id": "CcgzVKuOrd2t"
      },
      "source": [
        "(1 - (433 / 2270)) * 100"
      ],
      "execution_count": null,
      "outputs": [
        {
          "output_type": "execute_result",
          "data": {
            "text/plain": [
              "80.9251101321586"
            ]
          },
          "metadata": {},
          "execution_count": 27
        }
      ]
    },
    {
      "cell_type": "code",
      "source": [],
      "metadata": {
        "id": "_2rzbE0Qrd2t"
      },
      "execution_count": null,
      "outputs": []
    },
    {
      "cell_type": "markdown",
      "metadata": {
        "id": "GLNIlIa3rd2t"
      },
      "source": [
        "79.5% Accuracy, 3 epochs, mBERT\n",
        "\n",
        "80.1-80.2% Accuracy, 4 epochs, mBERT; 80.5% @ 5 epochs"
      ]
    },
    {
      "cell_type": "markdown",
      "source": [
        "### For IITP - Movie dataset"
      ],
      "metadata": {
        "id": "ch1g-hL8rd2t"
      }
    },
    {
      "cell_type": "code",
      "source": [
        "eval_iitm_tpu_electra, mdl_iitm_tpu_electra = model_training('tpu_electra_iitm', 'monsoon-nlp/hindi-tpu-electra', train_iitm, test_iitm)"
      ],
      "metadata": {
        "colab": {
          "base_uri": "https://localhost:8080/"
        },
        "outputId": "e34d56a8-7821-4122-de46-03dd073ee077",
        "id": "PQdBYpuhrd2t"
      },
      "execution_count": null,
      "outputs": [
        {
          "output_type": "stream",
          "name": "stderr",
          "text": [
            "You are using a model of type electra to instantiate a model of type bert. This is not supported for all configurations of models and can yield errors.\n",
            "Some weights of the model checkpoint at monsoon-nlp/hindi-tpu-electra were not used when initializing BertForSequenceClassification: ['electra.encoder.layer.0.output.dense.bias', 'electra.encoder.layer.9.output.dense.weight', 'electra.encoder.layer.2.attention.output.dense.weight', 'electra.encoder.layer.2.attention.output.LayerNorm.bias', 'electra.encoder.layer.5.attention.self.value.bias', 'electra.encoder.layer.9.output.LayerNorm.bias', 'electra.encoder.layer.3.attention.output.dense.weight', 'electra.encoder.layer.7.attention.output.dense.weight', 'electra.encoder.layer.11.attention.output.LayerNorm.bias', 'electra.encoder.layer.0.output.dense.weight', 'electra.encoder.layer.4.attention.output.dense.weight', 'electra.encoder.layer.10.intermediate.dense.weight', 'electra.encoder.layer.6.output.LayerNorm.weight', 'electra.encoder.layer.7.output.LayerNorm.bias', 'electra.encoder.layer.1.attention.self.query.bias', 'electra.encoder.layer.5.attention.self.value.weight', 'electra.encoder.layer.3.attention.self.query.bias', 'electra.encoder.layer.0.attention.output.dense.weight', 'electra.encoder.layer.0.attention.self.value.bias', 'electra.encoder.layer.8.attention.self.key.bias', 'electra.encoder.layer.10.output.LayerNorm.weight', 'electra.encoder.layer.0.attention.self.query.bias', 'electra.encoder.layer.5.attention.self.query.weight', 'electra.encoder.layer.11.attention.self.value.weight', 'electra.encoder.layer.5.output.dense.bias', 'electra.encoder.layer.11.intermediate.dense.bias', 'electra.encoder.layer.11.output.dense.weight', 'electra.encoder.layer.9.attention.output.dense.bias', 'electra.encoder.layer.9.attention.self.value.weight', 'electra.encoder.layer.0.attention.output.LayerNorm.bias', 'electra.encoder.layer.3.output.LayerNorm.bias', 'electra.encoder.layer.7.output.dense.bias', 'discriminator_predictions.dense_prediction.bias', 'electra.encoder.layer.2.intermediate.dense.weight', 'electra.encoder.layer.10.output.LayerNorm.bias', 'electra.encoder.layer.1.output.LayerNorm.weight', 'electra.encoder.layer.9.attention.self.value.bias', 'electra.encoder.layer.3.output.LayerNorm.weight', 'electra.encoder.layer.4.output.dense.weight', 'electra.encoder.layer.11.intermediate.dense.weight', 'electra.encoder.layer.3.attention.output.LayerNorm.bias', 'electra.encoder.layer.9.output.dense.bias', 'electra.encoder.layer.3.attention.self.value.weight', 'electra.encoder.layer.4.output.dense.bias', 'electra.encoder.layer.6.intermediate.dense.bias', 'electra.encoder.layer.8.attention.output.dense.bias', 'electra.encoder.layer.2.attention.self.query.weight', 'electra.encoder.layer.6.attention.output.LayerNorm.weight', 'electra.encoder.layer.10.attention.self.key.weight', 'electra.encoder.layer.6.attention.self.key.weight', 'electra.encoder.layer.0.attention.self.query.weight', 'discriminator_predictions.dense.bias', 'electra.encoder.layer.1.attention.self.query.weight', 'electra.encoder.layer.8.attention.output.LayerNorm.bias', 'electra.encoder.layer.8.output.dense.weight', 'electra.encoder.layer.11.attention.self.key.bias', 'electra.encoder.layer.5.attention.output.LayerNorm.bias', 'electra.encoder.layer.7.attention.self.key.weight', 'electra.encoder.layer.1.attention.output.LayerNorm.bias', 'electra.encoder.layer.6.attention.output.dense.bias', 'electra.encoder.layer.5.output.LayerNorm.weight', 'electra.encoder.layer.9.attention.output.LayerNorm.weight', 'electra.encoder.layer.7.attention.output.LayerNorm.bias', 'electra.encoder.layer.9.output.LayerNorm.weight', 'electra.encoder.layer.10.attention.self.query.weight', 'electra.encoder.layer.7.intermediate.dense.bias', 'electra.encoder.layer.6.attention.self.query.bias', 'electra.encoder.layer.0.attention.output.LayerNorm.weight', 'electra.encoder.layer.4.output.LayerNorm.bias', 'electra.encoder.layer.5.attention.output.dense.bias', 'electra.encoder.layer.3.intermediate.dense.bias', 'electra.encoder.layer.0.attention.output.dense.bias', 'electra.encoder.layer.2.output.LayerNorm.weight', 'electra.encoder.layer.5.attention.self.key.bias', 'electra.embeddings.LayerNorm.bias', 'electra.encoder.layer.9.attention.self.key.bias', 'electra.encoder.layer.4.attention.self.key.bias', 'electra.encoder.layer.6.attention.output.LayerNorm.bias', 'electra.encoder.layer.4.intermediate.dense.bias', 'electra.encoder.layer.3.attention.self.value.bias', 'electra.encoder.layer.4.attention.self.key.weight', 'electra.encoder.layer.7.attention.self.query.weight', 'electra.encoder.layer.11.attention.self.query.bias', 'electra.encoder.layer.6.attention.self.key.bias', 'electra.encoder.layer.11.attention.output.dense.weight', 'electra.encoder.layer.1.output.dense.weight', 'electra.encoder.layer.1.attention.self.key.bias', 'electra.encoder.layer.5.output.LayerNorm.bias', 'electra.encoder.layer.1.attention.output.dense.weight', 'electra.encoder.layer.3.attention.output.LayerNorm.weight', 'electra.encoder.layer.8.attention.self.value.weight', 'electra.encoder.layer.6.output.dense.bias', 'electra.encoder.layer.11.output.LayerNorm.bias', 'electra.encoder.layer.0.attention.self.value.weight', 'electra.encoder.layer.4.output.LayerNorm.weight', 'electra.encoder.layer.10.attention.output.dense.weight', 'electra.encoder.layer.1.attention.self.value.weight', 'electra.encoder.layer.1.intermediate.dense.weight', 'electra.encoder.layer.1.output.LayerNorm.bias', 'electra.encoder.layer.7.attention.self.value.weight', 'electra.encoder.layer.0.intermediate.dense.weight', 'electra.encoder.layer.4.attention.self.query.weight', 'electra.encoder.layer.4.attention.output.dense.bias', 'electra.encoder.layer.5.attention.self.key.weight', 'electra.encoder.layer.7.attention.output.LayerNorm.weight', 'electra.encoder.layer.10.output.dense.weight', 'electra.embeddings.position_embeddings.weight', 'electra.encoder.layer.6.output.dense.weight', 'electra.encoder.layer.7.output.dense.weight', 'electra.encoder.layer.11.attention.self.query.weight', 'electra.encoder.layer.4.attention.output.LayerNorm.weight', 'electra.encoder.layer.9.attention.self.query.weight', 'electra.encoder.layer.9.intermediate.dense.bias', 'electra.encoder.layer.2.attention.output.dense.bias', 'electra.encoder.layer.2.attention.self.key.weight', 'electra.encoder.layer.9.attention.output.LayerNorm.bias', 'electra.encoder.layer.10.attention.self.query.bias', 'electra.encoder.layer.8.attention.self.value.bias', 'electra.encoder.layer.10.output.dense.bias', 'electra.embeddings.token_type_embeddings.weight', 'electra.encoder.layer.2.attention.self.query.bias', 'electra.encoder.layer.0.intermediate.dense.bias', 'electra.encoder.layer.11.attention.self.value.bias', 'electra.encoder.layer.5.intermediate.dense.weight', 'electra.encoder.layer.9.attention.self.key.weight', 'electra.encoder.layer.8.intermediate.dense.bias', 'electra.encoder.layer.8.attention.self.query.weight', 'electra.encoder.layer.10.attention.self.value.weight', 'electra.encoder.layer.0.attention.self.key.weight', 'electra.encoder.layer.10.attention.self.key.bias', 'electra.encoder.layer.7.attention.output.dense.bias', 'electra.encoder.layer.6.output.LayerNorm.bias', 'electra.encoder.layer.0.attention.self.key.bias', 'electra.encoder.layer.11.attention.output.LayerNorm.weight', 'electra.encoder.layer.1.attention.self.value.bias', 'electra.encoder.layer.5.attention.output.LayerNorm.weight', 'electra.encoder.layer.2.output.LayerNorm.bias', 'electra.encoder.layer.10.attention.output.dense.bias', 'electra.encoder.layer.9.attention.self.query.bias', 'electra.encoder.layer.1.attention.output.dense.bias', 'discriminator_predictions.dense.weight', 'electra.encoder.layer.10.attention.output.LayerNorm.weight', 'electra.encoder.layer.6.attention.self.value.bias', 'electra.encoder.layer.7.attention.self.value.bias', 'electra.encoder.layer.4.intermediate.dense.weight', 'electra.encoder.layer.8.attention.output.dense.weight', 'electra.encoder.layer.2.attention.self.key.bias', 'electra.encoder.layer.2.output.dense.bias', 'electra.encoder.layer.3.output.dense.bias', 'electra.encoder.layer.0.output.LayerNorm.weight', 'electra.encoder.layer.1.intermediate.dense.bias', 'electra.encoder.layer.2.attention.self.value.bias', 'electra.encoder.layer.6.intermediate.dense.weight', 'electra.encoder.layer.2.intermediate.dense.bias', 'electra.encoder.layer.4.attention.output.LayerNorm.bias', 'electra.encoder.layer.1.attention.self.key.weight', 'electra.encoder.layer.8.attention.self.key.weight', 'electra.encoder.layer.8.intermediate.dense.weight', 'electra.encoder.layer.8.output.LayerNorm.weight', 'electra.embeddings.word_embeddings.weight', 'electra.encoder.layer.5.attention.self.query.bias', 'electra.encoder.layer.11.output.dense.bias', 'electra.encoder.layer.7.attention.self.key.bias', 'electra.encoder.layer.11.attention.output.dense.bias', 'electra.encoder.layer.5.output.dense.weight', 'discriminator_predictions.dense_prediction.weight', 'electra.encoder.layer.3.intermediate.dense.weight', 'electra.encoder.layer.8.attention.self.query.bias', 'electra.encoder.layer.2.output.dense.weight', 'electra.encoder.layer.10.attention.self.value.bias', 'electra.encoder.layer.5.intermediate.dense.bias', 'electra.encoder.layer.3.attention.self.key.bias', 'electra.embeddings.LayerNorm.weight', 'electra.encoder.layer.10.intermediate.dense.bias', 'electra.encoder.layer.6.attention.self.value.weight', 'electra.encoder.layer.9.attention.output.dense.weight', 'electra.encoder.layer.3.attention.output.dense.bias', 'electra.encoder.layer.2.attention.self.value.weight', 'electra.encoder.layer.7.output.LayerNorm.weight', 'electra.encoder.layer.5.attention.output.dense.weight', 'electra.encoder.layer.6.attention.output.dense.weight', 'electra.encoder.layer.10.attention.output.LayerNorm.bias', 'electra.encoder.layer.1.output.dense.bias', 'electra.encoder.layer.2.attention.output.LayerNorm.weight', 'electra.encoder.layer.8.output.LayerNorm.bias', 'electra.encoder.layer.1.attention.output.LayerNorm.weight', 'electra.encoder.layer.4.attention.self.query.bias', 'electra.encoder.layer.4.attention.self.value.weight', 'electra.encoder.layer.9.intermediate.dense.weight', 'electra.encoder.layer.11.attention.self.key.weight', 'electra.encoder.layer.4.attention.self.value.bias', 'electra.encoder.layer.8.attention.output.LayerNorm.weight', 'electra.encoder.layer.0.output.LayerNorm.bias', 'electra.encoder.layer.3.output.dense.weight', 'electra.encoder.layer.11.output.LayerNorm.weight', 'electra.encoder.layer.3.attention.self.query.weight', 'electra.encoder.layer.7.intermediate.dense.weight', 'electra.encoder.layer.3.attention.self.key.weight', 'electra.encoder.layer.6.attention.self.query.weight', 'electra.encoder.layer.7.attention.self.query.bias', 'electra.encoder.layer.8.output.dense.bias']\n",
            "- This IS expected if you are initializing BertForSequenceClassification from the checkpoint of a model trained on another task or with another architecture (e.g. initializing a BertForSequenceClassification model from a BertForPreTraining model).\n",
            "- This IS NOT expected if you are initializing BertForSequenceClassification from the checkpoint of a model that you expect to be exactly identical (initializing a BertForSequenceClassification model from a BertForSequenceClassification model).\n",
            "Some weights of BertForSequenceClassification were not initialized from the model checkpoint at monsoon-nlp/hindi-tpu-electra and are newly initialized: ['classifier.bias', 'classifier.weight']\n",
            "You should probably TRAIN this model on a down-stream task to be able to use it for predictions and inference.\n",
            "The tokenizer class you load from this checkpoint is not the same type as the class this function is called from. It may result in unexpected tokenization. \n",
            "The tokenizer class you load from this checkpoint is 'ElectraTokenizer'. \n",
            "The class this function is called from is 'BertTokenizer'.\n",
            "The tokenizer class you load from this checkpoint is not the same type as the class this function is called from. It may result in unexpected tokenization. \n",
            "The tokenizer class you load from this checkpoint is 'ElectraTokenizer'. \n",
            "The class this function is called from is 'BertTokenizerFast'.\n",
            "/usr/local/lib/python3.9/dist-packages/simpletransformers/classification/classification_model.py:612: UserWarning: Dataframe headers not specified. Falling back to using column 0 as text and column 1 as labels.\n",
            "  warnings.warn(\n",
            "/usr/local/lib/python3.9/dist-packages/simpletransformers/classification/classification_model.py:1454: UserWarning: Dataframe headers not specified. Falling back to using column 0 as text and column 1 as labels.\n",
            "  warnings.warn(\n"
          ]
        },
        {
          "output_type": "stream",
          "name": "stdout",
          "text": [
            "wrong predictions\n",
            "360 wrong out of 620\n",
            "{0: 191, 1: 169}\n"
          ]
        }
      ]
    },
    {
      "cell_type": "code",
      "source": [
        "accuracy_iitm_tpu_electra, targets_iitm_tpu_electra, predictions_iitm_tpu_electra = evaluate_model(mdl_iitm_tpu_electra, eval_iitm_tpu_electra)"
      ],
      "metadata": {
        "id": "k01wSrX8rd2t"
      },
      "execution_count": null,
      "outputs": []
    },
    {
      "cell_type": "code",
      "source": [
        "print(\"Accuracy of trianing mbert is:\", accuracy_iitm_tpu_electra)\n",
        "print(\"Classification report for mbert:\",metrics.classification_report(targets_iitm_tpu_electra, predictions_iitm_tpu_electra))\n",
        "#print(\"ROC AUC Curve score:\",metrics.roc_auc_cruve(targets_iitm_mbert, predictions_iitm_mbert))"
      ],
      "metadata": {
        "colab": {
          "base_uri": "https://localhost:8080/"
        },
        "outputId": "73602428-ca6b-482a-c10b-84ab4aa0534f",
        "id": "rzm6iHMird2t"
      },
      "execution_count": null,
      "outputs": [
        {
          "output_type": "stream",
          "name": "stdout",
          "text": [
            "Accuracy of trianing mbert is: 0.41935483870967744\n",
            "Classification report for mbert:               precision    recall  f1-score   support\n",
            "\n",
            "           0       0.00      0.00      0.00       191\n",
            "           1       0.00      0.00      0.00       169\n",
            "           2       0.42      1.00      0.59       260\n",
            "\n",
            "    accuracy                           0.42       620\n",
            "   macro avg       0.14      0.33      0.20       620\n",
            "weighted avg       0.18      0.42      0.25       620\n",
            "\n"
          ]
        },
        {
          "output_type": "stream",
          "name": "stderr",
          "text": [
            "/usr/local/lib/python3.9/dist-packages/sklearn/metrics/_classification.py:1344: UndefinedMetricWarning: Precision and F-score are ill-defined and being set to 0.0 in labels with no predicted samples. Use `zero_division` parameter to control this behavior.\n",
            "  _warn_prf(average, modifier, msg_start, len(result))\n",
            "/usr/local/lib/python3.9/dist-packages/sklearn/metrics/_classification.py:1344: UndefinedMetricWarning: Precision and F-score are ill-defined and being set to 0.0 in labels with no predicted samples. Use `zero_division` parameter to control this behavior.\n",
            "  _warn_prf(average, modifier, msg_start, len(result))\n",
            "/usr/local/lib/python3.9/dist-packages/sklearn/metrics/_classification.py:1344: UndefinedMetricWarning: Precision and F-score are ill-defined and being set to 0.0 in labels with no predicted samples. Use `zero_division` parameter to control this behavior.\n",
            "  _warn_prf(average, modifier, msg_start, len(result))\n"
          ]
        }
      ]
    },
    {
      "cell_type": "markdown",
      "source": [
        "### For IITP - Product dataset"
      ],
      "metadata": {
        "id": "v4jZt-69rd2u"
      }
    },
    {
      "cell_type": "code",
      "source": [
        "eval_iitp_tpu_electra, mdl_iitp_tpu_electra = model_training('tpu_electra_iitp', 'monsoon-nlp/hindi-tpu-electra', train_iitp, test_iitp)"
      ],
      "metadata": {
        "colab": {
          "base_uri": "https://localhost:8080/"
        },
        "outputId": "c3a80ac0-f00e-4670-d357-c8e07d77ea3b",
        "id": "PrB1m-M4rd2u"
      },
      "execution_count": null,
      "outputs": [
        {
          "output_type": "stream",
          "name": "stderr",
          "text": [
            "You are using a model of type electra to instantiate a model of type bert. This is not supported for all configurations of models and can yield errors.\n",
            "Some weights of the model checkpoint at monsoon-nlp/hindi-tpu-electra were not used when initializing BertForSequenceClassification: ['electra.encoder.layer.0.output.dense.bias', 'electra.encoder.layer.9.output.dense.weight', 'electra.encoder.layer.2.attention.output.dense.weight', 'electra.encoder.layer.2.attention.output.LayerNorm.bias', 'electra.encoder.layer.5.attention.self.value.bias', 'electra.encoder.layer.9.output.LayerNorm.bias', 'electra.encoder.layer.3.attention.output.dense.weight', 'electra.encoder.layer.7.attention.output.dense.weight', 'electra.encoder.layer.11.attention.output.LayerNorm.bias', 'electra.encoder.layer.0.output.dense.weight', 'electra.encoder.layer.4.attention.output.dense.weight', 'electra.encoder.layer.10.intermediate.dense.weight', 'electra.encoder.layer.6.output.LayerNorm.weight', 'electra.encoder.layer.7.output.LayerNorm.bias', 'electra.encoder.layer.1.attention.self.query.bias', 'electra.encoder.layer.5.attention.self.value.weight', 'electra.encoder.layer.3.attention.self.query.bias', 'electra.encoder.layer.0.attention.output.dense.weight', 'electra.encoder.layer.0.attention.self.value.bias', 'electra.encoder.layer.8.attention.self.key.bias', 'electra.encoder.layer.10.output.LayerNorm.weight', 'electra.encoder.layer.0.attention.self.query.bias', 'electra.encoder.layer.5.attention.self.query.weight', 'electra.encoder.layer.11.attention.self.value.weight', 'electra.encoder.layer.5.output.dense.bias', 'electra.encoder.layer.11.intermediate.dense.bias', 'electra.encoder.layer.11.output.dense.weight', 'electra.encoder.layer.9.attention.output.dense.bias', 'electra.encoder.layer.9.attention.self.value.weight', 'electra.encoder.layer.0.attention.output.LayerNorm.bias', 'electra.encoder.layer.3.output.LayerNorm.bias', 'electra.encoder.layer.7.output.dense.bias', 'discriminator_predictions.dense_prediction.bias', 'electra.encoder.layer.2.intermediate.dense.weight', 'electra.encoder.layer.10.output.LayerNorm.bias', 'electra.encoder.layer.1.output.LayerNorm.weight', 'electra.encoder.layer.9.attention.self.value.bias', 'electra.encoder.layer.3.output.LayerNorm.weight', 'electra.encoder.layer.4.output.dense.weight', 'electra.encoder.layer.11.intermediate.dense.weight', 'electra.encoder.layer.3.attention.output.LayerNorm.bias', 'electra.encoder.layer.9.output.dense.bias', 'electra.encoder.layer.3.attention.self.value.weight', 'electra.encoder.layer.4.output.dense.bias', 'electra.encoder.layer.6.intermediate.dense.bias', 'electra.encoder.layer.8.attention.output.dense.bias', 'electra.encoder.layer.2.attention.self.query.weight', 'electra.encoder.layer.6.attention.output.LayerNorm.weight', 'electra.encoder.layer.10.attention.self.key.weight', 'electra.encoder.layer.6.attention.self.key.weight', 'electra.encoder.layer.0.attention.self.query.weight', 'discriminator_predictions.dense.bias', 'electra.encoder.layer.1.attention.self.query.weight', 'electra.encoder.layer.8.attention.output.LayerNorm.bias', 'electra.encoder.layer.8.output.dense.weight', 'electra.encoder.layer.11.attention.self.key.bias', 'electra.encoder.layer.5.attention.output.LayerNorm.bias', 'electra.encoder.layer.7.attention.self.key.weight', 'electra.encoder.layer.1.attention.output.LayerNorm.bias', 'electra.encoder.layer.6.attention.output.dense.bias', 'electra.encoder.layer.5.output.LayerNorm.weight', 'electra.encoder.layer.9.attention.output.LayerNorm.weight', 'electra.encoder.layer.7.attention.output.LayerNorm.bias', 'electra.encoder.layer.9.output.LayerNorm.weight', 'electra.encoder.layer.10.attention.self.query.weight', 'electra.encoder.layer.7.intermediate.dense.bias', 'electra.encoder.layer.6.attention.self.query.bias', 'electra.encoder.layer.0.attention.output.LayerNorm.weight', 'electra.encoder.layer.4.output.LayerNorm.bias', 'electra.encoder.layer.5.attention.output.dense.bias', 'electra.encoder.layer.3.intermediate.dense.bias', 'electra.encoder.layer.0.attention.output.dense.bias', 'electra.encoder.layer.2.output.LayerNorm.weight', 'electra.encoder.layer.5.attention.self.key.bias', 'electra.embeddings.LayerNorm.bias', 'electra.encoder.layer.9.attention.self.key.bias', 'electra.encoder.layer.4.attention.self.key.bias', 'electra.encoder.layer.6.attention.output.LayerNorm.bias', 'electra.encoder.layer.4.intermediate.dense.bias', 'electra.encoder.layer.3.attention.self.value.bias', 'electra.encoder.layer.4.attention.self.key.weight', 'electra.encoder.layer.7.attention.self.query.weight', 'electra.encoder.layer.11.attention.self.query.bias', 'electra.encoder.layer.6.attention.self.key.bias', 'electra.encoder.layer.11.attention.output.dense.weight', 'electra.encoder.layer.1.output.dense.weight', 'electra.encoder.layer.1.attention.self.key.bias', 'electra.encoder.layer.5.output.LayerNorm.bias', 'electra.encoder.layer.1.attention.output.dense.weight', 'electra.encoder.layer.3.attention.output.LayerNorm.weight', 'electra.encoder.layer.8.attention.self.value.weight', 'electra.encoder.layer.6.output.dense.bias', 'electra.encoder.layer.11.output.LayerNorm.bias', 'electra.encoder.layer.0.attention.self.value.weight', 'electra.encoder.layer.4.output.LayerNorm.weight', 'electra.encoder.layer.10.attention.output.dense.weight', 'electra.encoder.layer.1.attention.self.value.weight', 'electra.encoder.layer.1.intermediate.dense.weight', 'electra.encoder.layer.1.output.LayerNorm.bias', 'electra.encoder.layer.7.attention.self.value.weight', 'electra.encoder.layer.0.intermediate.dense.weight', 'electra.encoder.layer.4.attention.self.query.weight', 'electra.encoder.layer.4.attention.output.dense.bias', 'electra.encoder.layer.5.attention.self.key.weight', 'electra.encoder.layer.7.attention.output.LayerNorm.weight', 'electra.encoder.layer.10.output.dense.weight', 'electra.embeddings.position_embeddings.weight', 'electra.encoder.layer.6.output.dense.weight', 'electra.encoder.layer.7.output.dense.weight', 'electra.encoder.layer.11.attention.self.query.weight', 'electra.encoder.layer.4.attention.output.LayerNorm.weight', 'electra.encoder.layer.9.attention.self.query.weight', 'electra.encoder.layer.9.intermediate.dense.bias', 'electra.encoder.layer.2.attention.output.dense.bias', 'electra.encoder.layer.2.attention.self.key.weight', 'electra.encoder.layer.9.attention.output.LayerNorm.bias', 'electra.encoder.layer.10.attention.self.query.bias', 'electra.encoder.layer.8.attention.self.value.bias', 'electra.encoder.layer.10.output.dense.bias', 'electra.embeddings.token_type_embeddings.weight', 'electra.encoder.layer.2.attention.self.query.bias', 'electra.encoder.layer.0.intermediate.dense.bias', 'electra.encoder.layer.11.attention.self.value.bias', 'electra.encoder.layer.5.intermediate.dense.weight', 'electra.encoder.layer.9.attention.self.key.weight', 'electra.encoder.layer.8.intermediate.dense.bias', 'electra.encoder.layer.8.attention.self.query.weight', 'electra.encoder.layer.10.attention.self.value.weight', 'electra.encoder.layer.0.attention.self.key.weight', 'electra.encoder.layer.10.attention.self.key.bias', 'electra.encoder.layer.7.attention.output.dense.bias', 'electra.encoder.layer.6.output.LayerNorm.bias', 'electra.encoder.layer.0.attention.self.key.bias', 'electra.encoder.layer.11.attention.output.LayerNorm.weight', 'electra.encoder.layer.1.attention.self.value.bias', 'electra.encoder.layer.5.attention.output.LayerNorm.weight', 'electra.encoder.layer.2.output.LayerNorm.bias', 'electra.encoder.layer.10.attention.output.dense.bias', 'electra.encoder.layer.9.attention.self.query.bias', 'electra.encoder.layer.1.attention.output.dense.bias', 'discriminator_predictions.dense.weight', 'electra.encoder.layer.10.attention.output.LayerNorm.weight', 'electra.encoder.layer.6.attention.self.value.bias', 'electra.encoder.layer.7.attention.self.value.bias', 'electra.encoder.layer.4.intermediate.dense.weight', 'electra.encoder.layer.8.attention.output.dense.weight', 'electra.encoder.layer.2.attention.self.key.bias', 'electra.encoder.layer.2.output.dense.bias', 'electra.encoder.layer.3.output.dense.bias', 'electra.encoder.layer.0.output.LayerNorm.weight', 'electra.encoder.layer.1.intermediate.dense.bias', 'electra.encoder.layer.2.attention.self.value.bias', 'electra.encoder.layer.6.intermediate.dense.weight', 'electra.encoder.layer.2.intermediate.dense.bias', 'electra.encoder.layer.4.attention.output.LayerNorm.bias', 'electra.encoder.layer.1.attention.self.key.weight', 'electra.encoder.layer.8.attention.self.key.weight', 'electra.encoder.layer.8.intermediate.dense.weight', 'electra.encoder.layer.8.output.LayerNorm.weight', 'electra.embeddings.word_embeddings.weight', 'electra.encoder.layer.5.attention.self.query.bias', 'electra.encoder.layer.11.output.dense.bias', 'electra.encoder.layer.7.attention.self.key.bias', 'electra.encoder.layer.11.attention.output.dense.bias', 'electra.encoder.layer.5.output.dense.weight', 'discriminator_predictions.dense_prediction.weight', 'electra.encoder.layer.3.intermediate.dense.weight', 'electra.encoder.layer.8.attention.self.query.bias', 'electra.encoder.layer.2.output.dense.weight', 'electra.encoder.layer.10.attention.self.value.bias', 'electra.encoder.layer.5.intermediate.dense.bias', 'electra.encoder.layer.3.attention.self.key.bias', 'electra.embeddings.LayerNorm.weight', 'electra.encoder.layer.10.intermediate.dense.bias', 'electra.encoder.layer.6.attention.self.value.weight', 'electra.encoder.layer.9.attention.output.dense.weight', 'electra.encoder.layer.3.attention.output.dense.bias', 'electra.encoder.layer.2.attention.self.value.weight', 'electra.encoder.layer.7.output.LayerNorm.weight', 'electra.encoder.layer.5.attention.output.dense.weight', 'electra.encoder.layer.6.attention.output.dense.weight', 'electra.encoder.layer.10.attention.output.LayerNorm.bias', 'electra.encoder.layer.1.output.dense.bias', 'electra.encoder.layer.2.attention.output.LayerNorm.weight', 'electra.encoder.layer.8.output.LayerNorm.bias', 'electra.encoder.layer.1.attention.output.LayerNorm.weight', 'electra.encoder.layer.4.attention.self.query.bias', 'electra.encoder.layer.4.attention.self.value.weight', 'electra.encoder.layer.9.intermediate.dense.weight', 'electra.encoder.layer.11.attention.self.key.weight', 'electra.encoder.layer.4.attention.self.value.bias', 'electra.encoder.layer.8.attention.output.LayerNorm.weight', 'electra.encoder.layer.0.output.LayerNorm.bias', 'electra.encoder.layer.3.output.dense.weight', 'electra.encoder.layer.11.output.LayerNorm.weight', 'electra.encoder.layer.3.attention.self.query.weight', 'electra.encoder.layer.7.intermediate.dense.weight', 'electra.encoder.layer.3.attention.self.key.weight', 'electra.encoder.layer.6.attention.self.query.weight', 'electra.encoder.layer.7.attention.self.query.bias', 'electra.encoder.layer.8.output.dense.bias']\n",
            "- This IS expected if you are initializing BertForSequenceClassification from the checkpoint of a model trained on another task or with another architecture (e.g. initializing a BertForSequenceClassification model from a BertForPreTraining model).\n",
            "- This IS NOT expected if you are initializing BertForSequenceClassification from the checkpoint of a model that you expect to be exactly identical (initializing a BertForSequenceClassification model from a BertForSequenceClassification model).\n",
            "Some weights of BertForSequenceClassification were not initialized from the model checkpoint at monsoon-nlp/hindi-tpu-electra and are newly initialized: ['classifier.bias', 'classifier.weight']\n",
            "You should probably TRAIN this model on a down-stream task to be able to use it for predictions and inference.\n",
            "The tokenizer class you load from this checkpoint is not the same type as the class this function is called from. It may result in unexpected tokenization. \n",
            "The tokenizer class you load from this checkpoint is 'ElectraTokenizer'. \n",
            "The class this function is called from is 'BertTokenizer'.\n",
            "The tokenizer class you load from this checkpoint is not the same type as the class this function is called from. It may result in unexpected tokenization. \n",
            "The tokenizer class you load from this checkpoint is 'ElectraTokenizer'. \n",
            "The class this function is called from is 'BertTokenizerFast'.\n",
            "/usr/local/lib/python3.9/dist-packages/simpletransformers/classification/classification_model.py:612: UserWarning: Dataframe headers not specified. Falling back to using column 0 as text and column 1 as labels.\n",
            "  warnings.warn(\n",
            "/usr/local/lib/python3.9/dist-packages/simpletransformers/classification/classification_model.py:1454: UserWarning: Dataframe headers not specified. Falling back to using column 0 as text and column 1 as labels.\n",
            "  warnings.warn(\n"
          ]
        },
        {
          "output_type": "stream",
          "name": "stdout",
          "text": [
            "wrong predictions\n",
            "394 wrong out of 1046\n",
            "{0: 145, 2: 115, 1: 134}\n"
          ]
        }
      ]
    },
    {
      "cell_type": "code",
      "source": [
        "accuracy_iitp_tpu_electra, targets_iitp_tpu_electra, predictions_iitp_tpu_electra = evaluate_model(mdl_iitp_tpu_electra, eval_iitp_tpu_electra)"
      ],
      "metadata": {
        "id": "TZZ9MIT1rd2u"
      },
      "execution_count": null,
      "outputs": []
    },
    {
      "cell_type": "code",
      "source": [
        "print(\"Accuracy of trianing mbert is:\", accuracy_iitp_tpu_electra)\n",
        "print(\"Classification report for mbert:\",metrics.classification_report(targets_iitp_tpu_electra, predictions_iitp_tpu_electra))\n",
        "#print(\"ROC AUC Curve score:\",metrics.roc_auc_cruve(targets_iitm_mbert, predictions_iitm_mbert))"
      ],
      "metadata": {
        "colab": {
          "base_uri": "https://localhost:8080/"
        },
        "outputId": "4896b7b3-6d0a-4d79-a74b-0fad9cb17144",
        "id": "zrxWO0Bprd2u"
      },
      "execution_count": null,
      "outputs": [
        {
          "output_type": "stream",
          "name": "stdout",
          "text": [
            "Accuracy of trianing mbert is: 0.6233269598470363\n",
            "Classification report for mbert:               precision    recall  f1-score   support\n",
            "\n",
            "           0       0.12      0.04      0.06       151\n",
            "           1       0.65      0.70      0.68       451\n",
            "           2       0.65      0.74      0.69       444\n",
            "\n",
            "    accuracy                           0.62      1046\n",
            "   macro avg       0.47      0.49      0.48      1046\n",
            "weighted avg       0.57      0.62      0.59      1046\n",
            "\n"
          ]
        }
      ]
    },
    {
      "cell_type": "markdown",
      "metadata": {
        "id": "JszhP3vrnnEj"
      },
      "source": [
        "78.6-79.9% after 3 epochs at 18.6% complete\n",
        "\n",
        "75.9-76.0 3 epochs 37.7%; 80.8% at 4 epochs; 81% at 5 epochs\n",
        "\n",
        "80.8% at 3 epochs @ 47.3% trained, 80.5% at 4 epochs; 82.2% at 5 epochs\n",
        "\n",
        "tried 61.4% trained, rolled back"
      ]
    },
    {
      "cell_type": "markdown",
      "source": [
        "## Bench-marking these models against our model"
      ],
      "metadata": {
        "id": "WbU2utckLwiS"
      }
    },
    {
      "cell_type": "markdown",
      "source": [
        "### For hi_3500.csv dataset"
      ],
      "metadata": {
        "id": "7_aVohLyzUd9"
      }
    },
    {
      "cell_type": "code",
      "source": [
        "eval_frame_roberta, mdl_roberta = model_training('roberta', 'AshiNLP/Hindi-RoBERTa', train, test)"
      ],
      "metadata": {
        "colab": {
          "base_uri": "https://localhost:8080/",
          "height": 315,
          "referenced_widgets": [
            "c32cefe35e9249cf99fc50f96dafaa14",
            "16b2648a5d084adea62b9584684c00e9",
            "e0af4bfceaaa46b6b067c1559cda94c7",
            "ba85e1903a3b4e0aa1cad04978c1eada",
            "17714059005a47a69f07d80ac858d09f",
            "0bfef76c85fe4444a5b380b68cb5cec5",
            "455f11ba1d12457694151fe7762dfc9d",
            "b1c8022c61c8463eabc10cd6c2c2a52f",
            "60c46a6949d848f78f891c6b27483253",
            "68aa2773e7d34436bec4213ea8d75d58",
            "dae69a565fb8420aa4ee489ec53f8cf5",
            "a6533f7679754a33a87c477229290c60",
            "7ccd86dd43a34456848b7c44aec8fa88",
            "0663b8bcfb5a44ed9ff51d8e85253015",
            "c2b544d7406743049f71ef5516284b63",
            "b88081d07a454856bc28a8852f4fb617",
            "dff0834d1ada44ae9ed754cdabe175c4",
            "fd92df3eadbc48eb81c032aceb637fec",
            "db6b8c38943048d3bfff455fb6788997",
            "02dffde8accb46408a13d28a4e912cea",
            "15d384d57fa04f009ab374e7f0f06690",
            "a0f95955e90c49a2bc92f0c929f60b64"
          ]
        },
        "outputId": "1bab7f73-9cdb-496a-d286-d68a56d8c2b3",
        "id": "yrSADZt7zUeF"
      },
      "execution_count": 118,
      "outputs": [
        {
          "output_type": "stream",
          "name": "stderr",
          "text": [
            "Some weights of the model checkpoint at AshiNLP/Hindi-RoBERTa were not used when initializing RobertaForSequenceClassification: ['lm_head.layer_norm.weight', 'lm_head.bias', 'lm_head.layer_norm.bias', 'lm_head.dense.bias', 'lm_head.dense.weight']\n",
            "- This IS expected if you are initializing RobertaForSequenceClassification from the checkpoint of a model trained on another task or with another architecture (e.g. initializing a BertForSequenceClassification model from a BertForPreTraining model).\n",
            "- This IS NOT expected if you are initializing RobertaForSequenceClassification from the checkpoint of a model that you expect to be exactly identical (initializing a BertForSequenceClassification model from a BertForSequenceClassification model).\n",
            "Some weights of RobertaForSequenceClassification were not initialized from the model checkpoint at AshiNLP/Hindi-RoBERTa and are newly initialized: ['classifier.dense.bias', 'classifier.out_proj.bias', 'classifier.out_proj.weight', 'classifier.dense.weight']\n",
            "You should probably TRAIN this model on a down-stream task to be able to use it for predictions and inference.\n"
          ]
        },
        {
          "output_type": "display_data",
          "data": {
            "text/plain": [
              "Downloading (…)olve/main/vocab.json:   0%|          | 0.00/569k [00:00<?, ?B/s]"
            ],
            "application/vnd.jupyter.widget-view+json": {
              "version_major": 2,
              "version_minor": 0,
              "model_id": "c32cefe35e9249cf99fc50f96dafaa14"
            }
          },
          "metadata": {}
        },
        {
          "output_type": "display_data",
          "data": {
            "text/plain": [
              "Downloading (…)olve/main/merges.txt:   0%|          | 0.00/366k [00:00<?, ?B/s]"
            ],
            "application/vnd.jupyter.widget-view+json": {
              "version_major": 2,
              "version_minor": 0,
              "model_id": "a6533f7679754a33a87c477229290c60"
            }
          },
          "metadata": {}
        },
        {
          "output_type": "stream",
          "name": "stderr",
          "text": [
            "/usr/local/lib/python3.9/dist-packages/simpletransformers/classification/classification_model.py:612: UserWarning: Dataframe headers not specified. Falling back to using column 0 as text and column 1 as labels.\n",
            "  warnings.warn(\n",
            "/usr/local/lib/python3.9/dist-packages/simpletransformers/classification/classification_model.py:1454: UserWarning: Dataframe headers not specified. Falling back to using column 0 as text and column 1 as labels.\n",
            "  warnings.warn(\n"
          ]
        },
        {
          "output_type": "stream",
          "name": "stdout",
          "text": [
            "wrong predictions\n",
            "348 wrong out of 2270\n",
            "{0: 133, 2: 176, 1: 39}\n"
          ]
        }
      ]
    },
    {
      "cell_type": "code",
      "source": [
        "accuracy_roberta, targets_roberta, predictions_roberta = evaluate_model(mdl_roberta, eval_frame_roberta)"
      ],
      "metadata": {
        "id": "8T21ytNxzUeG"
      },
      "execution_count": 119,
      "outputs": []
    },
    {
      "cell_type": "code",
      "source": [
        "print(\"Accuracy of trianing mbert is:\", accuracy_roberta)\n",
        "print(\"Classification report for mbert:\",metrics.classification_report(targets_roberta, predictions_roberta))\n",
        "#print(\"ROC AUC Curve score:\",metrics.roc_auc_score(targets_mbert, predictions_mbert))"
      ],
      "metadata": {
        "colab": {
          "base_uri": "https://localhost:8080/"
        },
        "outputId": "31fe8220-9e1f-47b9-d11e-0cd1760040ce",
        "id": "LnY-mE0HzUeG"
      },
      "execution_count": 120,
      "outputs": [
        {
          "output_type": "stream",
          "name": "stdout",
          "text": [
            "Accuracy of trianing mbert is: 0.8466960352422908\n",
            "Classification report for mbert:               precision    recall  f1-score   support\n",
            "\n",
            "           0       0.80      0.83      0.82       797\n",
            "           1       0.93      0.94      0.93       661\n",
            "           2       0.83      0.78      0.81       812\n",
            "\n",
            "    accuracy                           0.85      2270\n",
            "   macro avg       0.85      0.85      0.85      2270\n",
            "weighted avg       0.85      0.85      0.85      2270\n",
            "\n"
          ]
        }
      ]
    },
    {
      "cell_type": "code",
      "source": [
        "# ROC-AUC score\n",
        "roc_auc_score_multiclass(targets_roberta, predictions_roberta)"
      ],
      "metadata": {
        "colab": {
          "base_uri": "https://localhost:8080/"
        },
        "id": "FojXz9OPSCMf",
        "outputId": "bf7f1497-8a9f-48f0-c944-230214ce15fa"
      },
      "execution_count": 121,
      "outputs": [
        {
          "output_type": "execute_result",
          "data": {
            "text/plain": [
              "{0: 0.859535631326231, 1: 0.9555831466157177, 2: 0.8463581260516126}"
            ]
          },
          "metadata": {},
          "execution_count": 121
        }
      ]
    },
    {
      "cell_type": "code",
      "source": [
        "# Confusion matrix\n",
        "confusion_mtx(targets_roberta, predictions_roberta)"
      ],
      "metadata": {
        "colab": {
          "base_uri": "https://localhost:8080/",
          "height": 552
        },
        "id": "TZl4TpM9SCMf",
        "outputId": "a7ee1419-f56b-430e-9338-0f2427eb2461"
      },
      "execution_count": 122,
      "outputs": [
        {
          "output_type": "stream",
          "name": "stdout",
          "text": [
            "Sensitivity score of the model: 0.967930029154519\n",
            "Specificity score of the model: 0.971875\n",
            "\n",
            "\n"
          ]
        },
        {
          "output_type": "display_data",
          "data": {
            "text/plain": [
              "<Figure size 640x480 with 2 Axes>"
            ],
            "image/png": "[encoded data removed]"
          },
          "metadata": {}
        }
      ]
    },
    {
      "cell_type": "code",
      "metadata": {
        "outputId": "47e16fa6-4915-44be-d90a-0fd57c18d467",
        "colab": {
          "base_uri": "https://localhost:8080/"
        },
        "id": "jEkudlcszUeG"
      },
      "source": [
        "(1 - (363 / 2270)) * 100"
      ],
      "execution_count": null,
      "outputs": [
        {
          "output_type": "execute_result",
          "data": {
            "text/plain": [
              "84.00881057268722"
            ]
          },
          "metadata": {},
          "execution_count": 35
        }
      ]
    },
    {
      "cell_type": "code",
      "source": [],
      "metadata": {
        "id": "E_0_Xpa8zUeG"
      },
      "execution_count": null,
      "outputs": []
    },
    {
      "cell_type": "markdown",
      "source": [
        "### For IITP - Movie dataset"
      ],
      "metadata": {
        "id": "3-NgAugPzUeG"
      }
    },
    {
      "cell_type": "code",
      "source": [
        "eval_iitm_roberta, mdl_iitm_roberta = model_training('roberta_iitm', 'AshiNLP/Hindi-RoBERTa', train_iitm, test_iitm)"
      ],
      "metadata": {
        "colab": {
          "base_uri": "https://localhost:8080/"
        },
        "outputId": "e125b500-6d80-4efb-a340-af25e3b12124",
        "id": "0zvnC26UzUeG"
      },
      "execution_count": null,
      "outputs": [
        {
          "output_type": "stream",
          "name": "stderr",
          "text": [
            "Some weights of the model checkpoint at AshiNLP/Hindi-RoBERTa were not used when initializing RobertaForSequenceClassification: ['lm_head.layer_norm.weight', 'lm_head.layer_norm.bias', 'lm_head.bias', 'lm_head.dense.weight', 'lm_head.dense.bias']\n",
            "- This IS expected if you are initializing RobertaForSequenceClassification from the checkpoint of a model trained on another task or with another architecture (e.g. initializing a BertForSequenceClassification model from a BertForPreTraining model).\n",
            "- This IS NOT expected if you are initializing RobertaForSequenceClassification from the checkpoint of a model that you expect to be exactly identical (initializing a BertForSequenceClassification model from a BertForSequenceClassification model).\n",
            "Some weights of RobertaForSequenceClassification were not initialized from the model checkpoint at AshiNLP/Hindi-RoBERTa and are newly initialized: ['classifier.out_proj.bias', 'classifier.dense.weight', 'classifier.dense.bias', 'classifier.out_proj.weight']\n",
            "You should probably TRAIN this model on a down-stream task to be able to use it for predictions and inference.\n",
            "/usr/local/lib/python3.9/dist-packages/simpletransformers/classification/classification_model.py:612: UserWarning: Dataframe headers not specified. Falling back to using column 0 as text and column 1 as labels.\n",
            "  warnings.warn(\n",
            "/usr/local/lib/python3.9/dist-packages/simpletransformers/classification/classification_model.py:1454: UserWarning: Dataframe headers not specified. Falling back to using column 0 as text and column 1 as labels.\n",
            "  warnings.warn(\n"
          ]
        },
        {
          "output_type": "stream",
          "name": "stdout",
          "text": [
            "wrong predictions\n",
            "279 wrong out of 620\n",
            "{0: 101, 2: 89, 1: 89}\n"
          ]
        }
      ]
    },
    {
      "cell_type": "code",
      "source": [
        "accuracy_iitm_roberta, targets_iitm_roberta, predictions_iitm_roberta = evaluate_model(mdl_iitm_roberta, eval_iitm_roberta)"
      ],
      "metadata": {
        "id": "NovT_4OfzUeG"
      },
      "execution_count": null,
      "outputs": []
    },
    {
      "cell_type": "code",
      "source": [
        "print(\"Accuracy of trianing mbert is:\", accuracy_iitm_roberta)\n",
        "print(\"Classification report for mbert:\",metrics.classification_report(targets_iitm_roberta, predictions_iitm_roberta))\n",
        "#print(\"ROC AUC Curve score:\",metrics.roc_auc_cruve(targets_iitm_mbert, predictions_iitm_mbert))"
      ],
      "metadata": {
        "colab": {
          "base_uri": "https://localhost:8080/"
        },
        "outputId": "0151f7b3-ac7f-4ea4-b78b-719b6d044df3",
        "id": "0z1zgbggzUeG"
      },
      "execution_count": null,
      "outputs": [
        {
          "output_type": "stream",
          "name": "stdout",
          "text": [
            "Accuracy of trianing mbert is: 0.55\n",
            "Classification report for mbert:               precision    recall  f1-score   support\n",
            "\n",
            "           0       0.57      0.47      0.52       191\n",
            "           1       0.46      0.47      0.47       169\n",
            "           2       0.59      0.66      0.62       260\n",
            "\n",
            "    accuracy                           0.55       620\n",
            "   macro avg       0.54      0.53      0.54       620\n",
            "weighted avg       0.55      0.55      0.55       620\n",
            "\n"
          ]
        }
      ]
    },
    {
      "cell_type": "markdown",
      "source": [
        "### For IITP - Product dataset"
      ],
      "metadata": {
        "id": "oqI5v9oOzUeG"
      }
    },
    {
      "cell_type": "code",
      "source": [
        "eval_iitp_roberta, mdl_iitp_roberta = model_training('roberta_iitp', 'AshiNLP/Hindi-RoBERTa', train_iitp, test_iitp)"
      ],
      "metadata": {
        "colab": {
          "base_uri": "https://localhost:8080/"
        },
        "outputId": "d39675ec-eb23-433a-f492-1be2831d1408",
        "id": "MJPvdtCTzUeG"
      },
      "execution_count": null,
      "outputs": [
        {
          "output_type": "stream",
          "name": "stderr",
          "text": [
            "Some weights of the model checkpoint at AshiNLP/Hindi-RoBERTa were not used when initializing RobertaForSequenceClassification: ['lm_head.layer_norm.weight', 'lm_head.layer_norm.bias', 'lm_head.bias', 'lm_head.dense.weight', 'lm_head.dense.bias']\n",
            "- This IS expected if you are initializing RobertaForSequenceClassification from the checkpoint of a model trained on another task or with another architecture (e.g. initializing a BertForSequenceClassification model from a BertForPreTraining model).\n",
            "- This IS NOT expected if you are initializing RobertaForSequenceClassification from the checkpoint of a model that you expect to be exactly identical (initializing a BertForSequenceClassification model from a BertForSequenceClassification model).\n",
            "Some weights of RobertaForSequenceClassification were not initialized from the model checkpoint at AshiNLP/Hindi-RoBERTa and are newly initialized: ['classifier.out_proj.bias', 'classifier.dense.weight', 'classifier.dense.bias', 'classifier.out_proj.weight']\n",
            "You should probably TRAIN this model on a down-stream task to be able to use it for predictions and inference.\n",
            "/usr/local/lib/python3.9/dist-packages/simpletransformers/classification/classification_model.py:612: UserWarning: Dataframe headers not specified. Falling back to using column 0 as text and column 1 as labels.\n",
            "  warnings.warn(\n",
            "/usr/local/lib/python3.9/dist-packages/simpletransformers/classification/classification_model.py:1454: UserWarning: Dataframe headers not specified. Falling back to using column 0 as text and column 1 as labels.\n",
            "  warnings.warn(\n"
          ]
        },
        {
          "output_type": "stream",
          "name": "stdout",
          "text": [
            "wrong predictions\n",
            "291 wrong out of 1046\n",
            "{0: 77, 2: 101, 1: 113}\n"
          ]
        }
      ]
    },
    {
      "cell_type": "code",
      "source": [
        "accuracy_iitp_roberta, targets_iitp_roberta, predictions_iitp_roberta = evaluate_model(mdl_iitp_roberta, eval_iitp_roberta)"
      ],
      "metadata": {
        "id": "-8eDEE2ozUeH"
      },
      "execution_count": null,
      "outputs": []
    },
    {
      "cell_type": "code",
      "source": [
        "print(\"Accuracy of trianing mbert is:\", accuracy_iitp_roberta)\n",
        "print(\"Classification report for mbert:\",metrics.classification_report(targets_iitp_roberta, predictions_iitp_roberta))\n",
        "#print(\"ROC AUC Curve score:\",metrics.roc_auc_cruve(targets_iitm_mbert, predictions_iitm_mbert))"
      ],
      "metadata": {
        "colab": {
          "base_uri": "https://localhost:8080/"
        },
        "outputId": "41b5fc38-2e63-4363-c528-baa86e8841e8",
        "id": "KbFZUlXBzUeH"
      },
      "execution_count": null,
      "outputs": [
        {
          "output_type": "stream",
          "name": "stdout",
          "text": [
            "Accuracy of trianing mbert is: 0.7217973231357553\n",
            "Classification report for mbert:               precision    recall  f1-score   support\n",
            "\n",
            "           0       0.65      0.49      0.56       151\n",
            "           1       0.73      0.75      0.74       451\n",
            "           2       0.73      0.77      0.75       444\n",
            "\n",
            "    accuracy                           0.72      1046\n",
            "   macro avg       0.70      0.67      0.68      1046\n",
            "weighted avg       0.72      0.72      0.72      1046\n",
            "\n"
          ]
        }
      ]
    },
    {
      "cell_type": "code",
      "source": [],
      "metadata": {
        "id": "Sj-xGGiCLwxV"
      },
      "execution_count": null,
      "outputs": []
    },
    {
      "cell_type": "code",
      "source": [],
      "metadata": {
        "id": "xozi08C6OPj4"
      },
      "execution_count": null,
      "outputs": []
    },
    {
      "cell_type": "code",
      "source": [],
      "metadata": {
        "id": "Aa7LopqDOPmO"
      },
      "execution_count": null,
      "outputs": []
    },
    {
      "cell_type": "code",
      "source": [],
      "metadata": {
        "id": "mdVE5qqYOPqo"
      },
      "execution_count": null,
      "outputs": []
    },
    {
      "cell_type": "code",
      "source": [],
      "metadata": {
        "id": "jBkcGILfOPuy"
      },
      "execution_count": null,
      "outputs": []
    },
    {
      "cell_type": "markdown",
      "metadata": {
        "id": "MsxfTRkm0tYk"
      },
      "source": [
        "## Tokenization check"
      ]
    },
    {
      "cell_type": "code",
      "source": [
        "from transformers import pipeline\n",
        "sentiment_analysis = pipeline(\"sentiment-analysis\", model=\"AshiNLP/Hindi-RoBERTa\")"
      ],
      "metadata": {
        "colab": {
          "base_uri": "https://localhost:8080/",
          "height": 366,
          "referenced_widgets": [
            "b55dbda1f09f43f3a0c6591bacaa4ca2",
            "03ce066f4ded4f40919715e87e3b6d98",
            "ef7d05e6474642329872ebafd6f5d2c0",
            "789b4ddbeebf4fd79bd77acae2e0f61f",
            "49724f65a5464bbe918b49ad99ca4cce",
            "9200d35268eb42d1a4b80e48da507522",
            "aba315f3ecf74b07aca19b840a217ffd",
            "2d42038d79ac4ad284c7d0f27ba456a3",
            "e521e7d0333c4e2bbbd0f2cd98ba61d8",
            "437bf049e3164445a1450e2e3ac26eb8",
            "c6527a17dbd844d59df5f8ea1eb5b86a",
            "feead70603934de2850546a8b77c6c97",
            "bb6d93b81d7a40f9ac6b99ace0a9735f",
            "ca31e71cdab844fab59f5f3d030723a2",
            "6057176f565c46bd85949280e3a41acc",
            "ca8cc050472045f3b36bc51b1bfaf1ab",
            "4ded40e9b7a14f38816d422b0071ba1e",
            "a8038b87c5c4432e87042d722e088f2f",
            "24b9c11b10c242c58c7a9cf1975a450c",
            "f75dfe9da86d415aaa76bffbf041a447",
            "cde41eaf6c69427ebbf0e9697338be5b",
            "5716399e79304166a9e98486af9d1a81",
            "e15ffc6d890f43ebaeb99877b59c5db6",
            "6aafa060dbe049528b70e462b06683e7",
            "04269a2fca584559a6b99c0da0059aec",
            "1aad097ebc8f483aa8291c8249ab9304",
            "752023d6ccac44afbedc94fd62b4b865",
            "d65b2173da114e33afbf367f4fd51224",
            "ea699dd08ae846a989eabb001b916a34",
            "fc6d7b6272cc414fa2c03288b7485ba0",
            "5909da45219b4955af4e09bed8c1ceb5",
            "e92120d801844964928ffc271022c65f",
            "11db3fdb50dc4112ae4afa888c2d5016",
            "551480858ac34176878cd1d9c277b152",
            "d89b6bcd07804dce888f7f1b510e4a26",
            "76d272e8021f4c43b87cd3fd6bb006d6",
            "81bf82997b59452c85bfa084d35cb671",
            "2024cbe7327c48c59fd425319dda13a4",
            "087b6ccc428443cfafc8704f4cce0546",
            "d85f147ba613489fa777474d4b2fd766",
            "2c7c6f41b9f840809199beaa2a747ff2",
            "6cc8690ba7cd4d1e954e1512575f6980",
            "3bf07ca2c73b4bb5ad71d7f8d391e34c",
            "695e1dfac53746f0872b00a1018353bc"
          ]
        },
        "id": "Ei2GNLpHPWWm",
        "outputId": "91437467-9a90-40c1-a6a9-3b852b35a94b"
      },
      "execution_count": null,
      "outputs": [
        {
          "output_type": "display_data",
          "data": {
            "text/plain": [
              "Downloading (…)lve/main/config.json:   0%|          | 0.00/671 [00:00<?, ?B/s]"
            ],
            "application/vnd.jupyter.widget-view+json": {
              "version_major": 2,
              "version_minor": 0,
              "model_id": "b55dbda1f09f43f3a0c6591bacaa4ca2"
            }
          },
          "metadata": {}
        },
        {
          "output_type": "display_data",
          "data": {
            "text/plain": [
              "Downloading pytorch_model.bin:   0%|          | 0.00/268M [00:00<?, ?B/s]"
            ],
            "application/vnd.jupyter.widget-view+json": {
              "version_major": 2,
              "version_minor": 0,
              "model_id": "feead70603934de2850546a8b77c6c97"
            }
          },
          "metadata": {}
        },
        {
          "output_type": "stream",
          "name": "stderr",
          "text": [
            "Some weights of the model checkpoint at AshiNLP/Hindi-RoBERTa were not used when initializing RobertaForSequenceClassification: ['lm_head.dense.bias', 'lm_head.layer_norm.bias', 'lm_head.dense.weight', 'lm_head.layer_norm.weight', 'lm_head.bias']\n",
            "- This IS expected if you are initializing RobertaForSequenceClassification from the checkpoint of a model trained on another task or with another architecture (e.g. initializing a BertForSequenceClassification model from a BertForPreTraining model).\n",
            "- This IS NOT expected if you are initializing RobertaForSequenceClassification from the checkpoint of a model that you expect to be exactly identical (initializing a BertForSequenceClassification model from a BertForSequenceClassification model).\n",
            "Some weights of RobertaForSequenceClassification were not initialized from the model checkpoint at AshiNLP/Hindi-RoBERTa and are newly initialized: ['classifier.dense.bias', 'classifier.dense.weight', 'classifier.out_proj.weight', 'classifier.out_proj.bias']\n",
            "You should probably TRAIN this model on a down-stream task to be able to use it for predictions and inference.\n"
          ]
        },
        {
          "output_type": "display_data",
          "data": {
            "text/plain": [
              "Downloading (…)olve/main/vocab.json:   0%|          | 0.00/569k [00:00<?, ?B/s]"
            ],
            "application/vnd.jupyter.widget-view+json": {
              "version_major": 2,
              "version_minor": 0,
              "model_id": "e15ffc6d890f43ebaeb99877b59c5db6"
            }
          },
          "metadata": {}
        },
        {
          "output_type": "display_data",
          "data": {
            "text/plain": [
              "Downloading (…)olve/main/merges.txt:   0%|          | 0.00/366k [00:00<?, ?B/s]"
            ],
            "application/vnd.jupyter.widget-view+json": {
              "version_major": 2,
              "version_minor": 0,
              "model_id": "551480858ac34176878cd1d9c277b152"
            }
          },
          "metadata": {}
        }
      ]
    },
    {
      "cell_type": "code",
      "source": [
        "result = sentiment_analysis('मुझे फिल्म पसंद नहीं आई')\n",
        "print(result)"
      ],
      "metadata": {
        "colab": {
          "base_uri": "https://localhost:8080/"
        },
        "id": "RISn7zr8PWY0",
        "outputId": "02988ff6-f80d-4fa7-8a6e-25383af32516"
      },
      "execution_count": null,
      "outputs": [
        {
          "output_type": "stream",
          "name": "stdout",
          "text": [
            "[{'label': 'LABEL_1', 'score': 0.5405981540679932}]\n"
          ]
        }
      ]
    },
    {
      "cell_type": "code",
      "source": [
        "sentiment_analysis2 = pipeline(\"sentiment-analysis\", model=\"monsoon-nlp/hindi-tpu-electra\")"
      ],
      "metadata": {
        "colab": {
          "base_uri": "https://localhost:8080/",
          "height": 426,
          "referenced_widgets": [
            "2569d0b477aa4c0591497e3345695283",
            "273d14b10d6a43aeb01baacedd87a19a",
            "7f6e0d1f2eec4ce4b3572da11c9ac2d6",
            "e9bc068348d14575a492fa10cc41d2ad",
            "134d6943af6a4cc986e005d90346e640",
            "88502985999f479aaeea1b756035f69f",
            "cd2636736f294991922d2894f0d38d4c",
            "484475039a984e41a0a886a1b7c0a8a6",
            "cefc504d31ce47418066b4ee3d392793",
            "f59a741b19614603bdae1ef624deda8e",
            "c8d3bd7b8ea8452bb2ff452d7c102293",
            "783f5d60d90f4899838cad3b62558ebd",
            "896241c4267a4f458d8ebdbb730d3639",
            "63bf60575f4149b5abc78f046650d692",
            "5edd9c0f24bd414894356bf6f773d3f1",
            "345db38090824814affa7987caa6d691",
            "4448eea1ca9e4a7cb70a6ca92f3305e6",
            "fca2716456bc4ed3b68a4b1d7be51173",
            "fe697fd06684403d8c12a9ebb60975fa",
            "684853bb6bb2493d8b6314d298c9a3df",
            "99641e20261f48f99ed7879c6ead2cf9",
            "c37886da868b4266bfe091c13982fa69",
            "e4fef6f484984eccab0769e7aee57ac7",
            "61cffa88e7cf477db5a9d342e4a12bf0",
            "ef6c8206137c446187597be79e49a191",
            "d5cb4152dab4489aadc0849d34aec151",
            "b1a2c717acb2418ca467df2d0f5d823d",
            "f2cdaeaf0ebe474891921bebffee099f",
            "1bec843c87074835a35bfb27754eb50c",
            "6b6b29423a724ad293886e8ebc4981eb",
            "92b8869f536249b797210d99deab519b",
            "1c863cd80da3438380d2813cd12bfe8b",
            "5d1c30c3a5064eada4203b05c0ddb08b",
            "13fc27eac3184f899d7baa5d38dccb59",
            "0ff454c429f74b859ebe9f14062febfe",
            "5dfb0273c9494649950900631565fbf0",
            "7e321313330e433db94ce20435187c5c",
            "7eddab8917d4428c9d245fbdefe48843",
            "5f61e0908d0b44cdb82fc7c0773ab51b",
            "6c51a796149547f9bf113db89581749c",
            "c9d82de452dc4ad28be1110169526162",
            "7d06d3bc5d4e4bc7a802c5897d583c29",
            "5f253493e1fa486ea0c8187e416ea389",
            "52de63e40f964d42aaf6a4c282afd5a2",
            "4a6ee139996043f5b5bb4c696be1a40c",
            "74bbeee3a3e54c0582a11f888d8704f7",
            "97ac103f776044d5968acb70f3764559",
            "237102dc947145f583e963d29fd868f9",
            "574033ffec934671a3050d332b80d21e",
            "9c671fd871a54e949c9d93f0cb6c5417",
            "d58ad78725874426933b6899cb689244",
            "86084531e6c24fab8937a7e271254e76",
            "367c6d6990ed4f38809796b4bf48710f",
            "1dae5de947ba4180b54cb6b6a16faae8",
            "eee908cc87dc4948a427692be264f8c2"
          ]
        },
        "id": "kMcSSb4ZPWbF",
        "outputId": "9be8dcc9-de00-4a25-8bda-c29cea28157b"
      },
      "execution_count": null,
      "outputs": [
        {
          "output_type": "display_data",
          "data": {
            "text/plain": [
              "Downloading (…)lve/main/config.json:   0%|          | 0.00/736 [00:00<?, ?B/s]"
            ],
            "application/vnd.jupyter.widget-view+json": {
              "version_major": 2,
              "version_minor": 0,
              "model_id": "2569d0b477aa4c0591497e3345695283"
            }
          },
          "metadata": {}
        },
        {
          "output_type": "display_data",
          "data": {
            "text/plain": [
              "Downloading pytorch_model.bin:   0%|          | 0.00/466M [00:00<?, ?B/s]"
            ],
            "application/vnd.jupyter.widget-view+json": {
              "version_major": 2,
              "version_minor": 0,
              "model_id": "783f5d60d90f4899838cad3b62558ebd"
            }
          },
          "metadata": {}
        },
        {
          "output_type": "stream",
          "name": "stderr",
          "text": [
            "Some weights of the model checkpoint at monsoon-nlp/hindi-tpu-electra were not used when initializing ElectraForSequenceClassification: ['discriminator_predictions.dense_prediction.weight', 'discriminator_predictions.dense.bias', 'discriminator_predictions.dense.weight', 'discriminator_predictions.dense_prediction.bias']\n",
            "- This IS expected if you are initializing ElectraForSequenceClassification from the checkpoint of a model trained on another task or with another architecture (e.g. initializing a BertForSequenceClassification model from a BertForPreTraining model).\n",
            "- This IS NOT expected if you are initializing ElectraForSequenceClassification from the checkpoint of a model that you expect to be exactly identical (initializing a BertForSequenceClassification model from a BertForSequenceClassification model).\n",
            "Some weights of ElectraForSequenceClassification were not initialized from the model checkpoint at monsoon-nlp/hindi-tpu-electra and are newly initialized: ['classifier.dense.weight', 'classifier.out_proj.weight', 'classifier.out_proj.bias', 'classifier.dense.bias']\n",
            "You should probably TRAIN this model on a down-stream task to be able to use it for predictions and inference.\n"
          ]
        },
        {
          "output_type": "display_data",
          "data": {
            "text/plain": [
              "Downloading (…)okenizer_config.json:   0%|          | 0.00/181 [00:00<?, ?B/s]"
            ],
            "application/vnd.jupyter.widget-view+json": {
              "version_major": 2,
              "version_minor": 0,
              "model_id": "e4fef6f484984eccab0769e7aee57ac7"
            }
          },
          "metadata": {}
        },
        {
          "output_type": "display_data",
          "data": {
            "text/plain": [
              "Downloading (…)solve/main/vocab.txt:   0%|          | 0.00/607k [00:00<?, ?B/s]"
            ],
            "application/vnd.jupyter.widget-view+json": {
              "version_major": 2,
              "version_minor": 0,
              "model_id": "13fc27eac3184f899d7baa5d38dccb59"
            }
          },
          "metadata": {}
        },
        {
          "output_type": "display_data",
          "data": {
            "text/plain": [
              "Downloading (…)cial_tokens_map.json:   0%|          | 0.00/112 [00:00<?, ?B/s]"
            ],
            "application/vnd.jupyter.widget-view+json": {
              "version_major": 2,
              "version_minor": 0,
              "model_id": "4a6ee139996043f5b5bb4c696be1a40c"
            }
          },
          "metadata": {}
        }
      ]
    },
    {
      "cell_type": "code",
      "source": [
        "result = sentiment_analysis2('मुझे फिल्म पसंद नहीं आई')\n",
        "print(result)"
      ],
      "metadata": {
        "colab": {
          "base_uri": "https://localhost:8080/"
        },
        "id": "CI7IOPiAPob0",
        "outputId": "15c3a763-e8cb-43e6-81a9-37d3c89a6ad9"
      },
      "execution_count": null,
      "outputs": [
        {
          "output_type": "stream",
          "name": "stdout",
          "text": [
            "[{'label': 'LABEL_0', 'score': 0.5000351071357727}]\n"
          ]
        }
      ]
    },
    {
      "cell_type": "code",
      "metadata": {
        "id": "-nW4rVJBmxey",
        "outputId": "58f3b9f6-177f-4cc3-ef45-ad69e8916fd0",
        "colab": {
          "base_uri": "https://localhost:8080/",
          "height": 73
        }
      },
      "source": [
        "from transformers import AutoTokenizer\n",
        "s = 'मुझे फिल्म पसंद है।'\n",
        "tokenizer = AutoTokenizer.from_pretrained('AshiNLP/Hindi-RoBERTa')\n",
        "encoded = tokenizer.encode(s)\n",
        "print(encoded)\n",
        "tokenizer.decode(encoded)"
      ],
      "execution_count": null,
      "outputs": [
        {
          "output_type": "stream",
          "name": "stdout",
          "text": [
            "[0, 295, 298, 459, 266, 371, 273, 285, 270, 295, 910, 275, 302, 288, 361, 2]\n"
          ]
        },
        {
          "output_type": "execute_result",
          "data": {
            "text/plain": [
              "'<s>मुझे फिल्म पसंद है।</s>'"
            ],
            "application/vnd.google.colaboratory.intrinsic+json": {
              "type": "string"
            }
          },
          "metadata": {},
          "execution_count": 27
        }
      ]
    },
    {
      "cell_type": "code",
      "source": [
        "from transformers import AutoTokenizer\n",
        "s = 'विकिपीडिया सभी विषयों पर प्रामाणिक और उपयोग, परिवर्तन व पुनर्वितरण के लिए स्वतन्त्र ज्ञानकोश बनाने का एक बहुभाषीय प्रकल्प है।'\n",
        "tokenizer = AutoTokenizer.from_pretrained('monsoon-nlp/hindi-tpu-electra')\n",
        "encoded = tokenizer.encode(s)\n",
        "print(encoded)\n",
        "tokenizer.decode(encoded)"
      ],
      "metadata": {
        "colab": {
          "base_uri": "https://localhost:8080/",
          "height": 91
        },
        "id": "a0QugiOZO4XN",
        "outputId": "f85a5746-e858-4459-c55f-c32ef10457fe"
      },
      "execution_count": null,
      "outputs": [
        {
          "output_type": "stream",
          "name": "stdout",
          "text": [
            "[3, 8798, 2376, 5147, 1912, 11928, 1900, 2380, 16, 3643, 477, 19821, 29329, 1075, 1885, 1948, 7567, 27771, 2971, 1899, 1909, 28969, 1038, 32491, 1886, 507, 4]\n"
          ]
        },
        {
          "output_type": "execute_result",
          "data": {
            "text/plain": [
              "'[CLS] विकिपीडिया सभी विषयों पर प्रामाणिक और उपयोग, परिवर्तन व पुनर्वितरण के लिए स्वतन्त्र ज्ञानकोश बनाने का एक बहुभाषीय प्रकल्प है । [SEP]'"
            ],
            "application/vnd.google.colaboratory.intrinsic+json": {
              "type": "string"
            }
          },
          "metadata": {},
          "execution_count": 22
        }
      ]
    },
    {
      "cell_type": "markdown",
      "metadata": {
        "id": "V2HPGeqg0SF_"
      },
      "source": [
        "## Multi-label Hindi challenge"
      ]
    },
    {
      "cell_type": "code",
      "metadata": {
        "id": "gY5VVkq70JYI",
        "outputId": "e3b6d9a7-9b6c-44ad-8505-1d08b8f98fbc",
        "colab": {
          "base_uri": "https://localhost:8080/",
          "height": 204
        }
      },
      "source": [
        "import csv\n",
        "\n",
        "rdr = csv.reader(open(\"./Constraint_Hindi_Train.csv\", 'r'))\n",
        "headers = None\n",
        "\n",
        "processed = []\n",
        "\n",
        "for row in rdr:\n",
        "  if headers is None:\n",
        "    headers = row\n",
        "  else:\n",
        "    processed.append([ row[1], [\n",
        "      1 if 'non-hostile' in row[2] else 0,\n",
        "      1 if 'hate' in row[2] else 0,\n",
        "      1 if 'offensive' in row[2] else 0,\n",
        "      1 if 'fake' in row[2] else 0,\n",
        "      1 if 'defamation' in row[2] else 0,\n",
        "    ]])\n",
        "train_df = pd.DataFrame(processed)\n",
        "train_df.head()"
      ],
      "execution_count": null,
      "outputs": [
        {
          "output_type": "execute_result",
          "data": {
            "text/html": [
              "<div>\n",
              "<style scoped>\n",
              "    .dataframe tbody tr th:only-of-type {\n",
              "        vertical-align: middle;\n",
              "    }\n",
              "\n",
              "    .dataframe tbody tr th {\n",
              "        vertical-align: top;\n",
              "    }\n",
              "\n",
              "    .dataframe thead th {\n",
              "        text-align: right;\n",
              "    }\n",
              "</style>\n",
              "<table border=\"1\" class=\"dataframe\">\n",
              "  <thead>\n",
              "    <tr style=\"text-align: right;\">\n",
              "      <th></th>\n",
              "      <th>0</th>\n",
              "      <th>1</th>\n",
              "    </tr>\n",
              "  </thead>\n",
              "  <tbody>\n",
              "    <tr>\n",
              "      <th>0</th>\n",
              "      <td>मेरे देश के हिन्दु बहुत निराले है। कुछ तो पक्क...</td>\n",
              "      <td>[0, 1, 1, 0, 0]</td>\n",
              "    </tr>\n",
              "    <tr>\n",
              "      <th>1</th>\n",
              "      <td>सरकार हमेशा से किसानों की कमाई को बढ़ाने के लि...</td>\n",
              "      <td>[1, 0, 0, 0, 0]</td>\n",
              "    </tr>\n",
              "    <tr>\n",
              "      <th>2</th>\n",
              "      <td>सुशांत ने जो बिजनेस डील 9 जून को की थी, वो डील...</td>\n",
              "      <td>[1, 0, 0, 0, 0]</td>\n",
              "    </tr>\n",
              "    <tr>\n",
              "      <th>3</th>\n",
              "      <td>@prabhav218 साले जेएनयू छाप कमिने लोग हिन्दुओं...</td>\n",
              "      <td>[0, 0, 1, 0, 1]</td>\n",
              "    </tr>\n",
              "    <tr>\n",
              "      <th>4</th>\n",
              "      <td>#unlock4guidelines - अनलॉक-4 के लिए गाइडलाइन्स...</td>\n",
              "      <td>[1, 0, 0, 0, 0]</td>\n",
              "    </tr>\n",
              "  </tbody>\n",
              "</table>\n",
              "</div>"
            ],
            "text/plain": [
              "                                                   0                1\n",
              "0  मेरे देश के हिन्दु बहुत निराले है। कुछ तो पक्क...  [0, 1, 1, 0, 0]\n",
              "1  सरकार हमेशा से किसानों की कमाई को बढ़ाने के लि...  [1, 0, 0, 0, 0]\n",
              "2  सुशांत ने जो बिजनेस डील 9 जून को की थी, वो डील...  [1, 0, 0, 0, 0]\n",
              "3  @prabhav218 साले जेएनयू छाप कमिने लोग हिन्दुओं...  [0, 0, 1, 0, 1]\n",
              "4  #unlock4guidelines - अनलॉक-4 के लिए गाइडलाइन्स...  [1, 0, 0, 0, 0]"
            ]
          },
          "metadata": {
            "tags": []
          },
          "execution_count": 11
        }
      ]
    },
    {
      "cell_type": "code",
      "metadata": {
        "id": "uxlpcxrB3Ffz",
        "outputId": "536dc203-9152-405d-d9a4-78f1af1543b2",
        "colab": {
          "base_uri": "https://localhost:8080/",
          "height": 34
        }
      },
      "source": [
        "from simpletransformers.classification import MultiLabelClassificationModel"
      ],
      "execution_count": null,
      "outputs": [
        {
          "output_type": "stream",
          "text": [
            "\u001b[34m\u001b[1mwandb\u001b[0m: \u001b[33mWARNING\u001b[0m W&B installed but not logged in.  Run `wandb login` or set the WANDB_API_KEY env variable.\n"
          ],
          "name": "stderr"
        }
      ]
    },
    {
      "cell_type": "code",
      "metadata": {
        "id": "Gf6a24So050q",
        "outputId": "5a7cbd11-df94-43ca-9579-67ffc5765ab2",
        "colab": {
          "base_uri": "https://localhost:8080/",
          "height": 847,
          "referenced_widgets": [
            "6626b16198d24235bc8de57b868e5341",
            "400bdd57488540b49dddec1b0fd49bcd",
            "fac5704c058b4f459358b65303f0ff59",
            "9cf64bd3476340818d3ba7b7a7f1f77f",
            "f35db86b0f214bf9af33966c07179dff",
            "8d6840f05ea14e36a7c157107e53c7c4",
            "5b4d04141dc94830b9f13e3393ea1a64",
            "1fb7c7e79b9e4402875b35d2ab2915e3",
            "48c189f0cb7245c69331e115168ea619",
            "21b5795f54114ad9b57aa0a87a30e9da",
            "d47362caeaf74e25bc29f8f914dd5b13",
            "84b8e14e7cf447f3aaa795b9c8bc7e94",
            "d63897a0fa6b465c97ba1901d7e94a4d",
            "67cb6ce49e464e1eb013bdcf7f6ace35",
            "12bcd9f68864404b9e170a85c6f28483",
            "01d3b954854c4cc08a44f41fa3ea5e67",
            "42705dc12e084dd0bde0b292bca1d1f6",
            "c90f54feece340eb923cc654093895c8",
            "0c18c213d90b4a149d3b2e9004ae9093",
            "108a37588d1a4869aebb01e1fbed8bdc",
            "e2ed5d18ad6e44cbaf2a661f0900207e",
            "f3f1e23b633847e28f84374f42931188",
            "d28d50cf3fe6424a931ea966b217779b",
            "0c68ce0dac994182a93a5cbb3235caf6",
            "e066b246d398483bbf8747c121403f25",
            "4c3c5174c10744728cbd739eb4094ef7",
            "d164db88163345df82d54a999d37f3ec",
            "4dd3b98351af4707be22b6665bb67aaa",
            "dba3833e8d9b4e39aa1fb4a4493f8e99",
            "b52188daff7f4b1b86ae9aa040f5dda5",
            "3b666144a1294bd7857054cffe4cbc95",
            "7446d56c9f9d4d6aa8cfb7f2b293f8f5",
            "ce684990abf84cdd833c45f6b8e0ca73"
          ]
        }
      },
      "source": [
        "model = MultiLabelClassificationModel(\n",
        "    'electra',\n",
        "    'monsoon-nlp/hindi-tpu-electra',\n",
        "    num_labels=5,\n",
        "    args={'reprocess_input_data': True, 'overwrite_output_dir': True, 'num_train_epochs': 1}\n",
        ")\n",
        "model.train_model(train_df)"
      ],
      "execution_count": null,
      "outputs": [
        {
          "output_type": "stream",
          "text": [
            "Some weights of the model checkpoint at monsoon-nlp/hindi-tpu-electra were not used when initializing ElectraForMultiLabelSequenceClassification: ['discriminator_predictions.dense.weight', 'discriminator_predictions.dense.bias', 'discriminator_predictions.dense_prediction.weight', 'discriminator_predictions.dense_prediction.bias']\n",
            "- This IS expected if you are initializing ElectraForMultiLabelSequenceClassification from the checkpoint of a model trained on another task or with another architecture (e.g. initializing a BertForSequenceClassification model from a BertForPretraining model).\n",
            "- This IS NOT expected if you are initializing ElectraForMultiLabelSequenceClassification from the checkpoint of a model that you expect to be exactly identical (initializing a BertForSequenceClassification model from a BertForSequenceClassification model).\n",
            "Some weights of ElectraForMultiLabelSequenceClassification were not initialized from the model checkpoint at monsoon-nlp/hindi-tpu-electra and are newly initialized: ['pooler.dense.weight', 'pooler.dense.bias', 'classifier.weight', 'classifier.bias']\n",
            "You should probably TRAIN this model on a down-stream task to be able to use it for predictions and inference.\n",
            "/usr/local/lib/python3.6/dist-packages/simpletransformers/classification/classification_model.py:353: UserWarning: Dataframe headers not specified. Falling back to using column 0 as text and column 1 as labels.\n",
            "  \"Dataframe headers not specified. Falling back to using column 0 as text and column 1 as labels.\"\n"
          ],
          "name": "stderr"
        },
        {
          "output_type": "display_data",
          "data": {
            "application/vnd.jupyter.widget-view+json": {
              "model_id": "6626b16198d24235bc8de57b868e5341",
              "version_minor": 0,
              "version_major": 2
            },
            "text/plain": [
              "HBox(children=(HTML(value=''), FloatProgress(value=0.0, max=5728.0), HTML(value='')))"
            ]
          },
          "metadata": {
            "tags": []
          }
        },
        {
          "output_type": "stream",
          "text": [
            "Exception ignored in: <bound method _MultiProcessingDataLoaderIter.__del__ of <torch.utils.data.dataloader._MultiProcessingDataLoaderIter object at 0x7f1330390ef0>>\n",
            "Traceback (most recent call last):\n",
            "  File \"/usr/local/lib/python3.6/dist-packages/torch/utils/data/dataloader.py\", line 1101, in __del__\n",
            "    self._shutdown_workers()\n",
            "  File \"/usr/local/lib/python3.6/dist-packages/torch/utils/data/dataloader.py\", line 1075, in _shutdown_workers\n",
            "    w.join(timeout=_utils.MP_STATUS_CHECK_INTERVAL)\n",
            "  File \"/usr/lib/python3.6/multiprocessing/process.py\", line 122, in join\n",
            "    assert self._parent_pid == os.getpid(), 'can only join a child process'\n",
            "AssertionError: can only join a child process\n",
            "Exception ignored in: <bound method _MultiProcessingDataLoaderIter.__del__ of <torch.utils.data.dataloader._MultiProcessingDataLoaderIter object at 0x7f1311d0fa90>>\n",
            "Traceback (most recent call last):\n",
            "  File \"/usr/local/lib/python3.6/dist-packages/torch/utils/data/dataloader.py\", line 1101, in __del__\n",
            "    self._shutdown_workers()\n",
            "  File \"/usr/local/lib/python3.6/dist-packages/torch/utils/data/dataloader.py\", line 1075, in _shutdown_workers\n",
            "    w.join(timeout=_utils.MP_STATUS_CHECK_INTERVAL)\n",
            "  File \"/usr/lib/python3.6/multiprocessing/process.py\", line 122, in join\n",
            "    assert self._parent_pid == os.getpid(), 'can only join a child process'\n",
            "AssertionError: can only join a child process\n",
            "Exception ignored in: <bound method _MultiProcessingDataLoaderIter.__del__ of <torch.utils.data.dataloader._MultiProcessingDataLoaderIter object at 0x7f1330e17908>>\n",
            "Traceback (most recent call last):\n",
            "  File \"/usr/local/lib/python3.6/dist-packages/torch/utils/data/dataloader.py\", line 1101, in __del__\n",
            "    self._shutdown_workers()\n",
            "  File \"/usr/local/lib/python3.6/dist-packages/torch/utils/data/dataloader.py\", line 1075, in _shutdown_workers\n",
            "    w.join(timeout=_utils.MP_STATUS_CHECK_INTERVAL)\n",
            "  File \"/usr/lib/python3.6/multiprocessing/process.py\", line 122, in join\n",
            "    assert self._parent_pid == os.getpid(), 'can only join a child process'\n",
            "AssertionError: can only join a child process\n"
          ],
          "name": "stderr"
        },
        {
          "output_type": "stream",
          "text": [
            "\n"
          ],
          "name": "stdout"
        },
        {
          "output_type": "display_data",
          "data": {
            "application/vnd.jupyter.widget-view+json": {
              "model_id": "84b8e14e7cf447f3aaa795b9c8bc7e94",
              "version_minor": 0,
              "version_major": 2
            },
            "text/plain": [
              "HBox(children=(HTML(value='Epoch'), FloatProgress(value=0.0, max=1.0), HTML(value='')))"
            ]
          },
          "metadata": {
            "tags": []
          }
        },
        {
          "output_type": "display_data",
          "data": {
            "application/vnd.jupyter.widget-view+json": {
              "model_id": "d28d50cf3fe6424a931ea966b217779b",
              "version_minor": 0,
              "version_major": 2
            },
            "text/plain": [
              "HBox(children=(HTML(value='Running Epoch 0 of 1'), FloatProgress(value=0.0, max=716.0), HTML(value='')))"
            ]
          },
          "metadata": {
            "tags": []
          }
        },
        {
          "output_type": "stream",
          "text": [
            "/usr/local/lib/python3.6/dist-packages/torch/optim/lr_scheduler.py:231: UserWarning: To get the last learning rate computed by the scheduler, please use `get_last_lr()`.\n",
            "  warnings.warn(\"To get the last learning rate computed by the scheduler, \"\n"
          ],
          "name": "stderr"
        },
        {
          "output_type": "stream",
          "text": [
            "\n"
          ],
          "name": "stdout"
        },
        {
          "output_type": "stream",
          "text": [
            "/usr/local/lib/python3.6/dist-packages/torch/optim/lr_scheduler.py:200: UserWarning: Please also save or load the state of the optimzer when saving or loading the scheduler.\n",
            "  warnings.warn(SAVE_STATE_WARNING, UserWarning)\n"
          ],
          "name": "stderr"
        },
        {
          "output_type": "stream",
          "text": [
            "\n"
          ],
          "name": "stdout"
        },
        {
          "output_type": "execute_result",
          "data": {
            "text/plain": [
              "(716, 0.4983071446127399)"
            ]
          },
          "metadata": {
            "tags": []
          },
          "execution_count": 23
        }
      ]
    },
    {
      "cell_type": "code",
      "metadata": {
        "id": "D8ZQ8Bi53a68",
        "outputId": "91bb65d0-7a19-4ec5-fd42-0f8eae903680",
        "colab": {
          "base_uri": "https://localhost:8080/",
          "height": 204
        }
      },
      "source": [
        "rdr = csv.reader(open(\"./Constraint_Hindi_Valid.csv\", 'r'))\n",
        "headers = None\n",
        "\n",
        "validp = []\n",
        "txts = []\n",
        "\n",
        "for row in rdr:\n",
        "  if headers is None:\n",
        "    headers = row\n",
        "  else:\n",
        "    txts.append(row[1])\n",
        "    validp.append([ row[1], [\n",
        "      1 if 'non-hostile' in row[2] else 0,\n",
        "      1 if 'hate' in row[2] else 0,\n",
        "      1 if 'offensive' in row[2] else 0,\n",
        "      1 if 'fake' in row[2] else 0,\n",
        "      1 if 'defamation' in row[2] else 0,\n",
        "    ]])\n",
        "valid_df = pd.DataFrame(validp)\n",
        "valid_df.head()"
      ],
      "execution_count": null,
      "outputs": [
        {
          "output_type": "execute_result",
          "data": {
            "text/html": [
              "<div>\n",
              "<style scoped>\n",
              "    .dataframe tbody tr th:only-of-type {\n",
              "        vertical-align: middle;\n",
              "    }\n",
              "\n",
              "    .dataframe tbody tr th {\n",
              "        vertical-align: top;\n",
              "    }\n",
              "\n",
              "    .dataframe thead th {\n",
              "        text-align: right;\n",
              "    }\n",
              "</style>\n",
              "<table border=\"1\" class=\"dataframe\">\n",
              "  <thead>\n",
              "    <tr style=\"text-align: right;\">\n",
              "      <th></th>\n",
              "      <th>0</th>\n",
              "      <th>1</th>\n",
              "    </tr>\n",
              "  </thead>\n",
              "  <tbody>\n",
              "    <tr>\n",
              "      <th>0</th>\n",
              "      <td>दृढ़ इच्छा शक्ति से परिपूर्ण प्रणबदा के लिए दे...</td>\n",
              "      <td>[1, 0, 0, 0, 0]</td>\n",
              "    </tr>\n",
              "    <tr>\n",
              "      <th>1</th>\n",
              "      <td>भारतीय जनता पार्टी rss वाले इतने गिरे हुए हैं ...</td>\n",
              "      <td>[0, 0, 0, 0, 1]</td>\n",
              "    </tr>\n",
              "    <tr>\n",
              "      <th>2</th>\n",
              "      <td>कोरोना से निपटने की तैयारी / दिल्ली में 10 हजा...</td>\n",
              "      <td>[1, 0, 0, 0, 0]</td>\n",
              "    </tr>\n",
              "    <tr>\n",
              "      <th>3</th>\n",
              "      <td>गवर्नर कॉन्फ्रेंस में PM मोदी बोले- शिक्षा नीत...</td>\n",
              "      <td>[1, 0, 0, 0, 0]</td>\n",
              "    </tr>\n",
              "    <tr>\n",
              "      <th>4</th>\n",
              "      <td>यूपी: गाजीपुर में Toilet घोटाला, प्रधान व सचिव...</td>\n",
              "      <td>[1, 0, 0, 0, 0]</td>\n",
              "    </tr>\n",
              "  </tbody>\n",
              "</table>\n",
              "</div>"
            ],
            "text/plain": [
              "                                                   0                1\n",
              "0  दृढ़ इच्छा शक्ति से परिपूर्ण प्रणबदा के लिए दे...  [1, 0, 0, 0, 0]\n",
              "1  भारतीय जनता पार्टी rss वाले इतने गिरे हुए हैं ...  [0, 0, 0, 0, 1]\n",
              "2  कोरोना से निपटने की तैयारी / दिल्ली में 10 हजा...  [1, 0, 0, 0, 0]\n",
              "3  गवर्नर कॉन्फ्रेंस में PM मोदी बोले- शिक्षा नीत...  [1, 0, 0, 0, 0]\n",
              "4  यूपी: गाजीपुर में Toilet घोटाला, प्रधान व सचिव...  [1, 0, 0, 0, 0]"
            ]
          },
          "metadata": {
            "tags": []
          },
          "execution_count": 47
        }
      ]
    },
    {
      "cell_type": "code",
      "metadata": {
        "id": "CQPIVbQv8rzm",
        "outputId": "b667ed56-43a9-4a09-eeac-fad83a5c5bb9",
        "colab": {
          "base_uri": "https://localhost:8080/",
          "height": 115,
          "referenced_widgets": [
            "7b4d16900b464ffbb3607f32d295a8aa",
            "51387812bcb64ee2b8f9ea63364b89f2",
            "150d8a6dc59c439c875301b1960dd283",
            "29970fb7167747b4885b24d6c924bdc8",
            "767dad1a2dba4bd6baf3a6b89f66f260",
            "050c3685739f494b8f98a912af858134",
            "4d969a8232e4489e86ad1a428a1ff960",
            "97a74cb0673c4e40ba3b19d61661b7c3",
            "8191090d35884bc5bded9240c36e48b4",
            "45c118acb54e4b2a8822c97df6b2f8ed",
            "d2bb42b088ff45dfac42247754601da8",
            "ebf89885f06344c9a1ddf5fd91a24cb8",
            "6d2da655e2c4478c9a2314b53dd88112",
            "dd948c6c9e684ed88a3742f368195f30",
            "6072b50a373e418ab79ccc4091e80df3",
            "4cda0190efb24470b73ed18184573d76",
            "b59c587f35d44ff8b132f6a7285b374b",
            "a5901c122b2a4c9fb9807e1b767dfc85",
            "58072911b7234bccb57292f0bae423be",
            "9e415ee725504428979688cc2963c060",
            "ea89591c84e84d0886513d97747f5038",
            "6c20daab840f4dc7afae656a4e095448"
          ]
        }
      },
      "source": [
        "labels, raws = model.predict(txts, multi_label=True)\n",
        "\n",
        "index = 0\n",
        "matches = 0\n",
        "for row in validp:\n",
        "  if row[1] == labels[index]:\n",
        "    matches += 1\n",
        "  # else:\n",
        "  #   print(\"no match\")\n",
        "  #   print(row[1])\n",
        "  #   print(labels[index])\n",
        "  index += 1"
      ],
      "execution_count": null,
      "outputs": [
        {
          "output_type": "display_data",
          "data": {
            "application/vnd.jupyter.widget-view+json": {
              "model_id": "7b4d16900b464ffbb3607f32d295a8aa",
              "version_minor": 0,
              "version_major": 2
            },
            "text/plain": [
              "HBox(children=(HTML(value=''), FloatProgress(value=0.0, max=811.0), HTML(value='')))"
            ]
          },
          "metadata": {
            "tags": []
          }
        },
        {
          "output_type": "stream",
          "text": [
            "\n"
          ],
          "name": "stdout"
        },
        {
          "output_type": "display_data",
          "data": {
            "application/vnd.jupyter.widget-view+json": {
              "model_id": "ebf89885f06344c9a1ddf5fd91a24cb8",
              "version_minor": 0,
              "version_major": 2
            },
            "text/plain": [
              "HBox(children=(HTML(value=''), FloatProgress(value=0.0, max=102.0), HTML(value='')))"
            ]
          },
          "metadata": {
            "tags": []
          }
        },
        {
          "output_type": "stream",
          "text": [
            "\n"
          ],
          "name": "stdout"
        }
      ]
    },
    {
      "cell_type": "code",
      "metadata": {
        "id": "W1MDCeEu9VI7",
        "outputId": "22c0c06a-27a2-43e5-a0b6-bb7b7f6cb677",
        "colab": {
          "base_uri": "https://localhost:8080/",
          "height": 34
        }
      },
      "source": [
        "# exact matches 53.6% of the time\n",
        "# some weird issue using eval_model, had returned 0/0\n",
        "matches / len(validp)"
      ],
      "execution_count": null,
      "outputs": [
        {
          "output_type": "execute_result",
          "data": {
            "text/plain": [
              "0.5363748458692972"
            ]
          },
          "metadata": {
            "tags": []
          },
          "execution_count": 50
        }
      ]
    },
    {
      "cell_type": "code",
      "metadata": {
        "id": "EtVGlI1S8Gbd",
        "outputId": "077723ba-70ae-48a3-d761-d0421a758272",
        "colab": {
          "base_uri": "https://localhost:8080/",
          "height": 34
        }
      },
      "source": [
        "result"
      ],
      "execution_count": null,
      "outputs": [
        {
          "output_type": "execute_result",
          "data": {
            "text/plain": [
              "{'LRAP': 0.7139214275928205, 'eval_loss': 0.455153253002494}"
            ]
          },
          "metadata": {
            "tags": []
          },
          "execution_count": 51
        }
      ]
    }
  ]
}